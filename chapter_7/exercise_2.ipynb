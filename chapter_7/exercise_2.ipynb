{
  "nbformat": 4,
  "nbformat_minor": 0,
  "metadata": {
    "colab": {
      "provenance": [],
      "authorship_tag": "ABX9TyMBXoiX4kEyHELZ04Mj9NoC"
    },
    "kernelspec": {
      "name": "python3",
      "display_name": "Python 3"
    },
    "language_info": {
      "name": "python"
    },
    "widgets": {
      "application/vnd.jupyter.widget-state+json": {
        "f9c5a23741564850b2a66f3b78c2dc32": {
          "model_module": "@jupyter-widgets/controls",
          "model_name": "HBoxModel",
          "model_module_version": "1.5.0",
          "state": {
            "_dom_classes": [],
            "_model_module": "@jupyter-widgets/controls",
            "_model_module_version": "1.5.0",
            "_model_name": "HBoxModel",
            "_view_count": null,
            "_view_module": "@jupyter-widgets/controls",
            "_view_module_version": "1.5.0",
            "_view_name": "HBoxView",
            "box_style": "",
            "children": [
              "IPY_MODEL_76e64b6e995543469cfc16cd3f286e7f",
              "IPY_MODEL_ec2c30de525940d5a4814c98b8e2253a",
              "IPY_MODEL_a9ad0a9bb8c94c8a8e675cedeea3ec18"
            ],
            "layout": "IPY_MODEL_a622385627bf47c58f713d3423a47fac"
          }
        },
        "76e64b6e995543469cfc16cd3f286e7f": {
          "model_module": "@jupyter-widgets/controls",
          "model_name": "HTMLModel",
          "model_module_version": "1.5.0",
          "state": {
            "_dom_classes": [],
            "_model_module": "@jupyter-widgets/controls",
            "_model_module_version": "1.5.0",
            "_model_name": "HTMLModel",
            "_view_count": null,
            "_view_module": "@jupyter-widgets/controls",
            "_view_module_version": "1.5.0",
            "_view_name": "HTMLView",
            "description": "",
            "description_tooltip": null,
            "layout": "IPY_MODEL_7b9f37bcc52e41e89f2576fa0c61f33e",
            "placeholder": "​",
            "style": "IPY_MODEL_e9be5ea2b48a42088035b87bdc0dc36e",
            "value": "Downloading readme: 100%"
          }
        },
        "ec2c30de525940d5a4814c98b8e2253a": {
          "model_module": "@jupyter-widgets/controls",
          "model_name": "FloatProgressModel",
          "model_module_version": "1.5.0",
          "state": {
            "_dom_classes": [],
            "_model_module": "@jupyter-widgets/controls",
            "_model_module_version": "1.5.0",
            "_model_name": "FloatProgressModel",
            "_view_count": null,
            "_view_module": "@jupyter-widgets/controls",
            "_view_module_version": "1.5.0",
            "_view_name": "ProgressView",
            "bar_style": "success",
            "description": "",
            "description_tooltip": null,
            "layout": "IPY_MODEL_411405c9191549e4b79839773120bf33",
            "max": 5157,
            "min": 0,
            "orientation": "horizontal",
            "style": "IPY_MODEL_a7e39c5a0c564c17a06bab8f4710c0ee",
            "value": 5157
          }
        },
        "a9ad0a9bb8c94c8a8e675cedeea3ec18": {
          "model_module": "@jupyter-widgets/controls",
          "model_name": "HTMLModel",
          "model_module_version": "1.5.0",
          "state": {
            "_dom_classes": [],
            "_model_module": "@jupyter-widgets/controls",
            "_model_module_version": "1.5.0",
            "_model_name": "HTMLModel",
            "_view_count": null,
            "_view_module": "@jupyter-widgets/controls",
            "_view_module_version": "1.5.0",
            "_view_name": "HTMLView",
            "description": "",
            "description_tooltip": null,
            "layout": "IPY_MODEL_37fcd704712f4b2eb85c1fb64aa5c0a6",
            "placeholder": "​",
            "style": "IPY_MODEL_c5b93cc4a80248d7816210fc7382c02b",
            "value": " 5.16k/5.16k [00:00&lt;00:00, 338kB/s]"
          }
        },
        "a622385627bf47c58f713d3423a47fac": {
          "model_module": "@jupyter-widgets/base",
          "model_name": "LayoutModel",
          "model_module_version": "1.2.0",
          "state": {
            "_model_module": "@jupyter-widgets/base",
            "_model_module_version": "1.2.0",
            "_model_name": "LayoutModel",
            "_view_count": null,
            "_view_module": "@jupyter-widgets/base",
            "_view_module_version": "1.2.0",
            "_view_name": "LayoutView",
            "align_content": null,
            "align_items": null,
            "align_self": null,
            "border": null,
            "bottom": null,
            "display": null,
            "flex": null,
            "flex_flow": null,
            "grid_area": null,
            "grid_auto_columns": null,
            "grid_auto_flow": null,
            "grid_auto_rows": null,
            "grid_column": null,
            "grid_gap": null,
            "grid_row": null,
            "grid_template_areas": null,
            "grid_template_columns": null,
            "grid_template_rows": null,
            "height": null,
            "justify_content": null,
            "justify_items": null,
            "left": null,
            "margin": null,
            "max_height": null,
            "max_width": null,
            "min_height": null,
            "min_width": null,
            "object_fit": null,
            "object_position": null,
            "order": null,
            "overflow": null,
            "overflow_x": null,
            "overflow_y": null,
            "padding": null,
            "right": null,
            "top": null,
            "visibility": null,
            "width": null
          }
        },
        "7b9f37bcc52e41e89f2576fa0c61f33e": {
          "model_module": "@jupyter-widgets/base",
          "model_name": "LayoutModel",
          "model_module_version": "1.2.0",
          "state": {
            "_model_module": "@jupyter-widgets/base",
            "_model_module_version": "1.2.0",
            "_model_name": "LayoutModel",
            "_view_count": null,
            "_view_module": "@jupyter-widgets/base",
            "_view_module_version": "1.2.0",
            "_view_name": "LayoutView",
            "align_content": null,
            "align_items": null,
            "align_self": null,
            "border": null,
            "bottom": null,
            "display": null,
            "flex": null,
            "flex_flow": null,
            "grid_area": null,
            "grid_auto_columns": null,
            "grid_auto_flow": null,
            "grid_auto_rows": null,
            "grid_column": null,
            "grid_gap": null,
            "grid_row": null,
            "grid_template_areas": null,
            "grid_template_columns": null,
            "grid_template_rows": null,
            "height": null,
            "justify_content": null,
            "justify_items": null,
            "left": null,
            "margin": null,
            "max_height": null,
            "max_width": null,
            "min_height": null,
            "min_width": null,
            "object_fit": null,
            "object_position": null,
            "order": null,
            "overflow": null,
            "overflow_x": null,
            "overflow_y": null,
            "padding": null,
            "right": null,
            "top": null,
            "visibility": null,
            "width": null
          }
        },
        "e9be5ea2b48a42088035b87bdc0dc36e": {
          "model_module": "@jupyter-widgets/controls",
          "model_name": "DescriptionStyleModel",
          "model_module_version": "1.5.0",
          "state": {
            "_model_module": "@jupyter-widgets/controls",
            "_model_module_version": "1.5.0",
            "_model_name": "DescriptionStyleModel",
            "_view_count": null,
            "_view_module": "@jupyter-widgets/base",
            "_view_module_version": "1.2.0",
            "_view_name": "StyleView",
            "description_width": ""
          }
        },
        "411405c9191549e4b79839773120bf33": {
          "model_module": "@jupyter-widgets/base",
          "model_name": "LayoutModel",
          "model_module_version": "1.2.0",
          "state": {
            "_model_module": "@jupyter-widgets/base",
            "_model_module_version": "1.2.0",
            "_model_name": "LayoutModel",
            "_view_count": null,
            "_view_module": "@jupyter-widgets/base",
            "_view_module_version": "1.2.0",
            "_view_name": "LayoutView",
            "align_content": null,
            "align_items": null,
            "align_self": null,
            "border": null,
            "bottom": null,
            "display": null,
            "flex": null,
            "flex_flow": null,
            "grid_area": null,
            "grid_auto_columns": null,
            "grid_auto_flow": null,
            "grid_auto_rows": null,
            "grid_column": null,
            "grid_gap": null,
            "grid_row": null,
            "grid_template_areas": null,
            "grid_template_columns": null,
            "grid_template_rows": null,
            "height": null,
            "justify_content": null,
            "justify_items": null,
            "left": null,
            "margin": null,
            "max_height": null,
            "max_width": null,
            "min_height": null,
            "min_width": null,
            "object_fit": null,
            "object_position": null,
            "order": null,
            "overflow": null,
            "overflow_x": null,
            "overflow_y": null,
            "padding": null,
            "right": null,
            "top": null,
            "visibility": null,
            "width": null
          }
        },
        "a7e39c5a0c564c17a06bab8f4710c0ee": {
          "model_module": "@jupyter-widgets/controls",
          "model_name": "ProgressStyleModel",
          "model_module_version": "1.5.0",
          "state": {
            "_model_module": "@jupyter-widgets/controls",
            "_model_module_version": "1.5.0",
            "_model_name": "ProgressStyleModel",
            "_view_count": null,
            "_view_module": "@jupyter-widgets/base",
            "_view_module_version": "1.2.0",
            "_view_name": "StyleView",
            "bar_color": null,
            "description_width": ""
          }
        },
        "37fcd704712f4b2eb85c1fb64aa5c0a6": {
          "model_module": "@jupyter-widgets/base",
          "model_name": "LayoutModel",
          "model_module_version": "1.2.0",
          "state": {
            "_model_module": "@jupyter-widgets/base",
            "_model_module_version": "1.2.0",
            "_model_name": "LayoutModel",
            "_view_count": null,
            "_view_module": "@jupyter-widgets/base",
            "_view_module_version": "1.2.0",
            "_view_name": "LayoutView",
            "align_content": null,
            "align_items": null,
            "align_self": null,
            "border": null,
            "bottom": null,
            "display": null,
            "flex": null,
            "flex_flow": null,
            "grid_area": null,
            "grid_auto_columns": null,
            "grid_auto_flow": null,
            "grid_auto_rows": null,
            "grid_column": null,
            "grid_gap": null,
            "grid_row": null,
            "grid_template_areas": null,
            "grid_template_columns": null,
            "grid_template_rows": null,
            "height": null,
            "justify_content": null,
            "justify_items": null,
            "left": null,
            "margin": null,
            "max_height": null,
            "max_width": null,
            "min_height": null,
            "min_width": null,
            "object_fit": null,
            "object_position": null,
            "order": null,
            "overflow": null,
            "overflow_x": null,
            "overflow_y": null,
            "padding": null,
            "right": null,
            "top": null,
            "visibility": null,
            "width": null
          }
        },
        "c5b93cc4a80248d7816210fc7382c02b": {
          "model_module": "@jupyter-widgets/controls",
          "model_name": "DescriptionStyleModel",
          "model_module_version": "1.5.0",
          "state": {
            "_model_module": "@jupyter-widgets/controls",
            "_model_module_version": "1.5.0",
            "_model_name": "DescriptionStyleModel",
            "_view_count": null,
            "_view_module": "@jupyter-widgets/base",
            "_view_module_version": "1.2.0",
            "_view_name": "StyleView",
            "description_width": ""
          }
        },
        "2e5fc87b496b44faa5247ac2f1d78b26": {
          "model_module": "@jupyter-widgets/controls",
          "model_name": "HBoxModel",
          "model_module_version": "1.5.0",
          "state": {
            "_dom_classes": [],
            "_model_module": "@jupyter-widgets/controls",
            "_model_module_version": "1.5.0",
            "_model_name": "HBoxModel",
            "_view_count": null,
            "_view_module": "@jupyter-widgets/controls",
            "_view_module_version": "1.5.0",
            "_view_name": "HBoxView",
            "box_style": "",
            "children": [
              "IPY_MODEL_00075f27f1464d14a5244a5cb7fc819c",
              "IPY_MODEL_0c7abf312ea24dafaa9b63b48207aefa",
              "IPY_MODEL_e16606475e7c44a68296aeec31f23581"
            ],
            "layout": "IPY_MODEL_5f9098d182c342dd926b3dda1fa13268"
          }
        },
        "00075f27f1464d14a5244a5cb7fc819c": {
          "model_module": "@jupyter-widgets/controls",
          "model_name": "HTMLModel",
          "model_module_version": "1.5.0",
          "state": {
            "_dom_classes": [],
            "_model_module": "@jupyter-widgets/controls",
            "_model_module_version": "1.5.0",
            "_model_name": "HTMLModel",
            "_view_count": null,
            "_view_module": "@jupyter-widgets/controls",
            "_view_module_version": "1.5.0",
            "_view_name": "HTMLView",
            "description": "",
            "description_tooltip": null,
            "layout": "IPY_MODEL_d890d430c8d84d5a8878a22dd42734a0",
            "placeholder": "​",
            "style": "IPY_MODEL_5905c7085c3d4887b35f343f86f977f9",
            "value": "Downloading data: 100%"
          }
        },
        "0c7abf312ea24dafaa9b63b48207aefa": {
          "model_module": "@jupyter-widgets/controls",
          "model_name": "FloatProgressModel",
          "model_module_version": "1.5.0",
          "state": {
            "_dom_classes": [],
            "_model_module": "@jupyter-widgets/controls",
            "_model_module_version": "1.5.0",
            "_model_name": "FloatProgressModel",
            "_view_count": null,
            "_view_module": "@jupyter-widgets/controls",
            "_view_module_version": "1.5.0",
            "_view_name": "ProgressView",
            "bar_style": "success",
            "description": "",
            "description_tooltip": null,
            "layout": "IPY_MODEL_cb7d8bf329c2484eab20bb94106e37bc",
            "max": 119705255,
            "min": 0,
            "orientation": "horizontal",
            "style": "IPY_MODEL_7fd6e0985ba94f4f88ab63c57fe4d7bd",
            "value": 119705255
          }
        },
        "e16606475e7c44a68296aeec31f23581": {
          "model_module": "@jupyter-widgets/controls",
          "model_name": "HTMLModel",
          "model_module_version": "1.5.0",
          "state": {
            "_dom_classes": [],
            "_model_module": "@jupyter-widgets/controls",
            "_model_module_version": "1.5.0",
            "_model_name": "HTMLModel",
            "_view_count": null,
            "_view_module": "@jupyter-widgets/controls",
            "_view_module_version": "1.5.0",
            "_view_name": "HTMLView",
            "description": "",
            "description_tooltip": null,
            "layout": "IPY_MODEL_58adaba2395343d1bd2c5678e8e05f4c",
            "placeholder": "​",
            "style": "IPY_MODEL_f7c456fecb71417e93ea80eb3d612fca",
            "value": " 120M/120M [00:04&lt;00:00, 51.3MB/s]"
          }
        },
        "5f9098d182c342dd926b3dda1fa13268": {
          "model_module": "@jupyter-widgets/base",
          "model_name": "LayoutModel",
          "model_module_version": "1.2.0",
          "state": {
            "_model_module": "@jupyter-widgets/base",
            "_model_module_version": "1.2.0",
            "_model_name": "LayoutModel",
            "_view_count": null,
            "_view_module": "@jupyter-widgets/base",
            "_view_module_version": "1.2.0",
            "_view_name": "LayoutView",
            "align_content": null,
            "align_items": null,
            "align_self": null,
            "border": null,
            "bottom": null,
            "display": null,
            "flex": null,
            "flex_flow": null,
            "grid_area": null,
            "grid_auto_columns": null,
            "grid_auto_flow": null,
            "grid_auto_rows": null,
            "grid_column": null,
            "grid_gap": null,
            "grid_row": null,
            "grid_template_areas": null,
            "grid_template_columns": null,
            "grid_template_rows": null,
            "height": null,
            "justify_content": null,
            "justify_items": null,
            "left": null,
            "margin": null,
            "max_height": null,
            "max_width": null,
            "min_height": null,
            "min_width": null,
            "object_fit": null,
            "object_position": null,
            "order": null,
            "overflow": null,
            "overflow_x": null,
            "overflow_y": null,
            "padding": null,
            "right": null,
            "top": null,
            "visibility": null,
            "width": null
          }
        },
        "d890d430c8d84d5a8878a22dd42734a0": {
          "model_module": "@jupyter-widgets/base",
          "model_name": "LayoutModel",
          "model_module_version": "1.2.0",
          "state": {
            "_model_module": "@jupyter-widgets/base",
            "_model_module_version": "1.2.0",
            "_model_name": "LayoutModel",
            "_view_count": null,
            "_view_module": "@jupyter-widgets/base",
            "_view_module_version": "1.2.0",
            "_view_name": "LayoutView",
            "align_content": null,
            "align_items": null,
            "align_self": null,
            "border": null,
            "bottom": null,
            "display": null,
            "flex": null,
            "flex_flow": null,
            "grid_area": null,
            "grid_auto_columns": null,
            "grid_auto_flow": null,
            "grid_auto_rows": null,
            "grid_column": null,
            "grid_gap": null,
            "grid_row": null,
            "grid_template_areas": null,
            "grid_template_columns": null,
            "grid_template_rows": null,
            "height": null,
            "justify_content": null,
            "justify_items": null,
            "left": null,
            "margin": null,
            "max_height": null,
            "max_width": null,
            "min_height": null,
            "min_width": null,
            "object_fit": null,
            "object_position": null,
            "order": null,
            "overflow": null,
            "overflow_x": null,
            "overflow_y": null,
            "padding": null,
            "right": null,
            "top": null,
            "visibility": null,
            "width": null
          }
        },
        "5905c7085c3d4887b35f343f86f977f9": {
          "model_module": "@jupyter-widgets/controls",
          "model_name": "DescriptionStyleModel",
          "model_module_version": "1.5.0",
          "state": {
            "_model_module": "@jupyter-widgets/controls",
            "_model_module_version": "1.5.0",
            "_model_name": "DescriptionStyleModel",
            "_view_count": null,
            "_view_module": "@jupyter-widgets/base",
            "_view_module_version": "1.2.0",
            "_view_name": "StyleView",
            "description_width": ""
          }
        },
        "cb7d8bf329c2484eab20bb94106e37bc": {
          "model_module": "@jupyter-widgets/base",
          "model_name": "LayoutModel",
          "model_module_version": "1.2.0",
          "state": {
            "_model_module": "@jupyter-widgets/base",
            "_model_module_version": "1.2.0",
            "_model_name": "LayoutModel",
            "_view_count": null,
            "_view_module": "@jupyter-widgets/base",
            "_view_module_version": "1.2.0",
            "_view_name": "LayoutView",
            "align_content": null,
            "align_items": null,
            "align_self": null,
            "border": null,
            "bottom": null,
            "display": null,
            "flex": null,
            "flex_flow": null,
            "grid_area": null,
            "grid_auto_columns": null,
            "grid_auto_flow": null,
            "grid_auto_rows": null,
            "grid_column": null,
            "grid_gap": null,
            "grid_row": null,
            "grid_template_areas": null,
            "grid_template_columns": null,
            "grid_template_rows": null,
            "height": null,
            "justify_content": null,
            "justify_items": null,
            "left": null,
            "margin": null,
            "max_height": null,
            "max_width": null,
            "min_height": null,
            "min_width": null,
            "object_fit": null,
            "object_position": null,
            "order": null,
            "overflow": null,
            "overflow_x": null,
            "overflow_y": null,
            "padding": null,
            "right": null,
            "top": null,
            "visibility": null,
            "width": null
          }
        },
        "7fd6e0985ba94f4f88ab63c57fe4d7bd": {
          "model_module": "@jupyter-widgets/controls",
          "model_name": "ProgressStyleModel",
          "model_module_version": "1.5.0",
          "state": {
            "_model_module": "@jupyter-widgets/controls",
            "_model_module_version": "1.5.0",
            "_model_name": "ProgressStyleModel",
            "_view_count": null,
            "_view_module": "@jupyter-widgets/base",
            "_view_module_version": "1.2.0",
            "_view_name": "StyleView",
            "bar_color": null,
            "description_width": ""
          }
        },
        "58adaba2395343d1bd2c5678e8e05f4c": {
          "model_module": "@jupyter-widgets/base",
          "model_name": "LayoutModel",
          "model_module_version": "1.2.0",
          "state": {
            "_model_module": "@jupyter-widgets/base",
            "_model_module_version": "1.2.0",
            "_model_name": "LayoutModel",
            "_view_count": null,
            "_view_module": "@jupyter-widgets/base",
            "_view_module_version": "1.2.0",
            "_view_name": "LayoutView",
            "align_content": null,
            "align_items": null,
            "align_self": null,
            "border": null,
            "bottom": null,
            "display": null,
            "flex": null,
            "flex_flow": null,
            "grid_area": null,
            "grid_auto_columns": null,
            "grid_auto_flow": null,
            "grid_auto_rows": null,
            "grid_column": null,
            "grid_gap": null,
            "grid_row": null,
            "grid_template_areas": null,
            "grid_template_columns": null,
            "grid_template_rows": null,
            "height": null,
            "justify_content": null,
            "justify_items": null,
            "left": null,
            "margin": null,
            "max_height": null,
            "max_width": null,
            "min_height": null,
            "min_width": null,
            "object_fit": null,
            "object_position": null,
            "order": null,
            "overflow": null,
            "overflow_x": null,
            "overflow_y": null,
            "padding": null,
            "right": null,
            "top": null,
            "visibility": null,
            "width": null
          }
        },
        "f7c456fecb71417e93ea80eb3d612fca": {
          "model_module": "@jupyter-widgets/controls",
          "model_name": "DescriptionStyleModel",
          "model_module_version": "1.5.0",
          "state": {
            "_model_module": "@jupyter-widgets/controls",
            "_model_module_version": "1.5.0",
            "_model_name": "DescriptionStyleModel",
            "_view_count": null,
            "_view_module": "@jupyter-widgets/base",
            "_view_module_version": "1.2.0",
            "_view_name": "StyleView",
            "description_width": ""
          }
        },
        "acf63d583bf34ca0ad46e4bf494f2925": {
          "model_module": "@jupyter-widgets/controls",
          "model_name": "HBoxModel",
          "model_module_version": "1.5.0",
          "state": {
            "_dom_classes": [],
            "_model_module": "@jupyter-widgets/controls",
            "_model_module_version": "1.5.0",
            "_model_name": "HBoxModel",
            "_view_count": null,
            "_view_module": "@jupyter-widgets/controls",
            "_view_module_version": "1.5.0",
            "_view_name": "HBoxView",
            "box_style": "",
            "children": [
              "IPY_MODEL_4fde0cafc2af49dda7880076bba0fba7",
              "IPY_MODEL_720bcb5d6f0e4f8d97e476a99f649d46",
              "IPY_MODEL_21e3951cd0e247b7978451e5302b0d96"
            ],
            "layout": "IPY_MODEL_a10d439f6e59413a8284fbd0ec29688b"
          }
        },
        "4fde0cafc2af49dda7880076bba0fba7": {
          "model_module": "@jupyter-widgets/controls",
          "model_name": "HTMLModel",
          "model_module_version": "1.5.0",
          "state": {
            "_dom_classes": [],
            "_model_module": "@jupyter-widgets/controls",
            "_model_module_version": "1.5.0",
            "_model_name": "HTMLModel",
            "_view_count": null,
            "_view_module": "@jupyter-widgets/controls",
            "_view_module_version": "1.5.0",
            "_view_name": "HTMLView",
            "description": "",
            "description_tooltip": null,
            "layout": "IPY_MODEL_7d929acdd856493a98eb12ab096145c8",
            "placeholder": "​",
            "style": "IPY_MODEL_f9cfb8a7b07742f2baadfdfcda60b53e",
            "value": "Downloading data: 100%"
          }
        },
        "720bcb5d6f0e4f8d97e476a99f649d46": {
          "model_module": "@jupyter-widgets/controls",
          "model_name": "FloatProgressModel",
          "model_module_version": "1.5.0",
          "state": {
            "_dom_classes": [],
            "_model_module": "@jupyter-widgets/controls",
            "_model_module_version": "1.5.0",
            "_model_name": "FloatProgressModel",
            "_view_count": null,
            "_view_module": "@jupyter-widgets/controls",
            "_view_module_version": "1.5.0",
            "_view_name": "ProgressView",
            "bar_style": "success",
            "description": "",
            "description_tooltip": null,
            "layout": "IPY_MODEL_48c963b3b6414388acb4ee02618b65d4",
            "max": 23940850,
            "min": 0,
            "orientation": "horizontal",
            "style": "IPY_MODEL_1ed894d0a00c41d1b24dc3b12aded091",
            "value": 23940850
          }
        },
        "21e3951cd0e247b7978451e5302b0d96": {
          "model_module": "@jupyter-widgets/controls",
          "model_name": "HTMLModel",
          "model_module_version": "1.5.0",
          "state": {
            "_dom_classes": [],
            "_model_module": "@jupyter-widgets/controls",
            "_model_module_version": "1.5.0",
            "_model_name": "HTMLModel",
            "_view_count": null,
            "_view_module": "@jupyter-widgets/controls",
            "_view_module_version": "1.5.0",
            "_view_name": "HTMLView",
            "description": "",
            "description_tooltip": null,
            "layout": "IPY_MODEL_d80abca4f6a146d6a8138c211019fbbf",
            "placeholder": "​",
            "style": "IPY_MODEL_16d8b54e6af24e7c90636feb6b9b9d7f",
            "value": " 23.9M/23.9M [00:01&lt;00:00, 15.9MB/s]"
          }
        },
        "a10d439f6e59413a8284fbd0ec29688b": {
          "model_module": "@jupyter-widgets/base",
          "model_name": "LayoutModel",
          "model_module_version": "1.2.0",
          "state": {
            "_model_module": "@jupyter-widgets/base",
            "_model_module_version": "1.2.0",
            "_model_name": "LayoutModel",
            "_view_count": null,
            "_view_module": "@jupyter-widgets/base",
            "_view_module_version": "1.2.0",
            "_view_name": "LayoutView",
            "align_content": null,
            "align_items": null,
            "align_self": null,
            "border": null,
            "bottom": null,
            "display": null,
            "flex": null,
            "flex_flow": null,
            "grid_area": null,
            "grid_auto_columns": null,
            "grid_auto_flow": null,
            "grid_auto_rows": null,
            "grid_column": null,
            "grid_gap": null,
            "grid_row": null,
            "grid_template_areas": null,
            "grid_template_columns": null,
            "grid_template_rows": null,
            "height": null,
            "justify_content": null,
            "justify_items": null,
            "left": null,
            "margin": null,
            "max_height": null,
            "max_width": null,
            "min_height": null,
            "min_width": null,
            "object_fit": null,
            "object_position": null,
            "order": null,
            "overflow": null,
            "overflow_x": null,
            "overflow_y": null,
            "padding": null,
            "right": null,
            "top": null,
            "visibility": null,
            "width": null
          }
        },
        "7d929acdd856493a98eb12ab096145c8": {
          "model_module": "@jupyter-widgets/base",
          "model_name": "LayoutModel",
          "model_module_version": "1.2.0",
          "state": {
            "_model_module": "@jupyter-widgets/base",
            "_model_module_version": "1.2.0",
            "_model_name": "LayoutModel",
            "_view_count": null,
            "_view_module": "@jupyter-widgets/base",
            "_view_module_version": "1.2.0",
            "_view_name": "LayoutView",
            "align_content": null,
            "align_items": null,
            "align_self": null,
            "border": null,
            "bottom": null,
            "display": null,
            "flex": null,
            "flex_flow": null,
            "grid_area": null,
            "grid_auto_columns": null,
            "grid_auto_flow": null,
            "grid_auto_rows": null,
            "grid_column": null,
            "grid_gap": null,
            "grid_row": null,
            "grid_template_areas": null,
            "grid_template_columns": null,
            "grid_template_rows": null,
            "height": null,
            "justify_content": null,
            "justify_items": null,
            "left": null,
            "margin": null,
            "max_height": null,
            "max_width": null,
            "min_height": null,
            "min_width": null,
            "object_fit": null,
            "object_position": null,
            "order": null,
            "overflow": null,
            "overflow_x": null,
            "overflow_y": null,
            "padding": null,
            "right": null,
            "top": null,
            "visibility": null,
            "width": null
          }
        },
        "f9cfb8a7b07742f2baadfdfcda60b53e": {
          "model_module": "@jupyter-widgets/controls",
          "model_name": "DescriptionStyleModel",
          "model_module_version": "1.5.0",
          "state": {
            "_model_module": "@jupyter-widgets/controls",
            "_model_module_version": "1.5.0",
            "_model_name": "DescriptionStyleModel",
            "_view_count": null,
            "_view_module": "@jupyter-widgets/base",
            "_view_module_version": "1.2.0",
            "_view_name": "StyleView",
            "description_width": ""
          }
        },
        "48c963b3b6414388acb4ee02618b65d4": {
          "model_module": "@jupyter-widgets/base",
          "model_name": "LayoutModel",
          "model_module_version": "1.2.0",
          "state": {
            "_model_module": "@jupyter-widgets/base",
            "_model_module_version": "1.2.0",
            "_model_name": "LayoutModel",
            "_view_count": null,
            "_view_module": "@jupyter-widgets/base",
            "_view_module_version": "1.2.0",
            "_view_name": "LayoutView",
            "align_content": null,
            "align_items": null,
            "align_self": null,
            "border": null,
            "bottom": null,
            "display": null,
            "flex": null,
            "flex_flow": null,
            "grid_area": null,
            "grid_auto_columns": null,
            "grid_auto_flow": null,
            "grid_auto_rows": null,
            "grid_column": null,
            "grid_gap": null,
            "grid_row": null,
            "grid_template_areas": null,
            "grid_template_columns": null,
            "grid_template_rows": null,
            "height": null,
            "justify_content": null,
            "justify_items": null,
            "left": null,
            "margin": null,
            "max_height": null,
            "max_width": null,
            "min_height": null,
            "min_width": null,
            "object_fit": null,
            "object_position": null,
            "order": null,
            "overflow": null,
            "overflow_x": null,
            "overflow_y": null,
            "padding": null,
            "right": null,
            "top": null,
            "visibility": null,
            "width": null
          }
        },
        "1ed894d0a00c41d1b24dc3b12aded091": {
          "model_module": "@jupyter-widgets/controls",
          "model_name": "ProgressStyleModel",
          "model_module_version": "1.5.0",
          "state": {
            "_model_module": "@jupyter-widgets/controls",
            "_model_module_version": "1.5.0",
            "_model_name": "ProgressStyleModel",
            "_view_count": null,
            "_view_module": "@jupyter-widgets/base",
            "_view_module_version": "1.2.0",
            "_view_name": "StyleView",
            "bar_color": null,
            "description_width": ""
          }
        },
        "d80abca4f6a146d6a8138c211019fbbf": {
          "model_module": "@jupyter-widgets/base",
          "model_name": "LayoutModel",
          "model_module_version": "1.2.0",
          "state": {
            "_model_module": "@jupyter-widgets/base",
            "_model_module_version": "1.2.0",
            "_model_name": "LayoutModel",
            "_view_count": null,
            "_view_module": "@jupyter-widgets/base",
            "_view_module_version": "1.2.0",
            "_view_name": "LayoutView",
            "align_content": null,
            "align_items": null,
            "align_self": null,
            "border": null,
            "bottom": null,
            "display": null,
            "flex": null,
            "flex_flow": null,
            "grid_area": null,
            "grid_auto_columns": null,
            "grid_auto_flow": null,
            "grid_auto_rows": null,
            "grid_column": null,
            "grid_gap": null,
            "grid_row": null,
            "grid_template_areas": null,
            "grid_template_columns": null,
            "grid_template_rows": null,
            "height": null,
            "justify_content": null,
            "justify_items": null,
            "left": null,
            "margin": null,
            "max_height": null,
            "max_width": null,
            "min_height": null,
            "min_width": null,
            "object_fit": null,
            "object_position": null,
            "order": null,
            "overflow": null,
            "overflow_x": null,
            "overflow_y": null,
            "padding": null,
            "right": null,
            "top": null,
            "visibility": null,
            "width": null
          }
        },
        "16d8b54e6af24e7c90636feb6b9b9d7f": {
          "model_module": "@jupyter-widgets/controls",
          "model_name": "DescriptionStyleModel",
          "model_module_version": "1.5.0",
          "state": {
            "_model_module": "@jupyter-widgets/controls",
            "_model_module_version": "1.5.0",
            "_model_name": "DescriptionStyleModel",
            "_view_count": null,
            "_view_module": "@jupyter-widgets/base",
            "_view_module_version": "1.2.0",
            "_view_name": "StyleView",
            "description_width": ""
          }
        },
        "b3dfb88ae27945dea6b5ab80e849316e": {
          "model_module": "@jupyter-widgets/controls",
          "model_name": "HBoxModel",
          "model_module_version": "1.5.0",
          "state": {
            "_dom_classes": [],
            "_model_module": "@jupyter-widgets/controls",
            "_model_module_version": "1.5.0",
            "_model_name": "HBoxModel",
            "_view_count": null,
            "_view_module": "@jupyter-widgets/controls",
            "_view_module_version": "1.5.0",
            "_view_name": "HBoxView",
            "box_style": "",
            "children": [
              "IPY_MODEL_3157e7afeac84025bfb184c60f711f4b",
              "IPY_MODEL_41e297017262492ebdda6e19b3df2262",
              "IPY_MODEL_f3c269caa687466c95dee17bc5cb2ce7"
            ],
            "layout": "IPY_MODEL_290e053163ba4a938725263f7ddb76ae"
          }
        },
        "3157e7afeac84025bfb184c60f711f4b": {
          "model_module": "@jupyter-widgets/controls",
          "model_name": "HTMLModel",
          "model_module_version": "1.5.0",
          "state": {
            "_dom_classes": [],
            "_model_module": "@jupyter-widgets/controls",
            "_model_module_version": "1.5.0",
            "_model_name": "HTMLModel",
            "_view_count": null,
            "_view_module": "@jupyter-widgets/controls",
            "_view_module_version": "1.5.0",
            "_view_name": "HTMLView",
            "description": "",
            "description_tooltip": null,
            "layout": "IPY_MODEL_4dd28e2d50be48fe88275cda47829661",
            "placeholder": "​",
            "style": "IPY_MODEL_e789ebb3ad334d25aacc0e4b77da5c52",
            "value": "Generating train split: 100%"
          }
        },
        "41e297017262492ebdda6e19b3df2262": {
          "model_module": "@jupyter-widgets/controls",
          "model_name": "FloatProgressModel",
          "model_module_version": "1.5.0",
          "state": {
            "_dom_classes": [],
            "_model_module": "@jupyter-widgets/controls",
            "_model_module_version": "1.5.0",
            "_model_name": "FloatProgressModel",
            "_view_count": null,
            "_view_module": "@jupyter-widgets/controls",
            "_view_module_version": "1.5.0",
            "_view_name": "ProgressView",
            "bar_style": "success",
            "description": "",
            "description_tooltip": null,
            "layout": "IPY_MODEL_eb3f6addfc604c2682fb42f29808a014",
            "max": 50000,
            "min": 0,
            "orientation": "horizontal",
            "style": "IPY_MODEL_25b828b566334e12acbddfa123a0e45d",
            "value": 50000
          }
        },
        "f3c269caa687466c95dee17bc5cb2ce7": {
          "model_module": "@jupyter-widgets/controls",
          "model_name": "HTMLModel",
          "model_module_version": "1.5.0",
          "state": {
            "_dom_classes": [],
            "_model_module": "@jupyter-widgets/controls",
            "_model_module_version": "1.5.0",
            "_model_name": "HTMLModel",
            "_view_count": null,
            "_view_module": "@jupyter-widgets/controls",
            "_view_module_version": "1.5.0",
            "_view_name": "HTMLView",
            "description": "",
            "description_tooltip": null,
            "layout": "IPY_MODEL_2529a6cb7b8642ff9509d2e1d24c9aea",
            "placeholder": "​",
            "style": "IPY_MODEL_8bee97f55ade44b1a9b646fd5df1e4a0",
            "value": " 50000/50000 [00:00&lt;00:00, 156768.82 examples/s]"
          }
        },
        "290e053163ba4a938725263f7ddb76ae": {
          "model_module": "@jupyter-widgets/base",
          "model_name": "LayoutModel",
          "model_module_version": "1.2.0",
          "state": {
            "_model_module": "@jupyter-widgets/base",
            "_model_module_version": "1.2.0",
            "_model_name": "LayoutModel",
            "_view_count": null,
            "_view_module": "@jupyter-widgets/base",
            "_view_module_version": "1.2.0",
            "_view_name": "LayoutView",
            "align_content": null,
            "align_items": null,
            "align_self": null,
            "border": null,
            "bottom": null,
            "display": null,
            "flex": null,
            "flex_flow": null,
            "grid_area": null,
            "grid_auto_columns": null,
            "grid_auto_flow": null,
            "grid_auto_rows": null,
            "grid_column": null,
            "grid_gap": null,
            "grid_row": null,
            "grid_template_areas": null,
            "grid_template_columns": null,
            "grid_template_rows": null,
            "height": null,
            "justify_content": null,
            "justify_items": null,
            "left": null,
            "margin": null,
            "max_height": null,
            "max_width": null,
            "min_height": null,
            "min_width": null,
            "object_fit": null,
            "object_position": null,
            "order": null,
            "overflow": null,
            "overflow_x": null,
            "overflow_y": null,
            "padding": null,
            "right": null,
            "top": null,
            "visibility": null,
            "width": null
          }
        },
        "4dd28e2d50be48fe88275cda47829661": {
          "model_module": "@jupyter-widgets/base",
          "model_name": "LayoutModel",
          "model_module_version": "1.2.0",
          "state": {
            "_model_module": "@jupyter-widgets/base",
            "_model_module_version": "1.2.0",
            "_model_name": "LayoutModel",
            "_view_count": null,
            "_view_module": "@jupyter-widgets/base",
            "_view_module_version": "1.2.0",
            "_view_name": "LayoutView",
            "align_content": null,
            "align_items": null,
            "align_self": null,
            "border": null,
            "bottom": null,
            "display": null,
            "flex": null,
            "flex_flow": null,
            "grid_area": null,
            "grid_auto_columns": null,
            "grid_auto_flow": null,
            "grid_auto_rows": null,
            "grid_column": null,
            "grid_gap": null,
            "grid_row": null,
            "grid_template_areas": null,
            "grid_template_columns": null,
            "grid_template_rows": null,
            "height": null,
            "justify_content": null,
            "justify_items": null,
            "left": null,
            "margin": null,
            "max_height": null,
            "max_width": null,
            "min_height": null,
            "min_width": null,
            "object_fit": null,
            "object_position": null,
            "order": null,
            "overflow": null,
            "overflow_x": null,
            "overflow_y": null,
            "padding": null,
            "right": null,
            "top": null,
            "visibility": null,
            "width": null
          }
        },
        "e789ebb3ad334d25aacc0e4b77da5c52": {
          "model_module": "@jupyter-widgets/controls",
          "model_name": "DescriptionStyleModel",
          "model_module_version": "1.5.0",
          "state": {
            "_model_module": "@jupyter-widgets/controls",
            "_model_module_version": "1.5.0",
            "_model_name": "DescriptionStyleModel",
            "_view_count": null,
            "_view_module": "@jupyter-widgets/base",
            "_view_module_version": "1.2.0",
            "_view_name": "StyleView",
            "description_width": ""
          }
        },
        "eb3f6addfc604c2682fb42f29808a014": {
          "model_module": "@jupyter-widgets/base",
          "model_name": "LayoutModel",
          "model_module_version": "1.2.0",
          "state": {
            "_model_module": "@jupyter-widgets/base",
            "_model_module_version": "1.2.0",
            "_model_name": "LayoutModel",
            "_view_count": null,
            "_view_module": "@jupyter-widgets/base",
            "_view_module_version": "1.2.0",
            "_view_name": "LayoutView",
            "align_content": null,
            "align_items": null,
            "align_self": null,
            "border": null,
            "bottom": null,
            "display": null,
            "flex": null,
            "flex_flow": null,
            "grid_area": null,
            "grid_auto_columns": null,
            "grid_auto_flow": null,
            "grid_auto_rows": null,
            "grid_column": null,
            "grid_gap": null,
            "grid_row": null,
            "grid_template_areas": null,
            "grid_template_columns": null,
            "grid_template_rows": null,
            "height": null,
            "justify_content": null,
            "justify_items": null,
            "left": null,
            "margin": null,
            "max_height": null,
            "max_width": null,
            "min_height": null,
            "min_width": null,
            "object_fit": null,
            "object_position": null,
            "order": null,
            "overflow": null,
            "overflow_x": null,
            "overflow_y": null,
            "padding": null,
            "right": null,
            "top": null,
            "visibility": null,
            "width": null
          }
        },
        "25b828b566334e12acbddfa123a0e45d": {
          "model_module": "@jupyter-widgets/controls",
          "model_name": "ProgressStyleModel",
          "model_module_version": "1.5.0",
          "state": {
            "_model_module": "@jupyter-widgets/controls",
            "_model_module_version": "1.5.0",
            "_model_name": "ProgressStyleModel",
            "_view_count": null,
            "_view_module": "@jupyter-widgets/base",
            "_view_module_version": "1.2.0",
            "_view_name": "StyleView",
            "bar_color": null,
            "description_width": ""
          }
        },
        "2529a6cb7b8642ff9509d2e1d24c9aea": {
          "model_module": "@jupyter-widgets/base",
          "model_name": "LayoutModel",
          "model_module_version": "1.2.0",
          "state": {
            "_model_module": "@jupyter-widgets/base",
            "_model_module_version": "1.2.0",
            "_model_name": "LayoutModel",
            "_view_count": null,
            "_view_module": "@jupyter-widgets/base",
            "_view_module_version": "1.2.0",
            "_view_name": "LayoutView",
            "align_content": null,
            "align_items": null,
            "align_self": null,
            "border": null,
            "bottom": null,
            "display": null,
            "flex": null,
            "flex_flow": null,
            "grid_area": null,
            "grid_auto_columns": null,
            "grid_auto_flow": null,
            "grid_auto_rows": null,
            "grid_column": null,
            "grid_gap": null,
            "grid_row": null,
            "grid_template_areas": null,
            "grid_template_columns": null,
            "grid_template_rows": null,
            "height": null,
            "justify_content": null,
            "justify_items": null,
            "left": null,
            "margin": null,
            "max_height": null,
            "max_width": null,
            "min_height": null,
            "min_width": null,
            "object_fit": null,
            "object_position": null,
            "order": null,
            "overflow": null,
            "overflow_x": null,
            "overflow_y": null,
            "padding": null,
            "right": null,
            "top": null,
            "visibility": null,
            "width": null
          }
        },
        "8bee97f55ade44b1a9b646fd5df1e4a0": {
          "model_module": "@jupyter-widgets/controls",
          "model_name": "DescriptionStyleModel",
          "model_module_version": "1.5.0",
          "state": {
            "_model_module": "@jupyter-widgets/controls",
            "_model_module_version": "1.5.0",
            "_model_name": "DescriptionStyleModel",
            "_view_count": null,
            "_view_module": "@jupyter-widgets/base",
            "_view_module_version": "1.2.0",
            "_view_name": "StyleView",
            "description_width": ""
          }
        },
        "0ec20a636bf448fb82507cf736c467c0": {
          "model_module": "@jupyter-widgets/controls",
          "model_name": "HBoxModel",
          "model_module_version": "1.5.0",
          "state": {
            "_dom_classes": [],
            "_model_module": "@jupyter-widgets/controls",
            "_model_module_version": "1.5.0",
            "_model_name": "HBoxModel",
            "_view_count": null,
            "_view_module": "@jupyter-widgets/controls",
            "_view_module_version": "1.5.0",
            "_view_name": "HBoxView",
            "box_style": "",
            "children": [
              "IPY_MODEL_747efc8672674142aee5cd2c5a723f02",
              "IPY_MODEL_30c25fa5ba864da3bca8177db29e1d73",
              "IPY_MODEL_4c5275e9bd2d42a3b6e6ea58d10e1745"
            ],
            "layout": "IPY_MODEL_2f2f521600954c61899ce95bd6b92b0d"
          }
        },
        "747efc8672674142aee5cd2c5a723f02": {
          "model_module": "@jupyter-widgets/controls",
          "model_name": "HTMLModel",
          "model_module_version": "1.5.0",
          "state": {
            "_dom_classes": [],
            "_model_module": "@jupyter-widgets/controls",
            "_model_module_version": "1.5.0",
            "_model_name": "HTMLModel",
            "_view_count": null,
            "_view_module": "@jupyter-widgets/controls",
            "_view_module_version": "1.5.0",
            "_view_name": "HTMLView",
            "description": "",
            "description_tooltip": null,
            "layout": "IPY_MODEL_c641f1f01c974839a9ca6c7830c8695b",
            "placeholder": "​",
            "style": "IPY_MODEL_caf4e6a36b8b48aa80d1bddbc27efc18",
            "value": "Generating test split: 100%"
          }
        },
        "30c25fa5ba864da3bca8177db29e1d73": {
          "model_module": "@jupyter-widgets/controls",
          "model_name": "FloatProgressModel",
          "model_module_version": "1.5.0",
          "state": {
            "_dom_classes": [],
            "_model_module": "@jupyter-widgets/controls",
            "_model_module_version": "1.5.0",
            "_model_name": "FloatProgressModel",
            "_view_count": null,
            "_view_module": "@jupyter-widgets/controls",
            "_view_module_version": "1.5.0",
            "_view_name": "ProgressView",
            "bar_style": "success",
            "description": "",
            "description_tooltip": null,
            "layout": "IPY_MODEL_87933277fd1e45cd95f02da425cb495d",
            "max": 10000,
            "min": 0,
            "orientation": "horizontal",
            "style": "IPY_MODEL_33273a0a56ee418e8ccfff60734b3273",
            "value": 10000
          }
        },
        "4c5275e9bd2d42a3b6e6ea58d10e1745": {
          "model_module": "@jupyter-widgets/controls",
          "model_name": "HTMLModel",
          "model_module_version": "1.5.0",
          "state": {
            "_dom_classes": [],
            "_model_module": "@jupyter-widgets/controls",
            "_model_module_version": "1.5.0",
            "_model_name": "HTMLModel",
            "_view_count": null,
            "_view_module": "@jupyter-widgets/controls",
            "_view_module_version": "1.5.0",
            "_view_name": "HTMLView",
            "description": "",
            "description_tooltip": null,
            "layout": "IPY_MODEL_5240744cafce409c8e2e600d97acdb57",
            "placeholder": "​",
            "style": "IPY_MODEL_9e371b8767694d25a218f37aa35d75e4",
            "value": " 10000/10000 [00:00&lt;00:00, 125908.95 examples/s]"
          }
        },
        "2f2f521600954c61899ce95bd6b92b0d": {
          "model_module": "@jupyter-widgets/base",
          "model_name": "LayoutModel",
          "model_module_version": "1.2.0",
          "state": {
            "_model_module": "@jupyter-widgets/base",
            "_model_module_version": "1.2.0",
            "_model_name": "LayoutModel",
            "_view_count": null,
            "_view_module": "@jupyter-widgets/base",
            "_view_module_version": "1.2.0",
            "_view_name": "LayoutView",
            "align_content": null,
            "align_items": null,
            "align_self": null,
            "border": null,
            "bottom": null,
            "display": null,
            "flex": null,
            "flex_flow": null,
            "grid_area": null,
            "grid_auto_columns": null,
            "grid_auto_flow": null,
            "grid_auto_rows": null,
            "grid_column": null,
            "grid_gap": null,
            "grid_row": null,
            "grid_template_areas": null,
            "grid_template_columns": null,
            "grid_template_rows": null,
            "height": null,
            "justify_content": null,
            "justify_items": null,
            "left": null,
            "margin": null,
            "max_height": null,
            "max_width": null,
            "min_height": null,
            "min_width": null,
            "object_fit": null,
            "object_position": null,
            "order": null,
            "overflow": null,
            "overflow_x": null,
            "overflow_y": null,
            "padding": null,
            "right": null,
            "top": null,
            "visibility": null,
            "width": null
          }
        },
        "c641f1f01c974839a9ca6c7830c8695b": {
          "model_module": "@jupyter-widgets/base",
          "model_name": "LayoutModel",
          "model_module_version": "1.2.0",
          "state": {
            "_model_module": "@jupyter-widgets/base",
            "_model_module_version": "1.2.0",
            "_model_name": "LayoutModel",
            "_view_count": null,
            "_view_module": "@jupyter-widgets/base",
            "_view_module_version": "1.2.0",
            "_view_name": "LayoutView",
            "align_content": null,
            "align_items": null,
            "align_self": null,
            "border": null,
            "bottom": null,
            "display": null,
            "flex": null,
            "flex_flow": null,
            "grid_area": null,
            "grid_auto_columns": null,
            "grid_auto_flow": null,
            "grid_auto_rows": null,
            "grid_column": null,
            "grid_gap": null,
            "grid_row": null,
            "grid_template_areas": null,
            "grid_template_columns": null,
            "grid_template_rows": null,
            "height": null,
            "justify_content": null,
            "justify_items": null,
            "left": null,
            "margin": null,
            "max_height": null,
            "max_width": null,
            "min_height": null,
            "min_width": null,
            "object_fit": null,
            "object_position": null,
            "order": null,
            "overflow": null,
            "overflow_x": null,
            "overflow_y": null,
            "padding": null,
            "right": null,
            "top": null,
            "visibility": null,
            "width": null
          }
        },
        "caf4e6a36b8b48aa80d1bddbc27efc18": {
          "model_module": "@jupyter-widgets/controls",
          "model_name": "DescriptionStyleModel",
          "model_module_version": "1.5.0",
          "state": {
            "_model_module": "@jupyter-widgets/controls",
            "_model_module_version": "1.5.0",
            "_model_name": "DescriptionStyleModel",
            "_view_count": null,
            "_view_module": "@jupyter-widgets/base",
            "_view_module_version": "1.2.0",
            "_view_name": "StyleView",
            "description_width": ""
          }
        },
        "87933277fd1e45cd95f02da425cb495d": {
          "model_module": "@jupyter-widgets/base",
          "model_name": "LayoutModel",
          "model_module_version": "1.2.0",
          "state": {
            "_model_module": "@jupyter-widgets/base",
            "_model_module_version": "1.2.0",
            "_model_name": "LayoutModel",
            "_view_count": null,
            "_view_module": "@jupyter-widgets/base",
            "_view_module_version": "1.2.0",
            "_view_name": "LayoutView",
            "align_content": null,
            "align_items": null,
            "align_self": null,
            "border": null,
            "bottom": null,
            "display": null,
            "flex": null,
            "flex_flow": null,
            "grid_area": null,
            "grid_auto_columns": null,
            "grid_auto_flow": null,
            "grid_auto_rows": null,
            "grid_column": null,
            "grid_gap": null,
            "grid_row": null,
            "grid_template_areas": null,
            "grid_template_columns": null,
            "grid_template_rows": null,
            "height": null,
            "justify_content": null,
            "justify_items": null,
            "left": null,
            "margin": null,
            "max_height": null,
            "max_width": null,
            "min_height": null,
            "min_width": null,
            "object_fit": null,
            "object_position": null,
            "order": null,
            "overflow": null,
            "overflow_x": null,
            "overflow_y": null,
            "padding": null,
            "right": null,
            "top": null,
            "visibility": null,
            "width": null
          }
        },
        "33273a0a56ee418e8ccfff60734b3273": {
          "model_module": "@jupyter-widgets/controls",
          "model_name": "ProgressStyleModel",
          "model_module_version": "1.5.0",
          "state": {
            "_model_module": "@jupyter-widgets/controls",
            "_model_module_version": "1.5.0",
            "_model_name": "ProgressStyleModel",
            "_view_count": null,
            "_view_module": "@jupyter-widgets/base",
            "_view_module_version": "1.2.0",
            "_view_name": "StyleView",
            "bar_color": null,
            "description_width": ""
          }
        },
        "5240744cafce409c8e2e600d97acdb57": {
          "model_module": "@jupyter-widgets/base",
          "model_name": "LayoutModel",
          "model_module_version": "1.2.0",
          "state": {
            "_model_module": "@jupyter-widgets/base",
            "_model_module_version": "1.2.0",
            "_model_name": "LayoutModel",
            "_view_count": null,
            "_view_module": "@jupyter-widgets/base",
            "_view_module_version": "1.2.0",
            "_view_name": "LayoutView",
            "align_content": null,
            "align_items": null,
            "align_self": null,
            "border": null,
            "bottom": null,
            "display": null,
            "flex": null,
            "flex_flow": null,
            "grid_area": null,
            "grid_auto_columns": null,
            "grid_auto_flow": null,
            "grid_auto_rows": null,
            "grid_column": null,
            "grid_gap": null,
            "grid_row": null,
            "grid_template_areas": null,
            "grid_template_columns": null,
            "grid_template_rows": null,
            "height": null,
            "justify_content": null,
            "justify_items": null,
            "left": null,
            "margin": null,
            "max_height": null,
            "max_width": null,
            "min_height": null,
            "min_width": null,
            "object_fit": null,
            "object_position": null,
            "order": null,
            "overflow": null,
            "overflow_x": null,
            "overflow_y": null,
            "padding": null,
            "right": null,
            "top": null,
            "visibility": null,
            "width": null
          }
        },
        "9e371b8767694d25a218f37aa35d75e4": {
          "model_module": "@jupyter-widgets/controls",
          "model_name": "DescriptionStyleModel",
          "model_module_version": "1.5.0",
          "state": {
            "_model_module": "@jupyter-widgets/controls",
            "_model_module_version": "1.5.0",
            "_model_name": "DescriptionStyleModel",
            "_view_count": null,
            "_view_module": "@jupyter-widgets/base",
            "_view_module_version": "1.2.0",
            "_view_name": "StyleView",
            "description_width": ""
          }
        },
        "db9ebe10b050498ebeb18f91bee49f15": {
          "model_module": "@jupyter-widgets/controls",
          "model_name": "VBoxModel",
          "model_module_version": "1.5.0",
          "state": {
            "_dom_classes": [],
            "_model_module": "@jupyter-widgets/controls",
            "_model_module_version": "1.5.0",
            "_model_name": "VBoxModel",
            "_view_count": null,
            "_view_module": "@jupyter-widgets/controls",
            "_view_module_version": "1.5.0",
            "_view_name": "VBoxView",
            "box_style": "",
            "children": [
              "IPY_MODEL_2e133ffd123c4f8bb435f76395be4f65",
              "IPY_MODEL_fb83c01416ad4142be64101dfa4a2f88"
            ],
            "layout": "IPY_MODEL_a85516043df64cb99b8b3310410059ce"
          }
        },
        "2e133ffd123c4f8bb435f76395be4f65": {
          "model_module": "@jupyter-widgets/controls",
          "model_name": "LabelModel",
          "model_module_version": "1.5.0",
          "state": {
            "_dom_classes": [],
            "_model_module": "@jupyter-widgets/controls",
            "_model_module_version": "1.5.0",
            "_model_name": "LabelModel",
            "_view_count": null,
            "_view_module": "@jupyter-widgets/controls",
            "_view_module_version": "1.5.0",
            "_view_name": "LabelView",
            "description": "",
            "description_tooltip": null,
            "layout": "IPY_MODEL_5bca4d1ba6514206930771274115c41d",
            "placeholder": "​",
            "style": "IPY_MODEL_6761a65382984cd4b02e189f3329f89e",
            "value": "0.018 MB of 0.018 MB uploaded\r"
          }
        },
        "fb83c01416ad4142be64101dfa4a2f88": {
          "model_module": "@jupyter-widgets/controls",
          "model_name": "FloatProgressModel",
          "model_module_version": "1.5.0",
          "state": {
            "_dom_classes": [],
            "_model_module": "@jupyter-widgets/controls",
            "_model_module_version": "1.5.0",
            "_model_name": "FloatProgressModel",
            "_view_count": null,
            "_view_module": "@jupyter-widgets/controls",
            "_view_module_version": "1.5.0",
            "_view_name": "ProgressView",
            "bar_style": "",
            "description": "",
            "description_tooltip": null,
            "layout": "IPY_MODEL_a80a576bbe35423b99b2679877586e98",
            "max": 1,
            "min": 0,
            "orientation": "horizontal",
            "style": "IPY_MODEL_cf6d2b7b8c3743f1b024baebf1956d13",
            "value": 1
          }
        },
        "a85516043df64cb99b8b3310410059ce": {
          "model_module": "@jupyter-widgets/base",
          "model_name": "LayoutModel",
          "model_module_version": "1.2.0",
          "state": {
            "_model_module": "@jupyter-widgets/base",
            "_model_module_version": "1.2.0",
            "_model_name": "LayoutModel",
            "_view_count": null,
            "_view_module": "@jupyter-widgets/base",
            "_view_module_version": "1.2.0",
            "_view_name": "LayoutView",
            "align_content": null,
            "align_items": null,
            "align_self": null,
            "border": null,
            "bottom": null,
            "display": null,
            "flex": null,
            "flex_flow": null,
            "grid_area": null,
            "grid_auto_columns": null,
            "grid_auto_flow": null,
            "grid_auto_rows": null,
            "grid_column": null,
            "grid_gap": null,
            "grid_row": null,
            "grid_template_areas": null,
            "grid_template_columns": null,
            "grid_template_rows": null,
            "height": null,
            "justify_content": null,
            "justify_items": null,
            "left": null,
            "margin": null,
            "max_height": null,
            "max_width": null,
            "min_height": null,
            "min_width": null,
            "object_fit": null,
            "object_position": null,
            "order": null,
            "overflow": null,
            "overflow_x": null,
            "overflow_y": null,
            "padding": null,
            "right": null,
            "top": null,
            "visibility": null,
            "width": null
          }
        },
        "5bca4d1ba6514206930771274115c41d": {
          "model_module": "@jupyter-widgets/base",
          "model_name": "LayoutModel",
          "model_module_version": "1.2.0",
          "state": {
            "_model_module": "@jupyter-widgets/base",
            "_model_module_version": "1.2.0",
            "_model_name": "LayoutModel",
            "_view_count": null,
            "_view_module": "@jupyter-widgets/base",
            "_view_module_version": "1.2.0",
            "_view_name": "LayoutView",
            "align_content": null,
            "align_items": null,
            "align_self": null,
            "border": null,
            "bottom": null,
            "display": null,
            "flex": null,
            "flex_flow": null,
            "grid_area": null,
            "grid_auto_columns": null,
            "grid_auto_flow": null,
            "grid_auto_rows": null,
            "grid_column": null,
            "grid_gap": null,
            "grid_row": null,
            "grid_template_areas": null,
            "grid_template_columns": null,
            "grid_template_rows": null,
            "height": null,
            "justify_content": null,
            "justify_items": null,
            "left": null,
            "margin": null,
            "max_height": null,
            "max_width": null,
            "min_height": null,
            "min_width": null,
            "object_fit": null,
            "object_position": null,
            "order": null,
            "overflow": null,
            "overflow_x": null,
            "overflow_y": null,
            "padding": null,
            "right": null,
            "top": null,
            "visibility": null,
            "width": null
          }
        },
        "6761a65382984cd4b02e189f3329f89e": {
          "model_module": "@jupyter-widgets/controls",
          "model_name": "DescriptionStyleModel",
          "model_module_version": "1.5.0",
          "state": {
            "_model_module": "@jupyter-widgets/controls",
            "_model_module_version": "1.5.0",
            "_model_name": "DescriptionStyleModel",
            "_view_count": null,
            "_view_module": "@jupyter-widgets/base",
            "_view_module_version": "1.2.0",
            "_view_name": "StyleView",
            "description_width": ""
          }
        },
        "a80a576bbe35423b99b2679877586e98": {
          "model_module": "@jupyter-widgets/base",
          "model_name": "LayoutModel",
          "model_module_version": "1.2.0",
          "state": {
            "_model_module": "@jupyter-widgets/base",
            "_model_module_version": "1.2.0",
            "_model_name": "LayoutModel",
            "_view_count": null,
            "_view_module": "@jupyter-widgets/base",
            "_view_module_version": "1.2.0",
            "_view_name": "LayoutView",
            "align_content": null,
            "align_items": null,
            "align_self": null,
            "border": null,
            "bottom": null,
            "display": null,
            "flex": null,
            "flex_flow": null,
            "grid_area": null,
            "grid_auto_columns": null,
            "grid_auto_flow": null,
            "grid_auto_rows": null,
            "grid_column": null,
            "grid_gap": null,
            "grid_row": null,
            "grid_template_areas": null,
            "grid_template_columns": null,
            "grid_template_rows": null,
            "height": null,
            "justify_content": null,
            "justify_items": null,
            "left": null,
            "margin": null,
            "max_height": null,
            "max_width": null,
            "min_height": null,
            "min_width": null,
            "object_fit": null,
            "object_position": null,
            "order": null,
            "overflow": null,
            "overflow_x": null,
            "overflow_y": null,
            "padding": null,
            "right": null,
            "top": null,
            "visibility": null,
            "width": null
          }
        },
        "cf6d2b7b8c3743f1b024baebf1956d13": {
          "model_module": "@jupyter-widgets/controls",
          "model_name": "ProgressStyleModel",
          "model_module_version": "1.5.0",
          "state": {
            "_model_module": "@jupyter-widgets/controls",
            "_model_module_version": "1.5.0",
            "_model_name": "ProgressStyleModel",
            "_view_count": null,
            "_view_module": "@jupyter-widgets/base",
            "_view_module_version": "1.2.0",
            "_view_name": "StyleView",
            "bar_color": null,
            "description_width": ""
          }
        },
        "3b0e7ec91de2496cb8d32e7a2349f991": {
          "model_module": "@jupyter-widgets/controls",
          "model_name": "VBoxModel",
          "model_module_version": "1.5.0",
          "state": {
            "_dom_classes": [],
            "_model_module": "@jupyter-widgets/controls",
            "_model_module_version": "1.5.0",
            "_model_name": "VBoxModel",
            "_view_count": null,
            "_view_module": "@jupyter-widgets/controls",
            "_view_module_version": "1.5.0",
            "_view_name": "VBoxView",
            "box_style": "",
            "children": [
              "IPY_MODEL_f065415c660a45a8ab6832a4322a1600",
              "IPY_MODEL_fd72c5678f8c4d61a7a2f788d43d1a46"
            ],
            "layout": "IPY_MODEL_c6cdaca6238c4dbaa274f06d83739135"
          }
        },
        "f065415c660a45a8ab6832a4322a1600": {
          "model_module": "@jupyter-widgets/controls",
          "model_name": "LabelModel",
          "model_module_version": "1.5.0",
          "state": {
            "_dom_classes": [],
            "_model_module": "@jupyter-widgets/controls",
            "_model_module_version": "1.5.0",
            "_model_name": "LabelModel",
            "_view_count": null,
            "_view_module": "@jupyter-widgets/controls",
            "_view_module_version": "1.5.0",
            "_view_name": "LabelView",
            "description": "",
            "description_tooltip": null,
            "layout": "IPY_MODEL_7369cef7442c40ecb280f3db0f6d485a",
            "placeholder": "​",
            "style": "IPY_MODEL_e472a4b7fb1e4674b068dc97afb47c55",
            "value": "0.018 MB of 0.018 MB uploaded\r"
          }
        },
        "fd72c5678f8c4d61a7a2f788d43d1a46": {
          "model_module": "@jupyter-widgets/controls",
          "model_name": "FloatProgressModel",
          "model_module_version": "1.5.0",
          "state": {
            "_dom_classes": [],
            "_model_module": "@jupyter-widgets/controls",
            "_model_module_version": "1.5.0",
            "_model_name": "FloatProgressModel",
            "_view_count": null,
            "_view_module": "@jupyter-widgets/controls",
            "_view_module_version": "1.5.0",
            "_view_name": "ProgressView",
            "bar_style": "",
            "description": "",
            "description_tooltip": null,
            "layout": "IPY_MODEL_4d7a90bdb96d458ca28699df22b54749",
            "max": 1,
            "min": 0,
            "orientation": "horizontal",
            "style": "IPY_MODEL_83f197f26c7b415a96b7adcf007ddf36",
            "value": 1
          }
        },
        "c6cdaca6238c4dbaa274f06d83739135": {
          "model_module": "@jupyter-widgets/base",
          "model_name": "LayoutModel",
          "model_module_version": "1.2.0",
          "state": {
            "_model_module": "@jupyter-widgets/base",
            "_model_module_version": "1.2.0",
            "_model_name": "LayoutModel",
            "_view_count": null,
            "_view_module": "@jupyter-widgets/base",
            "_view_module_version": "1.2.0",
            "_view_name": "LayoutView",
            "align_content": null,
            "align_items": null,
            "align_self": null,
            "border": null,
            "bottom": null,
            "display": null,
            "flex": null,
            "flex_flow": null,
            "grid_area": null,
            "grid_auto_columns": null,
            "grid_auto_flow": null,
            "grid_auto_rows": null,
            "grid_column": null,
            "grid_gap": null,
            "grid_row": null,
            "grid_template_areas": null,
            "grid_template_columns": null,
            "grid_template_rows": null,
            "height": null,
            "justify_content": null,
            "justify_items": null,
            "left": null,
            "margin": null,
            "max_height": null,
            "max_width": null,
            "min_height": null,
            "min_width": null,
            "object_fit": null,
            "object_position": null,
            "order": null,
            "overflow": null,
            "overflow_x": null,
            "overflow_y": null,
            "padding": null,
            "right": null,
            "top": null,
            "visibility": null,
            "width": null
          }
        },
        "7369cef7442c40ecb280f3db0f6d485a": {
          "model_module": "@jupyter-widgets/base",
          "model_name": "LayoutModel",
          "model_module_version": "1.2.0",
          "state": {
            "_model_module": "@jupyter-widgets/base",
            "_model_module_version": "1.2.0",
            "_model_name": "LayoutModel",
            "_view_count": null,
            "_view_module": "@jupyter-widgets/base",
            "_view_module_version": "1.2.0",
            "_view_name": "LayoutView",
            "align_content": null,
            "align_items": null,
            "align_self": null,
            "border": null,
            "bottom": null,
            "display": null,
            "flex": null,
            "flex_flow": null,
            "grid_area": null,
            "grid_auto_columns": null,
            "grid_auto_flow": null,
            "grid_auto_rows": null,
            "grid_column": null,
            "grid_gap": null,
            "grid_row": null,
            "grid_template_areas": null,
            "grid_template_columns": null,
            "grid_template_rows": null,
            "height": null,
            "justify_content": null,
            "justify_items": null,
            "left": null,
            "margin": null,
            "max_height": null,
            "max_width": null,
            "min_height": null,
            "min_width": null,
            "object_fit": null,
            "object_position": null,
            "order": null,
            "overflow": null,
            "overflow_x": null,
            "overflow_y": null,
            "padding": null,
            "right": null,
            "top": null,
            "visibility": null,
            "width": null
          }
        },
        "e472a4b7fb1e4674b068dc97afb47c55": {
          "model_module": "@jupyter-widgets/controls",
          "model_name": "DescriptionStyleModel",
          "model_module_version": "1.5.0",
          "state": {
            "_model_module": "@jupyter-widgets/controls",
            "_model_module_version": "1.5.0",
            "_model_name": "DescriptionStyleModel",
            "_view_count": null,
            "_view_module": "@jupyter-widgets/base",
            "_view_module_version": "1.2.0",
            "_view_name": "StyleView",
            "description_width": ""
          }
        },
        "4d7a90bdb96d458ca28699df22b54749": {
          "model_module": "@jupyter-widgets/base",
          "model_name": "LayoutModel",
          "model_module_version": "1.2.0",
          "state": {
            "_model_module": "@jupyter-widgets/base",
            "_model_module_version": "1.2.0",
            "_model_name": "LayoutModel",
            "_view_count": null,
            "_view_module": "@jupyter-widgets/base",
            "_view_module_version": "1.2.0",
            "_view_name": "LayoutView",
            "align_content": null,
            "align_items": null,
            "align_self": null,
            "border": null,
            "bottom": null,
            "display": null,
            "flex": null,
            "flex_flow": null,
            "grid_area": null,
            "grid_auto_columns": null,
            "grid_auto_flow": null,
            "grid_auto_rows": null,
            "grid_column": null,
            "grid_gap": null,
            "grid_row": null,
            "grid_template_areas": null,
            "grid_template_columns": null,
            "grid_template_rows": null,
            "height": null,
            "justify_content": null,
            "justify_items": null,
            "left": null,
            "margin": null,
            "max_height": null,
            "max_width": null,
            "min_height": null,
            "min_width": null,
            "object_fit": null,
            "object_position": null,
            "order": null,
            "overflow": null,
            "overflow_x": null,
            "overflow_y": null,
            "padding": null,
            "right": null,
            "top": null,
            "visibility": null,
            "width": null
          }
        },
        "83f197f26c7b415a96b7adcf007ddf36": {
          "model_module": "@jupyter-widgets/controls",
          "model_name": "ProgressStyleModel",
          "model_module_version": "1.5.0",
          "state": {
            "_model_module": "@jupyter-widgets/controls",
            "_model_module_version": "1.5.0",
            "_model_name": "ProgressStyleModel",
            "_view_count": null,
            "_view_module": "@jupyter-widgets/base",
            "_view_module_version": "1.2.0",
            "_view_name": "StyleView",
            "bar_color": null,
            "description_width": ""
          }
        },
        "6ba130b85eb44b509ed74f0b9fb00ac8": {
          "model_module": "@jupyter-widgets/controls",
          "model_name": "HBoxModel",
          "model_module_version": "1.5.0",
          "state": {
            "_dom_classes": [],
            "_model_module": "@jupyter-widgets/controls",
            "_model_module_version": "1.5.0",
            "_model_name": "HBoxModel",
            "_view_count": null,
            "_view_module": "@jupyter-widgets/controls",
            "_view_module_version": "1.5.0",
            "_view_name": "HBoxView",
            "box_style": "",
            "children": [
              "IPY_MODEL_6108fdf3fd154be19abbb16acd8545d3",
              "IPY_MODEL_d88f3caf95d541899961d472629fb23f",
              "IPY_MODEL_7cca2a051b95424a8268309e0e128916"
            ],
            "layout": "IPY_MODEL_af4662a9439f46b781053d4c01ba5161"
          }
        },
        "6108fdf3fd154be19abbb16acd8545d3": {
          "model_module": "@jupyter-widgets/controls",
          "model_name": "HTMLModel",
          "model_module_version": "1.5.0",
          "state": {
            "_dom_classes": [],
            "_model_module": "@jupyter-widgets/controls",
            "_model_module_version": "1.5.0",
            "_model_name": "HTMLModel",
            "_view_count": null,
            "_view_module": "@jupyter-widgets/controls",
            "_view_module_version": "1.5.0",
            "_view_name": "HTMLView",
            "description": "",
            "description_tooltip": null,
            "layout": "IPY_MODEL_5206ccc4183f4dfea059397d854b281a",
            "placeholder": "​",
            "style": "IPY_MODEL_9b456304ec10476094b87abf2dbb1ec5",
            "value": "pytorch_model.bin: 100%"
          }
        },
        "d88f3caf95d541899961d472629fb23f": {
          "model_module": "@jupyter-widgets/controls",
          "model_name": "FloatProgressModel",
          "model_module_version": "1.5.0",
          "state": {
            "_dom_classes": [],
            "_model_module": "@jupyter-widgets/controls",
            "_model_module_version": "1.5.0",
            "_model_name": "FloatProgressModel",
            "_view_count": null,
            "_view_module": "@jupyter-widgets/controls",
            "_view_module_version": "1.5.0",
            "_view_name": "ProgressView",
            "bar_style": "success",
            "description": "",
            "description_tooltip": null,
            "layout": "IPY_MODEL_26fdbe4dee7346548ba89d31a0672e99",
            "max": 789120,
            "min": 0,
            "orientation": "horizontal",
            "style": "IPY_MODEL_dce23ddf3c0541b282f839503dd90d62",
            "value": 789120
          }
        },
        "7cca2a051b95424a8268309e0e128916": {
          "model_module": "@jupyter-widgets/controls",
          "model_name": "HTMLModel",
          "model_module_version": "1.5.0",
          "state": {
            "_dom_classes": [],
            "_model_module": "@jupyter-widgets/controls",
            "_model_module_version": "1.5.0",
            "_model_name": "HTMLModel",
            "_view_count": null,
            "_view_module": "@jupyter-widgets/controls",
            "_view_module_version": "1.5.0",
            "_view_name": "HTMLView",
            "description": "",
            "description_tooltip": null,
            "layout": "IPY_MODEL_509ca5f4586e49b0a453f37ea2497e15",
            "placeholder": "​",
            "style": "IPY_MODEL_daf828d9608244dbbef2067a36a03d76",
            "value": " 789k/789k [00:00&lt;00:00, 164kB/s]"
          }
        },
        "af4662a9439f46b781053d4c01ba5161": {
          "model_module": "@jupyter-widgets/base",
          "model_name": "LayoutModel",
          "model_module_version": "1.2.0",
          "state": {
            "_model_module": "@jupyter-widgets/base",
            "_model_module_version": "1.2.0",
            "_model_name": "LayoutModel",
            "_view_count": null,
            "_view_module": "@jupyter-widgets/base",
            "_view_module_version": "1.2.0",
            "_view_name": "LayoutView",
            "align_content": null,
            "align_items": null,
            "align_self": null,
            "border": null,
            "bottom": null,
            "display": null,
            "flex": null,
            "flex_flow": null,
            "grid_area": null,
            "grid_auto_columns": null,
            "grid_auto_flow": null,
            "grid_auto_rows": null,
            "grid_column": null,
            "grid_gap": null,
            "grid_row": null,
            "grid_template_areas": null,
            "grid_template_columns": null,
            "grid_template_rows": null,
            "height": null,
            "justify_content": null,
            "justify_items": null,
            "left": null,
            "margin": null,
            "max_height": null,
            "max_width": null,
            "min_height": null,
            "min_width": null,
            "object_fit": null,
            "object_position": null,
            "order": null,
            "overflow": null,
            "overflow_x": null,
            "overflow_y": null,
            "padding": null,
            "right": null,
            "top": null,
            "visibility": null,
            "width": null
          }
        },
        "5206ccc4183f4dfea059397d854b281a": {
          "model_module": "@jupyter-widgets/base",
          "model_name": "LayoutModel",
          "model_module_version": "1.2.0",
          "state": {
            "_model_module": "@jupyter-widgets/base",
            "_model_module_version": "1.2.0",
            "_model_name": "LayoutModel",
            "_view_count": null,
            "_view_module": "@jupyter-widgets/base",
            "_view_module_version": "1.2.0",
            "_view_name": "LayoutView",
            "align_content": null,
            "align_items": null,
            "align_self": null,
            "border": null,
            "bottom": null,
            "display": null,
            "flex": null,
            "flex_flow": null,
            "grid_area": null,
            "grid_auto_columns": null,
            "grid_auto_flow": null,
            "grid_auto_rows": null,
            "grid_column": null,
            "grid_gap": null,
            "grid_row": null,
            "grid_template_areas": null,
            "grid_template_columns": null,
            "grid_template_rows": null,
            "height": null,
            "justify_content": null,
            "justify_items": null,
            "left": null,
            "margin": null,
            "max_height": null,
            "max_width": null,
            "min_height": null,
            "min_width": null,
            "object_fit": null,
            "object_position": null,
            "order": null,
            "overflow": null,
            "overflow_x": null,
            "overflow_y": null,
            "padding": null,
            "right": null,
            "top": null,
            "visibility": null,
            "width": null
          }
        },
        "9b456304ec10476094b87abf2dbb1ec5": {
          "model_module": "@jupyter-widgets/controls",
          "model_name": "DescriptionStyleModel",
          "model_module_version": "1.5.0",
          "state": {
            "_model_module": "@jupyter-widgets/controls",
            "_model_module_version": "1.5.0",
            "_model_name": "DescriptionStyleModel",
            "_view_count": null,
            "_view_module": "@jupyter-widgets/base",
            "_view_module_version": "1.2.0",
            "_view_name": "StyleView",
            "description_width": ""
          }
        },
        "26fdbe4dee7346548ba89d31a0672e99": {
          "model_module": "@jupyter-widgets/base",
          "model_name": "LayoutModel",
          "model_module_version": "1.2.0",
          "state": {
            "_model_module": "@jupyter-widgets/base",
            "_model_module_version": "1.2.0",
            "_model_name": "LayoutModel",
            "_view_count": null,
            "_view_module": "@jupyter-widgets/base",
            "_view_module_version": "1.2.0",
            "_view_name": "LayoutView",
            "align_content": null,
            "align_items": null,
            "align_self": null,
            "border": null,
            "bottom": null,
            "display": null,
            "flex": null,
            "flex_flow": null,
            "grid_area": null,
            "grid_auto_columns": null,
            "grid_auto_flow": null,
            "grid_auto_rows": null,
            "grid_column": null,
            "grid_gap": null,
            "grid_row": null,
            "grid_template_areas": null,
            "grid_template_columns": null,
            "grid_template_rows": null,
            "height": null,
            "justify_content": null,
            "justify_items": null,
            "left": null,
            "margin": null,
            "max_height": null,
            "max_width": null,
            "min_height": null,
            "min_width": null,
            "object_fit": null,
            "object_position": null,
            "order": null,
            "overflow": null,
            "overflow_x": null,
            "overflow_y": null,
            "padding": null,
            "right": null,
            "top": null,
            "visibility": null,
            "width": null
          }
        },
        "dce23ddf3c0541b282f839503dd90d62": {
          "model_module": "@jupyter-widgets/controls",
          "model_name": "ProgressStyleModel",
          "model_module_version": "1.5.0",
          "state": {
            "_model_module": "@jupyter-widgets/controls",
            "_model_module_version": "1.5.0",
            "_model_name": "ProgressStyleModel",
            "_view_count": null,
            "_view_module": "@jupyter-widgets/base",
            "_view_module_version": "1.2.0",
            "_view_name": "StyleView",
            "bar_color": null,
            "description_width": ""
          }
        },
        "509ca5f4586e49b0a453f37ea2497e15": {
          "model_module": "@jupyter-widgets/base",
          "model_name": "LayoutModel",
          "model_module_version": "1.2.0",
          "state": {
            "_model_module": "@jupyter-widgets/base",
            "_model_module_version": "1.2.0",
            "_model_name": "LayoutModel",
            "_view_count": null,
            "_view_module": "@jupyter-widgets/base",
            "_view_module_version": "1.2.0",
            "_view_name": "LayoutView",
            "align_content": null,
            "align_items": null,
            "align_self": null,
            "border": null,
            "bottom": null,
            "display": null,
            "flex": null,
            "flex_flow": null,
            "grid_area": null,
            "grid_auto_columns": null,
            "grid_auto_flow": null,
            "grid_auto_rows": null,
            "grid_column": null,
            "grid_gap": null,
            "grid_row": null,
            "grid_template_areas": null,
            "grid_template_columns": null,
            "grid_template_rows": null,
            "height": null,
            "justify_content": null,
            "justify_items": null,
            "left": null,
            "margin": null,
            "max_height": null,
            "max_width": null,
            "min_height": null,
            "min_width": null,
            "object_fit": null,
            "object_position": null,
            "order": null,
            "overflow": null,
            "overflow_x": null,
            "overflow_y": null,
            "padding": null,
            "right": null,
            "top": null,
            "visibility": null,
            "width": null
          }
        },
        "daf828d9608244dbbef2067a36a03d76": {
          "model_module": "@jupyter-widgets/controls",
          "model_name": "DescriptionStyleModel",
          "model_module_version": "1.5.0",
          "state": {
            "_model_module": "@jupyter-widgets/controls",
            "_model_module_version": "1.5.0",
            "_model_name": "DescriptionStyleModel",
            "_view_count": null,
            "_view_module": "@jupyter-widgets/base",
            "_view_module_version": "1.2.0",
            "_view_name": "StyleView",
            "description_width": ""
          }
        },
        "38a6b7af68ea4e9ca00bb62a182a78be": {
          "model_module": "@jupyter-widgets/controls",
          "model_name": "HBoxModel",
          "model_module_version": "1.5.0",
          "state": {
            "_dom_classes": [],
            "_model_module": "@jupyter-widgets/controls",
            "_model_module_version": "1.5.0",
            "_model_name": "HBoxModel",
            "_view_count": null,
            "_view_module": "@jupyter-widgets/controls",
            "_view_module_version": "1.5.0",
            "_view_name": "HBoxView",
            "box_style": "",
            "children": [
              "IPY_MODEL_01110acc628f42e39aa3d04b943b42c4",
              "IPY_MODEL_e64cb0bd33e349a9807eadb78bec8040",
              "IPY_MODEL_94659b7f4a984b118c101c601109bab7"
            ],
            "layout": "IPY_MODEL_ae1b835b59e64321815c02574b5becfd"
          }
        },
        "01110acc628f42e39aa3d04b943b42c4": {
          "model_module": "@jupyter-widgets/controls",
          "model_name": "HTMLModel",
          "model_module_version": "1.5.0",
          "state": {
            "_dom_classes": [],
            "_model_module": "@jupyter-widgets/controls",
            "_model_module_version": "1.5.0",
            "_model_name": "HTMLModel",
            "_view_count": null,
            "_view_module": "@jupyter-widgets/controls",
            "_view_module_version": "1.5.0",
            "_view_name": "HTMLView",
            "description": "",
            "description_tooltip": null,
            "layout": "IPY_MODEL_82380cd0ca2d43818deeb3214ce56f04",
            "placeholder": "​",
            "style": "IPY_MODEL_2baa2d363a2d494eaeebd541297e62d4",
            "value": "pytorch_model.bin: 100%"
          }
        },
        "e64cb0bd33e349a9807eadb78bec8040": {
          "model_module": "@jupyter-widgets/controls",
          "model_name": "FloatProgressModel",
          "model_module_version": "1.5.0",
          "state": {
            "_dom_classes": [],
            "_model_module": "@jupyter-widgets/controls",
            "_model_module_version": "1.5.0",
            "_model_name": "FloatProgressModel",
            "_view_count": null,
            "_view_module": "@jupyter-widgets/controls",
            "_view_module_version": "1.5.0",
            "_view_name": "ProgressView",
            "bar_style": "success",
            "description": "",
            "description_tooltip": null,
            "layout": "IPY_MODEL_a1fca31ea3194d4fa1c0dcd9535a890d",
            "max": 789120,
            "min": 0,
            "orientation": "horizontal",
            "style": "IPY_MODEL_c0db3816ec944631816b4842a4f9e5cf",
            "value": 789120
          }
        },
        "94659b7f4a984b118c101c601109bab7": {
          "model_module": "@jupyter-widgets/controls",
          "model_name": "HTMLModel",
          "model_module_version": "1.5.0",
          "state": {
            "_dom_classes": [],
            "_model_module": "@jupyter-widgets/controls",
            "_model_module_version": "1.5.0",
            "_model_name": "HTMLModel",
            "_view_count": null,
            "_view_module": "@jupyter-widgets/controls",
            "_view_module_version": "1.5.0",
            "_view_name": "HTMLView",
            "description": "",
            "description_tooltip": null,
            "layout": "IPY_MODEL_8873223e8a1945db8204738b95724f37",
            "placeholder": "​",
            "style": "IPY_MODEL_b5e2c5347ba84e23b0927d8a061f4102",
            "value": " 789k/789k [00:00&lt;00:00, 1.81MB/s]"
          }
        },
        "ae1b835b59e64321815c02574b5becfd": {
          "model_module": "@jupyter-widgets/base",
          "model_name": "LayoutModel",
          "model_module_version": "1.2.0",
          "state": {
            "_model_module": "@jupyter-widgets/base",
            "_model_module_version": "1.2.0",
            "_model_name": "LayoutModel",
            "_view_count": null,
            "_view_module": "@jupyter-widgets/base",
            "_view_module_version": "1.2.0",
            "_view_name": "LayoutView",
            "align_content": null,
            "align_items": null,
            "align_self": null,
            "border": null,
            "bottom": null,
            "display": null,
            "flex": null,
            "flex_flow": null,
            "grid_area": null,
            "grid_auto_columns": null,
            "grid_auto_flow": null,
            "grid_auto_rows": null,
            "grid_column": null,
            "grid_gap": null,
            "grid_row": null,
            "grid_template_areas": null,
            "grid_template_columns": null,
            "grid_template_rows": null,
            "height": null,
            "justify_content": null,
            "justify_items": null,
            "left": null,
            "margin": null,
            "max_height": null,
            "max_width": null,
            "min_height": null,
            "min_width": null,
            "object_fit": null,
            "object_position": null,
            "order": null,
            "overflow": null,
            "overflow_x": null,
            "overflow_y": null,
            "padding": null,
            "right": null,
            "top": null,
            "visibility": null,
            "width": null
          }
        },
        "82380cd0ca2d43818deeb3214ce56f04": {
          "model_module": "@jupyter-widgets/base",
          "model_name": "LayoutModel",
          "model_module_version": "1.2.0",
          "state": {
            "_model_module": "@jupyter-widgets/base",
            "_model_module_version": "1.2.0",
            "_model_name": "LayoutModel",
            "_view_count": null,
            "_view_module": "@jupyter-widgets/base",
            "_view_module_version": "1.2.0",
            "_view_name": "LayoutView",
            "align_content": null,
            "align_items": null,
            "align_self": null,
            "border": null,
            "bottom": null,
            "display": null,
            "flex": null,
            "flex_flow": null,
            "grid_area": null,
            "grid_auto_columns": null,
            "grid_auto_flow": null,
            "grid_auto_rows": null,
            "grid_column": null,
            "grid_gap": null,
            "grid_row": null,
            "grid_template_areas": null,
            "grid_template_columns": null,
            "grid_template_rows": null,
            "height": null,
            "justify_content": null,
            "justify_items": null,
            "left": null,
            "margin": null,
            "max_height": null,
            "max_width": null,
            "min_height": null,
            "min_width": null,
            "object_fit": null,
            "object_position": null,
            "order": null,
            "overflow": null,
            "overflow_x": null,
            "overflow_y": null,
            "padding": null,
            "right": null,
            "top": null,
            "visibility": null,
            "width": null
          }
        },
        "2baa2d363a2d494eaeebd541297e62d4": {
          "model_module": "@jupyter-widgets/controls",
          "model_name": "DescriptionStyleModel",
          "model_module_version": "1.5.0",
          "state": {
            "_model_module": "@jupyter-widgets/controls",
            "_model_module_version": "1.5.0",
            "_model_name": "DescriptionStyleModel",
            "_view_count": null,
            "_view_module": "@jupyter-widgets/base",
            "_view_module_version": "1.2.0",
            "_view_name": "StyleView",
            "description_width": ""
          }
        },
        "a1fca31ea3194d4fa1c0dcd9535a890d": {
          "model_module": "@jupyter-widgets/base",
          "model_name": "LayoutModel",
          "model_module_version": "1.2.0",
          "state": {
            "_model_module": "@jupyter-widgets/base",
            "_model_module_version": "1.2.0",
            "_model_name": "LayoutModel",
            "_view_count": null,
            "_view_module": "@jupyter-widgets/base",
            "_view_module_version": "1.2.0",
            "_view_name": "LayoutView",
            "align_content": null,
            "align_items": null,
            "align_self": null,
            "border": null,
            "bottom": null,
            "display": null,
            "flex": null,
            "flex_flow": null,
            "grid_area": null,
            "grid_auto_columns": null,
            "grid_auto_flow": null,
            "grid_auto_rows": null,
            "grid_column": null,
            "grid_gap": null,
            "grid_row": null,
            "grid_template_areas": null,
            "grid_template_columns": null,
            "grid_template_rows": null,
            "height": null,
            "justify_content": null,
            "justify_items": null,
            "left": null,
            "margin": null,
            "max_height": null,
            "max_width": null,
            "min_height": null,
            "min_width": null,
            "object_fit": null,
            "object_position": null,
            "order": null,
            "overflow": null,
            "overflow_x": null,
            "overflow_y": null,
            "padding": null,
            "right": null,
            "top": null,
            "visibility": null,
            "width": null
          }
        },
        "c0db3816ec944631816b4842a4f9e5cf": {
          "model_module": "@jupyter-widgets/controls",
          "model_name": "ProgressStyleModel",
          "model_module_version": "1.5.0",
          "state": {
            "_model_module": "@jupyter-widgets/controls",
            "_model_module_version": "1.5.0",
            "_model_name": "ProgressStyleModel",
            "_view_count": null,
            "_view_module": "@jupyter-widgets/base",
            "_view_module_version": "1.2.0",
            "_view_name": "StyleView",
            "bar_color": null,
            "description_width": ""
          }
        },
        "8873223e8a1945db8204738b95724f37": {
          "model_module": "@jupyter-widgets/base",
          "model_name": "LayoutModel",
          "model_module_version": "1.2.0",
          "state": {
            "_model_module": "@jupyter-widgets/base",
            "_model_module_version": "1.2.0",
            "_model_name": "LayoutModel",
            "_view_count": null,
            "_view_module": "@jupyter-widgets/base",
            "_view_module_version": "1.2.0",
            "_view_name": "LayoutView",
            "align_content": null,
            "align_items": null,
            "align_self": null,
            "border": null,
            "bottom": null,
            "display": null,
            "flex": null,
            "flex_flow": null,
            "grid_area": null,
            "grid_auto_columns": null,
            "grid_auto_flow": null,
            "grid_auto_rows": null,
            "grid_column": null,
            "grid_gap": null,
            "grid_row": null,
            "grid_template_areas": null,
            "grid_template_columns": null,
            "grid_template_rows": null,
            "height": null,
            "justify_content": null,
            "justify_items": null,
            "left": null,
            "margin": null,
            "max_height": null,
            "max_width": null,
            "min_height": null,
            "min_width": null,
            "object_fit": null,
            "object_position": null,
            "order": null,
            "overflow": null,
            "overflow_x": null,
            "overflow_y": null,
            "padding": null,
            "right": null,
            "top": null,
            "visibility": null,
            "width": null
          }
        },
        "b5e2c5347ba84e23b0927d8a061f4102": {
          "model_module": "@jupyter-widgets/controls",
          "model_name": "DescriptionStyleModel",
          "model_module_version": "1.5.0",
          "state": {
            "_model_module": "@jupyter-widgets/controls",
            "_model_module_version": "1.5.0",
            "_model_name": "DescriptionStyleModel",
            "_view_count": null,
            "_view_module": "@jupyter-widgets/base",
            "_view_module_version": "1.2.0",
            "_view_name": "StyleView",
            "description_width": ""
          }
        },
        "17c2c536368349b983c7d4570a06171d": {
          "model_module": "@jupyter-widgets/controls",
          "model_name": "HBoxModel",
          "model_module_version": "1.5.0",
          "state": {
            "_dom_classes": [],
            "_model_module": "@jupyter-widgets/controls",
            "_model_module_version": "1.5.0",
            "_model_name": "HBoxModel",
            "_view_count": null,
            "_view_module": "@jupyter-widgets/controls",
            "_view_module_version": "1.5.0",
            "_view_name": "HBoxView",
            "box_style": "",
            "children": [
              "IPY_MODEL_b788aae59d9346ea97a0a6609275c7be",
              "IPY_MODEL_0e146e71acc9440b9232d6c097f1501c",
              "IPY_MODEL_351b1e8a106945feb3f36f6b1c6b7129"
            ],
            "layout": "IPY_MODEL_fd8edc84ff9b4c59a642686f7aa2a228"
          }
        },
        "b788aae59d9346ea97a0a6609275c7be": {
          "model_module": "@jupyter-widgets/controls",
          "model_name": "HTMLModel",
          "model_module_version": "1.5.0",
          "state": {
            "_dom_classes": [],
            "_model_module": "@jupyter-widgets/controls",
            "_model_module_version": "1.5.0",
            "_model_name": "HTMLModel",
            "_view_count": null,
            "_view_module": "@jupyter-widgets/controls",
            "_view_module_version": "1.5.0",
            "_view_name": "HTMLView",
            "description": "",
            "description_tooltip": null,
            "layout": "IPY_MODEL_ff914ebfe90e4540848d1a2ce6b12df4",
            "placeholder": "​",
            "style": "IPY_MODEL_6ee8faf404704cf0957bfb7e24a3c50f",
            "value": "pytorch_model.bin: 100%"
          }
        },
        "0e146e71acc9440b9232d6c097f1501c": {
          "model_module": "@jupyter-widgets/controls",
          "model_name": "FloatProgressModel",
          "model_module_version": "1.5.0",
          "state": {
            "_dom_classes": [],
            "_model_module": "@jupyter-widgets/controls",
            "_model_module_version": "1.5.0",
            "_model_name": "FloatProgressModel",
            "_view_count": null,
            "_view_module": "@jupyter-widgets/controls",
            "_view_module_version": "1.5.0",
            "_view_name": "ProgressView",
            "bar_style": "success",
            "description": "",
            "description_tooltip": null,
            "layout": "IPY_MODEL_39a64af558584b9d8352f7f305a08165",
            "max": 789120,
            "min": 0,
            "orientation": "horizontal",
            "style": "IPY_MODEL_0fbb10e2865e41bdbaf3891636427a77",
            "value": 789120
          }
        },
        "351b1e8a106945feb3f36f6b1c6b7129": {
          "model_module": "@jupyter-widgets/controls",
          "model_name": "HTMLModel",
          "model_module_version": "1.5.0",
          "state": {
            "_dom_classes": [],
            "_model_module": "@jupyter-widgets/controls",
            "_model_module_version": "1.5.0",
            "_model_name": "HTMLModel",
            "_view_count": null,
            "_view_module": "@jupyter-widgets/controls",
            "_view_module_version": "1.5.0",
            "_view_name": "HTMLView",
            "description": "",
            "description_tooltip": null,
            "layout": "IPY_MODEL_3b51391b9e88491caa373128d095e850",
            "placeholder": "​",
            "style": "IPY_MODEL_f18e835285f14324bbed697f86ccf8b9",
            "value": " 789k/789k [00:00&lt;00:00, 2.05MB/s]"
          }
        },
        "fd8edc84ff9b4c59a642686f7aa2a228": {
          "model_module": "@jupyter-widgets/base",
          "model_name": "LayoutModel",
          "model_module_version": "1.2.0",
          "state": {
            "_model_module": "@jupyter-widgets/base",
            "_model_module_version": "1.2.0",
            "_model_name": "LayoutModel",
            "_view_count": null,
            "_view_module": "@jupyter-widgets/base",
            "_view_module_version": "1.2.0",
            "_view_name": "LayoutView",
            "align_content": null,
            "align_items": null,
            "align_self": null,
            "border": null,
            "bottom": null,
            "display": null,
            "flex": null,
            "flex_flow": null,
            "grid_area": null,
            "grid_auto_columns": null,
            "grid_auto_flow": null,
            "grid_auto_rows": null,
            "grid_column": null,
            "grid_gap": null,
            "grid_row": null,
            "grid_template_areas": null,
            "grid_template_columns": null,
            "grid_template_rows": null,
            "height": null,
            "justify_content": null,
            "justify_items": null,
            "left": null,
            "margin": null,
            "max_height": null,
            "max_width": null,
            "min_height": null,
            "min_width": null,
            "object_fit": null,
            "object_position": null,
            "order": null,
            "overflow": null,
            "overflow_x": null,
            "overflow_y": null,
            "padding": null,
            "right": null,
            "top": null,
            "visibility": null,
            "width": null
          }
        },
        "ff914ebfe90e4540848d1a2ce6b12df4": {
          "model_module": "@jupyter-widgets/base",
          "model_name": "LayoutModel",
          "model_module_version": "1.2.0",
          "state": {
            "_model_module": "@jupyter-widgets/base",
            "_model_module_version": "1.2.0",
            "_model_name": "LayoutModel",
            "_view_count": null,
            "_view_module": "@jupyter-widgets/base",
            "_view_module_version": "1.2.0",
            "_view_name": "LayoutView",
            "align_content": null,
            "align_items": null,
            "align_self": null,
            "border": null,
            "bottom": null,
            "display": null,
            "flex": null,
            "flex_flow": null,
            "grid_area": null,
            "grid_auto_columns": null,
            "grid_auto_flow": null,
            "grid_auto_rows": null,
            "grid_column": null,
            "grid_gap": null,
            "grid_row": null,
            "grid_template_areas": null,
            "grid_template_columns": null,
            "grid_template_rows": null,
            "height": null,
            "justify_content": null,
            "justify_items": null,
            "left": null,
            "margin": null,
            "max_height": null,
            "max_width": null,
            "min_height": null,
            "min_width": null,
            "object_fit": null,
            "object_position": null,
            "order": null,
            "overflow": null,
            "overflow_x": null,
            "overflow_y": null,
            "padding": null,
            "right": null,
            "top": null,
            "visibility": null,
            "width": null
          }
        },
        "6ee8faf404704cf0957bfb7e24a3c50f": {
          "model_module": "@jupyter-widgets/controls",
          "model_name": "DescriptionStyleModel",
          "model_module_version": "1.5.0",
          "state": {
            "_model_module": "@jupyter-widgets/controls",
            "_model_module_version": "1.5.0",
            "_model_name": "DescriptionStyleModel",
            "_view_count": null,
            "_view_module": "@jupyter-widgets/base",
            "_view_module_version": "1.2.0",
            "_view_name": "StyleView",
            "description_width": ""
          }
        },
        "39a64af558584b9d8352f7f305a08165": {
          "model_module": "@jupyter-widgets/base",
          "model_name": "LayoutModel",
          "model_module_version": "1.2.0",
          "state": {
            "_model_module": "@jupyter-widgets/base",
            "_model_module_version": "1.2.0",
            "_model_name": "LayoutModel",
            "_view_count": null,
            "_view_module": "@jupyter-widgets/base",
            "_view_module_version": "1.2.0",
            "_view_name": "LayoutView",
            "align_content": null,
            "align_items": null,
            "align_self": null,
            "border": null,
            "bottom": null,
            "display": null,
            "flex": null,
            "flex_flow": null,
            "grid_area": null,
            "grid_auto_columns": null,
            "grid_auto_flow": null,
            "grid_auto_rows": null,
            "grid_column": null,
            "grid_gap": null,
            "grid_row": null,
            "grid_template_areas": null,
            "grid_template_columns": null,
            "grid_template_rows": null,
            "height": null,
            "justify_content": null,
            "justify_items": null,
            "left": null,
            "margin": null,
            "max_height": null,
            "max_width": null,
            "min_height": null,
            "min_width": null,
            "object_fit": null,
            "object_position": null,
            "order": null,
            "overflow": null,
            "overflow_x": null,
            "overflow_y": null,
            "padding": null,
            "right": null,
            "top": null,
            "visibility": null,
            "width": null
          }
        },
        "0fbb10e2865e41bdbaf3891636427a77": {
          "model_module": "@jupyter-widgets/controls",
          "model_name": "ProgressStyleModel",
          "model_module_version": "1.5.0",
          "state": {
            "_model_module": "@jupyter-widgets/controls",
            "_model_module_version": "1.5.0",
            "_model_name": "ProgressStyleModel",
            "_view_count": null,
            "_view_module": "@jupyter-widgets/base",
            "_view_module_version": "1.2.0",
            "_view_name": "StyleView",
            "bar_color": null,
            "description_width": ""
          }
        },
        "3b51391b9e88491caa373128d095e850": {
          "model_module": "@jupyter-widgets/base",
          "model_name": "LayoutModel",
          "model_module_version": "1.2.0",
          "state": {
            "_model_module": "@jupyter-widgets/base",
            "_model_module_version": "1.2.0",
            "_model_name": "LayoutModel",
            "_view_count": null,
            "_view_module": "@jupyter-widgets/base",
            "_view_module_version": "1.2.0",
            "_view_name": "LayoutView",
            "align_content": null,
            "align_items": null,
            "align_self": null,
            "border": null,
            "bottom": null,
            "display": null,
            "flex": null,
            "flex_flow": null,
            "grid_area": null,
            "grid_auto_columns": null,
            "grid_auto_flow": null,
            "grid_auto_rows": null,
            "grid_column": null,
            "grid_gap": null,
            "grid_row": null,
            "grid_template_areas": null,
            "grid_template_columns": null,
            "grid_template_rows": null,
            "height": null,
            "justify_content": null,
            "justify_items": null,
            "left": null,
            "margin": null,
            "max_height": null,
            "max_width": null,
            "min_height": null,
            "min_width": null,
            "object_fit": null,
            "object_position": null,
            "order": null,
            "overflow": null,
            "overflow_x": null,
            "overflow_y": null,
            "padding": null,
            "right": null,
            "top": null,
            "visibility": null,
            "width": null
          }
        },
        "f18e835285f14324bbed697f86ccf8b9": {
          "model_module": "@jupyter-widgets/controls",
          "model_name": "DescriptionStyleModel",
          "model_module_version": "1.5.0",
          "state": {
            "_model_module": "@jupyter-widgets/controls",
            "_model_module_version": "1.5.0",
            "_model_name": "DescriptionStyleModel",
            "_view_count": null,
            "_view_module": "@jupyter-widgets/base",
            "_view_module_version": "1.2.0",
            "_view_name": "StyleView",
            "description_width": ""
          }
        },
        "e384346ed1244c33befbb8a6d0b35e21": {
          "model_module": "@jupyter-widgets/controls",
          "model_name": "HBoxModel",
          "model_module_version": "1.5.0",
          "state": {
            "_dom_classes": [],
            "_model_module": "@jupyter-widgets/controls",
            "_model_module_version": "1.5.0",
            "_model_name": "HBoxModel",
            "_view_count": null,
            "_view_module": "@jupyter-widgets/controls",
            "_view_module_version": "1.5.0",
            "_view_name": "HBoxView",
            "box_style": "",
            "children": [
              "IPY_MODEL_17b9b05062ec480fb152ee203950c1b0",
              "IPY_MODEL_c80fa2766e0a439394fca4fc171eb2f6",
              "IPY_MODEL_9e00572782bb47259eb5e001ba0979b4"
            ],
            "layout": "IPY_MODEL_58f4beee448a43098e2feb93e3f51bc7"
          }
        },
        "17b9b05062ec480fb152ee203950c1b0": {
          "model_module": "@jupyter-widgets/controls",
          "model_name": "HTMLModel",
          "model_module_version": "1.5.0",
          "state": {
            "_dom_classes": [],
            "_model_module": "@jupyter-widgets/controls",
            "_model_module_version": "1.5.0",
            "_model_name": "HTMLModel",
            "_view_count": null,
            "_view_module": "@jupyter-widgets/controls",
            "_view_module_version": "1.5.0",
            "_view_name": "HTMLView",
            "description": "",
            "description_tooltip": null,
            "layout": "IPY_MODEL_430ef441d0eb4e018aa1aa6d9d6d7f83",
            "placeholder": "​",
            "style": "IPY_MODEL_726dfe0c30b6415cbe7809f78986251c",
            "value": "pytorch_model.bin: 100%"
          }
        },
        "c80fa2766e0a439394fca4fc171eb2f6": {
          "model_module": "@jupyter-widgets/controls",
          "model_name": "FloatProgressModel",
          "model_module_version": "1.5.0",
          "state": {
            "_dom_classes": [],
            "_model_module": "@jupyter-widgets/controls",
            "_model_module_version": "1.5.0",
            "_model_name": "FloatProgressModel",
            "_view_count": null,
            "_view_module": "@jupyter-widgets/controls",
            "_view_module_version": "1.5.0",
            "_view_name": "ProgressView",
            "bar_style": "success",
            "description": "",
            "description_tooltip": null,
            "layout": "IPY_MODEL_bcfe977456ab4ffbba12b6d9b7e00b28",
            "max": 789120,
            "min": 0,
            "orientation": "horizontal",
            "style": "IPY_MODEL_12c011a61b9345d4976048a62dfdde55",
            "value": 789120
          }
        },
        "9e00572782bb47259eb5e001ba0979b4": {
          "model_module": "@jupyter-widgets/controls",
          "model_name": "HTMLModel",
          "model_module_version": "1.5.0",
          "state": {
            "_dom_classes": [],
            "_model_module": "@jupyter-widgets/controls",
            "_model_module_version": "1.5.0",
            "_model_name": "HTMLModel",
            "_view_count": null,
            "_view_module": "@jupyter-widgets/controls",
            "_view_module_version": "1.5.0",
            "_view_name": "HTMLView",
            "description": "",
            "description_tooltip": null,
            "layout": "IPY_MODEL_37b020b30dc040f08d1b2a69071217c9",
            "placeholder": "​",
            "style": "IPY_MODEL_4008c64d5fd14c50ad25a4780a55fafe",
            "value": " 789k/789k [00:00&lt;00:00, 3.25MB/s]"
          }
        },
        "58f4beee448a43098e2feb93e3f51bc7": {
          "model_module": "@jupyter-widgets/base",
          "model_name": "LayoutModel",
          "model_module_version": "1.2.0",
          "state": {
            "_model_module": "@jupyter-widgets/base",
            "_model_module_version": "1.2.0",
            "_model_name": "LayoutModel",
            "_view_count": null,
            "_view_module": "@jupyter-widgets/base",
            "_view_module_version": "1.2.0",
            "_view_name": "LayoutView",
            "align_content": null,
            "align_items": null,
            "align_self": null,
            "border": null,
            "bottom": null,
            "display": null,
            "flex": null,
            "flex_flow": null,
            "grid_area": null,
            "grid_auto_columns": null,
            "grid_auto_flow": null,
            "grid_auto_rows": null,
            "grid_column": null,
            "grid_gap": null,
            "grid_row": null,
            "grid_template_areas": null,
            "grid_template_columns": null,
            "grid_template_rows": null,
            "height": null,
            "justify_content": null,
            "justify_items": null,
            "left": null,
            "margin": null,
            "max_height": null,
            "max_width": null,
            "min_height": null,
            "min_width": null,
            "object_fit": null,
            "object_position": null,
            "order": null,
            "overflow": null,
            "overflow_x": null,
            "overflow_y": null,
            "padding": null,
            "right": null,
            "top": null,
            "visibility": null,
            "width": null
          }
        },
        "430ef441d0eb4e018aa1aa6d9d6d7f83": {
          "model_module": "@jupyter-widgets/base",
          "model_name": "LayoutModel",
          "model_module_version": "1.2.0",
          "state": {
            "_model_module": "@jupyter-widgets/base",
            "_model_module_version": "1.2.0",
            "_model_name": "LayoutModel",
            "_view_count": null,
            "_view_module": "@jupyter-widgets/base",
            "_view_module_version": "1.2.0",
            "_view_name": "LayoutView",
            "align_content": null,
            "align_items": null,
            "align_self": null,
            "border": null,
            "bottom": null,
            "display": null,
            "flex": null,
            "flex_flow": null,
            "grid_area": null,
            "grid_auto_columns": null,
            "grid_auto_flow": null,
            "grid_auto_rows": null,
            "grid_column": null,
            "grid_gap": null,
            "grid_row": null,
            "grid_template_areas": null,
            "grid_template_columns": null,
            "grid_template_rows": null,
            "height": null,
            "justify_content": null,
            "justify_items": null,
            "left": null,
            "margin": null,
            "max_height": null,
            "max_width": null,
            "min_height": null,
            "min_width": null,
            "object_fit": null,
            "object_position": null,
            "order": null,
            "overflow": null,
            "overflow_x": null,
            "overflow_y": null,
            "padding": null,
            "right": null,
            "top": null,
            "visibility": null,
            "width": null
          }
        },
        "726dfe0c30b6415cbe7809f78986251c": {
          "model_module": "@jupyter-widgets/controls",
          "model_name": "DescriptionStyleModel",
          "model_module_version": "1.5.0",
          "state": {
            "_model_module": "@jupyter-widgets/controls",
            "_model_module_version": "1.5.0",
            "_model_name": "DescriptionStyleModel",
            "_view_count": null,
            "_view_module": "@jupyter-widgets/base",
            "_view_module_version": "1.2.0",
            "_view_name": "StyleView",
            "description_width": ""
          }
        },
        "bcfe977456ab4ffbba12b6d9b7e00b28": {
          "model_module": "@jupyter-widgets/base",
          "model_name": "LayoutModel",
          "model_module_version": "1.2.0",
          "state": {
            "_model_module": "@jupyter-widgets/base",
            "_model_module_version": "1.2.0",
            "_model_name": "LayoutModel",
            "_view_count": null,
            "_view_module": "@jupyter-widgets/base",
            "_view_module_version": "1.2.0",
            "_view_name": "LayoutView",
            "align_content": null,
            "align_items": null,
            "align_self": null,
            "border": null,
            "bottom": null,
            "display": null,
            "flex": null,
            "flex_flow": null,
            "grid_area": null,
            "grid_auto_columns": null,
            "grid_auto_flow": null,
            "grid_auto_rows": null,
            "grid_column": null,
            "grid_gap": null,
            "grid_row": null,
            "grid_template_areas": null,
            "grid_template_columns": null,
            "grid_template_rows": null,
            "height": null,
            "justify_content": null,
            "justify_items": null,
            "left": null,
            "margin": null,
            "max_height": null,
            "max_width": null,
            "min_height": null,
            "min_width": null,
            "object_fit": null,
            "object_position": null,
            "order": null,
            "overflow": null,
            "overflow_x": null,
            "overflow_y": null,
            "padding": null,
            "right": null,
            "top": null,
            "visibility": null,
            "width": null
          }
        },
        "12c011a61b9345d4976048a62dfdde55": {
          "model_module": "@jupyter-widgets/controls",
          "model_name": "ProgressStyleModel",
          "model_module_version": "1.5.0",
          "state": {
            "_model_module": "@jupyter-widgets/controls",
            "_model_module_version": "1.5.0",
            "_model_name": "ProgressStyleModel",
            "_view_count": null,
            "_view_module": "@jupyter-widgets/base",
            "_view_module_version": "1.2.0",
            "_view_name": "StyleView",
            "bar_color": null,
            "description_width": ""
          }
        },
        "37b020b30dc040f08d1b2a69071217c9": {
          "model_module": "@jupyter-widgets/base",
          "model_name": "LayoutModel",
          "model_module_version": "1.2.0",
          "state": {
            "_model_module": "@jupyter-widgets/base",
            "_model_module_version": "1.2.0",
            "_model_name": "LayoutModel",
            "_view_count": null,
            "_view_module": "@jupyter-widgets/base",
            "_view_module_version": "1.2.0",
            "_view_name": "LayoutView",
            "align_content": null,
            "align_items": null,
            "align_self": null,
            "border": null,
            "bottom": null,
            "display": null,
            "flex": null,
            "flex_flow": null,
            "grid_area": null,
            "grid_auto_columns": null,
            "grid_auto_flow": null,
            "grid_auto_rows": null,
            "grid_column": null,
            "grid_gap": null,
            "grid_row": null,
            "grid_template_areas": null,
            "grid_template_columns": null,
            "grid_template_rows": null,
            "height": null,
            "justify_content": null,
            "justify_items": null,
            "left": null,
            "margin": null,
            "max_height": null,
            "max_width": null,
            "min_height": null,
            "min_width": null,
            "object_fit": null,
            "object_position": null,
            "order": null,
            "overflow": null,
            "overflow_x": null,
            "overflow_y": null,
            "padding": null,
            "right": null,
            "top": null,
            "visibility": null,
            "width": null
          }
        },
        "4008c64d5fd14c50ad25a4780a55fafe": {
          "model_module": "@jupyter-widgets/controls",
          "model_name": "DescriptionStyleModel",
          "model_module_version": "1.5.0",
          "state": {
            "_model_module": "@jupyter-widgets/controls",
            "_model_module_version": "1.5.0",
            "_model_name": "DescriptionStyleModel",
            "_view_count": null,
            "_view_module": "@jupyter-widgets/base",
            "_view_module_version": "1.2.0",
            "_view_name": "StyleView",
            "description_width": ""
          }
        },
        "a5a7a5f56f7a4efba1efb80a6720d2e9": {
          "model_module": "@jupyter-widgets/controls",
          "model_name": "HBoxModel",
          "model_module_version": "1.5.0",
          "state": {
            "_dom_classes": [],
            "_model_module": "@jupyter-widgets/controls",
            "_model_module_version": "1.5.0",
            "_model_name": "HBoxModel",
            "_view_count": null,
            "_view_module": "@jupyter-widgets/controls",
            "_view_module_version": "1.5.0",
            "_view_name": "HBoxView",
            "box_style": "",
            "children": [
              "IPY_MODEL_ee1a41284a2d4d05ad862a45100e23d2",
              "IPY_MODEL_be38c07f093e41c9adb155c8c584fe87",
              "IPY_MODEL_b92e843f0b364faf8c609db794b97f83"
            ],
            "layout": "IPY_MODEL_94ffc8a637ea45ebafec65aaec635206"
          }
        },
        "ee1a41284a2d4d05ad862a45100e23d2": {
          "model_module": "@jupyter-widgets/controls",
          "model_name": "HTMLModel",
          "model_module_version": "1.5.0",
          "state": {
            "_dom_classes": [],
            "_model_module": "@jupyter-widgets/controls",
            "_model_module_version": "1.5.0",
            "_model_name": "HTMLModel",
            "_view_count": null,
            "_view_module": "@jupyter-widgets/controls",
            "_view_module_version": "1.5.0",
            "_view_name": "HTMLView",
            "description": "",
            "description_tooltip": null,
            "layout": "IPY_MODEL_f8e098ee73ca493ab4e09fb2a1b81a3b",
            "placeholder": "​",
            "style": "IPY_MODEL_5b848c35fadf4275a6bc942e4ac4cd15",
            "value": "pytorch_model.bin: 100%"
          }
        },
        "be38c07f093e41c9adb155c8c584fe87": {
          "model_module": "@jupyter-widgets/controls",
          "model_name": "FloatProgressModel",
          "model_module_version": "1.5.0",
          "state": {
            "_dom_classes": [],
            "_model_module": "@jupyter-widgets/controls",
            "_model_module_version": "1.5.0",
            "_model_name": "FloatProgressModel",
            "_view_count": null,
            "_view_module": "@jupyter-widgets/controls",
            "_view_module_version": "1.5.0",
            "_view_name": "ProgressView",
            "bar_style": "success",
            "description": "",
            "description_tooltip": null,
            "layout": "IPY_MODEL_4392a92bb0704b9b9d9c09940e255193",
            "max": 789120,
            "min": 0,
            "orientation": "horizontal",
            "style": "IPY_MODEL_21980124d4eb4fb78f47a42004a05769",
            "value": 789120
          }
        },
        "b92e843f0b364faf8c609db794b97f83": {
          "model_module": "@jupyter-widgets/controls",
          "model_name": "HTMLModel",
          "model_module_version": "1.5.0",
          "state": {
            "_dom_classes": [],
            "_model_module": "@jupyter-widgets/controls",
            "_model_module_version": "1.5.0",
            "_model_name": "HTMLModel",
            "_view_count": null,
            "_view_module": "@jupyter-widgets/controls",
            "_view_module_version": "1.5.0",
            "_view_name": "HTMLView",
            "description": "",
            "description_tooltip": null,
            "layout": "IPY_MODEL_c13ee5fc93934a63a9d4b2197f699906",
            "placeholder": "​",
            "style": "IPY_MODEL_5837cccfacc94a7ba74da2225b6482f3",
            "value": " 789k/789k [00:00&lt;00:00, 2.63MB/s]"
          }
        },
        "94ffc8a637ea45ebafec65aaec635206": {
          "model_module": "@jupyter-widgets/base",
          "model_name": "LayoutModel",
          "model_module_version": "1.2.0",
          "state": {
            "_model_module": "@jupyter-widgets/base",
            "_model_module_version": "1.2.0",
            "_model_name": "LayoutModel",
            "_view_count": null,
            "_view_module": "@jupyter-widgets/base",
            "_view_module_version": "1.2.0",
            "_view_name": "LayoutView",
            "align_content": null,
            "align_items": null,
            "align_self": null,
            "border": null,
            "bottom": null,
            "display": null,
            "flex": null,
            "flex_flow": null,
            "grid_area": null,
            "grid_auto_columns": null,
            "grid_auto_flow": null,
            "grid_auto_rows": null,
            "grid_column": null,
            "grid_gap": null,
            "grid_row": null,
            "grid_template_areas": null,
            "grid_template_columns": null,
            "grid_template_rows": null,
            "height": null,
            "justify_content": null,
            "justify_items": null,
            "left": null,
            "margin": null,
            "max_height": null,
            "max_width": null,
            "min_height": null,
            "min_width": null,
            "object_fit": null,
            "object_position": null,
            "order": null,
            "overflow": null,
            "overflow_x": null,
            "overflow_y": null,
            "padding": null,
            "right": null,
            "top": null,
            "visibility": null,
            "width": null
          }
        },
        "f8e098ee73ca493ab4e09fb2a1b81a3b": {
          "model_module": "@jupyter-widgets/base",
          "model_name": "LayoutModel",
          "model_module_version": "1.2.0",
          "state": {
            "_model_module": "@jupyter-widgets/base",
            "_model_module_version": "1.2.0",
            "_model_name": "LayoutModel",
            "_view_count": null,
            "_view_module": "@jupyter-widgets/base",
            "_view_module_version": "1.2.0",
            "_view_name": "LayoutView",
            "align_content": null,
            "align_items": null,
            "align_self": null,
            "border": null,
            "bottom": null,
            "display": null,
            "flex": null,
            "flex_flow": null,
            "grid_area": null,
            "grid_auto_columns": null,
            "grid_auto_flow": null,
            "grid_auto_rows": null,
            "grid_column": null,
            "grid_gap": null,
            "grid_row": null,
            "grid_template_areas": null,
            "grid_template_columns": null,
            "grid_template_rows": null,
            "height": null,
            "justify_content": null,
            "justify_items": null,
            "left": null,
            "margin": null,
            "max_height": null,
            "max_width": null,
            "min_height": null,
            "min_width": null,
            "object_fit": null,
            "object_position": null,
            "order": null,
            "overflow": null,
            "overflow_x": null,
            "overflow_y": null,
            "padding": null,
            "right": null,
            "top": null,
            "visibility": null,
            "width": null
          }
        },
        "5b848c35fadf4275a6bc942e4ac4cd15": {
          "model_module": "@jupyter-widgets/controls",
          "model_name": "DescriptionStyleModel",
          "model_module_version": "1.5.0",
          "state": {
            "_model_module": "@jupyter-widgets/controls",
            "_model_module_version": "1.5.0",
            "_model_name": "DescriptionStyleModel",
            "_view_count": null,
            "_view_module": "@jupyter-widgets/base",
            "_view_module_version": "1.2.0",
            "_view_name": "StyleView",
            "description_width": ""
          }
        },
        "4392a92bb0704b9b9d9c09940e255193": {
          "model_module": "@jupyter-widgets/base",
          "model_name": "LayoutModel",
          "model_module_version": "1.2.0",
          "state": {
            "_model_module": "@jupyter-widgets/base",
            "_model_module_version": "1.2.0",
            "_model_name": "LayoutModel",
            "_view_count": null,
            "_view_module": "@jupyter-widgets/base",
            "_view_module_version": "1.2.0",
            "_view_name": "LayoutView",
            "align_content": null,
            "align_items": null,
            "align_self": null,
            "border": null,
            "bottom": null,
            "display": null,
            "flex": null,
            "flex_flow": null,
            "grid_area": null,
            "grid_auto_columns": null,
            "grid_auto_flow": null,
            "grid_auto_rows": null,
            "grid_column": null,
            "grid_gap": null,
            "grid_row": null,
            "grid_template_areas": null,
            "grid_template_columns": null,
            "grid_template_rows": null,
            "height": null,
            "justify_content": null,
            "justify_items": null,
            "left": null,
            "margin": null,
            "max_height": null,
            "max_width": null,
            "min_height": null,
            "min_width": null,
            "object_fit": null,
            "object_position": null,
            "order": null,
            "overflow": null,
            "overflow_x": null,
            "overflow_y": null,
            "padding": null,
            "right": null,
            "top": null,
            "visibility": null,
            "width": null
          }
        },
        "21980124d4eb4fb78f47a42004a05769": {
          "model_module": "@jupyter-widgets/controls",
          "model_name": "ProgressStyleModel",
          "model_module_version": "1.5.0",
          "state": {
            "_model_module": "@jupyter-widgets/controls",
            "_model_module_version": "1.5.0",
            "_model_name": "ProgressStyleModel",
            "_view_count": null,
            "_view_module": "@jupyter-widgets/base",
            "_view_module_version": "1.2.0",
            "_view_name": "StyleView",
            "bar_color": null,
            "description_width": ""
          }
        },
        "c13ee5fc93934a63a9d4b2197f699906": {
          "model_module": "@jupyter-widgets/base",
          "model_name": "LayoutModel",
          "model_module_version": "1.2.0",
          "state": {
            "_model_module": "@jupyter-widgets/base",
            "_model_module_version": "1.2.0",
            "_model_name": "LayoutModel",
            "_view_count": null,
            "_view_module": "@jupyter-widgets/base",
            "_view_module_version": "1.2.0",
            "_view_name": "LayoutView",
            "align_content": null,
            "align_items": null,
            "align_self": null,
            "border": null,
            "bottom": null,
            "display": null,
            "flex": null,
            "flex_flow": null,
            "grid_area": null,
            "grid_auto_columns": null,
            "grid_auto_flow": null,
            "grid_auto_rows": null,
            "grid_column": null,
            "grid_gap": null,
            "grid_row": null,
            "grid_template_areas": null,
            "grid_template_columns": null,
            "grid_template_rows": null,
            "height": null,
            "justify_content": null,
            "justify_items": null,
            "left": null,
            "margin": null,
            "max_height": null,
            "max_width": null,
            "min_height": null,
            "min_width": null,
            "object_fit": null,
            "object_position": null,
            "order": null,
            "overflow": null,
            "overflow_x": null,
            "overflow_y": null,
            "padding": null,
            "right": null,
            "top": null,
            "visibility": null,
            "width": null
          }
        },
        "5837cccfacc94a7ba74da2225b6482f3": {
          "model_module": "@jupyter-widgets/controls",
          "model_name": "DescriptionStyleModel",
          "model_module_version": "1.5.0",
          "state": {
            "_model_module": "@jupyter-widgets/controls",
            "_model_module_version": "1.5.0",
            "_model_name": "DescriptionStyleModel",
            "_view_count": null,
            "_view_module": "@jupyter-widgets/base",
            "_view_module_version": "1.2.0",
            "_view_name": "StyleView",
            "description_width": ""
          }
        },
        "8e79dbb9f58c487bb6bb8f1de98c2c96": {
          "model_module": "@jupyter-widgets/controls",
          "model_name": "HBoxModel",
          "model_module_version": "1.5.0",
          "state": {
            "_dom_classes": [],
            "_model_module": "@jupyter-widgets/controls",
            "_model_module_version": "1.5.0",
            "_model_name": "HBoxModel",
            "_view_count": null,
            "_view_module": "@jupyter-widgets/controls",
            "_view_module_version": "1.5.0",
            "_view_name": "HBoxView",
            "box_style": "",
            "children": [
              "IPY_MODEL_fceefdddb46049b2be6c9b7fd4799eab",
              "IPY_MODEL_97f41f8bb0ab45cba2b6308c3bebeaff",
              "IPY_MODEL_3041072efd2743928726046fc235de86"
            ],
            "layout": "IPY_MODEL_2eaf6d6bc3b24bf2b26d4c32058efd2e"
          }
        },
        "fceefdddb46049b2be6c9b7fd4799eab": {
          "model_module": "@jupyter-widgets/controls",
          "model_name": "HTMLModel",
          "model_module_version": "1.5.0",
          "state": {
            "_dom_classes": [],
            "_model_module": "@jupyter-widgets/controls",
            "_model_module_version": "1.5.0",
            "_model_name": "HTMLModel",
            "_view_count": null,
            "_view_module": "@jupyter-widgets/controls",
            "_view_module_version": "1.5.0",
            "_view_name": "HTMLView",
            "description": "",
            "description_tooltip": null,
            "layout": "IPY_MODEL_3721ba4703874c65afbf08c8fd532cb6",
            "placeholder": "​",
            "style": "IPY_MODEL_45bbf8ee345845a6a40df3f10fd4ab64",
            "value": "pytorch_model.bin: 100%"
          }
        },
        "97f41f8bb0ab45cba2b6308c3bebeaff": {
          "model_module": "@jupyter-widgets/controls",
          "model_name": "FloatProgressModel",
          "model_module_version": "1.5.0",
          "state": {
            "_dom_classes": [],
            "_model_module": "@jupyter-widgets/controls",
            "_model_module_version": "1.5.0",
            "_model_name": "FloatProgressModel",
            "_view_count": null,
            "_view_module": "@jupyter-widgets/controls",
            "_view_module_version": "1.5.0",
            "_view_name": "ProgressView",
            "bar_style": "success",
            "description": "",
            "description_tooltip": null,
            "layout": "IPY_MODEL_6da106df17aa401d80f81cb43a54a7da",
            "max": 789120,
            "min": 0,
            "orientation": "horizontal",
            "style": "IPY_MODEL_6e6520d7004f4588bfa5f0a642587573",
            "value": 789120
          }
        },
        "3041072efd2743928726046fc235de86": {
          "model_module": "@jupyter-widgets/controls",
          "model_name": "HTMLModel",
          "model_module_version": "1.5.0",
          "state": {
            "_dom_classes": [],
            "_model_module": "@jupyter-widgets/controls",
            "_model_module_version": "1.5.0",
            "_model_name": "HTMLModel",
            "_view_count": null,
            "_view_module": "@jupyter-widgets/controls",
            "_view_module_version": "1.5.0",
            "_view_name": "HTMLView",
            "description": "",
            "description_tooltip": null,
            "layout": "IPY_MODEL_d903d28b755f417788833774941ed8ee",
            "placeholder": "​",
            "style": "IPY_MODEL_c605d3e44857418bae4a1fcf504f4be7",
            "value": " 789k/789k [00:00&lt;00:00, 3.29MB/s]"
          }
        },
        "2eaf6d6bc3b24bf2b26d4c32058efd2e": {
          "model_module": "@jupyter-widgets/base",
          "model_name": "LayoutModel",
          "model_module_version": "1.2.0",
          "state": {
            "_model_module": "@jupyter-widgets/base",
            "_model_module_version": "1.2.0",
            "_model_name": "LayoutModel",
            "_view_count": null,
            "_view_module": "@jupyter-widgets/base",
            "_view_module_version": "1.2.0",
            "_view_name": "LayoutView",
            "align_content": null,
            "align_items": null,
            "align_self": null,
            "border": null,
            "bottom": null,
            "display": null,
            "flex": null,
            "flex_flow": null,
            "grid_area": null,
            "grid_auto_columns": null,
            "grid_auto_flow": null,
            "grid_auto_rows": null,
            "grid_column": null,
            "grid_gap": null,
            "grid_row": null,
            "grid_template_areas": null,
            "grid_template_columns": null,
            "grid_template_rows": null,
            "height": null,
            "justify_content": null,
            "justify_items": null,
            "left": null,
            "margin": null,
            "max_height": null,
            "max_width": null,
            "min_height": null,
            "min_width": null,
            "object_fit": null,
            "object_position": null,
            "order": null,
            "overflow": null,
            "overflow_x": null,
            "overflow_y": null,
            "padding": null,
            "right": null,
            "top": null,
            "visibility": null,
            "width": null
          }
        },
        "3721ba4703874c65afbf08c8fd532cb6": {
          "model_module": "@jupyter-widgets/base",
          "model_name": "LayoutModel",
          "model_module_version": "1.2.0",
          "state": {
            "_model_module": "@jupyter-widgets/base",
            "_model_module_version": "1.2.0",
            "_model_name": "LayoutModel",
            "_view_count": null,
            "_view_module": "@jupyter-widgets/base",
            "_view_module_version": "1.2.0",
            "_view_name": "LayoutView",
            "align_content": null,
            "align_items": null,
            "align_self": null,
            "border": null,
            "bottom": null,
            "display": null,
            "flex": null,
            "flex_flow": null,
            "grid_area": null,
            "grid_auto_columns": null,
            "grid_auto_flow": null,
            "grid_auto_rows": null,
            "grid_column": null,
            "grid_gap": null,
            "grid_row": null,
            "grid_template_areas": null,
            "grid_template_columns": null,
            "grid_template_rows": null,
            "height": null,
            "justify_content": null,
            "justify_items": null,
            "left": null,
            "margin": null,
            "max_height": null,
            "max_width": null,
            "min_height": null,
            "min_width": null,
            "object_fit": null,
            "object_position": null,
            "order": null,
            "overflow": null,
            "overflow_x": null,
            "overflow_y": null,
            "padding": null,
            "right": null,
            "top": null,
            "visibility": null,
            "width": null
          }
        },
        "45bbf8ee345845a6a40df3f10fd4ab64": {
          "model_module": "@jupyter-widgets/controls",
          "model_name": "DescriptionStyleModel",
          "model_module_version": "1.5.0",
          "state": {
            "_model_module": "@jupyter-widgets/controls",
            "_model_module_version": "1.5.0",
            "_model_name": "DescriptionStyleModel",
            "_view_count": null,
            "_view_module": "@jupyter-widgets/base",
            "_view_module_version": "1.2.0",
            "_view_name": "StyleView",
            "description_width": ""
          }
        },
        "6da106df17aa401d80f81cb43a54a7da": {
          "model_module": "@jupyter-widgets/base",
          "model_name": "LayoutModel",
          "model_module_version": "1.2.0",
          "state": {
            "_model_module": "@jupyter-widgets/base",
            "_model_module_version": "1.2.0",
            "_model_name": "LayoutModel",
            "_view_count": null,
            "_view_module": "@jupyter-widgets/base",
            "_view_module_version": "1.2.0",
            "_view_name": "LayoutView",
            "align_content": null,
            "align_items": null,
            "align_self": null,
            "border": null,
            "bottom": null,
            "display": null,
            "flex": null,
            "flex_flow": null,
            "grid_area": null,
            "grid_auto_columns": null,
            "grid_auto_flow": null,
            "grid_auto_rows": null,
            "grid_column": null,
            "grid_gap": null,
            "grid_row": null,
            "grid_template_areas": null,
            "grid_template_columns": null,
            "grid_template_rows": null,
            "height": null,
            "justify_content": null,
            "justify_items": null,
            "left": null,
            "margin": null,
            "max_height": null,
            "max_width": null,
            "min_height": null,
            "min_width": null,
            "object_fit": null,
            "object_position": null,
            "order": null,
            "overflow": null,
            "overflow_x": null,
            "overflow_y": null,
            "padding": null,
            "right": null,
            "top": null,
            "visibility": null,
            "width": null
          }
        },
        "6e6520d7004f4588bfa5f0a642587573": {
          "model_module": "@jupyter-widgets/controls",
          "model_name": "ProgressStyleModel",
          "model_module_version": "1.5.0",
          "state": {
            "_model_module": "@jupyter-widgets/controls",
            "_model_module_version": "1.5.0",
            "_model_name": "ProgressStyleModel",
            "_view_count": null,
            "_view_module": "@jupyter-widgets/base",
            "_view_module_version": "1.2.0",
            "_view_name": "StyleView",
            "bar_color": null,
            "description_width": ""
          }
        },
        "d903d28b755f417788833774941ed8ee": {
          "model_module": "@jupyter-widgets/base",
          "model_name": "LayoutModel",
          "model_module_version": "1.2.0",
          "state": {
            "_model_module": "@jupyter-widgets/base",
            "_model_module_version": "1.2.0",
            "_model_name": "LayoutModel",
            "_view_count": null,
            "_view_module": "@jupyter-widgets/base",
            "_view_module_version": "1.2.0",
            "_view_name": "LayoutView",
            "align_content": null,
            "align_items": null,
            "align_self": null,
            "border": null,
            "bottom": null,
            "display": null,
            "flex": null,
            "flex_flow": null,
            "grid_area": null,
            "grid_auto_columns": null,
            "grid_auto_flow": null,
            "grid_auto_rows": null,
            "grid_column": null,
            "grid_gap": null,
            "grid_row": null,
            "grid_template_areas": null,
            "grid_template_columns": null,
            "grid_template_rows": null,
            "height": null,
            "justify_content": null,
            "justify_items": null,
            "left": null,
            "margin": null,
            "max_height": null,
            "max_width": null,
            "min_height": null,
            "min_width": null,
            "object_fit": null,
            "object_position": null,
            "order": null,
            "overflow": null,
            "overflow_x": null,
            "overflow_y": null,
            "padding": null,
            "right": null,
            "top": null,
            "visibility": null,
            "width": null
          }
        },
        "c605d3e44857418bae4a1fcf504f4be7": {
          "model_module": "@jupyter-widgets/controls",
          "model_name": "DescriptionStyleModel",
          "model_module_version": "1.5.0",
          "state": {
            "_model_module": "@jupyter-widgets/controls",
            "_model_module_version": "1.5.0",
            "_model_name": "DescriptionStyleModel",
            "_view_count": null,
            "_view_module": "@jupyter-widgets/base",
            "_view_module_version": "1.2.0",
            "_view_name": "StyleView",
            "description_width": ""
          }
        },
        "3747fbe4f9d544bfbbd18ec10a9a91d7": {
          "model_module": "@jupyter-widgets/controls",
          "model_name": "HBoxModel",
          "model_module_version": "1.5.0",
          "state": {
            "_dom_classes": [],
            "_model_module": "@jupyter-widgets/controls",
            "_model_module_version": "1.5.0",
            "_model_name": "HBoxModel",
            "_view_count": null,
            "_view_module": "@jupyter-widgets/controls",
            "_view_module_version": "1.5.0",
            "_view_name": "HBoxView",
            "box_style": "",
            "children": [
              "IPY_MODEL_9b6bae934b4a40b8a52bc704ada5b02b",
              "IPY_MODEL_5c1de0dd7bfe45cc95d411b0ff40007e",
              "IPY_MODEL_9048993eb10544a590af600a58ee2f81"
            ],
            "layout": "IPY_MODEL_f6e2ce5627944b03bc760ceb7e8500e9"
          }
        },
        "9b6bae934b4a40b8a52bc704ada5b02b": {
          "model_module": "@jupyter-widgets/controls",
          "model_name": "HTMLModel",
          "model_module_version": "1.5.0",
          "state": {
            "_dom_classes": [],
            "_model_module": "@jupyter-widgets/controls",
            "_model_module_version": "1.5.0",
            "_model_name": "HTMLModel",
            "_view_count": null,
            "_view_module": "@jupyter-widgets/controls",
            "_view_module_version": "1.5.0",
            "_view_name": "HTMLView",
            "description": "",
            "description_tooltip": null,
            "layout": "IPY_MODEL_a4cbaf485ea646939161eaaa17e38b8c",
            "placeholder": "​",
            "style": "IPY_MODEL_6f12f5a1a06f4d54af115ce28ce1f7bc",
            "value": "pytorch_model.bin: 100%"
          }
        },
        "5c1de0dd7bfe45cc95d411b0ff40007e": {
          "model_module": "@jupyter-widgets/controls",
          "model_name": "FloatProgressModel",
          "model_module_version": "1.5.0",
          "state": {
            "_dom_classes": [],
            "_model_module": "@jupyter-widgets/controls",
            "_model_module_version": "1.5.0",
            "_model_name": "FloatProgressModel",
            "_view_count": null,
            "_view_module": "@jupyter-widgets/controls",
            "_view_module_version": "1.5.0",
            "_view_name": "ProgressView",
            "bar_style": "success",
            "description": "",
            "description_tooltip": null,
            "layout": "IPY_MODEL_6a6a1192d35a47a899eb45e3131c3ba8",
            "max": 789120,
            "min": 0,
            "orientation": "horizontal",
            "style": "IPY_MODEL_b53fe3f04e9143d4b70cd5bd31c4e661",
            "value": 789120
          }
        },
        "9048993eb10544a590af600a58ee2f81": {
          "model_module": "@jupyter-widgets/controls",
          "model_name": "HTMLModel",
          "model_module_version": "1.5.0",
          "state": {
            "_dom_classes": [],
            "_model_module": "@jupyter-widgets/controls",
            "_model_module_version": "1.5.0",
            "_model_name": "HTMLModel",
            "_view_count": null,
            "_view_module": "@jupyter-widgets/controls",
            "_view_module_version": "1.5.0",
            "_view_name": "HTMLView",
            "description": "",
            "description_tooltip": null,
            "layout": "IPY_MODEL_0245051bf95c4612802999319a7d3780",
            "placeholder": "​",
            "style": "IPY_MODEL_2f53b80cbeaf47dc9312db5f85557b82",
            "value": " 789k/789k [00:00&lt;00:00, 3.49MB/s]"
          }
        },
        "f6e2ce5627944b03bc760ceb7e8500e9": {
          "model_module": "@jupyter-widgets/base",
          "model_name": "LayoutModel",
          "model_module_version": "1.2.0",
          "state": {
            "_model_module": "@jupyter-widgets/base",
            "_model_module_version": "1.2.0",
            "_model_name": "LayoutModel",
            "_view_count": null,
            "_view_module": "@jupyter-widgets/base",
            "_view_module_version": "1.2.0",
            "_view_name": "LayoutView",
            "align_content": null,
            "align_items": null,
            "align_self": null,
            "border": null,
            "bottom": null,
            "display": null,
            "flex": null,
            "flex_flow": null,
            "grid_area": null,
            "grid_auto_columns": null,
            "grid_auto_flow": null,
            "grid_auto_rows": null,
            "grid_column": null,
            "grid_gap": null,
            "grid_row": null,
            "grid_template_areas": null,
            "grid_template_columns": null,
            "grid_template_rows": null,
            "height": null,
            "justify_content": null,
            "justify_items": null,
            "left": null,
            "margin": null,
            "max_height": null,
            "max_width": null,
            "min_height": null,
            "min_width": null,
            "object_fit": null,
            "object_position": null,
            "order": null,
            "overflow": null,
            "overflow_x": null,
            "overflow_y": null,
            "padding": null,
            "right": null,
            "top": null,
            "visibility": null,
            "width": null
          }
        },
        "a4cbaf485ea646939161eaaa17e38b8c": {
          "model_module": "@jupyter-widgets/base",
          "model_name": "LayoutModel",
          "model_module_version": "1.2.0",
          "state": {
            "_model_module": "@jupyter-widgets/base",
            "_model_module_version": "1.2.0",
            "_model_name": "LayoutModel",
            "_view_count": null,
            "_view_module": "@jupyter-widgets/base",
            "_view_module_version": "1.2.0",
            "_view_name": "LayoutView",
            "align_content": null,
            "align_items": null,
            "align_self": null,
            "border": null,
            "bottom": null,
            "display": null,
            "flex": null,
            "flex_flow": null,
            "grid_area": null,
            "grid_auto_columns": null,
            "grid_auto_flow": null,
            "grid_auto_rows": null,
            "grid_column": null,
            "grid_gap": null,
            "grid_row": null,
            "grid_template_areas": null,
            "grid_template_columns": null,
            "grid_template_rows": null,
            "height": null,
            "justify_content": null,
            "justify_items": null,
            "left": null,
            "margin": null,
            "max_height": null,
            "max_width": null,
            "min_height": null,
            "min_width": null,
            "object_fit": null,
            "object_position": null,
            "order": null,
            "overflow": null,
            "overflow_x": null,
            "overflow_y": null,
            "padding": null,
            "right": null,
            "top": null,
            "visibility": null,
            "width": null
          }
        },
        "6f12f5a1a06f4d54af115ce28ce1f7bc": {
          "model_module": "@jupyter-widgets/controls",
          "model_name": "DescriptionStyleModel",
          "model_module_version": "1.5.0",
          "state": {
            "_model_module": "@jupyter-widgets/controls",
            "_model_module_version": "1.5.0",
            "_model_name": "DescriptionStyleModel",
            "_view_count": null,
            "_view_module": "@jupyter-widgets/base",
            "_view_module_version": "1.2.0",
            "_view_name": "StyleView",
            "description_width": ""
          }
        },
        "6a6a1192d35a47a899eb45e3131c3ba8": {
          "model_module": "@jupyter-widgets/base",
          "model_name": "LayoutModel",
          "model_module_version": "1.2.0",
          "state": {
            "_model_module": "@jupyter-widgets/base",
            "_model_module_version": "1.2.0",
            "_model_name": "LayoutModel",
            "_view_count": null,
            "_view_module": "@jupyter-widgets/base",
            "_view_module_version": "1.2.0",
            "_view_name": "LayoutView",
            "align_content": null,
            "align_items": null,
            "align_self": null,
            "border": null,
            "bottom": null,
            "display": null,
            "flex": null,
            "flex_flow": null,
            "grid_area": null,
            "grid_auto_columns": null,
            "grid_auto_flow": null,
            "grid_auto_rows": null,
            "grid_column": null,
            "grid_gap": null,
            "grid_row": null,
            "grid_template_areas": null,
            "grid_template_columns": null,
            "grid_template_rows": null,
            "height": null,
            "justify_content": null,
            "justify_items": null,
            "left": null,
            "margin": null,
            "max_height": null,
            "max_width": null,
            "min_height": null,
            "min_width": null,
            "object_fit": null,
            "object_position": null,
            "order": null,
            "overflow": null,
            "overflow_x": null,
            "overflow_y": null,
            "padding": null,
            "right": null,
            "top": null,
            "visibility": null,
            "width": null
          }
        },
        "b53fe3f04e9143d4b70cd5bd31c4e661": {
          "model_module": "@jupyter-widgets/controls",
          "model_name": "ProgressStyleModel",
          "model_module_version": "1.5.0",
          "state": {
            "_model_module": "@jupyter-widgets/controls",
            "_model_module_version": "1.5.0",
            "_model_name": "ProgressStyleModel",
            "_view_count": null,
            "_view_module": "@jupyter-widgets/base",
            "_view_module_version": "1.2.0",
            "_view_name": "StyleView",
            "bar_color": null,
            "description_width": ""
          }
        },
        "0245051bf95c4612802999319a7d3780": {
          "model_module": "@jupyter-widgets/base",
          "model_name": "LayoutModel",
          "model_module_version": "1.2.0",
          "state": {
            "_model_module": "@jupyter-widgets/base",
            "_model_module_version": "1.2.0",
            "_model_name": "LayoutModel",
            "_view_count": null,
            "_view_module": "@jupyter-widgets/base",
            "_view_module_version": "1.2.0",
            "_view_name": "LayoutView",
            "align_content": null,
            "align_items": null,
            "align_self": null,
            "border": null,
            "bottom": null,
            "display": null,
            "flex": null,
            "flex_flow": null,
            "grid_area": null,
            "grid_auto_columns": null,
            "grid_auto_flow": null,
            "grid_auto_rows": null,
            "grid_column": null,
            "grid_gap": null,
            "grid_row": null,
            "grid_template_areas": null,
            "grid_template_columns": null,
            "grid_template_rows": null,
            "height": null,
            "justify_content": null,
            "justify_items": null,
            "left": null,
            "margin": null,
            "max_height": null,
            "max_width": null,
            "min_height": null,
            "min_width": null,
            "object_fit": null,
            "object_position": null,
            "order": null,
            "overflow": null,
            "overflow_x": null,
            "overflow_y": null,
            "padding": null,
            "right": null,
            "top": null,
            "visibility": null,
            "width": null
          }
        },
        "2f53b80cbeaf47dc9312db5f85557b82": {
          "model_module": "@jupyter-widgets/controls",
          "model_name": "DescriptionStyleModel",
          "model_module_version": "1.5.0",
          "state": {
            "_model_module": "@jupyter-widgets/controls",
            "_model_module_version": "1.5.0",
            "_model_name": "DescriptionStyleModel",
            "_view_count": null,
            "_view_module": "@jupyter-widgets/base",
            "_view_module_version": "1.2.0",
            "_view_name": "StyleView",
            "description_width": ""
          }
        },
        "303b7fe42787470691f2b398e1a54ae1": {
          "model_module": "@jupyter-widgets/controls",
          "model_name": "HBoxModel",
          "model_module_version": "1.5.0",
          "state": {
            "_dom_classes": [],
            "_model_module": "@jupyter-widgets/controls",
            "_model_module_version": "1.5.0",
            "_model_name": "HBoxModel",
            "_view_count": null,
            "_view_module": "@jupyter-widgets/controls",
            "_view_module_version": "1.5.0",
            "_view_name": "HBoxView",
            "box_style": "",
            "children": [
              "IPY_MODEL_cb54a917d5c84173a19838b0ed3977e2",
              "IPY_MODEL_bd014ed5e1c840f6812d277948353b54",
              "IPY_MODEL_6545e100a2da4611a8b1e0dbf12f3ab6"
            ],
            "layout": "IPY_MODEL_3968aa3841af4f3da3053177ba09f3f7"
          }
        },
        "cb54a917d5c84173a19838b0ed3977e2": {
          "model_module": "@jupyter-widgets/controls",
          "model_name": "HTMLModel",
          "model_module_version": "1.5.0",
          "state": {
            "_dom_classes": [],
            "_model_module": "@jupyter-widgets/controls",
            "_model_module_version": "1.5.0",
            "_model_name": "HTMLModel",
            "_view_count": null,
            "_view_module": "@jupyter-widgets/controls",
            "_view_module_version": "1.5.0",
            "_view_name": "HTMLView",
            "description": "",
            "description_tooltip": null,
            "layout": "IPY_MODEL_f82995c6112c4afc994d16ef3a989441",
            "placeholder": "​",
            "style": "IPY_MODEL_a012a84520734ba79e91aaefa518a618",
            "value": "pytorch_model.bin: 100%"
          }
        },
        "bd014ed5e1c840f6812d277948353b54": {
          "model_module": "@jupyter-widgets/controls",
          "model_name": "FloatProgressModel",
          "model_module_version": "1.5.0",
          "state": {
            "_dom_classes": [],
            "_model_module": "@jupyter-widgets/controls",
            "_model_module_version": "1.5.0",
            "_model_name": "FloatProgressModel",
            "_view_count": null,
            "_view_module": "@jupyter-widgets/controls",
            "_view_module_version": "1.5.0",
            "_view_name": "ProgressView",
            "bar_style": "success",
            "description": "",
            "description_tooltip": null,
            "layout": "IPY_MODEL_78d70051b5df4f16907e837d40e8e624",
            "max": 789120,
            "min": 0,
            "orientation": "horizontal",
            "style": "IPY_MODEL_a75657c2aaf546f7b1acb6874c2aa79e",
            "value": 789120
          }
        },
        "6545e100a2da4611a8b1e0dbf12f3ab6": {
          "model_module": "@jupyter-widgets/controls",
          "model_name": "HTMLModel",
          "model_module_version": "1.5.0",
          "state": {
            "_dom_classes": [],
            "_model_module": "@jupyter-widgets/controls",
            "_model_module_version": "1.5.0",
            "_model_name": "HTMLModel",
            "_view_count": null,
            "_view_module": "@jupyter-widgets/controls",
            "_view_module_version": "1.5.0",
            "_view_name": "HTMLView",
            "description": "",
            "description_tooltip": null,
            "layout": "IPY_MODEL_efcad5fe97d145d7b8ec6b7f8fd25a3f",
            "placeholder": "​",
            "style": "IPY_MODEL_c8d838c51f1542fbbf4c1905f78f4a11",
            "value": " 789k/789k [00:00&lt;00:00, 3.88MB/s]"
          }
        },
        "3968aa3841af4f3da3053177ba09f3f7": {
          "model_module": "@jupyter-widgets/base",
          "model_name": "LayoutModel",
          "model_module_version": "1.2.0",
          "state": {
            "_model_module": "@jupyter-widgets/base",
            "_model_module_version": "1.2.0",
            "_model_name": "LayoutModel",
            "_view_count": null,
            "_view_module": "@jupyter-widgets/base",
            "_view_module_version": "1.2.0",
            "_view_name": "LayoutView",
            "align_content": null,
            "align_items": null,
            "align_self": null,
            "border": null,
            "bottom": null,
            "display": null,
            "flex": null,
            "flex_flow": null,
            "grid_area": null,
            "grid_auto_columns": null,
            "grid_auto_flow": null,
            "grid_auto_rows": null,
            "grid_column": null,
            "grid_gap": null,
            "grid_row": null,
            "grid_template_areas": null,
            "grid_template_columns": null,
            "grid_template_rows": null,
            "height": null,
            "justify_content": null,
            "justify_items": null,
            "left": null,
            "margin": null,
            "max_height": null,
            "max_width": null,
            "min_height": null,
            "min_width": null,
            "object_fit": null,
            "object_position": null,
            "order": null,
            "overflow": null,
            "overflow_x": null,
            "overflow_y": null,
            "padding": null,
            "right": null,
            "top": null,
            "visibility": null,
            "width": null
          }
        },
        "f82995c6112c4afc994d16ef3a989441": {
          "model_module": "@jupyter-widgets/base",
          "model_name": "LayoutModel",
          "model_module_version": "1.2.0",
          "state": {
            "_model_module": "@jupyter-widgets/base",
            "_model_module_version": "1.2.0",
            "_model_name": "LayoutModel",
            "_view_count": null,
            "_view_module": "@jupyter-widgets/base",
            "_view_module_version": "1.2.0",
            "_view_name": "LayoutView",
            "align_content": null,
            "align_items": null,
            "align_self": null,
            "border": null,
            "bottom": null,
            "display": null,
            "flex": null,
            "flex_flow": null,
            "grid_area": null,
            "grid_auto_columns": null,
            "grid_auto_flow": null,
            "grid_auto_rows": null,
            "grid_column": null,
            "grid_gap": null,
            "grid_row": null,
            "grid_template_areas": null,
            "grid_template_columns": null,
            "grid_template_rows": null,
            "height": null,
            "justify_content": null,
            "justify_items": null,
            "left": null,
            "margin": null,
            "max_height": null,
            "max_width": null,
            "min_height": null,
            "min_width": null,
            "object_fit": null,
            "object_position": null,
            "order": null,
            "overflow": null,
            "overflow_x": null,
            "overflow_y": null,
            "padding": null,
            "right": null,
            "top": null,
            "visibility": null,
            "width": null
          }
        },
        "a012a84520734ba79e91aaefa518a618": {
          "model_module": "@jupyter-widgets/controls",
          "model_name": "DescriptionStyleModel",
          "model_module_version": "1.5.0",
          "state": {
            "_model_module": "@jupyter-widgets/controls",
            "_model_module_version": "1.5.0",
            "_model_name": "DescriptionStyleModel",
            "_view_count": null,
            "_view_module": "@jupyter-widgets/base",
            "_view_module_version": "1.2.0",
            "_view_name": "StyleView",
            "description_width": ""
          }
        },
        "78d70051b5df4f16907e837d40e8e624": {
          "model_module": "@jupyter-widgets/base",
          "model_name": "LayoutModel",
          "model_module_version": "1.2.0",
          "state": {
            "_model_module": "@jupyter-widgets/base",
            "_model_module_version": "1.2.0",
            "_model_name": "LayoutModel",
            "_view_count": null,
            "_view_module": "@jupyter-widgets/base",
            "_view_module_version": "1.2.0",
            "_view_name": "LayoutView",
            "align_content": null,
            "align_items": null,
            "align_self": null,
            "border": null,
            "bottom": null,
            "display": null,
            "flex": null,
            "flex_flow": null,
            "grid_area": null,
            "grid_auto_columns": null,
            "grid_auto_flow": null,
            "grid_auto_rows": null,
            "grid_column": null,
            "grid_gap": null,
            "grid_row": null,
            "grid_template_areas": null,
            "grid_template_columns": null,
            "grid_template_rows": null,
            "height": null,
            "justify_content": null,
            "justify_items": null,
            "left": null,
            "margin": null,
            "max_height": null,
            "max_width": null,
            "min_height": null,
            "min_width": null,
            "object_fit": null,
            "object_position": null,
            "order": null,
            "overflow": null,
            "overflow_x": null,
            "overflow_y": null,
            "padding": null,
            "right": null,
            "top": null,
            "visibility": null,
            "width": null
          }
        },
        "a75657c2aaf546f7b1acb6874c2aa79e": {
          "model_module": "@jupyter-widgets/controls",
          "model_name": "ProgressStyleModel",
          "model_module_version": "1.5.0",
          "state": {
            "_model_module": "@jupyter-widgets/controls",
            "_model_module_version": "1.5.0",
            "_model_name": "ProgressStyleModel",
            "_view_count": null,
            "_view_module": "@jupyter-widgets/base",
            "_view_module_version": "1.2.0",
            "_view_name": "StyleView",
            "bar_color": null,
            "description_width": ""
          }
        },
        "efcad5fe97d145d7b8ec6b7f8fd25a3f": {
          "model_module": "@jupyter-widgets/base",
          "model_name": "LayoutModel",
          "model_module_version": "1.2.0",
          "state": {
            "_model_module": "@jupyter-widgets/base",
            "_model_module_version": "1.2.0",
            "_model_name": "LayoutModel",
            "_view_count": null,
            "_view_module": "@jupyter-widgets/base",
            "_view_module_version": "1.2.0",
            "_view_name": "LayoutView",
            "align_content": null,
            "align_items": null,
            "align_self": null,
            "border": null,
            "bottom": null,
            "display": null,
            "flex": null,
            "flex_flow": null,
            "grid_area": null,
            "grid_auto_columns": null,
            "grid_auto_flow": null,
            "grid_auto_rows": null,
            "grid_column": null,
            "grid_gap": null,
            "grid_row": null,
            "grid_template_areas": null,
            "grid_template_columns": null,
            "grid_template_rows": null,
            "height": null,
            "justify_content": null,
            "justify_items": null,
            "left": null,
            "margin": null,
            "max_height": null,
            "max_width": null,
            "min_height": null,
            "min_width": null,
            "object_fit": null,
            "object_position": null,
            "order": null,
            "overflow": null,
            "overflow_x": null,
            "overflow_y": null,
            "padding": null,
            "right": null,
            "top": null,
            "visibility": null,
            "width": null
          }
        },
        "c8d838c51f1542fbbf4c1905f78f4a11": {
          "model_module": "@jupyter-widgets/controls",
          "model_name": "DescriptionStyleModel",
          "model_module_version": "1.5.0",
          "state": {
            "_model_module": "@jupyter-widgets/controls",
            "_model_module_version": "1.5.0",
            "_model_name": "DescriptionStyleModel",
            "_view_count": null,
            "_view_module": "@jupyter-widgets/base",
            "_view_module_version": "1.2.0",
            "_view_name": "StyleView",
            "description_width": ""
          }
        },
        "a0b55918ff3243c19686a3cbab5272e5": {
          "model_module": "@jupyter-widgets/controls",
          "model_name": "HBoxModel",
          "model_module_version": "1.5.0",
          "state": {
            "_dom_classes": [],
            "_model_module": "@jupyter-widgets/controls",
            "_model_module_version": "1.5.0",
            "_model_name": "HBoxModel",
            "_view_count": null,
            "_view_module": "@jupyter-widgets/controls",
            "_view_module_version": "1.5.0",
            "_view_name": "HBoxView",
            "box_style": "",
            "children": [
              "IPY_MODEL_99d0b0917c6148a89fa5ebacc57eab1d",
              "IPY_MODEL_24d61d97b7d34fde83caec03c5f071e3",
              "IPY_MODEL_8037200da5794839b22be54e1c687822"
            ],
            "layout": "IPY_MODEL_b65ae0e2c0144aa097d9dd9ab5d469fd"
          }
        },
        "99d0b0917c6148a89fa5ebacc57eab1d": {
          "model_module": "@jupyter-widgets/controls",
          "model_name": "HTMLModel",
          "model_module_version": "1.5.0",
          "state": {
            "_dom_classes": [],
            "_model_module": "@jupyter-widgets/controls",
            "_model_module_version": "1.5.0",
            "_model_name": "HTMLModel",
            "_view_count": null,
            "_view_module": "@jupyter-widgets/controls",
            "_view_module_version": "1.5.0",
            "_view_name": "HTMLView",
            "description": "",
            "description_tooltip": null,
            "layout": "IPY_MODEL_34a895e5d04345c093d51479bd7ff86d",
            "placeholder": "​",
            "style": "IPY_MODEL_f643a2c06a6646d28a689b4c5d5fdf54",
            "value": "pytorch_model.bin: 100%"
          }
        },
        "24d61d97b7d34fde83caec03c5f071e3": {
          "model_module": "@jupyter-widgets/controls",
          "model_name": "FloatProgressModel",
          "model_module_version": "1.5.0",
          "state": {
            "_dom_classes": [],
            "_model_module": "@jupyter-widgets/controls",
            "_model_module_version": "1.5.0",
            "_model_name": "FloatProgressModel",
            "_view_count": null,
            "_view_module": "@jupyter-widgets/controls",
            "_view_module_version": "1.5.0",
            "_view_name": "ProgressView",
            "bar_style": "success",
            "description": "",
            "description_tooltip": null,
            "layout": "IPY_MODEL_8119a199d52946b0971b3507461685c6",
            "max": 789120,
            "min": 0,
            "orientation": "horizontal",
            "style": "IPY_MODEL_510866de064446e4b86e13a78f760a81",
            "value": 789120
          }
        },
        "8037200da5794839b22be54e1c687822": {
          "model_module": "@jupyter-widgets/controls",
          "model_name": "HTMLModel",
          "model_module_version": "1.5.0",
          "state": {
            "_dom_classes": [],
            "_model_module": "@jupyter-widgets/controls",
            "_model_module_version": "1.5.0",
            "_model_name": "HTMLModel",
            "_view_count": null,
            "_view_module": "@jupyter-widgets/controls",
            "_view_module_version": "1.5.0",
            "_view_name": "HTMLView",
            "description": "",
            "description_tooltip": null,
            "layout": "IPY_MODEL_324ad9f86e5e45e9a64d1667c595f556",
            "placeholder": "​",
            "style": "IPY_MODEL_a01574ebe4d24ca68306ed49e74e6252",
            "value": " 789k/789k [00:00&lt;00:00, 2.73MB/s]"
          }
        },
        "b65ae0e2c0144aa097d9dd9ab5d469fd": {
          "model_module": "@jupyter-widgets/base",
          "model_name": "LayoutModel",
          "model_module_version": "1.2.0",
          "state": {
            "_model_module": "@jupyter-widgets/base",
            "_model_module_version": "1.2.0",
            "_model_name": "LayoutModel",
            "_view_count": null,
            "_view_module": "@jupyter-widgets/base",
            "_view_module_version": "1.2.0",
            "_view_name": "LayoutView",
            "align_content": null,
            "align_items": null,
            "align_self": null,
            "border": null,
            "bottom": null,
            "display": null,
            "flex": null,
            "flex_flow": null,
            "grid_area": null,
            "grid_auto_columns": null,
            "grid_auto_flow": null,
            "grid_auto_rows": null,
            "grid_column": null,
            "grid_gap": null,
            "grid_row": null,
            "grid_template_areas": null,
            "grid_template_columns": null,
            "grid_template_rows": null,
            "height": null,
            "justify_content": null,
            "justify_items": null,
            "left": null,
            "margin": null,
            "max_height": null,
            "max_width": null,
            "min_height": null,
            "min_width": null,
            "object_fit": null,
            "object_position": null,
            "order": null,
            "overflow": null,
            "overflow_x": null,
            "overflow_y": null,
            "padding": null,
            "right": null,
            "top": null,
            "visibility": null,
            "width": null
          }
        },
        "34a895e5d04345c093d51479bd7ff86d": {
          "model_module": "@jupyter-widgets/base",
          "model_name": "LayoutModel",
          "model_module_version": "1.2.0",
          "state": {
            "_model_module": "@jupyter-widgets/base",
            "_model_module_version": "1.2.0",
            "_model_name": "LayoutModel",
            "_view_count": null,
            "_view_module": "@jupyter-widgets/base",
            "_view_module_version": "1.2.0",
            "_view_name": "LayoutView",
            "align_content": null,
            "align_items": null,
            "align_self": null,
            "border": null,
            "bottom": null,
            "display": null,
            "flex": null,
            "flex_flow": null,
            "grid_area": null,
            "grid_auto_columns": null,
            "grid_auto_flow": null,
            "grid_auto_rows": null,
            "grid_column": null,
            "grid_gap": null,
            "grid_row": null,
            "grid_template_areas": null,
            "grid_template_columns": null,
            "grid_template_rows": null,
            "height": null,
            "justify_content": null,
            "justify_items": null,
            "left": null,
            "margin": null,
            "max_height": null,
            "max_width": null,
            "min_height": null,
            "min_width": null,
            "object_fit": null,
            "object_position": null,
            "order": null,
            "overflow": null,
            "overflow_x": null,
            "overflow_y": null,
            "padding": null,
            "right": null,
            "top": null,
            "visibility": null,
            "width": null
          }
        },
        "f643a2c06a6646d28a689b4c5d5fdf54": {
          "model_module": "@jupyter-widgets/controls",
          "model_name": "DescriptionStyleModel",
          "model_module_version": "1.5.0",
          "state": {
            "_model_module": "@jupyter-widgets/controls",
            "_model_module_version": "1.5.0",
            "_model_name": "DescriptionStyleModel",
            "_view_count": null,
            "_view_module": "@jupyter-widgets/base",
            "_view_module_version": "1.2.0",
            "_view_name": "StyleView",
            "description_width": ""
          }
        },
        "8119a199d52946b0971b3507461685c6": {
          "model_module": "@jupyter-widgets/base",
          "model_name": "LayoutModel",
          "model_module_version": "1.2.0",
          "state": {
            "_model_module": "@jupyter-widgets/base",
            "_model_module_version": "1.2.0",
            "_model_name": "LayoutModel",
            "_view_count": null,
            "_view_module": "@jupyter-widgets/base",
            "_view_module_version": "1.2.0",
            "_view_name": "LayoutView",
            "align_content": null,
            "align_items": null,
            "align_self": null,
            "border": null,
            "bottom": null,
            "display": null,
            "flex": null,
            "flex_flow": null,
            "grid_area": null,
            "grid_auto_columns": null,
            "grid_auto_flow": null,
            "grid_auto_rows": null,
            "grid_column": null,
            "grid_gap": null,
            "grid_row": null,
            "grid_template_areas": null,
            "grid_template_columns": null,
            "grid_template_rows": null,
            "height": null,
            "justify_content": null,
            "justify_items": null,
            "left": null,
            "margin": null,
            "max_height": null,
            "max_width": null,
            "min_height": null,
            "min_width": null,
            "object_fit": null,
            "object_position": null,
            "order": null,
            "overflow": null,
            "overflow_x": null,
            "overflow_y": null,
            "padding": null,
            "right": null,
            "top": null,
            "visibility": null,
            "width": null
          }
        },
        "510866de064446e4b86e13a78f760a81": {
          "model_module": "@jupyter-widgets/controls",
          "model_name": "ProgressStyleModel",
          "model_module_version": "1.5.0",
          "state": {
            "_model_module": "@jupyter-widgets/controls",
            "_model_module_version": "1.5.0",
            "_model_name": "ProgressStyleModel",
            "_view_count": null,
            "_view_module": "@jupyter-widgets/base",
            "_view_module_version": "1.2.0",
            "_view_name": "StyleView",
            "bar_color": null,
            "description_width": ""
          }
        },
        "324ad9f86e5e45e9a64d1667c595f556": {
          "model_module": "@jupyter-widgets/base",
          "model_name": "LayoutModel",
          "model_module_version": "1.2.0",
          "state": {
            "_model_module": "@jupyter-widgets/base",
            "_model_module_version": "1.2.0",
            "_model_name": "LayoutModel",
            "_view_count": null,
            "_view_module": "@jupyter-widgets/base",
            "_view_module_version": "1.2.0",
            "_view_name": "LayoutView",
            "align_content": null,
            "align_items": null,
            "align_self": null,
            "border": null,
            "bottom": null,
            "display": null,
            "flex": null,
            "flex_flow": null,
            "grid_area": null,
            "grid_auto_columns": null,
            "grid_auto_flow": null,
            "grid_auto_rows": null,
            "grid_column": null,
            "grid_gap": null,
            "grid_row": null,
            "grid_template_areas": null,
            "grid_template_columns": null,
            "grid_template_rows": null,
            "height": null,
            "justify_content": null,
            "justify_items": null,
            "left": null,
            "margin": null,
            "max_height": null,
            "max_width": null,
            "min_height": null,
            "min_width": null,
            "object_fit": null,
            "object_position": null,
            "order": null,
            "overflow": null,
            "overflow_x": null,
            "overflow_y": null,
            "padding": null,
            "right": null,
            "top": null,
            "visibility": null,
            "width": null
          }
        },
        "a01574ebe4d24ca68306ed49e74e6252": {
          "model_module": "@jupyter-widgets/controls",
          "model_name": "DescriptionStyleModel",
          "model_module_version": "1.5.0",
          "state": {
            "_model_module": "@jupyter-widgets/controls",
            "_model_module_version": "1.5.0",
            "_model_name": "DescriptionStyleModel",
            "_view_count": null,
            "_view_module": "@jupyter-widgets/base",
            "_view_module_version": "1.2.0",
            "_view_name": "StyleView",
            "description_width": ""
          }
        },
        "8f687c3aebd749259bfbf6852006385f": {
          "model_module": "@jupyter-widgets/controls",
          "model_name": "VBoxModel",
          "model_module_version": "1.5.0",
          "state": {
            "_dom_classes": [],
            "_model_module": "@jupyter-widgets/controls",
            "_model_module_version": "1.5.0",
            "_model_name": "VBoxModel",
            "_view_count": null,
            "_view_module": "@jupyter-widgets/controls",
            "_view_module_version": "1.5.0",
            "_view_name": "VBoxView",
            "box_style": "",
            "children": [
              "IPY_MODEL_087557b5ce9d4b65b12894e64f090fff",
              "IPY_MODEL_aed91c0e49774d78be9bd5f687ccdbbe"
            ],
            "layout": "IPY_MODEL_34a2456a6df142d687bf51f98f7fbb00"
          }
        },
        "087557b5ce9d4b65b12894e64f090fff": {
          "model_module": "@jupyter-widgets/controls",
          "model_name": "LabelModel",
          "model_module_version": "1.5.0",
          "state": {
            "_dom_classes": [],
            "_model_module": "@jupyter-widgets/controls",
            "_model_module_version": "1.5.0",
            "_model_name": "LabelModel",
            "_view_count": null,
            "_view_module": "@jupyter-widgets/controls",
            "_view_module_version": "1.5.0",
            "_view_name": "LabelView",
            "description": "",
            "description_tooltip": null,
            "layout": "IPY_MODEL_1ce2517b88ac493db2af66243f0ccbf9",
            "placeholder": "​",
            "style": "IPY_MODEL_9755b8fcd47a4999aed4322db8048176",
            "value": "0.018 MB of 0.018 MB uploaded\r"
          }
        },
        "aed91c0e49774d78be9bd5f687ccdbbe": {
          "model_module": "@jupyter-widgets/controls",
          "model_name": "FloatProgressModel",
          "model_module_version": "1.5.0",
          "state": {
            "_dom_classes": [],
            "_model_module": "@jupyter-widgets/controls",
            "_model_module_version": "1.5.0",
            "_model_name": "FloatProgressModel",
            "_view_count": null,
            "_view_module": "@jupyter-widgets/controls",
            "_view_module_version": "1.5.0",
            "_view_name": "ProgressView",
            "bar_style": "",
            "description": "",
            "description_tooltip": null,
            "layout": "IPY_MODEL_9ed2c4ba6f204806ba648e2f2f4f5e42",
            "max": 1,
            "min": 0,
            "orientation": "horizontal",
            "style": "IPY_MODEL_c37ebcc523ef4b688bea88f3e4b5bac2",
            "value": 1
          }
        },
        "34a2456a6df142d687bf51f98f7fbb00": {
          "model_module": "@jupyter-widgets/base",
          "model_name": "LayoutModel",
          "model_module_version": "1.2.0",
          "state": {
            "_model_module": "@jupyter-widgets/base",
            "_model_module_version": "1.2.0",
            "_model_name": "LayoutModel",
            "_view_count": null,
            "_view_module": "@jupyter-widgets/base",
            "_view_module_version": "1.2.0",
            "_view_name": "LayoutView",
            "align_content": null,
            "align_items": null,
            "align_self": null,
            "border": null,
            "bottom": null,
            "display": null,
            "flex": null,
            "flex_flow": null,
            "grid_area": null,
            "grid_auto_columns": null,
            "grid_auto_flow": null,
            "grid_auto_rows": null,
            "grid_column": null,
            "grid_gap": null,
            "grid_row": null,
            "grid_template_areas": null,
            "grid_template_columns": null,
            "grid_template_rows": null,
            "height": null,
            "justify_content": null,
            "justify_items": null,
            "left": null,
            "margin": null,
            "max_height": null,
            "max_width": null,
            "min_height": null,
            "min_width": null,
            "object_fit": null,
            "object_position": null,
            "order": null,
            "overflow": null,
            "overflow_x": null,
            "overflow_y": null,
            "padding": null,
            "right": null,
            "top": null,
            "visibility": null,
            "width": null
          }
        },
        "1ce2517b88ac493db2af66243f0ccbf9": {
          "model_module": "@jupyter-widgets/base",
          "model_name": "LayoutModel",
          "model_module_version": "1.2.0",
          "state": {
            "_model_module": "@jupyter-widgets/base",
            "_model_module_version": "1.2.0",
            "_model_name": "LayoutModel",
            "_view_count": null,
            "_view_module": "@jupyter-widgets/base",
            "_view_module_version": "1.2.0",
            "_view_name": "LayoutView",
            "align_content": null,
            "align_items": null,
            "align_self": null,
            "border": null,
            "bottom": null,
            "display": null,
            "flex": null,
            "flex_flow": null,
            "grid_area": null,
            "grid_auto_columns": null,
            "grid_auto_flow": null,
            "grid_auto_rows": null,
            "grid_column": null,
            "grid_gap": null,
            "grid_row": null,
            "grid_template_areas": null,
            "grid_template_columns": null,
            "grid_template_rows": null,
            "height": null,
            "justify_content": null,
            "justify_items": null,
            "left": null,
            "margin": null,
            "max_height": null,
            "max_width": null,
            "min_height": null,
            "min_width": null,
            "object_fit": null,
            "object_position": null,
            "order": null,
            "overflow": null,
            "overflow_x": null,
            "overflow_y": null,
            "padding": null,
            "right": null,
            "top": null,
            "visibility": null,
            "width": null
          }
        },
        "9755b8fcd47a4999aed4322db8048176": {
          "model_module": "@jupyter-widgets/controls",
          "model_name": "DescriptionStyleModel",
          "model_module_version": "1.5.0",
          "state": {
            "_model_module": "@jupyter-widgets/controls",
            "_model_module_version": "1.5.0",
            "_model_name": "DescriptionStyleModel",
            "_view_count": null,
            "_view_module": "@jupyter-widgets/base",
            "_view_module_version": "1.2.0",
            "_view_name": "StyleView",
            "description_width": ""
          }
        },
        "9ed2c4ba6f204806ba648e2f2f4f5e42": {
          "model_module": "@jupyter-widgets/base",
          "model_name": "LayoutModel",
          "model_module_version": "1.2.0",
          "state": {
            "_model_module": "@jupyter-widgets/base",
            "_model_module_version": "1.2.0",
            "_model_name": "LayoutModel",
            "_view_count": null,
            "_view_module": "@jupyter-widgets/base",
            "_view_module_version": "1.2.0",
            "_view_name": "LayoutView",
            "align_content": null,
            "align_items": null,
            "align_self": null,
            "border": null,
            "bottom": null,
            "display": null,
            "flex": null,
            "flex_flow": null,
            "grid_area": null,
            "grid_auto_columns": null,
            "grid_auto_flow": null,
            "grid_auto_rows": null,
            "grid_column": null,
            "grid_gap": null,
            "grid_row": null,
            "grid_template_areas": null,
            "grid_template_columns": null,
            "grid_template_rows": null,
            "height": null,
            "justify_content": null,
            "justify_items": null,
            "left": null,
            "margin": null,
            "max_height": null,
            "max_width": null,
            "min_height": null,
            "min_width": null,
            "object_fit": null,
            "object_position": null,
            "order": null,
            "overflow": null,
            "overflow_x": null,
            "overflow_y": null,
            "padding": null,
            "right": null,
            "top": null,
            "visibility": null,
            "width": null
          }
        },
        "c37ebcc523ef4b688bea88f3e4b5bac2": {
          "model_module": "@jupyter-widgets/controls",
          "model_name": "ProgressStyleModel",
          "model_module_version": "1.5.0",
          "state": {
            "_model_module": "@jupyter-widgets/controls",
            "_model_module_version": "1.5.0",
            "_model_name": "ProgressStyleModel",
            "_view_count": null,
            "_view_module": "@jupyter-widgets/base",
            "_view_module_version": "1.2.0",
            "_view_name": "StyleView",
            "bar_color": null,
            "description_width": ""
          }
        },
        "11c25a13fe1d49b784673f257c4fd752": {
          "model_module": "@jupyter-widgets/controls",
          "model_name": "HBoxModel",
          "model_module_version": "1.5.0",
          "state": {
            "_dom_classes": [],
            "_model_module": "@jupyter-widgets/controls",
            "_model_module_version": "1.5.0",
            "_model_name": "HBoxModel",
            "_view_count": null,
            "_view_module": "@jupyter-widgets/controls",
            "_view_module_version": "1.5.0",
            "_view_name": "HBoxView",
            "box_style": "",
            "children": [
              "IPY_MODEL_2545761366cd4865a9e9d2a84e894507",
              "IPY_MODEL_6cb42873e3dd4f52ae0916df95b24f53",
              "IPY_MODEL_37a6a2a236e743f1ae05a8afca5fbf91"
            ],
            "layout": "IPY_MODEL_88af801f0ce64fb28d0d93f50c039edd"
          }
        },
        "2545761366cd4865a9e9d2a84e894507": {
          "model_module": "@jupyter-widgets/controls",
          "model_name": "HTMLModel",
          "model_module_version": "1.5.0",
          "state": {
            "_dom_classes": [],
            "_model_module": "@jupyter-widgets/controls",
            "_model_module_version": "1.5.0",
            "_model_name": "HTMLModel",
            "_view_count": null,
            "_view_module": "@jupyter-widgets/controls",
            "_view_module_version": "1.5.0",
            "_view_name": "HTMLView",
            "description": "",
            "description_tooltip": null,
            "layout": "IPY_MODEL_70b193da8ef04702af98b9ba3fd543e3",
            "placeholder": "​",
            "style": "IPY_MODEL_dcf017010407463786f25bcc63dc4326",
            "value": "pytorch_model.bin: 100%"
          }
        },
        "6cb42873e3dd4f52ae0916df95b24f53": {
          "model_module": "@jupyter-widgets/controls",
          "model_name": "FloatProgressModel",
          "model_module_version": "1.5.0",
          "state": {
            "_dom_classes": [],
            "_model_module": "@jupyter-widgets/controls",
            "_model_module_version": "1.5.0",
            "_model_name": "FloatProgressModel",
            "_view_count": null,
            "_view_module": "@jupyter-widgets/controls",
            "_view_module_version": "1.5.0",
            "_view_name": "ProgressView",
            "bar_style": "success",
            "description": "",
            "description_tooltip": null,
            "layout": "IPY_MODEL_4b527dee3ab1490c91f0874033ffb16e",
            "max": 789120,
            "min": 0,
            "orientation": "horizontal",
            "style": "IPY_MODEL_83170952c33e49fabb90787235ea4c1a",
            "value": 789120
          }
        },
        "37a6a2a236e743f1ae05a8afca5fbf91": {
          "model_module": "@jupyter-widgets/controls",
          "model_name": "HTMLModel",
          "model_module_version": "1.5.0",
          "state": {
            "_dom_classes": [],
            "_model_module": "@jupyter-widgets/controls",
            "_model_module_version": "1.5.0",
            "_model_name": "HTMLModel",
            "_view_count": null,
            "_view_module": "@jupyter-widgets/controls",
            "_view_module_version": "1.5.0",
            "_view_name": "HTMLView",
            "description": "",
            "description_tooltip": null,
            "layout": "IPY_MODEL_5dcfc005dce54346905421bbead7a7e2",
            "placeholder": "​",
            "style": "IPY_MODEL_b7e9b78bd80a4487821b91d586184bf0",
            "value": " 789k/789k [00:00&lt;00:00, 11.9MB/s]"
          }
        },
        "88af801f0ce64fb28d0d93f50c039edd": {
          "model_module": "@jupyter-widgets/base",
          "model_name": "LayoutModel",
          "model_module_version": "1.2.0",
          "state": {
            "_model_module": "@jupyter-widgets/base",
            "_model_module_version": "1.2.0",
            "_model_name": "LayoutModel",
            "_view_count": null,
            "_view_module": "@jupyter-widgets/base",
            "_view_module_version": "1.2.0",
            "_view_name": "LayoutView",
            "align_content": null,
            "align_items": null,
            "align_self": null,
            "border": null,
            "bottom": null,
            "display": null,
            "flex": null,
            "flex_flow": null,
            "grid_area": null,
            "grid_auto_columns": null,
            "grid_auto_flow": null,
            "grid_auto_rows": null,
            "grid_column": null,
            "grid_gap": null,
            "grid_row": null,
            "grid_template_areas": null,
            "grid_template_columns": null,
            "grid_template_rows": null,
            "height": null,
            "justify_content": null,
            "justify_items": null,
            "left": null,
            "margin": null,
            "max_height": null,
            "max_width": null,
            "min_height": null,
            "min_width": null,
            "object_fit": null,
            "object_position": null,
            "order": null,
            "overflow": null,
            "overflow_x": null,
            "overflow_y": null,
            "padding": null,
            "right": null,
            "top": null,
            "visibility": null,
            "width": null
          }
        },
        "70b193da8ef04702af98b9ba3fd543e3": {
          "model_module": "@jupyter-widgets/base",
          "model_name": "LayoutModel",
          "model_module_version": "1.2.0",
          "state": {
            "_model_module": "@jupyter-widgets/base",
            "_model_module_version": "1.2.0",
            "_model_name": "LayoutModel",
            "_view_count": null,
            "_view_module": "@jupyter-widgets/base",
            "_view_module_version": "1.2.0",
            "_view_name": "LayoutView",
            "align_content": null,
            "align_items": null,
            "align_self": null,
            "border": null,
            "bottom": null,
            "display": null,
            "flex": null,
            "flex_flow": null,
            "grid_area": null,
            "grid_auto_columns": null,
            "grid_auto_flow": null,
            "grid_auto_rows": null,
            "grid_column": null,
            "grid_gap": null,
            "grid_row": null,
            "grid_template_areas": null,
            "grid_template_columns": null,
            "grid_template_rows": null,
            "height": null,
            "justify_content": null,
            "justify_items": null,
            "left": null,
            "margin": null,
            "max_height": null,
            "max_width": null,
            "min_height": null,
            "min_width": null,
            "object_fit": null,
            "object_position": null,
            "order": null,
            "overflow": null,
            "overflow_x": null,
            "overflow_y": null,
            "padding": null,
            "right": null,
            "top": null,
            "visibility": null,
            "width": null
          }
        },
        "dcf017010407463786f25bcc63dc4326": {
          "model_module": "@jupyter-widgets/controls",
          "model_name": "DescriptionStyleModel",
          "model_module_version": "1.5.0",
          "state": {
            "_model_module": "@jupyter-widgets/controls",
            "_model_module_version": "1.5.0",
            "_model_name": "DescriptionStyleModel",
            "_view_count": null,
            "_view_module": "@jupyter-widgets/base",
            "_view_module_version": "1.2.0",
            "_view_name": "StyleView",
            "description_width": ""
          }
        },
        "4b527dee3ab1490c91f0874033ffb16e": {
          "model_module": "@jupyter-widgets/base",
          "model_name": "LayoutModel",
          "model_module_version": "1.2.0",
          "state": {
            "_model_module": "@jupyter-widgets/base",
            "_model_module_version": "1.2.0",
            "_model_name": "LayoutModel",
            "_view_count": null,
            "_view_module": "@jupyter-widgets/base",
            "_view_module_version": "1.2.0",
            "_view_name": "LayoutView",
            "align_content": null,
            "align_items": null,
            "align_self": null,
            "border": null,
            "bottom": null,
            "display": null,
            "flex": null,
            "flex_flow": null,
            "grid_area": null,
            "grid_auto_columns": null,
            "grid_auto_flow": null,
            "grid_auto_rows": null,
            "grid_column": null,
            "grid_gap": null,
            "grid_row": null,
            "grid_template_areas": null,
            "grid_template_columns": null,
            "grid_template_rows": null,
            "height": null,
            "justify_content": null,
            "justify_items": null,
            "left": null,
            "margin": null,
            "max_height": null,
            "max_width": null,
            "min_height": null,
            "min_width": null,
            "object_fit": null,
            "object_position": null,
            "order": null,
            "overflow": null,
            "overflow_x": null,
            "overflow_y": null,
            "padding": null,
            "right": null,
            "top": null,
            "visibility": null,
            "width": null
          }
        },
        "83170952c33e49fabb90787235ea4c1a": {
          "model_module": "@jupyter-widgets/controls",
          "model_name": "ProgressStyleModel",
          "model_module_version": "1.5.0",
          "state": {
            "_model_module": "@jupyter-widgets/controls",
            "_model_module_version": "1.5.0",
            "_model_name": "ProgressStyleModel",
            "_view_count": null,
            "_view_module": "@jupyter-widgets/base",
            "_view_module_version": "1.2.0",
            "_view_name": "StyleView",
            "bar_color": null,
            "description_width": ""
          }
        },
        "5dcfc005dce54346905421bbead7a7e2": {
          "model_module": "@jupyter-widgets/base",
          "model_name": "LayoutModel",
          "model_module_version": "1.2.0",
          "state": {
            "_model_module": "@jupyter-widgets/base",
            "_model_module_version": "1.2.0",
            "_model_name": "LayoutModel",
            "_view_count": null,
            "_view_module": "@jupyter-widgets/base",
            "_view_module_version": "1.2.0",
            "_view_name": "LayoutView",
            "align_content": null,
            "align_items": null,
            "align_self": null,
            "border": null,
            "bottom": null,
            "display": null,
            "flex": null,
            "flex_flow": null,
            "grid_area": null,
            "grid_auto_columns": null,
            "grid_auto_flow": null,
            "grid_auto_rows": null,
            "grid_column": null,
            "grid_gap": null,
            "grid_row": null,
            "grid_template_areas": null,
            "grid_template_columns": null,
            "grid_template_rows": null,
            "height": null,
            "justify_content": null,
            "justify_items": null,
            "left": null,
            "margin": null,
            "max_height": null,
            "max_width": null,
            "min_height": null,
            "min_width": null,
            "object_fit": null,
            "object_position": null,
            "order": null,
            "overflow": null,
            "overflow_x": null,
            "overflow_y": null,
            "padding": null,
            "right": null,
            "top": null,
            "visibility": null,
            "width": null
          }
        },
        "b7e9b78bd80a4487821b91d586184bf0": {
          "model_module": "@jupyter-widgets/controls",
          "model_name": "DescriptionStyleModel",
          "model_module_version": "1.5.0",
          "state": {
            "_model_module": "@jupyter-widgets/controls",
            "_model_module_version": "1.5.0",
            "_model_name": "DescriptionStyleModel",
            "_view_count": null,
            "_view_module": "@jupyter-widgets/base",
            "_view_module_version": "1.2.0",
            "_view_name": "StyleView",
            "description_width": ""
          }
        }
      }
    }
  },
  "cells": [
    {
      "cell_type": "markdown",
      "source": [
        "**Exercise 2.** Switch loss functions (perhaps MSE).\n",
        "\n",
        "a. Does the training behavior change?\n",
        "\n",
        "b. Is it possible to reduce the capacity of the network enough that it stops overfitting?\n",
        "\n",
        "c. How does the model perform on the validation set when doing so?"
      ],
      "metadata": {
        "id": "_iHyoYp_lK_w"
      }
    },
    {
      "cell_type": "markdown",
      "source": [
        "Since this is a binary classification problem, using mean squared error as our loss function doesn't seem appropriate.\n",
        "\n",
        "Rather, let's switch from `nn.CrossEntropyLoss` to `nn.BCEWithLogitsLoss`. Accordingly, we'll change the number of output units of the last linear layer from 2 to 1.\n",
        "\n",
        "For binary classification problems, these two formulations are mathematically equivalent:\n",
        "\n",
        "- 2 output units with `nn.CrossEntropyLoss`\n",
        "- 1 output unit with `nn.BCEWithLogitsLoss`\n",
        "\n",
        "\n",
        "Hence, the training behavior shouldn't change."
      ],
      "metadata": {
        "id": "fwjw4n7Gyq0Q"
      }
    },
    {
      "cell_type": "code",
      "source": [
        "!pip install -q datasets"
      ],
      "metadata": {
        "colab": {
          "base_uri": "https://localhost:8080/"
        },
        "id": "10azP4hKbtmL",
        "outputId": "8490f462-89d5-4392-8b99-84f72b69c61c"
      },
      "execution_count": 1,
      "outputs": [
        {
          "output_type": "stream",
          "name": "stdout",
          "text": [
            "\u001b[2K     \u001b[90m━━━━━━━━━━━━━━━━━━━━━━━━━━━━━━━━━━━━━━━━\u001b[0m \u001b[32m507.1/507.1 kB\u001b[0m \u001b[31m4.2 MB/s\u001b[0m eta \u001b[36m0:00:00\u001b[0m\n",
            "\u001b[2K     \u001b[90m━━━━━━━━━━━━━━━━━━━━━━━━━━━━━━━━━━━━━━━━\u001b[0m \u001b[32m115.3/115.3 kB\u001b[0m \u001b[31m16.1 MB/s\u001b[0m eta \u001b[36m0:00:00\u001b[0m\n",
            "\u001b[2K     \u001b[90m━━━━━━━━━━━━━━━━━━━━━━━━━━━━━━━━━━━━━━━━\u001b[0m \u001b[32m134.8/134.8 kB\u001b[0m \u001b[31m17.4 MB/s\u001b[0m eta \u001b[36m0:00:00\u001b[0m\n",
            "\u001b[2K     \u001b[90m━━━━━━━━━━━━━━━━━━━━━━━━━━━━━━━━━━━━━━━━\u001b[0m \u001b[32m134.8/134.8 kB\u001b[0m \u001b[31m16.4 MB/s\u001b[0m eta \u001b[36m0:00:00\u001b[0m\n",
            "\u001b[?25h"
          ]
        }
      ]
    },
    {
      "cell_type": "code",
      "source": [
        "!pip install -q wandb"
      ],
      "metadata": {
        "colab": {
          "base_uri": "https://localhost:8080/"
        },
        "id": "dojlNN0ibz2Z",
        "outputId": "a6bd9e3b-5043-43ca-d8ab-5ec5952e276f"
      },
      "execution_count": 2,
      "outputs": [
        {
          "output_type": "stream",
          "name": "stdout",
          "text": [
            "\u001b[2K     \u001b[90m━━━━━━━━━━━━━━━━━━━━━━━━━━━━━━━━━━━━━━━━\u001b[0m \u001b[32m2.2/2.2 MB\u001b[0m \u001b[31m9.5 MB/s\u001b[0m eta \u001b[36m0:00:00\u001b[0m\n",
            "\u001b[2K     \u001b[90m━━━━━━━━━━━━━━━━━━━━━━━━━━━━━━━━━━━━━━━━\u001b[0m \u001b[32m196.4/196.4 kB\u001b[0m \u001b[31m24.8 MB/s\u001b[0m eta \u001b[36m0:00:00\u001b[0m\n",
            "\u001b[2K     \u001b[90m━━━━━━━━━━━━━━━━━━━━━━━━━━━━━━━━━━━━━━━━\u001b[0m \u001b[32m257.5/257.5 kB\u001b[0m \u001b[31m30.8 MB/s\u001b[0m eta \u001b[36m0:00:00\u001b[0m\n",
            "\u001b[2K     \u001b[90m━━━━━━━━━━━━━━━━━━━━━━━━━━━━━━━━━━━━━━━━\u001b[0m \u001b[32m62.7/62.7 kB\u001b[0m \u001b[31m8.6 MB/s\u001b[0m eta \u001b[36m0:00:00\u001b[0m\n",
            "\u001b[?25h"
          ]
        }
      ]
    },
    {
      "cell_type": "markdown",
      "source": [
        "If running this notebook in Colab, please ensure that your Hugging Face `HF_TOKEN` and your Weights & Biases `WANDB_API_KEY` are added to your Colab secrets.\n",
        "\n",
        "Alternatively, please login to Hugging Face and Weights & Biases by running the following two cells."
      ],
      "metadata": {
        "id": "58WnffKd-gDP"
      }
    },
    {
      "cell_type": "code",
      "source": [
        "# !huggingface-cli login"
      ],
      "metadata": {
        "id": "hTS4Nzjz-dfz"
      },
      "execution_count": 3,
      "outputs": []
    },
    {
      "cell_type": "code",
      "source": [
        "# !wandb login"
      ],
      "metadata": {
        "id": "jp0CElkz-rXt"
      },
      "execution_count": 4,
      "outputs": []
    },
    {
      "cell_type": "code",
      "source": [
        "import os\n",
        "import random\n",
        "import numpy as np\n",
        "import torch\n",
        "\n",
        "def seed_everything(seed):\n",
        "    os.environ['PYTHONHASHSEED'] = str(seed)\n",
        "    random.seed(seed)\n",
        "    np.random.seed(seed)\n",
        "    torch.manual_seed(seed)\n",
        "    torch.cuda.manual_seed(seed)\n",
        "    torch.cuda.manual_seed_all(seed)\n",
        "    torch.backends.cudnn.deterministic = True\n",
        "    torch.backends.cudnn.benchmark = False\n",
        "\n",
        "seed_everything(42)"
      ],
      "metadata": {
        "id": "jJVJLesnb_iX"
      },
      "execution_count": 5,
      "outputs": []
    },
    {
      "cell_type": "code",
      "source": [
        "from datasets import load_dataset\n",
        "\n",
        "cifar10 = load_dataset(\"cifar10\")\n",
        "cifar10"
      ],
      "metadata": {
        "colab": {
          "base_uri": "https://localhost:8080/",
          "height": 351,
          "referenced_widgets": [
            "f9c5a23741564850b2a66f3b78c2dc32",
            "76e64b6e995543469cfc16cd3f286e7f",
            "ec2c30de525940d5a4814c98b8e2253a",
            "a9ad0a9bb8c94c8a8e675cedeea3ec18",
            "a622385627bf47c58f713d3423a47fac",
            "7b9f37bcc52e41e89f2576fa0c61f33e",
            "e9be5ea2b48a42088035b87bdc0dc36e",
            "411405c9191549e4b79839773120bf33",
            "a7e39c5a0c564c17a06bab8f4710c0ee",
            "37fcd704712f4b2eb85c1fb64aa5c0a6",
            "c5b93cc4a80248d7816210fc7382c02b",
            "2e5fc87b496b44faa5247ac2f1d78b26",
            "00075f27f1464d14a5244a5cb7fc819c",
            "0c7abf312ea24dafaa9b63b48207aefa",
            "e16606475e7c44a68296aeec31f23581",
            "5f9098d182c342dd926b3dda1fa13268",
            "d890d430c8d84d5a8878a22dd42734a0",
            "5905c7085c3d4887b35f343f86f977f9",
            "cb7d8bf329c2484eab20bb94106e37bc",
            "7fd6e0985ba94f4f88ab63c57fe4d7bd",
            "58adaba2395343d1bd2c5678e8e05f4c",
            "f7c456fecb71417e93ea80eb3d612fca",
            "acf63d583bf34ca0ad46e4bf494f2925",
            "4fde0cafc2af49dda7880076bba0fba7",
            "720bcb5d6f0e4f8d97e476a99f649d46",
            "21e3951cd0e247b7978451e5302b0d96",
            "a10d439f6e59413a8284fbd0ec29688b",
            "7d929acdd856493a98eb12ab096145c8",
            "f9cfb8a7b07742f2baadfdfcda60b53e",
            "48c963b3b6414388acb4ee02618b65d4",
            "1ed894d0a00c41d1b24dc3b12aded091",
            "d80abca4f6a146d6a8138c211019fbbf",
            "16d8b54e6af24e7c90636feb6b9b9d7f",
            "b3dfb88ae27945dea6b5ab80e849316e",
            "3157e7afeac84025bfb184c60f711f4b",
            "41e297017262492ebdda6e19b3df2262",
            "f3c269caa687466c95dee17bc5cb2ce7",
            "290e053163ba4a938725263f7ddb76ae",
            "4dd28e2d50be48fe88275cda47829661",
            "e789ebb3ad334d25aacc0e4b77da5c52",
            "eb3f6addfc604c2682fb42f29808a014",
            "25b828b566334e12acbddfa123a0e45d",
            "2529a6cb7b8642ff9509d2e1d24c9aea",
            "8bee97f55ade44b1a9b646fd5df1e4a0",
            "0ec20a636bf448fb82507cf736c467c0",
            "747efc8672674142aee5cd2c5a723f02",
            "30c25fa5ba864da3bca8177db29e1d73",
            "4c5275e9bd2d42a3b6e6ea58d10e1745",
            "2f2f521600954c61899ce95bd6b92b0d",
            "c641f1f01c974839a9ca6c7830c8695b",
            "caf4e6a36b8b48aa80d1bddbc27efc18",
            "87933277fd1e45cd95f02da425cb495d",
            "33273a0a56ee418e8ccfff60734b3273",
            "5240744cafce409c8e2e600d97acdb57",
            "9e371b8767694d25a218f37aa35d75e4"
          ]
        },
        "id": "SU2qKaMgcLM3",
        "outputId": "f69e1e50-499e-4151-cba3-1d9f9b9b670d"
      },
      "execution_count": 6,
      "outputs": [
        {
          "output_type": "display_data",
          "data": {
            "text/plain": [
              "Downloading readme:   0%|          | 0.00/5.16k [00:00<?, ?B/s]"
            ],
            "application/vnd.jupyter.widget-view+json": {
              "version_major": 2,
              "version_minor": 0,
              "model_id": "f9c5a23741564850b2a66f3b78c2dc32"
            }
          },
          "metadata": {}
        },
        {
          "output_type": "display_data",
          "data": {
            "text/plain": [
              "Downloading data:   0%|          | 0.00/120M [00:00<?, ?B/s]"
            ],
            "application/vnd.jupyter.widget-view+json": {
              "version_major": 2,
              "version_minor": 0,
              "model_id": "2e5fc87b496b44faa5247ac2f1d78b26"
            }
          },
          "metadata": {}
        },
        {
          "output_type": "display_data",
          "data": {
            "text/plain": [
              "Downloading data:   0%|          | 0.00/23.9M [00:00<?, ?B/s]"
            ],
            "application/vnd.jupyter.widget-view+json": {
              "version_major": 2,
              "version_minor": 0,
              "model_id": "acf63d583bf34ca0ad46e4bf494f2925"
            }
          },
          "metadata": {}
        },
        {
          "output_type": "display_data",
          "data": {
            "text/plain": [
              "Generating train split:   0%|          | 0/50000 [00:00<?, ? examples/s]"
            ],
            "application/vnd.jupyter.widget-view+json": {
              "version_major": 2,
              "version_minor": 0,
              "model_id": "b3dfb88ae27945dea6b5ab80e849316e"
            }
          },
          "metadata": {}
        },
        {
          "output_type": "display_data",
          "data": {
            "text/plain": [
              "Generating test split:   0%|          | 0/10000 [00:00<?, ? examples/s]"
            ],
            "application/vnd.jupyter.widget-view+json": {
              "version_major": 2,
              "version_minor": 0,
              "model_id": "0ec20a636bf448fb82507cf736c467c0"
            }
          },
          "metadata": {}
        },
        {
          "output_type": "execute_result",
          "data": {
            "text/plain": [
              "DatasetDict({\n",
              "    train: Dataset({\n",
              "        features: ['img', 'label'],\n",
              "        num_rows: 50000\n",
              "    })\n",
              "    test: Dataset({\n",
              "        features: ['img', 'label'],\n",
              "        num_rows: 10000\n",
              "    })\n",
              "})"
            ]
          },
          "metadata": {},
          "execution_count": 6
        }
      ]
    },
    {
      "cell_type": "code",
      "source": [
        "features = cifar10['train'].features\n",
        "features"
      ],
      "metadata": {
        "colab": {
          "base_uri": "https://localhost:8080/"
        },
        "id": "XuBkZzb6cXSD",
        "outputId": "fb2b4cb3-c7a3-4d41-d6e1-4f6fa354ef8e"
      },
      "execution_count": 7,
      "outputs": [
        {
          "output_type": "execute_result",
          "data": {
            "text/plain": [
              "{'img': Image(decode=True, id=None),\n",
              " 'label': ClassLabel(names=['airplane', 'automobile', 'bird', 'cat', 'deer', 'dog', 'frog', 'horse', 'ship', 'truck'], id=None)}"
            ]
          },
          "metadata": {},
          "execution_count": 7
        }
      ]
    },
    {
      "cell_type": "code",
      "source": [
        "id2label = {id: label for id, label in enumerate(features['label'].names)}\n",
        "id2label"
      ],
      "metadata": {
        "colab": {
          "base_uri": "https://localhost:8080/"
        },
        "id": "xwo4kmlacdQV",
        "outputId": "d2ed3aac-ddcf-4c53-ff78-fc566086c95c"
      },
      "execution_count": 8,
      "outputs": [
        {
          "output_type": "execute_result",
          "data": {
            "text/plain": [
              "{0: 'airplane',\n",
              " 1: 'automobile',\n",
              " 2: 'bird',\n",
              " 3: 'cat',\n",
              " 4: 'deer',\n",
              " 5: 'dog',\n",
              " 6: 'frog',\n",
              " 7: 'horse',\n",
              " 8: 'ship',\n",
              " 9: 'truck'}"
            ]
          },
          "metadata": {},
          "execution_count": 8
        }
      ]
    },
    {
      "cell_type": "code",
      "source": [
        "example = cifar10['train'][0]\n",
        "example"
      ],
      "metadata": {
        "colab": {
          "base_uri": "https://localhost:8080/"
        },
        "id": "2AE3x47Lcpi-",
        "outputId": "7906945a-772d-450e-e30e-8e795d9df632"
      },
      "execution_count": 9,
      "outputs": [
        {
          "output_type": "execute_result",
          "data": {
            "text/plain": [
              "{'img': <PIL.PngImagePlugin.PngImageFile image mode=RGB size=32x32>,\n",
              " 'label': 0}"
            ]
          },
          "metadata": {},
          "execution_count": 9
        }
      ]
    },
    {
      "cell_type": "code",
      "source": [
        "import matplotlib.pyplot as plt\n",
        "\n",
        "plt.imshow(example['img']);"
      ],
      "metadata": {
        "colab": {
          "base_uri": "https://localhost:8080/",
          "height": 430
        },
        "id": "I34wr0zVctl4",
        "outputId": "327e7c9e-2781-479f-bea1-c213fddb62af"
      },
      "execution_count": 10,
      "outputs": [
        {
          "output_type": "display_data",
          "data": {
            "text/plain": [
              "<Figure size 640x480 with 1 Axes>"
            ],
            "image/png": "[encoded data removed]"
          },
          "metadata": {}
        }
      ]
    },
    {
      "cell_type": "code",
      "source": [
        "example['label']"
      ],
      "metadata": {
        "colab": {
          "base_uri": "https://localhost:8080/"
        },
        "id": "qMAd9Qouc4h2",
        "outputId": "cae77110-b6fe-47f4-f400-83365a04074f"
      },
      "execution_count": 11,
      "outputs": [
        {
          "output_type": "execute_result",
          "data": {
            "text/plain": [
              "0"
            ]
          },
          "metadata": {},
          "execution_count": 11
        }
      ]
    },
    {
      "cell_type": "code",
      "source": [
        "id2label[example['label']]"
      ],
      "metadata": {
        "colab": {
          "base_uri": "https://localhost:8080/",
          "height": 35
        },
        "id": "SxmnsQboc606",
        "outputId": "a31cd4b5-9ae2-4174-c3de-986849cdba09"
      },
      "execution_count": 12,
      "outputs": [
        {
          "output_type": "execute_result",
          "data": {
            "text/plain": [
              "'airplane'"
            ],
            "application/vnd.google.colaboratory.intrinsic+json": {
              "type": "string"
            }
          },
          "metadata": {},
          "execution_count": 12
        }
      ]
    },
    {
      "cell_type": "markdown",
      "source": [
        "Now, let's create a PyTorch `Dataset` for model training."
      ],
      "metadata": {
        "id": "aO6uHgnWA3TU"
      }
    },
    {
      "cell_type": "code",
      "source": [
        "from torch.utils.data import Dataset\n",
        "\n",
        "class CIFAR10Dataset(Dataset):\n",
        "    def __init__(self, dataset, tfms):\n",
        "        self.dataset = dataset\n",
        "        self.tfms = tfms\n",
        "\n",
        "    def __len__(self):\n",
        "        return len(self.dataset)\n",
        "\n",
        "    def __getitem__(self, idx):\n",
        "        example = self.dataset[idx]\n",
        "        img, label = example['img'], example['label']\n",
        "        img = self.tfms(img)\n",
        "        return img, label"
      ],
      "metadata": {
        "id": "NFHTH9A_c-2A"
      },
      "execution_count": 13,
      "outputs": []
    },
    {
      "cell_type": "markdown",
      "source": [
        "**Note:** There is no need to convert `label` to a tensor as the data collator will collate the integers into a tensor anyway."
      ],
      "metadata": {
        "id": "0rPCZqcnBVXp"
      }
    },
    {
      "cell_type": "code",
      "source": [
        "from torchvision.transforms import v2\n",
        "\n",
        "tfms = v2.Compose([\n",
        "    v2.ToImage(),\n",
        "    v2.ToDtype(torch.float32, scale=True),\n",
        "    v2.Normalize(mean=[0.4915, 0.4823, 0.4468], std=[0.2470, 0.2435, 0.2616])\n",
        "])"
      ],
      "metadata": {
        "id": "FMdAAeZZdjXO"
      },
      "execution_count": 14,
      "outputs": []
    },
    {
      "cell_type": "markdown",
      "source": [
        "**Note:** `ToImage()` along with `ToDtype(torch.float32, scale=True)` is a replacement for `ToTensor()` in `torchvision.transforms.v2`."
      ],
      "metadata": {
        "id": "Vage7CxFPiDW"
      }
    },
    {
      "cell_type": "code",
      "source": [
        "cifar10_train = CIFAR10Dataset(cifar10['train'], tfms)\n",
        "len(cifar10_train)"
      ],
      "metadata": {
        "colab": {
          "base_uri": "https://localhost:8080/"
        },
        "id": "HtU5LBXneDPe",
        "outputId": "feeba3f3-6d19-443e-c696-cd96e3a27ba0"
      },
      "execution_count": 15,
      "outputs": [
        {
          "output_type": "execute_result",
          "data": {
            "text/plain": [
              "50000"
            ]
          },
          "metadata": {},
          "execution_count": 15
        }
      ]
    },
    {
      "cell_type": "code",
      "source": [
        "# Sanity check:\n",
        "img, label = cifar10_train[0]\n",
        "img.shape, label"
      ],
      "metadata": {
        "colab": {
          "base_uri": "https://localhost:8080/"
        },
        "id": "Hbba9DnGeLSy",
        "outputId": "d34b2b42-b5a6-4497-c1de-9cf0100b2b7d"
      },
      "execution_count": 16,
      "outputs": [
        {
          "output_type": "execute_result",
          "data": {
            "text/plain": [
              "(torch.Size([3, 32, 32]), 0)"
            ]
          },
          "metadata": {},
          "execution_count": 16
        }
      ]
    },
    {
      "cell_type": "code",
      "source": [
        "cifar10_val = CIFAR10Dataset(cifar10['test'], tfms)\n",
        "len(cifar10_val)"
      ],
      "metadata": {
        "colab": {
          "base_uri": "https://localhost:8080/"
        },
        "id": "MSKjTPxTeZc0",
        "outputId": "0e407275-fcf1-424e-d910-81561378c383"
      },
      "execution_count": 17,
      "outputs": [
        {
          "output_type": "execute_result",
          "data": {
            "text/plain": [
              "10000"
            ]
          },
          "metadata": {},
          "execution_count": 17
        }
      ]
    },
    {
      "cell_type": "code",
      "source": [
        "# Sanity check:\n",
        "img, label = cifar10_val[0]\n",
        "img.shape, label"
      ],
      "metadata": {
        "colab": {
          "base_uri": "https://localhost:8080/"
        },
        "id": "2YMSMrGYehpB",
        "outputId": "2053c596-80ed-4128-cab9-f8e0731247a1"
      },
      "execution_count": 18,
      "outputs": [
        {
          "output_type": "execute_result",
          "data": {
            "text/plain": [
              "(torch.Size([3, 32, 32]), 3)"
            ]
          },
          "metadata": {},
          "execution_count": 18
        }
      ]
    },
    {
      "cell_type": "code",
      "source": [
        "label_map = {0: 0.0, 2: 1.0}\n",
        "class_names = ['airplane', 'bird']"
      ],
      "metadata": {
        "id": "gYs-l9GbepOY"
      },
      "execution_count": 19,
      "outputs": []
    },
    {
      "cell_type": "markdown",
      "source": [
        "**Note:** Unlike `nn.CrossEntropyLoss`, `nn.BCEWithLogitsLoss` expects the target tensor to contain floats (not integers)."
      ],
      "metadata": {
        "id": "GMYDbTs1PxEu"
      }
    },
    {
      "cell_type": "code",
      "source": [
        "cifar2_train = [(img, label_map[label]) for img, label in cifar10_train if label in [0, 2]]\n",
        "len(cifar2_train)"
      ],
      "metadata": {
        "colab": {
          "base_uri": "https://localhost:8080/"
        },
        "id": "VPBum8xpeycm",
        "outputId": "906c264b-d61a-446b-813f-15f00f5baeb0"
      },
      "execution_count": 20,
      "outputs": [
        {
          "output_type": "execute_result",
          "data": {
            "text/plain": [
              "10000"
            ]
          },
          "metadata": {},
          "execution_count": 20
        }
      ]
    },
    {
      "cell_type": "code",
      "source": [
        "# Sanity check:\n",
        "img, label = cifar2_train[0]\n",
        "img.shape, label"
      ],
      "metadata": {
        "colab": {
          "base_uri": "https://localhost:8080/"
        },
        "id": "SpmoY7v7fEfB",
        "outputId": "89d8c20b-a82c-4ee8-9ba8-8a7d3bf4a4c3"
      },
      "execution_count": 21,
      "outputs": [
        {
          "output_type": "execute_result",
          "data": {
            "text/plain": [
              "(torch.Size([3, 32, 32]), 0.0)"
            ]
          },
          "metadata": {},
          "execution_count": 21
        }
      ]
    },
    {
      "cell_type": "code",
      "source": [
        "cifar2_val = [(img, label_map[label]) for img, label in cifar10_val if label in [0, 2]]\n",
        "len(cifar2_val)"
      ],
      "metadata": {
        "colab": {
          "base_uri": "https://localhost:8080/"
        },
        "id": "Gwbww8QTfJ_J",
        "outputId": "eab66116-178c-4e72-9a42-6966c10c7534"
      },
      "execution_count": 22,
      "outputs": [
        {
          "output_type": "execute_result",
          "data": {
            "text/plain": [
              "2000"
            ]
          },
          "metadata": {},
          "execution_count": 22
        }
      ]
    },
    {
      "cell_type": "code",
      "source": [
        "# Sanity check:\n",
        "img, label = cifar2_val[0]\n",
        "img.shape, label"
      ],
      "metadata": {
        "colab": {
          "base_uri": "https://localhost:8080/"
        },
        "id": "Wf2C0CgmfXNk",
        "outputId": "19ee4b59-bac1-45fa-a2b1-8e84b81b4cf0"
      },
      "execution_count": 23,
      "outputs": [
        {
          "output_type": "execute_result",
          "data": {
            "text/plain": [
              "(torch.Size([3, 32, 32]), 0.0)"
            ]
          },
          "metadata": {},
          "execution_count": 23
        }
      ]
    },
    {
      "cell_type": "code",
      "source": [
        "batch_size = 64"
      ],
      "metadata": {
        "id": "cnE7E0xmfcYT"
      },
      "execution_count": 24,
      "outputs": []
    },
    {
      "cell_type": "code",
      "source": [
        "from torch.utils.data import DataLoader\n",
        "\n",
        "train_dl = DataLoader(cifar2_train, batch_size=batch_size, shuffle=True, num_workers=2)\n",
        "len(train_dl)"
      ],
      "metadata": {
        "colab": {
          "base_uri": "https://localhost:8080/"
        },
        "id": "xg2FV-3pfemZ",
        "outputId": "49d2ecbe-96f8-41bc-fd2c-cd1af8391e2b"
      },
      "execution_count": 25,
      "outputs": [
        {
          "output_type": "execute_result",
          "data": {
            "text/plain": [
              "157"
            ]
          },
          "metadata": {},
          "execution_count": 25
        }
      ]
    },
    {
      "cell_type": "code",
      "source": [
        "# Sanity check:\n",
        "imgs, labels = next(iter(train_dl))\n",
        "imgs.shape, labels.shape"
      ],
      "metadata": {
        "colab": {
          "base_uri": "https://localhost:8080/"
        },
        "id": "Fw0QOQWEfp0V",
        "outputId": "085f3195-fb3f-41a9-e574-fdd477aa89f0"
      },
      "execution_count": 26,
      "outputs": [
        {
          "output_type": "execute_result",
          "data": {
            "text/plain": [
              "(torch.Size([64, 3, 32, 32]), torch.Size([64]))"
            ]
          },
          "metadata": {},
          "execution_count": 26
        }
      ]
    },
    {
      "cell_type": "code",
      "source": [
        "imgs.dtype, labels.dtype"
      ],
      "metadata": {
        "colab": {
          "base_uri": "https://localhost:8080/"
        },
        "id": "iw22BZVKf10n",
        "outputId": "c3dc95b3-e535-43cd-e7e4-b6714ab7b973"
      },
      "execution_count": 27,
      "outputs": [
        {
          "output_type": "execute_result",
          "data": {
            "text/plain": [
              "(torch.float32, torch.float64)"
            ]
          },
          "metadata": {},
          "execution_count": 27
        }
      ]
    },
    {
      "cell_type": "code",
      "source": [
        "val_dl = DataLoader(cifar2_val, batch_size=batch_size, shuffle=False, num_workers=2)\n",
        "len(val_dl)"
      ],
      "metadata": {
        "colab": {
          "base_uri": "https://localhost:8080/"
        },
        "id": "XV3iAMGUf5WA",
        "outputId": "b0bb0c22-3c94-4ba8-82b5-b89348993535"
      },
      "execution_count": 28,
      "outputs": [
        {
          "output_type": "execute_result",
          "data": {
            "text/plain": [
              "32"
            ]
          },
          "metadata": {},
          "execution_count": 28
        }
      ]
    },
    {
      "cell_type": "code",
      "source": [
        "# Sanity check:\n",
        "imgs, labels = next(iter(val_dl))\n",
        "imgs.shape, labels.shape"
      ],
      "metadata": {
        "colab": {
          "base_uri": "https://localhost:8080/"
        },
        "id": "iBVj-eeggBRv",
        "outputId": "61667527-a22b-48a0-bc61-1d219d2a655f"
      },
      "execution_count": 29,
      "outputs": [
        {
          "output_type": "execute_result",
          "data": {
            "text/plain": [
              "(torch.Size([64, 3, 32, 32]), torch.Size([64]))"
            ]
          },
          "metadata": {},
          "execution_count": 29
        }
      ]
    },
    {
      "cell_type": "code",
      "source": [
        "imgs.dtype, labels.dtype"
      ],
      "metadata": {
        "colab": {
          "base_uri": "https://localhost:8080/"
        },
        "id": "J3K-NMwEgHQk",
        "outputId": "60b1d0c4-7746-44fb-911a-e340b6ebc5fd"
      },
      "execution_count": 30,
      "outputs": [
        {
          "output_type": "execute_result",
          "data": {
            "text/plain": [
              "(torch.float32, torch.float64)"
            ]
          },
          "metadata": {},
          "execution_count": 30
        }
      ]
    },
    {
      "cell_type": "markdown",
      "source": [
        "Now, let's define our multi-layer perceptron."
      ],
      "metadata": {
        "id": "oHk2zV8HH1BN"
      }
    },
    {
      "cell_type": "code",
      "source": [
        "3 * 32 * 32"
      ],
      "metadata": {
        "colab": {
          "base_uri": "https://localhost:8080/"
        },
        "id": "Z3slCGqVphBu",
        "outputId": "f37c0d59-1ec2-4dc9-8171-6f21e5d76f43"
      },
      "execution_count": 31,
      "outputs": [
        {
          "output_type": "execute_result",
          "data": {
            "text/plain": [
              "3072"
            ]
          },
          "metadata": {},
          "execution_count": 31
        }
      ]
    },
    {
      "cell_type": "code",
      "source": [
        "import torch.nn as nn\n",
        "\n",
        "class MLPForCIFAR2(nn.Module):\n",
        "    def __init__(self):\n",
        "        super().__init__()\n",
        "        self.mlp = nn.Sequential(\n",
        "            nn.Linear(3072, 1024), # Hidden layer.\n",
        "            nn.Tanh(),\n",
        "            nn.Linear(1024, 512), # Hidden layer.\n",
        "            nn.Tanh(),\n",
        "            nn.Linear(512, 128), # Hidden layer.\n",
        "            nn.Tanh(),\n",
        "            nn.Linear(128, 1) # Output layer.\n",
        "        )\n",
        "\n",
        "    def forward(self, x):\n",
        "        return self.mlp(x)\n",
        "\n",
        "model = MLPForCIFAR2()\n",
        "model"
      ],
      "metadata": {
        "colab": {
          "base_uri": "https://localhost:8080/"
        },
        "id": "ZEdG-pR8qLxY",
        "outputId": "22124e3c-1ba9-4129-fa7b-86631f971bf0"
      },
      "execution_count": 32,
      "outputs": [
        {
          "output_type": "execute_result",
          "data": {
            "text/plain": [
              "MLPForCIFAR2(\n",
              "  (mlp): Sequential(\n",
              "    (0): Linear(in_features=3072, out_features=1024, bias=True)\n",
              "    (1): Tanh()\n",
              "    (2): Linear(in_features=1024, out_features=512, bias=True)\n",
              "    (3): Tanh()\n",
              "    (4): Linear(in_features=512, out_features=128, bias=True)\n",
              "    (5): Tanh()\n",
              "    (6): Linear(in_features=128, out_features=1, bias=True)\n",
              "  )\n",
              ")"
            ]
          },
          "metadata": {},
          "execution_count": 32
        }
      ]
    },
    {
      "cell_type": "code",
      "source": [
        "# Sanity check:\n",
        "with torch.no_grad():\n",
        "    batch_dim = imgs.shape[0]\n",
        "    logits = model(imgs.view(batch_dim, -1)) # Flatten.\n",
        "logits.shape"
      ],
      "metadata": {
        "colab": {
          "base_uri": "https://localhost:8080/"
        },
        "id": "lIihQvNHq4Wn",
        "outputId": "c01a18de-2cae-4aee-9615-e7f6874a17cd"
      },
      "execution_count": 33,
      "outputs": [
        {
          "output_type": "execute_result",
          "data": {
            "text/plain": [
              "torch.Size([64, 1])"
            ]
          },
          "metadata": {},
          "execution_count": 33
        }
      ]
    },
    {
      "cell_type": "code",
      "source": [
        "loss_fn = nn.BCEWithLogitsLoss()"
      ],
      "metadata": {
        "id": "hiRpIUYJrEqv"
      },
      "execution_count": 34,
      "outputs": []
    },
    {
      "cell_type": "code",
      "source": [
        "# Sanity check:\n",
        "with torch.no_grad():\n",
        "    loss = loss_fn(logits.squeeze(), labels)\n",
        "loss"
      ],
      "metadata": {
        "colab": {
          "base_uri": "https://localhost:8080/"
        },
        "id": "BBcfkTOurJgZ",
        "outputId": "6d077e25-e8fa-40b5-9b08-8c7527a34250"
      },
      "execution_count": 35,
      "outputs": [
        {
          "output_type": "execute_result",
          "data": {
            "text/plain": [
              "tensor(0.7016, dtype=torch.float64)"
            ]
          },
          "metadata": {},
          "execution_count": 35
        }
      ]
    },
    {
      "cell_type": "markdown",
      "source": [
        "**Note:** `nn.BCEWithLogitsLoss` expects the logits and the labels to have the same shape."
      ],
      "metadata": {
        "id": "Cr7wjGtnUvij"
      }
    },
    {
      "cell_type": "code",
      "source": [
        "from torch.optim import SGD\n",
        "\n",
        "learning_rate = 1e-2\n",
        "optimizer = SGD(model.parameters(), lr=learning_rate)\n",
        "n_epochs = 100"
      ],
      "metadata": {
        "id": "dN5G-UCQrZBx"
      },
      "execution_count": 36,
      "outputs": []
    },
    {
      "cell_type": "code",
      "source": [
        "def train_epoch():\n",
        "    model.train()\n",
        "    train_loss = 0\n",
        "    for imgs, labels in train_dl:\n",
        "        batch_dim = imgs.shape[0]\n",
        "        logits = model(imgs.view(batch_dim, -1))\n",
        "        loss = loss_fn(logits.squeeze(), labels)\n",
        "        train_loss += loss.item()\n",
        "\n",
        "        optimizer.zero_grad()\n",
        "        loss.backward()\n",
        "        optimizer.step()\n",
        "    train_loss /= len(cifar2_train)\n",
        "    train_loss = round(train_loss, 4)\n",
        "    return train_loss"
      ],
      "metadata": {
        "id": "T31Fu25xrkz4"
      },
      "execution_count": 37,
      "outputs": []
    },
    {
      "cell_type": "code",
      "source": [
        "import torch.nn.functional as F\n",
        "\n",
        "def validate_epoch():\n",
        "    model.eval()\n",
        "    val_loss = 0\n",
        "    correct = 0\n",
        "    with torch.no_grad():\n",
        "        for imgs, labels in val_dl:\n",
        "            batch_dim = imgs.shape[0]\n",
        "            logits = model(imgs.view(batch_dim, -1))\n",
        "            loss = loss_fn(logits.squeeze(), labels)\n",
        "            val_loss += loss.item()\n",
        "            proba = F.sigmoid(logits.squeeze())\n",
        "            preds = proba > 0.5\n",
        "            correct += (preds == labels).sum().item()\n",
        "        val_loss /= len(cifar2_val)\n",
        "        val_loss = round(val_loss, 4)\n",
        "        acc = round(correct / len(cifar2_val), 4)\n",
        "    return val_loss, acc"
      ],
      "metadata": {
        "id": "0ZlZ8ZUBsTfO"
      },
      "execution_count": 38,
      "outputs": []
    },
    {
      "cell_type": "code",
      "source": [
        "import wandb\n",
        "\n",
        "wandb.init(\n",
        "    project=\"mlp-cifar2-v2\",\n",
        "    config={\n",
        "        'architecture': \"MLP with 3 hidden layers\",\n",
        "        'dataset': \"CIFAR-2\",\n",
        "        'learning_rate': learning_rate,\n",
        "        'n_epochs': n_epochs,\n",
        "        'batch_size': batch_size\n",
        "    }\n",
        ")"
      ],
      "metadata": {
        "colab": {
          "base_uri": "https://localhost:8080/",
          "height": 160
        },
        "id": "KBVuVvXBtfgK",
        "outputId": "91781bf2-fec7-42c1-d8c4-ca54b15684e9"
      },
      "execution_count": 39,
      "outputs": [
        {
          "output_type": "display_data",
          "data": {
            "text/plain": [
              "<IPython.core.display.Javascript object>"
            ],
            "application/javascript": [
              "\n",
              "        window._wandbApiKey = new Promise((resolve, reject) => {\n",
              "            function loadScript(url) {\n",
              "            return new Promise(function(resolve, reject) {\n",
              "                let newScript = document.createElement(\"script\");\n",
              "                newScript.onerror = reject;\n",
              "                newScript.onload = resolve;\n",
              "                document.body.appendChild(newScript);\n",
              "                newScript.src = url;\n",
              "            });\n",
              "            }\n",
              "            loadScript(\"https://cdn.jsdelivr.net/npm/postmate/build/postmate.min.js\").then(() => {\n",
              "            const iframe = document.createElement('iframe')\n",
              "            iframe.style.cssText = \"width:0;height:0;border:none\"\n",
              "            document.body.appendChild(iframe)\n",
              "            const handshake = new Postmate({\n",
              "                container: iframe,\n",
              "                url: 'https://wandb.ai/authorize'\n",
              "            });\n",
              "            const timeout = setTimeout(() => reject(\"Couldn't auto authenticate\"), 5000)\n",
              "            handshake.then(function(child) {\n",
              "                child.on('authorize', data => {\n",
              "                    clearTimeout(timeout)\n",
              "                    resolve(data)\n",
              "                });\n",
              "            });\n",
              "            })\n",
              "        });\n",
              "    "
            ]
          },
          "metadata": {}
        },
        {
          "output_type": "stream",
          "name": "stderr",
          "text": [
            "\u001b[34m\u001b[1mwandb\u001b[0m: Appending key for api.wandb.ai to your netrc file: /root/.netrc\n"
          ]
        },
        {
          "output_type": "display_data",
          "data": {
            "text/plain": [
              "<IPython.core.display.HTML object>"
            ],
            "text/html": [
              "Tracking run with wandb version 0.16.2"
            ]
          },
          "metadata": {}
        },
        {
          "output_type": "display_data",
          "data": {
            "text/plain": [
              "<IPython.core.display.HTML object>"
            ],
            "text/html": [
              "Run data is saved locally in <code>/content/wandb/run-20240201_100738-2qeme8wv</code>"
            ]
          },
          "metadata": {}
        },
        {
          "output_type": "display_data",
          "data": {
            "text/plain": [
              "<IPython.core.display.HTML object>"
            ],
            "text/html": [
              "Syncing run <strong><a href='https://wandb.ai/sadhaklal/mlp-cifar2-v2/runs/2qeme8wv' target=\"_blank\">sleek-plant-1</a></strong> to <a href='https://wandb.ai/sadhaklal/mlp-cifar2-v2' target=\"_blank\">Weights & Biases</a> (<a href='https://wandb.me/run' target=\"_blank\">docs</a>)<br/>"
            ]
          },
          "metadata": {}
        },
        {
          "output_type": "display_data",
          "data": {
            "text/plain": [
              "<IPython.core.display.HTML object>"
            ],
            "text/html": [
              " View project at <a href='https://wandb.ai/sadhaklal/mlp-cifar2-v2' target=\"_blank\">https://wandb.ai/sadhaklal/mlp-cifar2-v2</a>"
            ]
          },
          "metadata": {}
        },
        {
          "output_type": "display_data",
          "data": {
            "text/plain": [
              "<IPython.core.display.HTML object>"
            ],
            "text/html": [
              " View run at <a href='https://wandb.ai/sadhaklal/mlp-cifar2-v2/runs/2qeme8wv' target=\"_blank\">https://wandb.ai/sadhaklal/mlp-cifar2-v2/runs/2qeme8wv</a>"
            ]
          },
          "metadata": {}
        },
        {
          "output_type": "execute_result",
          "data": {
            "text/html": [
              "<button onClick=\"this.nextSibling.style.display='block';this.style.display='none';\">Display W&B run</button><iframe src='https://wandb.ai/sadhaklal/mlp-cifar2-v2/runs/2qeme8wv?jupyter=true' style='border:none;width:100%;height:420px;display:none;'></iframe>"
            ],
            "text/plain": [
              "<wandb.sdk.wandb_run.Run at 0x7a85ae5546d0>"
            ]
          },
          "metadata": {},
          "execution_count": 39
        }
      ]
    },
    {
      "cell_type": "code",
      "source": [
        "best_epoch = 0\n",
        "best_acc = 0\n",
        "for epoch in range(n_epochs):\n",
        "    train_loss = train_epoch()\n",
        "    print(f\"Epoch: {epoch}, Training Loss: {train_loss}\")\n",
        "\n",
        "    val_loss, acc = validate_epoch()\n",
        "    print(f\"Validation Loss: {val_loss}, Accuracy: {acc}\")\n",
        "\n",
        "    wandb.log({\n",
        "        'train_loss': train_loss,\n",
        "        'val_loss': val_loss,\n",
        "        'accuracy': acc\n",
        "    })\n",
        "\n",
        "    if acc > best_acc:\n",
        "        best_epoch = epoch\n",
        "        best_acc = acc\n",
        "\n",
        "    print(\"---\")\n",
        "wandb.finish()\n",
        "print(\"---\")\n",
        "print(f\"Best Epoch: {best_epoch}, Best Accuracy: {best_acc}\")"
      ],
      "metadata": {
        "colab": {
          "base_uri": "https://localhost:8080/",
          "height": 1000,
          "referenced_widgets": [
            "db9ebe10b050498ebeb18f91bee49f15",
            "2e133ffd123c4f8bb435f76395be4f65",
            "fb83c01416ad4142be64101dfa4a2f88",
            "a85516043df64cb99b8b3310410059ce",
            "5bca4d1ba6514206930771274115c41d",
            "6761a65382984cd4b02e189f3329f89e",
            "a80a576bbe35423b99b2679877586e98",
            "cf6d2b7b8c3743f1b024baebf1956d13"
          ]
        },
        "id": "MkOgBfhjucTw",
        "outputId": "0c361536-f8d5-4410-c773-df81db8b35cc"
      },
      "execution_count": 40,
      "outputs": [
        {
          "output_type": "stream",
          "name": "stdout",
          "text": [
            "Epoch: 0, Training Loss: 0.0087\n",
            "Validation Loss: 0.0081, Accuracy: 0.7685\n",
            "---\n",
            "Epoch: 1, Training Loss: 0.0078\n",
            "Validation Loss: 0.0077, Accuracy: 0.7785\n",
            "---\n",
            "Epoch: 2, Training Loss: 0.0075\n",
            "Validation Loss: 0.0077, Accuracy: 0.784\n",
            "---\n",
            "Epoch: 3, Training Loss: 0.0073\n",
            "Validation Loss: 0.0073, Accuracy: 0.7925\n",
            "---\n",
            "Epoch: 4, Training Loss: 0.0072\n",
            "Validation Loss: 0.0073, Accuracy: 0.7985\n",
            "---\n",
            "Epoch: 5, Training Loss: 0.007\n",
            "Validation Loss: 0.0074, Accuracy: 0.7965\n",
            "---\n",
            "Epoch: 6, Training Loss: 0.0069\n",
            "Validation Loss: 0.0071, Accuracy: 0.8015\n",
            "---\n",
            "Epoch: 7, Training Loss: 0.0068\n",
            "Validation Loss: 0.007, Accuracy: 0.8065\n",
            "---\n",
            "Epoch: 8, Training Loss: 0.0066\n",
            "Validation Loss: 0.007, Accuracy: 0.805\n",
            "---\n",
            "Epoch: 9, Training Loss: 0.0065\n",
            "Validation Loss: 0.007, Accuracy: 0.806\n",
            "---\n",
            "Epoch: 10, Training Loss: 0.0064\n",
            "Validation Loss: 0.0073, Accuracy: 0.799\n",
            "---\n",
            "Epoch: 11, Training Loss: 0.0063\n",
            "Validation Loss: 0.0069, Accuracy: 0.811\n",
            "---\n",
            "Epoch: 12, Training Loss: 0.0062\n",
            "Validation Loss: 0.007, Accuracy: 0.8065\n",
            "---\n",
            "Epoch: 13, Training Loss: 0.0061\n",
            "Validation Loss: 0.0078, Accuracy: 0.7715\n",
            "---\n",
            "Epoch: 14, Training Loss: 0.006\n",
            "Validation Loss: 0.0071, Accuracy: 0.806\n",
            "---\n",
            "Epoch: 15, Training Loss: 0.0059\n",
            "Validation Loss: 0.0071, Accuracy: 0.81\n",
            "---\n",
            "Epoch: 16, Training Loss: 0.0057\n",
            "Validation Loss: 0.0068, Accuracy: 0.8155\n",
            "---\n",
            "Epoch: 17, Training Loss: 0.0058\n",
            "Validation Loss: 0.0073, Accuracy: 0.804\n",
            "---\n",
            "Epoch: 18, Training Loss: 0.0057\n",
            "Validation Loss: 0.0077, Accuracy: 0.7905\n",
            "---\n",
            "Epoch: 19, Training Loss: 0.0055\n",
            "Validation Loss: 0.0093, Accuracy: 0.717\n",
            "---\n",
            "Epoch: 20, Training Loss: 0.0054\n",
            "Validation Loss: 0.0074, Accuracy: 0.807\n",
            "---\n",
            "Epoch: 21, Training Loss: 0.0052\n",
            "Validation Loss: 0.0072, Accuracy: 0.81\n",
            "---\n",
            "Epoch: 22, Training Loss: 0.0051\n",
            "Validation Loss: 0.0105, Accuracy: 0.6895\n",
            "---\n",
            "Epoch: 23, Training Loss: 0.0049\n",
            "Validation Loss: 0.0072, Accuracy: 0.8075\n",
            "---\n",
            "Epoch: 24, Training Loss: 0.0048\n",
            "Validation Loss: 0.0068, Accuracy: 0.821\n",
            "---\n",
            "Epoch: 25, Training Loss: 0.0049\n",
            "Validation Loss: 0.0094, Accuracy: 0.7315\n",
            "---\n",
            "Epoch: 26, Training Loss: 0.0045\n",
            "Validation Loss: 0.007, Accuracy: 0.817\n",
            "---\n",
            "Epoch: 27, Training Loss: 0.0044\n",
            "Validation Loss: 0.0073, Accuracy: 0.8045\n",
            "---\n",
            "Epoch: 28, Training Loss: 0.0044\n",
            "Validation Loss: 0.0148, Accuracy: 0.6305\n",
            "---\n",
            "Epoch: 29, Training Loss: 0.0043\n",
            "Validation Loss: 0.0082, Accuracy: 0.7875\n",
            "---\n",
            "Epoch: 30, Training Loss: 0.004\n",
            "Validation Loss: 0.0071, Accuracy: 0.817\n",
            "---\n",
            "Epoch: 31, Training Loss: 0.004\n",
            "Validation Loss: 0.0075, Accuracy: 0.807\n",
            "---\n",
            "Epoch: 32, Training Loss: 0.0038\n",
            "Validation Loss: 0.0077, Accuracy: 0.8205\n",
            "---\n",
            "Epoch: 33, Training Loss: 0.0037\n",
            "Validation Loss: 0.0092, Accuracy: 0.758\n",
            "---\n",
            "Epoch: 34, Training Loss: 0.0037\n",
            "Validation Loss: 0.0078, Accuracy: 0.816\n",
            "---\n",
            "Epoch: 35, Training Loss: 0.0037\n",
            "Validation Loss: 0.0075, Accuracy: 0.815\n",
            "---\n",
            "Epoch: 36, Training Loss: 0.0032\n",
            "Validation Loss: 0.0149, Accuracy: 0.749\n",
            "---\n",
            "Epoch: 37, Training Loss: 0.0033\n",
            "Validation Loss: 0.0085, Accuracy: 0.805\n",
            "---\n",
            "Epoch: 38, Training Loss: 0.0028\n",
            "Validation Loss: 0.0078, Accuracy: 0.82\n",
            "---\n",
            "Epoch: 39, Training Loss: 0.0029\n",
            "Validation Loss: 0.0094, Accuracy: 0.7995\n",
            "---\n",
            "Epoch: 40, Training Loss: 0.0026\n",
            "Validation Loss: 0.0102, Accuracy: 0.8\n",
            "---\n",
            "Epoch: 41, Training Loss: 0.0027\n",
            "Validation Loss: 0.0082, Accuracy: 0.8195\n",
            "---\n",
            "Epoch: 42, Training Loss: 0.0025\n",
            "Validation Loss: 0.0209, Accuracy: 0.6115\n",
            "---\n",
            "Epoch: 43, Training Loss: 0.0023\n",
            "Validation Loss: 0.0084, Accuracy: 0.807\n",
            "---\n",
            "Epoch: 44, Training Loss: 0.0022\n",
            "Validation Loss: 0.0141, Accuracy: 0.7675\n",
            "---\n",
            "Epoch: 45, Training Loss: 0.0023\n",
            "Validation Loss: 0.0117, Accuracy: 0.7315\n",
            "---\n",
            "Epoch: 46, Training Loss: 0.0017\n",
            "Validation Loss: 0.0096, Accuracy: 0.8155\n",
            "---\n",
            "Epoch: 47, Training Loss: 0.002\n",
            "Validation Loss: 0.0096, Accuracy: 0.8195\n",
            "---\n",
            "Epoch: 48, Training Loss: 0.0017\n",
            "Validation Loss: 0.0091, Accuracy: 0.804\n",
            "---\n",
            "Epoch: 49, Training Loss: 0.0018\n",
            "Validation Loss: 0.0127, Accuracy: 0.7395\n",
            "---\n",
            "Epoch: 50, Training Loss: 0.0012\n",
            "Validation Loss: 0.0096, Accuracy: 0.807\n",
            "---\n",
            "Epoch: 51, Training Loss: 0.0014\n",
            "Validation Loss: 0.0177, Accuracy: 0.774\n",
            "---\n",
            "Epoch: 52, Training Loss: 0.0017\n",
            "Validation Loss: 0.0098, Accuracy: 0.8145\n",
            "---\n",
            "Epoch: 53, Training Loss: 0.001\n",
            "Validation Loss: 0.0109, Accuracy: 0.8205\n",
            "---\n",
            "Epoch: 54, Training Loss: 0.002\n",
            "Validation Loss: 0.0167, Accuracy: 0.7915\n",
            "---\n",
            "Epoch: 55, Training Loss: 0.0012\n",
            "Validation Loss: 0.0101, Accuracy: 0.8215\n",
            "---\n",
            "Epoch: 56, Training Loss: 0.0007\n",
            "Validation Loss: 0.0105, Accuracy: 0.82\n",
            "---\n",
            "Epoch: 57, Training Loss: 0.0014\n",
            "Validation Loss: 0.0158, Accuracy: 0.704\n",
            "---\n",
            "Epoch: 58, Training Loss: 0.0012\n",
            "Validation Loss: 0.0122, Accuracy: 0.7915\n",
            "---\n",
            "Epoch: 59, Training Loss: 0.0006\n",
            "Validation Loss: 0.0111, Accuracy: 0.8125\n",
            "---\n",
            "Epoch: 60, Training Loss: 0.0005\n",
            "Validation Loss: 0.0395, Accuracy: 0.587\n",
            "---\n",
            "Epoch: 61, Training Loss: 0.0015\n",
            "Validation Loss: 0.0115, Accuracy: 0.819\n",
            "---\n",
            "Epoch: 62, Training Loss: 0.0004\n",
            "Validation Loss: 0.0115, Accuracy: 0.815\n",
            "---\n",
            "Epoch: 63, Training Loss: 0.0004\n",
            "Validation Loss: 0.0172, Accuracy: 0.7395\n",
            "---\n",
            "Epoch: 64, Training Loss: 0.0012\n",
            "Validation Loss: 0.0126, Accuracy: 0.8165\n",
            "---\n",
            "Epoch: 65, Training Loss: 0.0004\n",
            "Validation Loss: 0.0124, Accuracy: 0.816\n",
            "---\n",
            "Epoch: 66, Training Loss: 0.0011\n",
            "Validation Loss: 0.012, Accuracy: 0.815\n",
            "---\n",
            "Epoch: 67, Training Loss: 0.0003\n",
            "Validation Loss: 0.0162, Accuracy: 0.761\n",
            "---\n",
            "Epoch: 68, Training Loss: 0.0003\n",
            "Validation Loss: 0.0127, Accuracy: 0.8085\n",
            "---\n",
            "Epoch: 69, Training Loss: 0.0002\n",
            "Validation Loss: 0.0133, Accuracy: 0.8155\n",
            "---\n",
            "Epoch: 70, Training Loss: 0.0003\n",
            "Validation Loss: 0.0132, Accuracy: 0.809\n",
            "---\n",
            "Epoch: 71, Training Loss: 0.0012\n",
            "Validation Loss: 0.0147, Accuracy: 0.813\n",
            "---\n",
            "Epoch: 72, Training Loss: 0.0004\n",
            "Validation Loss: 0.0128, Accuracy: 0.817\n",
            "---\n",
            "Epoch: 73, Training Loss: 0.0002\n",
            "Validation Loss: 0.013, Accuracy: 0.8075\n",
            "---\n",
            "Epoch: 74, Training Loss: 0.0002\n",
            "Validation Loss: 0.014, Accuracy: 0.816\n",
            "---\n",
            "Epoch: 75, Training Loss: 0.0002\n",
            "Validation Loss: 0.0163, Accuracy: 0.814\n",
            "---\n",
            "Epoch: 76, Training Loss: 0.0002\n",
            "Validation Loss: 0.0139, Accuracy: 0.81\n",
            "---\n",
            "Epoch: 77, Training Loss: 0.0001\n",
            "Validation Loss: 0.0141, Accuracy: 0.808\n",
            "---\n",
            "Epoch: 78, Training Loss: 0.0001\n",
            "Validation Loss: 0.014, Accuracy: 0.808\n",
            "---\n",
            "Epoch: 79, Training Loss: 0.0001\n",
            "Validation Loss: 0.0141, Accuracy: 0.8105\n",
            "---\n",
            "Epoch: 80, Training Loss: 0.0001\n",
            "Validation Loss: 0.0143, Accuracy: 0.8085\n",
            "---\n",
            "Epoch: 81, Training Loss: 0.0001\n",
            "Validation Loss: 0.0262, Accuracy: 0.677\n",
            "---\n",
            "Epoch: 82, Training Loss: 0.0026\n",
            "Validation Loss: 0.014, Accuracy: 0.818\n",
            "---\n",
            "Epoch: 83, Training Loss: 0.0001\n",
            "Validation Loss: 0.0137, Accuracy: 0.805\n",
            "---\n",
            "Epoch: 84, Training Loss: 0.0001\n",
            "Validation Loss: 0.0138, Accuracy: 0.811\n",
            "---\n",
            "Epoch: 85, Training Loss: 0.0012\n",
            "Validation Loss: 0.0136, Accuracy: 0.8085\n",
            "---\n",
            "Epoch: 86, Training Loss: 0.0001\n",
            "Validation Loss: 0.0139, Accuracy: 0.812\n",
            "---\n",
            "Epoch: 87, Training Loss: 0.0001\n",
            "Validation Loss: 0.0143, Accuracy: 0.808\n",
            "---\n",
            "Epoch: 88, Training Loss: 0.0001\n",
            "Validation Loss: 0.0143, Accuracy: 0.8115\n",
            "---\n",
            "Epoch: 89, Training Loss: 0.0002\n",
            "Validation Loss: 0.0148, Accuracy: 0.808\n",
            "---\n",
            "Epoch: 90, Training Loss: 0.0001\n",
            "Validation Loss: 0.0146, Accuracy: 0.8085\n",
            "---\n",
            "Epoch: 91, Training Loss: 0.0001\n",
            "Validation Loss: 0.0146, Accuracy: 0.8125\n",
            "---\n",
            "Epoch: 92, Training Loss: 0.0001\n",
            "Validation Loss: 0.0149, Accuracy: 0.811\n",
            "---\n",
            "Epoch: 93, Training Loss: 0.0001\n",
            "Validation Loss: 0.0149, Accuracy: 0.8055\n",
            "---\n",
            "Epoch: 94, Training Loss: 0.0001\n",
            "Validation Loss: 0.0152, Accuracy: 0.8155\n",
            "---\n",
            "Epoch: 95, Training Loss: 0.0\n",
            "Validation Loss: 0.0153, Accuracy: 0.812\n",
            "---\n",
            "Epoch: 96, Training Loss: 0.0\n",
            "Validation Loss: 0.016, Accuracy: 0.8015\n",
            "---\n",
            "Epoch: 97, Training Loss: 0.0\n",
            "Validation Loss: 0.016, Accuracy: 0.7995\n",
            "---\n",
            "Epoch: 98, Training Loss: 0.0\n",
            "Validation Loss: 0.0155, Accuracy: 0.8115\n",
            "---\n",
            "Epoch: 99, Training Loss: 0.0\n",
            "Validation Loss: 0.0158, Accuracy: 0.8035\n",
            "---\n"
          ]
        },
        {
          "output_type": "display_data",
          "data": {
            "text/plain": [
              "VBox(children=(Label(value='0.001 MB of 0.001 MB uploaded\\r'), FloatProgress(value=1.0, max=1.0)))"
            ],
            "application/vnd.jupyter.widget-view+json": {
              "version_major": 2,
              "version_minor": 0,
              "model_id": "db9ebe10b050498ebeb18f91bee49f15"
            }
          },
          "metadata": {}
        },
        {
          "output_type": "display_data",
          "data": {
            "text/plain": [
              "<IPython.core.display.HTML object>"
            ],
            "text/html": [
              "<style>\n",
              "    table.wandb td:nth-child(1) { padding: 0 10px; text-align: left ; width: auto;} td:nth-child(2) {text-align: left ; width: 100%}\n",
              "    .wandb-row { display: flex; flex-direction: row; flex-wrap: wrap; justify-content: flex-start; width: 100% }\n",
              "    .wandb-col { display: flex; flex-direction: column; flex-basis: 100%; flex: 1; padding: 10px; }\n",
              "    </style>\n",
              "<div class=\"wandb-row\"><div class=\"wandb-col\"><h3>Run history:</h3><br/><table class=\"wandb\"><tr><td>accuracy</td><td>▆▇▇█▇██▇█▄▅▇█▆██▇█▅▇███▇▁▆██████▄█████▇▇</td></tr><tr><td>train_loss</td><td>█▇▇▆▆▆▆▆▅▅▅▅▄▄▄▃▃▃▃▂▂▂▂▂▁▁▂▁▂▁▁▁▁▁▁▁▁▁▁▁</td></tr><tr><td>val_loss</td><td>▁▁▁▁▁▁▁▁▁▂▂▁▁▁▁▁▂▁▂▁▂▂▂▂█▃▂▂▃▂▂▃▅▂▂▃▃▃▃▃</td></tr></table><br/></div><div class=\"wandb-col\"><h3>Run summary:</h3><br/><table class=\"wandb\"><tr><td>accuracy</td><td>0.8035</td></tr><tr><td>train_loss</td><td>0.0</td></tr><tr><td>val_loss</td><td>0.0158</td></tr></table><br/></div></div>"
            ]
          },
          "metadata": {}
        },
        {
          "output_type": "display_data",
          "data": {
            "text/plain": [
              "<IPython.core.display.HTML object>"
            ],
            "text/html": [
              " View run <strong style=\"color:#cdcd00\">sleek-plant-1</strong> at: <a href='https://wandb.ai/sadhaklal/mlp-cifar2-v2/runs/2qeme8wv' target=\"_blank\">https://wandb.ai/sadhaklal/mlp-cifar2-v2/runs/2qeme8wv</a><br/>Synced 5 W&B file(s), 0 media file(s), 0 artifact file(s) and 0 other file(s)"
            ]
          },
          "metadata": {}
        },
        {
          "output_type": "display_data",
          "data": {
            "text/plain": [
              "<IPython.core.display.HTML object>"
            ],
            "text/html": [
              "Find logs at: <code>./wandb/run-20240201_100738-2qeme8wv/logs</code>"
            ]
          },
          "metadata": {}
        },
        {
          "output_type": "stream",
          "name": "stdout",
          "text": [
            "---\n",
            "Best Epoch: 55, Best Accuracy: 0.8215\n"
          ]
        }
      ]
    },
    {
      "cell_type": "markdown",
      "source": [
        "Answer to (a): Using `nn.BCEWithLogitsLoss` gives a slightly better accuracy than using `nn.CrossEntropyLoss`, which gave an accuracy of 0.801. (**Reference notebook:** https://github.com/deep-learning-with-pytorch/dlwpt-code/blob/master/p1ch7/2_birds_airplanes.ipynb)\n",
        "\n",
        "Now, let's reduce the capacity of the network by getting rid of one hidden layer."
      ],
      "metadata": {
        "id": "Qy27IoX2cJKz"
      }
    },
    {
      "cell_type": "code",
      "source": [
        "class MLPForCIFAR2(nn.Module):\n",
        "    def __init__(self):\n",
        "        super().__init__()\n",
        "        self.mlp = nn.Sequential(\n",
        "            nn.Linear(3072, 1024), # Hidden layer.\n",
        "            nn.Tanh(),\n",
        "            nn.Linear(1024, 128), # Hidden layer.\n",
        "            nn.Tanh(),\n",
        "            nn.Linear(128, 1) # Output layer.\n",
        "        )\n",
        "\n",
        "    def forward(self, x):\n",
        "        return self.mlp(x)\n",
        "\n",
        "model = MLPForCIFAR2()\n",
        "model"
      ],
      "metadata": {
        "colab": {
          "base_uri": "https://localhost:8080/"
        },
        "id": "cKxGdNd6ydtg",
        "outputId": "081d0544-8a6d-4ace-8af2-011f81e7acb0"
      },
      "execution_count": 41,
      "outputs": [
        {
          "output_type": "execute_result",
          "data": {
            "text/plain": [
              "MLPForCIFAR2(\n",
              "  (mlp): Sequential(\n",
              "    (0): Linear(in_features=3072, out_features=1024, bias=True)\n",
              "    (1): Tanh()\n",
              "    (2): Linear(in_features=1024, out_features=128, bias=True)\n",
              "    (3): Tanh()\n",
              "    (4): Linear(in_features=128, out_features=1, bias=True)\n",
              "  )\n",
              ")"
            ]
          },
          "metadata": {},
          "execution_count": 41
        }
      ]
    },
    {
      "cell_type": "markdown",
      "source": [
        "Let's re-instantiate the optimizer, and run our training loop."
      ],
      "metadata": {
        "id": "7sBCx84niPXc"
      }
    },
    {
      "cell_type": "code",
      "source": [
        "optimizer = SGD(model.parameters(), lr=learning_rate)"
      ],
      "metadata": {
        "id": "CkHDKPN0y3Y6"
      },
      "execution_count": 42,
      "outputs": []
    },
    {
      "cell_type": "code",
      "source": [
        "wandb.init(\n",
        "    project=\"mlp-cifar2-v2\",\n",
        "    config={\n",
        "        'architecture': \"MLP with 2 hidden layers\",\n",
        "        'dataset': \"CIFAR-2\",\n",
        "        'learning_rate': learning_rate,\n",
        "        'n_epochs': n_epochs,\n",
        "        'batch_size': batch_size\n",
        "    }\n",
        ")"
      ],
      "metadata": {
        "colab": {
          "base_uri": "https://localhost:8080/",
          "height": 142
        },
        "id": "k0q9Zi-ry8wX",
        "outputId": "fdba4202-fd1c-403f-e66f-13d200390295"
      },
      "execution_count": 43,
      "outputs": [
        {
          "output_type": "stream",
          "name": "stderr",
          "text": [
            "\u001b[34m\u001b[1mwandb\u001b[0m: Currently logged in as: \u001b[33msadhaklal\u001b[0m. Use \u001b[1m`wandb login --relogin`\u001b[0m to force relogin\n"
          ]
        },
        {
          "output_type": "display_data",
          "data": {
            "text/plain": [
              "<IPython.core.display.HTML object>"
            ],
            "text/html": [
              "Tracking run with wandb version 0.16.2"
            ]
          },
          "metadata": {}
        },
        {
          "output_type": "display_data",
          "data": {
            "text/plain": [
              "<IPython.core.display.HTML object>"
            ],
            "text/html": [
              "Run data is saved locally in <code>/content/wandb/run-20240201_101336-d6dnjr6c</code>"
            ]
          },
          "metadata": {}
        },
        {
          "output_type": "display_data",
          "data": {
            "text/plain": [
              "<IPython.core.display.HTML object>"
            ],
            "text/html": [
              "Syncing run <strong><a href='https://wandb.ai/sadhaklal/mlp-cifar2-v2/runs/d6dnjr6c' target=\"_blank\">lucky-leaf-2</a></strong> to <a href='https://wandb.ai/sadhaklal/mlp-cifar2-v2' target=\"_blank\">Weights & Biases</a> (<a href='https://wandb.me/run' target=\"_blank\">docs</a>)<br/>"
            ]
          },
          "metadata": {}
        },
        {
          "output_type": "display_data",
          "data": {
            "text/plain": [
              "<IPython.core.display.HTML object>"
            ],
            "text/html": [
              " View project at <a href='https://wandb.ai/sadhaklal/mlp-cifar2-v2' target=\"_blank\">https://wandb.ai/sadhaklal/mlp-cifar2-v2</a>"
            ]
          },
          "metadata": {}
        },
        {
          "output_type": "display_data",
          "data": {
            "text/plain": [
              "<IPython.core.display.HTML object>"
            ],
            "text/html": [
              " View run at <a href='https://wandb.ai/sadhaklal/mlp-cifar2-v2/runs/d6dnjr6c' target=\"_blank\">https://wandb.ai/sadhaklal/mlp-cifar2-v2/runs/d6dnjr6c</a>"
            ]
          },
          "metadata": {}
        },
        {
          "output_type": "execute_result",
          "data": {
            "text/html": [
              "<button onClick=\"this.nextSibling.style.display='block';this.style.display='none';\">Display W&B run</button><iframe src='https://wandb.ai/sadhaklal/mlp-cifar2-v2/runs/d6dnjr6c?jupyter=true' style='border:none;width:100%;height:420px;display:none;'></iframe>"
            ],
            "text/plain": [
              "<wandb.sdk.wandb_run.Run at 0x7a85aba47be0>"
            ]
          },
          "metadata": {},
          "execution_count": 43
        }
      ]
    },
    {
      "cell_type": "code",
      "source": [
        "best_epoch = 0\n",
        "best_acc = 0\n",
        "for epoch in range(n_epochs):\n",
        "    train_loss = train_epoch()\n",
        "    print(f\"Epoch: {epoch}, Training Loss: {train_loss}\")\n",
        "\n",
        "    val_loss, acc = validate_epoch()\n",
        "    print(f\"Validation Loss: {val_loss}, Accuracy: {acc}\")\n",
        "\n",
        "    wandb.log({\n",
        "        'train_loss': train_loss,\n",
        "        'val_loss': val_loss,\n",
        "        'accuracy': acc\n",
        "    })\n",
        "\n",
        "    if acc > best_acc:\n",
        "        best_epoch = epoch\n",
        "        best_acc = acc\n",
        "\n",
        "    print(\"---\")\n",
        "wandb.finish()\n",
        "print(\"---\")\n",
        "print(f\"Best Epoch: {best_epoch}, Best Accuracy: {best_acc}\")"
      ],
      "metadata": {
        "colab": {
          "base_uri": "https://localhost:8080/",
          "height": 1000,
          "referenced_widgets": [
            "3b0e7ec91de2496cb8d32e7a2349f991",
            "f065415c660a45a8ab6832a4322a1600",
            "fd72c5678f8c4d61a7a2f788d43d1a46",
            "c6cdaca6238c4dbaa274f06d83739135",
            "7369cef7442c40ecb280f3db0f6d485a",
            "e472a4b7fb1e4674b068dc97afb47c55",
            "4d7a90bdb96d458ca28699df22b54749",
            "83f197f26c7b415a96b7adcf007ddf36"
          ]
        },
        "id": "uDs45xzBzVk3",
        "outputId": "ab698e1b-54c5-4076-8b8e-ffebeb70e36d"
      },
      "execution_count": 44,
      "outputs": [
        {
          "output_type": "stream",
          "name": "stdout",
          "text": [
            "Epoch: 0, Training Loss: 0.0083\n",
            "Validation Loss: 0.0079, Accuracy: 0.774\n",
            "---\n",
            "Epoch: 1, Training Loss: 0.0076\n",
            "Validation Loss: 0.0076, Accuracy: 0.7845\n",
            "---\n",
            "Epoch: 2, Training Loss: 0.0074\n",
            "Validation Loss: 0.0079, Accuracy: 0.7735\n",
            "---\n",
            "Epoch: 3, Training Loss: 0.0072\n",
            "Validation Loss: 0.0073, Accuracy: 0.7975\n",
            "---\n",
            "Epoch: 4, Training Loss: 0.007\n",
            "Validation Loss: 0.0071, Accuracy: 0.805\n",
            "---\n",
            "Epoch: 5, Training Loss: 0.0068\n",
            "Validation Loss: 0.007, Accuracy: 0.8055\n",
            "---\n",
            "Epoch: 6, Training Loss: 0.0067\n",
            "Validation Loss: 0.007, Accuracy: 0.806\n",
            "---\n",
            "Epoch: 7, Training Loss: 0.0066\n",
            "Validation Loss: 0.0087, Accuracy: 0.715\n",
            "---\n",
            "Epoch: 8, Training Loss: 0.0065\n",
            "Validation Loss: 0.0071, Accuracy: 0.806\n",
            "---\n",
            "Epoch: 9, Training Loss: 0.0064\n",
            "Validation Loss: 0.007, Accuracy: 0.8105\n",
            "---\n",
            "Epoch: 10, Training Loss: 0.0063\n",
            "Validation Loss: 0.007, Accuracy: 0.806\n",
            "---\n",
            "Epoch: 11, Training Loss: 0.0062\n",
            "Validation Loss: 0.0074, Accuracy: 0.799\n",
            "---\n",
            "Epoch: 12, Training Loss: 0.0061\n",
            "Validation Loss: 0.0069, Accuracy: 0.811\n",
            "---\n",
            "Epoch: 13, Training Loss: 0.006\n",
            "Validation Loss: 0.0069, Accuracy: 0.8125\n",
            "---\n",
            "Epoch: 14, Training Loss: 0.0058\n",
            "Validation Loss: 0.0074, Accuracy: 0.7855\n",
            "---\n",
            "Epoch: 15, Training Loss: 0.0058\n",
            "Validation Loss: 0.0071, Accuracy: 0.811\n",
            "---\n",
            "Epoch: 16, Training Loss: 0.0056\n",
            "Validation Loss: 0.0069, Accuracy: 0.8115\n",
            "---\n",
            "Epoch: 17, Training Loss: 0.0056\n",
            "Validation Loss: 0.0101, Accuracy: 0.689\n",
            "---\n",
            "Epoch: 18, Training Loss: 0.0054\n",
            "Validation Loss: 0.0079, Accuracy: 0.7675\n",
            "---\n",
            "Epoch: 19, Training Loss: 0.0054\n",
            "Validation Loss: 0.0067, Accuracy: 0.8245\n",
            "---\n",
            "Epoch: 20, Training Loss: 0.0052\n",
            "Validation Loss: 0.0077, Accuracy: 0.798\n",
            "---\n",
            "Epoch: 21, Training Loss: 0.0051\n",
            "Validation Loss: 0.0078, Accuracy: 0.773\n",
            "---\n",
            "Epoch: 22, Training Loss: 0.0051\n",
            "Validation Loss: 0.0097, Accuracy: 0.767\n",
            "---\n",
            "Epoch: 23, Training Loss: 0.0051\n",
            "Validation Loss: 0.0068, Accuracy: 0.8235\n",
            "---\n",
            "Epoch: 24, Training Loss: 0.0047\n",
            "Validation Loss: 0.0106, Accuracy: 0.683\n",
            "---\n",
            "Epoch: 25, Training Loss: 0.0047\n",
            "Validation Loss: 0.0078, Accuracy: 0.7735\n",
            "---\n",
            "Epoch: 26, Training Loss: 0.0045\n",
            "Validation Loss: 0.0106, Accuracy: 0.69\n",
            "---\n",
            "Epoch: 27, Training Loss: 0.0045\n",
            "Validation Loss: 0.0095, Accuracy: 0.735\n",
            "---\n",
            "Epoch: 28, Training Loss: 0.0045\n",
            "Validation Loss: 0.0091, Accuracy: 0.7475\n",
            "---\n",
            "Epoch: 29, Training Loss: 0.0042\n",
            "Validation Loss: 0.007, Accuracy: 0.82\n",
            "---\n",
            "Epoch: 30, Training Loss: 0.004\n",
            "Validation Loss: 0.0083, Accuracy: 0.7765\n",
            "---\n",
            "Epoch: 31, Training Loss: 0.0039\n",
            "Validation Loss: 0.009, Accuracy: 0.7335\n",
            "---\n",
            "Epoch: 32, Training Loss: 0.0038\n",
            "Validation Loss: 0.0084, Accuracy: 0.7705\n",
            "---\n",
            "Epoch: 33, Training Loss: 0.0035\n",
            "Validation Loss: 0.0078, Accuracy: 0.801\n",
            "---\n",
            "Epoch: 34, Training Loss: 0.0038\n",
            "Validation Loss: 0.008, Accuracy: 0.814\n",
            "---\n",
            "Epoch: 35, Training Loss: 0.0034\n",
            "Validation Loss: 0.0136, Accuracy: 0.658\n",
            "---\n",
            "Epoch: 36, Training Loss: 0.0035\n",
            "Validation Loss: 0.0071, Accuracy: 0.822\n",
            "---\n",
            "Epoch: 37, Training Loss: 0.003\n",
            "Validation Loss: 0.0088, Accuracy: 0.806\n",
            "---\n",
            "Epoch: 38, Training Loss: 0.0031\n",
            "Validation Loss: 0.0123, Accuracy: 0.7095\n",
            "---\n",
            "Epoch: 39, Training Loss: 0.0032\n",
            "Validation Loss: 0.0092, Accuracy: 0.8075\n",
            "---\n",
            "Epoch: 40, Training Loss: 0.0028\n",
            "Validation Loss: 0.0076, Accuracy: 0.811\n",
            "---\n",
            "Epoch: 41, Training Loss: 0.0027\n",
            "Validation Loss: 0.01, Accuracy: 0.748\n",
            "---\n",
            "Epoch: 42, Training Loss: 0.0027\n",
            "Validation Loss: 0.0092, Accuracy: 0.8055\n",
            "---\n",
            "Epoch: 43, Training Loss: 0.0026\n",
            "Validation Loss: 0.01, Accuracy: 0.7485\n",
            "---\n",
            "Epoch: 44, Training Loss: 0.0022\n",
            "Validation Loss: 0.0088, Accuracy: 0.815\n",
            "---\n",
            "Epoch: 45, Training Loss: 0.0023\n",
            "Validation Loss: 0.009, Accuracy: 0.81\n",
            "---\n",
            "Epoch: 46, Training Loss: 0.0021\n",
            "Validation Loss: 0.0083, Accuracy: 0.816\n",
            "---\n",
            "Epoch: 47, Training Loss: 0.0021\n",
            "Validation Loss: 0.0085, Accuracy: 0.815\n",
            "---\n",
            "Epoch: 48, Training Loss: 0.0016\n",
            "Validation Loss: 0.0088, Accuracy: 0.818\n",
            "---\n",
            "Epoch: 49, Training Loss: 0.0021\n",
            "Validation Loss: 0.0102, Accuracy: 0.808\n",
            "---\n",
            "Epoch: 50, Training Loss: 0.0018\n",
            "Validation Loss: 0.0095, Accuracy: 0.7945\n",
            "---\n",
            "Epoch: 51, Training Loss: 0.0018\n",
            "Validation Loss: 0.0115, Accuracy: 0.769\n",
            "---\n",
            "Epoch: 52, Training Loss: 0.0016\n",
            "Validation Loss: 0.0153, Accuracy: 0.7825\n",
            "---\n",
            "Epoch: 53, Training Loss: 0.0014\n",
            "Validation Loss: 0.0094, Accuracy: 0.7985\n",
            "---\n",
            "Epoch: 54, Training Loss: 0.0014\n",
            "Validation Loss: 0.0125, Accuracy: 0.7385\n",
            "---\n",
            "Epoch: 55, Training Loss: 0.0015\n",
            "Validation Loss: 0.0089, Accuracy: 0.803\n",
            "---\n",
            "Epoch: 56, Training Loss: 0.0013\n",
            "Validation Loss: 0.0093, Accuracy: 0.814\n",
            "---\n",
            "Epoch: 57, Training Loss: 0.0011\n",
            "Validation Loss: 0.0103, Accuracy: 0.811\n",
            "---\n",
            "Epoch: 58, Training Loss: 0.0008\n",
            "Validation Loss: 0.0095, Accuracy: 0.817\n",
            "---\n",
            "Epoch: 59, Training Loss: 0.0013\n",
            "Validation Loss: 0.0101, Accuracy: 0.814\n",
            "---\n",
            "Epoch: 60, Training Loss: 0.0011\n",
            "Validation Loss: 0.0101, Accuracy: 0.806\n",
            "---\n",
            "Epoch: 61, Training Loss: 0.0009\n",
            "Validation Loss: 0.01, Accuracy: 0.812\n",
            "---\n",
            "Epoch: 62, Training Loss: 0.0012\n",
            "Validation Loss: 0.0099, Accuracy: 0.812\n",
            "---\n",
            "Epoch: 63, Training Loss: 0.0006\n",
            "Validation Loss: 0.01, Accuracy: 0.8085\n",
            "---\n",
            "Epoch: 64, Training Loss: 0.0007\n",
            "Validation Loss: 0.0157, Accuracy: 0.7925\n",
            "---\n",
            "Epoch: 65, Training Loss: 0.0006\n",
            "Validation Loss: 0.0112, Accuracy: 0.78\n",
            "---\n",
            "Epoch: 66, Training Loss: 0.0005\n",
            "Validation Loss: 0.0137, Accuracy: 0.764\n",
            "---\n",
            "Epoch: 67, Training Loss: 0.0005\n",
            "Validation Loss: 0.0108, Accuracy: 0.814\n",
            "---\n",
            "Epoch: 68, Training Loss: 0.0007\n",
            "Validation Loss: 0.0129, Accuracy: 0.8035\n",
            "---\n",
            "Epoch: 69, Training Loss: 0.0005\n",
            "Validation Loss: 0.0112, Accuracy: 0.8075\n",
            "---\n",
            "Epoch: 70, Training Loss: 0.0003\n",
            "Validation Loss: 0.0113, Accuracy: 0.814\n",
            "---\n",
            "Epoch: 71, Training Loss: 0.0003\n",
            "Validation Loss: 0.0141, Accuracy: 0.749\n",
            "---\n",
            "Epoch: 72, Training Loss: 0.0012\n",
            "Validation Loss: 0.0129, Accuracy: 0.812\n",
            "---\n",
            "Epoch: 73, Training Loss: 0.0005\n",
            "Validation Loss: 0.0114, Accuracy: 0.787\n",
            "---\n",
            "Epoch: 74, Training Loss: 0.0003\n",
            "Validation Loss: 0.0111, Accuracy: 0.805\n",
            "---\n",
            "Epoch: 75, Training Loss: 0.0007\n",
            "Validation Loss: 0.012, Accuracy: 0.799\n",
            "---\n",
            "Epoch: 76, Training Loss: 0.0009\n",
            "Validation Loss: 0.0124, Accuracy: 0.8085\n",
            "---\n",
            "Epoch: 77, Training Loss: 0.0003\n",
            "Validation Loss: 0.0116, Accuracy: 0.8045\n",
            "---\n",
            "Epoch: 78, Training Loss: 0.0002\n",
            "Validation Loss: 0.0115, Accuracy: 0.806\n",
            "---\n",
            "Epoch: 79, Training Loss: 0.0002\n",
            "Validation Loss: 0.0121, Accuracy: 0.815\n",
            "---\n",
            "Epoch: 80, Training Loss: 0.0002\n",
            "Validation Loss: 0.0118, Accuracy: 0.803\n",
            "---\n",
            "Epoch: 81, Training Loss: 0.0002\n",
            "Validation Loss: 0.0124, Accuracy: 0.8105\n",
            "---\n",
            "Epoch: 82, Training Loss: 0.0002\n",
            "Validation Loss: 0.012, Accuracy: 0.8095\n",
            "---\n",
            "Epoch: 83, Training Loss: 0.0011\n",
            "Validation Loss: 0.0119, Accuracy: 0.802\n",
            "---\n",
            "Epoch: 84, Training Loss: 0.0002\n",
            "Validation Loss: 0.0121, Accuracy: 0.803\n",
            "---\n",
            "Epoch: 85, Training Loss: 0.0002\n",
            "Validation Loss: 0.0121, Accuracy: 0.807\n",
            "---\n",
            "Epoch: 86, Training Loss: 0.0001\n",
            "Validation Loss: 0.0124, Accuracy: 0.8065\n",
            "---\n",
            "Epoch: 87, Training Loss: 0.0002\n",
            "Validation Loss: 0.0123, Accuracy: 0.81\n",
            "---\n",
            "Epoch: 88, Training Loss: 0.0002\n",
            "Validation Loss: 0.0125, Accuracy: 0.8115\n",
            "---\n",
            "Epoch: 89, Training Loss: 0.0001\n",
            "Validation Loss: 0.0123, Accuracy: 0.8105\n",
            "---\n",
            "Epoch: 90, Training Loss: 0.0001\n",
            "Validation Loss: 0.0125, Accuracy: 0.8065\n",
            "---\n",
            "Epoch: 91, Training Loss: 0.0001\n",
            "Validation Loss: 0.0128, Accuracy: 0.809\n",
            "---\n",
            "Epoch: 92, Training Loss: 0.0002\n",
            "Validation Loss: 0.0129, Accuracy: 0.808\n",
            "---\n",
            "Epoch: 93, Training Loss: 0.0001\n",
            "Validation Loss: 0.0126, Accuracy: 0.8085\n",
            "---\n",
            "Epoch: 94, Training Loss: 0.0001\n",
            "Validation Loss: 0.0134, Accuracy: 0.8005\n",
            "---\n",
            "Epoch: 95, Training Loss: 0.0001\n",
            "Validation Loss: 0.0129, Accuracy: 0.809\n",
            "---\n",
            "Epoch: 96, Training Loss: 0.0001\n",
            "Validation Loss: 0.0128, Accuracy: 0.81\n",
            "---\n",
            "Epoch: 97, Training Loss: 0.0001\n",
            "Validation Loss: 0.0132, Accuracy: 0.807\n",
            "---\n",
            "Epoch: 98, Training Loss: 0.0001\n",
            "Validation Loss: 0.013, Accuracy: 0.8105\n",
            "---\n",
            "Epoch: 99, Training Loss: 0.0001\n",
            "Validation Loss: 0.0131, Accuracy: 0.8095\n",
            "---\n"
          ]
        },
        {
          "output_type": "display_data",
          "data": {
            "text/plain": [
              "VBox(children=(Label(value='0.001 MB of 0.001 MB uploaded\\r'), FloatProgress(value=1.0, max=1.0)))"
            ],
            "application/vnd.jupyter.widget-view+json": {
              "version_major": 2,
              "version_minor": 0,
              "model_id": "3b0e7ec91de2496cb8d32e7a2349f991"
            }
          },
          "metadata": {}
        },
        {
          "output_type": "display_data",
          "data": {
            "text/plain": [
              "<IPython.core.display.HTML object>"
            ],
            "text/html": [
              "<style>\n",
              "    table.wandb td:nth-child(1) { padding: 0 10px; text-align: left ; width: auto;} td:nth-child(2) {text-align: left ; width: 100%}\n",
              "    .wandb-row { display: flex; flex-direction: row; flex-wrap: wrap; justify-content: flex-start; width: 100% }\n",
              "    .wandb-col { display: flex; flex-direction: column; flex-basis: 100%; flex: 1; padding: 10px; }\n",
              "    </style>\n",
              "<div class=\"wandb-row\"><div class=\"wandb-col\"><h3>Run history:</h3><br/><table class=\"wandb\"><tr><td>accuracy</td><td>▆▆▇▃▇██▂▇▆▆▄▆▇▁▃█▅██▇▇▇█▇█▆▇▅▇█▇█▇▇█████</td></tr><tr><td>train_loss</td><td>█▇▇▇▆▆▆▆▅▅▅▅▄▄▄▄▃▃▃▂▂▂▂▂▂▁▁▂▁▁▂▁▁▂▁▁▁▁▁▁</td></tr><tr><td>val_loss</td><td>▂▂▁▃▁▁▁▄▂▄▂▄▂▂█▆▂▄▃▃▄▃▃▄▄▄█▇█▅▆▅▆▆▆▆▇▇▇▇</td></tr></table><br/></div><div class=\"wandb-col\"><h3>Run summary:</h3><br/><table class=\"wandb\"><tr><td>accuracy</td><td>0.8095</td></tr><tr><td>train_loss</td><td>0.0001</td></tr><tr><td>val_loss</td><td>0.0131</td></tr></table><br/></div></div>"
            ]
          },
          "metadata": {}
        },
        {
          "output_type": "display_data",
          "data": {
            "text/plain": [
              "<IPython.core.display.HTML object>"
            ],
            "text/html": [
              " View run <strong style=\"color:#cdcd00\">lucky-leaf-2</strong> at: <a href='https://wandb.ai/sadhaklal/mlp-cifar2-v2/runs/d6dnjr6c' target=\"_blank\">https://wandb.ai/sadhaklal/mlp-cifar2-v2/runs/d6dnjr6c</a><br/>Synced 5 W&B file(s), 0 media file(s), 0 artifact file(s) and 0 other file(s)"
            ]
          },
          "metadata": {}
        },
        {
          "output_type": "display_data",
          "data": {
            "text/plain": [
              "<IPython.core.display.HTML object>"
            ],
            "text/html": [
              "Find logs at: <code>./wandb/run-20240201_101336-d6dnjr6c/logs</code>"
            ]
          },
          "metadata": {}
        },
        {
          "output_type": "stream",
          "name": "stdout",
          "text": [
            "---\n",
            "Best Epoch: 19, Best Accuracy: 0.8245\n"
          ]
        }
      ]
    },
    {
      "cell_type": "markdown",
      "source": [
        "Reducing the capacity of the network (from three hidden layer to two hidden layers) leads to a tiny improvement in accuracy.\n",
        "\n",
        "Let's try reducing the capacity of the network further to just a single hidden layer. We'll also reduce the number of units in the hidden layer to just 64."
      ],
      "metadata": {
        "id": "_uoYLfgto1oY"
      }
    },
    {
      "cell_type": "code",
      "source": [
        "from huggingface_hub import PyTorchModelHubMixin\n",
        "\n",
        "class MLPForCIFAR2(nn.Module, PyTorchModelHubMixin):\n",
        "    def __init__(self):\n",
        "        super().__init__()\n",
        "        self.mlp = nn.Sequential(\n",
        "            nn.Linear(3072, 64), # Hidden layer.\n",
        "            nn.Tanh(),\n",
        "            nn.Linear(64, 1) # Output layer.\n",
        "        )\n",
        "\n",
        "    def forward(self, x):\n",
        "        return self.mlp(x)\n",
        "\n",
        "model = MLPForCIFAR2()\n",
        "model"
      ],
      "metadata": {
        "colab": {
          "base_uri": "https://localhost:8080/"
        },
        "id": "gY3emtbf4-uj",
        "outputId": "c4a974c0-c753-4e19-bd8d-37245b56b76a"
      },
      "execution_count": 45,
      "outputs": [
        {
          "output_type": "execute_result",
          "data": {
            "text/plain": [
              "MLPForCIFAR2(\n",
              "  (mlp): Sequential(\n",
              "    (0): Linear(in_features=3072, out_features=64, bias=True)\n",
              "    (1): Tanh()\n",
              "    (2): Linear(in_features=64, out_features=1, bias=True)\n",
              "  )\n",
              ")"
            ]
          },
          "metadata": {},
          "execution_count": 45
        }
      ]
    },
    {
      "cell_type": "markdown",
      "source": [
        "Let's re-instantiate the optimizer, and run our training loop."
      ],
      "metadata": {
        "id": "TecX6HNypfeV"
      }
    },
    {
      "cell_type": "code",
      "source": [
        "optimizer = SGD(model.parameters(), lr=learning_rate)"
      ],
      "metadata": {
        "id": "YdXuO0lE5RG5"
      },
      "execution_count": 46,
      "outputs": []
    },
    {
      "cell_type": "code",
      "source": [
        "wandb.init(\n",
        "    project=\"mlp-cifar2-v2\",\n",
        "    config={\n",
        "        'architecture': \"MLP with 1 hidden layer\",\n",
        "        'dataset': \"CIFAR-2\",\n",
        "        'learning_rate': learning_rate,\n",
        "        'n_epochs': n_epochs,\n",
        "        'batch_size': batch_size\n",
        "    }\n",
        ")"
      ],
      "metadata": {
        "colab": {
          "base_uri": "https://localhost:8080/",
          "height": 125
        },
        "id": "ETmHejf45WJe",
        "outputId": "a249539d-a551-475c-daf3-969481e523d2"
      },
      "execution_count": 47,
      "outputs": [
        {
          "output_type": "display_data",
          "data": {
            "text/plain": [
              "<IPython.core.display.HTML object>"
            ],
            "text/html": [
              "Tracking run with wandb version 0.16.2"
            ]
          },
          "metadata": {}
        },
        {
          "output_type": "display_data",
          "data": {
            "text/plain": [
              "<IPython.core.display.HTML object>"
            ],
            "text/html": [
              "Run data is saved locally in <code>/content/wandb/run-20240201_101848-j6xfdmls</code>"
            ]
          },
          "metadata": {}
        },
        {
          "output_type": "display_data",
          "data": {
            "text/plain": [
              "<IPython.core.display.HTML object>"
            ],
            "text/html": [
              "Syncing run <strong><a href='https://wandb.ai/sadhaklal/mlp-cifar2-v2/runs/j6xfdmls' target=\"_blank\">smooth-frog-3</a></strong> to <a href='https://wandb.ai/sadhaklal/mlp-cifar2-v2' target=\"_blank\">Weights & Biases</a> (<a href='https://wandb.me/run' target=\"_blank\">docs</a>)<br/>"
            ]
          },
          "metadata": {}
        },
        {
          "output_type": "display_data",
          "data": {
            "text/plain": [
              "<IPython.core.display.HTML object>"
            ],
            "text/html": [
              " View project at <a href='https://wandb.ai/sadhaklal/mlp-cifar2-v2' target=\"_blank\">https://wandb.ai/sadhaklal/mlp-cifar2-v2</a>"
            ]
          },
          "metadata": {}
        },
        {
          "output_type": "display_data",
          "data": {
            "text/plain": [
              "<IPython.core.display.HTML object>"
            ],
            "text/html": [
              " View run at <a href='https://wandb.ai/sadhaklal/mlp-cifar2-v2/runs/j6xfdmls' target=\"_blank\">https://wandb.ai/sadhaklal/mlp-cifar2-v2/runs/j6xfdmls</a>"
            ]
          },
          "metadata": {}
        },
        {
          "output_type": "execute_result",
          "data": {
            "text/html": [
              "<button onClick=\"this.nextSibling.style.display='block';this.style.display='none';\">Display W&B run</button><iframe src='https://wandb.ai/sadhaklal/mlp-cifar2-v2/runs/j6xfdmls?jupyter=true' style='border:none;width:100%;height:420px;display:none;'></iframe>"
            ],
            "text/plain": [
              "<wandb.sdk.wandb_run.Run at 0x7a85aa89f700>"
            ]
          },
          "metadata": {},
          "execution_count": 47
        }
      ]
    },
    {
      "cell_type": "code",
      "source": [
        "best_epoch = 0\n",
        "best_acc = 0\n",
        "for epoch in range(n_epochs):\n",
        "    train_loss = train_epoch()\n",
        "    print(f\"Epoch: {epoch}, Training Loss: {train_loss}\")\n",
        "\n",
        "    val_loss, acc = validate_epoch()\n",
        "    print(f\"Validation Loss: {val_loss}, Accuracy: {acc}\")\n",
        "\n",
        "    wandb.log({\n",
        "        'train_loss': train_loss,\n",
        "        'val_loss': val_loss,\n",
        "        'accuracy': acc\n",
        "    })\n",
        "\n",
        "    if acc > best_acc:\n",
        "        best_epoch = epoch\n",
        "        best_acc = acc\n",
        "        model.push_to_hub(\"mlp-cifar2-v2\", commit_message=f\"epoch: {epoch}, accuracy: {acc}\")\n",
        "\n",
        "    print(\"---\")\n",
        "wandb.finish()\n",
        "print(\"---\")\n",
        "print(f\"Best Epoch: {best_epoch}, Best Accuracy: {best_acc}\")"
      ],
      "metadata": {
        "colab": {
          "base_uri": "https://localhost:8080/",
          "height": 1000,
          "referenced_widgets": [
            "6ba130b85eb44b509ed74f0b9fb00ac8",
            "6108fdf3fd154be19abbb16acd8545d3",
            "d88f3caf95d541899961d472629fb23f",
            "7cca2a051b95424a8268309e0e128916",
            "af4662a9439f46b781053d4c01ba5161",
            "5206ccc4183f4dfea059397d854b281a",
            "9b456304ec10476094b87abf2dbb1ec5",
            "26fdbe4dee7346548ba89d31a0672e99",
            "dce23ddf3c0541b282f839503dd90d62",
            "509ca5f4586e49b0a453f37ea2497e15",
            "daf828d9608244dbbef2067a36a03d76",
            "38a6b7af68ea4e9ca00bb62a182a78be",
            "01110acc628f42e39aa3d04b943b42c4",
            "e64cb0bd33e349a9807eadb78bec8040",
            "94659b7f4a984b118c101c601109bab7",
            "ae1b835b59e64321815c02574b5becfd",
            "82380cd0ca2d43818deeb3214ce56f04",
            "2baa2d363a2d494eaeebd541297e62d4",
            "a1fca31ea3194d4fa1c0dcd9535a890d",
            "c0db3816ec944631816b4842a4f9e5cf",
            "8873223e8a1945db8204738b95724f37",
            "b5e2c5347ba84e23b0927d8a061f4102",
            "17c2c536368349b983c7d4570a06171d",
            "b788aae59d9346ea97a0a6609275c7be",
            "0e146e71acc9440b9232d6c097f1501c",
            "351b1e8a106945feb3f36f6b1c6b7129",
            "fd8edc84ff9b4c59a642686f7aa2a228",
            "ff914ebfe90e4540848d1a2ce6b12df4",
            "6ee8faf404704cf0957bfb7e24a3c50f",
            "39a64af558584b9d8352f7f305a08165",
            "0fbb10e2865e41bdbaf3891636427a77",
            "3b51391b9e88491caa373128d095e850",
            "f18e835285f14324bbed697f86ccf8b9",
            "e384346ed1244c33befbb8a6d0b35e21",
            "17b9b05062ec480fb152ee203950c1b0",
            "c80fa2766e0a439394fca4fc171eb2f6",
            "9e00572782bb47259eb5e001ba0979b4",
            "58f4beee448a43098e2feb93e3f51bc7",
            "430ef441d0eb4e018aa1aa6d9d6d7f83",
            "726dfe0c30b6415cbe7809f78986251c",
            "bcfe977456ab4ffbba12b6d9b7e00b28",
            "12c011a61b9345d4976048a62dfdde55",
            "37b020b30dc040f08d1b2a69071217c9",
            "4008c64d5fd14c50ad25a4780a55fafe",
            "a5a7a5f56f7a4efba1efb80a6720d2e9",
            "ee1a41284a2d4d05ad862a45100e23d2",
            "be38c07f093e41c9adb155c8c584fe87",
            "b92e843f0b364faf8c609db794b97f83",
            "94ffc8a637ea45ebafec65aaec635206",
            "f8e098ee73ca493ab4e09fb2a1b81a3b",
            "5b848c35fadf4275a6bc942e4ac4cd15",
            "4392a92bb0704b9b9d9c09940e255193",
            "21980124d4eb4fb78f47a42004a05769",
            "c13ee5fc93934a63a9d4b2197f699906",
            "5837cccfacc94a7ba74da2225b6482f3",
            "8e79dbb9f58c487bb6bb8f1de98c2c96",
            "fceefdddb46049b2be6c9b7fd4799eab",
            "97f41f8bb0ab45cba2b6308c3bebeaff",
            "3041072efd2743928726046fc235de86",
            "2eaf6d6bc3b24bf2b26d4c32058efd2e",
            "3721ba4703874c65afbf08c8fd532cb6",
            "45bbf8ee345845a6a40df3f10fd4ab64",
            "6da106df17aa401d80f81cb43a54a7da",
            "6e6520d7004f4588bfa5f0a642587573",
            "d903d28b755f417788833774941ed8ee",
            "c605d3e44857418bae4a1fcf504f4be7",
            "3747fbe4f9d544bfbbd18ec10a9a91d7",
            "9b6bae934b4a40b8a52bc704ada5b02b",
            "5c1de0dd7bfe45cc95d411b0ff40007e",
            "9048993eb10544a590af600a58ee2f81",
            "f6e2ce5627944b03bc760ceb7e8500e9",
            "a4cbaf485ea646939161eaaa17e38b8c",
            "6f12f5a1a06f4d54af115ce28ce1f7bc",
            "6a6a1192d35a47a899eb45e3131c3ba8",
            "b53fe3f04e9143d4b70cd5bd31c4e661",
            "0245051bf95c4612802999319a7d3780",
            "2f53b80cbeaf47dc9312db5f85557b82",
            "303b7fe42787470691f2b398e1a54ae1",
            "cb54a917d5c84173a19838b0ed3977e2",
            "bd014ed5e1c840f6812d277948353b54",
            "6545e100a2da4611a8b1e0dbf12f3ab6",
            "3968aa3841af4f3da3053177ba09f3f7",
            "f82995c6112c4afc994d16ef3a989441",
            "a012a84520734ba79e91aaefa518a618",
            "78d70051b5df4f16907e837d40e8e624",
            "a75657c2aaf546f7b1acb6874c2aa79e",
            "efcad5fe97d145d7b8ec6b7f8fd25a3f",
            "c8d838c51f1542fbbf4c1905f78f4a11",
            "a0b55918ff3243c19686a3cbab5272e5",
            "99d0b0917c6148a89fa5ebacc57eab1d",
            "24d61d97b7d34fde83caec03c5f071e3",
            "8037200da5794839b22be54e1c687822",
            "b65ae0e2c0144aa097d9dd9ab5d469fd",
            "34a895e5d04345c093d51479bd7ff86d",
            "f643a2c06a6646d28a689b4c5d5fdf54",
            "8119a199d52946b0971b3507461685c6",
            "510866de064446e4b86e13a78f760a81",
            "324ad9f86e5e45e9a64d1667c595f556",
            "a01574ebe4d24ca68306ed49e74e6252",
            "8f687c3aebd749259bfbf6852006385f",
            "087557b5ce9d4b65b12894e64f090fff",
            "aed91c0e49774d78be9bd5f687ccdbbe",
            "34a2456a6df142d687bf51f98f7fbb00",
            "1ce2517b88ac493db2af66243f0ccbf9",
            "9755b8fcd47a4999aed4322db8048176",
            "9ed2c4ba6f204806ba648e2f2f4f5e42",
            "c37ebcc523ef4b688bea88f3e4b5bac2"
          ]
        },
        "id": "CtEpa0hM56g3",
        "outputId": "4f4c3bc2-18cc-4b86-c855-f5ccbe43f331"
      },
      "execution_count": 48,
      "outputs": [
        {
          "output_type": "stream",
          "name": "stdout",
          "text": [
            "Epoch: 0, Training Loss: 0.0081\n",
            "Validation Loss: 0.0078, Accuracy: 0.7815\n"
          ]
        },
        {
          "output_type": "display_data",
          "data": {
            "text/plain": [
              "pytorch_model.bin:   0%|          | 0.00/789k [00:00<?, ?B/s]"
            ],
            "application/vnd.jupyter.widget-view+json": {
              "version_major": 2,
              "version_minor": 0,
              "model_id": "6ba130b85eb44b509ed74f0b9fb00ac8"
            }
          },
          "metadata": {}
        },
        {
          "output_type": "stream",
          "name": "stdout",
          "text": [
            "---\n",
            "Epoch: 1, Training Loss: 0.0075\n",
            "Validation Loss: 0.0076, Accuracy: 0.771\n",
            "---\n",
            "Epoch: 2, Training Loss: 0.0073\n",
            "Validation Loss: 0.0074, Accuracy: 0.794\n"
          ]
        },
        {
          "output_type": "display_data",
          "data": {
            "text/plain": [
              "pytorch_model.bin:   0%|          | 0.00/789k [00:00<?, ?B/s]"
            ],
            "application/vnd.jupyter.widget-view+json": {
              "version_major": 2,
              "version_minor": 0,
              "model_id": "38a6b7af68ea4e9ca00bb62a182a78be"
            }
          },
          "metadata": {}
        },
        {
          "output_type": "stream",
          "name": "stdout",
          "text": [
            "---\n",
            "Epoch: 3, Training Loss: 0.0071\n",
            "Validation Loss: 0.0073, Accuracy: 0.785\n",
            "---\n",
            "Epoch: 4, Training Loss: 0.0069\n",
            "Validation Loss: 0.0072, Accuracy: 0.7995\n"
          ]
        },
        {
          "output_type": "display_data",
          "data": {
            "text/plain": [
              "pytorch_model.bin:   0%|          | 0.00/789k [00:00<?, ?B/s]"
            ],
            "application/vnd.jupyter.widget-view+json": {
              "version_major": 2,
              "version_minor": 0,
              "model_id": "17c2c536368349b983c7d4570a06171d"
            }
          },
          "metadata": {}
        },
        {
          "output_type": "stream",
          "name": "stdout",
          "text": [
            "---\n",
            "Epoch: 5, Training Loss: 0.0068\n",
            "Validation Loss: 0.007, Accuracy: 0.8025\n"
          ]
        },
        {
          "output_type": "display_data",
          "data": {
            "text/plain": [
              "pytorch_model.bin:   0%|          | 0.00/789k [00:00<?, ?B/s]"
            ],
            "application/vnd.jupyter.widget-view+json": {
              "version_major": 2,
              "version_minor": 0,
              "model_id": "e384346ed1244c33befbb8a6d0b35e21"
            }
          },
          "metadata": {}
        },
        {
          "output_type": "stream",
          "name": "stdout",
          "text": [
            "---\n",
            "Epoch: 6, Training Loss: 0.0067\n",
            "Validation Loss: 0.007, Accuracy: 0.8025\n",
            "---\n",
            "Epoch: 7, Training Loss: 0.0066\n",
            "Validation Loss: 0.009, Accuracy: 0.7065\n",
            "---\n",
            "Epoch: 8, Training Loss: 0.0065\n",
            "Validation Loss: 0.0068, Accuracy: 0.813\n"
          ]
        },
        {
          "output_type": "display_data",
          "data": {
            "text/plain": [
              "pytorch_model.bin:   0%|          | 0.00/789k [00:00<?, ?B/s]"
            ],
            "application/vnd.jupyter.widget-view+json": {
              "version_major": 2,
              "version_minor": 0,
              "model_id": "a5a7a5f56f7a4efba1efb80a6720d2e9"
            }
          },
          "metadata": {}
        },
        {
          "output_type": "stream",
          "name": "stdout",
          "text": [
            "---\n",
            "Epoch: 9, Training Loss: 0.0064\n",
            "Validation Loss: 0.007, Accuracy: 0.8025\n",
            "---\n",
            "Epoch: 10, Training Loss: 0.0063\n",
            "Validation Loss: 0.0068, Accuracy: 0.8095\n",
            "---\n",
            "Epoch: 11, Training Loss: 0.0062\n",
            "Validation Loss: 0.0067, Accuracy: 0.8145\n"
          ]
        },
        {
          "output_type": "display_data",
          "data": {
            "text/plain": [
              "pytorch_model.bin:   0%|          | 0.00/789k [00:00<?, ?B/s]"
            ],
            "application/vnd.jupyter.widget-view+json": {
              "version_major": 2,
              "version_minor": 0,
              "model_id": "8e79dbb9f58c487bb6bb8f1de98c2c96"
            }
          },
          "metadata": {}
        },
        {
          "output_type": "stream",
          "name": "stdout",
          "text": [
            "---\n",
            "Epoch: 12, Training Loss: 0.0061\n",
            "Validation Loss: 0.0067, Accuracy: 0.8105\n",
            "---\n",
            "Epoch: 13, Training Loss: 0.006\n",
            "Validation Loss: 0.0067, Accuracy: 0.8115\n",
            "---\n",
            "Epoch: 14, Training Loss: 0.0059\n",
            "Validation Loss: 0.007, Accuracy: 0.802\n",
            "---\n",
            "Epoch: 15, Training Loss: 0.0058\n",
            "Validation Loss: 0.0066, Accuracy: 0.819\n"
          ]
        },
        {
          "output_type": "display_data",
          "data": {
            "text/plain": [
              "pytorch_model.bin:   0%|          | 0.00/789k [00:00<?, ?B/s]"
            ],
            "application/vnd.jupyter.widget-view+json": {
              "version_major": 2,
              "version_minor": 0,
              "model_id": "3747fbe4f9d544bfbbd18ec10a9a91d7"
            }
          },
          "metadata": {}
        },
        {
          "output_type": "stream",
          "name": "stdout",
          "text": [
            "---\n",
            "Epoch: 16, Training Loss: 0.0057\n",
            "Validation Loss: 0.0068, Accuracy: 0.817\n",
            "---\n",
            "Epoch: 17, Training Loss: 0.0056\n",
            "Validation Loss: 0.0067, Accuracy: 0.818\n",
            "---\n",
            "Epoch: 18, Training Loss: 0.0055\n",
            "Validation Loss: 0.0067, Accuracy: 0.8125\n",
            "---\n",
            "Epoch: 19, Training Loss: 0.0054\n",
            "Validation Loss: 0.0065, Accuracy: 0.8225\n"
          ]
        },
        {
          "output_type": "display_data",
          "data": {
            "text/plain": [
              "pytorch_model.bin:   0%|          | 0.00/789k [00:00<?, ?B/s]"
            ],
            "application/vnd.jupyter.widget-view+json": {
              "version_major": 2,
              "version_minor": 0,
              "model_id": "303b7fe42787470691f2b398e1a54ae1"
            }
          },
          "metadata": {}
        },
        {
          "output_type": "stream",
          "name": "stdout",
          "text": [
            "---\n",
            "Epoch: 20, Training Loss: 0.0053\n",
            "Validation Loss: 0.0067, Accuracy: 0.812\n",
            "---\n",
            "Epoch: 21, Training Loss: 0.0053\n",
            "Validation Loss: 0.0067, Accuracy: 0.8135\n",
            "---\n",
            "Epoch: 22, Training Loss: 0.0051\n",
            "Validation Loss: 0.0067, Accuracy: 0.822\n",
            "---\n",
            "Epoch: 23, Training Loss: 0.005\n",
            "Validation Loss: 0.0065, Accuracy: 0.821\n",
            "---\n",
            "Epoch: 24, Training Loss: 0.0049\n",
            "Validation Loss: 0.0066, Accuracy: 0.821\n",
            "---\n",
            "Epoch: 25, Training Loss: 0.0048\n",
            "Validation Loss: 0.0072, Accuracy: 0.795\n",
            "---\n",
            "Epoch: 26, Training Loss: 0.0047\n",
            "Validation Loss: 0.0066, Accuracy: 0.8165\n",
            "---\n",
            "Epoch: 27, Training Loss: 0.0046\n",
            "Validation Loss: 0.0064, Accuracy: 0.829\n"
          ]
        },
        {
          "output_type": "display_data",
          "data": {
            "text/plain": [
              "pytorch_model.bin:   0%|          | 0.00/789k [00:00<?, ?B/s]"
            ],
            "application/vnd.jupyter.widget-view+json": {
              "version_major": 2,
              "version_minor": 0,
              "model_id": "a0b55918ff3243c19686a3cbab5272e5"
            }
          },
          "metadata": {}
        },
        {
          "output_type": "stream",
          "name": "stdout",
          "text": [
            "---\n",
            "Epoch: 28, Training Loss: 0.0045\n",
            "Validation Loss: 0.0065, Accuracy: 0.818\n",
            "---\n",
            "Epoch: 29, Training Loss: 0.0044\n",
            "Validation Loss: 0.0067, Accuracy: 0.8265\n",
            "---\n",
            "Epoch: 30, Training Loss: 0.0044\n",
            "Validation Loss: 0.0065, Accuracy: 0.824\n",
            "---\n",
            "Epoch: 31, Training Loss: 0.0043\n",
            "Validation Loss: 0.0065, Accuracy: 0.828\n",
            "---\n",
            "Epoch: 32, Training Loss: 0.0042\n",
            "Validation Loss: 0.0066, Accuracy: 0.818\n",
            "---\n",
            "Epoch: 33, Training Loss: 0.0041\n",
            "Validation Loss: 0.0065, Accuracy: 0.825\n",
            "---\n",
            "Epoch: 34, Training Loss: 0.004\n",
            "Validation Loss: 0.0065, Accuracy: 0.8245\n",
            "---\n",
            "Epoch: 35, Training Loss: 0.0039\n",
            "Validation Loss: 0.0065, Accuracy: 0.8285\n",
            "---\n",
            "Epoch: 36, Training Loss: 0.0038\n",
            "Validation Loss: 0.0065, Accuracy: 0.8245\n",
            "---\n",
            "Epoch: 37, Training Loss: 0.0037\n",
            "Validation Loss: 0.0079, Accuracy: 0.765\n",
            "---\n",
            "Epoch: 38, Training Loss: 0.0036\n",
            "Validation Loss: 0.0066, Accuracy: 0.816\n",
            "---\n",
            "Epoch: 39, Training Loss: 0.0035\n",
            "Validation Loss: 0.0066, Accuracy: 0.816\n",
            "---\n",
            "Epoch: 40, Training Loss: 0.0034\n",
            "Validation Loss: 0.0065, Accuracy: 0.8215\n",
            "---\n",
            "Epoch: 41, Training Loss: 0.0034\n",
            "Validation Loss: 0.0068, Accuracy: 0.814\n",
            "---\n",
            "Epoch: 42, Training Loss: 0.0033\n",
            "Validation Loss: 0.0071, Accuracy: 0.7955\n",
            "---\n",
            "Epoch: 43, Training Loss: 0.0033\n",
            "Validation Loss: 0.0066, Accuracy: 0.822\n",
            "---\n",
            "Epoch: 44, Training Loss: 0.0031\n",
            "Validation Loss: 0.0067, Accuracy: 0.815\n",
            "---\n",
            "Epoch: 45, Training Loss: 0.0031\n",
            "Validation Loss: 0.0065, Accuracy: 0.822\n",
            "---\n",
            "Epoch: 46, Training Loss: 0.003\n",
            "Validation Loss: 0.0067, Accuracy: 0.8105\n",
            "---\n",
            "Epoch: 47, Training Loss: 0.003\n",
            "Validation Loss: 0.0068, Accuracy: 0.813\n",
            "---\n",
            "Epoch: 48, Training Loss: 0.0028\n",
            "Validation Loss: 0.0067, Accuracy: 0.819\n",
            "---\n",
            "Epoch: 49, Training Loss: 0.0028\n",
            "Validation Loss: 0.0066, Accuracy: 0.827\n",
            "---\n",
            "Epoch: 50, Training Loss: 0.0027\n",
            "Validation Loss: 0.0067, Accuracy: 0.8195\n",
            "---\n",
            "Epoch: 51, Training Loss: 0.0026\n",
            "Validation Loss: 0.0069, Accuracy: 0.8195\n",
            "---\n",
            "Epoch: 52, Training Loss: 0.0026\n",
            "Validation Loss: 0.0072, Accuracy: 0.788\n",
            "---\n",
            "Epoch: 53, Training Loss: 0.0025\n",
            "Validation Loss: 0.0069, Accuracy: 0.8195\n",
            "---\n",
            "Epoch: 54, Training Loss: 0.0024\n",
            "Validation Loss: 0.0068, Accuracy: 0.823\n",
            "---\n",
            "Epoch: 55, Training Loss: 0.0024\n",
            "Validation Loss: 0.0069, Accuracy: 0.817\n",
            "---\n",
            "Epoch: 56, Training Loss: 0.0023\n",
            "Validation Loss: 0.007, Accuracy: 0.8155\n",
            "---\n",
            "Epoch: 57, Training Loss: 0.0022\n",
            "Validation Loss: 0.0071, Accuracy: 0.8205\n",
            "---\n",
            "Epoch: 58, Training Loss: 0.0022\n",
            "Validation Loss: 0.009, Accuracy: 0.743\n",
            "---\n",
            "Epoch: 59, Training Loss: 0.0022\n",
            "Validation Loss: 0.0069, Accuracy: 0.8155\n",
            "---\n",
            "Epoch: 60, Training Loss: 0.0021\n",
            "Validation Loss: 0.007, Accuracy: 0.82\n",
            "---\n",
            "Epoch: 61, Training Loss: 0.002\n",
            "Validation Loss: 0.0071, Accuracy: 0.8145\n",
            "---\n",
            "Epoch: 62, Training Loss: 0.002\n",
            "Validation Loss: 0.0081, Accuracy: 0.8085\n",
            "---\n",
            "Epoch: 63, Training Loss: 0.002\n",
            "Validation Loss: 0.0075, Accuracy: 0.8145\n",
            "---\n",
            "Epoch: 64, Training Loss: 0.0019\n",
            "Validation Loss: 0.0073, Accuracy: 0.8105\n",
            "---\n",
            "Epoch: 65, Training Loss: 0.0019\n",
            "Validation Loss: 0.0073, Accuracy: 0.818\n",
            "---\n",
            "Epoch: 66, Training Loss: 0.0018\n",
            "Validation Loss: 0.0072, Accuracy: 0.818\n",
            "---\n",
            "Epoch: 67, Training Loss: 0.0018\n",
            "Validation Loss: 0.0093, Accuracy: 0.796\n",
            "---\n",
            "Epoch: 68, Training Loss: 0.0018\n",
            "Validation Loss: 0.0084, Accuracy: 0.78\n",
            "---\n",
            "Epoch: 69, Training Loss: 0.0017\n",
            "Validation Loss: 0.0086, Accuracy: 0.7815\n",
            "---\n",
            "Epoch: 70, Training Loss: 0.0016\n",
            "Validation Loss: 0.0075, Accuracy: 0.803\n",
            "---\n",
            "Epoch: 71, Training Loss: 0.0016\n",
            "Validation Loss: 0.0073, Accuracy: 0.8175\n",
            "---\n",
            "Epoch: 72, Training Loss: 0.0015\n",
            "Validation Loss: 0.0075, Accuracy: 0.818\n",
            "---\n",
            "Epoch: 73, Training Loss: 0.0015\n",
            "Validation Loss: 0.0076, Accuracy: 0.8215\n",
            "---\n",
            "Epoch: 74, Training Loss: 0.0015\n",
            "Validation Loss: 0.0074, Accuracy: 0.816\n",
            "---\n",
            "Epoch: 75, Training Loss: 0.0014\n",
            "Validation Loss: 0.0076, Accuracy: 0.809\n",
            "---\n",
            "Epoch: 76, Training Loss: 0.0014\n",
            "Validation Loss: 0.0075, Accuracy: 0.8145\n",
            "---\n",
            "Epoch: 77, Training Loss: 0.0014\n",
            "Validation Loss: 0.0093, Accuracy: 0.7555\n",
            "---\n",
            "Epoch: 78, Training Loss: 0.0014\n",
            "Validation Loss: 0.0075, Accuracy: 0.815\n",
            "---\n",
            "Epoch: 79, Training Loss: 0.0013\n",
            "Validation Loss: 0.0077, Accuracy: 0.8115\n",
            "---\n",
            "Epoch: 80, Training Loss: 0.0013\n",
            "Validation Loss: 0.0119, Accuracy: 0.7115\n",
            "---\n",
            "Epoch: 81, Training Loss: 0.0013\n",
            "Validation Loss: 0.0079, Accuracy: 0.8055\n",
            "---\n",
            "Epoch: 82, Training Loss: 0.0012\n",
            "Validation Loss: 0.0077, Accuracy: 0.8145\n",
            "---\n",
            "Epoch: 83, Training Loss: 0.0012\n",
            "Validation Loss: 0.0076, Accuracy: 0.815\n",
            "---\n",
            "Epoch: 84, Training Loss: 0.0012\n",
            "Validation Loss: 0.0077, Accuracy: 0.8195\n",
            "---\n",
            "Epoch: 85, Training Loss: 0.0011\n",
            "Validation Loss: 0.0079, Accuracy: 0.8055\n",
            "---\n",
            "Epoch: 86, Training Loss: 0.0011\n",
            "Validation Loss: 0.0087, Accuracy: 0.811\n",
            "---\n",
            "Epoch: 87, Training Loss: 0.0011\n",
            "Validation Loss: 0.0082, Accuracy: 0.8185\n",
            "---\n",
            "Epoch: 88, Training Loss: 0.0011\n",
            "Validation Loss: 0.0078, Accuracy: 0.813\n",
            "---\n",
            "Epoch: 89, Training Loss: 0.001\n",
            "Validation Loss: 0.0079, Accuracy: 0.814\n",
            "---\n",
            "Epoch: 90, Training Loss: 0.001\n",
            "Validation Loss: 0.0079, Accuracy: 0.8165\n",
            "---\n",
            "Epoch: 91, Training Loss: 0.001\n",
            "Validation Loss: 0.0085, Accuracy: 0.7975\n",
            "---\n",
            "Epoch: 92, Training Loss: 0.001\n",
            "Validation Loss: 0.0079, Accuracy: 0.819\n",
            "---\n",
            "Epoch: 93, Training Loss: 0.0009\n",
            "Validation Loss: 0.0079, Accuracy: 0.809\n",
            "---\n",
            "Epoch: 94, Training Loss: 0.0009\n",
            "Validation Loss: 0.008, Accuracy: 0.815\n",
            "---\n",
            "Epoch: 95, Training Loss: 0.0009\n",
            "Validation Loss: 0.008, Accuracy: 0.814\n",
            "---\n",
            "Epoch: 96, Training Loss: 0.0009\n",
            "Validation Loss: 0.0079, Accuracy: 0.816\n",
            "---\n",
            "Epoch: 97, Training Loss: 0.0009\n",
            "Validation Loss: 0.0081, Accuracy: 0.81\n",
            "---\n",
            "Epoch: 98, Training Loss: 0.0008\n",
            "Validation Loss: 0.0081, Accuracy: 0.8145\n",
            "---\n",
            "Epoch: 99, Training Loss: 0.0008\n",
            "Validation Loss: 0.0082, Accuracy: 0.8125\n",
            "---\n"
          ]
        },
        {
          "output_type": "display_data",
          "data": {
            "text/plain": [
              "VBox(children=(Label(value='0.018 MB of 0.018 MB uploaded\\r'), FloatProgress(value=1.0, max=1.0)))"
            ],
            "application/vnd.jupyter.widget-view+json": {
              "version_major": 2,
              "version_minor": 0,
              "model_id": "8f687c3aebd749259bfbf6852006385f"
            }
          },
          "metadata": {}
        },
        {
          "output_type": "display_data",
          "data": {
            "text/plain": [
              "<IPython.core.display.HTML object>"
            ],
            "text/html": [
              "<style>\n",
              "    table.wandb td:nth-child(1) { padding: 0 10px; text-align: left ; width: auto;} td:nth-child(2) {text-align: left ; width: 100%}\n",
              "    .wandb-row { display: flex; flex-direction: row; flex-wrap: wrap; justify-content: flex-start; width: 100% }\n",
              "    .wandb-col { display: flex; flex-direction: column; flex-basis: 100%; flex: 1; padding: 10px; }\n",
              "    </style>\n",
              "<div class=\"wandb-row\"><div class=\"wandb-col\"><h3>Run history:</h3><br/><table class=\"wandb\"><tr><td>accuracy</td><td>▅▆▆▁▇▇▇▇▇█▆████▇███▇▇▇▇▃▇▇▇▅▇█▇▇▇▇▇▇▆▇▇▇</td></tr><tr><td>train_loss</td><td>█▇▇▇▆▆▆▆▅▅▅▅▄▄▄▄▃▃▃▃▃▃▃▂▂▂▂▂▂▂▂▂▁▁▁▁▁▁▁▁</td></tr><tr><td>val_loss</td><td>▅▄▃█▂▂▂▂▂▂▃▁▁▁▁▂▁▂▁▂▂▂▂█▃▄▃▆▃▄▄▄▅▄▇▅▇▅▅▆</td></tr></table><br/></div><div class=\"wandb-col\"><h3>Run summary:</h3><br/><table class=\"wandb\"><tr><td>accuracy</td><td>0.8125</td></tr><tr><td>train_loss</td><td>0.0008</td></tr><tr><td>val_loss</td><td>0.0082</td></tr></table><br/></div></div>"
            ]
          },
          "metadata": {}
        },
        {
          "output_type": "display_data",
          "data": {
            "text/plain": [
              "<IPython.core.display.HTML object>"
            ],
            "text/html": [
              " View run <strong style=\"color:#cdcd00\">smooth-frog-3</strong> at: <a href='https://wandb.ai/sadhaklal/mlp-cifar2-v2/runs/j6xfdmls' target=\"_blank\">https://wandb.ai/sadhaklal/mlp-cifar2-v2/runs/j6xfdmls</a><br/>Synced 5 W&B file(s), 0 media file(s), 0 artifact file(s) and 0 other file(s)"
            ]
          },
          "metadata": {}
        },
        {
          "output_type": "display_data",
          "data": {
            "text/plain": [
              "<IPython.core.display.HTML object>"
            ],
            "text/html": [
              "Find logs at: <code>./wandb/run-20240201_101848-j6xfdmls/logs</code>"
            ]
          },
          "metadata": {}
        },
        {
          "output_type": "stream",
          "name": "stdout",
          "text": [
            "---\n",
            "Best Epoch: 27, Best Accuracy: 0.829\n"
          ]
        }
      ]
    },
    {
      "cell_type": "markdown",
      "source": [
        "Let's reload the weights of the best epoch, and then calculate the metrics on the training set and the validation set."
      ],
      "metadata": {
        "id": "ntrU2JMgq9LX"
      }
    },
    {
      "cell_type": "code",
      "source": [
        "model = MLPForCIFAR2.from_pretrained(\"sadhaklal/mlp-cifar2-v2\")\n",
        "model.eval()"
      ],
      "metadata": {
        "colab": {
          "base_uri": "https://localhost:8080/",
          "height": 171,
          "referenced_widgets": [
            "11c25a13fe1d49b784673f257c4fd752",
            "2545761366cd4865a9e9d2a84e894507",
            "6cb42873e3dd4f52ae0916df95b24f53",
            "37a6a2a236e743f1ae05a8afca5fbf91",
            "88af801f0ce64fb28d0d93f50c039edd",
            "70b193da8ef04702af98b9ba3fd543e3",
            "dcf017010407463786f25bcc63dc4326",
            "4b527dee3ab1490c91f0874033ffb16e",
            "83170952c33e49fabb90787235ea4c1a",
            "5dcfc005dce54346905421bbead7a7e2",
            "b7e9b78bd80a4487821b91d586184bf0"
          ]
        },
        "id": "oVDWj2XUrkyP",
        "outputId": "1b096a51-9a01-40c1-ddf2-c82276944cfa"
      },
      "execution_count": 49,
      "outputs": [
        {
          "output_type": "display_data",
          "data": {
            "text/plain": [
              "pytorch_model.bin:   0%|          | 0.00/789k [00:00<?, ?B/s]"
            ],
            "application/vnd.jupyter.widget-view+json": {
              "version_major": 2,
              "version_minor": 0,
              "model_id": "11c25a13fe1d49b784673f257c4fd752"
            }
          },
          "metadata": {}
        },
        {
          "output_type": "execute_result",
          "data": {
            "text/plain": [
              "MLPForCIFAR2(\n",
              "  (mlp): Sequential(\n",
              "    (0): Linear(in_features=3072, out_features=64, bias=True)\n",
              "    (1): Tanh()\n",
              "    (2): Linear(in_features=64, out_features=1, bias=True)\n",
              "  )\n",
              ")"
            ]
          },
          "metadata": {},
          "execution_count": 49
        }
      ]
    },
    {
      "cell_type": "code",
      "source": [
        "# Training set accuracy:\n",
        "correct = 0\n",
        "with torch.no_grad():\n",
        "    for imgs, labels in train_dl:\n",
        "        batch_dim = imgs.shape[0]\n",
        "        logits = model(imgs.view(batch_dim, -1))\n",
        "        proba = F.sigmoid(logits.squeeze())\n",
        "        preds = proba > 0.5\n",
        "        correct += (preds == labels).sum().item()\n",
        "print(f\"Accuracy: {correct / len(cifar2_train):.4f}\")"
      ],
      "metadata": {
        "colab": {
          "base_uri": "https://localhost:8080/"
        },
        "id": "JaLqINHF85CF",
        "outputId": "f2861498-f75c-40b6-afd3-8e8c140660e3"
      },
      "execution_count": 50,
      "outputs": [
        {
          "output_type": "stream",
          "name": "stdout",
          "text": [
            "Accuracy: 0.8917\n"
          ]
        }
      ]
    },
    {
      "cell_type": "code",
      "source": [
        "# Validation set accuracy:\n",
        "correct = 0\n",
        "with torch.no_grad():\n",
        "    for imgs, labels in val_dl:\n",
        "        batch_dim = imgs.shape[0]\n",
        "        logits = model(imgs.view(batch_dim, -1))\n",
        "        proba = F.sigmoid(logits.squeeze())\n",
        "        preds = proba > 0.5\n",
        "        correct += (preds == labels).sum().item()\n",
        "print(f\"Accuracy: {correct / len(cifar2_val):.4f}\")"
      ],
      "metadata": {
        "colab": {
          "base_uri": "https://localhost:8080/"
        },
        "id": "jteIT4yp9h7r",
        "outputId": "22a1a21a-9219-4e07-c774-d2a616a5b000"
      },
      "execution_count": 51,
      "outputs": [
        {
          "output_type": "stream",
          "name": "stdout",
          "text": [
            "Accuracy: 0.8290\n"
          ]
        }
      ]
    },
    {
      "cell_type": "markdown",
      "source": [
        "Answer to (b) and (c): Reducing the capacity of the network doesn't seem to \"stop\" overfitting. However, it seems to slightly reduce the extent of overfitting. The accuracy on the validation set increases slightly."
      ],
      "metadata": {
        "id": "buPpoq9DkH7s"
      }
    },
    {
      "cell_type": "code",
      "source": [],
      "metadata": {
        "id": "rk3KTEWsjyaD"
      },
      "execution_count": 51,
      "outputs": []
    }
  ]
}