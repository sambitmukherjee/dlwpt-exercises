{
  "nbformat": 4,
  "nbformat_minor": 0,
  "metadata": {
    "colab": {
      "provenance": [],
      "authorship_tag": "ABX9TyNLPY0zpoPs/I8yORZmaaYa"
    },
    "kernelspec": {
      "name": "python3",
      "display_name": "Python 3"
    },
    "language_info": {
      "name": "python"
    },
    "widgets": {
      "application/vnd.jupyter.widget-state+json": {
        "cc12aeb49b8543f087f388689942cb16": {
          "model_module": "@jupyter-widgets/controls",
          "model_name": "HBoxModel",
          "model_module_version": "1.5.0",
          "state": {
            "_dom_classes": [],
            "_model_module": "@jupyter-widgets/controls",
            "_model_module_version": "1.5.0",
            "_model_name": "HBoxModel",
            "_view_count": null,
            "_view_module": "@jupyter-widgets/controls",
            "_view_module_version": "1.5.0",
            "_view_name": "HBoxView",
            "box_style": "",
            "children": [
              "IPY_MODEL_91bc0eb4dd574c52847951b6dfcf679e",
              "IPY_MODEL_2ef19592654448f7ac0e6cb19c450e10",
              "IPY_MODEL_4a5e208446b04ec89eb03646e5d48d1b"
            ],
            "layout": "IPY_MODEL_e5aa07f6fe354ac0a0deb2eac7468729"
          }
        },
        "91bc0eb4dd574c52847951b6dfcf679e": {
          "model_module": "@jupyter-widgets/controls",
          "model_name": "HTMLModel",
          "model_module_version": "1.5.0",
          "state": {
            "_dom_classes": [],
            "_model_module": "@jupyter-widgets/controls",
            "_model_module_version": "1.5.0",
            "_model_name": "HTMLModel",
            "_view_count": null,
            "_view_module": "@jupyter-widgets/controls",
            "_view_module_version": "1.5.0",
            "_view_name": "HTMLView",
            "description": "",
            "description_tooltip": null,
            "layout": "IPY_MODEL_1c90e586f61d4d8e91fdb962aa17f4e2",
            "placeholder": "​",
            "style": "IPY_MODEL_787ab40db39e4c758bb58944b83ce110",
            "value": "Downloading readme: 100%"
          }
        },
        "2ef19592654448f7ac0e6cb19c450e10": {
          "model_module": "@jupyter-widgets/controls",
          "model_name": "FloatProgressModel",
          "model_module_version": "1.5.0",
          "state": {
            "_dom_classes": [],
            "_model_module": "@jupyter-widgets/controls",
            "_model_module_version": "1.5.0",
            "_model_name": "FloatProgressModel",
            "_view_count": null,
            "_view_module": "@jupyter-widgets/controls",
            "_view_module_version": "1.5.0",
            "_view_name": "ProgressView",
            "bar_style": "success",
            "description": "",
            "description_tooltip": null,
            "layout": "IPY_MODEL_430df1b0b41a42aa985515176f1f3a98",
            "max": 5157,
            "min": 0,
            "orientation": "horizontal",
            "style": "IPY_MODEL_8dd0568718d742ee9f9ef39c7f7aae63",
            "value": 5157
          }
        },
        "4a5e208446b04ec89eb03646e5d48d1b": {
          "model_module": "@jupyter-widgets/controls",
          "model_name": "HTMLModel",
          "model_module_version": "1.5.0",
          "state": {
            "_dom_classes": [],
            "_model_module": "@jupyter-widgets/controls",
            "_model_module_version": "1.5.0",
            "_model_name": "HTMLModel",
            "_view_count": null,
            "_view_module": "@jupyter-widgets/controls",
            "_view_module_version": "1.5.0",
            "_view_name": "HTMLView",
            "description": "",
            "description_tooltip": null,
            "layout": "IPY_MODEL_9bc3a739049149d487248f0b54a6b70a",
            "placeholder": "​",
            "style": "IPY_MODEL_ecc975c844b2459782db741e3976944f",
            "value": " 5.16k/5.16k [00:00&lt;00:00, 161kB/s]"
          }
        },
        "e5aa07f6fe354ac0a0deb2eac7468729": {
          "model_module": "@jupyter-widgets/base",
          "model_name": "LayoutModel",
          "model_module_version": "1.2.0",
          "state": {
            "_model_module": "@jupyter-widgets/base",
            "_model_module_version": "1.2.0",
            "_model_name": "LayoutModel",
            "_view_count": null,
            "_view_module": "@jupyter-widgets/base",
            "_view_module_version": "1.2.0",
            "_view_name": "LayoutView",
            "align_content": null,
            "align_items": null,
            "align_self": null,
            "border": null,
            "bottom": null,
            "display": null,
            "flex": null,
            "flex_flow": null,
            "grid_area": null,
            "grid_auto_columns": null,
            "grid_auto_flow": null,
            "grid_auto_rows": null,
            "grid_column": null,
            "grid_gap": null,
            "grid_row": null,
            "grid_template_areas": null,
            "grid_template_columns": null,
            "grid_template_rows": null,
            "height": null,
            "justify_content": null,
            "justify_items": null,
            "left": null,
            "margin": null,
            "max_height": null,
            "max_width": null,
            "min_height": null,
            "min_width": null,
            "object_fit": null,
            "object_position": null,
            "order": null,
            "overflow": null,
            "overflow_x": null,
            "overflow_y": null,
            "padding": null,
            "right": null,
            "top": null,
            "visibility": null,
            "width": null
          }
        },
        "1c90e586f61d4d8e91fdb962aa17f4e2": {
          "model_module": "@jupyter-widgets/base",
          "model_name": "LayoutModel",
          "model_module_version": "1.2.0",
          "state": {
            "_model_module": "@jupyter-widgets/base",
            "_model_module_version": "1.2.0",
            "_model_name": "LayoutModel",
            "_view_count": null,
            "_view_module": "@jupyter-widgets/base",
            "_view_module_version": "1.2.0",
            "_view_name": "LayoutView",
            "align_content": null,
            "align_items": null,
            "align_self": null,
            "border": null,
            "bottom": null,
            "display": null,
            "flex": null,
            "flex_flow": null,
            "grid_area": null,
            "grid_auto_columns": null,
            "grid_auto_flow": null,
            "grid_auto_rows": null,
            "grid_column": null,
            "grid_gap": null,
            "grid_row": null,
            "grid_template_areas": null,
            "grid_template_columns": null,
            "grid_template_rows": null,
            "height": null,
            "justify_content": null,
            "justify_items": null,
            "left": null,
            "margin": null,
            "max_height": null,
            "max_width": null,
            "min_height": null,
            "min_width": null,
            "object_fit": null,
            "object_position": null,
            "order": null,
            "overflow": null,
            "overflow_x": null,
            "overflow_y": null,
            "padding": null,
            "right": null,
            "top": null,
            "visibility": null,
            "width": null
          }
        },
        "787ab40db39e4c758bb58944b83ce110": {
          "model_module": "@jupyter-widgets/controls",
          "model_name": "DescriptionStyleModel",
          "model_module_version": "1.5.0",
          "state": {
            "_model_module": "@jupyter-widgets/controls",
            "_model_module_version": "1.5.0",
            "_model_name": "DescriptionStyleModel",
            "_view_count": null,
            "_view_module": "@jupyter-widgets/base",
            "_view_module_version": "1.2.0",
            "_view_name": "StyleView",
            "description_width": ""
          }
        },
        "430df1b0b41a42aa985515176f1f3a98": {
          "model_module": "@jupyter-widgets/base",
          "model_name": "LayoutModel",
          "model_module_version": "1.2.0",
          "state": {
            "_model_module": "@jupyter-widgets/base",
            "_model_module_version": "1.2.0",
            "_model_name": "LayoutModel",
            "_view_count": null,
            "_view_module": "@jupyter-widgets/base",
            "_view_module_version": "1.2.0",
            "_view_name": "LayoutView",
            "align_content": null,
            "align_items": null,
            "align_self": null,
            "border": null,
            "bottom": null,
            "display": null,
            "flex": null,
            "flex_flow": null,
            "grid_area": null,
            "grid_auto_columns": null,
            "grid_auto_flow": null,
            "grid_auto_rows": null,
            "grid_column": null,
            "grid_gap": null,
            "grid_row": null,
            "grid_template_areas": null,
            "grid_template_columns": null,
            "grid_template_rows": null,
            "height": null,
            "justify_content": null,
            "justify_items": null,
            "left": null,
            "margin": null,
            "max_height": null,
            "max_width": null,
            "min_height": null,
            "min_width": null,
            "object_fit": null,
            "object_position": null,
            "order": null,
            "overflow": null,
            "overflow_x": null,
            "overflow_y": null,
            "padding": null,
            "right": null,
            "top": null,
            "visibility": null,
            "width": null
          }
        },
        "8dd0568718d742ee9f9ef39c7f7aae63": {
          "model_module": "@jupyter-widgets/controls",
          "model_name": "ProgressStyleModel",
          "model_module_version": "1.5.0",
          "state": {
            "_model_module": "@jupyter-widgets/controls",
            "_model_module_version": "1.5.0",
            "_model_name": "ProgressStyleModel",
            "_view_count": null,
            "_view_module": "@jupyter-widgets/base",
            "_view_module_version": "1.2.0",
            "_view_name": "StyleView",
            "bar_color": null,
            "description_width": ""
          }
        },
        "9bc3a739049149d487248f0b54a6b70a": {
          "model_module": "@jupyter-widgets/base",
          "model_name": "LayoutModel",
          "model_module_version": "1.2.0",
          "state": {
            "_model_module": "@jupyter-widgets/base",
            "_model_module_version": "1.2.0",
            "_model_name": "LayoutModel",
            "_view_count": null,
            "_view_module": "@jupyter-widgets/base",
            "_view_module_version": "1.2.0",
            "_view_name": "LayoutView",
            "align_content": null,
            "align_items": null,
            "align_self": null,
            "border": null,
            "bottom": null,
            "display": null,
            "flex": null,
            "flex_flow": null,
            "grid_area": null,
            "grid_auto_columns": null,
            "grid_auto_flow": null,
            "grid_auto_rows": null,
            "grid_column": null,
            "grid_gap": null,
            "grid_row": null,
            "grid_template_areas": null,
            "grid_template_columns": null,
            "grid_template_rows": null,
            "height": null,
            "justify_content": null,
            "justify_items": null,
            "left": null,
            "margin": null,
            "max_height": null,
            "max_width": null,
            "min_height": null,
            "min_width": null,
            "object_fit": null,
            "object_position": null,
            "order": null,
            "overflow": null,
            "overflow_x": null,
            "overflow_y": null,
            "padding": null,
            "right": null,
            "top": null,
            "visibility": null,
            "width": null
          }
        },
        "ecc975c844b2459782db741e3976944f": {
          "model_module": "@jupyter-widgets/controls",
          "model_name": "DescriptionStyleModel",
          "model_module_version": "1.5.0",
          "state": {
            "_model_module": "@jupyter-widgets/controls",
            "_model_module_version": "1.5.0",
            "_model_name": "DescriptionStyleModel",
            "_view_count": null,
            "_view_module": "@jupyter-widgets/base",
            "_view_module_version": "1.2.0",
            "_view_name": "StyleView",
            "description_width": ""
          }
        },
        "5cacdfece033468cad915d9b76931634": {
          "model_module": "@jupyter-widgets/controls",
          "model_name": "HBoxModel",
          "model_module_version": "1.5.0",
          "state": {
            "_dom_classes": [],
            "_model_module": "@jupyter-widgets/controls",
            "_model_module_version": "1.5.0",
            "_model_name": "HBoxModel",
            "_view_count": null,
            "_view_module": "@jupyter-widgets/controls",
            "_view_module_version": "1.5.0",
            "_view_name": "HBoxView",
            "box_style": "",
            "children": [
              "IPY_MODEL_bcde8a8c6ec543d4899badc384d6d5bf",
              "IPY_MODEL_2869a05df5154749a7c182bc9e098563",
              "IPY_MODEL_2386979739084b99b8b5c9c1b34c2d9a"
            ],
            "layout": "IPY_MODEL_b15c155b564945969eb4211f573c6210"
          }
        },
        "bcde8a8c6ec543d4899badc384d6d5bf": {
          "model_module": "@jupyter-widgets/controls",
          "model_name": "HTMLModel",
          "model_module_version": "1.5.0",
          "state": {
            "_dom_classes": [],
            "_model_module": "@jupyter-widgets/controls",
            "_model_module_version": "1.5.0",
            "_model_name": "HTMLModel",
            "_view_count": null,
            "_view_module": "@jupyter-widgets/controls",
            "_view_module_version": "1.5.0",
            "_view_name": "HTMLView",
            "description": "",
            "description_tooltip": null,
            "layout": "IPY_MODEL_c5ce54dba6204f589e279b7bc2cff91c",
            "placeholder": "​",
            "style": "IPY_MODEL_ec62054375c14e6998fa39d42342602e",
            "value": "Downloading data: 100%"
          }
        },
        "2869a05df5154749a7c182bc9e098563": {
          "model_module": "@jupyter-widgets/controls",
          "model_name": "FloatProgressModel",
          "model_module_version": "1.5.0",
          "state": {
            "_dom_classes": [],
            "_model_module": "@jupyter-widgets/controls",
            "_model_module_version": "1.5.0",
            "_model_name": "FloatProgressModel",
            "_view_count": null,
            "_view_module": "@jupyter-widgets/controls",
            "_view_module_version": "1.5.0",
            "_view_name": "ProgressView",
            "bar_style": "success",
            "description": "",
            "description_tooltip": null,
            "layout": "IPY_MODEL_365808b16cfd4fd09249a9daeffa9e3d",
            "max": 119705255,
            "min": 0,
            "orientation": "horizontal",
            "style": "IPY_MODEL_6dc51dfabf0145b9a4e27fea9f41a1f6",
            "value": 119705255
          }
        },
        "2386979739084b99b8b5c9c1b34c2d9a": {
          "model_module": "@jupyter-widgets/controls",
          "model_name": "HTMLModel",
          "model_module_version": "1.5.0",
          "state": {
            "_dom_classes": [],
            "_model_module": "@jupyter-widgets/controls",
            "_model_module_version": "1.5.0",
            "_model_name": "HTMLModel",
            "_view_count": null,
            "_view_module": "@jupyter-widgets/controls",
            "_view_module_version": "1.5.0",
            "_view_name": "HTMLView",
            "description": "",
            "description_tooltip": null,
            "layout": "IPY_MODEL_a9333408fa61467c97ffbe691c4d380d",
            "placeholder": "​",
            "style": "IPY_MODEL_422b27342c4a4a28937bad9edddf1af7",
            "value": " 120M/120M [00:03&lt;00:00, 38.6MB/s]"
          }
        },
        "b15c155b564945969eb4211f573c6210": {
          "model_module": "@jupyter-widgets/base",
          "model_name": "LayoutModel",
          "model_module_version": "1.2.0",
          "state": {
            "_model_module": "@jupyter-widgets/base",
            "_model_module_version": "1.2.0",
            "_model_name": "LayoutModel",
            "_view_count": null,
            "_view_module": "@jupyter-widgets/base",
            "_view_module_version": "1.2.0",
            "_view_name": "LayoutView",
            "align_content": null,
            "align_items": null,
            "align_self": null,
            "border": null,
            "bottom": null,
            "display": null,
            "flex": null,
            "flex_flow": null,
            "grid_area": null,
            "grid_auto_columns": null,
            "grid_auto_flow": null,
            "grid_auto_rows": null,
            "grid_column": null,
            "grid_gap": null,
            "grid_row": null,
            "grid_template_areas": null,
            "grid_template_columns": null,
            "grid_template_rows": null,
            "height": null,
            "justify_content": null,
            "justify_items": null,
            "left": null,
            "margin": null,
            "max_height": null,
            "max_width": null,
            "min_height": null,
            "min_width": null,
            "object_fit": null,
            "object_position": null,
            "order": null,
            "overflow": null,
            "overflow_x": null,
            "overflow_y": null,
            "padding": null,
            "right": null,
            "top": null,
            "visibility": null,
            "width": null
          }
        },
        "c5ce54dba6204f589e279b7bc2cff91c": {
          "model_module": "@jupyter-widgets/base",
          "model_name": "LayoutModel",
          "model_module_version": "1.2.0",
          "state": {
            "_model_module": "@jupyter-widgets/base",
            "_model_module_version": "1.2.0",
            "_model_name": "LayoutModel",
            "_view_count": null,
            "_view_module": "@jupyter-widgets/base",
            "_view_module_version": "1.2.0",
            "_view_name": "LayoutView",
            "align_content": null,
            "align_items": null,
            "align_self": null,
            "border": null,
            "bottom": null,
            "display": null,
            "flex": null,
            "flex_flow": null,
            "grid_area": null,
            "grid_auto_columns": null,
            "grid_auto_flow": null,
            "grid_auto_rows": null,
            "grid_column": null,
            "grid_gap": null,
            "grid_row": null,
            "grid_template_areas": null,
            "grid_template_columns": null,
            "grid_template_rows": null,
            "height": null,
            "justify_content": null,
            "justify_items": null,
            "left": null,
            "margin": null,
            "max_height": null,
            "max_width": null,
            "min_height": null,
            "min_width": null,
            "object_fit": null,
            "object_position": null,
            "order": null,
            "overflow": null,
            "overflow_x": null,
            "overflow_y": null,
            "padding": null,
            "right": null,
            "top": null,
            "visibility": null,
            "width": null
          }
        },
        "ec62054375c14e6998fa39d42342602e": {
          "model_module": "@jupyter-widgets/controls",
          "model_name": "DescriptionStyleModel",
          "model_module_version": "1.5.0",
          "state": {
            "_model_module": "@jupyter-widgets/controls",
            "_model_module_version": "1.5.0",
            "_model_name": "DescriptionStyleModel",
            "_view_count": null,
            "_view_module": "@jupyter-widgets/base",
            "_view_module_version": "1.2.0",
            "_view_name": "StyleView",
            "description_width": ""
          }
        },
        "365808b16cfd4fd09249a9daeffa9e3d": {
          "model_module": "@jupyter-widgets/base",
          "model_name": "LayoutModel",
          "model_module_version": "1.2.0",
          "state": {
            "_model_module": "@jupyter-widgets/base",
            "_model_module_version": "1.2.0",
            "_model_name": "LayoutModel",
            "_view_count": null,
            "_view_module": "@jupyter-widgets/base",
            "_view_module_version": "1.2.0",
            "_view_name": "LayoutView",
            "align_content": null,
            "align_items": null,
            "align_self": null,
            "border": null,
            "bottom": null,
            "display": null,
            "flex": null,
            "flex_flow": null,
            "grid_area": null,
            "grid_auto_columns": null,
            "grid_auto_flow": null,
            "grid_auto_rows": null,
            "grid_column": null,
            "grid_gap": null,
            "grid_row": null,
            "grid_template_areas": null,
            "grid_template_columns": null,
            "grid_template_rows": null,
            "height": null,
            "justify_content": null,
            "justify_items": null,
            "left": null,
            "margin": null,
            "max_height": null,
            "max_width": null,
            "min_height": null,
            "min_width": null,
            "object_fit": null,
            "object_position": null,
            "order": null,
            "overflow": null,
            "overflow_x": null,
            "overflow_y": null,
            "padding": null,
            "right": null,
            "top": null,
            "visibility": null,
            "width": null
          }
        },
        "6dc51dfabf0145b9a4e27fea9f41a1f6": {
          "model_module": "@jupyter-widgets/controls",
          "model_name": "ProgressStyleModel",
          "model_module_version": "1.5.0",
          "state": {
            "_model_module": "@jupyter-widgets/controls",
            "_model_module_version": "1.5.0",
            "_model_name": "ProgressStyleModel",
            "_view_count": null,
            "_view_module": "@jupyter-widgets/base",
            "_view_module_version": "1.2.0",
            "_view_name": "StyleView",
            "bar_color": null,
            "description_width": ""
          }
        },
        "a9333408fa61467c97ffbe691c4d380d": {
          "model_module": "@jupyter-widgets/base",
          "model_name": "LayoutModel",
          "model_module_version": "1.2.0",
          "state": {
            "_model_module": "@jupyter-widgets/base",
            "_model_module_version": "1.2.0",
            "_model_name": "LayoutModel",
            "_view_count": null,
            "_view_module": "@jupyter-widgets/base",
            "_view_module_version": "1.2.0",
            "_view_name": "LayoutView",
            "align_content": null,
            "align_items": null,
            "align_self": null,
            "border": null,
            "bottom": null,
            "display": null,
            "flex": null,
            "flex_flow": null,
            "grid_area": null,
            "grid_auto_columns": null,
            "grid_auto_flow": null,
            "grid_auto_rows": null,
            "grid_column": null,
            "grid_gap": null,
            "grid_row": null,
            "grid_template_areas": null,
            "grid_template_columns": null,
            "grid_template_rows": null,
            "height": null,
            "justify_content": null,
            "justify_items": null,
            "left": null,
            "margin": null,
            "max_height": null,
            "max_width": null,
            "min_height": null,
            "min_width": null,
            "object_fit": null,
            "object_position": null,
            "order": null,
            "overflow": null,
            "overflow_x": null,
            "overflow_y": null,
            "padding": null,
            "right": null,
            "top": null,
            "visibility": null,
            "width": null
          }
        },
        "422b27342c4a4a28937bad9edddf1af7": {
          "model_module": "@jupyter-widgets/controls",
          "model_name": "DescriptionStyleModel",
          "model_module_version": "1.5.0",
          "state": {
            "_model_module": "@jupyter-widgets/controls",
            "_model_module_version": "1.5.0",
            "_model_name": "DescriptionStyleModel",
            "_view_count": null,
            "_view_module": "@jupyter-widgets/base",
            "_view_module_version": "1.2.0",
            "_view_name": "StyleView",
            "description_width": ""
          }
        },
        "d1948ae847ff44ab90180e4aabcecb05": {
          "model_module": "@jupyter-widgets/controls",
          "model_name": "HBoxModel",
          "model_module_version": "1.5.0",
          "state": {
            "_dom_classes": [],
            "_model_module": "@jupyter-widgets/controls",
            "_model_module_version": "1.5.0",
            "_model_name": "HBoxModel",
            "_view_count": null,
            "_view_module": "@jupyter-widgets/controls",
            "_view_module_version": "1.5.0",
            "_view_name": "HBoxView",
            "box_style": "",
            "children": [
              "IPY_MODEL_0b9fd9ecf932460894638fd72d8bfcb2",
              "IPY_MODEL_2d77ab4048fb455b90e78dd939300f9f",
              "IPY_MODEL_b5014d82349445ff8c4170284336c47c"
            ],
            "layout": "IPY_MODEL_6bb9cec0968b466dacc1705f438a5cf7"
          }
        },
        "0b9fd9ecf932460894638fd72d8bfcb2": {
          "model_module": "@jupyter-widgets/controls",
          "model_name": "HTMLModel",
          "model_module_version": "1.5.0",
          "state": {
            "_dom_classes": [],
            "_model_module": "@jupyter-widgets/controls",
            "_model_module_version": "1.5.0",
            "_model_name": "HTMLModel",
            "_view_count": null,
            "_view_module": "@jupyter-widgets/controls",
            "_view_module_version": "1.5.0",
            "_view_name": "HTMLView",
            "description": "",
            "description_tooltip": null,
            "layout": "IPY_MODEL_4842629a58674f389e7f060615c8020c",
            "placeholder": "​",
            "style": "IPY_MODEL_1e9238b3d38e4b0ab1f809030ef0dbde",
            "value": "Downloading data: 100%"
          }
        },
        "2d77ab4048fb455b90e78dd939300f9f": {
          "model_module": "@jupyter-widgets/controls",
          "model_name": "FloatProgressModel",
          "model_module_version": "1.5.0",
          "state": {
            "_dom_classes": [],
            "_model_module": "@jupyter-widgets/controls",
            "_model_module_version": "1.5.0",
            "_model_name": "FloatProgressModel",
            "_view_count": null,
            "_view_module": "@jupyter-widgets/controls",
            "_view_module_version": "1.5.0",
            "_view_name": "ProgressView",
            "bar_style": "success",
            "description": "",
            "description_tooltip": null,
            "layout": "IPY_MODEL_3efa660f7ed94c199a05c71ec709aa05",
            "max": 23940850,
            "min": 0,
            "orientation": "horizontal",
            "style": "IPY_MODEL_6c3784c2162144918dfaf470c98987f2",
            "value": 23940850
          }
        },
        "b5014d82349445ff8c4170284336c47c": {
          "model_module": "@jupyter-widgets/controls",
          "model_name": "HTMLModel",
          "model_module_version": "1.5.0",
          "state": {
            "_dom_classes": [],
            "_model_module": "@jupyter-widgets/controls",
            "_model_module_version": "1.5.0",
            "_model_name": "HTMLModel",
            "_view_count": null,
            "_view_module": "@jupyter-widgets/controls",
            "_view_module_version": "1.5.0",
            "_view_name": "HTMLView",
            "description": "",
            "description_tooltip": null,
            "layout": "IPY_MODEL_02c47ff08b9244b0a40b20145adcd9e9",
            "placeholder": "​",
            "style": "IPY_MODEL_f3bd2e1703614442809a158c995316aa",
            "value": " 23.9M/23.9M [00:00&lt;00:00, 41.0MB/s]"
          }
        },
        "6bb9cec0968b466dacc1705f438a5cf7": {
          "model_module": "@jupyter-widgets/base",
          "model_name": "LayoutModel",
          "model_module_version": "1.2.0",
          "state": {
            "_model_module": "@jupyter-widgets/base",
            "_model_module_version": "1.2.0",
            "_model_name": "LayoutModel",
            "_view_count": null,
            "_view_module": "@jupyter-widgets/base",
            "_view_module_version": "1.2.0",
            "_view_name": "LayoutView",
            "align_content": null,
            "align_items": null,
            "align_self": null,
            "border": null,
            "bottom": null,
            "display": null,
            "flex": null,
            "flex_flow": null,
            "grid_area": null,
            "grid_auto_columns": null,
            "grid_auto_flow": null,
            "grid_auto_rows": null,
            "grid_column": null,
            "grid_gap": null,
            "grid_row": null,
            "grid_template_areas": null,
            "grid_template_columns": null,
            "grid_template_rows": null,
            "height": null,
            "justify_content": null,
            "justify_items": null,
            "left": null,
            "margin": null,
            "max_height": null,
            "max_width": null,
            "min_height": null,
            "min_width": null,
            "object_fit": null,
            "object_position": null,
            "order": null,
            "overflow": null,
            "overflow_x": null,
            "overflow_y": null,
            "padding": null,
            "right": null,
            "top": null,
            "visibility": null,
            "width": null
          }
        },
        "4842629a58674f389e7f060615c8020c": {
          "model_module": "@jupyter-widgets/base",
          "model_name": "LayoutModel",
          "model_module_version": "1.2.0",
          "state": {
            "_model_module": "@jupyter-widgets/base",
            "_model_module_version": "1.2.0",
            "_model_name": "LayoutModel",
            "_view_count": null,
            "_view_module": "@jupyter-widgets/base",
            "_view_module_version": "1.2.0",
            "_view_name": "LayoutView",
            "align_content": null,
            "align_items": null,
            "align_self": null,
            "border": null,
            "bottom": null,
            "display": null,
            "flex": null,
            "flex_flow": null,
            "grid_area": null,
            "grid_auto_columns": null,
            "grid_auto_flow": null,
            "grid_auto_rows": null,
            "grid_column": null,
            "grid_gap": null,
            "grid_row": null,
            "grid_template_areas": null,
            "grid_template_columns": null,
            "grid_template_rows": null,
            "height": null,
            "justify_content": null,
            "justify_items": null,
            "left": null,
            "margin": null,
            "max_height": null,
            "max_width": null,
            "min_height": null,
            "min_width": null,
            "object_fit": null,
            "object_position": null,
            "order": null,
            "overflow": null,
            "overflow_x": null,
            "overflow_y": null,
            "padding": null,
            "right": null,
            "top": null,
            "visibility": null,
            "width": null
          }
        },
        "1e9238b3d38e4b0ab1f809030ef0dbde": {
          "model_module": "@jupyter-widgets/controls",
          "model_name": "DescriptionStyleModel",
          "model_module_version": "1.5.0",
          "state": {
            "_model_module": "@jupyter-widgets/controls",
            "_model_module_version": "1.5.0",
            "_model_name": "DescriptionStyleModel",
            "_view_count": null,
            "_view_module": "@jupyter-widgets/base",
            "_view_module_version": "1.2.0",
            "_view_name": "StyleView",
            "description_width": ""
          }
        },
        "3efa660f7ed94c199a05c71ec709aa05": {
          "model_module": "@jupyter-widgets/base",
          "model_name": "LayoutModel",
          "model_module_version": "1.2.0",
          "state": {
            "_model_module": "@jupyter-widgets/base",
            "_model_module_version": "1.2.0",
            "_model_name": "LayoutModel",
            "_view_count": null,
            "_view_module": "@jupyter-widgets/base",
            "_view_module_version": "1.2.0",
            "_view_name": "LayoutView",
            "align_content": null,
            "align_items": null,
            "align_self": null,
            "border": null,
            "bottom": null,
            "display": null,
            "flex": null,
            "flex_flow": null,
            "grid_area": null,
            "grid_auto_columns": null,
            "grid_auto_flow": null,
            "grid_auto_rows": null,
            "grid_column": null,
            "grid_gap": null,
            "grid_row": null,
            "grid_template_areas": null,
            "grid_template_columns": null,
            "grid_template_rows": null,
            "height": null,
            "justify_content": null,
            "justify_items": null,
            "left": null,
            "margin": null,
            "max_height": null,
            "max_width": null,
            "min_height": null,
            "min_width": null,
            "object_fit": null,
            "object_position": null,
            "order": null,
            "overflow": null,
            "overflow_x": null,
            "overflow_y": null,
            "padding": null,
            "right": null,
            "top": null,
            "visibility": null,
            "width": null
          }
        },
        "6c3784c2162144918dfaf470c98987f2": {
          "model_module": "@jupyter-widgets/controls",
          "model_name": "ProgressStyleModel",
          "model_module_version": "1.5.0",
          "state": {
            "_model_module": "@jupyter-widgets/controls",
            "_model_module_version": "1.5.0",
            "_model_name": "ProgressStyleModel",
            "_view_count": null,
            "_view_module": "@jupyter-widgets/base",
            "_view_module_version": "1.2.0",
            "_view_name": "StyleView",
            "bar_color": null,
            "description_width": ""
          }
        },
        "02c47ff08b9244b0a40b20145adcd9e9": {
          "model_module": "@jupyter-widgets/base",
          "model_name": "LayoutModel",
          "model_module_version": "1.2.0",
          "state": {
            "_model_module": "@jupyter-widgets/base",
            "_model_module_version": "1.2.0",
            "_model_name": "LayoutModel",
            "_view_count": null,
            "_view_module": "@jupyter-widgets/base",
            "_view_module_version": "1.2.0",
            "_view_name": "LayoutView",
            "align_content": null,
            "align_items": null,
            "align_self": null,
            "border": null,
            "bottom": null,
            "display": null,
            "flex": null,
            "flex_flow": null,
            "grid_area": null,
            "grid_auto_columns": null,
            "grid_auto_flow": null,
            "grid_auto_rows": null,
            "grid_column": null,
            "grid_gap": null,
            "grid_row": null,
            "grid_template_areas": null,
            "grid_template_columns": null,
            "grid_template_rows": null,
            "height": null,
            "justify_content": null,
            "justify_items": null,
            "left": null,
            "margin": null,
            "max_height": null,
            "max_width": null,
            "min_height": null,
            "min_width": null,
            "object_fit": null,
            "object_position": null,
            "order": null,
            "overflow": null,
            "overflow_x": null,
            "overflow_y": null,
            "padding": null,
            "right": null,
            "top": null,
            "visibility": null,
            "width": null
          }
        },
        "f3bd2e1703614442809a158c995316aa": {
          "model_module": "@jupyter-widgets/controls",
          "model_name": "DescriptionStyleModel",
          "model_module_version": "1.5.0",
          "state": {
            "_model_module": "@jupyter-widgets/controls",
            "_model_module_version": "1.5.0",
            "_model_name": "DescriptionStyleModel",
            "_view_count": null,
            "_view_module": "@jupyter-widgets/base",
            "_view_module_version": "1.2.0",
            "_view_name": "StyleView",
            "description_width": ""
          }
        },
        "9cc69667a2054660aca413f62ce7b27d": {
          "model_module": "@jupyter-widgets/controls",
          "model_name": "HBoxModel",
          "model_module_version": "1.5.0",
          "state": {
            "_dom_classes": [],
            "_model_module": "@jupyter-widgets/controls",
            "_model_module_version": "1.5.0",
            "_model_name": "HBoxModel",
            "_view_count": null,
            "_view_module": "@jupyter-widgets/controls",
            "_view_module_version": "1.5.0",
            "_view_name": "HBoxView",
            "box_style": "",
            "children": [
              "IPY_MODEL_317e33faf895432a95b4e8e2853750b8",
              "IPY_MODEL_de99ccd3d43440ff812775cf7e0e17a0",
              "IPY_MODEL_ddace4d65ac441288f82f7ed70b2ed71"
            ],
            "layout": "IPY_MODEL_be73e554d17b45fd94d9cf91bd429bb5"
          }
        },
        "317e33faf895432a95b4e8e2853750b8": {
          "model_module": "@jupyter-widgets/controls",
          "model_name": "HTMLModel",
          "model_module_version": "1.5.0",
          "state": {
            "_dom_classes": [],
            "_model_module": "@jupyter-widgets/controls",
            "_model_module_version": "1.5.0",
            "_model_name": "HTMLModel",
            "_view_count": null,
            "_view_module": "@jupyter-widgets/controls",
            "_view_module_version": "1.5.0",
            "_view_name": "HTMLView",
            "description": "",
            "description_tooltip": null,
            "layout": "IPY_MODEL_dae98404e9104f7db15a7d7a19bf168d",
            "placeholder": "​",
            "style": "IPY_MODEL_4bbd9d4329214ed7800a64ab814b46dd",
            "value": "Generating train split: 100%"
          }
        },
        "de99ccd3d43440ff812775cf7e0e17a0": {
          "model_module": "@jupyter-widgets/controls",
          "model_name": "FloatProgressModel",
          "model_module_version": "1.5.0",
          "state": {
            "_dom_classes": [],
            "_model_module": "@jupyter-widgets/controls",
            "_model_module_version": "1.5.0",
            "_model_name": "FloatProgressModel",
            "_view_count": null,
            "_view_module": "@jupyter-widgets/controls",
            "_view_module_version": "1.5.0",
            "_view_name": "ProgressView",
            "bar_style": "success",
            "description": "",
            "description_tooltip": null,
            "layout": "IPY_MODEL_40087ad1a0b04e1285ca6c9c80eb2044",
            "max": 50000,
            "min": 0,
            "orientation": "horizontal",
            "style": "IPY_MODEL_674f44fa7aeb46d4afc4034375e31977",
            "value": 50000
          }
        },
        "ddace4d65ac441288f82f7ed70b2ed71": {
          "model_module": "@jupyter-widgets/controls",
          "model_name": "HTMLModel",
          "model_module_version": "1.5.0",
          "state": {
            "_dom_classes": [],
            "_model_module": "@jupyter-widgets/controls",
            "_model_module_version": "1.5.0",
            "_model_name": "HTMLModel",
            "_view_count": null,
            "_view_module": "@jupyter-widgets/controls",
            "_view_module_version": "1.5.0",
            "_view_name": "HTMLView",
            "description": "",
            "description_tooltip": null,
            "layout": "IPY_MODEL_b61581cc00cd41668513a302db7e091c",
            "placeholder": "​",
            "style": "IPY_MODEL_53b94b8ecc9f454888dc19b7cb504115",
            "value": " 50000/50000 [00:00&lt;00:00, 106928.90 examples/s]"
          }
        },
        "be73e554d17b45fd94d9cf91bd429bb5": {
          "model_module": "@jupyter-widgets/base",
          "model_name": "LayoutModel",
          "model_module_version": "1.2.0",
          "state": {
            "_model_module": "@jupyter-widgets/base",
            "_model_module_version": "1.2.0",
            "_model_name": "LayoutModel",
            "_view_count": null,
            "_view_module": "@jupyter-widgets/base",
            "_view_module_version": "1.2.0",
            "_view_name": "LayoutView",
            "align_content": null,
            "align_items": null,
            "align_self": null,
            "border": null,
            "bottom": null,
            "display": null,
            "flex": null,
            "flex_flow": null,
            "grid_area": null,
            "grid_auto_columns": null,
            "grid_auto_flow": null,
            "grid_auto_rows": null,
            "grid_column": null,
            "grid_gap": null,
            "grid_row": null,
            "grid_template_areas": null,
            "grid_template_columns": null,
            "grid_template_rows": null,
            "height": null,
            "justify_content": null,
            "justify_items": null,
            "left": null,
            "margin": null,
            "max_height": null,
            "max_width": null,
            "min_height": null,
            "min_width": null,
            "object_fit": null,
            "object_position": null,
            "order": null,
            "overflow": null,
            "overflow_x": null,
            "overflow_y": null,
            "padding": null,
            "right": null,
            "top": null,
            "visibility": null,
            "width": null
          }
        },
        "dae98404e9104f7db15a7d7a19bf168d": {
          "model_module": "@jupyter-widgets/base",
          "model_name": "LayoutModel",
          "model_module_version": "1.2.0",
          "state": {
            "_model_module": "@jupyter-widgets/base",
            "_model_module_version": "1.2.0",
            "_model_name": "LayoutModel",
            "_view_count": null,
            "_view_module": "@jupyter-widgets/base",
            "_view_module_version": "1.2.0",
            "_view_name": "LayoutView",
            "align_content": null,
            "align_items": null,
            "align_self": null,
            "border": null,
            "bottom": null,
            "display": null,
            "flex": null,
            "flex_flow": null,
            "grid_area": null,
            "grid_auto_columns": null,
            "grid_auto_flow": null,
            "grid_auto_rows": null,
            "grid_column": null,
            "grid_gap": null,
            "grid_row": null,
            "grid_template_areas": null,
            "grid_template_columns": null,
            "grid_template_rows": null,
            "height": null,
            "justify_content": null,
            "justify_items": null,
            "left": null,
            "margin": null,
            "max_height": null,
            "max_width": null,
            "min_height": null,
            "min_width": null,
            "object_fit": null,
            "object_position": null,
            "order": null,
            "overflow": null,
            "overflow_x": null,
            "overflow_y": null,
            "padding": null,
            "right": null,
            "top": null,
            "visibility": null,
            "width": null
          }
        },
        "4bbd9d4329214ed7800a64ab814b46dd": {
          "model_module": "@jupyter-widgets/controls",
          "model_name": "DescriptionStyleModel",
          "model_module_version": "1.5.0",
          "state": {
            "_model_module": "@jupyter-widgets/controls",
            "_model_module_version": "1.5.0",
            "_model_name": "DescriptionStyleModel",
            "_view_count": null,
            "_view_module": "@jupyter-widgets/base",
            "_view_module_version": "1.2.0",
            "_view_name": "StyleView",
            "description_width": ""
          }
        },
        "40087ad1a0b04e1285ca6c9c80eb2044": {
          "model_module": "@jupyter-widgets/base",
          "model_name": "LayoutModel",
          "model_module_version": "1.2.0",
          "state": {
            "_model_module": "@jupyter-widgets/base",
            "_model_module_version": "1.2.0",
            "_model_name": "LayoutModel",
            "_view_count": null,
            "_view_module": "@jupyter-widgets/base",
            "_view_module_version": "1.2.0",
            "_view_name": "LayoutView",
            "align_content": null,
            "align_items": null,
            "align_self": null,
            "border": null,
            "bottom": null,
            "display": null,
            "flex": null,
            "flex_flow": null,
            "grid_area": null,
            "grid_auto_columns": null,
            "grid_auto_flow": null,
            "grid_auto_rows": null,
            "grid_column": null,
            "grid_gap": null,
            "grid_row": null,
            "grid_template_areas": null,
            "grid_template_columns": null,
            "grid_template_rows": null,
            "height": null,
            "justify_content": null,
            "justify_items": null,
            "left": null,
            "margin": null,
            "max_height": null,
            "max_width": null,
            "min_height": null,
            "min_width": null,
            "object_fit": null,
            "object_position": null,
            "order": null,
            "overflow": null,
            "overflow_x": null,
            "overflow_y": null,
            "padding": null,
            "right": null,
            "top": null,
            "visibility": null,
            "width": null
          }
        },
        "674f44fa7aeb46d4afc4034375e31977": {
          "model_module": "@jupyter-widgets/controls",
          "model_name": "ProgressStyleModel",
          "model_module_version": "1.5.0",
          "state": {
            "_model_module": "@jupyter-widgets/controls",
            "_model_module_version": "1.5.0",
            "_model_name": "ProgressStyleModel",
            "_view_count": null,
            "_view_module": "@jupyter-widgets/base",
            "_view_module_version": "1.2.0",
            "_view_name": "StyleView",
            "bar_color": null,
            "description_width": ""
          }
        },
        "b61581cc00cd41668513a302db7e091c": {
          "model_module": "@jupyter-widgets/base",
          "model_name": "LayoutModel",
          "model_module_version": "1.2.0",
          "state": {
            "_model_module": "@jupyter-widgets/base",
            "_model_module_version": "1.2.0",
            "_model_name": "LayoutModel",
            "_view_count": null,
            "_view_module": "@jupyter-widgets/base",
            "_view_module_version": "1.2.0",
            "_view_name": "LayoutView",
            "align_content": null,
            "align_items": null,
            "align_self": null,
            "border": null,
            "bottom": null,
            "display": null,
            "flex": null,
            "flex_flow": null,
            "grid_area": null,
            "grid_auto_columns": null,
            "grid_auto_flow": null,
            "grid_auto_rows": null,
            "grid_column": null,
            "grid_gap": null,
            "grid_row": null,
            "grid_template_areas": null,
            "grid_template_columns": null,
            "grid_template_rows": null,
            "height": null,
            "justify_content": null,
            "justify_items": null,
            "left": null,
            "margin": null,
            "max_height": null,
            "max_width": null,
            "min_height": null,
            "min_width": null,
            "object_fit": null,
            "object_position": null,
            "order": null,
            "overflow": null,
            "overflow_x": null,
            "overflow_y": null,
            "padding": null,
            "right": null,
            "top": null,
            "visibility": null,
            "width": null
          }
        },
        "53b94b8ecc9f454888dc19b7cb504115": {
          "model_module": "@jupyter-widgets/controls",
          "model_name": "DescriptionStyleModel",
          "model_module_version": "1.5.0",
          "state": {
            "_model_module": "@jupyter-widgets/controls",
            "_model_module_version": "1.5.0",
            "_model_name": "DescriptionStyleModel",
            "_view_count": null,
            "_view_module": "@jupyter-widgets/base",
            "_view_module_version": "1.2.0",
            "_view_name": "StyleView",
            "description_width": ""
          }
        },
        "9f9480c7b0d643e99f0bfe111a185781": {
          "model_module": "@jupyter-widgets/controls",
          "model_name": "HBoxModel",
          "model_module_version": "1.5.0",
          "state": {
            "_dom_classes": [],
            "_model_module": "@jupyter-widgets/controls",
            "_model_module_version": "1.5.0",
            "_model_name": "HBoxModel",
            "_view_count": null,
            "_view_module": "@jupyter-widgets/controls",
            "_view_module_version": "1.5.0",
            "_view_name": "HBoxView",
            "box_style": "",
            "children": [
              "IPY_MODEL_c99798306f7645ee93b829ec35a01510",
              "IPY_MODEL_4fd6229fca7d4b3489a608abad7354e8",
              "IPY_MODEL_0b62bd70397c4635b0915d8c4a33e483"
            ],
            "layout": "IPY_MODEL_a49f91bf00564745bf3a085365f3ab2c"
          }
        },
        "c99798306f7645ee93b829ec35a01510": {
          "model_module": "@jupyter-widgets/controls",
          "model_name": "HTMLModel",
          "model_module_version": "1.5.0",
          "state": {
            "_dom_classes": [],
            "_model_module": "@jupyter-widgets/controls",
            "_model_module_version": "1.5.0",
            "_model_name": "HTMLModel",
            "_view_count": null,
            "_view_module": "@jupyter-widgets/controls",
            "_view_module_version": "1.5.0",
            "_view_name": "HTMLView",
            "description": "",
            "description_tooltip": null,
            "layout": "IPY_MODEL_ea61a7ebbaba48059edc456aec1183ba",
            "placeholder": "​",
            "style": "IPY_MODEL_640b67dbddad4346b964fe767c77fb43",
            "value": "Generating test split: 100%"
          }
        },
        "4fd6229fca7d4b3489a608abad7354e8": {
          "model_module": "@jupyter-widgets/controls",
          "model_name": "FloatProgressModel",
          "model_module_version": "1.5.0",
          "state": {
            "_dom_classes": [],
            "_model_module": "@jupyter-widgets/controls",
            "_model_module_version": "1.5.0",
            "_model_name": "FloatProgressModel",
            "_view_count": null,
            "_view_module": "@jupyter-widgets/controls",
            "_view_module_version": "1.5.0",
            "_view_name": "ProgressView",
            "bar_style": "success",
            "description": "",
            "description_tooltip": null,
            "layout": "IPY_MODEL_42b0682c6f4248768dfeb2efe853ef66",
            "max": 10000,
            "min": 0,
            "orientation": "horizontal",
            "style": "IPY_MODEL_c66778d0708e47b8b865f51d2223644b",
            "value": 10000
          }
        },
        "0b62bd70397c4635b0915d8c4a33e483": {
          "model_module": "@jupyter-widgets/controls",
          "model_name": "HTMLModel",
          "model_module_version": "1.5.0",
          "state": {
            "_dom_classes": [],
            "_model_module": "@jupyter-widgets/controls",
            "_model_module_version": "1.5.0",
            "_model_name": "HTMLModel",
            "_view_count": null,
            "_view_module": "@jupyter-widgets/controls",
            "_view_module_version": "1.5.0",
            "_view_name": "HTMLView",
            "description": "",
            "description_tooltip": null,
            "layout": "IPY_MODEL_4f1bcb3639944fe0829212a6779006cb",
            "placeholder": "​",
            "style": "IPY_MODEL_b4bfd7fd2888467e921c66ca33e1de16",
            "value": " 10000/10000 [00:00&lt;00:00, 82463.75 examples/s]"
          }
        },
        "a49f91bf00564745bf3a085365f3ab2c": {
          "model_module": "@jupyter-widgets/base",
          "model_name": "LayoutModel",
          "model_module_version": "1.2.0",
          "state": {
            "_model_module": "@jupyter-widgets/base",
            "_model_module_version": "1.2.0",
            "_model_name": "LayoutModel",
            "_view_count": null,
            "_view_module": "@jupyter-widgets/base",
            "_view_module_version": "1.2.0",
            "_view_name": "LayoutView",
            "align_content": null,
            "align_items": null,
            "align_self": null,
            "border": null,
            "bottom": null,
            "display": null,
            "flex": null,
            "flex_flow": null,
            "grid_area": null,
            "grid_auto_columns": null,
            "grid_auto_flow": null,
            "grid_auto_rows": null,
            "grid_column": null,
            "grid_gap": null,
            "grid_row": null,
            "grid_template_areas": null,
            "grid_template_columns": null,
            "grid_template_rows": null,
            "height": null,
            "justify_content": null,
            "justify_items": null,
            "left": null,
            "margin": null,
            "max_height": null,
            "max_width": null,
            "min_height": null,
            "min_width": null,
            "object_fit": null,
            "object_position": null,
            "order": null,
            "overflow": null,
            "overflow_x": null,
            "overflow_y": null,
            "padding": null,
            "right": null,
            "top": null,
            "visibility": null,
            "width": null
          }
        },
        "ea61a7ebbaba48059edc456aec1183ba": {
          "model_module": "@jupyter-widgets/base",
          "model_name": "LayoutModel",
          "model_module_version": "1.2.0",
          "state": {
            "_model_module": "@jupyter-widgets/base",
            "_model_module_version": "1.2.0",
            "_model_name": "LayoutModel",
            "_view_count": null,
            "_view_module": "@jupyter-widgets/base",
            "_view_module_version": "1.2.0",
            "_view_name": "LayoutView",
            "align_content": null,
            "align_items": null,
            "align_self": null,
            "border": null,
            "bottom": null,
            "display": null,
            "flex": null,
            "flex_flow": null,
            "grid_area": null,
            "grid_auto_columns": null,
            "grid_auto_flow": null,
            "grid_auto_rows": null,
            "grid_column": null,
            "grid_gap": null,
            "grid_row": null,
            "grid_template_areas": null,
            "grid_template_columns": null,
            "grid_template_rows": null,
            "height": null,
            "justify_content": null,
            "justify_items": null,
            "left": null,
            "margin": null,
            "max_height": null,
            "max_width": null,
            "min_height": null,
            "min_width": null,
            "object_fit": null,
            "object_position": null,
            "order": null,
            "overflow": null,
            "overflow_x": null,
            "overflow_y": null,
            "padding": null,
            "right": null,
            "top": null,
            "visibility": null,
            "width": null
          }
        },
        "640b67dbddad4346b964fe767c77fb43": {
          "model_module": "@jupyter-widgets/controls",
          "model_name": "DescriptionStyleModel",
          "model_module_version": "1.5.0",
          "state": {
            "_model_module": "@jupyter-widgets/controls",
            "_model_module_version": "1.5.0",
            "_model_name": "DescriptionStyleModel",
            "_view_count": null,
            "_view_module": "@jupyter-widgets/base",
            "_view_module_version": "1.2.0",
            "_view_name": "StyleView",
            "description_width": ""
          }
        },
        "42b0682c6f4248768dfeb2efe853ef66": {
          "model_module": "@jupyter-widgets/base",
          "model_name": "LayoutModel",
          "model_module_version": "1.2.0",
          "state": {
            "_model_module": "@jupyter-widgets/base",
            "_model_module_version": "1.2.0",
            "_model_name": "LayoutModel",
            "_view_count": null,
            "_view_module": "@jupyter-widgets/base",
            "_view_module_version": "1.2.0",
            "_view_name": "LayoutView",
            "align_content": null,
            "align_items": null,
            "align_self": null,
            "border": null,
            "bottom": null,
            "display": null,
            "flex": null,
            "flex_flow": null,
            "grid_area": null,
            "grid_auto_columns": null,
            "grid_auto_flow": null,
            "grid_auto_rows": null,
            "grid_column": null,
            "grid_gap": null,
            "grid_row": null,
            "grid_template_areas": null,
            "grid_template_columns": null,
            "grid_template_rows": null,
            "height": null,
            "justify_content": null,
            "justify_items": null,
            "left": null,
            "margin": null,
            "max_height": null,
            "max_width": null,
            "min_height": null,
            "min_width": null,
            "object_fit": null,
            "object_position": null,
            "order": null,
            "overflow": null,
            "overflow_x": null,
            "overflow_y": null,
            "padding": null,
            "right": null,
            "top": null,
            "visibility": null,
            "width": null
          }
        },
        "c66778d0708e47b8b865f51d2223644b": {
          "model_module": "@jupyter-widgets/controls",
          "model_name": "ProgressStyleModel",
          "model_module_version": "1.5.0",
          "state": {
            "_model_module": "@jupyter-widgets/controls",
            "_model_module_version": "1.5.0",
            "_model_name": "ProgressStyleModel",
            "_view_count": null,
            "_view_module": "@jupyter-widgets/base",
            "_view_module_version": "1.2.0",
            "_view_name": "StyleView",
            "bar_color": null,
            "description_width": ""
          }
        },
        "4f1bcb3639944fe0829212a6779006cb": {
          "model_module": "@jupyter-widgets/base",
          "model_name": "LayoutModel",
          "model_module_version": "1.2.0",
          "state": {
            "_model_module": "@jupyter-widgets/base",
            "_model_module_version": "1.2.0",
            "_model_name": "LayoutModel",
            "_view_count": null,
            "_view_module": "@jupyter-widgets/base",
            "_view_module_version": "1.2.0",
            "_view_name": "LayoutView",
            "align_content": null,
            "align_items": null,
            "align_self": null,
            "border": null,
            "bottom": null,
            "display": null,
            "flex": null,
            "flex_flow": null,
            "grid_area": null,
            "grid_auto_columns": null,
            "grid_auto_flow": null,
            "grid_auto_rows": null,
            "grid_column": null,
            "grid_gap": null,
            "grid_row": null,
            "grid_template_areas": null,
            "grid_template_columns": null,
            "grid_template_rows": null,
            "height": null,
            "justify_content": null,
            "justify_items": null,
            "left": null,
            "margin": null,
            "max_height": null,
            "max_width": null,
            "min_height": null,
            "min_width": null,
            "object_fit": null,
            "object_position": null,
            "order": null,
            "overflow": null,
            "overflow_x": null,
            "overflow_y": null,
            "padding": null,
            "right": null,
            "top": null,
            "visibility": null,
            "width": null
          }
        },
        "b4bfd7fd2888467e921c66ca33e1de16": {
          "model_module": "@jupyter-widgets/controls",
          "model_name": "DescriptionStyleModel",
          "model_module_version": "1.5.0",
          "state": {
            "_model_module": "@jupyter-widgets/controls",
            "_model_module_version": "1.5.0",
            "_model_name": "DescriptionStyleModel",
            "_view_count": null,
            "_view_module": "@jupyter-widgets/base",
            "_view_module_version": "1.2.0",
            "_view_name": "StyleView",
            "description_width": ""
          }
        },
        "f75547a9ec2e46dbabbe4788c604bcf8": {
          "model_module": "@jupyter-widgets/controls",
          "model_name": "VBoxModel",
          "model_module_version": "1.5.0",
          "state": {
            "_dom_classes": [],
            "_model_module": "@jupyter-widgets/controls",
            "_model_module_version": "1.5.0",
            "_model_name": "VBoxModel",
            "_view_count": null,
            "_view_module": "@jupyter-widgets/controls",
            "_view_module_version": "1.5.0",
            "_view_name": "VBoxView",
            "box_style": "",
            "children": [
              "IPY_MODEL_4d20a21e265547088291a9c27016b178",
              "IPY_MODEL_1243d4aed92d46199000c47bfbe8d48d"
            ],
            "layout": "IPY_MODEL_317371ea02714a44af94a0129b706120"
          }
        },
        "4d20a21e265547088291a9c27016b178": {
          "model_module": "@jupyter-widgets/controls",
          "model_name": "LabelModel",
          "model_module_version": "1.5.0",
          "state": {
            "_dom_classes": [],
            "_model_module": "@jupyter-widgets/controls",
            "_model_module_version": "1.5.0",
            "_model_name": "LabelModel",
            "_view_count": null,
            "_view_module": "@jupyter-widgets/controls",
            "_view_module_version": "1.5.0",
            "_view_name": "LabelView",
            "description": "",
            "description_tooltip": null,
            "layout": "IPY_MODEL_1be4db2215cd4b71b746dc952916e511",
            "placeholder": "​",
            "style": "IPY_MODEL_73793df0721546059a2fcde5ea65183b",
            "value": "0.018 MB of 0.018 MB uploaded\r"
          }
        },
        "1243d4aed92d46199000c47bfbe8d48d": {
          "model_module": "@jupyter-widgets/controls",
          "model_name": "FloatProgressModel",
          "model_module_version": "1.5.0",
          "state": {
            "_dom_classes": [],
            "_model_module": "@jupyter-widgets/controls",
            "_model_module_version": "1.5.0",
            "_model_name": "FloatProgressModel",
            "_view_count": null,
            "_view_module": "@jupyter-widgets/controls",
            "_view_module_version": "1.5.0",
            "_view_name": "ProgressView",
            "bar_style": "",
            "description": "",
            "description_tooltip": null,
            "layout": "IPY_MODEL_df610a2bc340410ea32854d841c7c055",
            "max": 1,
            "min": 0,
            "orientation": "horizontal",
            "style": "IPY_MODEL_c2233e832e6c48e9b9ccc513d9a4b23b",
            "value": 1
          }
        },
        "317371ea02714a44af94a0129b706120": {
          "model_module": "@jupyter-widgets/base",
          "model_name": "LayoutModel",
          "model_module_version": "1.2.0",
          "state": {
            "_model_module": "@jupyter-widgets/base",
            "_model_module_version": "1.2.0",
            "_model_name": "LayoutModel",
            "_view_count": null,
            "_view_module": "@jupyter-widgets/base",
            "_view_module_version": "1.2.0",
            "_view_name": "LayoutView",
            "align_content": null,
            "align_items": null,
            "align_self": null,
            "border": null,
            "bottom": null,
            "display": null,
            "flex": null,
            "flex_flow": null,
            "grid_area": null,
            "grid_auto_columns": null,
            "grid_auto_flow": null,
            "grid_auto_rows": null,
            "grid_column": null,
            "grid_gap": null,
            "grid_row": null,
            "grid_template_areas": null,
            "grid_template_columns": null,
            "grid_template_rows": null,
            "height": null,
            "justify_content": null,
            "justify_items": null,
            "left": null,
            "margin": null,
            "max_height": null,
            "max_width": null,
            "min_height": null,
            "min_width": null,
            "object_fit": null,
            "object_position": null,
            "order": null,
            "overflow": null,
            "overflow_x": null,
            "overflow_y": null,
            "padding": null,
            "right": null,
            "top": null,
            "visibility": null,
            "width": null
          }
        },
        "1be4db2215cd4b71b746dc952916e511": {
          "model_module": "@jupyter-widgets/base",
          "model_name": "LayoutModel",
          "model_module_version": "1.2.0",
          "state": {
            "_model_module": "@jupyter-widgets/base",
            "_model_module_version": "1.2.0",
            "_model_name": "LayoutModel",
            "_view_count": null,
            "_view_module": "@jupyter-widgets/base",
            "_view_module_version": "1.2.0",
            "_view_name": "LayoutView",
            "align_content": null,
            "align_items": null,
            "align_self": null,
            "border": null,
            "bottom": null,
            "display": null,
            "flex": null,
            "flex_flow": null,
            "grid_area": null,
            "grid_auto_columns": null,
            "grid_auto_flow": null,
            "grid_auto_rows": null,
            "grid_column": null,
            "grid_gap": null,
            "grid_row": null,
            "grid_template_areas": null,
            "grid_template_columns": null,
            "grid_template_rows": null,
            "height": null,
            "justify_content": null,
            "justify_items": null,
            "left": null,
            "margin": null,
            "max_height": null,
            "max_width": null,
            "min_height": null,
            "min_width": null,
            "object_fit": null,
            "object_position": null,
            "order": null,
            "overflow": null,
            "overflow_x": null,
            "overflow_y": null,
            "padding": null,
            "right": null,
            "top": null,
            "visibility": null,
            "width": null
          }
        },
        "73793df0721546059a2fcde5ea65183b": {
          "model_module": "@jupyter-widgets/controls",
          "model_name": "DescriptionStyleModel",
          "model_module_version": "1.5.0",
          "state": {
            "_model_module": "@jupyter-widgets/controls",
            "_model_module_version": "1.5.0",
            "_model_name": "DescriptionStyleModel",
            "_view_count": null,
            "_view_module": "@jupyter-widgets/base",
            "_view_module_version": "1.2.0",
            "_view_name": "StyleView",
            "description_width": ""
          }
        },
        "df610a2bc340410ea32854d841c7c055": {
          "model_module": "@jupyter-widgets/base",
          "model_name": "LayoutModel",
          "model_module_version": "1.2.0",
          "state": {
            "_model_module": "@jupyter-widgets/base",
            "_model_module_version": "1.2.0",
            "_model_name": "LayoutModel",
            "_view_count": null,
            "_view_module": "@jupyter-widgets/base",
            "_view_module_version": "1.2.0",
            "_view_name": "LayoutView",
            "align_content": null,
            "align_items": null,
            "align_self": null,
            "border": null,
            "bottom": null,
            "display": null,
            "flex": null,
            "flex_flow": null,
            "grid_area": null,
            "grid_auto_columns": null,
            "grid_auto_flow": null,
            "grid_auto_rows": null,
            "grid_column": null,
            "grid_gap": null,
            "grid_row": null,
            "grid_template_areas": null,
            "grid_template_columns": null,
            "grid_template_rows": null,
            "height": null,
            "justify_content": null,
            "justify_items": null,
            "left": null,
            "margin": null,
            "max_height": null,
            "max_width": null,
            "min_height": null,
            "min_width": null,
            "object_fit": null,
            "object_position": null,
            "order": null,
            "overflow": null,
            "overflow_x": null,
            "overflow_y": null,
            "padding": null,
            "right": null,
            "top": null,
            "visibility": null,
            "width": null
          }
        },
        "c2233e832e6c48e9b9ccc513d9a4b23b": {
          "model_module": "@jupyter-widgets/controls",
          "model_name": "ProgressStyleModel",
          "model_module_version": "1.5.0",
          "state": {
            "_model_module": "@jupyter-widgets/controls",
            "_model_module_version": "1.5.0",
            "_model_name": "ProgressStyleModel",
            "_view_count": null,
            "_view_module": "@jupyter-widgets/base",
            "_view_module_version": "1.2.0",
            "_view_name": "StyleView",
            "bar_color": null,
            "description_width": ""
          }
        },
        "9c3699bd6d7a4cbdbbfb107eed171e9f": {
          "model_module": "@jupyter-widgets/controls",
          "model_name": "VBoxModel",
          "model_module_version": "1.5.0",
          "state": {
            "_dom_classes": [],
            "_model_module": "@jupyter-widgets/controls",
            "_model_module_version": "1.5.0",
            "_model_name": "VBoxModel",
            "_view_count": null,
            "_view_module": "@jupyter-widgets/controls",
            "_view_module_version": "1.5.0",
            "_view_name": "VBoxView",
            "box_style": "",
            "children": [
              "IPY_MODEL_9e5e2edab4d148898bc040757eda27c0",
              "IPY_MODEL_18a83f0755cf41ac9c65c9d2a5748de9"
            ],
            "layout": "IPY_MODEL_d845bef328cd459180f6daf5319ccfe8"
          }
        },
        "9e5e2edab4d148898bc040757eda27c0": {
          "model_module": "@jupyter-widgets/controls",
          "model_name": "LabelModel",
          "model_module_version": "1.5.0",
          "state": {
            "_dom_classes": [],
            "_model_module": "@jupyter-widgets/controls",
            "_model_module_version": "1.5.0",
            "_model_name": "LabelModel",
            "_view_count": null,
            "_view_module": "@jupyter-widgets/controls",
            "_view_module_version": "1.5.0",
            "_view_name": "LabelView",
            "description": "",
            "description_tooltip": null,
            "layout": "IPY_MODEL_8f0b889ce33e4a839fb448e994e6ff1a",
            "placeholder": "​",
            "style": "IPY_MODEL_6b5e6e7451e34b38aa812b6a9d2c7b18",
            "value": "0.018 MB of 0.018 MB uploaded\r"
          }
        },
        "18a83f0755cf41ac9c65c9d2a5748de9": {
          "model_module": "@jupyter-widgets/controls",
          "model_name": "FloatProgressModel",
          "model_module_version": "1.5.0",
          "state": {
            "_dom_classes": [],
            "_model_module": "@jupyter-widgets/controls",
            "_model_module_version": "1.5.0",
            "_model_name": "FloatProgressModel",
            "_view_count": null,
            "_view_module": "@jupyter-widgets/controls",
            "_view_module_version": "1.5.0",
            "_view_name": "ProgressView",
            "bar_style": "",
            "description": "",
            "description_tooltip": null,
            "layout": "IPY_MODEL_920a52db5b744048ad4f85311d9c2963",
            "max": 1,
            "min": 0,
            "orientation": "horizontal",
            "style": "IPY_MODEL_ccd44275474d4be993f60b12cd2ae245",
            "value": 1
          }
        },
        "d845bef328cd459180f6daf5319ccfe8": {
          "model_module": "@jupyter-widgets/base",
          "model_name": "LayoutModel",
          "model_module_version": "1.2.0",
          "state": {
            "_model_module": "@jupyter-widgets/base",
            "_model_module_version": "1.2.0",
            "_model_name": "LayoutModel",
            "_view_count": null,
            "_view_module": "@jupyter-widgets/base",
            "_view_module_version": "1.2.0",
            "_view_name": "LayoutView",
            "align_content": null,
            "align_items": null,
            "align_self": null,
            "border": null,
            "bottom": null,
            "display": null,
            "flex": null,
            "flex_flow": null,
            "grid_area": null,
            "grid_auto_columns": null,
            "grid_auto_flow": null,
            "grid_auto_rows": null,
            "grid_column": null,
            "grid_gap": null,
            "grid_row": null,
            "grid_template_areas": null,
            "grid_template_columns": null,
            "grid_template_rows": null,
            "height": null,
            "justify_content": null,
            "justify_items": null,
            "left": null,
            "margin": null,
            "max_height": null,
            "max_width": null,
            "min_height": null,
            "min_width": null,
            "object_fit": null,
            "object_position": null,
            "order": null,
            "overflow": null,
            "overflow_x": null,
            "overflow_y": null,
            "padding": null,
            "right": null,
            "top": null,
            "visibility": null,
            "width": null
          }
        },
        "8f0b889ce33e4a839fb448e994e6ff1a": {
          "model_module": "@jupyter-widgets/base",
          "model_name": "LayoutModel",
          "model_module_version": "1.2.0",
          "state": {
            "_model_module": "@jupyter-widgets/base",
            "_model_module_version": "1.2.0",
            "_model_name": "LayoutModel",
            "_view_count": null,
            "_view_module": "@jupyter-widgets/base",
            "_view_module_version": "1.2.0",
            "_view_name": "LayoutView",
            "align_content": null,
            "align_items": null,
            "align_self": null,
            "border": null,
            "bottom": null,
            "display": null,
            "flex": null,
            "flex_flow": null,
            "grid_area": null,
            "grid_auto_columns": null,
            "grid_auto_flow": null,
            "grid_auto_rows": null,
            "grid_column": null,
            "grid_gap": null,
            "grid_row": null,
            "grid_template_areas": null,
            "grid_template_columns": null,
            "grid_template_rows": null,
            "height": null,
            "justify_content": null,
            "justify_items": null,
            "left": null,
            "margin": null,
            "max_height": null,
            "max_width": null,
            "min_height": null,
            "min_width": null,
            "object_fit": null,
            "object_position": null,
            "order": null,
            "overflow": null,
            "overflow_x": null,
            "overflow_y": null,
            "padding": null,
            "right": null,
            "top": null,
            "visibility": null,
            "width": null
          }
        },
        "6b5e6e7451e34b38aa812b6a9d2c7b18": {
          "model_module": "@jupyter-widgets/controls",
          "model_name": "DescriptionStyleModel",
          "model_module_version": "1.5.0",
          "state": {
            "_model_module": "@jupyter-widgets/controls",
            "_model_module_version": "1.5.0",
            "_model_name": "DescriptionStyleModel",
            "_view_count": null,
            "_view_module": "@jupyter-widgets/base",
            "_view_module_version": "1.2.0",
            "_view_name": "StyleView",
            "description_width": ""
          }
        },
        "920a52db5b744048ad4f85311d9c2963": {
          "model_module": "@jupyter-widgets/base",
          "model_name": "LayoutModel",
          "model_module_version": "1.2.0",
          "state": {
            "_model_module": "@jupyter-widgets/base",
            "_model_module_version": "1.2.0",
            "_model_name": "LayoutModel",
            "_view_count": null,
            "_view_module": "@jupyter-widgets/base",
            "_view_module_version": "1.2.0",
            "_view_name": "LayoutView",
            "align_content": null,
            "align_items": null,
            "align_self": null,
            "border": null,
            "bottom": null,
            "display": null,
            "flex": null,
            "flex_flow": null,
            "grid_area": null,
            "grid_auto_columns": null,
            "grid_auto_flow": null,
            "grid_auto_rows": null,
            "grid_column": null,
            "grid_gap": null,
            "grid_row": null,
            "grid_template_areas": null,
            "grid_template_columns": null,
            "grid_template_rows": null,
            "height": null,
            "justify_content": null,
            "justify_items": null,
            "left": null,
            "margin": null,
            "max_height": null,
            "max_width": null,
            "min_height": null,
            "min_width": null,
            "object_fit": null,
            "object_position": null,
            "order": null,
            "overflow": null,
            "overflow_x": null,
            "overflow_y": null,
            "padding": null,
            "right": null,
            "top": null,
            "visibility": null,
            "width": null
          }
        },
        "ccd44275474d4be993f60b12cd2ae245": {
          "model_module": "@jupyter-widgets/controls",
          "model_name": "ProgressStyleModel",
          "model_module_version": "1.5.0",
          "state": {
            "_model_module": "@jupyter-widgets/controls",
            "_model_module_version": "1.5.0",
            "_model_name": "ProgressStyleModel",
            "_view_count": null,
            "_view_module": "@jupyter-widgets/base",
            "_view_module_version": "1.2.0",
            "_view_name": "StyleView",
            "bar_color": null,
            "description_width": ""
          }
        },
        "4780f09513cd4d7686c99f7358614386": {
          "model_module": "@jupyter-widgets/controls",
          "model_name": "HBoxModel",
          "model_module_version": "1.5.0",
          "state": {
            "_dom_classes": [],
            "_model_module": "@jupyter-widgets/controls",
            "_model_module_version": "1.5.0",
            "_model_name": "HBoxModel",
            "_view_count": null,
            "_view_module": "@jupyter-widgets/controls",
            "_view_module_version": "1.5.0",
            "_view_name": "HBoxView",
            "box_style": "",
            "children": [
              "IPY_MODEL_fe2e5dc3ab584f5f87cda4e8dae367b3",
              "IPY_MODEL_314f8adb73e34ecab2bd096a5083b9a2",
              "IPY_MODEL_4c6377d633f34db19bee91692cf9fa16"
            ],
            "layout": "IPY_MODEL_456256b420bb4cfe8224c2998d75e7ee"
          }
        },
        "fe2e5dc3ab584f5f87cda4e8dae367b3": {
          "model_module": "@jupyter-widgets/controls",
          "model_name": "HTMLModel",
          "model_module_version": "1.5.0",
          "state": {
            "_dom_classes": [],
            "_model_module": "@jupyter-widgets/controls",
            "_model_module_version": "1.5.0",
            "_model_name": "HTMLModel",
            "_view_count": null,
            "_view_module": "@jupyter-widgets/controls",
            "_view_module_version": "1.5.0",
            "_view_name": "HTMLView",
            "description": "",
            "description_tooltip": null,
            "layout": "IPY_MODEL_e6467b1c60ee43d3839043d371b87784",
            "placeholder": "​",
            "style": "IPY_MODEL_19e26b4f01fb4c0e9cbdc47172728676",
            "value": "pytorch_model.bin: 100%"
          }
        },
        "314f8adb73e34ecab2bd096a5083b9a2": {
          "model_module": "@jupyter-widgets/controls",
          "model_name": "FloatProgressModel",
          "model_module_version": "1.5.0",
          "state": {
            "_dom_classes": [],
            "_model_module": "@jupyter-widgets/controls",
            "_model_module_version": "1.5.0",
            "_model_name": "FloatProgressModel",
            "_view_count": null,
            "_view_module": "@jupyter-widgets/controls",
            "_view_module_version": "1.5.0",
            "_view_name": "ProgressView",
            "bar_style": "success",
            "description": "",
            "description_tooltip": null,
            "layout": "IPY_MODEL_23733f5192674832a7329d4a0e27e201",
            "max": 789120,
            "min": 0,
            "orientation": "horizontal",
            "style": "IPY_MODEL_55775941b03140d0afb7bfd63cead17b",
            "value": 789120
          }
        },
        "4c6377d633f34db19bee91692cf9fa16": {
          "model_module": "@jupyter-widgets/controls",
          "model_name": "HTMLModel",
          "model_module_version": "1.5.0",
          "state": {
            "_dom_classes": [],
            "_model_module": "@jupyter-widgets/controls",
            "_model_module_version": "1.5.0",
            "_model_name": "HTMLModel",
            "_view_count": null,
            "_view_module": "@jupyter-widgets/controls",
            "_view_module_version": "1.5.0",
            "_view_name": "HTMLView",
            "description": "",
            "description_tooltip": null,
            "layout": "IPY_MODEL_73fcf38b7c634b5f9d649128e0cc910d",
            "placeholder": "​",
            "style": "IPY_MODEL_583a13b087d9413ebdd8b5b27b885f8a",
            "value": " 789k/789k [00:00&lt;00:00, 134kB/s]"
          }
        },
        "456256b420bb4cfe8224c2998d75e7ee": {
          "model_module": "@jupyter-widgets/base",
          "model_name": "LayoutModel",
          "model_module_version": "1.2.0",
          "state": {
            "_model_module": "@jupyter-widgets/base",
            "_model_module_version": "1.2.0",
            "_model_name": "LayoutModel",
            "_view_count": null,
            "_view_module": "@jupyter-widgets/base",
            "_view_module_version": "1.2.0",
            "_view_name": "LayoutView",
            "align_content": null,
            "align_items": null,
            "align_self": null,
            "border": null,
            "bottom": null,
            "display": null,
            "flex": null,
            "flex_flow": null,
            "grid_area": null,
            "grid_auto_columns": null,
            "grid_auto_flow": null,
            "grid_auto_rows": null,
            "grid_column": null,
            "grid_gap": null,
            "grid_row": null,
            "grid_template_areas": null,
            "grid_template_columns": null,
            "grid_template_rows": null,
            "height": null,
            "justify_content": null,
            "justify_items": null,
            "left": null,
            "margin": null,
            "max_height": null,
            "max_width": null,
            "min_height": null,
            "min_width": null,
            "object_fit": null,
            "object_position": null,
            "order": null,
            "overflow": null,
            "overflow_x": null,
            "overflow_y": null,
            "padding": null,
            "right": null,
            "top": null,
            "visibility": null,
            "width": null
          }
        },
        "e6467b1c60ee43d3839043d371b87784": {
          "model_module": "@jupyter-widgets/base",
          "model_name": "LayoutModel",
          "model_module_version": "1.2.0",
          "state": {
            "_model_module": "@jupyter-widgets/base",
            "_model_module_version": "1.2.0",
            "_model_name": "LayoutModel",
            "_view_count": null,
            "_view_module": "@jupyter-widgets/base",
            "_view_module_version": "1.2.0",
            "_view_name": "LayoutView",
            "align_content": null,
            "align_items": null,
            "align_self": null,
            "border": null,
            "bottom": null,
            "display": null,
            "flex": null,
            "flex_flow": null,
            "grid_area": null,
            "grid_auto_columns": null,
            "grid_auto_flow": null,
            "grid_auto_rows": null,
            "grid_column": null,
            "grid_gap": null,
            "grid_row": null,
            "grid_template_areas": null,
            "grid_template_columns": null,
            "grid_template_rows": null,
            "height": null,
            "justify_content": null,
            "justify_items": null,
            "left": null,
            "margin": null,
            "max_height": null,
            "max_width": null,
            "min_height": null,
            "min_width": null,
            "object_fit": null,
            "object_position": null,
            "order": null,
            "overflow": null,
            "overflow_x": null,
            "overflow_y": null,
            "padding": null,
            "right": null,
            "top": null,
            "visibility": null,
            "width": null
          }
        },
        "19e26b4f01fb4c0e9cbdc47172728676": {
          "model_module": "@jupyter-widgets/controls",
          "model_name": "DescriptionStyleModel",
          "model_module_version": "1.5.0",
          "state": {
            "_model_module": "@jupyter-widgets/controls",
            "_model_module_version": "1.5.0",
            "_model_name": "DescriptionStyleModel",
            "_view_count": null,
            "_view_module": "@jupyter-widgets/base",
            "_view_module_version": "1.2.0",
            "_view_name": "StyleView",
            "description_width": ""
          }
        },
        "23733f5192674832a7329d4a0e27e201": {
          "model_module": "@jupyter-widgets/base",
          "model_name": "LayoutModel",
          "model_module_version": "1.2.0",
          "state": {
            "_model_module": "@jupyter-widgets/base",
            "_model_module_version": "1.2.0",
            "_model_name": "LayoutModel",
            "_view_count": null,
            "_view_module": "@jupyter-widgets/base",
            "_view_module_version": "1.2.0",
            "_view_name": "LayoutView",
            "align_content": null,
            "align_items": null,
            "align_self": null,
            "border": null,
            "bottom": null,
            "display": null,
            "flex": null,
            "flex_flow": null,
            "grid_area": null,
            "grid_auto_columns": null,
            "grid_auto_flow": null,
            "grid_auto_rows": null,
            "grid_column": null,
            "grid_gap": null,
            "grid_row": null,
            "grid_template_areas": null,
            "grid_template_columns": null,
            "grid_template_rows": null,
            "height": null,
            "justify_content": null,
            "justify_items": null,
            "left": null,
            "margin": null,
            "max_height": null,
            "max_width": null,
            "min_height": null,
            "min_width": null,
            "object_fit": null,
            "object_position": null,
            "order": null,
            "overflow": null,
            "overflow_x": null,
            "overflow_y": null,
            "padding": null,
            "right": null,
            "top": null,
            "visibility": null,
            "width": null
          }
        },
        "55775941b03140d0afb7bfd63cead17b": {
          "model_module": "@jupyter-widgets/controls",
          "model_name": "ProgressStyleModel",
          "model_module_version": "1.5.0",
          "state": {
            "_model_module": "@jupyter-widgets/controls",
            "_model_module_version": "1.5.0",
            "_model_name": "ProgressStyleModel",
            "_view_count": null,
            "_view_module": "@jupyter-widgets/base",
            "_view_module_version": "1.2.0",
            "_view_name": "StyleView",
            "bar_color": null,
            "description_width": ""
          }
        },
        "73fcf38b7c634b5f9d649128e0cc910d": {
          "model_module": "@jupyter-widgets/base",
          "model_name": "LayoutModel",
          "model_module_version": "1.2.0",
          "state": {
            "_model_module": "@jupyter-widgets/base",
            "_model_module_version": "1.2.0",
            "_model_name": "LayoutModel",
            "_view_count": null,
            "_view_module": "@jupyter-widgets/base",
            "_view_module_version": "1.2.0",
            "_view_name": "LayoutView",
            "align_content": null,
            "align_items": null,
            "align_self": null,
            "border": null,
            "bottom": null,
            "display": null,
            "flex": null,
            "flex_flow": null,
            "grid_area": null,
            "grid_auto_columns": null,
            "grid_auto_flow": null,
            "grid_auto_rows": null,
            "grid_column": null,
            "grid_gap": null,
            "grid_row": null,
            "grid_template_areas": null,
            "grid_template_columns": null,
            "grid_template_rows": null,
            "height": null,
            "justify_content": null,
            "justify_items": null,
            "left": null,
            "margin": null,
            "max_height": null,
            "max_width": null,
            "min_height": null,
            "min_width": null,
            "object_fit": null,
            "object_position": null,
            "order": null,
            "overflow": null,
            "overflow_x": null,
            "overflow_y": null,
            "padding": null,
            "right": null,
            "top": null,
            "visibility": null,
            "width": null
          }
        },
        "583a13b087d9413ebdd8b5b27b885f8a": {
          "model_module": "@jupyter-widgets/controls",
          "model_name": "DescriptionStyleModel",
          "model_module_version": "1.5.0",
          "state": {
            "_model_module": "@jupyter-widgets/controls",
            "_model_module_version": "1.5.0",
            "_model_name": "DescriptionStyleModel",
            "_view_count": null,
            "_view_module": "@jupyter-widgets/base",
            "_view_module_version": "1.2.0",
            "_view_name": "StyleView",
            "description_width": ""
          }
        },
        "97ea4eda059f47dba6e0a3b23c622e53": {
          "model_module": "@jupyter-widgets/controls",
          "model_name": "HBoxModel",
          "model_module_version": "1.5.0",
          "state": {
            "_dom_classes": [],
            "_model_module": "@jupyter-widgets/controls",
            "_model_module_version": "1.5.0",
            "_model_name": "HBoxModel",
            "_view_count": null,
            "_view_module": "@jupyter-widgets/controls",
            "_view_module_version": "1.5.0",
            "_view_name": "HBoxView",
            "box_style": "",
            "children": [
              "IPY_MODEL_399450a56539437282d59e88d798a349",
              "IPY_MODEL_bb78b475a8c9481d851de43b9f79a886",
              "IPY_MODEL_6b36f003114a4a679612e78930e5aac4"
            ],
            "layout": "IPY_MODEL_69e82fe9c880417cbd8b7eb6823e1b2e"
          }
        },
        "399450a56539437282d59e88d798a349": {
          "model_module": "@jupyter-widgets/controls",
          "model_name": "HTMLModel",
          "model_module_version": "1.5.0",
          "state": {
            "_dom_classes": [],
            "_model_module": "@jupyter-widgets/controls",
            "_model_module_version": "1.5.0",
            "_model_name": "HTMLModel",
            "_view_count": null,
            "_view_module": "@jupyter-widgets/controls",
            "_view_module_version": "1.5.0",
            "_view_name": "HTMLView",
            "description": "",
            "description_tooltip": null,
            "layout": "IPY_MODEL_9483ad8a4f7e4af082b3f8bbbd531d54",
            "placeholder": "​",
            "style": "IPY_MODEL_9dada0012d7b4d429baf998654b25a08",
            "value": "pytorch_model.bin: 100%"
          }
        },
        "bb78b475a8c9481d851de43b9f79a886": {
          "model_module": "@jupyter-widgets/controls",
          "model_name": "FloatProgressModel",
          "model_module_version": "1.5.0",
          "state": {
            "_dom_classes": [],
            "_model_module": "@jupyter-widgets/controls",
            "_model_module_version": "1.5.0",
            "_model_name": "FloatProgressModel",
            "_view_count": null,
            "_view_module": "@jupyter-widgets/controls",
            "_view_module_version": "1.5.0",
            "_view_name": "ProgressView",
            "bar_style": "success",
            "description": "",
            "description_tooltip": null,
            "layout": "IPY_MODEL_27db0ca2e4d9434cbfa58297c507040c",
            "max": 789120,
            "min": 0,
            "orientation": "horizontal",
            "style": "IPY_MODEL_45cda049196f490484ff44c390defb56",
            "value": 789120
          }
        },
        "6b36f003114a4a679612e78930e5aac4": {
          "model_module": "@jupyter-widgets/controls",
          "model_name": "HTMLModel",
          "model_module_version": "1.5.0",
          "state": {
            "_dom_classes": [],
            "_model_module": "@jupyter-widgets/controls",
            "_model_module_version": "1.5.0",
            "_model_name": "HTMLModel",
            "_view_count": null,
            "_view_module": "@jupyter-widgets/controls",
            "_view_module_version": "1.5.0",
            "_view_name": "HTMLView",
            "description": "",
            "description_tooltip": null,
            "layout": "IPY_MODEL_3cf61779ee3745e78b2d832bb724824a",
            "placeholder": "​",
            "style": "IPY_MODEL_bf08f74bf2dc4d64bd6c176872690454",
            "value": " 789k/789k [00:00&lt;00:00, 1.88MB/s]"
          }
        },
        "69e82fe9c880417cbd8b7eb6823e1b2e": {
          "model_module": "@jupyter-widgets/base",
          "model_name": "LayoutModel",
          "model_module_version": "1.2.0",
          "state": {
            "_model_module": "@jupyter-widgets/base",
            "_model_module_version": "1.2.0",
            "_model_name": "LayoutModel",
            "_view_count": null,
            "_view_module": "@jupyter-widgets/base",
            "_view_module_version": "1.2.0",
            "_view_name": "LayoutView",
            "align_content": null,
            "align_items": null,
            "align_self": null,
            "border": null,
            "bottom": null,
            "display": null,
            "flex": null,
            "flex_flow": null,
            "grid_area": null,
            "grid_auto_columns": null,
            "grid_auto_flow": null,
            "grid_auto_rows": null,
            "grid_column": null,
            "grid_gap": null,
            "grid_row": null,
            "grid_template_areas": null,
            "grid_template_columns": null,
            "grid_template_rows": null,
            "height": null,
            "justify_content": null,
            "justify_items": null,
            "left": null,
            "margin": null,
            "max_height": null,
            "max_width": null,
            "min_height": null,
            "min_width": null,
            "object_fit": null,
            "object_position": null,
            "order": null,
            "overflow": null,
            "overflow_x": null,
            "overflow_y": null,
            "padding": null,
            "right": null,
            "top": null,
            "visibility": null,
            "width": null
          }
        },
        "9483ad8a4f7e4af082b3f8bbbd531d54": {
          "model_module": "@jupyter-widgets/base",
          "model_name": "LayoutModel",
          "model_module_version": "1.2.0",
          "state": {
            "_model_module": "@jupyter-widgets/base",
            "_model_module_version": "1.2.0",
            "_model_name": "LayoutModel",
            "_view_count": null,
            "_view_module": "@jupyter-widgets/base",
            "_view_module_version": "1.2.0",
            "_view_name": "LayoutView",
            "align_content": null,
            "align_items": null,
            "align_self": null,
            "border": null,
            "bottom": null,
            "display": null,
            "flex": null,
            "flex_flow": null,
            "grid_area": null,
            "grid_auto_columns": null,
            "grid_auto_flow": null,
            "grid_auto_rows": null,
            "grid_column": null,
            "grid_gap": null,
            "grid_row": null,
            "grid_template_areas": null,
            "grid_template_columns": null,
            "grid_template_rows": null,
            "height": null,
            "justify_content": null,
            "justify_items": null,
            "left": null,
            "margin": null,
            "max_height": null,
            "max_width": null,
            "min_height": null,
            "min_width": null,
            "object_fit": null,
            "object_position": null,
            "order": null,
            "overflow": null,
            "overflow_x": null,
            "overflow_y": null,
            "padding": null,
            "right": null,
            "top": null,
            "visibility": null,
            "width": null
          }
        },
        "9dada0012d7b4d429baf998654b25a08": {
          "model_module": "@jupyter-widgets/controls",
          "model_name": "DescriptionStyleModel",
          "model_module_version": "1.5.0",
          "state": {
            "_model_module": "@jupyter-widgets/controls",
            "_model_module_version": "1.5.0",
            "_model_name": "DescriptionStyleModel",
            "_view_count": null,
            "_view_module": "@jupyter-widgets/base",
            "_view_module_version": "1.2.0",
            "_view_name": "StyleView",
            "description_width": ""
          }
        },
        "27db0ca2e4d9434cbfa58297c507040c": {
          "model_module": "@jupyter-widgets/base",
          "model_name": "LayoutModel",
          "model_module_version": "1.2.0",
          "state": {
            "_model_module": "@jupyter-widgets/base",
            "_model_module_version": "1.2.0",
            "_model_name": "LayoutModel",
            "_view_count": null,
            "_view_module": "@jupyter-widgets/base",
            "_view_module_version": "1.2.0",
            "_view_name": "LayoutView",
            "align_content": null,
            "align_items": null,
            "align_self": null,
            "border": null,
            "bottom": null,
            "display": null,
            "flex": null,
            "flex_flow": null,
            "grid_area": null,
            "grid_auto_columns": null,
            "grid_auto_flow": null,
            "grid_auto_rows": null,
            "grid_column": null,
            "grid_gap": null,
            "grid_row": null,
            "grid_template_areas": null,
            "grid_template_columns": null,
            "grid_template_rows": null,
            "height": null,
            "justify_content": null,
            "justify_items": null,
            "left": null,
            "margin": null,
            "max_height": null,
            "max_width": null,
            "min_height": null,
            "min_width": null,
            "object_fit": null,
            "object_position": null,
            "order": null,
            "overflow": null,
            "overflow_x": null,
            "overflow_y": null,
            "padding": null,
            "right": null,
            "top": null,
            "visibility": null,
            "width": null
          }
        },
        "45cda049196f490484ff44c390defb56": {
          "model_module": "@jupyter-widgets/controls",
          "model_name": "ProgressStyleModel",
          "model_module_version": "1.5.0",
          "state": {
            "_model_module": "@jupyter-widgets/controls",
            "_model_module_version": "1.5.0",
            "_model_name": "ProgressStyleModel",
            "_view_count": null,
            "_view_module": "@jupyter-widgets/base",
            "_view_module_version": "1.2.0",
            "_view_name": "StyleView",
            "bar_color": null,
            "description_width": ""
          }
        },
        "3cf61779ee3745e78b2d832bb724824a": {
          "model_module": "@jupyter-widgets/base",
          "model_name": "LayoutModel",
          "model_module_version": "1.2.0",
          "state": {
            "_model_module": "@jupyter-widgets/base",
            "_model_module_version": "1.2.0",
            "_model_name": "LayoutModel",
            "_view_count": null,
            "_view_module": "@jupyter-widgets/base",
            "_view_module_version": "1.2.0",
            "_view_name": "LayoutView",
            "align_content": null,
            "align_items": null,
            "align_self": null,
            "border": null,
            "bottom": null,
            "display": null,
            "flex": null,
            "flex_flow": null,
            "grid_area": null,
            "grid_auto_columns": null,
            "grid_auto_flow": null,
            "grid_auto_rows": null,
            "grid_column": null,
            "grid_gap": null,
            "grid_row": null,
            "grid_template_areas": null,
            "grid_template_columns": null,
            "grid_template_rows": null,
            "height": null,
            "justify_content": null,
            "justify_items": null,
            "left": null,
            "margin": null,
            "max_height": null,
            "max_width": null,
            "min_height": null,
            "min_width": null,
            "object_fit": null,
            "object_position": null,
            "order": null,
            "overflow": null,
            "overflow_x": null,
            "overflow_y": null,
            "padding": null,
            "right": null,
            "top": null,
            "visibility": null,
            "width": null
          }
        },
        "bf08f74bf2dc4d64bd6c176872690454": {
          "model_module": "@jupyter-widgets/controls",
          "model_name": "DescriptionStyleModel",
          "model_module_version": "1.5.0",
          "state": {
            "_model_module": "@jupyter-widgets/controls",
            "_model_module_version": "1.5.0",
            "_model_name": "DescriptionStyleModel",
            "_view_count": null,
            "_view_module": "@jupyter-widgets/base",
            "_view_module_version": "1.2.0",
            "_view_name": "StyleView",
            "description_width": ""
          }
        },
        "8109070ee9054b2cb0b55eb84e761876": {
          "model_module": "@jupyter-widgets/controls",
          "model_name": "HBoxModel",
          "model_module_version": "1.5.0",
          "state": {
            "_dom_classes": [],
            "_model_module": "@jupyter-widgets/controls",
            "_model_module_version": "1.5.0",
            "_model_name": "HBoxModel",
            "_view_count": null,
            "_view_module": "@jupyter-widgets/controls",
            "_view_module_version": "1.5.0",
            "_view_name": "HBoxView",
            "box_style": "",
            "children": [
              "IPY_MODEL_83b566531c5048f9a202c492ed2d7b2b",
              "IPY_MODEL_2d34027c2f86481eb3bfc73bc57a63f2",
              "IPY_MODEL_c7428646a71340e3ba87162016bbe02f"
            ],
            "layout": "IPY_MODEL_9758e8a76a244971aae3f0b48f47201b"
          }
        },
        "83b566531c5048f9a202c492ed2d7b2b": {
          "model_module": "@jupyter-widgets/controls",
          "model_name": "HTMLModel",
          "model_module_version": "1.5.0",
          "state": {
            "_dom_classes": [],
            "_model_module": "@jupyter-widgets/controls",
            "_model_module_version": "1.5.0",
            "_model_name": "HTMLModel",
            "_view_count": null,
            "_view_module": "@jupyter-widgets/controls",
            "_view_module_version": "1.5.0",
            "_view_name": "HTMLView",
            "description": "",
            "description_tooltip": null,
            "layout": "IPY_MODEL_f0245908a6e1431a8e9b8477435929ea",
            "placeholder": "​",
            "style": "IPY_MODEL_7341b316e83a45b0a3fef8aac547f80e",
            "value": "pytorch_model.bin: 100%"
          }
        },
        "2d34027c2f86481eb3bfc73bc57a63f2": {
          "model_module": "@jupyter-widgets/controls",
          "model_name": "FloatProgressModel",
          "model_module_version": "1.5.0",
          "state": {
            "_dom_classes": [],
            "_model_module": "@jupyter-widgets/controls",
            "_model_module_version": "1.5.0",
            "_model_name": "FloatProgressModel",
            "_view_count": null,
            "_view_module": "@jupyter-widgets/controls",
            "_view_module_version": "1.5.0",
            "_view_name": "ProgressView",
            "bar_style": "success",
            "description": "",
            "description_tooltip": null,
            "layout": "IPY_MODEL_b2238ac44bb8424bb61207ef2e3fabdb",
            "max": 789120,
            "min": 0,
            "orientation": "horizontal",
            "style": "IPY_MODEL_711418a1b8c6454abc7901b452474988",
            "value": 789120
          }
        },
        "c7428646a71340e3ba87162016bbe02f": {
          "model_module": "@jupyter-widgets/controls",
          "model_name": "HTMLModel",
          "model_module_version": "1.5.0",
          "state": {
            "_dom_classes": [],
            "_model_module": "@jupyter-widgets/controls",
            "_model_module_version": "1.5.0",
            "_model_name": "HTMLModel",
            "_view_count": null,
            "_view_module": "@jupyter-widgets/controls",
            "_view_module_version": "1.5.0",
            "_view_name": "HTMLView",
            "description": "",
            "description_tooltip": null,
            "layout": "IPY_MODEL_23861d5ab1844187aed1c57ce5e0610f",
            "placeholder": "​",
            "style": "IPY_MODEL_21aa5379be394f819e105594766ffd7a",
            "value": " 789k/789k [00:00&lt;00:00, 3.43MB/s]"
          }
        },
        "9758e8a76a244971aae3f0b48f47201b": {
          "model_module": "@jupyter-widgets/base",
          "model_name": "LayoutModel",
          "model_module_version": "1.2.0",
          "state": {
            "_model_module": "@jupyter-widgets/base",
            "_model_module_version": "1.2.0",
            "_model_name": "LayoutModel",
            "_view_count": null,
            "_view_module": "@jupyter-widgets/base",
            "_view_module_version": "1.2.0",
            "_view_name": "LayoutView",
            "align_content": null,
            "align_items": null,
            "align_self": null,
            "border": null,
            "bottom": null,
            "display": null,
            "flex": null,
            "flex_flow": null,
            "grid_area": null,
            "grid_auto_columns": null,
            "grid_auto_flow": null,
            "grid_auto_rows": null,
            "grid_column": null,
            "grid_gap": null,
            "grid_row": null,
            "grid_template_areas": null,
            "grid_template_columns": null,
            "grid_template_rows": null,
            "height": null,
            "justify_content": null,
            "justify_items": null,
            "left": null,
            "margin": null,
            "max_height": null,
            "max_width": null,
            "min_height": null,
            "min_width": null,
            "object_fit": null,
            "object_position": null,
            "order": null,
            "overflow": null,
            "overflow_x": null,
            "overflow_y": null,
            "padding": null,
            "right": null,
            "top": null,
            "visibility": null,
            "width": null
          }
        },
        "f0245908a6e1431a8e9b8477435929ea": {
          "model_module": "@jupyter-widgets/base",
          "model_name": "LayoutModel",
          "model_module_version": "1.2.0",
          "state": {
            "_model_module": "@jupyter-widgets/base",
            "_model_module_version": "1.2.0",
            "_model_name": "LayoutModel",
            "_view_count": null,
            "_view_module": "@jupyter-widgets/base",
            "_view_module_version": "1.2.0",
            "_view_name": "LayoutView",
            "align_content": null,
            "align_items": null,
            "align_self": null,
            "border": null,
            "bottom": null,
            "display": null,
            "flex": null,
            "flex_flow": null,
            "grid_area": null,
            "grid_auto_columns": null,
            "grid_auto_flow": null,
            "grid_auto_rows": null,
            "grid_column": null,
            "grid_gap": null,
            "grid_row": null,
            "grid_template_areas": null,
            "grid_template_columns": null,
            "grid_template_rows": null,
            "height": null,
            "justify_content": null,
            "justify_items": null,
            "left": null,
            "margin": null,
            "max_height": null,
            "max_width": null,
            "min_height": null,
            "min_width": null,
            "object_fit": null,
            "object_position": null,
            "order": null,
            "overflow": null,
            "overflow_x": null,
            "overflow_y": null,
            "padding": null,
            "right": null,
            "top": null,
            "visibility": null,
            "width": null
          }
        },
        "7341b316e83a45b0a3fef8aac547f80e": {
          "model_module": "@jupyter-widgets/controls",
          "model_name": "DescriptionStyleModel",
          "model_module_version": "1.5.0",
          "state": {
            "_model_module": "@jupyter-widgets/controls",
            "_model_module_version": "1.5.0",
            "_model_name": "DescriptionStyleModel",
            "_view_count": null,
            "_view_module": "@jupyter-widgets/base",
            "_view_module_version": "1.2.0",
            "_view_name": "StyleView",
            "description_width": ""
          }
        },
        "b2238ac44bb8424bb61207ef2e3fabdb": {
          "model_module": "@jupyter-widgets/base",
          "model_name": "LayoutModel",
          "model_module_version": "1.2.0",
          "state": {
            "_model_module": "@jupyter-widgets/base",
            "_model_module_version": "1.2.0",
            "_model_name": "LayoutModel",
            "_view_count": null,
            "_view_module": "@jupyter-widgets/base",
            "_view_module_version": "1.2.0",
            "_view_name": "LayoutView",
            "align_content": null,
            "align_items": null,
            "align_self": null,
            "border": null,
            "bottom": null,
            "display": null,
            "flex": null,
            "flex_flow": null,
            "grid_area": null,
            "grid_auto_columns": null,
            "grid_auto_flow": null,
            "grid_auto_rows": null,
            "grid_column": null,
            "grid_gap": null,
            "grid_row": null,
            "grid_template_areas": null,
            "grid_template_columns": null,
            "grid_template_rows": null,
            "height": null,
            "justify_content": null,
            "justify_items": null,
            "left": null,
            "margin": null,
            "max_height": null,
            "max_width": null,
            "min_height": null,
            "min_width": null,
            "object_fit": null,
            "object_position": null,
            "order": null,
            "overflow": null,
            "overflow_x": null,
            "overflow_y": null,
            "padding": null,
            "right": null,
            "top": null,
            "visibility": null,
            "width": null
          }
        },
        "711418a1b8c6454abc7901b452474988": {
          "model_module": "@jupyter-widgets/controls",
          "model_name": "ProgressStyleModel",
          "model_module_version": "1.5.0",
          "state": {
            "_model_module": "@jupyter-widgets/controls",
            "_model_module_version": "1.5.0",
            "_model_name": "ProgressStyleModel",
            "_view_count": null,
            "_view_module": "@jupyter-widgets/base",
            "_view_module_version": "1.2.0",
            "_view_name": "StyleView",
            "bar_color": null,
            "description_width": ""
          }
        },
        "23861d5ab1844187aed1c57ce5e0610f": {
          "model_module": "@jupyter-widgets/base",
          "model_name": "LayoutModel",
          "model_module_version": "1.2.0",
          "state": {
            "_model_module": "@jupyter-widgets/base",
            "_model_module_version": "1.2.0",
            "_model_name": "LayoutModel",
            "_view_count": null,
            "_view_module": "@jupyter-widgets/base",
            "_view_module_version": "1.2.0",
            "_view_name": "LayoutView",
            "align_content": null,
            "align_items": null,
            "align_self": null,
            "border": null,
            "bottom": null,
            "display": null,
            "flex": null,
            "flex_flow": null,
            "grid_area": null,
            "grid_auto_columns": null,
            "grid_auto_flow": null,
            "grid_auto_rows": null,
            "grid_column": null,
            "grid_gap": null,
            "grid_row": null,
            "grid_template_areas": null,
            "grid_template_columns": null,
            "grid_template_rows": null,
            "height": null,
            "justify_content": null,
            "justify_items": null,
            "left": null,
            "margin": null,
            "max_height": null,
            "max_width": null,
            "min_height": null,
            "min_width": null,
            "object_fit": null,
            "object_position": null,
            "order": null,
            "overflow": null,
            "overflow_x": null,
            "overflow_y": null,
            "padding": null,
            "right": null,
            "top": null,
            "visibility": null,
            "width": null
          }
        },
        "21aa5379be394f819e105594766ffd7a": {
          "model_module": "@jupyter-widgets/controls",
          "model_name": "DescriptionStyleModel",
          "model_module_version": "1.5.0",
          "state": {
            "_model_module": "@jupyter-widgets/controls",
            "_model_module_version": "1.5.0",
            "_model_name": "DescriptionStyleModel",
            "_view_count": null,
            "_view_module": "@jupyter-widgets/base",
            "_view_module_version": "1.2.0",
            "_view_name": "StyleView",
            "description_width": ""
          }
        },
        "c6179219134745f2840d5c7cbb89cdcc": {
          "model_module": "@jupyter-widgets/controls",
          "model_name": "HBoxModel",
          "model_module_version": "1.5.0",
          "state": {
            "_dom_classes": [],
            "_model_module": "@jupyter-widgets/controls",
            "_model_module_version": "1.5.0",
            "_model_name": "HBoxModel",
            "_view_count": null,
            "_view_module": "@jupyter-widgets/controls",
            "_view_module_version": "1.5.0",
            "_view_name": "HBoxView",
            "box_style": "",
            "children": [
              "IPY_MODEL_ce0ce044a2e448e3b56cde1c0fd31e4c",
              "IPY_MODEL_dfa252b0dca04de19671a08d4b17166d",
              "IPY_MODEL_cf7a6b36950f41e583761ffc26c186a2"
            ],
            "layout": "IPY_MODEL_5699daa170614e5581bec46227ee55c4"
          }
        },
        "ce0ce044a2e448e3b56cde1c0fd31e4c": {
          "model_module": "@jupyter-widgets/controls",
          "model_name": "HTMLModel",
          "model_module_version": "1.5.0",
          "state": {
            "_dom_classes": [],
            "_model_module": "@jupyter-widgets/controls",
            "_model_module_version": "1.5.0",
            "_model_name": "HTMLModel",
            "_view_count": null,
            "_view_module": "@jupyter-widgets/controls",
            "_view_module_version": "1.5.0",
            "_view_name": "HTMLView",
            "description": "",
            "description_tooltip": null,
            "layout": "IPY_MODEL_c24bc5ba00e744d285a44fd4b713b73b",
            "placeholder": "​",
            "style": "IPY_MODEL_74719000907b4f60b7aed1888ad4bd87",
            "value": "pytorch_model.bin: 100%"
          }
        },
        "dfa252b0dca04de19671a08d4b17166d": {
          "model_module": "@jupyter-widgets/controls",
          "model_name": "FloatProgressModel",
          "model_module_version": "1.5.0",
          "state": {
            "_dom_classes": [],
            "_model_module": "@jupyter-widgets/controls",
            "_model_module_version": "1.5.0",
            "_model_name": "FloatProgressModel",
            "_view_count": null,
            "_view_module": "@jupyter-widgets/controls",
            "_view_module_version": "1.5.0",
            "_view_name": "ProgressView",
            "bar_style": "success",
            "description": "",
            "description_tooltip": null,
            "layout": "IPY_MODEL_7757d31f28494f5b9fcd89912981ce48",
            "max": 789120,
            "min": 0,
            "orientation": "horizontal",
            "style": "IPY_MODEL_ffc5fad857774325ae9184ee5be28c34",
            "value": 789120
          }
        },
        "cf7a6b36950f41e583761ffc26c186a2": {
          "model_module": "@jupyter-widgets/controls",
          "model_name": "HTMLModel",
          "model_module_version": "1.5.0",
          "state": {
            "_dom_classes": [],
            "_model_module": "@jupyter-widgets/controls",
            "_model_module_version": "1.5.0",
            "_model_name": "HTMLModel",
            "_view_count": null,
            "_view_module": "@jupyter-widgets/controls",
            "_view_module_version": "1.5.0",
            "_view_name": "HTMLView",
            "description": "",
            "description_tooltip": null,
            "layout": "IPY_MODEL_daf41b30d38d4ccda62932629b3171b6",
            "placeholder": "​",
            "style": "IPY_MODEL_f09e055e8f594b90967d6b8ecf8f9f14",
            "value": " 789k/789k [00:00&lt;00:00, 1.87MB/s]"
          }
        },
        "5699daa170614e5581bec46227ee55c4": {
          "model_module": "@jupyter-widgets/base",
          "model_name": "LayoutModel",
          "model_module_version": "1.2.0",
          "state": {
            "_model_module": "@jupyter-widgets/base",
            "_model_module_version": "1.2.0",
            "_model_name": "LayoutModel",
            "_view_count": null,
            "_view_module": "@jupyter-widgets/base",
            "_view_module_version": "1.2.0",
            "_view_name": "LayoutView",
            "align_content": null,
            "align_items": null,
            "align_self": null,
            "border": null,
            "bottom": null,
            "display": null,
            "flex": null,
            "flex_flow": null,
            "grid_area": null,
            "grid_auto_columns": null,
            "grid_auto_flow": null,
            "grid_auto_rows": null,
            "grid_column": null,
            "grid_gap": null,
            "grid_row": null,
            "grid_template_areas": null,
            "grid_template_columns": null,
            "grid_template_rows": null,
            "height": null,
            "justify_content": null,
            "justify_items": null,
            "left": null,
            "margin": null,
            "max_height": null,
            "max_width": null,
            "min_height": null,
            "min_width": null,
            "object_fit": null,
            "object_position": null,
            "order": null,
            "overflow": null,
            "overflow_x": null,
            "overflow_y": null,
            "padding": null,
            "right": null,
            "top": null,
            "visibility": null,
            "width": null
          }
        },
        "c24bc5ba00e744d285a44fd4b713b73b": {
          "model_module": "@jupyter-widgets/base",
          "model_name": "LayoutModel",
          "model_module_version": "1.2.0",
          "state": {
            "_model_module": "@jupyter-widgets/base",
            "_model_module_version": "1.2.0",
            "_model_name": "LayoutModel",
            "_view_count": null,
            "_view_module": "@jupyter-widgets/base",
            "_view_module_version": "1.2.0",
            "_view_name": "LayoutView",
            "align_content": null,
            "align_items": null,
            "align_self": null,
            "border": null,
            "bottom": null,
            "display": null,
            "flex": null,
            "flex_flow": null,
            "grid_area": null,
            "grid_auto_columns": null,
            "grid_auto_flow": null,
            "grid_auto_rows": null,
            "grid_column": null,
            "grid_gap": null,
            "grid_row": null,
            "grid_template_areas": null,
            "grid_template_columns": null,
            "grid_template_rows": null,
            "height": null,
            "justify_content": null,
            "justify_items": null,
            "left": null,
            "margin": null,
            "max_height": null,
            "max_width": null,
            "min_height": null,
            "min_width": null,
            "object_fit": null,
            "object_position": null,
            "order": null,
            "overflow": null,
            "overflow_x": null,
            "overflow_y": null,
            "padding": null,
            "right": null,
            "top": null,
            "visibility": null,
            "width": null
          }
        },
        "74719000907b4f60b7aed1888ad4bd87": {
          "model_module": "@jupyter-widgets/controls",
          "model_name": "DescriptionStyleModel",
          "model_module_version": "1.5.0",
          "state": {
            "_model_module": "@jupyter-widgets/controls",
            "_model_module_version": "1.5.0",
            "_model_name": "DescriptionStyleModel",
            "_view_count": null,
            "_view_module": "@jupyter-widgets/base",
            "_view_module_version": "1.2.0",
            "_view_name": "StyleView",
            "description_width": ""
          }
        },
        "7757d31f28494f5b9fcd89912981ce48": {
          "model_module": "@jupyter-widgets/base",
          "model_name": "LayoutModel",
          "model_module_version": "1.2.0",
          "state": {
            "_model_module": "@jupyter-widgets/base",
            "_model_module_version": "1.2.0",
            "_model_name": "LayoutModel",
            "_view_count": null,
            "_view_module": "@jupyter-widgets/base",
            "_view_module_version": "1.2.0",
            "_view_name": "LayoutView",
            "align_content": null,
            "align_items": null,
            "align_self": null,
            "border": null,
            "bottom": null,
            "display": null,
            "flex": null,
            "flex_flow": null,
            "grid_area": null,
            "grid_auto_columns": null,
            "grid_auto_flow": null,
            "grid_auto_rows": null,
            "grid_column": null,
            "grid_gap": null,
            "grid_row": null,
            "grid_template_areas": null,
            "grid_template_columns": null,
            "grid_template_rows": null,
            "height": null,
            "justify_content": null,
            "justify_items": null,
            "left": null,
            "margin": null,
            "max_height": null,
            "max_width": null,
            "min_height": null,
            "min_width": null,
            "object_fit": null,
            "object_position": null,
            "order": null,
            "overflow": null,
            "overflow_x": null,
            "overflow_y": null,
            "padding": null,
            "right": null,
            "top": null,
            "visibility": null,
            "width": null
          }
        },
        "ffc5fad857774325ae9184ee5be28c34": {
          "model_module": "@jupyter-widgets/controls",
          "model_name": "ProgressStyleModel",
          "model_module_version": "1.5.0",
          "state": {
            "_model_module": "@jupyter-widgets/controls",
            "_model_module_version": "1.5.0",
            "_model_name": "ProgressStyleModel",
            "_view_count": null,
            "_view_module": "@jupyter-widgets/base",
            "_view_module_version": "1.2.0",
            "_view_name": "StyleView",
            "bar_color": null,
            "description_width": ""
          }
        },
        "daf41b30d38d4ccda62932629b3171b6": {
          "model_module": "@jupyter-widgets/base",
          "model_name": "LayoutModel",
          "model_module_version": "1.2.0",
          "state": {
            "_model_module": "@jupyter-widgets/base",
            "_model_module_version": "1.2.0",
            "_model_name": "LayoutModel",
            "_view_count": null,
            "_view_module": "@jupyter-widgets/base",
            "_view_module_version": "1.2.0",
            "_view_name": "LayoutView",
            "align_content": null,
            "align_items": null,
            "align_self": null,
            "border": null,
            "bottom": null,
            "display": null,
            "flex": null,
            "flex_flow": null,
            "grid_area": null,
            "grid_auto_columns": null,
            "grid_auto_flow": null,
            "grid_auto_rows": null,
            "grid_column": null,
            "grid_gap": null,
            "grid_row": null,
            "grid_template_areas": null,
            "grid_template_columns": null,
            "grid_template_rows": null,
            "height": null,
            "justify_content": null,
            "justify_items": null,
            "left": null,
            "margin": null,
            "max_height": null,
            "max_width": null,
            "min_height": null,
            "min_width": null,
            "object_fit": null,
            "object_position": null,
            "order": null,
            "overflow": null,
            "overflow_x": null,
            "overflow_y": null,
            "padding": null,
            "right": null,
            "top": null,
            "visibility": null,
            "width": null
          }
        },
        "f09e055e8f594b90967d6b8ecf8f9f14": {
          "model_module": "@jupyter-widgets/controls",
          "model_name": "DescriptionStyleModel",
          "model_module_version": "1.5.0",
          "state": {
            "_model_module": "@jupyter-widgets/controls",
            "_model_module_version": "1.5.0",
            "_model_name": "DescriptionStyleModel",
            "_view_count": null,
            "_view_module": "@jupyter-widgets/base",
            "_view_module_version": "1.2.0",
            "_view_name": "StyleView",
            "description_width": ""
          }
        },
        "0662586c10484f28b62ab99ac7e774ae": {
          "model_module": "@jupyter-widgets/controls",
          "model_name": "HBoxModel",
          "model_module_version": "1.5.0",
          "state": {
            "_dom_classes": [],
            "_model_module": "@jupyter-widgets/controls",
            "_model_module_version": "1.5.0",
            "_model_name": "HBoxModel",
            "_view_count": null,
            "_view_module": "@jupyter-widgets/controls",
            "_view_module_version": "1.5.0",
            "_view_name": "HBoxView",
            "box_style": "",
            "children": [
              "IPY_MODEL_a1d51b4a8f8f40139e2aa09f833cba1c",
              "IPY_MODEL_85f7421681494792b67efb74efb24a1b",
              "IPY_MODEL_a8cd395affce49db921d2ffb9e4313c9"
            ],
            "layout": "IPY_MODEL_d90727383d7846cf8227a460e031160a"
          }
        },
        "a1d51b4a8f8f40139e2aa09f833cba1c": {
          "model_module": "@jupyter-widgets/controls",
          "model_name": "HTMLModel",
          "model_module_version": "1.5.0",
          "state": {
            "_dom_classes": [],
            "_model_module": "@jupyter-widgets/controls",
            "_model_module_version": "1.5.0",
            "_model_name": "HTMLModel",
            "_view_count": null,
            "_view_module": "@jupyter-widgets/controls",
            "_view_module_version": "1.5.0",
            "_view_name": "HTMLView",
            "description": "",
            "description_tooltip": null,
            "layout": "IPY_MODEL_d4662e99f4d04968982df02972d8da33",
            "placeholder": "​",
            "style": "IPY_MODEL_232b8f67762e42e9b5fa057c4aa942e9",
            "value": "pytorch_model.bin: 100%"
          }
        },
        "85f7421681494792b67efb74efb24a1b": {
          "model_module": "@jupyter-widgets/controls",
          "model_name": "FloatProgressModel",
          "model_module_version": "1.5.0",
          "state": {
            "_dom_classes": [],
            "_model_module": "@jupyter-widgets/controls",
            "_model_module_version": "1.5.0",
            "_model_name": "FloatProgressModel",
            "_view_count": null,
            "_view_module": "@jupyter-widgets/controls",
            "_view_module_version": "1.5.0",
            "_view_name": "ProgressView",
            "bar_style": "success",
            "description": "",
            "description_tooltip": null,
            "layout": "IPY_MODEL_6d7e166b797b45ee9f535a3e92fe0de7",
            "max": 789120,
            "min": 0,
            "orientation": "horizontal",
            "style": "IPY_MODEL_1736f950d2ec48918f318bcef88c3f79",
            "value": 789120
          }
        },
        "a8cd395affce49db921d2ffb9e4313c9": {
          "model_module": "@jupyter-widgets/controls",
          "model_name": "HTMLModel",
          "model_module_version": "1.5.0",
          "state": {
            "_dom_classes": [],
            "_model_module": "@jupyter-widgets/controls",
            "_model_module_version": "1.5.0",
            "_model_name": "HTMLModel",
            "_view_count": null,
            "_view_module": "@jupyter-widgets/controls",
            "_view_module_version": "1.5.0",
            "_view_name": "HTMLView",
            "description": "",
            "description_tooltip": null,
            "layout": "IPY_MODEL_73c2ce634569434ca1f2ae5a2f03a937",
            "placeholder": "​",
            "style": "IPY_MODEL_28718e018c7440fd9805296c713dde38",
            "value": " 789k/789k [00:00&lt;00:00, 1.61MB/s]"
          }
        },
        "d90727383d7846cf8227a460e031160a": {
          "model_module": "@jupyter-widgets/base",
          "model_name": "LayoutModel",
          "model_module_version": "1.2.0",
          "state": {
            "_model_module": "@jupyter-widgets/base",
            "_model_module_version": "1.2.0",
            "_model_name": "LayoutModel",
            "_view_count": null,
            "_view_module": "@jupyter-widgets/base",
            "_view_module_version": "1.2.0",
            "_view_name": "LayoutView",
            "align_content": null,
            "align_items": null,
            "align_self": null,
            "border": null,
            "bottom": null,
            "display": null,
            "flex": null,
            "flex_flow": null,
            "grid_area": null,
            "grid_auto_columns": null,
            "grid_auto_flow": null,
            "grid_auto_rows": null,
            "grid_column": null,
            "grid_gap": null,
            "grid_row": null,
            "grid_template_areas": null,
            "grid_template_columns": null,
            "grid_template_rows": null,
            "height": null,
            "justify_content": null,
            "justify_items": null,
            "left": null,
            "margin": null,
            "max_height": null,
            "max_width": null,
            "min_height": null,
            "min_width": null,
            "object_fit": null,
            "object_position": null,
            "order": null,
            "overflow": null,
            "overflow_x": null,
            "overflow_y": null,
            "padding": null,
            "right": null,
            "top": null,
            "visibility": null,
            "width": null
          }
        },
        "d4662e99f4d04968982df02972d8da33": {
          "model_module": "@jupyter-widgets/base",
          "model_name": "LayoutModel",
          "model_module_version": "1.2.0",
          "state": {
            "_model_module": "@jupyter-widgets/base",
            "_model_module_version": "1.2.0",
            "_model_name": "LayoutModel",
            "_view_count": null,
            "_view_module": "@jupyter-widgets/base",
            "_view_module_version": "1.2.0",
            "_view_name": "LayoutView",
            "align_content": null,
            "align_items": null,
            "align_self": null,
            "border": null,
            "bottom": null,
            "display": null,
            "flex": null,
            "flex_flow": null,
            "grid_area": null,
            "grid_auto_columns": null,
            "grid_auto_flow": null,
            "grid_auto_rows": null,
            "grid_column": null,
            "grid_gap": null,
            "grid_row": null,
            "grid_template_areas": null,
            "grid_template_columns": null,
            "grid_template_rows": null,
            "height": null,
            "justify_content": null,
            "justify_items": null,
            "left": null,
            "margin": null,
            "max_height": null,
            "max_width": null,
            "min_height": null,
            "min_width": null,
            "object_fit": null,
            "object_position": null,
            "order": null,
            "overflow": null,
            "overflow_x": null,
            "overflow_y": null,
            "padding": null,
            "right": null,
            "top": null,
            "visibility": null,
            "width": null
          }
        },
        "232b8f67762e42e9b5fa057c4aa942e9": {
          "model_module": "@jupyter-widgets/controls",
          "model_name": "DescriptionStyleModel",
          "model_module_version": "1.5.0",
          "state": {
            "_model_module": "@jupyter-widgets/controls",
            "_model_module_version": "1.5.0",
            "_model_name": "DescriptionStyleModel",
            "_view_count": null,
            "_view_module": "@jupyter-widgets/base",
            "_view_module_version": "1.2.0",
            "_view_name": "StyleView",
            "description_width": ""
          }
        },
        "6d7e166b797b45ee9f535a3e92fe0de7": {
          "model_module": "@jupyter-widgets/base",
          "model_name": "LayoutModel",
          "model_module_version": "1.2.0",
          "state": {
            "_model_module": "@jupyter-widgets/base",
            "_model_module_version": "1.2.0",
            "_model_name": "LayoutModel",
            "_view_count": null,
            "_view_module": "@jupyter-widgets/base",
            "_view_module_version": "1.2.0",
            "_view_name": "LayoutView",
            "align_content": null,
            "align_items": null,
            "align_self": null,
            "border": null,
            "bottom": null,
            "display": null,
            "flex": null,
            "flex_flow": null,
            "grid_area": null,
            "grid_auto_columns": null,
            "grid_auto_flow": null,
            "grid_auto_rows": null,
            "grid_column": null,
            "grid_gap": null,
            "grid_row": null,
            "grid_template_areas": null,
            "grid_template_columns": null,
            "grid_template_rows": null,
            "height": null,
            "justify_content": null,
            "justify_items": null,
            "left": null,
            "margin": null,
            "max_height": null,
            "max_width": null,
            "min_height": null,
            "min_width": null,
            "object_fit": null,
            "object_position": null,
            "order": null,
            "overflow": null,
            "overflow_x": null,
            "overflow_y": null,
            "padding": null,
            "right": null,
            "top": null,
            "visibility": null,
            "width": null
          }
        },
        "1736f950d2ec48918f318bcef88c3f79": {
          "model_module": "@jupyter-widgets/controls",
          "model_name": "ProgressStyleModel",
          "model_module_version": "1.5.0",
          "state": {
            "_model_module": "@jupyter-widgets/controls",
            "_model_module_version": "1.5.0",
            "_model_name": "ProgressStyleModel",
            "_view_count": null,
            "_view_module": "@jupyter-widgets/base",
            "_view_module_version": "1.2.0",
            "_view_name": "StyleView",
            "bar_color": null,
            "description_width": ""
          }
        },
        "73c2ce634569434ca1f2ae5a2f03a937": {
          "model_module": "@jupyter-widgets/base",
          "model_name": "LayoutModel",
          "model_module_version": "1.2.0",
          "state": {
            "_model_module": "@jupyter-widgets/base",
            "_model_module_version": "1.2.0",
            "_model_name": "LayoutModel",
            "_view_count": null,
            "_view_module": "@jupyter-widgets/base",
            "_view_module_version": "1.2.0",
            "_view_name": "LayoutView",
            "align_content": null,
            "align_items": null,
            "align_self": null,
            "border": null,
            "bottom": null,
            "display": null,
            "flex": null,
            "flex_flow": null,
            "grid_area": null,
            "grid_auto_columns": null,
            "grid_auto_flow": null,
            "grid_auto_rows": null,
            "grid_column": null,
            "grid_gap": null,
            "grid_row": null,
            "grid_template_areas": null,
            "grid_template_columns": null,
            "grid_template_rows": null,
            "height": null,
            "justify_content": null,
            "justify_items": null,
            "left": null,
            "margin": null,
            "max_height": null,
            "max_width": null,
            "min_height": null,
            "min_width": null,
            "object_fit": null,
            "object_position": null,
            "order": null,
            "overflow": null,
            "overflow_x": null,
            "overflow_y": null,
            "padding": null,
            "right": null,
            "top": null,
            "visibility": null,
            "width": null
          }
        },
        "28718e018c7440fd9805296c713dde38": {
          "model_module": "@jupyter-widgets/controls",
          "model_name": "DescriptionStyleModel",
          "model_module_version": "1.5.0",
          "state": {
            "_model_module": "@jupyter-widgets/controls",
            "_model_module_version": "1.5.0",
            "_model_name": "DescriptionStyleModel",
            "_view_count": null,
            "_view_module": "@jupyter-widgets/base",
            "_view_module_version": "1.2.0",
            "_view_name": "StyleView",
            "description_width": ""
          }
        },
        "f86388612c0941288e34fb1f37b247ec": {
          "model_module": "@jupyter-widgets/controls",
          "model_name": "HBoxModel",
          "model_module_version": "1.5.0",
          "state": {
            "_dom_classes": [],
            "_model_module": "@jupyter-widgets/controls",
            "_model_module_version": "1.5.0",
            "_model_name": "HBoxModel",
            "_view_count": null,
            "_view_module": "@jupyter-widgets/controls",
            "_view_module_version": "1.5.0",
            "_view_name": "HBoxView",
            "box_style": "",
            "children": [
              "IPY_MODEL_4309a277cef94e7182ad334ae729c856",
              "IPY_MODEL_d98036830f89425ca0da59c9fefaa9cf",
              "IPY_MODEL_33555db34c5c4dc2a0ef0941d52c983d"
            ],
            "layout": "IPY_MODEL_9b66e1971aeb441a87dcdeafa177e3ea"
          }
        },
        "4309a277cef94e7182ad334ae729c856": {
          "model_module": "@jupyter-widgets/controls",
          "model_name": "HTMLModel",
          "model_module_version": "1.5.0",
          "state": {
            "_dom_classes": [],
            "_model_module": "@jupyter-widgets/controls",
            "_model_module_version": "1.5.0",
            "_model_name": "HTMLModel",
            "_view_count": null,
            "_view_module": "@jupyter-widgets/controls",
            "_view_module_version": "1.5.0",
            "_view_name": "HTMLView",
            "description": "",
            "description_tooltip": null,
            "layout": "IPY_MODEL_5f0e77555cf9459986012952787cdf27",
            "placeholder": "​",
            "style": "IPY_MODEL_490b5a8b11d844e7a00da75798a55ede",
            "value": "pytorch_model.bin: 100%"
          }
        },
        "d98036830f89425ca0da59c9fefaa9cf": {
          "model_module": "@jupyter-widgets/controls",
          "model_name": "FloatProgressModel",
          "model_module_version": "1.5.0",
          "state": {
            "_dom_classes": [],
            "_model_module": "@jupyter-widgets/controls",
            "_model_module_version": "1.5.0",
            "_model_name": "FloatProgressModel",
            "_view_count": null,
            "_view_module": "@jupyter-widgets/controls",
            "_view_module_version": "1.5.0",
            "_view_name": "ProgressView",
            "bar_style": "success",
            "description": "",
            "description_tooltip": null,
            "layout": "IPY_MODEL_3cab5238925d43a6816867eda800f04f",
            "max": 789120,
            "min": 0,
            "orientation": "horizontal",
            "style": "IPY_MODEL_52f27ffa72e045baadc859ece3aae020",
            "value": 789120
          }
        },
        "33555db34c5c4dc2a0ef0941d52c983d": {
          "model_module": "@jupyter-widgets/controls",
          "model_name": "HTMLModel",
          "model_module_version": "1.5.0",
          "state": {
            "_dom_classes": [],
            "_model_module": "@jupyter-widgets/controls",
            "_model_module_version": "1.5.0",
            "_model_name": "HTMLModel",
            "_view_count": null,
            "_view_module": "@jupyter-widgets/controls",
            "_view_module_version": "1.5.0",
            "_view_name": "HTMLView",
            "description": "",
            "description_tooltip": null,
            "layout": "IPY_MODEL_8198f55143d0430a8ec97a22b1e59a64",
            "placeholder": "​",
            "style": "IPY_MODEL_3dd2c6babaee424cb1b59674305d509a",
            "value": " 789k/789k [00:00&lt;00:00, 1.51MB/s]"
          }
        },
        "9b66e1971aeb441a87dcdeafa177e3ea": {
          "model_module": "@jupyter-widgets/base",
          "model_name": "LayoutModel",
          "model_module_version": "1.2.0",
          "state": {
            "_model_module": "@jupyter-widgets/base",
            "_model_module_version": "1.2.0",
            "_model_name": "LayoutModel",
            "_view_count": null,
            "_view_module": "@jupyter-widgets/base",
            "_view_module_version": "1.2.0",
            "_view_name": "LayoutView",
            "align_content": null,
            "align_items": null,
            "align_self": null,
            "border": null,
            "bottom": null,
            "display": null,
            "flex": null,
            "flex_flow": null,
            "grid_area": null,
            "grid_auto_columns": null,
            "grid_auto_flow": null,
            "grid_auto_rows": null,
            "grid_column": null,
            "grid_gap": null,
            "grid_row": null,
            "grid_template_areas": null,
            "grid_template_columns": null,
            "grid_template_rows": null,
            "height": null,
            "justify_content": null,
            "justify_items": null,
            "left": null,
            "margin": null,
            "max_height": null,
            "max_width": null,
            "min_height": null,
            "min_width": null,
            "object_fit": null,
            "object_position": null,
            "order": null,
            "overflow": null,
            "overflow_x": null,
            "overflow_y": null,
            "padding": null,
            "right": null,
            "top": null,
            "visibility": null,
            "width": null
          }
        },
        "5f0e77555cf9459986012952787cdf27": {
          "model_module": "@jupyter-widgets/base",
          "model_name": "LayoutModel",
          "model_module_version": "1.2.0",
          "state": {
            "_model_module": "@jupyter-widgets/base",
            "_model_module_version": "1.2.0",
            "_model_name": "LayoutModel",
            "_view_count": null,
            "_view_module": "@jupyter-widgets/base",
            "_view_module_version": "1.2.0",
            "_view_name": "LayoutView",
            "align_content": null,
            "align_items": null,
            "align_self": null,
            "border": null,
            "bottom": null,
            "display": null,
            "flex": null,
            "flex_flow": null,
            "grid_area": null,
            "grid_auto_columns": null,
            "grid_auto_flow": null,
            "grid_auto_rows": null,
            "grid_column": null,
            "grid_gap": null,
            "grid_row": null,
            "grid_template_areas": null,
            "grid_template_columns": null,
            "grid_template_rows": null,
            "height": null,
            "justify_content": null,
            "justify_items": null,
            "left": null,
            "margin": null,
            "max_height": null,
            "max_width": null,
            "min_height": null,
            "min_width": null,
            "object_fit": null,
            "object_position": null,
            "order": null,
            "overflow": null,
            "overflow_x": null,
            "overflow_y": null,
            "padding": null,
            "right": null,
            "top": null,
            "visibility": null,
            "width": null
          }
        },
        "490b5a8b11d844e7a00da75798a55ede": {
          "model_module": "@jupyter-widgets/controls",
          "model_name": "DescriptionStyleModel",
          "model_module_version": "1.5.0",
          "state": {
            "_model_module": "@jupyter-widgets/controls",
            "_model_module_version": "1.5.0",
            "_model_name": "DescriptionStyleModel",
            "_view_count": null,
            "_view_module": "@jupyter-widgets/base",
            "_view_module_version": "1.2.0",
            "_view_name": "StyleView",
            "description_width": ""
          }
        },
        "3cab5238925d43a6816867eda800f04f": {
          "model_module": "@jupyter-widgets/base",
          "model_name": "LayoutModel",
          "model_module_version": "1.2.0",
          "state": {
            "_model_module": "@jupyter-widgets/base",
            "_model_module_version": "1.2.0",
            "_model_name": "LayoutModel",
            "_view_count": null,
            "_view_module": "@jupyter-widgets/base",
            "_view_module_version": "1.2.0",
            "_view_name": "LayoutView",
            "align_content": null,
            "align_items": null,
            "align_self": null,
            "border": null,
            "bottom": null,
            "display": null,
            "flex": null,
            "flex_flow": null,
            "grid_area": null,
            "grid_auto_columns": null,
            "grid_auto_flow": null,
            "grid_auto_rows": null,
            "grid_column": null,
            "grid_gap": null,
            "grid_row": null,
            "grid_template_areas": null,
            "grid_template_columns": null,
            "grid_template_rows": null,
            "height": null,
            "justify_content": null,
            "justify_items": null,
            "left": null,
            "margin": null,
            "max_height": null,
            "max_width": null,
            "min_height": null,
            "min_width": null,
            "object_fit": null,
            "object_position": null,
            "order": null,
            "overflow": null,
            "overflow_x": null,
            "overflow_y": null,
            "padding": null,
            "right": null,
            "top": null,
            "visibility": null,
            "width": null
          }
        },
        "52f27ffa72e045baadc859ece3aae020": {
          "model_module": "@jupyter-widgets/controls",
          "model_name": "ProgressStyleModel",
          "model_module_version": "1.5.0",
          "state": {
            "_model_module": "@jupyter-widgets/controls",
            "_model_module_version": "1.5.0",
            "_model_name": "ProgressStyleModel",
            "_view_count": null,
            "_view_module": "@jupyter-widgets/base",
            "_view_module_version": "1.2.0",
            "_view_name": "StyleView",
            "bar_color": null,
            "description_width": ""
          }
        },
        "8198f55143d0430a8ec97a22b1e59a64": {
          "model_module": "@jupyter-widgets/base",
          "model_name": "LayoutModel",
          "model_module_version": "1.2.0",
          "state": {
            "_model_module": "@jupyter-widgets/base",
            "_model_module_version": "1.2.0",
            "_model_name": "LayoutModel",
            "_view_count": null,
            "_view_module": "@jupyter-widgets/base",
            "_view_module_version": "1.2.0",
            "_view_name": "LayoutView",
            "align_content": null,
            "align_items": null,
            "align_self": null,
            "border": null,
            "bottom": null,
            "display": null,
            "flex": null,
            "flex_flow": null,
            "grid_area": null,
            "grid_auto_columns": null,
            "grid_auto_flow": null,
            "grid_auto_rows": null,
            "grid_column": null,
            "grid_gap": null,
            "grid_row": null,
            "grid_template_areas": null,
            "grid_template_columns": null,
            "grid_template_rows": null,
            "height": null,
            "justify_content": null,
            "justify_items": null,
            "left": null,
            "margin": null,
            "max_height": null,
            "max_width": null,
            "min_height": null,
            "min_width": null,
            "object_fit": null,
            "object_position": null,
            "order": null,
            "overflow": null,
            "overflow_x": null,
            "overflow_y": null,
            "padding": null,
            "right": null,
            "top": null,
            "visibility": null,
            "width": null
          }
        },
        "3dd2c6babaee424cb1b59674305d509a": {
          "model_module": "@jupyter-widgets/controls",
          "model_name": "DescriptionStyleModel",
          "model_module_version": "1.5.0",
          "state": {
            "_model_module": "@jupyter-widgets/controls",
            "_model_module_version": "1.5.0",
            "_model_name": "DescriptionStyleModel",
            "_view_count": null,
            "_view_module": "@jupyter-widgets/base",
            "_view_module_version": "1.2.0",
            "_view_name": "StyleView",
            "description_width": ""
          }
        },
        "a5aa68f0affc4418901c9eef71ee82e9": {
          "model_module": "@jupyter-widgets/controls",
          "model_name": "HBoxModel",
          "model_module_version": "1.5.0",
          "state": {
            "_dom_classes": [],
            "_model_module": "@jupyter-widgets/controls",
            "_model_module_version": "1.5.0",
            "_model_name": "HBoxModel",
            "_view_count": null,
            "_view_module": "@jupyter-widgets/controls",
            "_view_module_version": "1.5.0",
            "_view_name": "HBoxView",
            "box_style": "",
            "children": [
              "IPY_MODEL_a8a0571e74f84fe2ae4e4f21d91f38d5",
              "IPY_MODEL_b103fc4264394d8291be7ab71892f3bf",
              "IPY_MODEL_7f5b574a31574aad87489b4623201b8f"
            ],
            "layout": "IPY_MODEL_0490ba44110f4bca8f7f5b5e59f47b73"
          }
        },
        "a8a0571e74f84fe2ae4e4f21d91f38d5": {
          "model_module": "@jupyter-widgets/controls",
          "model_name": "HTMLModel",
          "model_module_version": "1.5.0",
          "state": {
            "_dom_classes": [],
            "_model_module": "@jupyter-widgets/controls",
            "_model_module_version": "1.5.0",
            "_model_name": "HTMLModel",
            "_view_count": null,
            "_view_module": "@jupyter-widgets/controls",
            "_view_module_version": "1.5.0",
            "_view_name": "HTMLView",
            "description": "",
            "description_tooltip": null,
            "layout": "IPY_MODEL_9ca9e9511c9a46cb8494b1a9df674c0c",
            "placeholder": "​",
            "style": "IPY_MODEL_477d0b9f53704fc1a70b97a9aa8500fa",
            "value": "pytorch_model.bin: 100%"
          }
        },
        "b103fc4264394d8291be7ab71892f3bf": {
          "model_module": "@jupyter-widgets/controls",
          "model_name": "FloatProgressModel",
          "model_module_version": "1.5.0",
          "state": {
            "_dom_classes": [],
            "_model_module": "@jupyter-widgets/controls",
            "_model_module_version": "1.5.0",
            "_model_name": "FloatProgressModel",
            "_view_count": null,
            "_view_module": "@jupyter-widgets/controls",
            "_view_module_version": "1.5.0",
            "_view_name": "ProgressView",
            "bar_style": "success",
            "description": "",
            "description_tooltip": null,
            "layout": "IPY_MODEL_81562e705a6e49918e9e08edc8e4172b",
            "max": 789120,
            "min": 0,
            "orientation": "horizontal",
            "style": "IPY_MODEL_e5c253e4d1e8496b8d009487e995976b",
            "value": 789120
          }
        },
        "7f5b574a31574aad87489b4623201b8f": {
          "model_module": "@jupyter-widgets/controls",
          "model_name": "HTMLModel",
          "model_module_version": "1.5.0",
          "state": {
            "_dom_classes": [],
            "_model_module": "@jupyter-widgets/controls",
            "_model_module_version": "1.5.0",
            "_model_name": "HTMLModel",
            "_view_count": null,
            "_view_module": "@jupyter-widgets/controls",
            "_view_module_version": "1.5.0",
            "_view_name": "HTMLView",
            "description": "",
            "description_tooltip": null,
            "layout": "IPY_MODEL_a31ec78f1a7b4979bf2320f135e3e1dd",
            "placeholder": "​",
            "style": "IPY_MODEL_ce230473aefd46bd9eb784b39afaa44a",
            "value": " 789k/789k [00:00&lt;00:00, 1.34MB/s]"
          }
        },
        "0490ba44110f4bca8f7f5b5e59f47b73": {
          "model_module": "@jupyter-widgets/base",
          "model_name": "LayoutModel",
          "model_module_version": "1.2.0",
          "state": {
            "_model_module": "@jupyter-widgets/base",
            "_model_module_version": "1.2.0",
            "_model_name": "LayoutModel",
            "_view_count": null,
            "_view_module": "@jupyter-widgets/base",
            "_view_module_version": "1.2.0",
            "_view_name": "LayoutView",
            "align_content": null,
            "align_items": null,
            "align_self": null,
            "border": null,
            "bottom": null,
            "display": null,
            "flex": null,
            "flex_flow": null,
            "grid_area": null,
            "grid_auto_columns": null,
            "grid_auto_flow": null,
            "grid_auto_rows": null,
            "grid_column": null,
            "grid_gap": null,
            "grid_row": null,
            "grid_template_areas": null,
            "grid_template_columns": null,
            "grid_template_rows": null,
            "height": null,
            "justify_content": null,
            "justify_items": null,
            "left": null,
            "margin": null,
            "max_height": null,
            "max_width": null,
            "min_height": null,
            "min_width": null,
            "object_fit": null,
            "object_position": null,
            "order": null,
            "overflow": null,
            "overflow_x": null,
            "overflow_y": null,
            "padding": null,
            "right": null,
            "top": null,
            "visibility": null,
            "width": null
          }
        },
        "9ca9e9511c9a46cb8494b1a9df674c0c": {
          "model_module": "@jupyter-widgets/base",
          "model_name": "LayoutModel",
          "model_module_version": "1.2.0",
          "state": {
            "_model_module": "@jupyter-widgets/base",
            "_model_module_version": "1.2.0",
            "_model_name": "LayoutModel",
            "_view_count": null,
            "_view_module": "@jupyter-widgets/base",
            "_view_module_version": "1.2.0",
            "_view_name": "LayoutView",
            "align_content": null,
            "align_items": null,
            "align_self": null,
            "border": null,
            "bottom": null,
            "display": null,
            "flex": null,
            "flex_flow": null,
            "grid_area": null,
            "grid_auto_columns": null,
            "grid_auto_flow": null,
            "grid_auto_rows": null,
            "grid_column": null,
            "grid_gap": null,
            "grid_row": null,
            "grid_template_areas": null,
            "grid_template_columns": null,
            "grid_template_rows": null,
            "height": null,
            "justify_content": null,
            "justify_items": null,
            "left": null,
            "margin": null,
            "max_height": null,
            "max_width": null,
            "min_height": null,
            "min_width": null,
            "object_fit": null,
            "object_position": null,
            "order": null,
            "overflow": null,
            "overflow_x": null,
            "overflow_y": null,
            "padding": null,
            "right": null,
            "top": null,
            "visibility": null,
            "width": null
          }
        },
        "477d0b9f53704fc1a70b97a9aa8500fa": {
          "model_module": "@jupyter-widgets/controls",
          "model_name": "DescriptionStyleModel",
          "model_module_version": "1.5.0",
          "state": {
            "_model_module": "@jupyter-widgets/controls",
            "_model_module_version": "1.5.0",
            "_model_name": "DescriptionStyleModel",
            "_view_count": null,
            "_view_module": "@jupyter-widgets/base",
            "_view_module_version": "1.2.0",
            "_view_name": "StyleView",
            "description_width": ""
          }
        },
        "81562e705a6e49918e9e08edc8e4172b": {
          "model_module": "@jupyter-widgets/base",
          "model_name": "LayoutModel",
          "model_module_version": "1.2.0",
          "state": {
            "_model_module": "@jupyter-widgets/base",
            "_model_module_version": "1.2.0",
            "_model_name": "LayoutModel",
            "_view_count": null,
            "_view_module": "@jupyter-widgets/base",
            "_view_module_version": "1.2.0",
            "_view_name": "LayoutView",
            "align_content": null,
            "align_items": null,
            "align_self": null,
            "border": null,
            "bottom": null,
            "display": null,
            "flex": null,
            "flex_flow": null,
            "grid_area": null,
            "grid_auto_columns": null,
            "grid_auto_flow": null,
            "grid_auto_rows": null,
            "grid_column": null,
            "grid_gap": null,
            "grid_row": null,
            "grid_template_areas": null,
            "grid_template_columns": null,
            "grid_template_rows": null,
            "height": null,
            "justify_content": null,
            "justify_items": null,
            "left": null,
            "margin": null,
            "max_height": null,
            "max_width": null,
            "min_height": null,
            "min_width": null,
            "object_fit": null,
            "object_position": null,
            "order": null,
            "overflow": null,
            "overflow_x": null,
            "overflow_y": null,
            "padding": null,
            "right": null,
            "top": null,
            "visibility": null,
            "width": null
          }
        },
        "e5c253e4d1e8496b8d009487e995976b": {
          "model_module": "@jupyter-widgets/controls",
          "model_name": "ProgressStyleModel",
          "model_module_version": "1.5.0",
          "state": {
            "_model_module": "@jupyter-widgets/controls",
            "_model_module_version": "1.5.0",
            "_model_name": "ProgressStyleModel",
            "_view_count": null,
            "_view_module": "@jupyter-widgets/base",
            "_view_module_version": "1.2.0",
            "_view_name": "StyleView",
            "bar_color": null,
            "description_width": ""
          }
        },
        "a31ec78f1a7b4979bf2320f135e3e1dd": {
          "model_module": "@jupyter-widgets/base",
          "model_name": "LayoutModel",
          "model_module_version": "1.2.0",
          "state": {
            "_model_module": "@jupyter-widgets/base",
            "_model_module_version": "1.2.0",
            "_model_name": "LayoutModel",
            "_view_count": null,
            "_view_module": "@jupyter-widgets/base",
            "_view_module_version": "1.2.0",
            "_view_name": "LayoutView",
            "align_content": null,
            "align_items": null,
            "align_self": null,
            "border": null,
            "bottom": null,
            "display": null,
            "flex": null,
            "flex_flow": null,
            "grid_area": null,
            "grid_auto_columns": null,
            "grid_auto_flow": null,
            "grid_auto_rows": null,
            "grid_column": null,
            "grid_gap": null,
            "grid_row": null,
            "grid_template_areas": null,
            "grid_template_columns": null,
            "grid_template_rows": null,
            "height": null,
            "justify_content": null,
            "justify_items": null,
            "left": null,
            "margin": null,
            "max_height": null,
            "max_width": null,
            "min_height": null,
            "min_width": null,
            "object_fit": null,
            "object_position": null,
            "order": null,
            "overflow": null,
            "overflow_x": null,
            "overflow_y": null,
            "padding": null,
            "right": null,
            "top": null,
            "visibility": null,
            "width": null
          }
        },
        "ce230473aefd46bd9eb784b39afaa44a": {
          "model_module": "@jupyter-widgets/controls",
          "model_name": "DescriptionStyleModel",
          "model_module_version": "1.5.0",
          "state": {
            "_model_module": "@jupyter-widgets/controls",
            "_model_module_version": "1.5.0",
            "_model_name": "DescriptionStyleModel",
            "_view_count": null,
            "_view_module": "@jupyter-widgets/base",
            "_view_module_version": "1.2.0",
            "_view_name": "StyleView",
            "description_width": ""
          }
        },
        "71d9b4c2b7ec40429e653d143e57d7a0": {
          "model_module": "@jupyter-widgets/controls",
          "model_name": "HBoxModel",
          "model_module_version": "1.5.0",
          "state": {
            "_dom_classes": [],
            "_model_module": "@jupyter-widgets/controls",
            "_model_module_version": "1.5.0",
            "_model_name": "HBoxModel",
            "_view_count": null,
            "_view_module": "@jupyter-widgets/controls",
            "_view_module_version": "1.5.0",
            "_view_name": "HBoxView",
            "box_style": "",
            "children": [
              "IPY_MODEL_6271a8e5556e4d5397383efcd9149fe6",
              "IPY_MODEL_9f2b7d2232ab4255bbb23e73619b6739",
              "IPY_MODEL_246536095b99493a8fd1836bad605fd8"
            ],
            "layout": "IPY_MODEL_35346c26dcf240e88bece46bfa74f095"
          }
        },
        "6271a8e5556e4d5397383efcd9149fe6": {
          "model_module": "@jupyter-widgets/controls",
          "model_name": "HTMLModel",
          "model_module_version": "1.5.0",
          "state": {
            "_dom_classes": [],
            "_model_module": "@jupyter-widgets/controls",
            "_model_module_version": "1.5.0",
            "_model_name": "HTMLModel",
            "_view_count": null,
            "_view_module": "@jupyter-widgets/controls",
            "_view_module_version": "1.5.0",
            "_view_name": "HTMLView",
            "description": "",
            "description_tooltip": null,
            "layout": "IPY_MODEL_9d9980d18ea44e3e9774a13cadc12f8f",
            "placeholder": "​",
            "style": "IPY_MODEL_5f9add024e8b4b42a20fe35d7f4adf83",
            "value": "pytorch_model.bin: 100%"
          }
        },
        "9f2b7d2232ab4255bbb23e73619b6739": {
          "model_module": "@jupyter-widgets/controls",
          "model_name": "FloatProgressModel",
          "model_module_version": "1.5.0",
          "state": {
            "_dom_classes": [],
            "_model_module": "@jupyter-widgets/controls",
            "_model_module_version": "1.5.0",
            "_model_name": "FloatProgressModel",
            "_view_count": null,
            "_view_module": "@jupyter-widgets/controls",
            "_view_module_version": "1.5.0",
            "_view_name": "ProgressView",
            "bar_style": "success",
            "description": "",
            "description_tooltip": null,
            "layout": "IPY_MODEL_2c6a9e785318489b9835b666e6c17bf7",
            "max": 789120,
            "min": 0,
            "orientation": "horizontal",
            "style": "IPY_MODEL_93869df725e44f4587531a8e06d62f67",
            "value": 789120
          }
        },
        "246536095b99493a8fd1836bad605fd8": {
          "model_module": "@jupyter-widgets/controls",
          "model_name": "HTMLModel",
          "model_module_version": "1.5.0",
          "state": {
            "_dom_classes": [],
            "_model_module": "@jupyter-widgets/controls",
            "_model_module_version": "1.5.0",
            "_model_name": "HTMLModel",
            "_view_count": null,
            "_view_module": "@jupyter-widgets/controls",
            "_view_module_version": "1.5.0",
            "_view_name": "HTMLView",
            "description": "",
            "description_tooltip": null,
            "layout": "IPY_MODEL_f88688b8325242e0a4d266b85248afe0",
            "placeholder": "​",
            "style": "IPY_MODEL_fe61105eeb274bde84bb8b8735fc5ed7",
            "value": " 789k/789k [00:00&lt;00:00, 2.26MB/s]"
          }
        },
        "35346c26dcf240e88bece46bfa74f095": {
          "model_module": "@jupyter-widgets/base",
          "model_name": "LayoutModel",
          "model_module_version": "1.2.0",
          "state": {
            "_model_module": "@jupyter-widgets/base",
            "_model_module_version": "1.2.0",
            "_model_name": "LayoutModel",
            "_view_count": null,
            "_view_module": "@jupyter-widgets/base",
            "_view_module_version": "1.2.0",
            "_view_name": "LayoutView",
            "align_content": null,
            "align_items": null,
            "align_self": null,
            "border": null,
            "bottom": null,
            "display": null,
            "flex": null,
            "flex_flow": null,
            "grid_area": null,
            "grid_auto_columns": null,
            "grid_auto_flow": null,
            "grid_auto_rows": null,
            "grid_column": null,
            "grid_gap": null,
            "grid_row": null,
            "grid_template_areas": null,
            "grid_template_columns": null,
            "grid_template_rows": null,
            "height": null,
            "justify_content": null,
            "justify_items": null,
            "left": null,
            "margin": null,
            "max_height": null,
            "max_width": null,
            "min_height": null,
            "min_width": null,
            "object_fit": null,
            "object_position": null,
            "order": null,
            "overflow": null,
            "overflow_x": null,
            "overflow_y": null,
            "padding": null,
            "right": null,
            "top": null,
            "visibility": null,
            "width": null
          }
        },
        "9d9980d18ea44e3e9774a13cadc12f8f": {
          "model_module": "@jupyter-widgets/base",
          "model_name": "LayoutModel",
          "model_module_version": "1.2.0",
          "state": {
            "_model_module": "@jupyter-widgets/base",
            "_model_module_version": "1.2.0",
            "_model_name": "LayoutModel",
            "_view_count": null,
            "_view_module": "@jupyter-widgets/base",
            "_view_module_version": "1.2.0",
            "_view_name": "LayoutView",
            "align_content": null,
            "align_items": null,
            "align_self": null,
            "border": null,
            "bottom": null,
            "display": null,
            "flex": null,
            "flex_flow": null,
            "grid_area": null,
            "grid_auto_columns": null,
            "grid_auto_flow": null,
            "grid_auto_rows": null,
            "grid_column": null,
            "grid_gap": null,
            "grid_row": null,
            "grid_template_areas": null,
            "grid_template_columns": null,
            "grid_template_rows": null,
            "height": null,
            "justify_content": null,
            "justify_items": null,
            "left": null,
            "margin": null,
            "max_height": null,
            "max_width": null,
            "min_height": null,
            "min_width": null,
            "object_fit": null,
            "object_position": null,
            "order": null,
            "overflow": null,
            "overflow_x": null,
            "overflow_y": null,
            "padding": null,
            "right": null,
            "top": null,
            "visibility": null,
            "width": null
          }
        },
        "5f9add024e8b4b42a20fe35d7f4adf83": {
          "model_module": "@jupyter-widgets/controls",
          "model_name": "DescriptionStyleModel",
          "model_module_version": "1.5.0",
          "state": {
            "_model_module": "@jupyter-widgets/controls",
            "_model_module_version": "1.5.0",
            "_model_name": "DescriptionStyleModel",
            "_view_count": null,
            "_view_module": "@jupyter-widgets/base",
            "_view_module_version": "1.2.0",
            "_view_name": "StyleView",
            "description_width": ""
          }
        },
        "2c6a9e785318489b9835b666e6c17bf7": {
          "model_module": "@jupyter-widgets/base",
          "model_name": "LayoutModel",
          "model_module_version": "1.2.0",
          "state": {
            "_model_module": "@jupyter-widgets/base",
            "_model_module_version": "1.2.0",
            "_model_name": "LayoutModel",
            "_view_count": null,
            "_view_module": "@jupyter-widgets/base",
            "_view_module_version": "1.2.0",
            "_view_name": "LayoutView",
            "align_content": null,
            "align_items": null,
            "align_self": null,
            "border": null,
            "bottom": null,
            "display": null,
            "flex": null,
            "flex_flow": null,
            "grid_area": null,
            "grid_auto_columns": null,
            "grid_auto_flow": null,
            "grid_auto_rows": null,
            "grid_column": null,
            "grid_gap": null,
            "grid_row": null,
            "grid_template_areas": null,
            "grid_template_columns": null,
            "grid_template_rows": null,
            "height": null,
            "justify_content": null,
            "justify_items": null,
            "left": null,
            "margin": null,
            "max_height": null,
            "max_width": null,
            "min_height": null,
            "min_width": null,
            "object_fit": null,
            "object_position": null,
            "order": null,
            "overflow": null,
            "overflow_x": null,
            "overflow_y": null,
            "padding": null,
            "right": null,
            "top": null,
            "visibility": null,
            "width": null
          }
        },
        "93869df725e44f4587531a8e06d62f67": {
          "model_module": "@jupyter-widgets/controls",
          "model_name": "ProgressStyleModel",
          "model_module_version": "1.5.0",
          "state": {
            "_model_module": "@jupyter-widgets/controls",
            "_model_module_version": "1.5.0",
            "_model_name": "ProgressStyleModel",
            "_view_count": null,
            "_view_module": "@jupyter-widgets/base",
            "_view_module_version": "1.2.0",
            "_view_name": "StyleView",
            "bar_color": null,
            "description_width": ""
          }
        },
        "f88688b8325242e0a4d266b85248afe0": {
          "model_module": "@jupyter-widgets/base",
          "model_name": "LayoutModel",
          "model_module_version": "1.2.0",
          "state": {
            "_model_module": "@jupyter-widgets/base",
            "_model_module_version": "1.2.0",
            "_model_name": "LayoutModel",
            "_view_count": null,
            "_view_module": "@jupyter-widgets/base",
            "_view_module_version": "1.2.0",
            "_view_name": "LayoutView",
            "align_content": null,
            "align_items": null,
            "align_self": null,
            "border": null,
            "bottom": null,
            "display": null,
            "flex": null,
            "flex_flow": null,
            "grid_area": null,
            "grid_auto_columns": null,
            "grid_auto_flow": null,
            "grid_auto_rows": null,
            "grid_column": null,
            "grid_gap": null,
            "grid_row": null,
            "grid_template_areas": null,
            "grid_template_columns": null,
            "grid_template_rows": null,
            "height": null,
            "justify_content": null,
            "justify_items": null,
            "left": null,
            "margin": null,
            "max_height": null,
            "max_width": null,
            "min_height": null,
            "min_width": null,
            "object_fit": null,
            "object_position": null,
            "order": null,
            "overflow": null,
            "overflow_x": null,
            "overflow_y": null,
            "padding": null,
            "right": null,
            "top": null,
            "visibility": null,
            "width": null
          }
        },
        "fe61105eeb274bde84bb8b8735fc5ed7": {
          "model_module": "@jupyter-widgets/controls",
          "model_name": "DescriptionStyleModel",
          "model_module_version": "1.5.0",
          "state": {
            "_model_module": "@jupyter-widgets/controls",
            "_model_module_version": "1.5.0",
            "_model_name": "DescriptionStyleModel",
            "_view_count": null,
            "_view_module": "@jupyter-widgets/base",
            "_view_module_version": "1.2.0",
            "_view_name": "StyleView",
            "description_width": ""
          }
        },
        "205314ad278749d7b6b4700c213b7901": {
          "model_module": "@jupyter-widgets/controls",
          "model_name": "HBoxModel",
          "model_module_version": "1.5.0",
          "state": {
            "_dom_classes": [],
            "_model_module": "@jupyter-widgets/controls",
            "_model_module_version": "1.5.0",
            "_model_name": "HBoxModel",
            "_view_count": null,
            "_view_module": "@jupyter-widgets/controls",
            "_view_module_version": "1.5.0",
            "_view_name": "HBoxView",
            "box_style": "",
            "children": [
              "IPY_MODEL_ba49c710f346449ca72b552f12a160e1",
              "IPY_MODEL_ad7db27d4ba84f618be4259547082be2",
              "IPY_MODEL_a0480165d80d4f5d99e22e64b59c2e3a"
            ],
            "layout": "IPY_MODEL_ca0558198bbc4d0d9ef49e3871890aab"
          }
        },
        "ba49c710f346449ca72b552f12a160e1": {
          "model_module": "@jupyter-widgets/controls",
          "model_name": "HTMLModel",
          "model_module_version": "1.5.0",
          "state": {
            "_dom_classes": [],
            "_model_module": "@jupyter-widgets/controls",
            "_model_module_version": "1.5.0",
            "_model_name": "HTMLModel",
            "_view_count": null,
            "_view_module": "@jupyter-widgets/controls",
            "_view_module_version": "1.5.0",
            "_view_name": "HTMLView",
            "description": "",
            "description_tooltip": null,
            "layout": "IPY_MODEL_574b2d98b82d44c7ada5b0a2ac586a27",
            "placeholder": "​",
            "style": "IPY_MODEL_093590ca69ea4769a094062b595d1189",
            "value": "pytorch_model.bin: 100%"
          }
        },
        "ad7db27d4ba84f618be4259547082be2": {
          "model_module": "@jupyter-widgets/controls",
          "model_name": "FloatProgressModel",
          "model_module_version": "1.5.0",
          "state": {
            "_dom_classes": [],
            "_model_module": "@jupyter-widgets/controls",
            "_model_module_version": "1.5.0",
            "_model_name": "FloatProgressModel",
            "_view_count": null,
            "_view_module": "@jupyter-widgets/controls",
            "_view_module_version": "1.5.0",
            "_view_name": "ProgressView",
            "bar_style": "success",
            "description": "",
            "description_tooltip": null,
            "layout": "IPY_MODEL_940c16a99e984fea8bee49de9c91e01d",
            "max": 789120,
            "min": 0,
            "orientation": "horizontal",
            "style": "IPY_MODEL_2d14811c82e24615b19c65994c43ed8c",
            "value": 789120
          }
        },
        "a0480165d80d4f5d99e22e64b59c2e3a": {
          "model_module": "@jupyter-widgets/controls",
          "model_name": "HTMLModel",
          "model_module_version": "1.5.0",
          "state": {
            "_dom_classes": [],
            "_model_module": "@jupyter-widgets/controls",
            "_model_module_version": "1.5.0",
            "_model_name": "HTMLModel",
            "_view_count": null,
            "_view_module": "@jupyter-widgets/controls",
            "_view_module_version": "1.5.0",
            "_view_name": "HTMLView",
            "description": "",
            "description_tooltip": null,
            "layout": "IPY_MODEL_d32b6768563d4ef39f8b874b1ee1d839",
            "placeholder": "​",
            "style": "IPY_MODEL_c254926859e6451cbc9999b9d707c2fa",
            "value": " 789k/789k [00:00&lt;00:00, 2.83MB/s]"
          }
        },
        "ca0558198bbc4d0d9ef49e3871890aab": {
          "model_module": "@jupyter-widgets/base",
          "model_name": "LayoutModel",
          "model_module_version": "1.2.0",
          "state": {
            "_model_module": "@jupyter-widgets/base",
            "_model_module_version": "1.2.0",
            "_model_name": "LayoutModel",
            "_view_count": null,
            "_view_module": "@jupyter-widgets/base",
            "_view_module_version": "1.2.0",
            "_view_name": "LayoutView",
            "align_content": null,
            "align_items": null,
            "align_self": null,
            "border": null,
            "bottom": null,
            "display": null,
            "flex": null,
            "flex_flow": null,
            "grid_area": null,
            "grid_auto_columns": null,
            "grid_auto_flow": null,
            "grid_auto_rows": null,
            "grid_column": null,
            "grid_gap": null,
            "grid_row": null,
            "grid_template_areas": null,
            "grid_template_columns": null,
            "grid_template_rows": null,
            "height": null,
            "justify_content": null,
            "justify_items": null,
            "left": null,
            "margin": null,
            "max_height": null,
            "max_width": null,
            "min_height": null,
            "min_width": null,
            "object_fit": null,
            "object_position": null,
            "order": null,
            "overflow": null,
            "overflow_x": null,
            "overflow_y": null,
            "padding": null,
            "right": null,
            "top": null,
            "visibility": null,
            "width": null
          }
        },
        "574b2d98b82d44c7ada5b0a2ac586a27": {
          "model_module": "@jupyter-widgets/base",
          "model_name": "LayoutModel",
          "model_module_version": "1.2.0",
          "state": {
            "_model_module": "@jupyter-widgets/base",
            "_model_module_version": "1.2.0",
            "_model_name": "LayoutModel",
            "_view_count": null,
            "_view_module": "@jupyter-widgets/base",
            "_view_module_version": "1.2.0",
            "_view_name": "LayoutView",
            "align_content": null,
            "align_items": null,
            "align_self": null,
            "border": null,
            "bottom": null,
            "display": null,
            "flex": null,
            "flex_flow": null,
            "grid_area": null,
            "grid_auto_columns": null,
            "grid_auto_flow": null,
            "grid_auto_rows": null,
            "grid_column": null,
            "grid_gap": null,
            "grid_row": null,
            "grid_template_areas": null,
            "grid_template_columns": null,
            "grid_template_rows": null,
            "height": null,
            "justify_content": null,
            "justify_items": null,
            "left": null,
            "margin": null,
            "max_height": null,
            "max_width": null,
            "min_height": null,
            "min_width": null,
            "object_fit": null,
            "object_position": null,
            "order": null,
            "overflow": null,
            "overflow_x": null,
            "overflow_y": null,
            "padding": null,
            "right": null,
            "top": null,
            "visibility": null,
            "width": null
          }
        },
        "093590ca69ea4769a094062b595d1189": {
          "model_module": "@jupyter-widgets/controls",
          "model_name": "DescriptionStyleModel",
          "model_module_version": "1.5.0",
          "state": {
            "_model_module": "@jupyter-widgets/controls",
            "_model_module_version": "1.5.0",
            "_model_name": "DescriptionStyleModel",
            "_view_count": null,
            "_view_module": "@jupyter-widgets/base",
            "_view_module_version": "1.2.0",
            "_view_name": "StyleView",
            "description_width": ""
          }
        },
        "940c16a99e984fea8bee49de9c91e01d": {
          "model_module": "@jupyter-widgets/base",
          "model_name": "LayoutModel",
          "model_module_version": "1.2.0",
          "state": {
            "_model_module": "@jupyter-widgets/base",
            "_model_module_version": "1.2.0",
            "_model_name": "LayoutModel",
            "_view_count": null,
            "_view_module": "@jupyter-widgets/base",
            "_view_module_version": "1.2.0",
            "_view_name": "LayoutView",
            "align_content": null,
            "align_items": null,
            "align_self": null,
            "border": null,
            "bottom": null,
            "display": null,
            "flex": null,
            "flex_flow": null,
            "grid_area": null,
            "grid_auto_columns": null,
            "grid_auto_flow": null,
            "grid_auto_rows": null,
            "grid_column": null,
            "grid_gap": null,
            "grid_row": null,
            "grid_template_areas": null,
            "grid_template_columns": null,
            "grid_template_rows": null,
            "height": null,
            "justify_content": null,
            "justify_items": null,
            "left": null,
            "margin": null,
            "max_height": null,
            "max_width": null,
            "min_height": null,
            "min_width": null,
            "object_fit": null,
            "object_position": null,
            "order": null,
            "overflow": null,
            "overflow_x": null,
            "overflow_y": null,
            "padding": null,
            "right": null,
            "top": null,
            "visibility": null,
            "width": null
          }
        },
        "2d14811c82e24615b19c65994c43ed8c": {
          "model_module": "@jupyter-widgets/controls",
          "model_name": "ProgressStyleModel",
          "model_module_version": "1.5.0",
          "state": {
            "_model_module": "@jupyter-widgets/controls",
            "_model_module_version": "1.5.0",
            "_model_name": "ProgressStyleModel",
            "_view_count": null,
            "_view_module": "@jupyter-widgets/base",
            "_view_module_version": "1.2.0",
            "_view_name": "StyleView",
            "bar_color": null,
            "description_width": ""
          }
        },
        "d32b6768563d4ef39f8b874b1ee1d839": {
          "model_module": "@jupyter-widgets/base",
          "model_name": "LayoutModel",
          "model_module_version": "1.2.0",
          "state": {
            "_model_module": "@jupyter-widgets/base",
            "_model_module_version": "1.2.0",
            "_model_name": "LayoutModel",
            "_view_count": null,
            "_view_module": "@jupyter-widgets/base",
            "_view_module_version": "1.2.0",
            "_view_name": "LayoutView",
            "align_content": null,
            "align_items": null,
            "align_self": null,
            "border": null,
            "bottom": null,
            "display": null,
            "flex": null,
            "flex_flow": null,
            "grid_area": null,
            "grid_auto_columns": null,
            "grid_auto_flow": null,
            "grid_auto_rows": null,
            "grid_column": null,
            "grid_gap": null,
            "grid_row": null,
            "grid_template_areas": null,
            "grid_template_columns": null,
            "grid_template_rows": null,
            "height": null,
            "justify_content": null,
            "justify_items": null,
            "left": null,
            "margin": null,
            "max_height": null,
            "max_width": null,
            "min_height": null,
            "min_width": null,
            "object_fit": null,
            "object_position": null,
            "order": null,
            "overflow": null,
            "overflow_x": null,
            "overflow_y": null,
            "padding": null,
            "right": null,
            "top": null,
            "visibility": null,
            "width": null
          }
        },
        "c254926859e6451cbc9999b9d707c2fa": {
          "model_module": "@jupyter-widgets/controls",
          "model_name": "DescriptionStyleModel",
          "model_module_version": "1.5.0",
          "state": {
            "_model_module": "@jupyter-widgets/controls",
            "_model_module_version": "1.5.0",
            "_model_name": "DescriptionStyleModel",
            "_view_count": null,
            "_view_module": "@jupyter-widgets/base",
            "_view_module_version": "1.2.0",
            "_view_name": "StyleView",
            "description_width": ""
          }
        },
        "0ef55830a23e475287bd7de00e52afbb": {
          "model_module": "@jupyter-widgets/controls",
          "model_name": "VBoxModel",
          "model_module_version": "1.5.0",
          "state": {
            "_dom_classes": [],
            "_model_module": "@jupyter-widgets/controls",
            "_model_module_version": "1.5.0",
            "_model_name": "VBoxModel",
            "_view_count": null,
            "_view_module": "@jupyter-widgets/controls",
            "_view_module_version": "1.5.0",
            "_view_name": "VBoxView",
            "box_style": "",
            "children": [
              "IPY_MODEL_4ecfe7dcd626475ca1252ce699ee408e",
              "IPY_MODEL_d6ff8d735df345d787739a8e4a980e9d"
            ],
            "layout": "IPY_MODEL_2efc557313404894b212e6c3db6f8c05"
          }
        },
        "4ecfe7dcd626475ca1252ce699ee408e": {
          "model_module": "@jupyter-widgets/controls",
          "model_name": "LabelModel",
          "model_module_version": "1.5.0",
          "state": {
            "_dom_classes": [],
            "_model_module": "@jupyter-widgets/controls",
            "_model_module_version": "1.5.0",
            "_model_name": "LabelModel",
            "_view_count": null,
            "_view_module": "@jupyter-widgets/controls",
            "_view_module_version": "1.5.0",
            "_view_name": "LabelView",
            "description": "",
            "description_tooltip": null,
            "layout": "IPY_MODEL_200d59aab01d40e788fc4fada27ed2a3",
            "placeholder": "​",
            "style": "IPY_MODEL_5da395a3b1d84b83942eab6519668ca2",
            "value": "0.018 MB of 0.018 MB uploaded\r"
          }
        },
        "d6ff8d735df345d787739a8e4a980e9d": {
          "model_module": "@jupyter-widgets/controls",
          "model_name": "FloatProgressModel",
          "model_module_version": "1.5.0",
          "state": {
            "_dom_classes": [],
            "_model_module": "@jupyter-widgets/controls",
            "_model_module_version": "1.5.0",
            "_model_name": "FloatProgressModel",
            "_view_count": null,
            "_view_module": "@jupyter-widgets/controls",
            "_view_module_version": "1.5.0",
            "_view_name": "ProgressView",
            "bar_style": "",
            "description": "",
            "description_tooltip": null,
            "layout": "IPY_MODEL_c80dcede4cd34ea1a20dafb2f2bdb7e4",
            "max": 1,
            "min": 0,
            "orientation": "horizontal",
            "style": "IPY_MODEL_370636c43f7f483da6c3e3ac3a16d808",
            "value": 1
          }
        },
        "2efc557313404894b212e6c3db6f8c05": {
          "model_module": "@jupyter-widgets/base",
          "model_name": "LayoutModel",
          "model_module_version": "1.2.0",
          "state": {
            "_model_module": "@jupyter-widgets/base",
            "_model_module_version": "1.2.0",
            "_model_name": "LayoutModel",
            "_view_count": null,
            "_view_module": "@jupyter-widgets/base",
            "_view_module_version": "1.2.0",
            "_view_name": "LayoutView",
            "align_content": null,
            "align_items": null,
            "align_self": null,
            "border": null,
            "bottom": null,
            "display": null,
            "flex": null,
            "flex_flow": null,
            "grid_area": null,
            "grid_auto_columns": null,
            "grid_auto_flow": null,
            "grid_auto_rows": null,
            "grid_column": null,
            "grid_gap": null,
            "grid_row": null,
            "grid_template_areas": null,
            "grid_template_columns": null,
            "grid_template_rows": null,
            "height": null,
            "justify_content": null,
            "justify_items": null,
            "left": null,
            "margin": null,
            "max_height": null,
            "max_width": null,
            "min_height": null,
            "min_width": null,
            "object_fit": null,
            "object_position": null,
            "order": null,
            "overflow": null,
            "overflow_x": null,
            "overflow_y": null,
            "padding": null,
            "right": null,
            "top": null,
            "visibility": null,
            "width": null
          }
        },
        "200d59aab01d40e788fc4fada27ed2a3": {
          "model_module": "@jupyter-widgets/base",
          "model_name": "LayoutModel",
          "model_module_version": "1.2.0",
          "state": {
            "_model_module": "@jupyter-widgets/base",
            "_model_module_version": "1.2.0",
            "_model_name": "LayoutModel",
            "_view_count": null,
            "_view_module": "@jupyter-widgets/base",
            "_view_module_version": "1.2.0",
            "_view_name": "LayoutView",
            "align_content": null,
            "align_items": null,
            "align_self": null,
            "border": null,
            "bottom": null,
            "display": null,
            "flex": null,
            "flex_flow": null,
            "grid_area": null,
            "grid_auto_columns": null,
            "grid_auto_flow": null,
            "grid_auto_rows": null,
            "grid_column": null,
            "grid_gap": null,
            "grid_row": null,
            "grid_template_areas": null,
            "grid_template_columns": null,
            "grid_template_rows": null,
            "height": null,
            "justify_content": null,
            "justify_items": null,
            "left": null,
            "margin": null,
            "max_height": null,
            "max_width": null,
            "min_height": null,
            "min_width": null,
            "object_fit": null,
            "object_position": null,
            "order": null,
            "overflow": null,
            "overflow_x": null,
            "overflow_y": null,
            "padding": null,
            "right": null,
            "top": null,
            "visibility": null,
            "width": null
          }
        },
        "5da395a3b1d84b83942eab6519668ca2": {
          "model_module": "@jupyter-widgets/controls",
          "model_name": "DescriptionStyleModel",
          "model_module_version": "1.5.0",
          "state": {
            "_model_module": "@jupyter-widgets/controls",
            "_model_module_version": "1.5.0",
            "_model_name": "DescriptionStyleModel",
            "_view_count": null,
            "_view_module": "@jupyter-widgets/base",
            "_view_module_version": "1.2.0",
            "_view_name": "StyleView",
            "description_width": ""
          }
        },
        "c80dcede4cd34ea1a20dafb2f2bdb7e4": {
          "model_module": "@jupyter-widgets/base",
          "model_name": "LayoutModel",
          "model_module_version": "1.2.0",
          "state": {
            "_model_module": "@jupyter-widgets/base",
            "_model_module_version": "1.2.0",
            "_model_name": "LayoutModel",
            "_view_count": null,
            "_view_module": "@jupyter-widgets/base",
            "_view_module_version": "1.2.0",
            "_view_name": "LayoutView",
            "align_content": null,
            "align_items": null,
            "align_self": null,
            "border": null,
            "bottom": null,
            "display": null,
            "flex": null,
            "flex_flow": null,
            "grid_area": null,
            "grid_auto_columns": null,
            "grid_auto_flow": null,
            "grid_auto_rows": null,
            "grid_column": null,
            "grid_gap": null,
            "grid_row": null,
            "grid_template_areas": null,
            "grid_template_columns": null,
            "grid_template_rows": null,
            "height": null,
            "justify_content": null,
            "justify_items": null,
            "left": null,
            "margin": null,
            "max_height": null,
            "max_width": null,
            "min_height": null,
            "min_width": null,
            "object_fit": null,
            "object_position": null,
            "order": null,
            "overflow": null,
            "overflow_x": null,
            "overflow_y": null,
            "padding": null,
            "right": null,
            "top": null,
            "visibility": null,
            "width": null
          }
        },
        "370636c43f7f483da6c3e3ac3a16d808": {
          "model_module": "@jupyter-widgets/controls",
          "model_name": "ProgressStyleModel",
          "model_module_version": "1.5.0",
          "state": {
            "_model_module": "@jupyter-widgets/controls",
            "_model_module_version": "1.5.0",
            "_model_name": "ProgressStyleModel",
            "_view_count": null,
            "_view_module": "@jupyter-widgets/base",
            "_view_module_version": "1.2.0",
            "_view_name": "StyleView",
            "bar_color": null,
            "description_width": ""
          }
        },
        "4c85339b0ab949cd999e30ba2cc8ccc9": {
          "model_module": "@jupyter-widgets/controls",
          "model_name": "HBoxModel",
          "model_module_version": "1.5.0",
          "state": {
            "_dom_classes": [],
            "_model_module": "@jupyter-widgets/controls",
            "_model_module_version": "1.5.0",
            "_model_name": "HBoxModel",
            "_view_count": null,
            "_view_module": "@jupyter-widgets/controls",
            "_view_module_version": "1.5.0",
            "_view_name": "HBoxView",
            "box_style": "",
            "children": [
              "IPY_MODEL_c544da9b98174618b736fd92253d588a",
              "IPY_MODEL_3db6d9be49c14bee8dda20828c0de958",
              "IPY_MODEL_a7bfa15c6091440cac55e2001ec0c079"
            ],
            "layout": "IPY_MODEL_df7a4e856a6542578c2d26e27d75a764"
          }
        },
        "c544da9b98174618b736fd92253d588a": {
          "model_module": "@jupyter-widgets/controls",
          "model_name": "HTMLModel",
          "model_module_version": "1.5.0",
          "state": {
            "_dom_classes": [],
            "_model_module": "@jupyter-widgets/controls",
            "_model_module_version": "1.5.0",
            "_model_name": "HTMLModel",
            "_view_count": null,
            "_view_module": "@jupyter-widgets/controls",
            "_view_module_version": "1.5.0",
            "_view_name": "HTMLView",
            "description": "",
            "description_tooltip": null,
            "layout": "IPY_MODEL_40a9fe1961874248a631b17b761de495",
            "placeholder": "​",
            "style": "IPY_MODEL_abc46d49181e4966979f90377e546c00",
            "value": "pytorch_model.bin: 100%"
          }
        },
        "3db6d9be49c14bee8dda20828c0de958": {
          "model_module": "@jupyter-widgets/controls",
          "model_name": "FloatProgressModel",
          "model_module_version": "1.5.0",
          "state": {
            "_dom_classes": [],
            "_model_module": "@jupyter-widgets/controls",
            "_model_module_version": "1.5.0",
            "_model_name": "FloatProgressModel",
            "_view_count": null,
            "_view_module": "@jupyter-widgets/controls",
            "_view_module_version": "1.5.0",
            "_view_name": "ProgressView",
            "bar_style": "success",
            "description": "",
            "description_tooltip": null,
            "layout": "IPY_MODEL_6c53ff8cf0a841a0a164d0ab4694d747",
            "max": 789120,
            "min": 0,
            "orientation": "horizontal",
            "style": "IPY_MODEL_6dde0c6c7d5545c8b25d0ee33cda745a",
            "value": 789120
          }
        },
        "a7bfa15c6091440cac55e2001ec0c079": {
          "model_module": "@jupyter-widgets/controls",
          "model_name": "HTMLModel",
          "model_module_version": "1.5.0",
          "state": {
            "_dom_classes": [],
            "_model_module": "@jupyter-widgets/controls",
            "_model_module_version": "1.5.0",
            "_model_name": "HTMLModel",
            "_view_count": null,
            "_view_module": "@jupyter-widgets/controls",
            "_view_module_version": "1.5.0",
            "_view_name": "HTMLView",
            "description": "",
            "description_tooltip": null,
            "layout": "IPY_MODEL_85ef434852d640a88ac69ad5eb6bca7b",
            "placeholder": "​",
            "style": "IPY_MODEL_641470a6cda34fb0904c1ecba3714111",
            "value": " 789k/789k [00:00&lt;00:00, 13.0MB/s]"
          }
        },
        "df7a4e856a6542578c2d26e27d75a764": {
          "model_module": "@jupyter-widgets/base",
          "model_name": "LayoutModel",
          "model_module_version": "1.2.0",
          "state": {
            "_model_module": "@jupyter-widgets/base",
            "_model_module_version": "1.2.0",
            "_model_name": "LayoutModel",
            "_view_count": null,
            "_view_module": "@jupyter-widgets/base",
            "_view_module_version": "1.2.0",
            "_view_name": "LayoutView",
            "align_content": null,
            "align_items": null,
            "align_self": null,
            "border": null,
            "bottom": null,
            "display": null,
            "flex": null,
            "flex_flow": null,
            "grid_area": null,
            "grid_auto_columns": null,
            "grid_auto_flow": null,
            "grid_auto_rows": null,
            "grid_column": null,
            "grid_gap": null,
            "grid_row": null,
            "grid_template_areas": null,
            "grid_template_columns": null,
            "grid_template_rows": null,
            "height": null,
            "justify_content": null,
            "justify_items": null,
            "left": null,
            "margin": null,
            "max_height": null,
            "max_width": null,
            "min_height": null,
            "min_width": null,
            "object_fit": null,
            "object_position": null,
            "order": null,
            "overflow": null,
            "overflow_x": null,
            "overflow_y": null,
            "padding": null,
            "right": null,
            "top": null,
            "visibility": null,
            "width": null
          }
        },
        "40a9fe1961874248a631b17b761de495": {
          "model_module": "@jupyter-widgets/base",
          "model_name": "LayoutModel",
          "model_module_version": "1.2.0",
          "state": {
            "_model_module": "@jupyter-widgets/base",
            "_model_module_version": "1.2.0",
            "_model_name": "LayoutModel",
            "_view_count": null,
            "_view_module": "@jupyter-widgets/base",
            "_view_module_version": "1.2.0",
            "_view_name": "LayoutView",
            "align_content": null,
            "align_items": null,
            "align_self": null,
            "border": null,
            "bottom": null,
            "display": null,
            "flex": null,
            "flex_flow": null,
            "grid_area": null,
            "grid_auto_columns": null,
            "grid_auto_flow": null,
            "grid_auto_rows": null,
            "grid_column": null,
            "grid_gap": null,
            "grid_row": null,
            "grid_template_areas": null,
            "grid_template_columns": null,
            "grid_template_rows": null,
            "height": null,
            "justify_content": null,
            "justify_items": null,
            "left": null,
            "margin": null,
            "max_height": null,
            "max_width": null,
            "min_height": null,
            "min_width": null,
            "object_fit": null,
            "object_position": null,
            "order": null,
            "overflow": null,
            "overflow_x": null,
            "overflow_y": null,
            "padding": null,
            "right": null,
            "top": null,
            "visibility": null,
            "width": null
          }
        },
        "abc46d49181e4966979f90377e546c00": {
          "model_module": "@jupyter-widgets/controls",
          "model_name": "DescriptionStyleModel",
          "model_module_version": "1.5.0",
          "state": {
            "_model_module": "@jupyter-widgets/controls",
            "_model_module_version": "1.5.0",
            "_model_name": "DescriptionStyleModel",
            "_view_count": null,
            "_view_module": "@jupyter-widgets/base",
            "_view_module_version": "1.2.0",
            "_view_name": "StyleView",
            "description_width": ""
          }
        },
        "6c53ff8cf0a841a0a164d0ab4694d747": {
          "model_module": "@jupyter-widgets/base",
          "model_name": "LayoutModel",
          "model_module_version": "1.2.0",
          "state": {
            "_model_module": "@jupyter-widgets/base",
            "_model_module_version": "1.2.0",
            "_model_name": "LayoutModel",
            "_view_count": null,
            "_view_module": "@jupyter-widgets/base",
            "_view_module_version": "1.2.0",
            "_view_name": "LayoutView",
            "align_content": null,
            "align_items": null,
            "align_self": null,
            "border": null,
            "bottom": null,
            "display": null,
            "flex": null,
            "flex_flow": null,
            "grid_area": null,
            "grid_auto_columns": null,
            "grid_auto_flow": null,
            "grid_auto_rows": null,
            "grid_column": null,
            "grid_gap": null,
            "grid_row": null,
            "grid_template_areas": null,
            "grid_template_columns": null,
            "grid_template_rows": null,
            "height": null,
            "justify_content": null,
            "justify_items": null,
            "left": null,
            "margin": null,
            "max_height": null,
            "max_width": null,
            "min_height": null,
            "min_width": null,
            "object_fit": null,
            "object_position": null,
            "order": null,
            "overflow": null,
            "overflow_x": null,
            "overflow_y": null,
            "padding": null,
            "right": null,
            "top": null,
            "visibility": null,
            "width": null
          }
        },
        "6dde0c6c7d5545c8b25d0ee33cda745a": {
          "model_module": "@jupyter-widgets/controls",
          "model_name": "ProgressStyleModel",
          "model_module_version": "1.5.0",
          "state": {
            "_model_module": "@jupyter-widgets/controls",
            "_model_module_version": "1.5.0",
            "_model_name": "ProgressStyleModel",
            "_view_count": null,
            "_view_module": "@jupyter-widgets/base",
            "_view_module_version": "1.2.0",
            "_view_name": "StyleView",
            "bar_color": null,
            "description_width": ""
          }
        },
        "85ef434852d640a88ac69ad5eb6bca7b": {
          "model_module": "@jupyter-widgets/base",
          "model_name": "LayoutModel",
          "model_module_version": "1.2.0",
          "state": {
            "_model_module": "@jupyter-widgets/base",
            "_model_module_version": "1.2.0",
            "_model_name": "LayoutModel",
            "_view_count": null,
            "_view_module": "@jupyter-widgets/base",
            "_view_module_version": "1.2.0",
            "_view_name": "LayoutView",
            "align_content": null,
            "align_items": null,
            "align_self": null,
            "border": null,
            "bottom": null,
            "display": null,
            "flex": null,
            "flex_flow": null,
            "grid_area": null,
            "grid_auto_columns": null,
            "grid_auto_flow": null,
            "grid_auto_rows": null,
            "grid_column": null,
            "grid_gap": null,
            "grid_row": null,
            "grid_template_areas": null,
            "grid_template_columns": null,
            "grid_template_rows": null,
            "height": null,
            "justify_content": null,
            "justify_items": null,
            "left": null,
            "margin": null,
            "max_height": null,
            "max_width": null,
            "min_height": null,
            "min_width": null,
            "object_fit": null,
            "object_position": null,
            "order": null,
            "overflow": null,
            "overflow_x": null,
            "overflow_y": null,
            "padding": null,
            "right": null,
            "top": null,
            "visibility": null,
            "width": null
          }
        },
        "641470a6cda34fb0904c1ecba3714111": {
          "model_module": "@jupyter-widgets/controls",
          "model_name": "DescriptionStyleModel",
          "model_module_version": "1.5.0",
          "state": {
            "_model_module": "@jupyter-widgets/controls",
            "_model_module_version": "1.5.0",
            "_model_name": "DescriptionStyleModel",
            "_view_count": null,
            "_view_module": "@jupyter-widgets/base",
            "_view_module_version": "1.2.0",
            "_view_name": "StyleView",
            "description_width": ""
          }
        }
      }
    }
  },
  "cells": [
    {
      "cell_type": "markdown",
      "source": [
        "**Exercise 2.** Switch loss functions (perhaps MSE).\n",
        "\n",
        "a. Does the training behavior change?\n",
        "\n",
        "b. Is it possible to reduce the capacity of the network enough that it stops overfitting?\n",
        "\n",
        "c. How does the model perform on the validation set when doing so?"
      ],
      "metadata": {
        "id": "_iHyoYp_lK_w"
      }
    },
    {
      "cell_type": "markdown",
      "source": [
        "Since this is a binary classification problem, using mean squared error as our loss function doesn't seem appropriate.\n",
        "\n",
        "Rather, let's switch from `nn.CrossEntropyLoss` to `nn.BCEWithLogitsLoss`. Accordingly, we'll change the number of output units of the last linear layer from 2 to 1.\n",
        "\n",
        "For binary classification problems, these two formulations are mathematically equivalent:\n",
        "\n",
        "- 2 output units with `nn.CrossEntropyLoss`\n",
        "- 1 output unit with `nn.BCEWithLogitsLoss`\n",
        "\n",
        "\n",
        "Hence, the training behavior shouldn't change."
      ],
      "metadata": {
        "id": "fwjw4n7Gyq0Q"
      }
    },
    {
      "cell_type": "code",
      "source": [
        "!pip install -q datasets"
      ],
      "metadata": {
        "colab": {
          "base_uri": "https://localhost:8080/"
        },
        "id": "10azP4hKbtmL",
        "outputId": "0d53e125-abc0-4ebd-8d59-2704af0a5642"
      },
      "execution_count": 1,
      "outputs": [
        {
          "output_type": "stream",
          "name": "stdout",
          "text": [
            "\u001b[2K     \u001b[90m━━━━━━━━━━━━━━━━━━━━━━━━━━━━━━━━━━━━━━━━\u001b[0m \u001b[32m507.1/507.1 kB\u001b[0m \u001b[31m6.9 MB/s\u001b[0m eta \u001b[36m0:00:00\u001b[0m\n",
            "\u001b[2K     \u001b[90m━━━━━━━━━━━━━━━━━━━━━━━━━━━━━━━━━━━━━━━━\u001b[0m \u001b[32m115.3/115.3 kB\u001b[0m \u001b[31m6.8 MB/s\u001b[0m eta \u001b[36m0:00:00\u001b[0m\n",
            "\u001b[2K     \u001b[90m━━━━━━━━━━━━━━━━━━━━━━━━━━━━━━━━━━━━━━━━\u001b[0m \u001b[32m134.8/134.8 kB\u001b[0m \u001b[31m8.9 MB/s\u001b[0m eta \u001b[36m0:00:00\u001b[0m\n",
            "\u001b[2K     \u001b[90m━━━━━━━━━━━━━━━━━━━━━━━━━━━━━━━━━━━━━━━━\u001b[0m \u001b[32m134.8/134.8 kB\u001b[0m \u001b[31m8.6 MB/s\u001b[0m eta \u001b[36m0:00:00\u001b[0m\n",
            "\u001b[?25h"
          ]
        }
      ]
    },
    {
      "cell_type": "code",
      "source": [
        "!pip install -q wandb"
      ],
      "metadata": {
        "colab": {
          "base_uri": "https://localhost:8080/"
        },
        "id": "dojlNN0ibz2Z",
        "outputId": "174b63a7-d209-4d2d-9685-bd7466b7dfd4"
      },
      "execution_count": 2,
      "outputs": [
        {
          "output_type": "stream",
          "name": "stdout",
          "text": [
            "\u001b[2K     \u001b[90m━━━━━━━━━━━━━━━━━━━━━━━━━━━━━━━━━━━━━━━━\u001b[0m \u001b[32m2.2/2.2 MB\u001b[0m \u001b[31m8.9 MB/s\u001b[0m eta \u001b[36m0:00:00\u001b[0m\n",
            "\u001b[2K     \u001b[90m━━━━━━━━━━━━━━━━━━━━━━━━━━━━━━━━━━━━━━━━\u001b[0m \u001b[32m196.4/196.4 kB\u001b[0m \u001b[31m10.8 MB/s\u001b[0m eta \u001b[36m0:00:00\u001b[0m\n",
            "\u001b[2K     \u001b[90m━━━━━━━━━━━━━━━━━━━━━━━━━━━━━━━━━━━━━━━━\u001b[0m \u001b[32m257.5/257.5 kB\u001b[0m \u001b[31m14.1 MB/s\u001b[0m eta \u001b[36m0:00:00\u001b[0m\n",
            "\u001b[2K     \u001b[90m━━━━━━━━━━━━━━━━━━━━━━━━━━━━━━━━━━━━━━━━\u001b[0m \u001b[32m62.7/62.7 kB\u001b[0m \u001b[31m7.8 MB/s\u001b[0m eta \u001b[36m0:00:00\u001b[0m\n",
            "\u001b[?25h"
          ]
        }
      ]
    },
    {
      "cell_type": "markdown",
      "source": [
        "If running this notebook in Colab, please ensure that your Hugging Face `HF_TOKEN` and your Weights & Biases `WANDB_API_KEY` are added to your Colab secrets.\n",
        "\n",
        "Alternatively, please login to Hugging Face and Weights & Biases by running the following two cells."
      ],
      "metadata": {
        "id": "58WnffKd-gDP"
      }
    },
    {
      "cell_type": "code",
      "source": [
        "# !huggingface-cli login"
      ],
      "metadata": {
        "id": "hTS4Nzjz-dfz"
      },
      "execution_count": 3,
      "outputs": []
    },
    {
      "cell_type": "code",
      "source": [
        "# !wandb login"
      ],
      "metadata": {
        "id": "jp0CElkz-rXt"
      },
      "execution_count": 4,
      "outputs": []
    },
    {
      "cell_type": "code",
      "source": [
        "import os\n",
        "import random\n",
        "import numpy as np\n",
        "import torch\n",
        "\n",
        "def seed_everything(seed):\n",
        "    os.environ['PYTHONHASHSEED'] = str(seed)\n",
        "    random.seed(seed)\n",
        "    np.random.seed(seed)\n",
        "    torch.manual_seed(seed)\n",
        "    torch.cuda.manual_seed(seed)\n",
        "    torch.cuda.manual_seed_all(seed)\n",
        "    torch.backends.cudnn.deterministic = True\n",
        "    torch.backends.cudnn.benchmark = False\n",
        "\n",
        "seed_everything(42)"
      ],
      "metadata": {
        "id": "jJVJLesnb_iX"
      },
      "execution_count": 5,
      "outputs": []
    },
    {
      "cell_type": "code",
      "source": [
        "from datasets import load_dataset\n",
        "\n",
        "cifar10 = load_dataset(\"cifar10\")\n",
        "cifar10"
      ],
      "metadata": {
        "colab": {
          "base_uri": "https://localhost:8080/",
          "height": 351,
          "referenced_widgets": [
            "cc12aeb49b8543f087f388689942cb16",
            "91bc0eb4dd574c52847951b6dfcf679e",
            "2ef19592654448f7ac0e6cb19c450e10",
            "4a5e208446b04ec89eb03646e5d48d1b",
            "e5aa07f6fe354ac0a0deb2eac7468729",
            "1c90e586f61d4d8e91fdb962aa17f4e2",
            "787ab40db39e4c758bb58944b83ce110",
            "430df1b0b41a42aa985515176f1f3a98",
            "8dd0568718d742ee9f9ef39c7f7aae63",
            "9bc3a739049149d487248f0b54a6b70a",
            "ecc975c844b2459782db741e3976944f",
            "5cacdfece033468cad915d9b76931634",
            "bcde8a8c6ec543d4899badc384d6d5bf",
            "2869a05df5154749a7c182bc9e098563",
            "2386979739084b99b8b5c9c1b34c2d9a",
            "b15c155b564945969eb4211f573c6210",
            "c5ce54dba6204f589e279b7bc2cff91c",
            "ec62054375c14e6998fa39d42342602e",
            "365808b16cfd4fd09249a9daeffa9e3d",
            "6dc51dfabf0145b9a4e27fea9f41a1f6",
            "a9333408fa61467c97ffbe691c4d380d",
            "422b27342c4a4a28937bad9edddf1af7",
            "d1948ae847ff44ab90180e4aabcecb05",
            "0b9fd9ecf932460894638fd72d8bfcb2",
            "2d77ab4048fb455b90e78dd939300f9f",
            "b5014d82349445ff8c4170284336c47c",
            "6bb9cec0968b466dacc1705f438a5cf7",
            "4842629a58674f389e7f060615c8020c",
            "1e9238b3d38e4b0ab1f809030ef0dbde",
            "3efa660f7ed94c199a05c71ec709aa05",
            "6c3784c2162144918dfaf470c98987f2",
            "02c47ff08b9244b0a40b20145adcd9e9",
            "f3bd2e1703614442809a158c995316aa",
            "9cc69667a2054660aca413f62ce7b27d",
            "317e33faf895432a95b4e8e2853750b8",
            "de99ccd3d43440ff812775cf7e0e17a0",
            "ddace4d65ac441288f82f7ed70b2ed71",
            "be73e554d17b45fd94d9cf91bd429bb5",
            "dae98404e9104f7db15a7d7a19bf168d",
            "4bbd9d4329214ed7800a64ab814b46dd",
            "40087ad1a0b04e1285ca6c9c80eb2044",
            "674f44fa7aeb46d4afc4034375e31977",
            "b61581cc00cd41668513a302db7e091c",
            "53b94b8ecc9f454888dc19b7cb504115",
            "9f9480c7b0d643e99f0bfe111a185781",
            "c99798306f7645ee93b829ec35a01510",
            "4fd6229fca7d4b3489a608abad7354e8",
            "0b62bd70397c4635b0915d8c4a33e483",
            "a49f91bf00564745bf3a085365f3ab2c",
            "ea61a7ebbaba48059edc456aec1183ba",
            "640b67dbddad4346b964fe767c77fb43",
            "42b0682c6f4248768dfeb2efe853ef66",
            "c66778d0708e47b8b865f51d2223644b",
            "4f1bcb3639944fe0829212a6779006cb",
            "b4bfd7fd2888467e921c66ca33e1de16"
          ]
        },
        "id": "SU2qKaMgcLM3",
        "outputId": "5d90f386-0426-4fe2-b43e-ae159e6cbe90"
      },
      "execution_count": 6,
      "outputs": [
        {
          "output_type": "display_data",
          "data": {
            "text/plain": [
              "Downloading readme:   0%|          | 0.00/5.16k [00:00<?, ?B/s]"
            ],
            "application/vnd.jupyter.widget-view+json": {
              "version_major": 2,
              "version_minor": 0,
              "model_id": "cc12aeb49b8543f087f388689942cb16"
            }
          },
          "metadata": {}
        },
        {
          "output_type": "display_data",
          "data": {
            "text/plain": [
              "Downloading data:   0%|          | 0.00/120M [00:00<?, ?B/s]"
            ],
            "application/vnd.jupyter.widget-view+json": {
              "version_major": 2,
              "version_minor": 0,
              "model_id": "5cacdfece033468cad915d9b76931634"
            }
          },
          "metadata": {}
        },
        {
          "output_type": "display_data",
          "data": {
            "text/plain": [
              "Downloading data:   0%|          | 0.00/23.9M [00:00<?, ?B/s]"
            ],
            "application/vnd.jupyter.widget-view+json": {
              "version_major": 2,
              "version_minor": 0,
              "model_id": "d1948ae847ff44ab90180e4aabcecb05"
            }
          },
          "metadata": {}
        },
        {
          "output_type": "display_data",
          "data": {
            "text/plain": [
              "Generating train split:   0%|          | 0/50000 [00:00<?, ? examples/s]"
            ],
            "application/vnd.jupyter.widget-view+json": {
              "version_major": 2,
              "version_minor": 0,
              "model_id": "9cc69667a2054660aca413f62ce7b27d"
            }
          },
          "metadata": {}
        },
        {
          "output_type": "display_data",
          "data": {
            "text/plain": [
              "Generating test split:   0%|          | 0/10000 [00:00<?, ? examples/s]"
            ],
            "application/vnd.jupyter.widget-view+json": {
              "version_major": 2,
              "version_minor": 0,
              "model_id": "9f9480c7b0d643e99f0bfe111a185781"
            }
          },
          "metadata": {}
        },
        {
          "output_type": "execute_result",
          "data": {
            "text/plain": [
              "DatasetDict({\n",
              "    train: Dataset({\n",
              "        features: ['img', 'label'],\n",
              "        num_rows: 50000\n",
              "    })\n",
              "    test: Dataset({\n",
              "        features: ['img', 'label'],\n",
              "        num_rows: 10000\n",
              "    })\n",
              "})"
            ]
          },
          "metadata": {},
          "execution_count": 6
        }
      ]
    },
    {
      "cell_type": "code",
      "source": [
        "features = cifar10['train'].features\n",
        "features"
      ],
      "metadata": {
        "colab": {
          "base_uri": "https://localhost:8080/"
        },
        "id": "XuBkZzb6cXSD",
        "outputId": "3fc67d86-3a94-4177-efd5-b65c042980f5"
      },
      "execution_count": 7,
      "outputs": [
        {
          "output_type": "execute_result",
          "data": {
            "text/plain": [
              "{'img': Image(decode=True, id=None),\n",
              " 'label': ClassLabel(names=['airplane', 'automobile', 'bird', 'cat', 'deer', 'dog', 'frog', 'horse', 'ship', 'truck'], id=None)}"
            ]
          },
          "metadata": {},
          "execution_count": 7
        }
      ]
    },
    {
      "cell_type": "code",
      "source": [
        "id2label = {id: label for id, label in enumerate(features['label'].names)}\n",
        "id2label"
      ],
      "metadata": {
        "colab": {
          "base_uri": "https://localhost:8080/"
        },
        "id": "xwo4kmlacdQV",
        "outputId": "f09eefa6-4ed6-4b44-d850-8c57157ed167"
      },
      "execution_count": 8,
      "outputs": [
        {
          "output_type": "execute_result",
          "data": {
            "text/plain": [
              "{0: 'airplane',\n",
              " 1: 'automobile',\n",
              " 2: 'bird',\n",
              " 3: 'cat',\n",
              " 4: 'deer',\n",
              " 5: 'dog',\n",
              " 6: 'frog',\n",
              " 7: 'horse',\n",
              " 8: 'ship',\n",
              " 9: 'truck'}"
            ]
          },
          "metadata": {},
          "execution_count": 8
        }
      ]
    },
    {
      "cell_type": "code",
      "source": [
        "example = cifar10['train'][0]\n",
        "example"
      ],
      "metadata": {
        "colab": {
          "base_uri": "https://localhost:8080/"
        },
        "id": "2AE3x47Lcpi-",
        "outputId": "c2ccd421-8f31-4a00-c356-322a0ac07315"
      },
      "execution_count": 9,
      "outputs": [
        {
          "output_type": "execute_result",
          "data": {
            "text/plain": [
              "{'img': <PIL.PngImagePlugin.PngImageFile image mode=RGB size=32x32>,\n",
              " 'label': 0}"
            ]
          },
          "metadata": {},
          "execution_count": 9
        }
      ]
    },
    {
      "cell_type": "code",
      "source": [
        "import matplotlib.pyplot as plt\n",
        "\n",
        "plt.imshow(example['img']);"
      ],
      "metadata": {
        "colab": {
          "base_uri": "https://localhost:8080/",
          "height": 430
        },
        "id": "I34wr0zVctl4",
        "outputId": "8e85e10e-a5eb-48d5-8cce-7563da5a07ac"
      },
      "execution_count": 10,
      "outputs": [
        {
          "output_type": "display_data",
          "data": {
            "text/plain": [
              "<Figure size 640x480 with 1 Axes>"
            ],
            "image/png": "[encoded data removed]"
          },
          "metadata": {}
        }
      ]
    },
    {
      "cell_type": "code",
      "source": [
        "example['label']"
      ],
      "metadata": {
        "colab": {
          "base_uri": "https://localhost:8080/"
        },
        "id": "qMAd9Qouc4h2",
        "outputId": "dff062ed-82c1-46d8-bcc0-ca9edd2baeb3"
      },
      "execution_count": 11,
      "outputs": [
        {
          "output_type": "execute_result",
          "data": {
            "text/plain": [
              "0"
            ]
          },
          "metadata": {},
          "execution_count": 11
        }
      ]
    },
    {
      "cell_type": "code",
      "source": [
        "id2label[example['label']]"
      ],
      "metadata": {
        "colab": {
          "base_uri": "https://localhost:8080/",
          "height": 35
        },
        "id": "SxmnsQboc606",
        "outputId": "8ba606ae-e53b-4ccf-b875-4de8d96bc435"
      },
      "execution_count": 12,
      "outputs": [
        {
          "output_type": "execute_result",
          "data": {
            "text/plain": [
              "'airplane'"
            ],
            "application/vnd.google.colaboratory.intrinsic+json": {
              "type": "string"
            }
          },
          "metadata": {},
          "execution_count": 12
        }
      ]
    },
    {
      "cell_type": "markdown",
      "source": [
        "Now, let's create a PyTorch `Dataset` for model training."
      ],
      "metadata": {
        "id": "aO6uHgnWA3TU"
      }
    },
    {
      "cell_type": "code",
      "source": [
        "from torch.utils.data import Dataset\n",
        "\n",
        "class CIFAR10Dataset(Dataset):\n",
        "    def __init__(self, dataset, tfms):\n",
        "        self.dataset = dataset\n",
        "        self.tfms = tfms\n",
        "\n",
        "    def __len__(self):\n",
        "        return len(self.dataset)\n",
        "\n",
        "    def __getitem__(self, idx):\n",
        "        example = self.dataset[idx]\n",
        "        img, label = example['img'], example['label']\n",
        "        img = self.tfms(img)\n",
        "        return img, label"
      ],
      "metadata": {
        "id": "NFHTH9A_c-2A"
      },
      "execution_count": 13,
      "outputs": []
    },
    {
      "cell_type": "markdown",
      "source": [
        "**Note:** There is no need to convert `label` to a tensor as the data collator will collate the integers into a tensor anyway."
      ],
      "metadata": {
        "id": "0rPCZqcnBVXp"
      }
    },
    {
      "cell_type": "code",
      "source": [
        "from torchvision.transforms import v2\n",
        "\n",
        "tfms = v2.Compose([\n",
        "    v2.ToImage(),\n",
        "    v2.ToDtype(torch.float32, scale=True),\n",
        "    v2.Normalize(mean=[0.4915, 0.4823, 0.4468], std=[0.2470, 0.2435, 0.2616])\n",
        "])"
      ],
      "metadata": {
        "id": "FMdAAeZZdjXO"
      },
      "execution_count": 14,
      "outputs": []
    },
    {
      "cell_type": "markdown",
      "source": [
        "**Note:** `ToImage()` along with `ToDtype(torch.float32, scale=True)` is a replacement for `ToTensor()` in `torchvision.transforms.v2`."
      ],
      "metadata": {
        "id": "Vage7CxFPiDW"
      }
    },
    {
      "cell_type": "code",
      "source": [
        "cifar10_train = CIFAR10Dataset(cifar10['train'], tfms)\n",
        "len(cifar10_train)"
      ],
      "metadata": {
        "colab": {
          "base_uri": "https://localhost:8080/"
        },
        "id": "HtU5LBXneDPe",
        "outputId": "41ea2ad1-bb35-49e3-c0d4-a46f4e2e2a49"
      },
      "execution_count": 15,
      "outputs": [
        {
          "output_type": "execute_result",
          "data": {
            "text/plain": [
              "50000"
            ]
          },
          "metadata": {},
          "execution_count": 15
        }
      ]
    },
    {
      "cell_type": "code",
      "source": [
        "# Sanity check:\n",
        "img, label = cifar10_train[0]\n",
        "img.shape, label"
      ],
      "metadata": {
        "colab": {
          "base_uri": "https://localhost:8080/"
        },
        "id": "Hbba9DnGeLSy",
        "outputId": "5939d719-da2f-427a-be65-e4b46a26acfc"
      },
      "execution_count": 16,
      "outputs": [
        {
          "output_type": "execute_result",
          "data": {
            "text/plain": [
              "(torch.Size([3, 32, 32]), 0)"
            ]
          },
          "metadata": {},
          "execution_count": 16
        }
      ]
    },
    {
      "cell_type": "code",
      "source": [
        "cifar10_val = CIFAR10Dataset(cifar10['test'], tfms)\n",
        "len(cifar10_val)"
      ],
      "metadata": {
        "colab": {
          "base_uri": "https://localhost:8080/"
        },
        "id": "MSKjTPxTeZc0",
        "outputId": "0f156d87-2c35-40be-9528-d6644499ae30"
      },
      "execution_count": 17,
      "outputs": [
        {
          "output_type": "execute_result",
          "data": {
            "text/plain": [
              "10000"
            ]
          },
          "metadata": {},
          "execution_count": 17
        }
      ]
    },
    {
      "cell_type": "code",
      "source": [
        "# Sanity check:\n",
        "img, label = cifar10_val[0]\n",
        "img.shape, label"
      ],
      "metadata": {
        "colab": {
          "base_uri": "https://localhost:8080/"
        },
        "id": "2YMSMrGYehpB",
        "outputId": "e303e897-42cc-4fb6-a1d7-27f24d33ebde"
      },
      "execution_count": 18,
      "outputs": [
        {
          "output_type": "execute_result",
          "data": {
            "text/plain": [
              "(torch.Size([3, 32, 32]), 3)"
            ]
          },
          "metadata": {},
          "execution_count": 18
        }
      ]
    },
    {
      "cell_type": "code",
      "source": [
        "label_map = {0: 0.0, 2: 1.0}\n",
        "class_names = ['airplane', 'bird']"
      ],
      "metadata": {
        "id": "gYs-l9GbepOY"
      },
      "execution_count": 19,
      "outputs": []
    },
    {
      "cell_type": "markdown",
      "source": [
        "**Note:** Unlike `nn.CrossEntropyLoss`, `nn.BCEWithLogitsLoss` expects the target tensor to contain floats (not integers)."
      ],
      "metadata": {
        "id": "GMYDbTs1PxEu"
      }
    },
    {
      "cell_type": "code",
      "source": [
        "cifar2_train = [(img, label_map[label]) for img, label in cifar10_train if label in [0, 2]]\n",
        "len(cifar2_train)"
      ],
      "metadata": {
        "colab": {
          "base_uri": "https://localhost:8080/"
        },
        "id": "VPBum8xpeycm",
        "outputId": "9d20598f-a317-4546-86a1-9f00cec878e9"
      },
      "execution_count": 20,
      "outputs": [
        {
          "output_type": "execute_result",
          "data": {
            "text/plain": [
              "10000"
            ]
          },
          "metadata": {},
          "execution_count": 20
        }
      ]
    },
    {
      "cell_type": "code",
      "source": [
        "# Sanity check:\n",
        "img, label = cifar2_train[0]\n",
        "img.shape, label"
      ],
      "metadata": {
        "colab": {
          "base_uri": "https://localhost:8080/"
        },
        "id": "SpmoY7v7fEfB",
        "outputId": "dfc1fcb7-8a68-4d4d-86d3-2df729f78fd8"
      },
      "execution_count": 21,
      "outputs": [
        {
          "output_type": "execute_result",
          "data": {
            "text/plain": [
              "(torch.Size([3, 32, 32]), 0.0)"
            ]
          },
          "metadata": {},
          "execution_count": 21
        }
      ]
    },
    {
      "cell_type": "code",
      "source": [
        "cifar2_val = [(img, label_map[label]) for img, label in cifar10_val if label in [0, 2]]\n",
        "len(cifar2_val)"
      ],
      "metadata": {
        "colab": {
          "base_uri": "https://localhost:8080/"
        },
        "id": "Gwbww8QTfJ_J",
        "outputId": "0d9fbcc2-2f71-4d90-c30c-314fe26a0638"
      },
      "execution_count": 22,
      "outputs": [
        {
          "output_type": "execute_result",
          "data": {
            "text/plain": [
              "2000"
            ]
          },
          "metadata": {},
          "execution_count": 22
        }
      ]
    },
    {
      "cell_type": "code",
      "source": [
        "# Sanity check:\n",
        "img, label = cifar2_val[0]\n",
        "img.shape, label"
      ],
      "metadata": {
        "colab": {
          "base_uri": "https://localhost:8080/"
        },
        "id": "Wf2C0CgmfXNk",
        "outputId": "a7745e40-55d0-473b-f3fc-f399d1028fbd"
      },
      "execution_count": 23,
      "outputs": [
        {
          "output_type": "execute_result",
          "data": {
            "text/plain": [
              "(torch.Size([3, 32, 32]), 0.0)"
            ]
          },
          "metadata": {},
          "execution_count": 23
        }
      ]
    },
    {
      "cell_type": "code",
      "source": [
        "batch_size = 64"
      ],
      "metadata": {
        "id": "cnE7E0xmfcYT"
      },
      "execution_count": 24,
      "outputs": []
    },
    {
      "cell_type": "code",
      "source": [
        "from torch.utils.data import DataLoader\n",
        "\n",
        "train_dl = DataLoader(cifar2_train, batch_size=batch_size, shuffle=True, num_workers=2)\n",
        "len(train_dl)"
      ],
      "metadata": {
        "colab": {
          "base_uri": "https://localhost:8080/"
        },
        "id": "xg2FV-3pfemZ",
        "outputId": "9cc67a16-0935-4c05-a3fa-cf6b545fc957"
      },
      "execution_count": 25,
      "outputs": [
        {
          "output_type": "execute_result",
          "data": {
            "text/plain": [
              "157"
            ]
          },
          "metadata": {},
          "execution_count": 25
        }
      ]
    },
    {
      "cell_type": "code",
      "source": [
        "# Sanity check:\n",
        "imgs, labels = next(iter(train_dl))\n",
        "imgs.shape, labels.shape"
      ],
      "metadata": {
        "colab": {
          "base_uri": "https://localhost:8080/"
        },
        "id": "Fw0QOQWEfp0V",
        "outputId": "6f6bc5b9-be81-4f7a-dcaf-e9a92906c0bb"
      },
      "execution_count": 26,
      "outputs": [
        {
          "output_type": "execute_result",
          "data": {
            "text/plain": [
              "(torch.Size([64, 3, 32, 32]), torch.Size([64]))"
            ]
          },
          "metadata": {},
          "execution_count": 26
        }
      ]
    },
    {
      "cell_type": "code",
      "source": [
        "imgs.dtype, labels.dtype"
      ],
      "metadata": {
        "colab": {
          "base_uri": "https://localhost:8080/"
        },
        "id": "iw22BZVKf10n",
        "outputId": "fccc3ce7-a452-41fb-9e60-bf0f57f26368"
      },
      "execution_count": 27,
      "outputs": [
        {
          "output_type": "execute_result",
          "data": {
            "text/plain": [
              "(torch.float32, torch.float64)"
            ]
          },
          "metadata": {},
          "execution_count": 27
        }
      ]
    },
    {
      "cell_type": "code",
      "source": [
        "val_dl = DataLoader(cifar2_val, batch_size=batch_size, shuffle=False, num_workers=2)\n",
        "len(val_dl)"
      ],
      "metadata": {
        "colab": {
          "base_uri": "https://localhost:8080/"
        },
        "id": "XV3iAMGUf5WA",
        "outputId": "a927b2be-d848-45d9-9438-3c3d94d8b513"
      },
      "execution_count": 28,
      "outputs": [
        {
          "output_type": "execute_result",
          "data": {
            "text/plain": [
              "32"
            ]
          },
          "metadata": {},
          "execution_count": 28
        }
      ]
    },
    {
      "cell_type": "code",
      "source": [
        "# Sanity check:\n",
        "imgs, labels = next(iter(val_dl))\n",
        "imgs.shape, labels.shape"
      ],
      "metadata": {
        "colab": {
          "base_uri": "https://localhost:8080/"
        },
        "id": "iBVj-eeggBRv",
        "outputId": "4f4bd8e8-54ef-4edf-9d1b-b4a90b2a95f6"
      },
      "execution_count": 29,
      "outputs": [
        {
          "output_type": "execute_result",
          "data": {
            "text/plain": [
              "(torch.Size([64, 3, 32, 32]), torch.Size([64]))"
            ]
          },
          "metadata": {},
          "execution_count": 29
        }
      ]
    },
    {
      "cell_type": "code",
      "source": [
        "imgs.dtype, labels.dtype"
      ],
      "metadata": {
        "colab": {
          "base_uri": "https://localhost:8080/"
        },
        "id": "J3K-NMwEgHQk",
        "outputId": "3793143f-1ec7-4024-c8e5-ab7a41fd4052"
      },
      "execution_count": 30,
      "outputs": [
        {
          "output_type": "execute_result",
          "data": {
            "text/plain": [
              "(torch.float32, torch.float64)"
            ]
          },
          "metadata": {},
          "execution_count": 30
        }
      ]
    },
    {
      "cell_type": "markdown",
      "source": [
        "Now, let's define our multi-layer perceptron."
      ],
      "metadata": {
        "id": "oHk2zV8HH1BN"
      }
    },
    {
      "cell_type": "code",
      "source": [
        "3 * 32 * 32"
      ],
      "metadata": {
        "colab": {
          "base_uri": "https://localhost:8080/"
        },
        "id": "Z3slCGqVphBu",
        "outputId": "ab44c322-9b40-4b55-99ba-df7724daead5"
      },
      "execution_count": 31,
      "outputs": [
        {
          "output_type": "execute_result",
          "data": {
            "text/plain": [
              "3072"
            ]
          },
          "metadata": {},
          "execution_count": 31
        }
      ]
    },
    {
      "cell_type": "code",
      "source": [
        "import torch.nn as nn\n",
        "\n",
        "class MLPForCIFAR2(nn.Module):\n",
        "    def __init__(self):\n",
        "        super().__init__()\n",
        "        self.mlp = nn.Sequential(\n",
        "            nn.Linear(3072, 1024), # Hidden layer.\n",
        "            nn.Tanh(),\n",
        "            nn.Linear(1024, 512), # Hidden layer.\n",
        "            nn.Tanh(),\n",
        "            nn.Linear(512, 128), # Hidden layer.\n",
        "            nn.Tanh(),\n",
        "            nn.Linear(128, 1) # Output layer.\n",
        "        )\n",
        "\n",
        "    def forward(self, x):\n",
        "        return self.mlp(x)\n",
        "\n",
        "model = MLPForCIFAR2()\n",
        "model"
      ],
      "metadata": {
        "colab": {
          "base_uri": "https://localhost:8080/"
        },
        "id": "ZEdG-pR8qLxY",
        "outputId": "5f75d024-d86a-4248-df41-3b2b5192d4ea"
      },
      "execution_count": 32,
      "outputs": [
        {
          "output_type": "execute_result",
          "data": {
            "text/plain": [
              "MLPForCIFAR2(\n",
              "  (mlp): Sequential(\n",
              "    (0): Linear(in_features=3072, out_features=1024, bias=True)\n",
              "    (1): Tanh()\n",
              "    (2): Linear(in_features=1024, out_features=512, bias=True)\n",
              "    (3): Tanh()\n",
              "    (4): Linear(in_features=512, out_features=128, bias=True)\n",
              "    (5): Tanh()\n",
              "    (6): Linear(in_features=128, out_features=1, bias=True)\n",
              "  )\n",
              ")"
            ]
          },
          "metadata": {},
          "execution_count": 32
        }
      ]
    },
    {
      "cell_type": "code",
      "source": [
        "# Sanity check:\n",
        "with torch.no_grad():\n",
        "    batch_dim = imgs.shape[0]\n",
        "    logits = model(imgs.view(batch_dim, -1)) # Flatten.\n",
        "logits.shape"
      ],
      "metadata": {
        "colab": {
          "base_uri": "https://localhost:8080/"
        },
        "id": "lIihQvNHq4Wn",
        "outputId": "e9e4c893-65a7-4ec4-de2c-8cfbb4f35051"
      },
      "execution_count": 33,
      "outputs": [
        {
          "output_type": "execute_result",
          "data": {
            "text/plain": [
              "torch.Size([64, 1])"
            ]
          },
          "metadata": {},
          "execution_count": 33
        }
      ]
    },
    {
      "cell_type": "code",
      "source": [
        "loss_fn = nn.BCEWithLogitsLoss()"
      ],
      "metadata": {
        "id": "hiRpIUYJrEqv"
      },
      "execution_count": 34,
      "outputs": []
    },
    {
      "cell_type": "code",
      "source": [
        "# Sanity check:\n",
        "with torch.no_grad():\n",
        "    loss = loss_fn(logits.squeeze(), labels)\n",
        "loss"
      ],
      "metadata": {
        "colab": {
          "base_uri": "https://localhost:8080/"
        },
        "id": "BBcfkTOurJgZ",
        "outputId": "eae7ee24-b03d-47ff-b168-c5a98b0923f9"
      },
      "execution_count": 35,
      "outputs": [
        {
          "output_type": "execute_result",
          "data": {
            "text/plain": [
              "tensor(0.7016, dtype=torch.float64)"
            ]
          },
          "metadata": {},
          "execution_count": 35
        }
      ]
    },
    {
      "cell_type": "markdown",
      "source": [
        "**Note:** `nn.BCEWithLogitsLoss` expects the logits and the labels to have the same shape."
      ],
      "metadata": {
        "id": "Cr7wjGtnUvij"
      }
    },
    {
      "cell_type": "code",
      "source": [
        "from torch.optim import SGD\n",
        "\n",
        "learning_rate = 1e-2\n",
        "optimizer = SGD(model.parameters(), lr=learning_rate)\n",
        "n_epochs = 100"
      ],
      "metadata": {
        "id": "dN5G-UCQrZBx"
      },
      "execution_count": 36,
      "outputs": []
    },
    {
      "cell_type": "code",
      "source": [
        "def train_epoch():\n",
        "    model.train()\n",
        "    train_loss = 0\n",
        "    for imgs, labels in train_dl:\n",
        "        batch_dim = imgs.shape[0]\n",
        "        logits = model(imgs.view(batch_dim, -1))\n",
        "        loss = loss_fn(logits.squeeze(), labels)\n",
        "        train_loss += loss.item()\n",
        "\n",
        "        optimizer.zero_grad()\n",
        "        loss.backward()\n",
        "        optimizer.step()\n",
        "    train_loss /= len(cifar2_train)\n",
        "    train_loss = round(train_loss, 4)\n",
        "    return train_loss"
      ],
      "metadata": {
        "id": "T31Fu25xrkz4"
      },
      "execution_count": 37,
      "outputs": []
    },
    {
      "cell_type": "code",
      "source": [
        "import torch.nn.functional as F\n",
        "\n",
        "def validate_epoch():\n",
        "    model.eval()\n",
        "    val_loss = 0\n",
        "    correct = 0\n",
        "    with torch.no_grad():\n",
        "        for imgs, labels in val_dl:\n",
        "            batch_dim = imgs.shape[0]\n",
        "            logits = model(imgs.view(batch_dim, -1))\n",
        "            loss = loss_fn(logits.squeeze(), labels)\n",
        "            val_loss += loss.item()\n",
        "            proba = F.sigmoid(logits.squeeze())\n",
        "            preds = proba > 0.5\n",
        "            correct += (preds == labels).sum().item()\n",
        "        val_loss /= len(cifar2_val)\n",
        "        val_loss = round(val_loss, 4)\n",
        "        acc = round(correct / len(cifar2_val), 4)\n",
        "    return val_loss, acc"
      ],
      "metadata": {
        "id": "0ZlZ8ZUBsTfO"
      },
      "execution_count": 38,
      "outputs": []
    },
    {
      "cell_type": "code",
      "source": [
        "import wandb\n",
        "\n",
        "wandb.init(\n",
        "    project=\"mlp-cifar2-v2\",\n",
        "    config={\n",
        "        'architecture': \"MLP with 3 hidden layers\",\n",
        "        'dataset': \"CIFAR-2\",\n",
        "        'learning_rate': learning_rate,\n",
        "        'n_epochs': n_epochs,\n",
        "        'batch_size': batch_size\n",
        "    }\n",
        ")"
      ],
      "metadata": {
        "colab": {
          "base_uri": "https://localhost:8080/",
          "height": 160
        },
        "id": "KBVuVvXBtfgK",
        "outputId": "c85a45b9-1803-43b1-c0cf-a255c31fa8b6"
      },
      "execution_count": 39,
      "outputs": [
        {
          "output_type": "display_data",
          "data": {
            "text/plain": [
              "<IPython.core.display.Javascript object>"
            ],
            "application/javascript": [
              "\n",
              "        window._wandbApiKey = new Promise((resolve, reject) => {\n",
              "            function loadScript(url) {\n",
              "            return new Promise(function(resolve, reject) {\n",
              "                let newScript = document.createElement(\"script\");\n",
              "                newScript.onerror = reject;\n",
              "                newScript.onload = resolve;\n",
              "                document.body.appendChild(newScript);\n",
              "                newScript.src = url;\n",
              "            });\n",
              "            }\n",
              "            loadScript(\"https://cdn.jsdelivr.net/npm/postmate/build/postmate.min.js\").then(() => {\n",
              "            const iframe = document.createElement('iframe')\n",
              "            iframe.style.cssText = \"width:0;height:0;border:none\"\n",
              "            document.body.appendChild(iframe)\n",
              "            const handshake = new Postmate({\n",
              "                container: iframe,\n",
              "                url: 'https://wandb.ai/authorize'\n",
              "            });\n",
              "            const timeout = setTimeout(() => reject(\"Couldn't auto authenticate\"), 5000)\n",
              "            handshake.then(function(child) {\n",
              "                child.on('authorize', data => {\n",
              "                    clearTimeout(timeout)\n",
              "                    resolve(data)\n",
              "                });\n",
              "            });\n",
              "            })\n",
              "        });\n",
              "    "
            ]
          },
          "metadata": {}
        },
        {
          "output_type": "stream",
          "name": "stderr",
          "text": [
            "\u001b[34m\u001b[1mwandb\u001b[0m: Appending key for api.wandb.ai to your netrc file: /root/.netrc\n"
          ]
        },
        {
          "output_type": "display_data",
          "data": {
            "text/plain": [
              "<IPython.core.display.HTML object>"
            ],
            "text/html": [
              "Tracking run with wandb version 0.16.2"
            ]
          },
          "metadata": {}
        },
        {
          "output_type": "display_data",
          "data": {
            "text/plain": [
              "<IPython.core.display.HTML object>"
            ],
            "text/html": [
              "Run data is saved locally in <code>/content/wandb/run-20240201_094148-cuyppfy9</code>"
            ]
          },
          "metadata": {}
        },
        {
          "output_type": "display_data",
          "data": {
            "text/plain": [
              "<IPython.core.display.HTML object>"
            ],
            "text/html": [
              "Syncing run <strong><a href='https://wandb.ai/sadhaklal/mlp-cifar2-v2/runs/cuyppfy9' target=\"_blank\">silvery-terrain-1</a></strong> to <a href='https://wandb.ai/sadhaklal/mlp-cifar2-v2' target=\"_blank\">Weights & Biases</a> (<a href='https://wandb.me/run' target=\"_blank\">docs</a>)<br/>"
            ]
          },
          "metadata": {}
        },
        {
          "output_type": "display_data",
          "data": {
            "text/plain": [
              "<IPython.core.display.HTML object>"
            ],
            "text/html": [
              " View project at <a href='https://wandb.ai/sadhaklal/mlp-cifar2-v2' target=\"_blank\">https://wandb.ai/sadhaklal/mlp-cifar2-v2</a>"
            ]
          },
          "metadata": {}
        },
        {
          "output_type": "display_data",
          "data": {
            "text/plain": [
              "<IPython.core.display.HTML object>"
            ],
            "text/html": [
              " View run at <a href='https://wandb.ai/sadhaklal/mlp-cifar2-v2/runs/cuyppfy9' target=\"_blank\">https://wandb.ai/sadhaklal/mlp-cifar2-v2/runs/cuyppfy9</a>"
            ]
          },
          "metadata": {}
        },
        {
          "output_type": "execute_result",
          "data": {
            "text/html": [
              "<button onClick=\"this.nextSibling.style.display='block';this.style.display='none';\">Display W&B run</button><iframe src='https://wandb.ai/sadhaklal/mlp-cifar2-v2/runs/cuyppfy9?jupyter=true' style='border:none;width:100%;height:420px;display:none;'></iframe>"
            ],
            "text/plain": [
              "<wandb.sdk.wandb_run.Run at 0x7ceeec5e6ef0>"
            ]
          },
          "metadata": {},
          "execution_count": 39
        }
      ]
    },
    {
      "cell_type": "code",
      "source": [
        "best_epoch = 0\n",
        "best_acc = 0\n",
        "for epoch in range(n_epochs):\n",
        "    train_loss = train_epoch()\n",
        "    print(f\"Epoch: {epoch}, Training Loss: {train_loss}\")\n",
        "\n",
        "    val_loss, acc = validate_epoch()\n",
        "    print(f\"Validation Loss: {val_loss}, Accuracy: {acc}\")\n",
        "\n",
        "    wandb.log({\n",
        "        'train_loss': train_loss,\n",
        "        'val_loss': val_loss,\n",
        "        'accuracy': acc\n",
        "    })\n",
        "\n",
        "    if acc > best_acc:\n",
        "        best_epoch = epoch\n",
        "        best_acc = acc\n",
        "\n",
        "    print(\"---\")\n",
        "wandb.finish()\n",
        "print(\"---\")\n",
        "print(f\"Best Epoch: {best_epoch}, Best Accuracy: {best_acc}\")"
      ],
      "metadata": {
        "colab": {
          "base_uri": "https://localhost:8080/",
          "height": 1000,
          "referenced_widgets": [
            "f75547a9ec2e46dbabbe4788c604bcf8",
            "4d20a21e265547088291a9c27016b178",
            "1243d4aed92d46199000c47bfbe8d48d",
            "317371ea02714a44af94a0129b706120",
            "1be4db2215cd4b71b746dc952916e511",
            "73793df0721546059a2fcde5ea65183b",
            "df610a2bc340410ea32854d841c7c055",
            "c2233e832e6c48e9b9ccc513d9a4b23b"
          ]
        },
        "id": "MkOgBfhjucTw",
        "outputId": "a5e2361d-bf47-4e0e-db30-6028462c93ce"
      },
      "execution_count": 40,
      "outputs": [
        {
          "output_type": "stream",
          "name": "stdout",
          "text": [
            "Epoch: 0, Training Loss: 0.0087\n",
            "Validation Loss: 0.0081, Accuracy: 0.7685\n",
            "---\n",
            "Epoch: 1, Training Loss: 0.0078\n",
            "Validation Loss: 0.0077, Accuracy: 0.7785\n",
            "---\n",
            "Epoch: 2, Training Loss: 0.0075\n",
            "Validation Loss: 0.0077, Accuracy: 0.784\n",
            "---\n",
            "Epoch: 3, Training Loss: 0.0073\n",
            "Validation Loss: 0.0073, Accuracy: 0.7925\n",
            "---\n",
            "Epoch: 4, Training Loss: 0.0072\n",
            "Validation Loss: 0.0073, Accuracy: 0.7985\n",
            "---\n",
            "Epoch: 5, Training Loss: 0.007\n",
            "Validation Loss: 0.0074, Accuracy: 0.7965\n",
            "---\n",
            "Epoch: 6, Training Loss: 0.0069\n",
            "Validation Loss: 0.0071, Accuracy: 0.8015\n",
            "---\n",
            "Epoch: 7, Training Loss: 0.0068\n",
            "Validation Loss: 0.007, Accuracy: 0.8065\n",
            "---\n",
            "Epoch: 8, Training Loss: 0.0066\n",
            "Validation Loss: 0.007, Accuracy: 0.805\n",
            "---\n",
            "Epoch: 9, Training Loss: 0.0065\n",
            "Validation Loss: 0.007, Accuracy: 0.806\n",
            "---\n",
            "Epoch: 10, Training Loss: 0.0064\n",
            "Validation Loss: 0.0073, Accuracy: 0.799\n",
            "---\n",
            "Epoch: 11, Training Loss: 0.0063\n",
            "Validation Loss: 0.0069, Accuracy: 0.811\n",
            "---\n",
            "Epoch: 12, Training Loss: 0.0062\n",
            "Validation Loss: 0.007, Accuracy: 0.8065\n",
            "---\n",
            "Epoch: 13, Training Loss: 0.0061\n",
            "Validation Loss: 0.0078, Accuracy: 0.7715\n",
            "---\n",
            "Epoch: 14, Training Loss: 0.006\n",
            "Validation Loss: 0.0071, Accuracy: 0.806\n",
            "---\n",
            "Epoch: 15, Training Loss: 0.0059\n",
            "Validation Loss: 0.0071, Accuracy: 0.81\n",
            "---\n",
            "Epoch: 16, Training Loss: 0.0057\n",
            "Validation Loss: 0.0068, Accuracy: 0.8155\n",
            "---\n",
            "Epoch: 17, Training Loss: 0.0058\n",
            "Validation Loss: 0.0073, Accuracy: 0.804\n",
            "---\n",
            "Epoch: 18, Training Loss: 0.0057\n",
            "Validation Loss: 0.0077, Accuracy: 0.7905\n",
            "---\n",
            "Epoch: 19, Training Loss: 0.0055\n",
            "Validation Loss: 0.0093, Accuracy: 0.717\n",
            "---\n",
            "Epoch: 20, Training Loss: 0.0054\n",
            "Validation Loss: 0.0074, Accuracy: 0.807\n",
            "---\n",
            "Epoch: 21, Training Loss: 0.0052\n",
            "Validation Loss: 0.0072, Accuracy: 0.81\n",
            "---\n",
            "Epoch: 22, Training Loss: 0.0051\n",
            "Validation Loss: 0.0105, Accuracy: 0.6895\n",
            "---\n",
            "Epoch: 23, Training Loss: 0.0049\n",
            "Validation Loss: 0.0072, Accuracy: 0.8075\n",
            "---\n",
            "Epoch: 24, Training Loss: 0.0048\n",
            "Validation Loss: 0.0068, Accuracy: 0.821\n",
            "---\n",
            "Epoch: 25, Training Loss: 0.0049\n",
            "Validation Loss: 0.0094, Accuracy: 0.7315\n",
            "---\n",
            "Epoch: 26, Training Loss: 0.0045\n",
            "Validation Loss: 0.007, Accuracy: 0.817\n",
            "---\n",
            "Epoch: 27, Training Loss: 0.0044\n",
            "Validation Loss: 0.0073, Accuracy: 0.8045\n",
            "---\n",
            "Epoch: 28, Training Loss: 0.0044\n",
            "Validation Loss: 0.0148, Accuracy: 0.6305\n",
            "---\n",
            "Epoch: 29, Training Loss: 0.0043\n",
            "Validation Loss: 0.0082, Accuracy: 0.7875\n",
            "---\n",
            "Epoch: 30, Training Loss: 0.004\n",
            "Validation Loss: 0.0071, Accuracy: 0.817\n",
            "---\n",
            "Epoch: 31, Training Loss: 0.004\n",
            "Validation Loss: 0.0075, Accuracy: 0.807\n",
            "---\n",
            "Epoch: 32, Training Loss: 0.0038\n",
            "Validation Loss: 0.0077, Accuracy: 0.8205\n",
            "---\n",
            "Epoch: 33, Training Loss: 0.0037\n",
            "Validation Loss: 0.0092, Accuracy: 0.758\n",
            "---\n",
            "Epoch: 34, Training Loss: 0.0037\n",
            "Validation Loss: 0.0078, Accuracy: 0.816\n",
            "---\n",
            "Epoch: 35, Training Loss: 0.0037\n",
            "Validation Loss: 0.0075, Accuracy: 0.815\n",
            "---\n",
            "Epoch: 36, Training Loss: 0.0032\n",
            "Validation Loss: 0.0149, Accuracy: 0.749\n",
            "---\n",
            "Epoch: 37, Training Loss: 0.0033\n",
            "Validation Loss: 0.0085, Accuracy: 0.805\n",
            "---\n",
            "Epoch: 38, Training Loss: 0.0028\n",
            "Validation Loss: 0.0078, Accuracy: 0.82\n",
            "---\n",
            "Epoch: 39, Training Loss: 0.0029\n",
            "Validation Loss: 0.0094, Accuracy: 0.7995\n",
            "---\n",
            "Epoch: 40, Training Loss: 0.0026\n",
            "Validation Loss: 0.0102, Accuracy: 0.8\n",
            "---\n",
            "Epoch: 41, Training Loss: 0.0027\n",
            "Validation Loss: 0.0082, Accuracy: 0.8195\n",
            "---\n",
            "Epoch: 42, Training Loss: 0.0025\n",
            "Validation Loss: 0.0209, Accuracy: 0.6115\n",
            "---\n",
            "Epoch: 43, Training Loss: 0.0023\n",
            "Validation Loss: 0.0084, Accuracy: 0.807\n",
            "---\n",
            "Epoch: 44, Training Loss: 0.0022\n",
            "Validation Loss: 0.0141, Accuracy: 0.7675\n",
            "---\n",
            "Epoch: 45, Training Loss: 0.0023\n",
            "Validation Loss: 0.0117, Accuracy: 0.7315\n",
            "---\n",
            "Epoch: 46, Training Loss: 0.0017\n",
            "Validation Loss: 0.0096, Accuracy: 0.8155\n",
            "---\n",
            "Epoch: 47, Training Loss: 0.002\n",
            "Validation Loss: 0.0096, Accuracy: 0.8195\n",
            "---\n",
            "Epoch: 48, Training Loss: 0.0017\n",
            "Validation Loss: 0.0091, Accuracy: 0.804\n",
            "---\n",
            "Epoch: 49, Training Loss: 0.0018\n",
            "Validation Loss: 0.0127, Accuracy: 0.7395\n",
            "---\n",
            "Epoch: 50, Training Loss: 0.0012\n",
            "Validation Loss: 0.0096, Accuracy: 0.807\n",
            "---\n",
            "Epoch: 51, Training Loss: 0.0014\n",
            "Validation Loss: 0.0177, Accuracy: 0.774\n",
            "---\n",
            "Epoch: 52, Training Loss: 0.0017\n",
            "Validation Loss: 0.0098, Accuracy: 0.8145\n",
            "---\n",
            "Epoch: 53, Training Loss: 0.001\n",
            "Validation Loss: 0.0109, Accuracy: 0.8205\n",
            "---\n",
            "Epoch: 54, Training Loss: 0.002\n",
            "Validation Loss: 0.0167, Accuracy: 0.7915\n",
            "---\n",
            "Epoch: 55, Training Loss: 0.0012\n",
            "Validation Loss: 0.0101, Accuracy: 0.8215\n",
            "---\n",
            "Epoch: 56, Training Loss: 0.0007\n",
            "Validation Loss: 0.0105, Accuracy: 0.82\n",
            "---\n",
            "Epoch: 57, Training Loss: 0.0014\n",
            "Validation Loss: 0.0158, Accuracy: 0.704\n",
            "---\n",
            "Epoch: 58, Training Loss: 0.0012\n",
            "Validation Loss: 0.0122, Accuracy: 0.7915\n",
            "---\n",
            "Epoch: 59, Training Loss: 0.0006\n",
            "Validation Loss: 0.0111, Accuracy: 0.8125\n",
            "---\n",
            "Epoch: 60, Training Loss: 0.0005\n",
            "Validation Loss: 0.0395, Accuracy: 0.587\n",
            "---\n",
            "Epoch: 61, Training Loss: 0.0015\n",
            "Validation Loss: 0.0115, Accuracy: 0.819\n",
            "---\n",
            "Epoch: 62, Training Loss: 0.0004\n",
            "Validation Loss: 0.0115, Accuracy: 0.815\n",
            "---\n",
            "Epoch: 63, Training Loss: 0.0004\n",
            "Validation Loss: 0.0172, Accuracy: 0.7395\n",
            "---\n",
            "Epoch: 64, Training Loss: 0.0012\n",
            "Validation Loss: 0.0126, Accuracy: 0.8165\n",
            "---\n",
            "Epoch: 65, Training Loss: 0.0004\n",
            "Validation Loss: 0.0124, Accuracy: 0.816\n",
            "---\n",
            "Epoch: 66, Training Loss: 0.0011\n",
            "Validation Loss: 0.012, Accuracy: 0.815\n",
            "---\n",
            "Epoch: 67, Training Loss: 0.0003\n",
            "Validation Loss: 0.0162, Accuracy: 0.761\n",
            "---\n",
            "Epoch: 68, Training Loss: 0.0003\n",
            "Validation Loss: 0.0127, Accuracy: 0.8085\n",
            "---\n",
            "Epoch: 69, Training Loss: 0.0002\n",
            "Validation Loss: 0.0133, Accuracy: 0.8155\n",
            "---\n",
            "Epoch: 70, Training Loss: 0.0003\n",
            "Validation Loss: 0.0132, Accuracy: 0.809\n",
            "---\n",
            "Epoch: 71, Training Loss: 0.0012\n",
            "Validation Loss: 0.0147, Accuracy: 0.8125\n",
            "---\n",
            "Epoch: 72, Training Loss: 0.0004\n",
            "Validation Loss: 0.0128, Accuracy: 0.817\n",
            "---\n",
            "Epoch: 73, Training Loss: 0.0002\n",
            "Validation Loss: 0.013, Accuracy: 0.8075\n",
            "---\n",
            "Epoch: 74, Training Loss: 0.0002\n",
            "Validation Loss: 0.014, Accuracy: 0.816\n",
            "---\n",
            "Epoch: 75, Training Loss: 0.0002\n",
            "Validation Loss: 0.0163, Accuracy: 0.814\n",
            "---\n",
            "Epoch: 76, Training Loss: 0.0002\n",
            "Validation Loss: 0.0139, Accuracy: 0.8095\n",
            "---\n",
            "Epoch: 77, Training Loss: 0.0001\n",
            "Validation Loss: 0.0141, Accuracy: 0.809\n",
            "---\n",
            "Epoch: 78, Training Loss: 0.0001\n",
            "Validation Loss: 0.014, Accuracy: 0.808\n",
            "---\n",
            "Epoch: 79, Training Loss: 0.0001\n",
            "Validation Loss: 0.0141, Accuracy: 0.8105\n",
            "---\n",
            "Epoch: 80, Training Loss: 0.0001\n",
            "Validation Loss: 0.0143, Accuracy: 0.8085\n",
            "---\n",
            "Epoch: 81, Training Loss: 0.0001\n",
            "Validation Loss: 0.0262, Accuracy: 0.677\n",
            "---\n",
            "Epoch: 82, Training Loss: 0.0026\n",
            "Validation Loss: 0.014, Accuracy: 0.8175\n",
            "---\n",
            "Epoch: 83, Training Loss: 0.0001\n",
            "Validation Loss: 0.0137, Accuracy: 0.805\n",
            "---\n",
            "Epoch: 84, Training Loss: 0.0001\n",
            "Validation Loss: 0.0138, Accuracy: 0.811\n",
            "---\n",
            "Epoch: 85, Training Loss: 0.0012\n",
            "Validation Loss: 0.0136, Accuracy: 0.8085\n",
            "---\n",
            "Epoch: 86, Training Loss: 0.0001\n",
            "Validation Loss: 0.0139, Accuracy: 0.813\n",
            "---\n",
            "Epoch: 87, Training Loss: 0.0001\n",
            "Validation Loss: 0.0143, Accuracy: 0.8075\n",
            "---\n",
            "Epoch: 88, Training Loss: 0.0001\n",
            "Validation Loss: 0.0143, Accuracy: 0.812\n",
            "---\n",
            "Epoch: 89, Training Loss: 0.0002\n",
            "Validation Loss: 0.0148, Accuracy: 0.808\n",
            "---\n",
            "Epoch: 90, Training Loss: 0.0001\n",
            "Validation Loss: 0.0146, Accuracy: 0.809\n",
            "---\n",
            "Epoch: 91, Training Loss: 0.0001\n",
            "Validation Loss: 0.0146, Accuracy: 0.813\n",
            "---\n",
            "Epoch: 92, Training Loss: 0.0001\n",
            "Validation Loss: 0.0149, Accuracy: 0.8115\n",
            "---\n",
            "Epoch: 93, Training Loss: 0.0001\n",
            "Validation Loss: 0.0149, Accuracy: 0.8055\n",
            "---\n",
            "Epoch: 94, Training Loss: 0.0001\n",
            "Validation Loss: 0.0152, Accuracy: 0.815\n",
            "---\n",
            "Epoch: 95, Training Loss: 0.0\n",
            "Validation Loss: 0.0153, Accuracy: 0.812\n",
            "---\n",
            "Epoch: 96, Training Loss: 0.0\n",
            "Validation Loss: 0.016, Accuracy: 0.802\n",
            "---\n",
            "Epoch: 97, Training Loss: 0.0\n",
            "Validation Loss: 0.016, Accuracy: 0.7995\n",
            "---\n",
            "Epoch: 98, Training Loss: 0.0\n",
            "Validation Loss: 0.0155, Accuracy: 0.812\n",
            "---\n",
            "Epoch: 99, Training Loss: 0.0\n",
            "Validation Loss: 0.0158, Accuracy: 0.803\n",
            "---\n"
          ]
        },
        {
          "output_type": "display_data",
          "data": {
            "text/plain": [
              "VBox(children=(Label(value='0.001 MB of 0.018 MB uploaded\\r'), FloatProgress(value=0.05695151352799357, max=1.…"
            ],
            "application/vnd.jupyter.widget-view+json": {
              "version_major": 2,
              "version_minor": 0,
              "model_id": "f75547a9ec2e46dbabbe4788c604bcf8"
            }
          },
          "metadata": {}
        },
        {
          "output_type": "display_data",
          "data": {
            "text/plain": [
              "<IPython.core.display.HTML object>"
            ],
            "text/html": [
              "<style>\n",
              "    table.wandb td:nth-child(1) { padding: 0 10px; text-align: left ; width: auto;} td:nth-child(2) {text-align: left ; width: 100%}\n",
              "    .wandb-row { display: flex; flex-direction: row; flex-wrap: wrap; justify-content: flex-start; width: 100% }\n",
              "    .wandb-col { display: flex; flex-direction: column; flex-basis: 100%; flex: 1; padding: 10px; }\n",
              "    </style>\n",
              "<div class=\"wandb-row\"><div class=\"wandb-col\"><h3>Run history:</h3><br/><table class=\"wandb\"><tr><td>accuracy</td><td>▆▇▇█▇██▇█▄▅▇█▆██▇█▅▇███▇▁▆██████▄█████▇▇</td></tr><tr><td>train_loss</td><td>█▇▇▆▆▆▆▆▅▅▅▅▄▄▄▃▃▃▃▂▂▂▂▂▁▁▂▁▂▁▁▁▁▁▁▁▁▁▁▁</td></tr><tr><td>val_loss</td><td>▁▁▁▁▁▁▁▁▁▂▂▁▁▁▁▁▂▁▂▁▂▂▂▂█▃▂▂▃▂▂▃▅▂▂▃▃▃▃▃</td></tr></table><br/></div><div class=\"wandb-col\"><h3>Run summary:</h3><br/><table class=\"wandb\"><tr><td>accuracy</td><td>0.803</td></tr><tr><td>train_loss</td><td>0.0</td></tr><tr><td>val_loss</td><td>0.0158</td></tr></table><br/></div></div>"
            ]
          },
          "metadata": {}
        },
        {
          "output_type": "display_data",
          "data": {
            "text/plain": [
              "<IPython.core.display.HTML object>"
            ],
            "text/html": [
              " View run <strong style=\"color:#cdcd00\">silvery-terrain-1</strong> at: <a href='https://wandb.ai/sadhaklal/mlp-cifar2-v2/runs/cuyppfy9' target=\"_blank\">https://wandb.ai/sadhaklal/mlp-cifar2-v2/runs/cuyppfy9</a><br/>Synced 5 W&B file(s), 0 media file(s), 0 artifact file(s) and 0 other file(s)"
            ]
          },
          "metadata": {}
        },
        {
          "output_type": "display_data",
          "data": {
            "text/plain": [
              "<IPython.core.display.HTML object>"
            ],
            "text/html": [
              "Find logs at: <code>./wandb/run-20240201_094148-cuyppfy9/logs</code>"
            ]
          },
          "metadata": {}
        },
        {
          "output_type": "stream",
          "name": "stdout",
          "text": [
            "---\n",
            "Best Epoch: 55, Best Accuracy: 0.8215\n"
          ]
        }
      ]
    },
    {
      "cell_type": "markdown",
      "source": [
        "Answer to (a): Using `nn.BCEWithLogitsLoss` gives a slightly better accuracy than using `nn.CrossEntropyLoss`, which gave an accuracy of 0.801. (**Reference notebook:** https://github.com/deep-learning-with-pytorch/dlwpt-code/blob/master/p1ch7/2_birds_airplanes.ipynb)\n",
        "\n",
        "Now, let's reduce the capacity of the network by getting rid of one hidden layer."
      ],
      "metadata": {
        "id": "Qy27IoX2cJKz"
      }
    },
    {
      "cell_type": "code",
      "source": [
        "class MLPForCIFAR2(nn.Module):\n",
        "    def __init__(self):\n",
        "        super().__init__()\n",
        "        self.mlp = nn.Sequential(\n",
        "            nn.Linear(3072, 1024), # Hidden layer.\n",
        "            nn.Tanh(),\n",
        "            nn.Linear(1024, 128), # Hidden layer.\n",
        "            nn.Tanh(),\n",
        "            nn.Linear(128, 1) # Output layer.\n",
        "        )\n",
        "\n",
        "    def forward(self, x):\n",
        "        return self.mlp(x)\n",
        "\n",
        "model = MLPForCIFAR2()\n",
        "model"
      ],
      "metadata": {
        "colab": {
          "base_uri": "https://localhost:8080/"
        },
        "id": "cKxGdNd6ydtg",
        "outputId": "5ba6fed5-3da7-4fd4-ceb9-13dde36f47b8"
      },
      "execution_count": 41,
      "outputs": [
        {
          "output_type": "execute_result",
          "data": {
            "text/plain": [
              "MLPForCIFAR2(\n",
              "  (mlp): Sequential(\n",
              "    (0): Linear(in_features=3072, out_features=1024, bias=True)\n",
              "    (1): Tanh()\n",
              "    (2): Linear(in_features=1024, out_features=128, bias=True)\n",
              "    (3): Tanh()\n",
              "    (4): Linear(in_features=128, out_features=1, bias=True)\n",
              "  )\n",
              ")"
            ]
          },
          "metadata": {},
          "execution_count": 41
        }
      ]
    },
    {
      "cell_type": "markdown",
      "source": [
        "Let's re-instantiate the optimizer, and run our training loop."
      ],
      "metadata": {
        "id": "7sBCx84niPXc"
      }
    },
    {
      "cell_type": "code",
      "source": [
        "optimizer = SGD(model.parameters(), lr=learning_rate)"
      ],
      "metadata": {
        "id": "CkHDKPN0y3Y6"
      },
      "execution_count": 42,
      "outputs": []
    },
    {
      "cell_type": "code",
      "source": [
        "wandb.init(\n",
        "    project=\"mlp-cifar2-v2\",\n",
        "    config={\n",
        "        'architecture': \"MLP with 2 hidden layers\",\n",
        "        'dataset': \"CIFAR-2\",\n",
        "        'learning_rate': learning_rate,\n",
        "        'n_epochs': n_epochs,\n",
        "        'batch_size': batch_size\n",
        "    }\n",
        ")"
      ],
      "metadata": {
        "colab": {
          "base_uri": "https://localhost:8080/",
          "height": 142
        },
        "id": "k0q9Zi-ry8wX",
        "outputId": "d2186b35-fb5b-4b2b-f92e-3fec5e2cfe80"
      },
      "execution_count": 43,
      "outputs": [
        {
          "output_type": "stream",
          "name": "stderr",
          "text": [
            "\u001b[34m\u001b[1mwandb\u001b[0m: Currently logged in as: \u001b[33msadhaklal\u001b[0m. Use \u001b[1m`wandb login --relogin`\u001b[0m to force relogin\n"
          ]
        },
        {
          "output_type": "display_data",
          "data": {
            "text/plain": [
              "<IPython.core.display.HTML object>"
            ],
            "text/html": [
              "Tracking run with wandb version 0.16.2"
            ]
          },
          "metadata": {}
        },
        {
          "output_type": "display_data",
          "data": {
            "text/plain": [
              "<IPython.core.display.HTML object>"
            ],
            "text/html": [
              "Run data is saved locally in <code>/content/wandb/run-20240201_095025-zpt83kat</code>"
            ]
          },
          "metadata": {}
        },
        {
          "output_type": "display_data",
          "data": {
            "text/plain": [
              "<IPython.core.display.HTML object>"
            ],
            "text/html": [
              "Syncing run <strong><a href='https://wandb.ai/sadhaklal/mlp-cifar2-v2/runs/zpt83kat' target=\"_blank\">solar-blaze-2</a></strong> to <a href='https://wandb.ai/sadhaklal/mlp-cifar2-v2' target=\"_blank\">Weights & Biases</a> (<a href='https://wandb.me/run' target=\"_blank\">docs</a>)<br/>"
            ]
          },
          "metadata": {}
        },
        {
          "output_type": "display_data",
          "data": {
            "text/plain": [
              "<IPython.core.display.HTML object>"
            ],
            "text/html": [
              " View project at <a href='https://wandb.ai/sadhaklal/mlp-cifar2-v2' target=\"_blank\">https://wandb.ai/sadhaklal/mlp-cifar2-v2</a>"
            ]
          },
          "metadata": {}
        },
        {
          "output_type": "display_data",
          "data": {
            "text/plain": [
              "<IPython.core.display.HTML object>"
            ],
            "text/html": [
              " View run at <a href='https://wandb.ai/sadhaklal/mlp-cifar2-v2/runs/zpt83kat' target=\"_blank\">https://wandb.ai/sadhaklal/mlp-cifar2-v2/runs/zpt83kat</a>"
            ]
          },
          "metadata": {}
        },
        {
          "output_type": "execute_result",
          "data": {
            "text/html": [
              "<button onClick=\"this.nextSibling.style.display='block';this.style.display='none';\">Display W&B run</button><iframe src='https://wandb.ai/sadhaklal/mlp-cifar2-v2/runs/zpt83kat?jupyter=true' style='border:none;width:100%;height:420px;display:none;'></iframe>"
            ],
            "text/plain": [
              "<wandb.sdk.wandb_run.Run at 0x7ceeec4a6b00>"
            ]
          },
          "metadata": {},
          "execution_count": 43
        }
      ]
    },
    {
      "cell_type": "code",
      "source": [
        "best_epoch = 0\n",
        "best_acc = 0\n",
        "for epoch in range(n_epochs):\n",
        "    train_loss = train_epoch()\n",
        "    print(f\"Epoch: {epoch}, Training Loss: {train_loss}\")\n",
        "\n",
        "    val_loss, acc = validate_epoch()\n",
        "    print(f\"Validation Loss: {val_loss}, Accuracy: {acc}\")\n",
        "\n",
        "    wandb.log({\n",
        "        'train_loss': train_loss,\n",
        "        'validation_loss': val_loss,\n",
        "        'accuracy': acc\n",
        "    })\n",
        "\n",
        "    if acc > best_acc:\n",
        "        best_epoch = epoch\n",
        "        best_acc = acc\n",
        "\n",
        "    print(\"---\")\n",
        "wandb.finish()\n",
        "print(\"---\")\n",
        "print(f\"Best Epoch: {best_epoch}, Best Accuracy: {best_acc}\")"
      ],
      "metadata": {
        "colab": {
          "base_uri": "https://localhost:8080/",
          "height": 1000,
          "referenced_widgets": [
            "9c3699bd6d7a4cbdbbfb107eed171e9f",
            "9e5e2edab4d148898bc040757eda27c0",
            "18a83f0755cf41ac9c65c9d2a5748de9",
            "d845bef328cd459180f6daf5319ccfe8",
            "8f0b889ce33e4a839fb448e994e6ff1a",
            "6b5e6e7451e34b38aa812b6a9d2c7b18",
            "920a52db5b744048ad4f85311d9c2963",
            "ccd44275474d4be993f60b12cd2ae245"
          ]
        },
        "id": "uDs45xzBzVk3",
        "outputId": "317576a9-40b2-4f87-f863-b346b84c564d"
      },
      "execution_count": 44,
      "outputs": [
        {
          "output_type": "stream",
          "name": "stdout",
          "text": [
            "Epoch: 0, Training Loss: 0.0083\n",
            "Validation Loss: 0.0079, Accuracy: 0.774\n",
            "---\n",
            "Epoch: 1, Training Loss: 0.0076\n",
            "Validation Loss: 0.0076, Accuracy: 0.7845\n",
            "---\n",
            "Epoch: 2, Training Loss: 0.0074\n",
            "Validation Loss: 0.0079, Accuracy: 0.7735\n",
            "---\n",
            "Epoch: 3, Training Loss: 0.0072\n",
            "Validation Loss: 0.0073, Accuracy: 0.7975\n",
            "---\n",
            "Epoch: 4, Training Loss: 0.007\n",
            "Validation Loss: 0.0071, Accuracy: 0.805\n",
            "---\n",
            "Epoch: 5, Training Loss: 0.0068\n",
            "Validation Loss: 0.007, Accuracy: 0.8055\n",
            "---\n",
            "Epoch: 6, Training Loss: 0.0067\n",
            "Validation Loss: 0.007, Accuracy: 0.806\n",
            "---\n",
            "Epoch: 7, Training Loss: 0.0066\n",
            "Validation Loss: 0.0087, Accuracy: 0.715\n",
            "---\n",
            "Epoch: 8, Training Loss: 0.0065\n",
            "Validation Loss: 0.0071, Accuracy: 0.806\n",
            "---\n",
            "Epoch: 9, Training Loss: 0.0064\n",
            "Validation Loss: 0.007, Accuracy: 0.8105\n",
            "---\n",
            "Epoch: 10, Training Loss: 0.0063\n",
            "Validation Loss: 0.007, Accuracy: 0.806\n",
            "---\n",
            "Epoch: 11, Training Loss: 0.0062\n",
            "Validation Loss: 0.0074, Accuracy: 0.799\n",
            "---\n",
            "Epoch: 12, Training Loss: 0.0061\n",
            "Validation Loss: 0.0069, Accuracy: 0.811\n",
            "---\n",
            "Epoch: 13, Training Loss: 0.006\n",
            "Validation Loss: 0.0069, Accuracy: 0.8125\n",
            "---\n",
            "Epoch: 14, Training Loss: 0.0058\n",
            "Validation Loss: 0.0074, Accuracy: 0.7855\n",
            "---\n",
            "Epoch: 15, Training Loss: 0.0058\n",
            "Validation Loss: 0.0071, Accuracy: 0.811\n",
            "---\n",
            "Epoch: 16, Training Loss: 0.0056\n",
            "Validation Loss: 0.0069, Accuracy: 0.8115\n",
            "---\n",
            "Epoch: 17, Training Loss: 0.0056\n",
            "Validation Loss: 0.0101, Accuracy: 0.689\n",
            "---\n",
            "Epoch: 18, Training Loss: 0.0054\n",
            "Validation Loss: 0.0079, Accuracy: 0.7675\n",
            "---\n",
            "Epoch: 19, Training Loss: 0.0054\n",
            "Validation Loss: 0.0067, Accuracy: 0.8245\n",
            "---\n",
            "Epoch: 20, Training Loss: 0.0052\n",
            "Validation Loss: 0.0077, Accuracy: 0.798\n",
            "---\n",
            "Epoch: 21, Training Loss: 0.0051\n",
            "Validation Loss: 0.0078, Accuracy: 0.773\n",
            "---\n",
            "Epoch: 22, Training Loss: 0.0051\n",
            "Validation Loss: 0.0097, Accuracy: 0.767\n",
            "---\n",
            "Epoch: 23, Training Loss: 0.0051\n",
            "Validation Loss: 0.0068, Accuracy: 0.8235\n",
            "---\n",
            "Epoch: 24, Training Loss: 0.0047\n",
            "Validation Loss: 0.0106, Accuracy: 0.683\n",
            "---\n",
            "Epoch: 25, Training Loss: 0.0047\n",
            "Validation Loss: 0.0078, Accuracy: 0.7735\n",
            "---\n",
            "Epoch: 26, Training Loss: 0.0045\n",
            "Validation Loss: 0.0106, Accuracy: 0.69\n",
            "---\n",
            "Epoch: 27, Training Loss: 0.0045\n",
            "Validation Loss: 0.0095, Accuracy: 0.735\n",
            "---\n",
            "Epoch: 28, Training Loss: 0.0045\n",
            "Validation Loss: 0.0091, Accuracy: 0.7475\n",
            "---\n",
            "Epoch: 29, Training Loss: 0.0042\n",
            "Validation Loss: 0.007, Accuracy: 0.82\n",
            "---\n",
            "Epoch: 30, Training Loss: 0.004\n",
            "Validation Loss: 0.0083, Accuracy: 0.7765\n",
            "---\n",
            "Epoch: 31, Training Loss: 0.0039\n",
            "Validation Loss: 0.009, Accuracy: 0.7335\n",
            "---\n",
            "Epoch: 32, Training Loss: 0.0038\n",
            "Validation Loss: 0.0084, Accuracy: 0.7705\n",
            "---\n",
            "Epoch: 33, Training Loss: 0.0035\n",
            "Validation Loss: 0.0078, Accuracy: 0.801\n",
            "---\n",
            "Epoch: 34, Training Loss: 0.0038\n",
            "Validation Loss: 0.008, Accuracy: 0.814\n",
            "---\n",
            "Epoch: 35, Training Loss: 0.0034\n",
            "Validation Loss: 0.0136, Accuracy: 0.658\n",
            "---\n",
            "Epoch: 36, Training Loss: 0.0035\n",
            "Validation Loss: 0.0071, Accuracy: 0.822\n",
            "---\n",
            "Epoch: 37, Training Loss: 0.003\n",
            "Validation Loss: 0.0088, Accuracy: 0.806\n",
            "---\n",
            "Epoch: 38, Training Loss: 0.0031\n",
            "Validation Loss: 0.0123, Accuracy: 0.7095\n",
            "---\n",
            "Epoch: 39, Training Loss: 0.0032\n",
            "Validation Loss: 0.0092, Accuracy: 0.8075\n",
            "---\n",
            "Epoch: 40, Training Loss: 0.0028\n",
            "Validation Loss: 0.0076, Accuracy: 0.811\n",
            "---\n",
            "Epoch: 41, Training Loss: 0.0027\n",
            "Validation Loss: 0.01, Accuracy: 0.748\n",
            "---\n",
            "Epoch: 42, Training Loss: 0.0027\n",
            "Validation Loss: 0.0092, Accuracy: 0.8055\n",
            "---\n",
            "Epoch: 43, Training Loss: 0.0026\n",
            "Validation Loss: 0.01, Accuracy: 0.7485\n",
            "---\n",
            "Epoch: 44, Training Loss: 0.0022\n",
            "Validation Loss: 0.0088, Accuracy: 0.815\n",
            "---\n",
            "Epoch: 45, Training Loss: 0.0023\n",
            "Validation Loss: 0.009, Accuracy: 0.81\n",
            "---\n",
            "Epoch: 46, Training Loss: 0.0021\n",
            "Validation Loss: 0.0083, Accuracy: 0.816\n",
            "---\n",
            "Epoch: 47, Training Loss: 0.0021\n",
            "Validation Loss: 0.0085, Accuracy: 0.815\n",
            "---\n",
            "Epoch: 48, Training Loss: 0.0016\n",
            "Validation Loss: 0.0088, Accuracy: 0.818\n",
            "---\n",
            "Epoch: 49, Training Loss: 0.0021\n",
            "Validation Loss: 0.0102, Accuracy: 0.808\n",
            "---\n",
            "Epoch: 50, Training Loss: 0.0018\n",
            "Validation Loss: 0.0095, Accuracy: 0.7945\n",
            "---\n",
            "Epoch: 51, Training Loss: 0.0018\n",
            "Validation Loss: 0.0115, Accuracy: 0.769\n",
            "---\n",
            "Epoch: 52, Training Loss: 0.0016\n",
            "Validation Loss: 0.0153, Accuracy: 0.7825\n",
            "---\n",
            "Epoch: 53, Training Loss: 0.0014\n",
            "Validation Loss: 0.0094, Accuracy: 0.7985\n",
            "---\n",
            "Epoch: 54, Training Loss: 0.0014\n",
            "Validation Loss: 0.0125, Accuracy: 0.7385\n",
            "---\n",
            "Epoch: 55, Training Loss: 0.0015\n",
            "Validation Loss: 0.0089, Accuracy: 0.803\n",
            "---\n",
            "Epoch: 56, Training Loss: 0.0013\n",
            "Validation Loss: 0.0093, Accuracy: 0.814\n",
            "---\n",
            "Epoch: 57, Training Loss: 0.0011\n",
            "Validation Loss: 0.0103, Accuracy: 0.811\n",
            "---\n",
            "Epoch: 58, Training Loss: 0.0008\n",
            "Validation Loss: 0.0095, Accuracy: 0.817\n",
            "---\n",
            "Epoch: 59, Training Loss: 0.0013\n",
            "Validation Loss: 0.0101, Accuracy: 0.814\n",
            "---\n",
            "Epoch: 60, Training Loss: 0.0011\n",
            "Validation Loss: 0.0101, Accuracy: 0.806\n",
            "---\n",
            "Epoch: 61, Training Loss: 0.0009\n",
            "Validation Loss: 0.01, Accuracy: 0.812\n",
            "---\n",
            "Epoch: 62, Training Loss: 0.0012\n",
            "Validation Loss: 0.0099, Accuracy: 0.812\n",
            "---\n",
            "Epoch: 63, Training Loss: 0.0006\n",
            "Validation Loss: 0.01, Accuracy: 0.8085\n",
            "---\n",
            "Epoch: 64, Training Loss: 0.0007\n",
            "Validation Loss: 0.0157, Accuracy: 0.7925\n",
            "---\n",
            "Epoch: 65, Training Loss: 0.0006\n",
            "Validation Loss: 0.0112, Accuracy: 0.78\n",
            "---\n",
            "Epoch: 66, Training Loss: 0.0005\n",
            "Validation Loss: 0.0137, Accuracy: 0.764\n",
            "---\n",
            "Epoch: 67, Training Loss: 0.0005\n",
            "Validation Loss: 0.0108, Accuracy: 0.814\n",
            "---\n",
            "Epoch: 68, Training Loss: 0.0007\n",
            "Validation Loss: 0.0129, Accuracy: 0.8035\n",
            "---\n",
            "Epoch: 69, Training Loss: 0.0005\n",
            "Validation Loss: 0.0112, Accuracy: 0.8075\n",
            "---\n",
            "Epoch: 70, Training Loss: 0.0003\n",
            "Validation Loss: 0.0113, Accuracy: 0.814\n",
            "---\n",
            "Epoch: 71, Training Loss: 0.0003\n",
            "Validation Loss: 0.0141, Accuracy: 0.749\n",
            "---\n",
            "Epoch: 72, Training Loss: 0.0012\n",
            "Validation Loss: 0.0129, Accuracy: 0.812\n",
            "---\n",
            "Epoch: 73, Training Loss: 0.0005\n",
            "Validation Loss: 0.0114, Accuracy: 0.787\n",
            "---\n",
            "Epoch: 74, Training Loss: 0.0003\n",
            "Validation Loss: 0.0111, Accuracy: 0.805\n",
            "---\n",
            "Epoch: 75, Training Loss: 0.0007\n",
            "Validation Loss: 0.012, Accuracy: 0.799\n",
            "---\n",
            "Epoch: 76, Training Loss: 0.0009\n",
            "Validation Loss: 0.0124, Accuracy: 0.8085\n",
            "---\n",
            "Epoch: 77, Training Loss: 0.0003\n",
            "Validation Loss: 0.0116, Accuracy: 0.8045\n",
            "---\n",
            "Epoch: 78, Training Loss: 0.0002\n",
            "Validation Loss: 0.0115, Accuracy: 0.806\n",
            "---\n",
            "Epoch: 79, Training Loss: 0.0002\n",
            "Validation Loss: 0.0121, Accuracy: 0.815\n",
            "---\n",
            "Epoch: 80, Training Loss: 0.0002\n",
            "Validation Loss: 0.0118, Accuracy: 0.803\n",
            "---\n",
            "Epoch: 81, Training Loss: 0.0002\n",
            "Validation Loss: 0.0124, Accuracy: 0.8105\n",
            "---\n",
            "Epoch: 82, Training Loss: 0.0002\n",
            "Validation Loss: 0.012, Accuracy: 0.8095\n",
            "---\n",
            "Epoch: 83, Training Loss: 0.0011\n",
            "Validation Loss: 0.0119, Accuracy: 0.802\n",
            "---\n",
            "Epoch: 84, Training Loss: 0.0002\n",
            "Validation Loss: 0.0121, Accuracy: 0.803\n",
            "---\n",
            "Epoch: 85, Training Loss: 0.0002\n",
            "Validation Loss: 0.0121, Accuracy: 0.807\n",
            "---\n",
            "Epoch: 86, Training Loss: 0.0001\n",
            "Validation Loss: 0.0124, Accuracy: 0.8065\n",
            "---\n",
            "Epoch: 87, Training Loss: 0.0002\n",
            "Validation Loss: 0.0123, Accuracy: 0.81\n",
            "---\n",
            "Epoch: 88, Training Loss: 0.0002\n",
            "Validation Loss: 0.0125, Accuracy: 0.8115\n",
            "---\n",
            "Epoch: 89, Training Loss: 0.0001\n",
            "Validation Loss: 0.0123, Accuracy: 0.8105\n",
            "---\n",
            "Epoch: 90, Training Loss: 0.0001\n",
            "Validation Loss: 0.0125, Accuracy: 0.8065\n",
            "---\n",
            "Epoch: 91, Training Loss: 0.0001\n",
            "Validation Loss: 0.0128, Accuracy: 0.809\n",
            "---\n",
            "Epoch: 92, Training Loss: 0.0002\n",
            "Validation Loss: 0.0129, Accuracy: 0.808\n",
            "---\n",
            "Epoch: 93, Training Loss: 0.0001\n",
            "Validation Loss: 0.0126, Accuracy: 0.8085\n",
            "---\n",
            "Epoch: 94, Training Loss: 0.0001\n",
            "Validation Loss: 0.0134, Accuracy: 0.8005\n",
            "---\n",
            "Epoch: 95, Training Loss: 0.0001\n",
            "Validation Loss: 0.0129, Accuracy: 0.809\n",
            "---\n",
            "Epoch: 96, Training Loss: 0.0001\n",
            "Validation Loss: 0.0128, Accuracy: 0.81\n",
            "---\n",
            "Epoch: 97, Training Loss: 0.0001\n",
            "Validation Loss: 0.0132, Accuracy: 0.807\n",
            "---\n",
            "Epoch: 98, Training Loss: 0.0001\n",
            "Validation Loss: 0.013, Accuracy: 0.8105\n",
            "---\n",
            "Epoch: 99, Training Loss: 0.0001\n",
            "Validation Loss: 0.0131, Accuracy: 0.8095\n",
            "---\n"
          ]
        },
        {
          "output_type": "display_data",
          "data": {
            "text/plain": [
              "VBox(children=(Label(value='0.001 MB of 0.001 MB uploaded\\r'), FloatProgress(value=1.0, max=1.0)))"
            ],
            "application/vnd.jupyter.widget-view+json": {
              "version_major": 2,
              "version_minor": 0,
              "model_id": "9c3699bd6d7a4cbdbbfb107eed171e9f"
            }
          },
          "metadata": {}
        },
        {
          "output_type": "display_data",
          "data": {
            "text/plain": [
              "<IPython.core.display.HTML object>"
            ],
            "text/html": [
              "<style>\n",
              "    table.wandb td:nth-child(1) { padding: 0 10px; text-align: left ; width: auto;} td:nth-child(2) {text-align: left ; width: 100%}\n",
              "    .wandb-row { display: flex; flex-direction: row; flex-wrap: wrap; justify-content: flex-start; width: 100% }\n",
              "    .wandb-col { display: flex; flex-direction: column; flex-basis: 100%; flex: 1; padding: 10px; }\n",
              "    </style>\n",
              "<div class=\"wandb-row\"><div class=\"wandb-col\"><h3>Run history:</h3><br/><table class=\"wandb\"><tr><td>accuracy</td><td>▆▆▇▃▇██▂▇▆▆▄▆▇▁▃█▅██▇▇▇█▇█▆▇▅▇█▇█▇▇█████</td></tr><tr><td>train_loss</td><td>█▇▇▇▆▆▆▆▅▅▅▅▄▄▄▄▃▃▃▂▂▂▂▂▂▁▁▂▁▁▂▁▁▂▁▁▁▁▁▁</td></tr><tr><td>validation_loss</td><td>▂▂▁▃▁▁▁▄▂▄▂▄▂▂█▆▂▄▃▃▄▃▃▄▄▄█▇█▅▆▅▆▆▆▆▇▇▇▇</td></tr></table><br/></div><div class=\"wandb-col\"><h3>Run summary:</h3><br/><table class=\"wandb\"><tr><td>accuracy</td><td>0.8095</td></tr><tr><td>train_loss</td><td>0.0001</td></tr><tr><td>validation_loss</td><td>0.0131</td></tr></table><br/></div></div>"
            ]
          },
          "metadata": {}
        },
        {
          "output_type": "display_data",
          "data": {
            "text/plain": [
              "<IPython.core.display.HTML object>"
            ],
            "text/html": [
              " View run <strong style=\"color:#cdcd00\">solar-blaze-2</strong> at: <a href='https://wandb.ai/sadhaklal/mlp-cifar2-v2/runs/zpt83kat' target=\"_blank\">https://wandb.ai/sadhaklal/mlp-cifar2-v2/runs/zpt83kat</a><br/>Synced 5 W&B file(s), 0 media file(s), 0 artifact file(s) and 0 other file(s)"
            ]
          },
          "metadata": {}
        },
        {
          "output_type": "display_data",
          "data": {
            "text/plain": [
              "<IPython.core.display.HTML object>"
            ],
            "text/html": [
              "Find logs at: <code>./wandb/run-20240201_095025-zpt83kat/logs</code>"
            ]
          },
          "metadata": {}
        },
        {
          "output_type": "stream",
          "name": "stdout",
          "text": [
            "---\n",
            "Best Epoch: 19, Best Accuracy: 0.8245\n"
          ]
        }
      ]
    },
    {
      "cell_type": "markdown",
      "source": [
        "Reducing the capacity of the network (from three hidden layer to two hidden layers) leads to a tiny improvement in accuracy.\n",
        "\n",
        "Let's try reducing the capacity of the network further to just a single hidden layer. We'll also reduce the number of units in the hidden layer to just 64."
      ],
      "metadata": {
        "id": "_uoYLfgto1oY"
      }
    },
    {
      "cell_type": "code",
      "source": [
        "from huggingface_hub import PyTorchModelHubMixin\n",
        "\n",
        "class MLPForCIFAR2(nn.Module, PyTorchModelHubMixin):\n",
        "    def __init__(self):\n",
        "        super().__init__()\n",
        "        self.mlp = nn.Sequential(\n",
        "            nn.Linear(3072, 64), # Hidden layer.\n",
        "            nn.Tanh(),\n",
        "            nn.Linear(64, 1) # Output layer.\n",
        "        )\n",
        "\n",
        "    def forward(self, x):\n",
        "        return self.mlp(x)\n",
        "\n",
        "model = MLPForCIFAR2()\n",
        "model"
      ],
      "metadata": {
        "colab": {
          "base_uri": "https://localhost:8080/"
        },
        "id": "gY3emtbf4-uj",
        "outputId": "038c51a6-d7a2-459d-c3a8-604357d5d6ec"
      },
      "execution_count": 45,
      "outputs": [
        {
          "output_type": "execute_result",
          "data": {
            "text/plain": [
              "MLPForCIFAR2(\n",
              "  (mlp): Sequential(\n",
              "    (0): Linear(in_features=3072, out_features=64, bias=True)\n",
              "    (1): Tanh()\n",
              "    (2): Linear(in_features=64, out_features=1, bias=True)\n",
              "  )\n",
              ")"
            ]
          },
          "metadata": {},
          "execution_count": 45
        }
      ]
    },
    {
      "cell_type": "markdown",
      "source": [
        "Let's re-instantiate the optimizer, and run our training loop."
      ],
      "metadata": {
        "id": "TecX6HNypfeV"
      }
    },
    {
      "cell_type": "code",
      "source": [
        "optimizer = SGD(model.parameters(), lr=learning_rate)"
      ],
      "metadata": {
        "id": "YdXuO0lE5RG5"
      },
      "execution_count": 46,
      "outputs": []
    },
    {
      "cell_type": "code",
      "source": [
        "wandb.init(\n",
        "    project=\"mlp-cifar2-v2\",\n",
        "    config={\n",
        "        'architecture': \"MLP with 1 hidden layer\",\n",
        "        'dataset': \"CIFAR-2\",\n",
        "        'learning_rate': learning_rate,\n",
        "        'n_epochs': n_epochs,\n",
        "        'batch_size': batch_size\n",
        "    }\n",
        ")"
      ],
      "metadata": {
        "colab": {
          "base_uri": "https://localhost:8080/",
          "height": 125
        },
        "id": "ETmHejf45WJe",
        "outputId": "2336f177-e88a-41bd-b806-dbc313be8645"
      },
      "execution_count": 47,
      "outputs": [
        {
          "output_type": "display_data",
          "data": {
            "text/plain": [
              "<IPython.core.display.HTML object>"
            ],
            "text/html": [
              "Tracking run with wandb version 0.16.2"
            ]
          },
          "metadata": {}
        },
        {
          "output_type": "display_data",
          "data": {
            "text/plain": [
              "<IPython.core.display.HTML object>"
            ],
            "text/html": [
              "Run data is saved locally in <code>/content/wandb/run-20240201_095756-xt7u4hji</code>"
            ]
          },
          "metadata": {}
        },
        {
          "output_type": "display_data",
          "data": {
            "text/plain": [
              "<IPython.core.display.HTML object>"
            ],
            "text/html": [
              "Syncing run <strong><a href='https://wandb.ai/sadhaklal/mlp-cifar2-v2/runs/xt7u4hji' target=\"_blank\">curious-vortex-3</a></strong> to <a href='https://wandb.ai/sadhaklal/mlp-cifar2-v2' target=\"_blank\">Weights & Biases</a> (<a href='https://wandb.me/run' target=\"_blank\">docs</a>)<br/>"
            ]
          },
          "metadata": {}
        },
        {
          "output_type": "display_data",
          "data": {
            "text/plain": [
              "<IPython.core.display.HTML object>"
            ],
            "text/html": [
              " View project at <a href='https://wandb.ai/sadhaklal/mlp-cifar2-v2' target=\"_blank\">https://wandb.ai/sadhaklal/mlp-cifar2-v2</a>"
            ]
          },
          "metadata": {}
        },
        {
          "output_type": "display_data",
          "data": {
            "text/plain": [
              "<IPython.core.display.HTML object>"
            ],
            "text/html": [
              " View run at <a href='https://wandb.ai/sadhaklal/mlp-cifar2-v2/runs/xt7u4hji' target=\"_blank\">https://wandb.ai/sadhaklal/mlp-cifar2-v2/runs/xt7u4hji</a>"
            ]
          },
          "metadata": {}
        },
        {
          "output_type": "execute_result",
          "data": {
            "text/html": [
              "<button onClick=\"this.nextSibling.style.display='block';this.style.display='none';\">Display W&B run</button><iframe src='https://wandb.ai/sadhaklal/mlp-cifar2-v2/runs/xt7u4hji?jupyter=true' style='border:none;width:100%;height:420px;display:none;'></iframe>"
            ],
            "text/plain": [
              "<wandb.sdk.wandb_run.Run at 0x7ceee89a0220>"
            ]
          },
          "metadata": {},
          "execution_count": 47
        }
      ]
    },
    {
      "cell_type": "code",
      "source": [
        "best_epoch = 0\n",
        "best_acc = 0\n",
        "for epoch in range(n_epochs):\n",
        "    train_loss = train_epoch()\n",
        "    print(f\"Epoch: {epoch}, Training Loss: {train_loss}\")\n",
        "\n",
        "    val_loss, acc = validate_epoch()\n",
        "    print(f\"Validation Loss: {val_loss}, Accuracy: {acc}\")\n",
        "\n",
        "    wandb.log({\n",
        "        'train_loss': train_loss,\n",
        "        'val_loss': val_loss,\n",
        "        'accuracy': acc\n",
        "    })\n",
        "\n",
        "    if acc > best_acc:\n",
        "        best_epoch = epoch\n",
        "        best_acc = acc\n",
        "        model.push_to_hub(\"mlp-cifar2-v2\", commit_message=f\"epoch: {epoch}, accuracy: {acc}\")\n",
        "\n",
        "    print(\"---\")\n",
        "wandb.finish()\n",
        "print(\"---\")\n",
        "print(f\"Best Epoch: {best_epoch}, Best Accuracy: {best_acc}\")"
      ],
      "metadata": {
        "colab": {
          "base_uri": "https://localhost:8080/",
          "height": 1000,
          "referenced_widgets": [
            "4780f09513cd4d7686c99f7358614386",
            "fe2e5dc3ab584f5f87cda4e8dae367b3",
            "314f8adb73e34ecab2bd096a5083b9a2",
            "4c6377d633f34db19bee91692cf9fa16",
            "456256b420bb4cfe8224c2998d75e7ee",
            "e6467b1c60ee43d3839043d371b87784",
            "19e26b4f01fb4c0e9cbdc47172728676",
            "23733f5192674832a7329d4a0e27e201",
            "55775941b03140d0afb7bfd63cead17b",
            "73fcf38b7c634b5f9d649128e0cc910d",
            "583a13b087d9413ebdd8b5b27b885f8a",
            "97ea4eda059f47dba6e0a3b23c622e53",
            "399450a56539437282d59e88d798a349",
            "bb78b475a8c9481d851de43b9f79a886",
            "6b36f003114a4a679612e78930e5aac4",
            "69e82fe9c880417cbd8b7eb6823e1b2e",
            "9483ad8a4f7e4af082b3f8bbbd531d54",
            "9dada0012d7b4d429baf998654b25a08",
            "27db0ca2e4d9434cbfa58297c507040c",
            "45cda049196f490484ff44c390defb56",
            "3cf61779ee3745e78b2d832bb724824a",
            "bf08f74bf2dc4d64bd6c176872690454",
            "8109070ee9054b2cb0b55eb84e761876",
            "83b566531c5048f9a202c492ed2d7b2b",
            "2d34027c2f86481eb3bfc73bc57a63f2",
            "c7428646a71340e3ba87162016bbe02f",
            "9758e8a76a244971aae3f0b48f47201b",
            "f0245908a6e1431a8e9b8477435929ea",
            "7341b316e83a45b0a3fef8aac547f80e",
            "b2238ac44bb8424bb61207ef2e3fabdb",
            "711418a1b8c6454abc7901b452474988",
            "23861d5ab1844187aed1c57ce5e0610f",
            "21aa5379be394f819e105594766ffd7a",
            "c6179219134745f2840d5c7cbb89cdcc",
            "ce0ce044a2e448e3b56cde1c0fd31e4c",
            "dfa252b0dca04de19671a08d4b17166d",
            "cf7a6b36950f41e583761ffc26c186a2",
            "5699daa170614e5581bec46227ee55c4",
            "c24bc5ba00e744d285a44fd4b713b73b",
            "74719000907b4f60b7aed1888ad4bd87",
            "7757d31f28494f5b9fcd89912981ce48",
            "ffc5fad857774325ae9184ee5be28c34",
            "daf41b30d38d4ccda62932629b3171b6",
            "f09e055e8f594b90967d6b8ecf8f9f14",
            "0662586c10484f28b62ab99ac7e774ae",
            "a1d51b4a8f8f40139e2aa09f833cba1c",
            "85f7421681494792b67efb74efb24a1b",
            "a8cd395affce49db921d2ffb9e4313c9",
            "d90727383d7846cf8227a460e031160a",
            "d4662e99f4d04968982df02972d8da33",
            "232b8f67762e42e9b5fa057c4aa942e9",
            "6d7e166b797b45ee9f535a3e92fe0de7",
            "1736f950d2ec48918f318bcef88c3f79",
            "73c2ce634569434ca1f2ae5a2f03a937",
            "28718e018c7440fd9805296c713dde38",
            "f86388612c0941288e34fb1f37b247ec",
            "4309a277cef94e7182ad334ae729c856",
            "d98036830f89425ca0da59c9fefaa9cf",
            "33555db34c5c4dc2a0ef0941d52c983d",
            "9b66e1971aeb441a87dcdeafa177e3ea",
            "5f0e77555cf9459986012952787cdf27",
            "490b5a8b11d844e7a00da75798a55ede",
            "3cab5238925d43a6816867eda800f04f",
            "52f27ffa72e045baadc859ece3aae020",
            "8198f55143d0430a8ec97a22b1e59a64",
            "3dd2c6babaee424cb1b59674305d509a",
            "a5aa68f0affc4418901c9eef71ee82e9",
            "a8a0571e74f84fe2ae4e4f21d91f38d5",
            "b103fc4264394d8291be7ab71892f3bf",
            "7f5b574a31574aad87489b4623201b8f",
            "0490ba44110f4bca8f7f5b5e59f47b73",
            "9ca9e9511c9a46cb8494b1a9df674c0c",
            "477d0b9f53704fc1a70b97a9aa8500fa",
            "81562e705a6e49918e9e08edc8e4172b",
            "e5c253e4d1e8496b8d009487e995976b",
            "a31ec78f1a7b4979bf2320f135e3e1dd",
            "ce230473aefd46bd9eb784b39afaa44a",
            "71d9b4c2b7ec40429e653d143e57d7a0",
            "6271a8e5556e4d5397383efcd9149fe6",
            "9f2b7d2232ab4255bbb23e73619b6739",
            "246536095b99493a8fd1836bad605fd8",
            "35346c26dcf240e88bece46bfa74f095",
            "9d9980d18ea44e3e9774a13cadc12f8f",
            "5f9add024e8b4b42a20fe35d7f4adf83",
            "2c6a9e785318489b9835b666e6c17bf7",
            "93869df725e44f4587531a8e06d62f67",
            "f88688b8325242e0a4d266b85248afe0",
            "fe61105eeb274bde84bb8b8735fc5ed7",
            "205314ad278749d7b6b4700c213b7901",
            "ba49c710f346449ca72b552f12a160e1",
            "ad7db27d4ba84f618be4259547082be2",
            "a0480165d80d4f5d99e22e64b59c2e3a",
            "ca0558198bbc4d0d9ef49e3871890aab",
            "574b2d98b82d44c7ada5b0a2ac586a27",
            "093590ca69ea4769a094062b595d1189",
            "940c16a99e984fea8bee49de9c91e01d",
            "2d14811c82e24615b19c65994c43ed8c",
            "d32b6768563d4ef39f8b874b1ee1d839",
            "c254926859e6451cbc9999b9d707c2fa",
            "0ef55830a23e475287bd7de00e52afbb",
            "4ecfe7dcd626475ca1252ce699ee408e",
            "d6ff8d735df345d787739a8e4a980e9d",
            "2efc557313404894b212e6c3db6f8c05",
            "200d59aab01d40e788fc4fada27ed2a3",
            "5da395a3b1d84b83942eab6519668ca2",
            "c80dcede4cd34ea1a20dafb2f2bdb7e4",
            "370636c43f7f483da6c3e3ac3a16d808"
          ]
        },
        "id": "CtEpa0hM56g3",
        "outputId": "fd0ff7bc-d9e9-40af-bcc6-c210517b86fc"
      },
      "execution_count": 48,
      "outputs": [
        {
          "output_type": "stream",
          "name": "stdout",
          "text": [
            "Epoch: 0, Training Loss: 0.0081\n",
            "Validation Loss: 0.0078, Accuracy: 0.7815\n"
          ]
        },
        {
          "output_type": "display_data",
          "data": {
            "text/plain": [
              "pytorch_model.bin:   0%|          | 0.00/789k [00:00<?, ?B/s]"
            ],
            "application/vnd.jupyter.widget-view+json": {
              "version_major": 2,
              "version_minor": 0,
              "model_id": "4780f09513cd4d7686c99f7358614386"
            }
          },
          "metadata": {}
        },
        {
          "output_type": "stream",
          "name": "stdout",
          "text": [
            "---\n",
            "Epoch: 1, Training Loss: 0.0075\n",
            "Validation Loss: 0.0076, Accuracy: 0.771\n",
            "---\n",
            "Epoch: 2, Training Loss: 0.0073\n",
            "Validation Loss: 0.0074, Accuracy: 0.794\n"
          ]
        },
        {
          "output_type": "display_data",
          "data": {
            "text/plain": [
              "pytorch_model.bin:   0%|          | 0.00/789k [00:00<?, ?B/s]"
            ],
            "application/vnd.jupyter.widget-view+json": {
              "version_major": 2,
              "version_minor": 0,
              "model_id": "97ea4eda059f47dba6e0a3b23c622e53"
            }
          },
          "metadata": {}
        },
        {
          "output_type": "stream",
          "name": "stdout",
          "text": [
            "---\n",
            "Epoch: 3, Training Loss: 0.0071\n",
            "Validation Loss: 0.0073, Accuracy: 0.785\n",
            "---\n",
            "Epoch: 4, Training Loss: 0.0069\n",
            "Validation Loss: 0.0072, Accuracy: 0.7995\n"
          ]
        },
        {
          "output_type": "display_data",
          "data": {
            "text/plain": [
              "pytorch_model.bin:   0%|          | 0.00/789k [00:00<?, ?B/s]"
            ],
            "application/vnd.jupyter.widget-view+json": {
              "version_major": 2,
              "version_minor": 0,
              "model_id": "8109070ee9054b2cb0b55eb84e761876"
            }
          },
          "metadata": {}
        },
        {
          "output_type": "stream",
          "name": "stdout",
          "text": [
            "---\n",
            "Epoch: 5, Training Loss: 0.0068\n",
            "Validation Loss: 0.007, Accuracy: 0.8025\n"
          ]
        },
        {
          "output_type": "display_data",
          "data": {
            "text/plain": [
              "pytorch_model.bin:   0%|          | 0.00/789k [00:00<?, ?B/s]"
            ],
            "application/vnd.jupyter.widget-view+json": {
              "version_major": 2,
              "version_minor": 0,
              "model_id": "c6179219134745f2840d5c7cbb89cdcc"
            }
          },
          "metadata": {}
        },
        {
          "output_type": "stream",
          "name": "stdout",
          "text": [
            "---\n",
            "Epoch: 6, Training Loss: 0.0067\n",
            "Validation Loss: 0.007, Accuracy: 0.8025\n",
            "---\n",
            "Epoch: 7, Training Loss: 0.0066\n",
            "Validation Loss: 0.009, Accuracy: 0.7065\n",
            "---\n",
            "Epoch: 8, Training Loss: 0.0065\n",
            "Validation Loss: 0.0068, Accuracy: 0.813\n"
          ]
        },
        {
          "output_type": "display_data",
          "data": {
            "text/plain": [
              "pytorch_model.bin:   0%|          | 0.00/789k [00:00<?, ?B/s]"
            ],
            "application/vnd.jupyter.widget-view+json": {
              "version_major": 2,
              "version_minor": 0,
              "model_id": "0662586c10484f28b62ab99ac7e774ae"
            }
          },
          "metadata": {}
        },
        {
          "output_type": "stream",
          "name": "stdout",
          "text": [
            "---\n",
            "Epoch: 9, Training Loss: 0.0064\n",
            "Validation Loss: 0.007, Accuracy: 0.8025\n",
            "---\n",
            "Epoch: 10, Training Loss: 0.0063\n",
            "Validation Loss: 0.0068, Accuracy: 0.8095\n",
            "---\n",
            "Epoch: 11, Training Loss: 0.0062\n",
            "Validation Loss: 0.0067, Accuracy: 0.8145\n"
          ]
        },
        {
          "output_type": "display_data",
          "data": {
            "text/plain": [
              "pytorch_model.bin:   0%|          | 0.00/789k [00:00<?, ?B/s]"
            ],
            "application/vnd.jupyter.widget-view+json": {
              "version_major": 2,
              "version_minor": 0,
              "model_id": "f86388612c0941288e34fb1f37b247ec"
            }
          },
          "metadata": {}
        },
        {
          "output_type": "stream",
          "name": "stdout",
          "text": [
            "---\n",
            "Epoch: 12, Training Loss: 0.0061\n",
            "Validation Loss: 0.0067, Accuracy: 0.8105\n",
            "---\n",
            "Epoch: 13, Training Loss: 0.006\n",
            "Validation Loss: 0.0067, Accuracy: 0.8115\n",
            "---\n",
            "Epoch: 14, Training Loss: 0.0059\n",
            "Validation Loss: 0.007, Accuracy: 0.802\n",
            "---\n",
            "Epoch: 15, Training Loss: 0.0058\n",
            "Validation Loss: 0.0066, Accuracy: 0.819\n"
          ]
        },
        {
          "output_type": "display_data",
          "data": {
            "text/plain": [
              "pytorch_model.bin:   0%|          | 0.00/789k [00:00<?, ?B/s]"
            ],
            "application/vnd.jupyter.widget-view+json": {
              "version_major": 2,
              "version_minor": 0,
              "model_id": "a5aa68f0affc4418901c9eef71ee82e9"
            }
          },
          "metadata": {}
        },
        {
          "output_type": "stream",
          "name": "stdout",
          "text": [
            "---\n",
            "Epoch: 16, Training Loss: 0.0057\n",
            "Validation Loss: 0.0068, Accuracy: 0.817\n",
            "---\n",
            "Epoch: 17, Training Loss: 0.0056\n",
            "Validation Loss: 0.0067, Accuracy: 0.818\n",
            "---\n",
            "Epoch: 18, Training Loss: 0.0055\n",
            "Validation Loss: 0.0067, Accuracy: 0.8125\n",
            "---\n",
            "Epoch: 19, Training Loss: 0.0054\n",
            "Validation Loss: 0.0065, Accuracy: 0.8225\n"
          ]
        },
        {
          "output_type": "display_data",
          "data": {
            "text/plain": [
              "pytorch_model.bin:   0%|          | 0.00/789k [00:00<?, ?B/s]"
            ],
            "application/vnd.jupyter.widget-view+json": {
              "version_major": 2,
              "version_minor": 0,
              "model_id": "71d9b4c2b7ec40429e653d143e57d7a0"
            }
          },
          "metadata": {}
        },
        {
          "output_type": "stream",
          "name": "stdout",
          "text": [
            "---\n",
            "Epoch: 20, Training Loss: 0.0053\n",
            "Validation Loss: 0.0067, Accuracy: 0.812\n",
            "---\n",
            "Epoch: 21, Training Loss: 0.0053\n",
            "Validation Loss: 0.0067, Accuracy: 0.8135\n",
            "---\n",
            "Epoch: 22, Training Loss: 0.0051\n",
            "Validation Loss: 0.0067, Accuracy: 0.822\n",
            "---\n",
            "Epoch: 23, Training Loss: 0.005\n",
            "Validation Loss: 0.0065, Accuracy: 0.821\n",
            "---\n",
            "Epoch: 24, Training Loss: 0.0049\n",
            "Validation Loss: 0.0066, Accuracy: 0.821\n",
            "---\n",
            "Epoch: 25, Training Loss: 0.0048\n",
            "Validation Loss: 0.0072, Accuracy: 0.795\n",
            "---\n",
            "Epoch: 26, Training Loss: 0.0047\n",
            "Validation Loss: 0.0066, Accuracy: 0.8165\n",
            "---\n",
            "Epoch: 27, Training Loss: 0.0046\n",
            "Validation Loss: 0.0064, Accuracy: 0.829\n"
          ]
        },
        {
          "output_type": "display_data",
          "data": {
            "text/plain": [
              "pytorch_model.bin:   0%|          | 0.00/789k [00:00<?, ?B/s]"
            ],
            "application/vnd.jupyter.widget-view+json": {
              "version_major": 2,
              "version_minor": 0,
              "model_id": "205314ad278749d7b6b4700c213b7901"
            }
          },
          "metadata": {}
        },
        {
          "output_type": "stream",
          "name": "stdout",
          "text": [
            "---\n",
            "Epoch: 28, Training Loss: 0.0045\n",
            "Validation Loss: 0.0065, Accuracy: 0.818\n",
            "---\n",
            "Epoch: 29, Training Loss: 0.0044\n",
            "Validation Loss: 0.0067, Accuracy: 0.8265\n",
            "---\n",
            "Epoch: 30, Training Loss: 0.0044\n",
            "Validation Loss: 0.0065, Accuracy: 0.824\n",
            "---\n",
            "Epoch: 31, Training Loss: 0.0043\n",
            "Validation Loss: 0.0065, Accuracy: 0.828\n",
            "---\n",
            "Epoch: 32, Training Loss: 0.0042\n",
            "Validation Loss: 0.0066, Accuracy: 0.818\n",
            "---\n",
            "Epoch: 33, Training Loss: 0.0041\n",
            "Validation Loss: 0.0065, Accuracy: 0.825\n",
            "---\n",
            "Epoch: 34, Training Loss: 0.004\n",
            "Validation Loss: 0.0065, Accuracy: 0.8245\n",
            "---\n",
            "Epoch: 35, Training Loss: 0.0039\n",
            "Validation Loss: 0.0065, Accuracy: 0.8285\n",
            "---\n",
            "Epoch: 36, Training Loss: 0.0038\n",
            "Validation Loss: 0.0065, Accuracy: 0.8245\n",
            "---\n",
            "Epoch: 37, Training Loss: 0.0037\n",
            "Validation Loss: 0.0079, Accuracy: 0.765\n",
            "---\n",
            "Epoch: 38, Training Loss: 0.0036\n",
            "Validation Loss: 0.0066, Accuracy: 0.816\n",
            "---\n",
            "Epoch: 39, Training Loss: 0.0035\n",
            "Validation Loss: 0.0066, Accuracy: 0.816\n",
            "---\n",
            "Epoch: 40, Training Loss: 0.0034\n",
            "Validation Loss: 0.0065, Accuracy: 0.8215\n",
            "---\n",
            "Epoch: 41, Training Loss: 0.0034\n",
            "Validation Loss: 0.0068, Accuracy: 0.814\n",
            "---\n",
            "Epoch: 42, Training Loss: 0.0033\n",
            "Validation Loss: 0.0071, Accuracy: 0.7955\n",
            "---\n",
            "Epoch: 43, Training Loss: 0.0033\n",
            "Validation Loss: 0.0066, Accuracy: 0.822\n",
            "---\n",
            "Epoch: 44, Training Loss: 0.0031\n",
            "Validation Loss: 0.0067, Accuracy: 0.815\n",
            "---\n",
            "Epoch: 45, Training Loss: 0.0031\n",
            "Validation Loss: 0.0065, Accuracy: 0.822\n",
            "---\n",
            "Epoch: 46, Training Loss: 0.003\n",
            "Validation Loss: 0.0067, Accuracy: 0.8105\n",
            "---\n",
            "Epoch: 47, Training Loss: 0.003\n",
            "Validation Loss: 0.0068, Accuracy: 0.813\n",
            "---\n",
            "Epoch: 48, Training Loss: 0.0028\n",
            "Validation Loss: 0.0067, Accuracy: 0.819\n",
            "---\n",
            "Epoch: 49, Training Loss: 0.0028\n",
            "Validation Loss: 0.0066, Accuracy: 0.827\n",
            "---\n",
            "Epoch: 50, Training Loss: 0.0027\n",
            "Validation Loss: 0.0067, Accuracy: 0.8195\n",
            "---\n",
            "Epoch: 51, Training Loss: 0.0026\n",
            "Validation Loss: 0.0069, Accuracy: 0.8195\n",
            "---\n",
            "Epoch: 52, Training Loss: 0.0026\n",
            "Validation Loss: 0.0072, Accuracy: 0.788\n",
            "---\n",
            "Epoch: 53, Training Loss: 0.0025\n",
            "Validation Loss: 0.0069, Accuracy: 0.8195\n",
            "---\n",
            "Epoch: 54, Training Loss: 0.0024\n",
            "Validation Loss: 0.0068, Accuracy: 0.823\n",
            "---\n",
            "Epoch: 55, Training Loss: 0.0024\n",
            "Validation Loss: 0.0069, Accuracy: 0.817\n",
            "---\n",
            "Epoch: 56, Training Loss: 0.0023\n",
            "Validation Loss: 0.007, Accuracy: 0.8155\n",
            "---\n",
            "Epoch: 57, Training Loss: 0.0022\n",
            "Validation Loss: 0.0071, Accuracy: 0.8205\n",
            "---\n",
            "Epoch: 58, Training Loss: 0.0022\n",
            "Validation Loss: 0.009, Accuracy: 0.743\n",
            "---\n",
            "Epoch: 59, Training Loss: 0.0022\n",
            "Validation Loss: 0.0069, Accuracy: 0.8155\n",
            "---\n",
            "Epoch: 60, Training Loss: 0.0021\n",
            "Validation Loss: 0.007, Accuracy: 0.82\n",
            "---\n",
            "Epoch: 61, Training Loss: 0.002\n",
            "Validation Loss: 0.0071, Accuracy: 0.8145\n",
            "---\n",
            "Epoch: 62, Training Loss: 0.002\n",
            "Validation Loss: 0.0081, Accuracy: 0.8085\n",
            "---\n",
            "Epoch: 63, Training Loss: 0.002\n",
            "Validation Loss: 0.0075, Accuracy: 0.8145\n",
            "---\n",
            "Epoch: 64, Training Loss: 0.0019\n",
            "Validation Loss: 0.0073, Accuracy: 0.8105\n",
            "---\n",
            "Epoch: 65, Training Loss: 0.0019\n",
            "Validation Loss: 0.0073, Accuracy: 0.818\n",
            "---\n",
            "Epoch: 66, Training Loss: 0.0018\n",
            "Validation Loss: 0.0072, Accuracy: 0.818\n",
            "---\n",
            "Epoch: 67, Training Loss: 0.0018\n",
            "Validation Loss: 0.0093, Accuracy: 0.796\n",
            "---\n",
            "Epoch: 68, Training Loss: 0.0018\n",
            "Validation Loss: 0.0084, Accuracy: 0.78\n",
            "---\n",
            "Epoch: 69, Training Loss: 0.0017\n",
            "Validation Loss: 0.0086, Accuracy: 0.7815\n",
            "---\n",
            "Epoch: 70, Training Loss: 0.0016\n",
            "Validation Loss: 0.0075, Accuracy: 0.803\n",
            "---\n",
            "Epoch: 71, Training Loss: 0.0016\n",
            "Validation Loss: 0.0073, Accuracy: 0.8175\n",
            "---\n",
            "Epoch: 72, Training Loss: 0.0015\n",
            "Validation Loss: 0.0075, Accuracy: 0.818\n",
            "---\n",
            "Epoch: 73, Training Loss: 0.0015\n",
            "Validation Loss: 0.0076, Accuracy: 0.8215\n",
            "---\n",
            "Epoch: 74, Training Loss: 0.0015\n",
            "Validation Loss: 0.0074, Accuracy: 0.816\n",
            "---\n",
            "Epoch: 75, Training Loss: 0.0014\n",
            "Validation Loss: 0.0076, Accuracy: 0.809\n",
            "---\n",
            "Epoch: 76, Training Loss: 0.0014\n",
            "Validation Loss: 0.0075, Accuracy: 0.8145\n",
            "---\n",
            "Epoch: 77, Training Loss: 0.0014\n",
            "Validation Loss: 0.0093, Accuracy: 0.7555\n",
            "---\n",
            "Epoch: 78, Training Loss: 0.0014\n",
            "Validation Loss: 0.0075, Accuracy: 0.815\n",
            "---\n",
            "Epoch: 79, Training Loss: 0.0013\n",
            "Validation Loss: 0.0077, Accuracy: 0.8115\n",
            "---\n",
            "Epoch: 80, Training Loss: 0.0013\n",
            "Validation Loss: 0.0119, Accuracy: 0.7115\n",
            "---\n",
            "Epoch: 81, Training Loss: 0.0013\n",
            "Validation Loss: 0.0079, Accuracy: 0.8055\n",
            "---\n",
            "Epoch: 82, Training Loss: 0.0012\n",
            "Validation Loss: 0.0077, Accuracy: 0.8145\n",
            "---\n",
            "Epoch: 83, Training Loss: 0.0012\n",
            "Validation Loss: 0.0076, Accuracy: 0.815\n",
            "---\n",
            "Epoch: 84, Training Loss: 0.0012\n",
            "Validation Loss: 0.0077, Accuracy: 0.8195\n",
            "---\n",
            "Epoch: 85, Training Loss: 0.0011\n",
            "Validation Loss: 0.0079, Accuracy: 0.8055\n",
            "---\n",
            "Epoch: 86, Training Loss: 0.0011\n",
            "Validation Loss: 0.0087, Accuracy: 0.811\n",
            "---\n",
            "Epoch: 87, Training Loss: 0.0011\n",
            "Validation Loss: 0.0082, Accuracy: 0.8185\n",
            "---\n",
            "Epoch: 88, Training Loss: 0.0011\n",
            "Validation Loss: 0.0078, Accuracy: 0.813\n",
            "---\n",
            "Epoch: 89, Training Loss: 0.001\n",
            "Validation Loss: 0.0079, Accuracy: 0.814\n",
            "---\n",
            "Epoch: 90, Training Loss: 0.001\n",
            "Validation Loss: 0.0079, Accuracy: 0.8165\n",
            "---\n",
            "Epoch: 91, Training Loss: 0.001\n",
            "Validation Loss: 0.0085, Accuracy: 0.7975\n",
            "---\n",
            "Epoch: 92, Training Loss: 0.001\n",
            "Validation Loss: 0.0079, Accuracy: 0.819\n",
            "---\n",
            "Epoch: 93, Training Loss: 0.0009\n",
            "Validation Loss: 0.0079, Accuracy: 0.809\n",
            "---\n",
            "Epoch: 94, Training Loss: 0.0009\n",
            "Validation Loss: 0.008, Accuracy: 0.815\n",
            "---\n",
            "Epoch: 95, Training Loss: 0.0009\n",
            "Validation Loss: 0.008, Accuracy: 0.814\n",
            "---\n",
            "Epoch: 96, Training Loss: 0.0009\n",
            "Validation Loss: 0.0079, Accuracy: 0.816\n",
            "---\n",
            "Epoch: 97, Training Loss: 0.0009\n",
            "Validation Loss: 0.0081, Accuracy: 0.81\n",
            "---\n",
            "Epoch: 98, Training Loss: 0.0008\n",
            "Validation Loss: 0.0081, Accuracy: 0.8145\n",
            "---\n",
            "Epoch: 99, Training Loss: 0.0008\n",
            "Validation Loss: 0.0082, Accuracy: 0.8125\n",
            "---\n"
          ]
        },
        {
          "output_type": "display_data",
          "data": {
            "text/plain": [
              "VBox(children=(Label(value='0.001 MB of 0.001 MB uploaded\\r'), FloatProgress(value=1.0, max=1.0)))"
            ],
            "application/vnd.jupyter.widget-view+json": {
              "version_major": 2,
              "version_minor": 0,
              "model_id": "0ef55830a23e475287bd7de00e52afbb"
            }
          },
          "metadata": {}
        },
        {
          "output_type": "display_data",
          "data": {
            "text/plain": [
              "<IPython.core.display.HTML object>"
            ],
            "text/html": [
              "<style>\n",
              "    table.wandb td:nth-child(1) { padding: 0 10px; text-align: left ; width: auto;} td:nth-child(2) {text-align: left ; width: 100%}\n",
              "    .wandb-row { display: flex; flex-direction: row; flex-wrap: wrap; justify-content: flex-start; width: 100% }\n",
              "    .wandb-col { display: flex; flex-direction: column; flex-basis: 100%; flex: 1; padding: 10px; }\n",
              "    </style>\n",
              "<div class=\"wandb-row\"><div class=\"wandb-col\"><h3>Run history:</h3><br/><table class=\"wandb\"><tr><td>accuracy</td><td>▅▆▆▁▇▇▇▇▇█▆████▇███▇▇▇▇▃▇▇▇▅▇█▇▇▇▇▇▇▆▇▇▇</td></tr><tr><td>train_loss</td><td>█▇▇▇▆▆▆▆▅▅▅▅▄▄▄▄▃▃▃▃▃▃▃▂▂▂▂▂▂▂▂▂▁▁▁▁▁▁▁▁</td></tr><tr><td>val_loss</td><td>▅▄▃█▂▂▂▂▂▂▃▁▁▁▁▂▁▂▁▂▂▂▂█▃▄▃▆▃▄▄▄▅▄▇▅▇▅▅▆</td></tr></table><br/></div><div class=\"wandb-col\"><h3>Run summary:</h3><br/><table class=\"wandb\"><tr><td>accuracy</td><td>0.8125</td></tr><tr><td>train_loss</td><td>0.0008</td></tr><tr><td>val_loss</td><td>0.0082</td></tr></table><br/></div></div>"
            ]
          },
          "metadata": {}
        },
        {
          "output_type": "display_data",
          "data": {
            "text/plain": [
              "<IPython.core.display.HTML object>"
            ],
            "text/html": [
              " View run <strong style=\"color:#cdcd00\">curious-vortex-3</strong> at: <a href='https://wandb.ai/sadhaklal/mlp-cifar2-v2/runs/xt7u4hji' target=\"_blank\">https://wandb.ai/sadhaklal/mlp-cifar2-v2/runs/xt7u4hji</a><br/>Synced 5 W&B file(s), 0 media file(s), 0 artifact file(s) and 0 other file(s)"
            ]
          },
          "metadata": {}
        },
        {
          "output_type": "display_data",
          "data": {
            "text/plain": [
              "<IPython.core.display.HTML object>"
            ],
            "text/html": [
              "Find logs at: <code>./wandb/run-20240201_095756-xt7u4hji/logs</code>"
            ]
          },
          "metadata": {}
        },
        {
          "output_type": "stream",
          "name": "stdout",
          "text": [
            "---\n",
            "Best Epoch: 27, Best Accuracy: 0.829\n"
          ]
        }
      ]
    },
    {
      "cell_type": "markdown",
      "source": [
        "Let's reload the weights of the best epoch, and then calculate the metrics on the training set and the validation set."
      ],
      "metadata": {
        "id": "ntrU2JMgq9LX"
      }
    },
    {
      "cell_type": "code",
      "source": [
        "model = MLPForCIFAR2.from_pretrained(\"sadhaklal/mlp-cifar2-v2\")\n",
        "model.eval()"
      ],
      "metadata": {
        "colab": {
          "base_uri": "https://localhost:8080/",
          "height": 171,
          "referenced_widgets": [
            "4c85339b0ab949cd999e30ba2cc8ccc9",
            "c544da9b98174618b736fd92253d588a",
            "3db6d9be49c14bee8dda20828c0de958",
            "a7bfa15c6091440cac55e2001ec0c079",
            "df7a4e856a6542578c2d26e27d75a764",
            "40a9fe1961874248a631b17b761de495",
            "abc46d49181e4966979f90377e546c00",
            "6c53ff8cf0a841a0a164d0ab4694d747",
            "6dde0c6c7d5545c8b25d0ee33cda745a",
            "85ef434852d640a88ac69ad5eb6bca7b",
            "641470a6cda34fb0904c1ecba3714111"
          ]
        },
        "id": "oVDWj2XUrkyP",
        "outputId": "6996e77a-a57e-47c7-a85e-7cafb444b44a"
      },
      "execution_count": 49,
      "outputs": [
        {
          "output_type": "display_data",
          "data": {
            "text/plain": [
              "pytorch_model.bin:   0%|          | 0.00/789k [00:00<?, ?B/s]"
            ],
            "application/vnd.jupyter.widget-view+json": {
              "version_major": 2,
              "version_minor": 0,
              "model_id": "4c85339b0ab949cd999e30ba2cc8ccc9"
            }
          },
          "metadata": {}
        },
        {
          "output_type": "execute_result",
          "data": {
            "text/plain": [
              "MLPForCIFAR2(\n",
              "  (mlp): Sequential(\n",
              "    (0): Linear(in_features=3072, out_features=64, bias=True)\n",
              "    (1): Tanh()\n",
              "    (2): Linear(in_features=64, out_features=1, bias=True)\n",
              "  )\n",
              ")"
            ]
          },
          "metadata": {},
          "execution_count": 49
        }
      ]
    },
    {
      "cell_type": "code",
      "source": [
        "# Training set accuracy:\n",
        "correct = 0\n",
        "with torch.no_grad():\n",
        "    for imgs, labels in train_dl:\n",
        "        batch_dim = imgs.shape[0]\n",
        "        logits = model(imgs.view(batch_dim, -1))\n",
        "        proba = F.sigmoid(logits.squeeze())\n",
        "        preds = proba > 0.5\n",
        "        correct += (preds == labels).sum().item()\n",
        "print(f\"Accuracy: {correct / len(cifar2_train):.4f}\")"
      ],
      "metadata": {
        "colab": {
          "base_uri": "https://localhost:8080/"
        },
        "id": "JaLqINHF85CF",
        "outputId": "345aab93-bfa6-4b3b-bd42-3509cbc4967f"
      },
      "execution_count": 50,
      "outputs": [
        {
          "output_type": "stream",
          "name": "stdout",
          "text": [
            "Accuracy: 0.8917\n"
          ]
        }
      ]
    },
    {
      "cell_type": "code",
      "source": [
        "# Validation set accuracy:\n",
        "correct = 0\n",
        "with torch.no_grad():\n",
        "    for imgs, labels in val_dl:\n",
        "        batch_dim = imgs.shape[0]\n",
        "        logits = model(imgs.view(batch_dim, -1))\n",
        "        proba = F.sigmoid(logits.squeeze())\n",
        "        preds = proba > 0.5\n",
        "        correct += (preds == labels).sum().item()\n",
        "print(f\"Accuracy: {correct / len(cifar2_val):.4f}\")"
      ],
      "metadata": {
        "colab": {
          "base_uri": "https://localhost:8080/"
        },
        "id": "jteIT4yp9h7r",
        "outputId": "62c51599-4638-4e54-dbaf-4756def206da"
      },
      "execution_count": 51,
      "outputs": [
        {
          "output_type": "stream",
          "name": "stdout",
          "text": [
            "Accuracy: 0.8290\n"
          ]
        }
      ]
    },
    {
      "cell_type": "markdown",
      "source": [
        "Answer to (b) and (c): Reducing the capacity of the network doesn't seem to \"stop\" overfitting. However, it seems to slightly reduce the extent of overfitting. The accuracy on the validation set increases slightly."
      ],
      "metadata": {
        "id": "buPpoq9DkH7s"
      }
    },
    {
      "cell_type": "code",
      "source": [],
      "metadata": {
        "id": "rk3KTEWsjyaD"
      },
      "execution_count": 51,
      "outputs": []
    }
  ]
}