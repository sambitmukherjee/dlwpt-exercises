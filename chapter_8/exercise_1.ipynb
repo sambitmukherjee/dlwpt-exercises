{
  "cells": [
    {
      "cell_type": "markdown",
      "source": [
        "**Exercise 1.** Change our model to use a 5x5 kernel with `kernel_size=5` passed to the `nn.Conv2d` constructor.\n",
        "\n",
        "a. What impact does this change have on the number of parameters in the model?\n",
        "\n",
        "b. Does the change improve or degrade overfitting?\n",
        "\n",
        "c. Read https://pytorch.org/docs/stable/generated/torch.nn.Conv2d.html.\n",
        "\n",
        "d. Can you describe what `kernel_size=(1, 3)` will do?\n",
        "\n",
        "e. How does the model behave with such a kernel?"
      ],
      "metadata": {
        "id": "vPUxD36C_wEH"
      },
      "id": "vPUxD36C_wEH"
    },
    {
      "cell_type": "markdown",
      "source": [
        "**Note:** It's not clear (in the above text) which specific model \"*our model*\" is referring to. In the book, several models are trained: `Net`, `NetWidth`, `NetWidth` with L2 regularization, `NetDropout`, `NetBatchNorm`, `NetDepth`, `NetRes` and `NetResDeep`.\n",
        "\n",
        "Hence, for this exercise, we will answer the above questions using `Net` (the baseline CNN)."
      ],
      "metadata": {
        "id": "afR_PVUVA9If"
      },
      "id": "afR_PVUVA9If"
    },
    {
      "cell_type": "markdown",
      "source": [
        "# Setup"
      ],
      "metadata": {
        "id": "ij-D7r6xFUM4"
      },
      "id": "ij-D7r6xFUM4"
    },
    {
      "cell_type": "code",
      "source": [
        "!pip install -q datasets evaluate"
      ],
      "metadata": {
        "id": "ZjGvUwDThvmK"
      },
      "id": "ZjGvUwDThvmK",
      "execution_count": 1,
      "outputs": []
    },
    {
      "cell_type": "code",
      "source": [
        "!pip install -q wandb"
      ],
      "metadata": {
        "id": "m2i4z2QSh4QB"
      },
      "id": "m2i4z2QSh4QB",
      "execution_count": 2,
      "outputs": []
    },
    {
      "cell_type": "markdown",
      "source": [
        "If running this notebook in Colab, please ensure that your Hugging Face `HF_TOKEN` and your Weights & Biases `WANDB_API_KEY` are added to your Colab secrets.\n",
        "\n",
        "Alternatively, please login to Hugging Face and Weights & Biases by running the following two cells."
      ],
      "metadata": {
        "id": "EENQyzS4fYsB"
      },
      "id": "EENQyzS4fYsB"
    },
    {
      "cell_type": "code",
      "source": [
        "# !huggingface-cli login"
      ],
      "metadata": {
        "id": "RDaeI9ecfkhn"
      },
      "id": "RDaeI9ecfkhn",
      "execution_count": 3,
      "outputs": []
    },
    {
      "cell_type": "code",
      "source": [
        "# !wandb login"
      ],
      "metadata": {
        "id": "VQYP6RNjfm9N"
      },
      "id": "VQYP6RNjfm9N",
      "execution_count": 4,
      "outputs": []
    },
    {
      "cell_type": "code",
      "source": [
        "import os\n",
        "import random\n",
        "import numpy as np\n",
        "import torch\n",
        "\n",
        "def seed_everything(seed):\n",
        "    os.environ['PYTHONHASHSEED'] = str(seed)\n",
        "    random.seed(seed)\n",
        "    np.random.seed(seed)\n",
        "    torch.manual_seed(seed)\n",
        "    torch.cuda.manual_seed(seed)\n",
        "    torch.cuda.manual_seed_all(seed)\n",
        "    torch.backends.cudnn.deterministic = True\n",
        "    torch.backends.cudnn.benchmark = False\n",
        "\n",
        "seed_everything(42)"
      ],
      "metadata": {
        "id": "vqsqxSWsLzNc"
      },
      "id": "vqsqxSWsLzNc",
      "execution_count": 5,
      "outputs": []
    },
    {
      "cell_type": "markdown",
      "source": [
        "# Data Prep"
      ],
      "metadata": {
        "id": "dRZ-HJ7OFMh8"
      },
      "id": "dRZ-HJ7OFMh8"
    },
    {
      "cell_type": "code",
      "source": [
        "from datasets import load_dataset\n",
        "\n",
        "cifar10 = load_dataset(\"cifar10\")\n",
        "cifar10"
      ],
      "metadata": {
        "colab": {
          "base_uri": "https://localhost:8080/"
        },
        "id": "SQczWiLpiRTT",
        "outputId": "7b91f903-70b8-4c63-a6b2-68698994c490"
      },
      "id": "SQczWiLpiRTT",
      "execution_count": 6,
      "outputs": [
        {
          "output_type": "execute_result",
          "data": {
            "text/plain": [
              "DatasetDict({\n",
              "    train: Dataset({\n",
              "        features: ['img', 'label'],\n",
              "        num_rows: 50000\n",
              "    })\n",
              "    test: Dataset({\n",
              "        features: ['img', 'label'],\n",
              "        num_rows: 10000\n",
              "    })\n",
              "})"
            ]
          },
          "metadata": {},
          "execution_count": 6
        }
      ]
    },
    {
      "cell_type": "code",
      "source": [
        "features = cifar10['train'].features\n",
        "features"
      ],
      "metadata": {
        "colab": {
          "base_uri": "https://localhost:8080/"
        },
        "id": "DCpXVe_DibZc",
        "outputId": "93a8cd10-4594-4209-8529-677ff15fbfa8"
      },
      "id": "DCpXVe_DibZc",
      "execution_count": 7,
      "outputs": [
        {
          "output_type": "execute_result",
          "data": {
            "text/plain": [
              "{'img': Image(decode=True, id=None),\n",
              " 'label': ClassLabel(names=['airplane', 'automobile', 'bird', 'cat', 'deer', 'dog', 'frog', 'horse', 'ship', 'truck'], id=None)}"
            ]
          },
          "metadata": {},
          "execution_count": 7
        }
      ]
    },
    {
      "cell_type": "code",
      "source": [
        "id2label = {id: label for id, label in enumerate(features['label'].names)}\n",
        "id2label"
      ],
      "metadata": {
        "colab": {
          "base_uri": "https://localhost:8080/"
        },
        "id": "_svCKoE8igGO",
        "outputId": "b9c6be3d-6a4f-4ff5-b14a-f8515629c94e"
      },
      "id": "_svCKoE8igGO",
      "execution_count": 8,
      "outputs": [
        {
          "output_type": "execute_result",
          "data": {
            "text/plain": [
              "{0: 'airplane',\n",
              " 1: 'automobile',\n",
              " 2: 'bird',\n",
              " 3: 'cat',\n",
              " 4: 'deer',\n",
              " 5: 'dog',\n",
              " 6: 'frog',\n",
              " 7: 'horse',\n",
              " 8: 'ship',\n",
              " 9: 'truck'}"
            ]
          },
          "metadata": {},
          "execution_count": 8
        }
      ]
    },
    {
      "cell_type": "code",
      "source": [
        "example = cifar10['train'][0]\n",
        "example"
      ],
      "metadata": {
        "colab": {
          "base_uri": "https://localhost:8080/"
        },
        "id": "ZnI9g3YMips1",
        "outputId": "85ca0590-5edb-40b1-e4bb-8e8471d88178"
      },
      "id": "ZnI9g3YMips1",
      "execution_count": 9,
      "outputs": [
        {
          "output_type": "execute_result",
          "data": {
            "text/plain": [
              "{'img': <PIL.PngImagePlugin.PngImageFile image mode=RGB size=32x32>,\n",
              " 'label': 0}"
            ]
          },
          "metadata": {},
          "execution_count": 9
        }
      ]
    },
    {
      "cell_type": "code",
      "source": [
        "example['img']"
      ],
      "metadata": {
        "colab": {
          "base_uri": "https://localhost:8080/",
          "height": 49
        },
        "id": "Qohq5pADjHCv",
        "outputId": "6114b94c-fb75-4a03-f5e9-57ed913e7857"
      },
      "id": "Qohq5pADjHCv",
      "execution_count": 10,
      "outputs": [
        {
          "output_type": "execute_result",
          "data": {
            "text/plain": [
              "<PIL.PngImagePlugin.PngImageFile image mode=RGB size=32x32>"
            ],
            "image/png": "[encoded data removed]"
          },
          "metadata": {},
          "execution_count": 10
        }
      ]
    },
    {
      "cell_type": "code",
      "source": [
        "import matplotlib.pyplot as plt\n",
        "\n",
        "plt.imshow(example['img']);"
      ],
      "metadata": {
        "colab": {
          "base_uri": "https://localhost:8080/",
          "height": 430
        },
        "id": "zhlgkjMajJYt",
        "outputId": "6d951a80-1439-4ae4-d23f-9ae52d1188ad"
      },
      "id": "zhlgkjMajJYt",
      "execution_count": 11,
      "outputs": [
        {
          "output_type": "display_data",
          "data": {
            "text/plain": [
              "<Figure size 640x480 with 1 Axes>"
            ],
            "image/png": "[encoded data removed]"
          },
          "metadata": {}
        }
      ]
    },
    {
      "cell_type": "code",
      "source": [
        "example['label']"
      ],
      "metadata": {
        "colab": {
          "base_uri": "https://localhost:8080/"
        },
        "id": "6Dj0DjWyjPK2",
        "outputId": "1c606825-5db3-4b45-9a15-6eb5cae0d2af"
      },
      "id": "6Dj0DjWyjPK2",
      "execution_count": 12,
      "outputs": [
        {
          "output_type": "execute_result",
          "data": {
            "text/plain": [
              "0"
            ]
          },
          "metadata": {},
          "execution_count": 12
        }
      ]
    },
    {
      "cell_type": "code",
      "source": [
        "id2label[example['label']]"
      ],
      "metadata": {
        "colab": {
          "base_uri": "https://localhost:8080/",
          "height": 35
        },
        "id": "UCm7hQ6sjRXK",
        "outputId": "455bdf0f-5784-4f25-91a2-e9391181a5eb"
      },
      "id": "UCm7hQ6sjRXK",
      "execution_count": 13,
      "outputs": [
        {
          "output_type": "execute_result",
          "data": {
            "text/plain": [
              "'airplane'"
            ],
            "application/vnd.google.colaboratory.intrinsic+json": {
              "type": "string"
            }
          },
          "metadata": {},
          "execution_count": 13
        }
      ]
    },
    {
      "cell_type": "markdown",
      "source": [
        "Let's create a PyTorch `Dataset` for model training."
      ],
      "metadata": {
        "id": "eUL-YIh6hIyF"
      },
      "id": "eUL-YIh6hIyF"
    },
    {
      "cell_type": "code",
      "source": [
        "from torch.utils.data import Dataset\n",
        "\n",
        "class CIFAR10Dataset(Dataset):\n",
        "    def __init__(self, dataset, tfms):\n",
        "        self.dataset = dataset\n",
        "        self.tfms = tfms\n",
        "\n",
        "    def __len__(self):\n",
        "        return len(self.dataset)\n",
        "\n",
        "    def __getitem__(self, idx):\n",
        "        example = self.dataset[idx]\n",
        "        img, label = example['img'], example['label']\n",
        "        img = self.tfms(img)\n",
        "        return img, label"
      ],
      "metadata": {
        "id": "Braodf36jXyY"
      },
      "id": "Braodf36jXyY",
      "execution_count": 14,
      "outputs": []
    },
    {
      "cell_type": "markdown",
      "source": [
        "**Note:** There is no need to convert `label` to a tensor as the data collator will collate the integers into a tensor anyway."
      ],
      "metadata": {
        "id": "kCu38qolhfmu"
      },
      "id": "kCu38qolhfmu"
    },
    {
      "cell_type": "code",
      "source": [
        "from torchvision.transforms import v2\n",
        "\n",
        "tfms = v2.Compose([\n",
        "    v2.ToImage(),\n",
        "    v2.ToDtype(torch.float32, scale=True),\n",
        "    v2.Normalize(mean=[0.4915, 0.4823, 0.4468], std=[0.2470, 0.2435, 0.2616])\n",
        "])"
      ],
      "metadata": {
        "id": "W1ZjZAhskGLH"
      },
      "id": "W1ZjZAhskGLH",
      "execution_count": 15,
      "outputs": []
    },
    {
      "cell_type": "markdown",
      "source": [
        "**Note:** `ToImage()` along with `ToDtype(torch.float32, scale=True)` is a replacement for `ToTensor()` in `torchvision.transforms.v2`."
      ],
      "metadata": {
        "id": "EphkdG6khvfw"
      },
      "id": "EphkdG6khvfw"
    },
    {
      "cell_type": "code",
      "source": [
        "cifar10_train = CIFAR10Dataset(cifar10['train'], tfms)\n",
        "len(cifar10_train)"
      ],
      "metadata": {
        "colab": {
          "base_uri": "https://localhost:8080/"
        },
        "id": "_Ku84lC3klUQ",
        "outputId": "920224ee-a97c-4903-bb82-193121474e33"
      },
      "id": "_Ku84lC3klUQ",
      "execution_count": 16,
      "outputs": [
        {
          "output_type": "execute_result",
          "data": {
            "text/plain": [
              "50000"
            ]
          },
          "metadata": {},
          "execution_count": 16
        }
      ]
    },
    {
      "cell_type": "code",
      "source": [
        "# Sanity check:\n",
        "img, label = cifar10_train[0]\n",
        "img.shape, label"
      ],
      "metadata": {
        "colab": {
          "base_uri": "https://localhost:8080/"
        },
        "id": "J9C_9W4Tksue",
        "outputId": "44f3309e-7912-451b-c294-d534151ec809"
      },
      "id": "J9C_9W4Tksue",
      "execution_count": 17,
      "outputs": [
        {
          "output_type": "execute_result",
          "data": {
            "text/plain": [
              "(torch.Size([3, 32, 32]), 0)"
            ]
          },
          "metadata": {},
          "execution_count": 17
        }
      ]
    },
    {
      "cell_type": "code",
      "source": [
        "cifar10_val = CIFAR10Dataset(cifar10['test'], tfms)\n",
        "len(cifar10_val)"
      ],
      "metadata": {
        "colab": {
          "base_uri": "https://localhost:8080/"
        },
        "id": "0L-pdJZjkyHf",
        "outputId": "8bf650d3-dbc8-43c9-dfd5-7b1ef0f040bb"
      },
      "id": "0L-pdJZjkyHf",
      "execution_count": 18,
      "outputs": [
        {
          "output_type": "execute_result",
          "data": {
            "text/plain": [
              "10000"
            ]
          },
          "metadata": {},
          "execution_count": 18
        }
      ]
    },
    {
      "cell_type": "code",
      "source": [
        "# Sanity check:\n",
        "img, label = cifar10_val[0]\n",
        "img.shape, label"
      ],
      "metadata": {
        "colab": {
          "base_uri": "https://localhost:8080/"
        },
        "id": "ueZwhEqRk7oW",
        "outputId": "6c56d753-93a9-421c-9581-0f558b931485"
      },
      "id": "ueZwhEqRk7oW",
      "execution_count": 19,
      "outputs": [
        {
          "output_type": "execute_result",
          "data": {
            "text/plain": [
              "(torch.Size([3, 32, 32]), 3)"
            ]
          },
          "metadata": {},
          "execution_count": 19
        }
      ]
    },
    {
      "cell_type": "code",
      "source": [
        "label_map = {0: 0, 2: 1}\n",
        "class_names = ['airplane', 'bird']"
      ],
      "metadata": {
        "id": "UGXOau6ClKVP"
      },
      "id": "UGXOau6ClKVP",
      "execution_count": 20,
      "outputs": []
    },
    {
      "cell_type": "code",
      "source": [
        "cifar2_train = [(img, label_map[label]) for img, label in cifar10_train if label in [0, 2]]\n",
        "len(cifar2_train)"
      ],
      "metadata": {
        "colab": {
          "base_uri": "https://localhost:8080/"
        },
        "id": "6hxqeiV0lRL3",
        "outputId": "d3af30d5-e379-49f3-cf39-b5327e62d207"
      },
      "id": "6hxqeiV0lRL3",
      "execution_count": 21,
      "outputs": [
        {
          "output_type": "execute_result",
          "data": {
            "text/plain": [
              "10000"
            ]
          },
          "metadata": {},
          "execution_count": 21
        }
      ]
    },
    {
      "cell_type": "code",
      "source": [
        "# Sanity check:\n",
        "img, label = cifar2_train[0]\n",
        "img.shape, label"
      ],
      "metadata": {
        "colab": {
          "base_uri": "https://localhost:8080/"
        },
        "id": "7Y5BCZDNlm-_",
        "outputId": "d07a9c1c-93b0-4f4f-c342-c0772956a3d9"
      },
      "id": "7Y5BCZDNlm-_",
      "execution_count": 22,
      "outputs": [
        {
          "output_type": "execute_result",
          "data": {
            "text/plain": [
              "(torch.Size([3, 32, 32]), 0)"
            ]
          },
          "metadata": {},
          "execution_count": 22
        }
      ]
    },
    {
      "cell_type": "code",
      "source": [
        "cifar2_val = [(img, label_map[label]) for img, label in cifar10_val if label in [0, 2]]\n",
        "len(cifar2_val)"
      ],
      "metadata": {
        "colab": {
          "base_uri": "https://localhost:8080/"
        },
        "id": "0OtaCDNrlz2v",
        "outputId": "4f7503fb-fe26-4bb7-d768-2fc850c09019"
      },
      "id": "0OtaCDNrlz2v",
      "execution_count": 23,
      "outputs": [
        {
          "output_type": "execute_result",
          "data": {
            "text/plain": [
              "2000"
            ]
          },
          "metadata": {},
          "execution_count": 23
        }
      ]
    },
    {
      "cell_type": "code",
      "source": [
        "# Sanity check:\n",
        "img, label = cifar2_val[0]\n",
        "img.shape, label"
      ],
      "metadata": {
        "colab": {
          "base_uri": "https://localhost:8080/"
        },
        "id": "PJQrUEM_l__j",
        "outputId": "b1d9aad5-c282-4b2e-92c1-b20f2c9529bd"
      },
      "id": "PJQrUEM_l__j",
      "execution_count": 24,
      "outputs": [
        {
          "output_type": "execute_result",
          "data": {
            "text/plain": [
              "(torch.Size([3, 32, 32]), 0)"
            ]
          },
          "metadata": {},
          "execution_count": 24
        }
      ]
    },
    {
      "cell_type": "code",
      "source": [
        "from torch.utils.data import DataLoader\n",
        "\n",
        "batch_size = 64\n",
        "train_dl = DataLoader(cifar2_train, batch_size=batch_size, shuffle=True, num_workers=2)\n",
        "len(train_dl)"
      ],
      "metadata": {
        "colab": {
          "base_uri": "https://localhost:8080/"
        },
        "id": "qop0NIREmHTQ",
        "outputId": "514f1627-3641-43e3-f1bc-f3438e0c8fb8"
      },
      "id": "qop0NIREmHTQ",
      "execution_count": 25,
      "outputs": [
        {
          "output_type": "execute_result",
          "data": {
            "text/plain": [
              "157"
            ]
          },
          "metadata": {},
          "execution_count": 25
        }
      ]
    },
    {
      "cell_type": "code",
      "source": [
        "# Sanity check:\n",
        "imgs, labels = next(iter(train_dl))\n",
        "imgs.shape, labels.shape"
      ],
      "metadata": {
        "colab": {
          "base_uri": "https://localhost:8080/"
        },
        "id": "uGnvRrs-mRSs",
        "outputId": "e90f35df-76b7-4fab-a80b-efe5533d2ae4"
      },
      "id": "uGnvRrs-mRSs",
      "execution_count": 26,
      "outputs": [
        {
          "output_type": "execute_result",
          "data": {
            "text/plain": [
              "(torch.Size([64, 3, 32, 32]), torch.Size([64]))"
            ]
          },
          "metadata": {},
          "execution_count": 26
        }
      ]
    },
    {
      "cell_type": "code",
      "source": [
        "imgs.dtype, labels.dtype"
      ],
      "metadata": {
        "colab": {
          "base_uri": "https://localhost:8080/"
        },
        "id": "zqP-I6ngm7_F",
        "outputId": "7a4ce8d4-1512-4043-81fa-e3ed7a0a451a"
      },
      "id": "zqP-I6ngm7_F",
      "execution_count": 27,
      "outputs": [
        {
          "output_type": "execute_result",
          "data": {
            "text/plain": [
              "(torch.float32, torch.int64)"
            ]
          },
          "metadata": {},
          "execution_count": 27
        }
      ]
    },
    {
      "cell_type": "code",
      "source": [
        "val_dl = DataLoader(cifar2_val, batch_size=batch_size, shuffle=False, num_workers=2)\n",
        "len(val_dl)"
      ],
      "metadata": {
        "colab": {
          "base_uri": "https://localhost:8080/"
        },
        "id": "bywFro-UmW1Z",
        "outputId": "5404a3fa-1d16-4270-d3a5-cace055b3d2d"
      },
      "id": "bywFro-UmW1Z",
      "execution_count": 28,
      "outputs": [
        {
          "output_type": "execute_result",
          "data": {
            "text/plain": [
              "32"
            ]
          },
          "metadata": {},
          "execution_count": 28
        }
      ]
    },
    {
      "cell_type": "code",
      "source": [
        "# Sanity check:\n",
        "imgs, labels = next(iter(val_dl))\n",
        "imgs.shape, labels.shape"
      ],
      "metadata": {
        "colab": {
          "base_uri": "https://localhost:8080/"
        },
        "id": "EqRPdM27mgtr",
        "outputId": "ea14468d-00da-4ad5-84ac-23b897b29248"
      },
      "id": "EqRPdM27mgtr",
      "execution_count": 29,
      "outputs": [
        {
          "output_type": "execute_result",
          "data": {
            "text/plain": [
              "(torch.Size([64, 3, 32, 32]), torch.Size([64]))"
            ]
          },
          "metadata": {},
          "execution_count": 29
        }
      ]
    },
    {
      "cell_type": "code",
      "source": [
        "imgs.dtype, labels.dtype"
      ],
      "metadata": {
        "colab": {
          "base_uri": "https://localhost:8080/"
        },
        "id": "YjnMgdcEnWIc",
        "outputId": "af56854b-e02f-47ec-8dbc-a1f7b2598200"
      },
      "id": "YjnMgdcEnWIc",
      "execution_count": 30,
      "outputs": [
        {
          "output_type": "execute_result",
          "data": {
            "text/plain": [
              "(torch.float32, torch.int64)"
            ]
          },
          "metadata": {},
          "execution_count": 30
        }
      ]
    },
    {
      "cell_type": "markdown",
      "source": [
        "# Net"
      ],
      "metadata": {
        "id": "RxKJF8vBE1EW"
      },
      "id": "RxKJF8vBE1EW"
    },
    {
      "cell_type": "code",
      "source": [
        "device = torch.device(\"cuda\") if torch.cuda.is_available() else torch.device(\"cpu\")\n",
        "device"
      ],
      "metadata": {
        "colab": {
          "base_uri": "https://localhost:8080/"
        },
        "id": "BcZLnvi9mpZF",
        "outputId": "7c189be3-4b38-492c-bf6c-fdba40f975b6"
      },
      "id": "BcZLnvi9mpZF",
      "execution_count": 31,
      "outputs": [
        {
          "output_type": "execute_result",
          "data": {
            "text/plain": [
              "device(type='cuda')"
            ]
          },
          "metadata": {},
          "execution_count": 31
        }
      ]
    },
    {
      "cell_type": "markdown",
      "source": [
        "First, let's re-create and train `Net` from the book."
      ],
      "metadata": {
        "id": "V1S1zHtn1pMd"
      },
      "id": "V1S1zHtn1pMd"
    },
    {
      "cell_type": "code",
      "source": [
        "import torch.nn as nn\n",
        "import torch.nn.functional as F\n",
        "from huggingface_hub import PyTorchModelHubMixin\n",
        "\n",
        "class Net(nn.Module, PyTorchModelHubMixin):\n",
        "    def __init__(self):\n",
        "        super().__init__()\n",
        "        self.conv1 = nn.Conv2d(3, 16, kernel_size=3, padding=1, stride=1)\n",
        "        self.conv2 = nn.Conv2d(16, 8, kernel_size=3, padding=1, stride=1)\n",
        "        self.fc1 = nn.Linear(8 * 8 * 8, 32)\n",
        "        self.fc2 = nn.Linear(32, 2)\n",
        "\n",
        "    def forward(self, x):\n",
        "        out = F.max_pool2d(torch.tanh(self.conv1(x)), kernel_size=2, stride=2) # Output shape: (batch_size, 16, 16, 16)\n",
        "        out = F.max_pool2d(torch.tanh(self.conv2(out)), kernel_size=2, stride=2) # Output shape: (batch_size, 8, 8, 8)\n",
        "        out = out.view(-1, 8 * 8 * 8) # Output shape: (batch_size, 512)\n",
        "        out = torch.tanh(self.fc1(out)) # Output shape: (batch_size, 32)\n",
        "        out = self.fc2(out) # Output shape: (batch_size, 2)\n",
        "        return out"
      ],
      "metadata": {
        "id": "hKR1ZIxJZR5Y"
      },
      "id": "hKR1ZIxJZR5Y",
      "execution_count": 32,
      "outputs": []
    },
    {
      "cell_type": "code",
      "source": [
        "model = Net().to(device)\n",
        "model"
      ],
      "metadata": {
        "colab": {
          "base_uri": "https://localhost:8080/"
        },
        "id": "F31S8G7YbLgm",
        "outputId": "8afdc919-72ac-43f9-d062-042cb4a077a9"
      },
      "id": "F31S8G7YbLgm",
      "execution_count": 33,
      "outputs": [
        {
          "output_type": "execute_result",
          "data": {
            "text/plain": [
              "Net(\n",
              "  (conv1): Conv2d(3, 16, kernel_size=(3, 3), stride=(1, 1), padding=(1, 1))\n",
              "  (conv2): Conv2d(16, 8, kernel_size=(3, 3), stride=(1, 1), padding=(1, 1))\n",
              "  (fc1): Linear(in_features=512, out_features=32, bias=True)\n",
              "  (fc2): Linear(in_features=32, out_features=2, bias=True)\n",
              ")"
            ]
          },
          "metadata": {},
          "execution_count": 33
        }
      ]
    },
    {
      "cell_type": "code",
      "source": [
        "# Sanity check:\n",
        "imgs = imgs.to(device)\n",
        "with torch.no_grad():\n",
        "    logits = model(imgs)\n",
        "logits.shape"
      ],
      "metadata": {
        "colab": {
          "base_uri": "https://localhost:8080/"
        },
        "id": "Ga8hi2e1bVxC",
        "outputId": "b7773644-83f2-4843-ad84-984fdf2deb8a"
      },
      "id": "Ga8hi2e1bVxC",
      "execution_count": 34,
      "outputs": [
        {
          "output_type": "execute_result",
          "data": {
            "text/plain": [
              "torch.Size([64, 2])"
            ]
          },
          "metadata": {},
          "execution_count": 34
        }
      ]
    },
    {
      "cell_type": "code",
      "source": [
        "loss_fn = nn.CrossEntropyLoss()"
      ],
      "metadata": {
        "id": "vSvdYe0pbd3R"
      },
      "id": "vSvdYe0pbd3R",
      "execution_count": 35,
      "outputs": []
    },
    {
      "cell_type": "code",
      "source": [
        "# Sanity check:\n",
        "labels = labels.to(device)\n",
        "with torch.no_grad():\n",
        "    loss = loss_fn(logits, labels)\n",
        "loss"
      ],
      "metadata": {
        "colab": {
          "base_uri": "https://localhost:8080/"
        },
        "id": "pjyvaBMsbhQI",
        "outputId": "8da31691-74d3-4de4-87fc-d9887d4e48b9"
      },
      "id": "pjyvaBMsbhQI",
      "execution_count": 36,
      "outputs": [
        {
          "output_type": "execute_result",
          "data": {
            "text/plain": [
              "tensor(0.7485, device='cuda:0')"
            ]
          },
          "metadata": {},
          "execution_count": 36
        }
      ]
    },
    {
      "cell_type": "code",
      "source": [
        "sum([p.numel() for p in model.parameters()])"
      ],
      "metadata": {
        "colab": {
          "base_uri": "https://localhost:8080/"
        },
        "id": "TvAzRCqJbork",
        "outputId": "518671f5-958e-4d03-a904-fd1a43f018c3"
      },
      "id": "TvAzRCqJbork",
      "execution_count": 37,
      "outputs": [
        {
          "output_type": "execute_result",
          "data": {
            "text/plain": [
              "18090"
            ]
          },
          "metadata": {},
          "execution_count": 37
        }
      ]
    },
    {
      "cell_type": "code",
      "source": [
        "# Manual calculation:\n",
        "(3 * 3 * 3 * 16 + 16) + (16 * 3 * 3 * 8 + 8) + (512 * 32 + 32) + (32 * 2 + 2)"
      ],
      "metadata": {
        "colab": {
          "base_uri": "https://localhost:8080/"
        },
        "id": "aC2bJ4wrbtwX",
        "outputId": "82495518-5595-4aba-8f0f-f96bce2abd4b"
      },
      "id": "aC2bJ4wrbtwX",
      "execution_count": 38,
      "outputs": [
        {
          "output_type": "execute_result",
          "data": {
            "text/plain": [
              "18090"
            ]
          },
          "metadata": {},
          "execution_count": 38
        }
      ]
    },
    {
      "cell_type": "code",
      "source": [
        "from torch.optim import SGD\n",
        "\n",
        "learning_rate = 1e-2\n",
        "optimizer = SGD(model.parameters(), lr=learning_rate)\n",
        "n_epochs = 100"
      ],
      "metadata": {
        "id": "Q3HX0U_Mb886"
      },
      "id": "Q3HX0U_Mb886",
      "execution_count": 39,
      "outputs": []
    },
    {
      "cell_type": "code",
      "source": [
        "def train_epoch():\n",
        "    model.train()\n",
        "    train_loss = 0\n",
        "    for imgs, labels in train_dl:\n",
        "        imgs, labels = imgs.to(device), labels.to(device)\n",
        "        logits = model(imgs)\n",
        "        loss = loss_fn(logits, labels)\n",
        "        train_loss += loss.item()\n",
        "        optimizer.zero_grad()\n",
        "        loss.backward()\n",
        "        optimizer.step()\n",
        "    train_loss /= len(cifar2_train)\n",
        "    train_loss = round(train_loss, 4)\n",
        "    return train_loss"
      ],
      "metadata": {
        "id": "Z3anUhuTcJMy"
      },
      "id": "Z3anUhuTcJMy",
      "execution_count": 40,
      "outputs": []
    },
    {
      "cell_type": "code",
      "source": [
        "import evaluate\n",
        "\n",
        "def validate_epoch():\n",
        "    model.eval()\n",
        "    val_loss = 0\n",
        "    metric = evaluate.load(\"accuracy\")\n",
        "    for imgs, labels in val_dl:\n",
        "        imgs, labels = imgs.to(device), labels.to(device)\n",
        "        with torch.no_grad():\n",
        "            logits = model(imgs)\n",
        "            loss = loss_fn(logits, labels)\n",
        "        val_loss += loss.item()\n",
        "        preds = logits.argmax(dim=1)\n",
        "        metric.add_batch(predictions=preds, references=labels)\n",
        "    val_loss /= len(cifar2_val)\n",
        "    val_loss = round(val_loss, 4)\n",
        "    results = metric.compute()\n",
        "    acc = results['accuracy']\n",
        "    return val_loss, acc"
      ],
      "metadata": {
        "id": "CBKIaeT3c8Y9"
      },
      "id": "CBKIaeT3c8Y9",
      "execution_count": 41,
      "outputs": []
    },
    {
      "cell_type": "code",
      "source": [
        "import wandb\n",
        "\n",
        "wandb.init(\n",
        "    project=\"custom-cnn-cifar2\",\n",
        "    config={\n",
        "        'architecture': \"Custom CNN\",\n",
        "        'kernel_size': \"(3, 3)\",\n",
        "        'dataset': \"CIFAR-2\",\n",
        "        'learning_rate': learning_rate,\n",
        "        'n_epochs': n_epochs,\n",
        "        'batch_size': batch_size\n",
        "    }\n",
        ")"
      ],
      "metadata": {
        "colab": {
          "base_uri": "https://localhost:8080/",
          "height": 161
        },
        "id": "crEEgjhvZZiM",
        "outputId": "947ee140-edd8-46f7-fc9d-e8b6ea10a649"
      },
      "id": "crEEgjhvZZiM",
      "execution_count": 42,
      "outputs": [
        {
          "output_type": "display_data",
          "data": {
            "text/plain": [
              "<IPython.core.display.Javascript object>"
            ],
            "application/javascript": [
              "\n",
              "        window._wandbApiKey = new Promise((resolve, reject) => {\n",
              "            function loadScript(url) {\n",
              "            return new Promise(function(resolve, reject) {\n",
              "                let newScript = document.createElement(\"script\");\n",
              "                newScript.onerror = reject;\n",
              "                newScript.onload = resolve;\n",
              "                document.body.appendChild(newScript);\n",
              "                newScript.src = url;\n",
              "            });\n",
              "            }\n",
              "            loadScript(\"https://cdn.jsdelivr.net/npm/postmate/build/postmate.min.js\").then(() => {\n",
              "            const iframe = document.createElement('iframe')\n",
              "            iframe.style.cssText = \"width:0;height:0;border:none\"\n",
              "            document.body.appendChild(iframe)\n",
              "            const handshake = new Postmate({\n",
              "                container: iframe,\n",
              "                url: 'https://wandb.ai/authorize'\n",
              "            });\n",
              "            const timeout = setTimeout(() => reject(\"Couldn't auto authenticate\"), 5000)\n",
              "            handshake.then(function(child) {\n",
              "                child.on('authorize', data => {\n",
              "                    clearTimeout(timeout)\n",
              "                    resolve(data)\n",
              "                });\n",
              "            });\n",
              "            })\n",
              "        });\n",
              "    "
            ]
          },
          "metadata": {}
        },
        {
          "output_type": "stream",
          "name": "stderr",
          "text": [
            "\u001b[34m\u001b[1mwandb\u001b[0m: Appending key for api.wandb.ai to your netrc file: /root/.netrc\n"
          ]
        },
        {
          "output_type": "display_data",
          "data": {
            "text/plain": [
              "<IPython.core.display.HTML object>"
            ],
            "text/html": [
              "Tracking run with wandb version 0.16.4"
            ]
          },
          "metadata": {}
        },
        {
          "output_type": "display_data",
          "data": {
            "text/plain": [
              "<IPython.core.display.HTML object>"
            ],
            "text/html": [
              "Run data is saved locally in <code>/content/wandb/run-20240310_083827-8pnf38i0</code>"
            ]
          },
          "metadata": {}
        },
        {
          "output_type": "display_data",
          "data": {
            "text/plain": [
              "<IPython.core.display.HTML object>"
            ],
            "text/html": [
              "Syncing run <strong><a href='https://wandb.ai/sadhaklal/custom-cnn-cifar2/runs/8pnf38i0' target=\"_blank\">gentle-brook-1</a></strong> to <a href='https://wandb.ai/sadhaklal/custom-cnn-cifar2' target=\"_blank\">Weights & Biases</a> (<a href='https://wandb.me/run' target=\"_blank\">docs</a>)<br/>"
            ]
          },
          "metadata": {}
        },
        {
          "output_type": "display_data",
          "data": {
            "text/plain": [
              "<IPython.core.display.HTML object>"
            ],
            "text/html": [
              " View project at <a href='https://wandb.ai/sadhaklal/custom-cnn-cifar2' target=\"_blank\">https://wandb.ai/sadhaklal/custom-cnn-cifar2</a>"
            ]
          },
          "metadata": {}
        },
        {
          "output_type": "display_data",
          "data": {
            "text/plain": [
              "<IPython.core.display.HTML object>"
            ],
            "text/html": [
              " View run at <a href='https://wandb.ai/sadhaklal/custom-cnn-cifar2/runs/8pnf38i0' target=\"_blank\">https://wandb.ai/sadhaklal/custom-cnn-cifar2/runs/8pnf38i0</a>"
            ]
          },
          "metadata": {}
        },
        {
          "output_type": "execute_result",
          "data": {
            "text/html": [
              "<button onClick=\"this.nextSibling.style.display='block';this.style.display='none';\">Display W&B run</button><iframe src='https://wandb.ai/sadhaklal/custom-cnn-cifar2/runs/8pnf38i0?jupyter=true' style='border:none;width:100%;height:420px;display:none;'></iframe>"
            ],
            "text/plain": [
              "<wandb.sdk.wandb_run.Run at 0x7f0d681b5660>"
            ]
          },
          "metadata": {},
          "execution_count": 42
        }
      ]
    },
    {
      "cell_type": "code",
      "source": [
        "best_epoch = 0\n",
        "best_acc = 0\n",
        "for epoch in range(n_epochs):\n",
        "    train_loss = train_epoch()\n",
        "    print(f\"Epoch: {epoch}, Training Loss: {train_loss}\")\n",
        "\n",
        "    val_loss, acc = validate_epoch()\n",
        "    print(f\"Validation Loss: {val_loss}, Accuracy: {acc}\")\n",
        "\n",
        "    wandb.log({\n",
        "        'train_loss': train_loss,\n",
        "        'val_loss': val_loss,\n",
        "        'accuracy': acc\n",
        "    })\n",
        "\n",
        "    if acc > best_acc:\n",
        "        best_epoch = epoch\n",
        "        best_acc = acc\n",
        "        model.push_to_hub(\"custom-cnn-cifar2\", commit_message=f\"epoch: {epoch}, accuracy: {acc}\")\n",
        "    print(\"---\")\n",
        "wandb.finish()\n",
        "print(\"---\")\n",
        "print(\"Done!\")\n",
        "print(f\"Best Epoch: {best_epoch}, Best Accuracy: {best_acc}\")"
      ],
      "metadata": {
        "colab": {
          "base_uri": "https://localhost:8080/",
          "height": 1000,
          "referenced_widgets": [
            "fba964a8e1f84c3199b41a14afdbf454",
            "df5c60d227ae4320b17316da1d4c9c7e",
            "2721e561da474360abf42b5d66e94f4d",
            "5873d1c429234d84be78d7118f41c025",
            "4cc824865fe140d6b60b8e6b4d4f0fc5",
            "888b2631ad3541eb9a3504871c3de5e8",
            "d8e477fcbe0740d9a14aac0beb1d9582",
            "74d9d436220144099bf9c439bf7d7893",
            "6a48ccb74ee243b3a6a12ed3fddb4487",
            "3ca5819173154ec3b0df63a285937c27",
            "d15a68ee42c74d7c8349188b445c75e3",
            "c684c810c0354827a765ee1a5c6a2bc0",
            "051552965a104e5db472f1d822bf0afc",
            "76f74852b6ad4a6399f53e13aa4d978d",
            "3c3942789cd745ecb14477a9c8853933",
            "b36ee67895b646789b8bc88186988029",
            "c4d7aa1d67c1480f82e3fa476199fd84",
            "d9ec8ac1ae124b6c988d74a265d72670",
            "eac80540b8074e14919bdb55cb436155",
            "d499281dc5ac4750a3fd4eecf59be285",
            "2b727cabbaab43bdaf42f4c10b6faa88",
            "b2a32a663b0842888e719293c103bb14",
            "0a22277cf3f54485a6b8fa07bd1f7b6a",
            "5b521dfcbdf944f7bd26ec3c4167ce01",
            "91dc54c71af9487b962ffd5aa4e0084e",
            "4cbe39cb0a6c4a418326c15736010350",
            "ab328ec76bfb49f7be9529e779630d70",
            "4123bb2fb2144036bb6c4b49a22530bb",
            "d61f345d0e834a338f36c016b9f63361",
            "05f920b31c8d41ac8839d5d3412debad",
            "79e979e020b0455a962a312fd8c002f9",
            "c2d930562dd947248647605bf6a41335",
            "089c898ac1e64e26bfa1e5c63f69df32",
            "c7f4b9adaa8c42bda085f40f56a1a792",
            "475438a9eba64cc5a58ef78bf6196d8f",
            "d889ebe8de854800ba438779f75ba39d",
            "625f6dd539cc4ff5990674196fb743fa",
            "ae838cd130674e8f97405e404d91c185",
            "d2b3565b925343019c566da36ff17733",
            "143dfca823904fb7804d8cca1b25541b",
            "8309cff292d64fa395446a7ad4b37495",
            "d659f77093fb4658af5edf4dd8ca59a4",
            "7bb3bd2f2eec4430a83a3c23edde5da5",
            "4066870886684d70bd876be8c4c2328f",
            "45b1d292883944f8b09c50ea5e1ae56d",
            "dfafe24545cc400db63f329571c92018",
            "190c73ccd2a9438f98fae2081d912a67",
            "1cc47fca5c9d47c8bde43656b7f426b0",
            "b0bb181fa28c4a5085e3a6ede4e609ce",
            "48a1998a75b24c13bfa993194dac26cc",
            "ee1394bc848f450495fee65fd018aab6",
            "87150753213f4087855ce2a6b9dfc717",
            "6b6e374a84f44fc68217294758051d34",
            "b87941aeffcc49b3a303f29ccafbcf31",
            "b5282dedb4554e179db91810f49b0c36",
            "ecc8e3cac2004289a9809954000be856",
            "94e3918dce7842e994f524eca33754a1",
            "589127643fd9416d8586437498eb36e7",
            "3c9e34da46864e4b8e1d0c31312a8335",
            "622ee2f17a63454ea8a603a26b92c6db",
            "036110f8813b41a9a7071dbbb3516e97",
            "e7e0755b7c0e4537a20af0eded9404dd",
            "2348d159fb29459b9d7e9dc748160ae8",
            "1e501022bee54a428391261842c49184",
            "ad0d74c7643a46abb8d05ff1b99da44d",
            "9f7ba1d26070489683f439084e494ddb",
            "a2a1976d421d4c7bbadea8b39f15c839",
            "861a9120e8b946b5b284a81c008e8850",
            "5a7582e5b82a425faa615a0ef9e914e0",
            "a5a84fc5775b45d6a21ab1588bc075f4",
            "94e3ffd407854e4291628e75e2c27b0f",
            "10e76a3c5c3c44b2bcd8cbf00e55d34b",
            "cec750daa26e4b0695e7dbf679389148",
            "45d5160e4f4b4b66894c1856f8d17a73",
            "5a479d6a0a8f44fe9607a024a0063b22",
            "ecf6420258fc47e2b26d591ef4958fc5",
            "97b43cbd16b540039c0032e6cfae541d",
            "fcda05ea53dd455fb1466a704b8beb12",
            "bed165ce65ff43dc8f22b6dfa536d96f",
            "7099096ae1e945619aaa2032bb40c519",
            "c50b437129d74626bd96b0cd5a698a25",
            "8913d53ae7d54814af4a7f6039e70d24",
            "cb1494692aa34409b84f65a1d1a4f29a",
            "3945557a0f2243cfa903eed53551d7d5",
            "b2693d7c90f44dddb3e0da102ca6b7e9",
            "52b8d73244714eacb4ed68b018aa8988",
            "6b0813143a1d487ba4be00ee4e363319",
            "32186d1778f34efa8df411825960a6fa",
            "c008c0e99f904045a5e7cc983d560695",
            "ea93ac60e87245f0ae2279d320a78f12",
            "8ca33ebee7c548e5a8a03b22fb4ad1da",
            "15ab428ede6645faa4bab30f60989a9b",
            "b3f827408efd4b9993f6a84bff2aba62",
            "1ba2e9aae0c042fc9a5c1bf43e66af45",
            "cdc27ddc333b458094ee8678c9919f9a",
            "101bda70e0d24073ada26c04688a63cb",
            "e9c32e148861411daff27eff9e3289bd",
            "85003dd5b3184949b60bd40120867780",
            "0ea37f1ef8c34076bc7a74405c8322d6",
            "309812b558a145f18335426a1d6d3337",
            "dcb510b85e6544b0a818449f0c075df9",
            "cb89206665104711a08c5674956e2c3f",
            "6fbabdf479284d4795eb6a75df953ef9",
            "aef3fcfebcec402a9e18cc7e8ba508e1",
            "dbc3d8d42524424d9317e869adfe1791",
            "fc9e9463dcf84af4b5dbd52d84532259",
            "b7761d7759684383b103b11e2fc034b1",
            "656b7999fd4340d992991d08e73a11ee",
            "ce6101cd5ee94c85be13161254c08575",
            "3e4ad95380e54a8796f67e166f8f37ac",
            "604b61c306694e67ba2eed9b9d684a9f",
            "e9a1c0d5272741ea9afa502936b85379",
            "ba83f54136e440a69dda1c49e432543f",
            "073c2d021a0e4acbbea43a210d463fb8",
            "061d4e44850a45338dafeff385780eb2",
            "7d4ea4a1861e403285afd9e4ee2be1b3",
            "131809848cd546e983f3100ceb3839d1",
            "c0642548ca0644a9bb37c26fcf1835d9",
            "2790378674da4ff0aafdf289925f21a0",
            "655c81444e14477d9cb82df34e0b9a5b",
            "23cc55d029f44df6a0c4aaeb79c54a5d",
            "df1875f724044d38a9ec986181cb9518",
            "fa56c545833b42c79505810f5372d71f",
            "6cef516ab0dd4fec9fcad848b30eb8ca",
            "4e4d96ebac994fc8a508d1f208e36fc6",
            "aafea20e37184db9a0e402e23c082010",
            "18f9d6d0e18647f1811a6c285fa30251",
            "b13fc891dc934b1bb15c44fca5b1a474",
            "038b38c510e240108c70318e28f31d9f",
            "ab3da139ba6b41a9b2ce569a1b396882",
            "c6b88b36ac364369a7ef3c4b68688217",
            "4c6a12c7b86443c895489c85be52cfd9",
            "d475b5ca0da94f51b524b951ff66e38f",
            "a87b0fdfd47c43c39cb2b1ce7a7c9057",
            "9eb89514e68f4d1e81083e7763038308",
            "f9037e608f2c4f7984c64aeeb586d0f7",
            "19d25badda4e430ea8e101b58dd98cd8",
            "1e4aff9226a8453b81945484d2be48ca",
            "18bb93fe7f614ddca9292aee3e0a4448",
            "0961a27e66a149039c11a4e8c491fd18",
            "2503c4d8f6eb42bba40e57ad9b557c14",
            "3c0281f6d4024d34b1e0fba3edeac242",
            "28797916d3c443a8a867c4004a4ad116",
            "312656ffc49a4a96b074604cdb575c41",
            "10c098f03f6d49dda1b05ba29a187fec",
            "ce09c180e46f4810b1c93488455035f4",
            "988238a76c034805b9db0679a110c6bb",
            "56a5e63491d541aeaafd40e93cd8f867",
            "bd866eeac6da4630ad2a3db5af00c855",
            "6109777af08d4998a4ed7213e4270502",
            "5e2fd10266184a1ab21e8f3238018231",
            "7519c7e3a5a04e11ad2deba9b57d25f7",
            "2ecfedb4da734dd4b6afec11fd3277e1",
            "f4660babbb744d7d83b4e6219cb1b1ef",
            "b68bcc618e1042188ca234a864129e8d",
            "6c62b0be1e3a41969edcd43dd4fe414b",
            "a0e9b64b68ee49059c38caca3004acfb",
            "85273016a6cd44aeb1ec21edda6936b6",
            "b2e45c9bafdc46e5a99469d1b1476983",
            "55ce7506aea84455a1de73ed40f145d4",
            "3ddf0ddd84c54b449154c5171edf5eeb",
            "85f0a45504914df588d8fdf9719e5b13",
            "7940f402abcc4c769e0437bf56cad229",
            "1e2b762159ab411e909d0bdbb5b2ab3f",
            "f70d2463ab2c4464b95eadb93717539b",
            "4b373f59e96841a2a47794c5bf4dc950",
            "b50771f1fea142dc84d278a24cd11e43",
            "5bf1e4ae61304084abc7ba42168231e0",
            "4b85e8fedcf0473ea82a1246d4df661d",
            "6aec9865f1aa49f49f1a1fd576ea9e5d",
            "7b21bd137aa8465f81a059bb0d0a8b39",
            "bd4a7c661f8d40c4b139e12b9afd0d81",
            "9d43d185a67441298359514668620f98",
            "cac4dd46261b40308f92c4a968214985",
            "83438159aa224ea8b62095bc8725029a",
            "df82f8976a6b4b1395cd6c0456896ff0",
            "9ad04d1c3cd44edba201a6fb6c47f0db",
            "b0990f5a0fba4a49a7076fa533f565da",
            "73a2a00392fe4d228b82277b69eab005",
            "67427fa276e74584b18d21c316d27e15",
            "be382dabffa9414ca84df340d1665339",
            "a9ac9ef584f24157b39b10e684467905",
            "742b4939e4f8401e9ab2d1e3d8879ea7",
            "aa12d0c5f5a24e16bf68d83fc90aca73",
            "b1a5cb3747b344a68b2da6ab8ea443d5",
            "89c1395e12fc4ddcaf968c7b265d3ffc",
            "52ae8841cf1647fca493cbd944a13b16",
            "3498311dfc6748c89eeb1298873b77e5",
            "045740cd83054d0687e094b355ccefa9",
            "25bb6f94d4bc421a969644d267a1ad9b",
            "d3c4f2fd821c42e0ba1eac4b056b3bd7",
            "dc72b21207aa44baac5fa4a24f70e149",
            "cea570348ef44ca9bd881024607b876c",
            "e65a7abcd2cb4d36838f0ebe708b7dd1",
            "10dbac8162c04d99beba75e4e21af644",
            "776aaa71a3c7447cb0897211916efaf7",
            "751e988642a64e3c92bb6b878ee36fa8",
            "118ea2f1ff7244f9ad5134d794a785f1",
            "8ebbfe94105b42518d3fdb8abde9338c",
            "9c3c33a27a1c4ca884ea855de8d2da23",
            "4f1b4045ba464b4dbdb390905cdb6a5e",
            "29a1c59598dd4070a284b13f6062f4e9",
            "9ea02cd382e24783a7d89e917ebcdb81",
            "631ea1dcc0a44a08980e4a5c8cb0349e",
            "d8461c284028464a8d3643ccd0918fea",
            "4896d4f3b41c4e0c8bd7657bba6637ed",
            "b1a7ce2ef5f44da7b087e79dfaa0b63d",
            "bd680d6e02504cd4aaeb0e9d6f59a3e2",
            "a050eb1f38724adbb58bfd2ccb0a9fa4",
            "22807febfac549aca979b43eb210f945",
            "90a88c39e8ee4759b915d2f2496d15e6",
            "33ee0206b89f440ba4cce7880b37790f",
            "20e8d176cccb4b2799f8c44009ab1ff0",
            "f33680ecaf944909847f44660d57c1c3",
            "4b92444acbbd483c883506e2034ba255",
            "f471b722f65f408f8e805327268ed12e",
            "9cee4799ae2642f793994e306aaa5b1d",
            "0ad6290034f84da1806249e7c8e00b5a",
            "aecdd616a62c4158a97199e99a495925",
            "100726f0139443fea36ce9cb9435e96a",
            "b0517841566a402eb0f18d6369556ffe",
            "f784903ec07e4b01b5aef65ceefbd3cc",
            "157d1d47d68a4687a4614e1f36c1004d",
            "a16368198cb94bd79fce10ef623ec26a",
            "47e079054e774f8aaf9472aa63b8d63a",
            "bbed1a1e1e6e4cd7bf626e95cbde913c",
            "9842a7641cfb4180a66b638256a57246",
            "c679ef6f64e24fabafa6de41646a3464",
            "7ea17149f6e04888bb666eafa333dda5",
            "5f4b3b14f2f741a39540be6cfbabb595",
            "bea58f9dbff3433db31a39d418dc54aa",
            "958885e62c394226aaf98da57046f1a5",
            "b3e77cda58954888adad2115bc20bab1",
            "bd53c3b75bf14cfb8502c9565b4cfedd",
            "7b42291566ba45ba8914fe3355fb890b",
            "5f9ca1b8a0bf4c9dbd276a6766bcad6c",
            "843e9ac395464e979bd5a8ae9dc47cf8",
            "894d1980aa36443787a571d64b7710d1",
            "9a1f9e61f9c045f4b7cf327194d07d1b"
          ]
        },
        "id": "FAJurFz4eQBB",
        "outputId": "911220bf-8739-4b4d-863d-58ce9cb359b1"
      },
      "id": "FAJurFz4eQBB",
      "execution_count": 43,
      "outputs": [
        {
          "output_type": "stream",
          "name": "stdout",
          "text": [
            "Epoch: 0, Training Loss: 0.0087\n"
          ]
        },
        {
          "output_type": "display_data",
          "data": {
            "text/plain": [
              "Downloading builder script:   0%|          | 0.00/4.20k [00:00<?, ?B/s]"
            ],
            "application/vnd.jupyter.widget-view+json": {
              "version_major": 2,
              "version_minor": 0,
              "model_id": "fba964a8e1f84c3199b41a14afdbf454"
            }
          },
          "metadata": {}
        },
        {
          "output_type": "stream",
          "name": "stdout",
          "text": [
            "Validation Loss: 0.0077, Accuracy: 0.7935\n"
          ]
        },
        {
          "output_type": "display_data",
          "data": {
            "text/plain": [
              "pytorch_model.bin:   0%|          | 0.00/75.7k [00:00<?, ?B/s]"
            ],
            "application/vnd.jupyter.widget-view+json": {
              "version_major": 2,
              "version_minor": 0,
              "model_id": "c684c810c0354827a765ee1a5c6a2bc0"
            }
          },
          "metadata": {}
        },
        {
          "output_type": "stream",
          "name": "stdout",
          "text": [
            "---\n",
            "Epoch: 1, Training Loss: 0.0075\n",
            "Validation Loss: 0.0072, Accuracy: 0.804\n"
          ]
        },
        {
          "output_type": "display_data",
          "data": {
            "text/plain": [
              "pytorch_model.bin:   0%|          | 0.00/75.7k [00:00<?, ?B/s]"
            ],
            "application/vnd.jupyter.widget-view+json": {
              "version_major": 2,
              "version_minor": 0,
              "model_id": "0a22277cf3f54485a6b8fa07bd1f7b6a"
            }
          },
          "metadata": {}
        },
        {
          "output_type": "stream",
          "name": "stdout",
          "text": [
            "---\n",
            "Epoch: 2, Training Loss: 0.0071\n",
            "Validation Loss: 0.0068, Accuracy: 0.8165\n"
          ]
        },
        {
          "output_type": "display_data",
          "data": {
            "text/plain": [
              "pytorch_model.bin:   0%|          | 0.00/75.7k [00:00<?, ?B/s]"
            ],
            "application/vnd.jupyter.widget-view+json": {
              "version_major": 2,
              "version_minor": 0,
              "model_id": "c7f4b9adaa8c42bda085f40f56a1a792"
            }
          },
          "metadata": {}
        },
        {
          "output_type": "stream",
          "name": "stdout",
          "text": [
            "---\n",
            "Epoch: 3, Training Loss: 0.0067\n",
            "Validation Loss: 0.0064, Accuracy: 0.8235\n"
          ]
        },
        {
          "output_type": "display_data",
          "data": {
            "text/plain": [
              "pytorch_model.bin:   0%|          | 0.00/75.7k [00:00<?, ?B/s]"
            ],
            "application/vnd.jupyter.widget-view+json": {
              "version_major": 2,
              "version_minor": 0,
              "model_id": "45b1d292883944f8b09c50ea5e1ae56d"
            }
          },
          "metadata": {}
        },
        {
          "output_type": "stream",
          "name": "stdout",
          "text": [
            "---\n",
            "Epoch: 4, Training Loss: 0.0062\n",
            "Validation Loss: 0.0061, Accuracy: 0.828\n"
          ]
        },
        {
          "output_type": "display_data",
          "data": {
            "text/plain": [
              "pytorch_model.bin:   0%|          | 0.00/75.7k [00:00<?, ?B/s]"
            ],
            "application/vnd.jupyter.widget-view+json": {
              "version_major": 2,
              "version_minor": 0,
              "model_id": "ecc8e3cac2004289a9809954000be856"
            }
          },
          "metadata": {}
        },
        {
          "output_type": "stream",
          "name": "stdout",
          "text": [
            "---\n",
            "Epoch: 5, Training Loss: 0.0059\n",
            "Validation Loss: 0.0058, Accuracy: 0.836\n"
          ]
        },
        {
          "output_type": "display_data",
          "data": {
            "text/plain": [
              "pytorch_model.bin:   0%|          | 0.00/75.7k [00:00<?, ?B/s]"
            ],
            "application/vnd.jupyter.widget-view+json": {
              "version_major": 2,
              "version_minor": 0,
              "model_id": "a2a1976d421d4c7bbadea8b39f15c839"
            }
          },
          "metadata": {}
        },
        {
          "output_type": "stream",
          "name": "stdout",
          "text": [
            "---\n",
            "Epoch: 6, Training Loss: 0.0056\n",
            "Validation Loss: 0.0056, Accuracy: 0.8425\n"
          ]
        },
        {
          "output_type": "display_data",
          "data": {
            "text/plain": [
              "pytorch_model.bin:   0%|          | 0.00/75.7k [00:00<?, ?B/s]"
            ],
            "application/vnd.jupyter.widget-view+json": {
              "version_major": 2,
              "version_minor": 0,
              "model_id": "fcda05ea53dd455fb1466a704b8beb12"
            }
          },
          "metadata": {}
        },
        {
          "output_type": "stream",
          "name": "stdout",
          "text": [
            "---\n",
            "Epoch: 7, Training Loss: 0.0054\n",
            "Validation Loss: 0.0055, Accuracy: 0.842\n",
            "---\n",
            "Epoch: 8, Training Loss: 0.0053\n",
            "Validation Loss: 0.0054, Accuracy: 0.8495\n"
          ]
        },
        {
          "output_type": "display_data",
          "data": {
            "text/plain": [
              "pytorch_model.bin:   0%|          | 0.00/75.7k [00:00<?, ?B/s]"
            ],
            "application/vnd.jupyter.widget-view+json": {
              "version_major": 2,
              "version_minor": 0,
              "model_id": "c008c0e99f904045a5e7cc983d560695"
            }
          },
          "metadata": {}
        },
        {
          "output_type": "stream",
          "name": "stdout",
          "text": [
            "---\n",
            "Epoch: 9, Training Loss: 0.0052\n",
            "Validation Loss: 0.0054, Accuracy: 0.848\n",
            "---\n",
            "Epoch: 10, Training Loss: 0.0051\n",
            "Validation Loss: 0.0056, Accuracy: 0.8425\n",
            "---\n",
            "Epoch: 11, Training Loss: 0.0051\n",
            "Validation Loss: 0.0052, Accuracy: 0.8565\n"
          ]
        },
        {
          "output_type": "display_data",
          "data": {
            "text/plain": [
              "pytorch_model.bin:   0%|          | 0.00/75.7k [00:00<?, ?B/s]"
            ],
            "application/vnd.jupyter.widget-view+json": {
              "version_major": 2,
              "version_minor": 0,
              "model_id": "309812b558a145f18335426a1d6d3337"
            }
          },
          "metadata": {}
        },
        {
          "output_type": "stream",
          "name": "stdout",
          "text": [
            "---\n",
            "Epoch: 12, Training Loss: 0.005\n",
            "Validation Loss: 0.0052, Accuracy: 0.8555\n",
            "---\n",
            "Epoch: 13, Training Loss: 0.0049\n",
            "Validation Loss: 0.0058, Accuracy: 0.841\n",
            "---\n",
            "Epoch: 14, Training Loss: 0.0049\n",
            "Validation Loss: 0.0051, Accuracy: 0.8605\n"
          ]
        },
        {
          "output_type": "display_data",
          "data": {
            "text/plain": [
              "pytorch_model.bin:   0%|          | 0.00/75.7k [00:00<?, ?B/s]"
            ],
            "application/vnd.jupyter.widget-view+json": {
              "version_major": 2,
              "version_minor": 0,
              "model_id": "604b61c306694e67ba2eed9b9d684a9f"
            }
          },
          "metadata": {}
        },
        {
          "output_type": "stream",
          "name": "stdout",
          "text": [
            "---\n",
            "Epoch: 15, Training Loss: 0.0049\n",
            "Validation Loss: 0.0051, Accuracy: 0.8655\n"
          ]
        },
        {
          "output_type": "display_data",
          "data": {
            "text/plain": [
              "pytorch_model.bin:   0%|          | 0.00/75.7k [00:00<?, ?B/s]"
            ],
            "application/vnd.jupyter.widget-view+json": {
              "version_major": 2,
              "version_minor": 0,
              "model_id": "df1875f724044d38a9ec986181cb9518"
            }
          },
          "metadata": {}
        },
        {
          "output_type": "stream",
          "name": "stdout",
          "text": [
            "---\n",
            "Epoch: 16, Training Loss: 0.0048\n",
            "Validation Loss: 0.0051, Accuracy: 0.8575\n",
            "---\n",
            "Epoch: 17, Training Loss: 0.0048\n",
            "Validation Loss: 0.0052, Accuracy: 0.861\n",
            "---\n",
            "Epoch: 18, Training Loss: 0.0047\n",
            "Validation Loss: 0.0051, Accuracy: 0.8625\n",
            "---\n",
            "Epoch: 19, Training Loss: 0.0047\n",
            "Validation Loss: 0.0049, Accuracy: 0.872\n"
          ]
        },
        {
          "output_type": "display_data",
          "data": {
            "text/plain": [
              "pytorch_model.bin:   0%|          | 0.00/75.7k [00:00<?, ?B/s]"
            ],
            "application/vnd.jupyter.widget-view+json": {
              "version_major": 2,
              "version_minor": 0,
              "model_id": "d475b5ca0da94f51b524b951ff66e38f"
            }
          },
          "metadata": {}
        },
        {
          "output_type": "stream",
          "name": "stdout",
          "text": [
            "---\n",
            "Epoch: 20, Training Loss: 0.0046\n",
            "Validation Loss: 0.0056, Accuracy: 0.8505\n",
            "---\n",
            "Epoch: 21, Training Loss: 0.0046\n",
            "Validation Loss: 0.0048, Accuracy: 0.865\n",
            "---\n",
            "Epoch: 22, Training Loss: 0.0045\n",
            "Validation Loss: 0.0048, Accuracy: 0.8705\n",
            "---\n",
            "Epoch: 23, Training Loss: 0.0045\n",
            "Validation Loss: 0.005, Accuracy: 0.868\n",
            "---\n",
            "Epoch: 24, Training Loss: 0.0045\n",
            "Validation Loss: 0.005, Accuracy: 0.8715\n",
            "---\n",
            "Epoch: 25, Training Loss: 0.0044\n",
            "Validation Loss: 0.0047, Accuracy: 0.867\n",
            "---\n",
            "Epoch: 26, Training Loss: 0.0044\n",
            "Validation Loss: 0.0046, Accuracy: 0.8805\n"
          ]
        },
        {
          "output_type": "display_data",
          "data": {
            "text/plain": [
              "pytorch_model.bin:   0%|          | 0.00/75.7k [00:00<?, ?B/s]"
            ],
            "application/vnd.jupyter.widget-view+json": {
              "version_major": 2,
              "version_minor": 0,
              "model_id": "312656ffc49a4a96b074604cdb575c41"
            }
          },
          "metadata": {}
        },
        {
          "output_type": "stream",
          "name": "stdout",
          "text": [
            "---\n",
            "Epoch: 27, Training Loss: 0.0043\n",
            "Validation Loss: 0.0046, Accuracy: 0.877\n",
            "---\n",
            "Epoch: 28, Training Loss: 0.0043\n",
            "Validation Loss: 0.0046, Accuracy: 0.876\n",
            "---\n",
            "Epoch: 29, Training Loss: 0.0042\n",
            "Validation Loss: 0.005, Accuracy: 0.865\n",
            "---\n",
            "Epoch: 30, Training Loss: 0.0042\n",
            "Validation Loss: 0.0047, Accuracy: 0.878\n",
            "---\n",
            "Epoch: 31, Training Loss: 0.0042\n",
            "Validation Loss: 0.0049, Accuracy: 0.863\n",
            "---\n",
            "Epoch: 32, Training Loss: 0.0042\n",
            "Validation Loss: 0.0047, Accuracy: 0.869\n",
            "---\n",
            "Epoch: 33, Training Loss: 0.0041\n",
            "Validation Loss: 0.0046, Accuracy: 0.8765\n",
            "---\n",
            "Epoch: 34, Training Loss: 0.0041\n",
            "Validation Loss: 0.0048, Accuracy: 0.867\n",
            "---\n",
            "Epoch: 35, Training Loss: 0.004\n",
            "Validation Loss: 0.0044, Accuracy: 0.8825\n"
          ]
        },
        {
          "output_type": "display_data",
          "data": {
            "text/plain": [
              "pytorch_model.bin:   0%|          | 0.00/75.7k [00:00<?, ?B/s]"
            ],
            "application/vnd.jupyter.widget-view+json": {
              "version_major": 2,
              "version_minor": 0,
              "model_id": "b68bcc618e1042188ca234a864129e8d"
            }
          },
          "metadata": {}
        },
        {
          "output_type": "stream",
          "name": "stdout",
          "text": [
            "---\n",
            "Epoch: 36, Training Loss: 0.004\n",
            "Validation Loss: 0.005, Accuracy: 0.8725\n",
            "---\n",
            "Epoch: 37, Training Loss: 0.004\n",
            "Validation Loss: 0.0049, Accuracy: 0.8615\n",
            "---\n",
            "Epoch: 38, Training Loss: 0.0039\n",
            "Validation Loss: 0.0046, Accuracy: 0.8815\n",
            "---\n",
            "Epoch: 39, Training Loss: 0.0039\n",
            "Validation Loss: 0.0049, Accuracy: 0.872\n",
            "---\n",
            "Epoch: 40, Training Loss: 0.0039\n",
            "Validation Loss: 0.0045, Accuracy: 0.8765\n",
            "---\n",
            "Epoch: 41, Training Loss: 0.0038\n",
            "Validation Loss: 0.0043, Accuracy: 0.887\n"
          ]
        },
        {
          "output_type": "display_data",
          "data": {
            "text/plain": [
              "pytorch_model.bin:   0%|          | 0.00/75.7k [00:00<?, ?B/s]"
            ],
            "application/vnd.jupyter.widget-view+json": {
              "version_major": 2,
              "version_minor": 0,
              "model_id": "4b373f59e96841a2a47794c5bf4dc950"
            }
          },
          "metadata": {}
        },
        {
          "output_type": "stream",
          "name": "stdout",
          "text": [
            "---\n",
            "Epoch: 42, Training Loss: 0.0038\n",
            "Validation Loss: 0.0044, Accuracy: 0.8805\n",
            "---\n",
            "Epoch: 43, Training Loss: 0.0038\n",
            "Validation Loss: 0.0047, Accuracy: 0.872\n",
            "---\n",
            "Epoch: 44, Training Loss: 0.0037\n",
            "Validation Loss: 0.0044, Accuracy: 0.885\n",
            "---\n",
            "Epoch: 45, Training Loss: 0.0037\n",
            "Validation Loss: 0.0043, Accuracy: 0.892\n"
          ]
        },
        {
          "output_type": "display_data",
          "data": {
            "text/plain": [
              "pytorch_model.bin:   0%|          | 0.00/75.7k [00:00<?, ?B/s]"
            ],
            "application/vnd.jupyter.widget-view+json": {
              "version_major": 2,
              "version_minor": 0,
              "model_id": "9ad04d1c3cd44edba201a6fb6c47f0db"
            }
          },
          "metadata": {}
        },
        {
          "output_type": "stream",
          "name": "stdout",
          "text": [
            "---\n",
            "Epoch: 46, Training Loss: 0.0037\n",
            "Validation Loss: 0.0054, Accuracy: 0.8515\n",
            "---\n",
            "Epoch: 47, Training Loss: 0.0037\n",
            "Validation Loss: 0.0043, Accuracy: 0.883\n",
            "---\n",
            "Epoch: 48, Training Loss: 0.0036\n",
            "Validation Loss: 0.0045, Accuracy: 0.885\n",
            "---\n",
            "Epoch: 49, Training Loss: 0.0036\n",
            "Validation Loss: 0.0042, Accuracy: 0.8915\n",
            "---\n",
            "Epoch: 50, Training Loss: 0.0035\n",
            "Validation Loss: 0.0047, Accuracy: 0.8765\n",
            "---\n",
            "Epoch: 51, Training Loss: 0.0035\n",
            "Validation Loss: 0.0042, Accuracy: 0.8925\n"
          ]
        },
        {
          "output_type": "display_data",
          "data": {
            "text/plain": [
              "pytorch_model.bin:   0%|          | 0.00/75.7k [00:00<?, ?B/s]"
            ],
            "application/vnd.jupyter.widget-view+json": {
              "version_major": 2,
              "version_minor": 0,
              "model_id": "3498311dfc6748c89eeb1298873b77e5"
            }
          },
          "metadata": {}
        },
        {
          "output_type": "stream",
          "name": "stdout",
          "text": [
            "---\n",
            "Epoch: 52, Training Loss: 0.0035\n",
            "Validation Loss: 0.0043, Accuracy: 0.885\n",
            "---\n",
            "Epoch: 53, Training Loss: 0.0035\n",
            "Validation Loss: 0.0043, Accuracy: 0.886\n",
            "---\n",
            "Epoch: 54, Training Loss: 0.0034\n",
            "Validation Loss: 0.0043, Accuracy: 0.891\n",
            "---\n",
            "Epoch: 55, Training Loss: 0.0034\n",
            "Validation Loss: 0.0046, Accuracy: 0.8805\n",
            "---\n",
            "Epoch: 56, Training Loss: 0.0034\n",
            "Validation Loss: 0.0042, Accuracy: 0.8975\n"
          ]
        },
        {
          "output_type": "display_data",
          "data": {
            "text/plain": [
              "pytorch_model.bin:   0%|          | 0.00/75.7k [00:00<?, ?B/s]"
            ],
            "application/vnd.jupyter.widget-view+json": {
              "version_major": 2,
              "version_minor": 0,
              "model_id": "8ebbfe94105b42518d3fdb8abde9338c"
            }
          },
          "metadata": {}
        },
        {
          "output_type": "stream",
          "name": "stdout",
          "text": [
            "---\n",
            "Epoch: 57, Training Loss: 0.0034\n",
            "Validation Loss: 0.0047, Accuracy: 0.8765\n",
            "---\n",
            "Epoch: 58, Training Loss: 0.0033\n",
            "Validation Loss: 0.0042, Accuracy: 0.893\n",
            "---\n",
            "Epoch: 59, Training Loss: 0.0033\n",
            "Validation Loss: 0.0043, Accuracy: 0.8865\n",
            "---\n",
            "Epoch: 60, Training Loss: 0.0033\n",
            "Validation Loss: 0.0042, Accuracy: 0.8955\n",
            "---\n",
            "Epoch: 61, Training Loss: 0.0033\n",
            "Validation Loss: 0.007, Accuracy: 0.804\n",
            "---\n",
            "Epoch: 62, Training Loss: 0.0033\n",
            "Validation Loss: 0.0041, Accuracy: 0.896\n",
            "---\n",
            "Epoch: 63, Training Loss: 0.0032\n",
            "Validation Loss: 0.0043, Accuracy: 0.8915\n",
            "---\n",
            "Epoch: 64, Training Loss: 0.0032\n",
            "Validation Loss: 0.0041, Accuracy: 0.8905\n",
            "---\n",
            "Epoch: 65, Training Loss: 0.0032\n",
            "Validation Loss: 0.0045, Accuracy: 0.8845\n",
            "---\n",
            "Epoch: 66, Training Loss: 0.0031\n",
            "Validation Loss: 0.0057, Accuracy: 0.8595\n",
            "---\n",
            "Epoch: 67, Training Loss: 0.0031\n",
            "Validation Loss: 0.0041, Accuracy: 0.8985\n"
          ]
        },
        {
          "output_type": "display_data",
          "data": {
            "text/plain": [
              "pytorch_model.bin:   0%|          | 0.00/75.7k [00:00<?, ?B/s]"
            ],
            "application/vnd.jupyter.widget-view+json": {
              "version_major": 2,
              "version_minor": 0,
              "model_id": "22807febfac549aca979b43eb210f945"
            }
          },
          "metadata": {}
        },
        {
          "output_type": "stream",
          "name": "stdout",
          "text": [
            "---\n",
            "Epoch: 68, Training Loss: 0.0031\n",
            "Validation Loss: 0.0044, Accuracy: 0.885\n",
            "---\n",
            "Epoch: 69, Training Loss: 0.0031\n",
            "Validation Loss: 0.0043, Accuracy: 0.8865\n",
            "---\n",
            "Epoch: 70, Training Loss: 0.003\n",
            "Validation Loss: 0.0042, Accuracy: 0.8945\n",
            "---\n",
            "Epoch: 71, Training Loss: 0.003\n",
            "Validation Loss: 0.0043, Accuracy: 0.8905\n",
            "---\n",
            "Epoch: 72, Training Loss: 0.003\n",
            "Validation Loss: 0.0043, Accuracy: 0.896\n",
            "---\n",
            "Epoch: 73, Training Loss: 0.003\n",
            "Validation Loss: 0.0055, Accuracy: 0.8505\n",
            "---\n",
            "Epoch: 74, Training Loss: 0.0029\n",
            "Validation Loss: 0.0041, Accuracy: 0.8885\n",
            "---\n",
            "Epoch: 75, Training Loss: 0.0029\n",
            "Validation Loss: 0.0042, Accuracy: 0.887\n",
            "---\n",
            "Epoch: 76, Training Loss: 0.0029\n",
            "Validation Loss: 0.0042, Accuracy: 0.8995\n"
          ]
        },
        {
          "output_type": "display_data",
          "data": {
            "text/plain": [
              "pytorch_model.bin:   0%|          | 0.00/75.7k [00:00<?, ?B/s]"
            ],
            "application/vnd.jupyter.widget-view+json": {
              "version_major": 2,
              "version_minor": 0,
              "model_id": "b0517841566a402eb0f18d6369556ffe"
            }
          },
          "metadata": {}
        },
        {
          "output_type": "stream",
          "name": "stdout",
          "text": [
            "---\n",
            "Epoch: 77, Training Loss: 0.0028\n",
            "Validation Loss: 0.0041, Accuracy: 0.895\n",
            "---\n",
            "Epoch: 78, Training Loss: 0.0028\n",
            "Validation Loss: 0.0044, Accuracy: 0.8965\n",
            "---\n",
            "Epoch: 79, Training Loss: 0.0028\n",
            "Validation Loss: 0.0044, Accuracy: 0.8865\n",
            "---\n",
            "Epoch: 80, Training Loss: 0.0028\n",
            "Validation Loss: 0.0041, Accuracy: 0.898\n",
            "---\n",
            "Epoch: 81, Training Loss: 0.0028\n",
            "Validation Loss: 0.0041, Accuracy: 0.8945\n",
            "---\n",
            "Epoch: 82, Training Loss: 0.0028\n",
            "Validation Loss: 0.0046, Accuracy: 0.869\n",
            "---\n",
            "Epoch: 83, Training Loss: 0.0027\n",
            "Validation Loss: 0.0043, Accuracy: 0.8815\n",
            "---\n",
            "Epoch: 84, Training Loss: 0.0027\n",
            "Validation Loss: 0.0047, Accuracy: 0.8825\n",
            "---\n",
            "Epoch: 85, Training Loss: 0.0027\n",
            "Validation Loss: 0.0049, Accuracy: 0.868\n",
            "---\n",
            "Epoch: 86, Training Loss: 0.0026\n",
            "Validation Loss: 0.0044, Accuracy: 0.889\n",
            "---\n",
            "Epoch: 87, Training Loss: 0.0026\n",
            "Validation Loss: 0.0042, Accuracy: 0.8945\n",
            "---\n",
            "Epoch: 88, Training Loss: 0.0026\n",
            "Validation Loss: 0.0042, Accuracy: 0.884\n",
            "---\n",
            "Epoch: 89, Training Loss: 0.0026\n",
            "Validation Loss: 0.0042, Accuracy: 0.8965\n",
            "---\n",
            "Epoch: 90, Training Loss: 0.0026\n",
            "Validation Loss: 0.0041, Accuracy: 0.896\n",
            "---\n",
            "Epoch: 91, Training Loss: 0.0025\n",
            "Validation Loss: 0.0043, Accuracy: 0.8965\n",
            "---\n",
            "Epoch: 92, Training Loss: 0.0025\n",
            "Validation Loss: 0.0049, Accuracy: 0.885\n",
            "---\n",
            "Epoch: 93, Training Loss: 0.0025\n",
            "Validation Loss: 0.0048, Accuracy: 0.865\n",
            "---\n",
            "Epoch: 94, Training Loss: 0.0025\n",
            "Validation Loss: 0.0045, Accuracy: 0.892\n",
            "---\n",
            "Epoch: 95, Training Loss: 0.0025\n",
            "Validation Loss: 0.0045, Accuracy: 0.8865\n",
            "---\n",
            "Epoch: 96, Training Loss: 0.0024\n",
            "Validation Loss: 0.0043, Accuracy: 0.888\n",
            "---\n",
            "Epoch: 97, Training Loss: 0.0024\n",
            "Validation Loss: 0.0044, Accuracy: 0.8875\n",
            "---\n",
            "Epoch: 98, Training Loss: 0.0024\n",
            "Validation Loss: 0.0048, Accuracy: 0.8775\n",
            "---\n",
            "Epoch: 99, Training Loss: 0.0024\n",
            "Validation Loss: 0.0046, Accuracy: 0.876\n",
            "---\n"
          ]
        },
        {
          "output_type": "display_data",
          "data": {
            "text/plain": [
              "VBox(children=(Label(value='0.001 MB of 0.001 MB uploaded\\r'), FloatProgress(value=1.0, max=1.0)))"
            ],
            "application/vnd.jupyter.widget-view+json": {
              "version_major": 2,
              "version_minor": 0,
              "model_id": "958885e62c394226aaf98da57046f1a5"
            }
          },
          "metadata": {}
        },
        {
          "output_type": "display_data",
          "data": {
            "text/plain": [
              "<IPython.core.display.HTML object>"
            ],
            "text/html": [
              "<style>\n",
              "    table.wandb td:nth-child(1) { padding: 0 10px; text-align: left ; width: auto;} td:nth-child(2) {text-align: left ; width: 100%}\n",
              "    .wandb-row { display: flex; flex-direction: row; flex-wrap: wrap; justify-content: flex-start; width: 100% }\n",
              "    .wandb-col { display: flex; flex-direction: column; flex-basis: 100%; flex: 1; padding: 10px; }\n",
              "    </style>\n",
              "<div class=\"wandb-row\"><div class=\"wandb-col\"><h3>Run history:</h3><br/><table class=\"wandb\"><tr><td>accuracy</td><td>▁▃▄▄▄▅▆▅▅▆▆▇▇▆▇▇▆▆█▇▆▇▇██▇▅▇▇▅███▇▇▇█▆▇▆</td></tr><tr><td>train_loss</td><td>█▆▅▄▄▄▄▄▃▃▃▃▃▃▃▃▃▃▂▂▂▂▂▂▂▂▂▂▂▂▂▁▁▁▁▁▁▁▁▁</td></tr><tr><td>val_loss</td><td>█▆▄▄▄▃▃▃▄▂▂▂▂▂▂▂▂▂▁▂▂▁▂▁▁▁▄▂▁▄▁▂▁▁▂▁▁▂▁▂</td></tr></table><br/></div><div class=\"wandb-col\"><h3>Run summary:</h3><br/><table class=\"wandb\"><tr><td>accuracy</td><td>0.876</td></tr><tr><td>train_loss</td><td>0.0024</td></tr><tr><td>val_loss</td><td>0.0046</td></tr></table><br/></div></div>"
            ]
          },
          "metadata": {}
        },
        {
          "output_type": "display_data",
          "data": {
            "text/plain": [
              "<IPython.core.display.HTML object>"
            ],
            "text/html": [
              " View run <strong style=\"color:#cdcd00\">gentle-brook-1</strong> at: <a href='https://wandb.ai/sadhaklal/custom-cnn-cifar2/runs/8pnf38i0' target=\"_blank\">https://wandb.ai/sadhaklal/custom-cnn-cifar2/runs/8pnf38i0</a><br/>Synced 5 W&B file(s), 0 media file(s), 0 artifact file(s) and 0 other file(s)"
            ]
          },
          "metadata": {}
        },
        {
          "output_type": "display_data",
          "data": {
            "text/plain": [
              "<IPython.core.display.HTML object>"
            ],
            "text/html": [
              "Find logs at: <code>./wandb/run-20240310_083827-8pnf38i0/logs</code>"
            ]
          },
          "metadata": {}
        },
        {
          "output_type": "stream",
          "name": "stdout",
          "text": [
            "---\n",
            "Done!\n",
            "Best Epoch: 76, Best Accuracy: 0.8995\n"
          ]
        }
      ]
    },
    {
      "cell_type": "markdown",
      "source": [
        "Now, let's increase the convolution kernel size to 5x5."
      ],
      "metadata": {
        "id": "rLYX-jax58PF"
      },
      "id": "rLYX-jax58PF"
    },
    {
      "cell_type": "code",
      "source": [
        "class Net(nn.Module):\n",
        "    def __init__(self):\n",
        "        super().__init__()\n",
        "        self.conv1 = nn.Conv2d(3, 16, kernel_size=5, padding=2, stride=1)\n",
        "        self.conv2 = nn.Conv2d(16, 8, kernel_size=5, padding=2, stride=1)\n",
        "        self.fc1 = nn.Linear(8 * 8 * 8, 32)\n",
        "        self.fc2 = nn.Linear(32, 2)\n",
        "\n",
        "    def forward(self, x):\n",
        "        out = F.max_pool2d(torch.tanh(self.conv1(x)), kernel_size=2, stride=2) # Output shape: (batch_size, 16, 16, 16)\n",
        "        out = F.max_pool2d(torch.tanh(self.conv2(out)), kernel_size=2, stride=2) # Output shape: (batch_size, 8, 8, 8)\n",
        "        out = out.view(-1, 8 * 8 * 8) # Output shape: (batch_size, 512)\n",
        "        out = torch.tanh(self.fc1(out)) # Output shape: (batch_size, 32)\n",
        "        out = self.fc2(out) # Output shape: (batch_size, 2)\n",
        "        return out"
      ],
      "metadata": {
        "id": "U3sYVNpqSqs5"
      },
      "id": "U3sYVNpqSqs5",
      "execution_count": 44,
      "outputs": []
    },
    {
      "cell_type": "code",
      "source": [
        "model = Net().to(device)\n",
        "model"
      ],
      "metadata": {
        "colab": {
          "base_uri": "https://localhost:8080/"
        },
        "id": "4DmIYfCZUvk8",
        "outputId": "92544950-719c-42f4-fa5c-359880d2b18b"
      },
      "id": "4DmIYfCZUvk8",
      "execution_count": 45,
      "outputs": [
        {
          "output_type": "execute_result",
          "data": {
            "text/plain": [
              "Net(\n",
              "  (conv1): Conv2d(3, 16, kernel_size=(5, 5), stride=(1, 1), padding=(2, 2))\n",
              "  (conv2): Conv2d(16, 8, kernel_size=(5, 5), stride=(1, 1), padding=(2, 2))\n",
              "  (fc1): Linear(in_features=512, out_features=32, bias=True)\n",
              "  (fc2): Linear(in_features=32, out_features=2, bias=True)\n",
              ")"
            ]
          },
          "metadata": {},
          "execution_count": 45
        }
      ]
    },
    {
      "cell_type": "code",
      "source": [
        "# Sanity check:\n",
        "with torch.no_grad():\n",
        "    logits = model(imgs)\n",
        "logits.shape"
      ],
      "metadata": {
        "colab": {
          "base_uri": "https://localhost:8080/"
        },
        "id": "WQB5lcbdUysN",
        "outputId": "ce03eeee-3439-419d-e276-5d20ce6f4049"
      },
      "id": "WQB5lcbdUysN",
      "execution_count": 46,
      "outputs": [
        {
          "output_type": "execute_result",
          "data": {
            "text/plain": [
              "torch.Size([64, 2])"
            ]
          },
          "metadata": {},
          "execution_count": 46
        }
      ]
    },
    {
      "cell_type": "code",
      "source": [
        "sum([p.numel() for p in model.parameters()])"
      ],
      "metadata": {
        "colab": {
          "base_uri": "https://localhost:8080/"
        },
        "id": "BqvTso5dVKgS",
        "outputId": "7459fc04-d1e4-41b5-f021-40ad88cfa14d"
      },
      "id": "BqvTso5dVKgS",
      "execution_count": 47,
      "outputs": [
        {
          "output_type": "execute_result",
          "data": {
            "text/plain": [
              "20906"
            ]
          },
          "metadata": {},
          "execution_count": 47
        }
      ]
    },
    {
      "cell_type": "code",
      "source": [
        "# Manual calculation:\n",
        "(3 * 5 * 5 * 16 + 16) + (16 * 5 * 5 * 8 + 8) + (512 * 32 + 32) + (32 * 2 + 2)"
      ],
      "metadata": {
        "colab": {
          "base_uri": "https://localhost:8080/"
        },
        "id": "yXroSrPhVOSZ",
        "outputId": "5de44f60-a7c2-4286-9b54-53a70e890f06"
      },
      "id": "yXroSrPhVOSZ",
      "execution_count": 48,
      "outputs": [
        {
          "output_type": "execute_result",
          "data": {
            "text/plain": [
              "20906"
            ]
          },
          "metadata": {},
          "execution_count": 48
        }
      ]
    },
    {
      "cell_type": "code",
      "source": [
        "20906 - 18090"
      ],
      "metadata": {
        "colab": {
          "base_uri": "https://localhost:8080/"
        },
        "id": "5dQVlW5mVbtu",
        "outputId": "3e83c590-b827-439f-c944-ec23199751de"
      },
      "id": "5dQVlW5mVbtu",
      "execution_count": 49,
      "outputs": [
        {
          "output_type": "execute_result",
          "data": {
            "text/plain": [
              "2816"
            ]
          },
          "metadata": {},
          "execution_count": 49
        }
      ]
    },
    {
      "cell_type": "markdown",
      "source": [
        "Answer to (a): Switching from 3x3 convolution kernels to 5x5 convolution kernels leads to a modest increase in the number of parameters."
      ],
      "metadata": {
        "id": "wVN0XzHl55y1"
      },
      "id": "wVN0XzHl55y1"
    },
    {
      "cell_type": "code",
      "source": [
        "optimizer = SGD(model.parameters(), lr=learning_rate)"
      ],
      "metadata": {
        "id": "ZsoKw_DeWD9p"
      },
      "id": "ZsoKw_DeWD9p",
      "execution_count": 50,
      "outputs": []
    },
    {
      "cell_type": "code",
      "source": [
        "wandb.init(\n",
        "    project=\"custom-cnn-cifar2\",\n",
        "    config={\n",
        "        'architecture': \"Custom CNN\",\n",
        "        'kernel_size': \"(5, 5)\",\n",
        "        'dataset': \"CIFAR-2\",\n",
        "        'learning_rate': learning_rate,\n",
        "        'n_epochs': n_epochs,\n",
        "        'batch_size': batch_size\n",
        "    }\n",
        ")"
      ],
      "metadata": {
        "colab": {
          "base_uri": "https://localhost:8080/",
          "height": 144
        },
        "id": "KNKDulDwZzxq",
        "outputId": "2d6a6d88-5644-4e89-c64b-e9a73f68eb04"
      },
      "id": "KNKDulDwZzxq",
      "execution_count": 51,
      "outputs": [
        {
          "output_type": "stream",
          "name": "stderr",
          "text": [
            "\u001b[34m\u001b[1mwandb\u001b[0m: Currently logged in as: \u001b[33msadhaklal\u001b[0m. Use \u001b[1m`wandb login --relogin`\u001b[0m to force relogin\n"
          ]
        },
        {
          "output_type": "display_data",
          "data": {
            "text/plain": [
              "<IPython.core.display.HTML object>"
            ],
            "text/html": [
              "Tracking run with wandb version 0.16.4"
            ]
          },
          "metadata": {}
        },
        {
          "output_type": "display_data",
          "data": {
            "text/plain": [
              "<IPython.core.display.HTML object>"
            ],
            "text/html": [
              "Run data is saved locally in <code>/content/wandb/run-20240310_084418-3j9yeex4</code>"
            ]
          },
          "metadata": {}
        },
        {
          "output_type": "display_data",
          "data": {
            "text/plain": [
              "<IPython.core.display.HTML object>"
            ],
            "text/html": [
              "Syncing run <strong><a href='https://wandb.ai/sadhaklal/custom-cnn-cifar2/runs/3j9yeex4' target=\"_blank\">frosty-elevator-2</a></strong> to <a href='https://wandb.ai/sadhaklal/custom-cnn-cifar2' target=\"_blank\">Weights & Biases</a> (<a href='https://wandb.me/run' target=\"_blank\">docs</a>)<br/>"
            ]
          },
          "metadata": {}
        },
        {
          "output_type": "display_data",
          "data": {
            "text/plain": [
              "<IPython.core.display.HTML object>"
            ],
            "text/html": [
              " View project at <a href='https://wandb.ai/sadhaklal/custom-cnn-cifar2' target=\"_blank\">https://wandb.ai/sadhaklal/custom-cnn-cifar2</a>"
            ]
          },
          "metadata": {}
        },
        {
          "output_type": "display_data",
          "data": {
            "text/plain": [
              "<IPython.core.display.HTML object>"
            ],
            "text/html": [
              " View run at <a href='https://wandb.ai/sadhaklal/custom-cnn-cifar2/runs/3j9yeex4' target=\"_blank\">https://wandb.ai/sadhaklal/custom-cnn-cifar2/runs/3j9yeex4</a>"
            ]
          },
          "metadata": {}
        },
        {
          "output_type": "execute_result",
          "data": {
            "text/html": [
              "<button onClick=\"this.nextSibling.style.display='block';this.style.display='none';\">Display W&B run</button><iframe src='https://wandb.ai/sadhaklal/custom-cnn-cifar2/runs/3j9yeex4?jupyter=true' style='border:none;width:100%;height:420px;display:none;'></iframe>"
            ],
            "text/plain": [
              "<wandb.sdk.wandb_run.Run at 0x7f0d60666bf0>"
            ]
          },
          "metadata": {},
          "execution_count": 51
        }
      ]
    },
    {
      "cell_type": "code",
      "source": [
        "best_epoch = 0\n",
        "best_acc = 0\n",
        "for epoch in range(n_epochs):\n",
        "    train_loss = train_epoch()\n",
        "    print(f\"Epoch: {epoch}, Training Loss: {train_loss}\")\n",
        "\n",
        "    val_loss, acc = validate_epoch()\n",
        "    print(f\"Validation Loss: {val_loss}, Accuracy: {acc}\")\n",
        "\n",
        "    wandb.log({\n",
        "        'train_loss': train_loss,\n",
        "        'val_loss': val_loss,\n",
        "        'accuracy': acc\n",
        "    })\n",
        "\n",
        "    if acc > best_acc:\n",
        "        best_epoch = epoch\n",
        "        best_acc = acc\n",
        "    print(\"---\")\n",
        "wandb.finish()\n",
        "print(\"---\")\n",
        "print(\"Done!\")\n",
        "print(f\"Best Epoch: {best_epoch}, Best Accuracy: {best_acc}\")"
      ],
      "metadata": {
        "colab": {
          "base_uri": "https://localhost:8080/",
          "height": 1000,
          "referenced_widgets": [
            "48a94eb7cedb402684c380755f8a1d19",
            "4ab203c6fe77422abe944c08364a0bdb",
            "39b30dbab7af49118b1d7f737c1c7bd7",
            "45ac19f234344e4b894bfddff6473785",
            "d6b03702eedd4c6b9b421d211f584e12",
            "ffb6d1dff9fc4dcd82b4728b8400e100",
            "156cd7362be440d9a380439c2932ac21",
            "441c8ae9283640988b61ecf93ca79d50"
          ]
        },
        "id": "MAXmibicWUla",
        "outputId": "a7159357-41e1-4162-eac4-6b79ac3254f5"
      },
      "id": "MAXmibicWUla",
      "execution_count": 52,
      "outputs": [
        {
          "output_type": "stream",
          "name": "stdout",
          "text": [
            "Epoch: 0, Training Loss: 0.0089\n",
            "Validation Loss: 0.0076, Accuracy: 0.786\n",
            "---\n",
            "Epoch: 1, Training Loss: 0.0075\n",
            "Validation Loss: 0.0072, Accuracy: 0.7975\n",
            "---\n",
            "Epoch: 2, Training Loss: 0.007\n",
            "Validation Loss: 0.0068, Accuracy: 0.808\n",
            "---\n",
            "Epoch: 3, Training Loss: 0.0066\n",
            "Validation Loss: 0.0064, Accuracy: 0.824\n",
            "---\n",
            "Epoch: 4, Training Loss: 0.0061\n",
            "Validation Loss: 0.006, Accuracy: 0.828\n",
            "---\n",
            "Epoch: 5, Training Loss: 0.0057\n",
            "Validation Loss: 0.0058, Accuracy: 0.8315\n",
            "---\n",
            "Epoch: 6, Training Loss: 0.0054\n",
            "Validation Loss: 0.0056, Accuracy: 0.838\n",
            "---\n",
            "Epoch: 7, Training Loss: 0.0053\n",
            "Validation Loss: 0.0057, Accuracy: 0.837\n",
            "---\n",
            "Epoch: 8, Training Loss: 0.0052\n",
            "Validation Loss: 0.0055, Accuracy: 0.8455\n",
            "---\n",
            "Epoch: 9, Training Loss: 0.0051\n",
            "Validation Loss: 0.0054, Accuracy: 0.851\n",
            "---\n",
            "Epoch: 10, Training Loss: 0.005\n",
            "Validation Loss: 0.0055, Accuracy: 0.8445\n",
            "---\n",
            "Epoch: 11, Training Loss: 0.005\n",
            "Validation Loss: 0.0051, Accuracy: 0.8585\n",
            "---\n",
            "Epoch: 12, Training Loss: 0.0049\n",
            "Validation Loss: 0.0058, Accuracy: 0.8405\n",
            "---\n",
            "Epoch: 13, Training Loss: 0.0048\n",
            "Validation Loss: 0.0057, Accuracy: 0.839\n",
            "---\n",
            "Epoch: 14, Training Loss: 0.0048\n",
            "Validation Loss: 0.0052, Accuracy: 0.857\n",
            "---\n",
            "Epoch: 15, Training Loss: 0.0047\n",
            "Validation Loss: 0.0054, Accuracy: 0.847\n",
            "---\n",
            "Epoch: 16, Training Loss: 0.0047\n",
            "Validation Loss: 0.0048, Accuracy: 0.8615\n",
            "---\n",
            "Epoch: 17, Training Loss: 0.0046\n",
            "Validation Loss: 0.005, Accuracy: 0.864\n",
            "---\n",
            "Epoch: 18, Training Loss: 0.0046\n",
            "Validation Loss: 0.0063, Accuracy: 0.812\n",
            "---\n",
            "Epoch: 19, Training Loss: 0.0045\n",
            "Validation Loss: 0.0054, Accuracy: 0.8535\n",
            "---\n",
            "Epoch: 20, Training Loss: 0.0045\n",
            "Validation Loss: 0.0048, Accuracy: 0.868\n",
            "---\n",
            "Epoch: 21, Training Loss: 0.0044\n",
            "Validation Loss: 0.0048, Accuracy: 0.868\n",
            "---\n",
            "Epoch: 22, Training Loss: 0.0044\n",
            "Validation Loss: 0.0052, Accuracy: 0.8525\n",
            "---\n",
            "Epoch: 23, Training Loss: 0.0043\n",
            "Validation Loss: 0.0047, Accuracy: 0.8735\n",
            "---\n",
            "Epoch: 24, Training Loss: 0.0043\n",
            "Validation Loss: 0.0052, Accuracy: 0.8545\n",
            "---\n",
            "Epoch: 25, Training Loss: 0.0043\n",
            "Validation Loss: 0.0056, Accuracy: 0.8435\n",
            "---\n",
            "Epoch: 26, Training Loss: 0.0042\n",
            "Validation Loss: 0.0049, Accuracy: 0.867\n",
            "---\n",
            "Epoch: 27, Training Loss: 0.0042\n",
            "Validation Loss: 0.0051, Accuracy: 0.8655\n",
            "---\n",
            "Epoch: 28, Training Loss: 0.0042\n",
            "Validation Loss: 0.0047, Accuracy: 0.876\n",
            "---\n",
            "Epoch: 29, Training Loss: 0.0041\n",
            "Validation Loss: 0.0057, Accuracy: 0.844\n",
            "---\n",
            "Epoch: 30, Training Loss: 0.0041\n",
            "Validation Loss: 0.0051, Accuracy: 0.8675\n",
            "---\n",
            "Epoch: 31, Training Loss: 0.004\n",
            "Validation Loss: 0.0058, Accuracy: 0.8275\n",
            "---\n",
            "Epoch: 32, Training Loss: 0.004\n",
            "Validation Loss: 0.0061, Accuracy: 0.816\n",
            "---\n",
            "Epoch: 33, Training Loss: 0.004\n",
            "Validation Loss: 0.0056, Accuracy: 0.848\n",
            "---\n",
            "Epoch: 34, Training Loss: 0.004\n",
            "Validation Loss: 0.0047, Accuracy: 0.8715\n",
            "---\n",
            "Epoch: 35, Training Loss: 0.0039\n",
            "Validation Loss: 0.0045, Accuracy: 0.8775\n",
            "---\n",
            "Epoch: 36, Training Loss: 0.0038\n",
            "Validation Loss: 0.0052, Accuracy: 0.864\n",
            "---\n",
            "Epoch: 37, Training Loss: 0.0038\n",
            "Validation Loss: 0.0046, Accuracy: 0.878\n",
            "---\n",
            "Epoch: 38, Training Loss: 0.0038\n",
            "Validation Loss: 0.0045, Accuracy: 0.885\n",
            "---\n",
            "Epoch: 39, Training Loss: 0.0038\n",
            "Validation Loss: 0.0051, Accuracy: 0.858\n",
            "---\n",
            "Epoch: 40, Training Loss: 0.0037\n",
            "Validation Loss: 0.0048, Accuracy: 0.8815\n",
            "---\n",
            "Epoch: 41, Training Loss: 0.0037\n",
            "Validation Loss: 0.0046, Accuracy: 0.8715\n",
            "---\n",
            "Epoch: 42, Training Loss: 0.0036\n",
            "Validation Loss: 0.0045, Accuracy: 0.8825\n",
            "---\n",
            "Epoch: 43, Training Loss: 0.0036\n",
            "Validation Loss: 0.005, Accuracy: 0.858\n",
            "---\n",
            "Epoch: 44, Training Loss: 0.0035\n",
            "Validation Loss: 0.0046, Accuracy: 0.873\n",
            "---\n",
            "Epoch: 45, Training Loss: 0.0035\n",
            "Validation Loss: 0.0049, Accuracy: 0.8785\n",
            "---\n",
            "Epoch: 46, Training Loss: 0.0035\n",
            "Validation Loss: 0.0051, Accuracy: 0.87\n",
            "---\n",
            "Epoch: 47, Training Loss: 0.0035\n",
            "Validation Loss: 0.0049, Accuracy: 0.8645\n",
            "---\n",
            "Epoch: 48, Training Loss: 0.0034\n",
            "Validation Loss: 0.005, Accuracy: 0.8775\n",
            "---\n",
            "Epoch: 49, Training Loss: 0.0033\n",
            "Validation Loss: 0.0048, Accuracy: 0.8775\n",
            "---\n",
            "Epoch: 50, Training Loss: 0.0034\n",
            "Validation Loss: 0.0045, Accuracy: 0.8865\n",
            "---\n",
            "Epoch: 51, Training Loss: 0.0033\n",
            "Validation Loss: 0.0057, Accuracy: 0.8415\n",
            "---\n",
            "Epoch: 52, Training Loss: 0.0033\n",
            "Validation Loss: 0.0046, Accuracy: 0.882\n",
            "---\n",
            "Epoch: 53, Training Loss: 0.0032\n",
            "Validation Loss: 0.0045, Accuracy: 0.881\n",
            "---\n",
            "Epoch: 54, Training Loss: 0.0032\n",
            "Validation Loss: 0.0046, Accuracy: 0.875\n",
            "---\n",
            "Epoch: 55, Training Loss: 0.0031\n",
            "Validation Loss: 0.0046, Accuracy: 0.8865\n",
            "---\n",
            "Epoch: 56, Training Loss: 0.0031\n",
            "Validation Loss: 0.0063, Accuracy: 0.8375\n",
            "---\n",
            "Epoch: 57, Training Loss: 0.003\n",
            "Validation Loss: 0.0045, Accuracy: 0.8845\n",
            "---\n",
            "Epoch: 58, Training Loss: 0.003\n",
            "Validation Loss: 0.0045, Accuracy: 0.8815\n",
            "---\n",
            "Epoch: 59, Training Loss: 0.003\n",
            "Validation Loss: 0.0045, Accuracy: 0.877\n",
            "---\n",
            "Epoch: 60, Training Loss: 0.0029\n",
            "Validation Loss: 0.0044, Accuracy: 0.889\n",
            "---\n",
            "Epoch: 61, Training Loss: 0.0029\n",
            "Validation Loss: 0.005, Accuracy: 0.864\n",
            "---\n",
            "Epoch: 62, Training Loss: 0.0029\n",
            "Validation Loss: 0.0047, Accuracy: 0.885\n",
            "---\n",
            "Epoch: 63, Training Loss: 0.0028\n",
            "Validation Loss: 0.0045, Accuracy: 0.8885\n",
            "---\n",
            "Epoch: 64, Training Loss: 0.0028\n",
            "Validation Loss: 0.0048, Accuracy: 0.8835\n",
            "---\n",
            "Epoch: 65, Training Loss: 0.0027\n",
            "Validation Loss: 0.0046, Accuracy: 0.888\n",
            "---\n",
            "Epoch: 66, Training Loss: 0.0028\n",
            "Validation Loss: 0.0061, Accuracy: 0.8515\n",
            "---\n",
            "Epoch: 67, Training Loss: 0.0027\n",
            "Validation Loss: 0.0046, Accuracy: 0.886\n",
            "---\n",
            "Epoch: 68, Training Loss: 0.0027\n",
            "Validation Loss: 0.0048, Accuracy: 0.882\n",
            "---\n",
            "Epoch: 69, Training Loss: 0.0027\n",
            "Validation Loss: 0.0066, Accuracy: 0.828\n",
            "---\n",
            "Epoch: 70, Training Loss: 0.0026\n",
            "Validation Loss: 0.0063, Accuracy: 0.8375\n",
            "---\n",
            "Epoch: 71, Training Loss: 0.0026\n",
            "Validation Loss: 0.0048, Accuracy: 0.872\n",
            "---\n",
            "Epoch: 72, Training Loss: 0.0025\n",
            "Validation Loss: 0.0054, Accuracy: 0.876\n",
            "---\n",
            "Epoch: 73, Training Loss: 0.0025\n",
            "Validation Loss: 0.0048, Accuracy: 0.884\n",
            "---\n",
            "Epoch: 74, Training Loss: 0.0025\n",
            "Validation Loss: 0.0053, Accuracy: 0.867\n",
            "---\n",
            "Epoch: 75, Training Loss: 0.0025\n",
            "Validation Loss: 0.0047, Accuracy: 0.8805\n",
            "---\n",
            "Epoch: 76, Training Loss: 0.0024\n",
            "Validation Loss: 0.0047, Accuracy: 0.8895\n",
            "---\n",
            "Epoch: 77, Training Loss: 0.0024\n",
            "Validation Loss: 0.0049, Accuracy: 0.8825\n",
            "---\n",
            "Epoch: 78, Training Loss: 0.0024\n",
            "Validation Loss: 0.0053, Accuracy: 0.877\n",
            "---\n",
            "Epoch: 79, Training Loss: 0.0023\n",
            "Validation Loss: 0.0054, Accuracy: 0.8655\n",
            "---\n",
            "Epoch: 80, Training Loss: 0.0023\n",
            "Validation Loss: 0.005, Accuracy: 0.875\n",
            "---\n",
            "Epoch: 81, Training Loss: 0.0023\n",
            "Validation Loss: 0.0052, Accuracy: 0.869\n",
            "---\n",
            "Epoch: 82, Training Loss: 0.0022\n",
            "Validation Loss: 0.0048, Accuracy: 0.8815\n",
            "---\n",
            "Epoch: 83, Training Loss: 0.0022\n",
            "Validation Loss: 0.0048, Accuracy: 0.8935\n",
            "---\n",
            "Epoch: 84, Training Loss: 0.0021\n",
            "Validation Loss: 0.0057, Accuracy: 0.867\n",
            "---\n",
            "Epoch: 85, Training Loss: 0.0021\n",
            "Validation Loss: 0.0052, Accuracy: 0.8655\n",
            "---\n",
            "Epoch: 86, Training Loss: 0.0021\n",
            "Validation Loss: 0.0052, Accuracy: 0.8785\n",
            "---\n",
            "Epoch: 87, Training Loss: 0.002\n",
            "Validation Loss: 0.0052, Accuracy: 0.8735\n",
            "---\n",
            "Epoch: 88, Training Loss: 0.002\n",
            "Validation Loss: 0.005, Accuracy: 0.879\n",
            "---\n",
            "Epoch: 89, Training Loss: 0.002\n",
            "Validation Loss: 0.0052, Accuracy: 0.8895\n",
            "---\n",
            "Epoch: 90, Training Loss: 0.0019\n",
            "Validation Loss: 0.0052, Accuracy: 0.884\n",
            "---\n",
            "Epoch: 91, Training Loss: 0.0019\n",
            "Validation Loss: 0.0049, Accuracy: 0.886\n",
            "---\n",
            "Epoch: 92, Training Loss: 0.0019\n",
            "Validation Loss: 0.0055, Accuracy: 0.873\n",
            "---\n",
            "Epoch: 93, Training Loss: 0.0019\n",
            "Validation Loss: 0.005, Accuracy: 0.8855\n",
            "---\n",
            "Epoch: 94, Training Loss: 0.0019\n",
            "Validation Loss: 0.0051, Accuracy: 0.8875\n",
            "---\n",
            "Epoch: 95, Training Loss: 0.0018\n",
            "Validation Loss: 0.0051, Accuracy: 0.888\n",
            "---\n",
            "Epoch: 96, Training Loss: 0.0018\n",
            "Validation Loss: 0.0059, Accuracy: 0.8695\n",
            "---\n",
            "Epoch: 97, Training Loss: 0.0018\n",
            "Validation Loss: 0.0062, Accuracy: 0.887\n",
            "---\n",
            "Epoch: 98, Training Loss: 0.0018\n",
            "Validation Loss: 0.0055, Accuracy: 0.877\n",
            "---\n",
            "Epoch: 99, Training Loss: 0.0017\n",
            "Validation Loss: 0.0053, Accuracy: 0.881\n",
            "---\n"
          ]
        },
        {
          "output_type": "display_data",
          "data": {
            "text/plain": [
              "VBox(children=(Label(value='0.001 MB of 0.001 MB uploaded\\r'), FloatProgress(value=1.0, max=1.0)))"
            ],
            "application/vnd.jupyter.widget-view+json": {
              "version_major": 2,
              "version_minor": 0,
              "model_id": "48a94eb7cedb402684c380755f8a1d19"
            }
          },
          "metadata": {}
        },
        {
          "output_type": "display_data",
          "data": {
            "text/plain": [
              "<IPython.core.display.HTML object>"
            ],
            "text/html": [
              "<style>\n",
              "    table.wandb td:nth-child(1) { padding: 0 10px; text-align: left ; width: auto;} td:nth-child(2) {text-align: left ; width: 100%}\n",
              "    .wandb-row { display: flex; flex-direction: row; flex-wrap: wrap; justify-content: flex-start; width: 100% }\n",
              "    .wandb-col { display: flex; flex-direction: column; flex-basis: 100%; flex: 1; padding: 10px; }\n",
              "    </style>\n",
              "<div class=\"wandb-row\"><div class=\"wandb-col\"><h3>Run history:</h3><br/><table class=\"wandb\"><tr><td>accuracy</td><td>▁▂▄▄▅▅▅▆▆▅▅▆▆▅▇▇▇▆▇▇█▇█▇██▅▇▇▇█▇▆█▇▇█▇▆▇</td></tr><tr><td>train_loss</td><td>█▆▅▄▄▄▄▄▄▄▄▃▃▃▃▃▃▃▃▃▃▂▂▂▂▂▂▂▂▂▂▂▂▁▁▁▁▁▁▁</td></tr><tr><td>val_loss</td><td>█▆▄▄▃▄▃▂▂▃▄▃▃▄▁▁▂▂▂▂▁▁▁▁▁▁▅▂▂▂▂▃▃▂▃▂▂▂▄▃</td></tr></table><br/></div><div class=\"wandb-col\"><h3>Run summary:</h3><br/><table class=\"wandb\"><tr><td>accuracy</td><td>0.881</td></tr><tr><td>train_loss</td><td>0.0017</td></tr><tr><td>val_loss</td><td>0.0053</td></tr></table><br/></div></div>"
            ]
          },
          "metadata": {}
        },
        {
          "output_type": "display_data",
          "data": {
            "text/plain": [
              "<IPython.core.display.HTML object>"
            ],
            "text/html": [
              " View run <strong style=\"color:#cdcd00\">frosty-elevator-2</strong> at: <a href='https://wandb.ai/sadhaklal/custom-cnn-cifar2/runs/3j9yeex4' target=\"_blank\">https://wandb.ai/sadhaklal/custom-cnn-cifar2/runs/3j9yeex4</a><br/>Synced 5 W&B file(s), 0 media file(s), 0 artifact file(s) and 0 other file(s)"
            ]
          },
          "metadata": {}
        },
        {
          "output_type": "display_data",
          "data": {
            "text/plain": [
              "<IPython.core.display.HTML object>"
            ],
            "text/html": [
              "Find logs at: <code>./wandb/run-20240310_084418-3j9yeex4/logs</code>"
            ]
          },
          "metadata": {}
        },
        {
          "output_type": "stream",
          "name": "stdout",
          "text": [
            "---\n",
            "Done!\n",
            "Best Epoch: 83, Best Accuracy: 0.8935\n"
          ]
        }
      ]
    },
    {
      "cell_type": "markdown",
      "source": [
        "Answer to (b): Switching to 5x5 convolution kernels leads to a small drop in accuracy. Also, the final training loss is lower (compared to the previous model). Taken together, we come to the conclusion that increasing the kernel size exacerbates overfitting in this case."
      ],
      "metadata": {
        "id": "MRFZGenzg9WB"
      },
      "id": "MRFZGenzg9WB"
    },
    {
      "cell_type": "markdown",
      "source": [
        "Answer to (c): The full documentation is quite long, but I read some part of it. Discovered a <a href=\"https://github.com/vdumoulin/conv_arithmetic/blob/master/README.md\" target=\"_blank\">link</a> to a page with some nice animations of convolutions and transposed convolutions. Understood the concept of '*dilation*' (spacing between **kernel** elements)."
      ],
      "metadata": {
        "id": "n3DE2JEllwGL"
      },
      "id": "n3DE2JEllwGL"
    },
    {
      "cell_type": "markdown",
      "source": [
        "Answer to (d): A `(1, 3)` convolution kernel has a height of 1 and a width of 3. As a result, it is capable of looking only in the horizontal neighbourhood of an input pixel (when detecting features). It can't look in the vertical neighbourhood of a pixel. As a result, it can't detect things like vertical edges. To keep the output image size the same as the input image size (when using this kernel), we must apply padding of `(0, 1)` to the input image."
      ],
      "metadata": {
        "id": "0qAIoDJ5mpRK"
      },
      "id": "0qAIoDJ5mpRK"
    },
    {
      "cell_type": "code",
      "source": [
        "class Net(nn.Module):\n",
        "    def __init__(self):\n",
        "        super().__init__()\n",
        "        self.conv1 = nn.Conv2d(3, 16, kernel_size=(1, 3), padding=(0, 1), stride=1)\n",
        "        self.conv2 = nn.Conv2d(16, 8, kernel_size=(1, 3), padding=(0, 1), stride=1)\n",
        "        self.fc1 = nn.Linear(8 * 8 * 8, 32)\n",
        "        self.fc2 = nn.Linear(32, 2)\n",
        "\n",
        "    def forward(self, x):\n",
        "        out = F.max_pool2d(torch.tanh(self.conv1(x)), kernel_size=2, stride=2) # Output shape: (batch_size, 16, 16, 16)\n",
        "        out = F.max_pool2d(torch.tanh(self.conv2(out)), kernel_size=2, stride=2) # Output shape: (batch_size, 8, 8, 8)\n",
        "        out = out.view(-1, 8 * 8 * 8) # Output shape: (batch_size, 512)\n",
        "        out = torch.tanh(self.fc1(out)) # Output shape: (batch_size, 32)\n",
        "        out = self.fc2(out) # Output shape: (batch_size, 2)\n",
        "        return out"
      ],
      "metadata": {
        "id": "FJayeTvhZRZU"
      },
      "id": "FJayeTvhZRZU",
      "execution_count": 53,
      "outputs": []
    },
    {
      "cell_type": "code",
      "source": [
        "model = Net().to(device)\n",
        "model"
      ],
      "metadata": {
        "colab": {
          "base_uri": "https://localhost:8080/"
        },
        "id": "Fbscn28T-TNM",
        "outputId": "8caa2f44-8f09-490b-cc73-46ac4af856f6"
      },
      "id": "Fbscn28T-TNM",
      "execution_count": 54,
      "outputs": [
        {
          "output_type": "execute_result",
          "data": {
            "text/plain": [
              "Net(\n",
              "  (conv1): Conv2d(3, 16, kernel_size=(1, 3), stride=(1, 1), padding=(0, 1))\n",
              "  (conv2): Conv2d(16, 8, kernel_size=(1, 3), stride=(1, 1), padding=(0, 1))\n",
              "  (fc1): Linear(in_features=512, out_features=32, bias=True)\n",
              "  (fc2): Linear(in_features=32, out_features=2, bias=True)\n",
              ")"
            ]
          },
          "metadata": {},
          "execution_count": 54
        }
      ]
    },
    {
      "cell_type": "code",
      "source": [
        "# Sanity check:\n",
        "with torch.no_grad():\n",
        "    logits = model(imgs)\n",
        "logits.shape"
      ],
      "metadata": {
        "colab": {
          "base_uri": "https://localhost:8080/"
        },
        "id": "V3BSHnd1h9sj",
        "outputId": "26a9f41b-8121-4abd-ee10-0eff6a741ba0"
      },
      "id": "V3BSHnd1h9sj",
      "execution_count": 55,
      "outputs": [
        {
          "output_type": "execute_result",
          "data": {
            "text/plain": [
              "torch.Size([64, 2])"
            ]
          },
          "metadata": {},
          "execution_count": 55
        }
      ]
    },
    {
      "cell_type": "code",
      "source": [
        "optimizer = SGD(model.parameters(), lr=learning_rate)"
      ],
      "metadata": {
        "id": "GvuILhnjiNC5"
      },
      "id": "GvuILhnjiNC5",
      "execution_count": 56,
      "outputs": []
    },
    {
      "cell_type": "code",
      "source": [
        "wandb.init(\n",
        "    project=\"custom-cnn-cifar2\",\n",
        "    config={\n",
        "        'architecture': \"Custom CNN\",\n",
        "        'kernel_size': \"(1, 3)\",\n",
        "        'dataset': \"CIFAR-2\",\n",
        "        'learning_rate': learning_rate,\n",
        "        'n_epochs': n_epochs,\n",
        "        'batch_size': batch_size\n",
        "    }\n",
        ")"
      ],
      "metadata": {
        "colab": {
          "base_uri": "https://localhost:8080/",
          "height": 126
        },
        "id": "Qxk9liCPaEWV",
        "outputId": "a77e0bdc-2724-4ddf-c459-d9ff26d32f17"
      },
      "id": "Qxk9liCPaEWV",
      "execution_count": 57,
      "outputs": [
        {
          "output_type": "display_data",
          "data": {
            "text/plain": [
              "<IPython.core.display.HTML object>"
            ],
            "text/html": [
              "Tracking run with wandb version 0.16.4"
            ]
          },
          "metadata": {}
        },
        {
          "output_type": "display_data",
          "data": {
            "text/plain": [
              "<IPython.core.display.HTML object>"
            ],
            "text/html": [
              "Run data is saved locally in <code>/content/wandb/run-20240310_084921-lra7wuoy</code>"
            ]
          },
          "metadata": {}
        },
        {
          "output_type": "display_data",
          "data": {
            "text/plain": [
              "<IPython.core.display.HTML object>"
            ],
            "text/html": [
              "Syncing run <strong><a href='https://wandb.ai/sadhaklal/custom-cnn-cifar2/runs/lra7wuoy' target=\"_blank\">atomic-silence-3</a></strong> to <a href='https://wandb.ai/sadhaklal/custom-cnn-cifar2' target=\"_blank\">Weights & Biases</a> (<a href='https://wandb.me/run' target=\"_blank\">docs</a>)<br/>"
            ]
          },
          "metadata": {}
        },
        {
          "output_type": "display_data",
          "data": {
            "text/plain": [
              "<IPython.core.display.HTML object>"
            ],
            "text/html": [
              " View project at <a href='https://wandb.ai/sadhaklal/custom-cnn-cifar2' target=\"_blank\">https://wandb.ai/sadhaklal/custom-cnn-cifar2</a>"
            ]
          },
          "metadata": {}
        },
        {
          "output_type": "display_data",
          "data": {
            "text/plain": [
              "<IPython.core.display.HTML object>"
            ],
            "text/html": [
              " View run at <a href='https://wandb.ai/sadhaklal/custom-cnn-cifar2/runs/lra7wuoy' target=\"_blank\">https://wandb.ai/sadhaklal/custom-cnn-cifar2/runs/lra7wuoy</a>"
            ]
          },
          "metadata": {}
        },
        {
          "output_type": "execute_result",
          "data": {
            "text/html": [
              "<button onClick=\"this.nextSibling.style.display='block';this.style.display='none';\">Display W&B run</button><iframe src='https://wandb.ai/sadhaklal/custom-cnn-cifar2/runs/lra7wuoy?jupyter=true' style='border:none;width:100%;height:420px;display:none;'></iframe>"
            ],
            "text/plain": [
              "<wandb.sdk.wandb_run.Run at 0x7f0d6056b7c0>"
            ]
          },
          "metadata": {},
          "execution_count": 57
        }
      ]
    },
    {
      "cell_type": "code",
      "source": [
        "best_epoch = 0\n",
        "best_acc = 0\n",
        "for epoch in range(n_epochs):\n",
        "    train_loss = train_epoch()\n",
        "    print(f\"Epoch: {epoch}, Training Loss: {train_loss}\")\n",
        "\n",
        "    val_loss, acc = validate_epoch()\n",
        "    print(f\"Validation Loss: {val_loss}, Accuracy: {acc}\")\n",
        "\n",
        "    wandb.log({\n",
        "        'train_loss': train_loss,\n",
        "        'val_loss': val_loss,\n",
        "        'accuracy': acc\n",
        "    })\n",
        "\n",
        "    if acc > best_acc:\n",
        "        best_epoch = epoch\n",
        "        best_acc = acc\n",
        "\n",
        "    print(\"---\")\n",
        "wandb.finish()\n",
        "print(\"---\")\n",
        "print(f\"Done!\")\n",
        "print(f\"Best Epoch: {best_epoch}, Best Accuracy: {best_acc}\")"
      ],
      "metadata": {
        "colab": {
          "base_uri": "https://localhost:8080/",
          "height": 1000,
          "referenced_widgets": [
            "64d7d82dc8844794a8fc411427c9cf16",
            "e5682a018b9f4edebd9696c3a7c0c9d2",
            "2779e2d7129d4ca59882f665ecab1cc3",
            "b73fb00c508546eaa87995232fbe1222",
            "f58551b2e4dc447a9b728eff02abb15e",
            "67c8b9600acf4a4589c35008c9a189a8",
            "6222b76cb56445b9962b60af4207af43",
            "b047fa0a898f4bba9a0533b2e8bd6231"
          ]
        },
        "id": "531CzVkgiQiY",
        "outputId": "85e48a75-0f35-4450-9afb-ad6ea12ad93d"
      },
      "id": "531CzVkgiQiY",
      "execution_count": 58,
      "outputs": [
        {
          "output_type": "stream",
          "name": "stdout",
          "text": [
            "Epoch: 0, Training Loss: 0.0093\n",
            "Validation Loss: 0.0082, Accuracy: 0.7705\n",
            "---\n",
            "Epoch: 1, Training Loss: 0.0079\n",
            "Validation Loss: 0.0075, Accuracy: 0.7975\n",
            "---\n",
            "Epoch: 2, Training Loss: 0.0074\n",
            "Validation Loss: 0.0071, Accuracy: 0.8075\n",
            "---\n",
            "Epoch: 3, Training Loss: 0.007\n",
            "Validation Loss: 0.0067, Accuracy: 0.817\n",
            "---\n",
            "Epoch: 4, Training Loss: 0.0066\n",
            "Validation Loss: 0.0064, Accuracy: 0.823\n",
            "---\n",
            "Epoch: 5, Training Loss: 0.0063\n",
            "Validation Loss: 0.0061, Accuracy: 0.8325\n",
            "---\n",
            "Epoch: 6, Training Loss: 0.006\n",
            "Validation Loss: 0.006, Accuracy: 0.8385\n",
            "---\n",
            "Epoch: 7, Training Loss: 0.0058\n",
            "Validation Loss: 0.0059, Accuracy: 0.836\n",
            "---\n",
            "Epoch: 8, Training Loss: 0.0057\n",
            "Validation Loss: 0.0058, Accuracy: 0.845\n",
            "---\n",
            "Epoch: 9, Training Loss: 0.0056\n",
            "Validation Loss: 0.0057, Accuracy: 0.8465\n",
            "---\n",
            "Epoch: 10, Training Loss: 0.0055\n",
            "Validation Loss: 0.0056, Accuracy: 0.8455\n",
            "---\n",
            "Epoch: 11, Training Loss: 0.0054\n",
            "Validation Loss: 0.0056, Accuracy: 0.844\n",
            "---\n",
            "Epoch: 12, Training Loss: 0.0054\n",
            "Validation Loss: 0.0057, Accuracy: 0.841\n",
            "---\n",
            "Epoch: 13, Training Loss: 0.0053\n",
            "Validation Loss: 0.0056, Accuracy: 0.8455\n",
            "---\n",
            "Epoch: 14, Training Loss: 0.0053\n",
            "Validation Loss: 0.0055, Accuracy: 0.8505\n",
            "---\n",
            "Epoch: 15, Training Loss: 0.0052\n",
            "Validation Loss: 0.0055, Accuracy: 0.8445\n",
            "---\n",
            "Epoch: 16, Training Loss: 0.0052\n",
            "Validation Loss: 0.0055, Accuracy: 0.851\n",
            "---\n",
            "Epoch: 17, Training Loss: 0.0051\n",
            "Validation Loss: 0.0054, Accuracy: 0.8485\n",
            "---\n",
            "Epoch: 18, Training Loss: 0.0051\n",
            "Validation Loss: 0.0055, Accuracy: 0.8495\n",
            "---\n",
            "Epoch: 19, Training Loss: 0.0051\n",
            "Validation Loss: 0.0056, Accuracy: 0.8445\n",
            "---\n",
            "Epoch: 20, Training Loss: 0.005\n",
            "Validation Loss: 0.0055, Accuracy: 0.851\n",
            "---\n",
            "Epoch: 21, Training Loss: 0.005\n",
            "Validation Loss: 0.0053, Accuracy: 0.852\n",
            "---\n",
            "Epoch: 22, Training Loss: 0.005\n",
            "Validation Loss: 0.0053, Accuracy: 0.8485\n",
            "---\n",
            "Epoch: 23, Training Loss: 0.0049\n",
            "Validation Loss: 0.0054, Accuracy: 0.8535\n",
            "---\n",
            "Epoch: 24, Training Loss: 0.0049\n",
            "Validation Loss: 0.0054, Accuracy: 0.851\n",
            "---\n",
            "Epoch: 25, Training Loss: 0.0049\n",
            "Validation Loss: 0.0053, Accuracy: 0.8545\n",
            "---\n",
            "Epoch: 26, Training Loss: 0.0048\n",
            "Validation Loss: 0.0053, Accuracy: 0.853\n",
            "---\n",
            "Epoch: 27, Training Loss: 0.0048\n",
            "Validation Loss: 0.0052, Accuracy: 0.853\n",
            "---\n",
            "Epoch: 28, Training Loss: 0.0047\n",
            "Validation Loss: 0.0052, Accuracy: 0.854\n",
            "---\n",
            "Epoch: 29, Training Loss: 0.0047\n",
            "Validation Loss: 0.0051, Accuracy: 0.858\n",
            "---\n",
            "Epoch: 30, Training Loss: 0.0047\n",
            "Validation Loss: 0.0051, Accuracy: 0.858\n",
            "---\n",
            "Epoch: 31, Training Loss: 0.0047\n",
            "Validation Loss: 0.0056, Accuracy: 0.8525\n",
            "---\n",
            "Epoch: 32, Training Loss: 0.0046\n",
            "Validation Loss: 0.0052, Accuracy: 0.8585\n",
            "---\n",
            "Epoch: 33, Training Loss: 0.0046\n",
            "Validation Loss: 0.0054, Accuracy: 0.858\n",
            "---\n",
            "Epoch: 34, Training Loss: 0.0046\n",
            "Validation Loss: 0.0051, Accuracy: 0.8595\n",
            "---\n",
            "Epoch: 35, Training Loss: 0.0045\n",
            "Validation Loss: 0.0051, Accuracy: 0.861\n",
            "---\n",
            "Epoch: 36, Training Loss: 0.0045\n",
            "Validation Loss: 0.0052, Accuracy: 0.8655\n",
            "---\n",
            "Epoch: 37, Training Loss: 0.0045\n",
            "Validation Loss: 0.0053, Accuracy: 0.8585\n",
            "---\n",
            "Epoch: 38, Training Loss: 0.0045\n",
            "Validation Loss: 0.0053, Accuracy: 0.8595\n",
            "---\n",
            "Epoch: 39, Training Loss: 0.0044\n",
            "Validation Loss: 0.005, Accuracy: 0.8655\n",
            "---\n",
            "Epoch: 40, Training Loss: 0.0044\n",
            "Validation Loss: 0.005, Accuracy: 0.8625\n",
            "---\n",
            "Epoch: 41, Training Loss: 0.0044\n",
            "Validation Loss: 0.0053, Accuracy: 0.849\n",
            "---\n",
            "Epoch: 42, Training Loss: 0.0043\n",
            "Validation Loss: 0.005, Accuracy: 0.867\n",
            "---\n",
            "Epoch: 43, Training Loss: 0.0043\n",
            "Validation Loss: 0.005, Accuracy: 0.8635\n",
            "---\n",
            "Epoch: 44, Training Loss: 0.0043\n",
            "Validation Loss: 0.0049, Accuracy: 0.8665\n",
            "---\n",
            "Epoch: 45, Training Loss: 0.0042\n",
            "Validation Loss: 0.005, Accuracy: 0.8645\n",
            "---\n",
            "Epoch: 46, Training Loss: 0.0042\n",
            "Validation Loss: 0.0048, Accuracy: 0.869\n",
            "---\n",
            "Epoch: 47, Training Loss: 0.0042\n",
            "Validation Loss: 0.0048, Accuracy: 0.867\n",
            "---\n",
            "Epoch: 48, Training Loss: 0.0042\n",
            "Validation Loss: 0.0049, Accuracy: 0.8705\n",
            "---\n",
            "Epoch: 49, Training Loss: 0.0041\n",
            "Validation Loss: 0.0048, Accuracy: 0.8675\n",
            "---\n",
            "Epoch: 50, Training Loss: 0.0041\n",
            "Validation Loss: 0.0048, Accuracy: 0.87\n",
            "---\n",
            "Epoch: 51, Training Loss: 0.0041\n",
            "Validation Loss: 0.0047, Accuracy: 0.873\n",
            "---\n",
            "Epoch: 52, Training Loss: 0.0041\n",
            "Validation Loss: 0.0048, Accuracy: 0.872\n",
            "---\n",
            "Epoch: 53, Training Loss: 0.004\n",
            "Validation Loss: 0.005, Accuracy: 0.866\n",
            "---\n",
            "Epoch: 54, Training Loss: 0.004\n",
            "Validation Loss: 0.0048, Accuracy: 0.8755\n",
            "---\n",
            "Epoch: 55, Training Loss: 0.004\n",
            "Validation Loss: 0.0046, Accuracy: 0.8725\n",
            "---\n",
            "Epoch: 56, Training Loss: 0.004\n",
            "Validation Loss: 0.0051, Accuracy: 0.865\n",
            "---\n",
            "Epoch: 57, Training Loss: 0.004\n",
            "Validation Loss: 0.0049, Accuracy: 0.874\n",
            "---\n",
            "Epoch: 58, Training Loss: 0.0039\n",
            "Validation Loss: 0.0047, Accuracy: 0.8785\n",
            "---\n",
            "Epoch: 59, Training Loss: 0.0039\n",
            "Validation Loss: 0.005, Accuracy: 0.868\n",
            "---\n",
            "Epoch: 60, Training Loss: 0.0039\n",
            "Validation Loss: 0.005, Accuracy: 0.8655\n",
            "---\n",
            "Epoch: 61, Training Loss: 0.0039\n",
            "Validation Loss: 0.0049, Accuracy: 0.8735\n",
            "---\n",
            "Epoch: 62, Training Loss: 0.0038\n",
            "Validation Loss: 0.0048, Accuracy: 0.8785\n",
            "---\n",
            "Epoch: 63, Training Loss: 0.0038\n",
            "Validation Loss: 0.005, Accuracy: 0.869\n",
            "---\n",
            "Epoch: 64, Training Loss: 0.0038\n",
            "Validation Loss: 0.0046, Accuracy: 0.8775\n",
            "---\n",
            "Epoch: 65, Training Loss: 0.0038\n",
            "Validation Loss: 0.0052, Accuracy: 0.8645\n",
            "---\n",
            "Epoch: 66, Training Loss: 0.0038\n",
            "Validation Loss: 0.0048, Accuracy: 0.875\n",
            "---\n",
            "Epoch: 67, Training Loss: 0.0037\n",
            "Validation Loss: 0.0046, Accuracy: 0.878\n",
            "---\n",
            "Epoch: 68, Training Loss: 0.0037\n",
            "Validation Loss: 0.0061, Accuracy: 0.8375\n",
            "---\n",
            "Epoch: 69, Training Loss: 0.0037\n",
            "Validation Loss: 0.0046, Accuracy: 0.8835\n",
            "---\n",
            "Epoch: 70, Training Loss: 0.0037\n",
            "Validation Loss: 0.0046, Accuracy: 0.881\n",
            "---\n",
            "Epoch: 71, Training Loss: 0.0036\n",
            "Validation Loss: 0.0053, Accuracy: 0.866\n",
            "---\n",
            "Epoch: 72, Training Loss: 0.0036\n",
            "Validation Loss: 0.0047, Accuracy: 0.8775\n",
            "---\n",
            "Epoch: 73, Training Loss: 0.0036\n",
            "Validation Loss: 0.0046, Accuracy: 0.886\n",
            "---\n",
            "Epoch: 74, Training Loss: 0.0036\n",
            "Validation Loss: 0.0051, Accuracy: 0.8695\n",
            "---\n",
            "Epoch: 75, Training Loss: 0.0036\n",
            "Validation Loss: 0.0045, Accuracy: 0.886\n",
            "---\n",
            "Epoch: 76, Training Loss: 0.0035\n",
            "Validation Loss: 0.0047, Accuracy: 0.881\n",
            "---\n",
            "Epoch: 77, Training Loss: 0.0035\n",
            "Validation Loss: 0.0049, Accuracy: 0.8755\n",
            "---\n",
            "Epoch: 78, Training Loss: 0.0035\n",
            "Validation Loss: 0.005, Accuracy: 0.872\n",
            "---\n",
            "Epoch: 79, Training Loss: 0.0035\n",
            "Validation Loss: 0.0047, Accuracy: 0.8825\n",
            "---\n",
            "Epoch: 80, Training Loss: 0.0035\n",
            "Validation Loss: 0.0045, Accuracy: 0.882\n",
            "---\n",
            "Epoch: 81, Training Loss: 0.0034\n",
            "Validation Loss: 0.0048, Accuracy: 0.878\n",
            "---\n",
            "Epoch: 82, Training Loss: 0.0034\n",
            "Validation Loss: 0.0048, Accuracy: 0.8745\n",
            "---\n",
            "Epoch: 83, Training Loss: 0.0034\n",
            "Validation Loss: 0.0046, Accuracy: 0.882\n",
            "---\n",
            "Epoch: 84, Training Loss: 0.0034\n",
            "Validation Loss: 0.0045, Accuracy: 0.88\n",
            "---\n",
            "Epoch: 85, Training Loss: 0.0033\n",
            "Validation Loss: 0.0045, Accuracy: 0.889\n",
            "---\n",
            "Epoch: 86, Training Loss: 0.0033\n",
            "Validation Loss: 0.0045, Accuracy: 0.8855\n",
            "---\n",
            "Epoch: 87, Training Loss: 0.0033\n",
            "Validation Loss: 0.0045, Accuracy: 0.8865\n",
            "---\n",
            "Epoch: 88, Training Loss: 0.0033\n",
            "Validation Loss: 0.0045, Accuracy: 0.886\n",
            "---\n",
            "Epoch: 89, Training Loss: 0.0033\n",
            "Validation Loss: 0.0046, Accuracy: 0.8875\n",
            "---\n",
            "Epoch: 90, Training Loss: 0.0033\n",
            "Validation Loss: 0.0048, Accuracy: 0.883\n",
            "---\n",
            "Epoch: 91, Training Loss: 0.0032\n",
            "Validation Loss: 0.0044, Accuracy: 0.89\n",
            "---\n",
            "Epoch: 92, Training Loss: 0.0032\n",
            "Validation Loss: 0.0045, Accuracy: 0.8885\n",
            "---\n",
            "Epoch: 93, Training Loss: 0.0032\n",
            "Validation Loss: 0.0045, Accuracy: 0.8895\n",
            "---\n",
            "Epoch: 94, Training Loss: 0.0031\n",
            "Validation Loss: 0.0045, Accuracy: 0.8825\n",
            "---\n",
            "Epoch: 95, Training Loss: 0.0031\n",
            "Validation Loss: 0.0052, Accuracy: 0.8655\n",
            "---\n",
            "Epoch: 96, Training Loss: 0.0031\n",
            "Validation Loss: 0.0044, Accuracy: 0.8905\n",
            "---\n",
            "Epoch: 97, Training Loss: 0.0031\n",
            "Validation Loss: 0.0045, Accuracy: 0.885\n",
            "---\n",
            "Epoch: 98, Training Loss: 0.0031\n",
            "Validation Loss: 0.0044, Accuracy: 0.887\n",
            "---\n",
            "Epoch: 99, Training Loss: 0.0031\n",
            "Validation Loss: 0.0044, Accuracy: 0.891\n",
            "---\n"
          ]
        },
        {
          "output_type": "display_data",
          "data": {
            "text/plain": [
              "VBox(children=(Label(value='0.001 MB of 0.001 MB uploaded\\r'), FloatProgress(value=1.0, max=1.0)))"
            ],
            "application/vnd.jupyter.widget-view+json": {
              "version_major": 2,
              "version_minor": 0,
              "model_id": "64d7d82dc8844794a8fc411427c9cf16"
            }
          },
          "metadata": {}
        },
        {
          "output_type": "display_data",
          "data": {
            "text/plain": [
              "<IPython.core.display.HTML object>"
            ],
            "text/html": [
              "<style>\n",
              "    table.wandb td:nth-child(1) { padding: 0 10px; text-align: left ; width: auto;} td:nth-child(2) {text-align: left ; width: 100%}\n",
              "    .wandb-row { display: flex; flex-direction: row; flex-wrap: wrap; justify-content: flex-start; width: 100% }\n",
              "    .wandb-col { display: flex; flex-direction: column; flex-basis: 100%; flex: 1; padding: 10px; }\n",
              "    </style>\n",
              "<div class=\"wandb-row\"><div class=\"wandb-col\"><h3>Run history:</h3><br/><table class=\"wandb\"><tr><td>accuracy</td><td>▁▃▅▅▅▅▅▆▆▆▆▆▆▆▆▆▆▆▆▇▇▇▇▇▇▇▇▅▇█▇▇▇▇██████</td></tr><tr><td>train_loss</td><td>█▆▅▄▄▄▃▃▃▃▃▃▃▃▃▃▂▂▂▂▂▂▂▂▂▂▂▂▂▂▁▁▁▁▁▁▁▁▁▁</td></tr><tr><td>val_loss</td><td>█▆▄▄▃▃▃▃▃▃▃▂▂▃▂▃▂▂▂▂▂▂▁▂▂▂▂▄▃▁▂▂▂▁▁▁▁▁▁▁</td></tr></table><br/></div><div class=\"wandb-col\"><h3>Run summary:</h3><br/><table class=\"wandb\"><tr><td>accuracy</td><td>0.891</td></tr><tr><td>train_loss</td><td>0.0031</td></tr><tr><td>val_loss</td><td>0.0044</td></tr></table><br/></div></div>"
            ]
          },
          "metadata": {}
        },
        {
          "output_type": "display_data",
          "data": {
            "text/plain": [
              "<IPython.core.display.HTML object>"
            ],
            "text/html": [
              " View run <strong style=\"color:#cdcd00\">atomic-silence-3</strong> at: <a href='https://wandb.ai/sadhaklal/custom-cnn-cifar2/runs/lra7wuoy' target=\"_blank\">https://wandb.ai/sadhaklal/custom-cnn-cifar2/runs/lra7wuoy</a><br/>Synced 5 W&B file(s), 0 media file(s), 0 artifact file(s) and 0 other file(s)"
            ]
          },
          "metadata": {}
        },
        {
          "output_type": "display_data",
          "data": {
            "text/plain": [
              "<IPython.core.display.HTML object>"
            ],
            "text/html": [
              "Find logs at: <code>./wandb/run-20240310_084921-lra7wuoy/logs</code>"
            ]
          },
          "metadata": {}
        },
        {
          "output_type": "stream",
          "name": "stdout",
          "text": [
            "---\n",
            "Done!\n",
            "Best Epoch: 99, Best Accuracy: 0.891\n"
          ]
        }
      ]
    },
    {
      "cell_type": "markdown",
      "source": [
        "Answer to (e): Surprisingly, the model doesn't perform too bad with this kernel size. There is a slight drop in accuracy. Also, the final training loss is higher than the final training losses of the previous two models. Taking these two facts together, we come to the conclusion that the model is slightly underfitting."
      ],
      "metadata": {
        "id": "xPA7mH4jogly"
      },
      "id": "xPA7mH4jogly"
    },
    {
      "cell_type": "code",
      "source": [],
      "metadata": {
        "id": "yoF_RGA0PbEO"
      },
      "id": "yoF_RGA0PbEO",
      "execution_count": 58,
      "outputs": []
    }
  ],
  "metadata": {
    "kernelspec": {
      "display_name": "Python 3",
      "name": "python3"
    },
    "language_info": {
      "codemirror_mode": {
        "name": "ipython",
        "version": 3
      },
      "file_extension": ".py",
      "mimetype": "text/x-python",
      "name": "python",
      "nbconvert_exporter": "python",
      "pygments_lexer": "ipython3",
      "version": "3.11.5"
    },
    "colab": {
      "provenance": [],
      "gpuType": "T4"
    },
    "accelerator": "GPU",
    "widgets": {
      "application/vnd.jupyter.widget-state+json": {
        "fba964a8e1f84c3199b41a14afdbf454": {
          "model_module": "@jupyter-widgets/controls",
          "model_name": "HBoxModel",
          "model_module_version": "1.5.0",
          "state": {
            "_dom_classes": [],
            "_model_module": "@jupyter-widgets/controls",
            "_model_module_version": "1.5.0",
            "_model_name": "HBoxModel",
            "_view_count": null,
            "_view_module": "@jupyter-widgets/controls",
            "_view_module_version": "1.5.0",
            "_view_name": "HBoxView",
            "box_style": "",
            "children": [
              "IPY_MODEL_df5c60d227ae4320b17316da1d4c9c7e",
              "IPY_MODEL_2721e561da474360abf42b5d66e94f4d",
              "IPY_MODEL_5873d1c429234d84be78d7118f41c025"
            ],
            "layout": "IPY_MODEL_4cc824865fe140d6b60b8e6b4d4f0fc5"
          }
        },
        "df5c60d227ae4320b17316da1d4c9c7e": {
          "model_module": "@jupyter-widgets/controls",
          "model_name": "HTMLModel",
          "model_module_version": "1.5.0",
          "state": {
            "_dom_classes": [],
            "_model_module": "@jupyter-widgets/controls",
            "_model_module_version": "1.5.0",
            "_model_name": "HTMLModel",
            "_view_count": null,
            "_view_module": "@jupyter-widgets/controls",
            "_view_module_version": "1.5.0",
            "_view_name": "HTMLView",
            "description": "",
            "description_tooltip": null,
            "layout": "IPY_MODEL_888b2631ad3541eb9a3504871c3de5e8",
            "placeholder": "​",
            "style": "IPY_MODEL_d8e477fcbe0740d9a14aac0beb1d9582",
            "value": "Downloading builder script: 100%"
          }
        },
        "2721e561da474360abf42b5d66e94f4d": {
          "model_module": "@jupyter-widgets/controls",
          "model_name": "FloatProgressModel",
          "model_module_version": "1.5.0",
          "state": {
            "_dom_classes": [],
            "_model_module": "@jupyter-widgets/controls",
            "_model_module_version": "1.5.0",
            "_model_name": "FloatProgressModel",
            "_view_count": null,
            "_view_module": "@jupyter-widgets/controls",
            "_view_module_version": "1.5.0",
            "_view_name": "ProgressView",
            "bar_style": "success",
            "description": "",
            "description_tooltip": null,
            "layout": "IPY_MODEL_74d9d436220144099bf9c439bf7d7893",
            "max": 4203,
            "min": 0,
            "orientation": "horizontal",
            "style": "IPY_MODEL_6a48ccb74ee243b3a6a12ed3fddb4487",
            "value": 4203
          }
        },
        "5873d1c429234d84be78d7118f41c025": {
          "model_module": "@jupyter-widgets/controls",
          "model_name": "HTMLModel",
          "model_module_version": "1.5.0",
          "state": {
            "_dom_classes": [],
            "_model_module": "@jupyter-widgets/controls",
            "_model_module_version": "1.5.0",
            "_model_name": "HTMLModel",
            "_view_count": null,
            "_view_module": "@jupyter-widgets/controls",
            "_view_module_version": "1.5.0",
            "_view_name": "HTMLView",
            "description": "",
            "description_tooltip": null,
            "layout": "IPY_MODEL_3ca5819173154ec3b0df63a285937c27",
            "placeholder": "​",
            "style": "IPY_MODEL_d15a68ee42c74d7c8349188b445c75e3",
            "value": " 4.20k/4.20k [00:00&lt;00:00, 155kB/s]"
          }
        },
        "4cc824865fe140d6b60b8e6b4d4f0fc5": {
          "model_module": "@jupyter-widgets/base",
          "model_name": "LayoutModel",
          "model_module_version": "1.2.0",
          "state": {
            "_model_module": "@jupyter-widgets/base",
            "_model_module_version": "1.2.0",
            "_model_name": "LayoutModel",
            "_view_count": null,
            "_view_module": "@jupyter-widgets/base",
            "_view_module_version": "1.2.0",
            "_view_name": "LayoutView",
            "align_content": null,
            "align_items": null,
            "align_self": null,
            "border": null,
            "bottom": null,
            "display": null,
            "flex": null,
            "flex_flow": null,
            "grid_area": null,
            "grid_auto_columns": null,
            "grid_auto_flow": null,
            "grid_auto_rows": null,
            "grid_column": null,
            "grid_gap": null,
            "grid_row": null,
            "grid_template_areas": null,
            "grid_template_columns": null,
            "grid_template_rows": null,
            "height": null,
            "justify_content": null,
            "justify_items": null,
            "left": null,
            "margin": null,
            "max_height": null,
            "max_width": null,
            "min_height": null,
            "min_width": null,
            "object_fit": null,
            "object_position": null,
            "order": null,
            "overflow": null,
            "overflow_x": null,
            "overflow_y": null,
            "padding": null,
            "right": null,
            "top": null,
            "visibility": null,
            "width": null
          }
        },
        "888b2631ad3541eb9a3504871c3de5e8": {
          "model_module": "@jupyter-widgets/base",
          "model_name": "LayoutModel",
          "model_module_version": "1.2.0",
          "state": {
            "_model_module": "@jupyter-widgets/base",
            "_model_module_version": "1.2.0",
            "_model_name": "LayoutModel",
            "_view_count": null,
            "_view_module": "@jupyter-widgets/base",
            "_view_module_version": "1.2.0",
            "_view_name": "LayoutView",
            "align_content": null,
            "align_items": null,
            "align_self": null,
            "border": null,
            "bottom": null,
            "display": null,
            "flex": null,
            "flex_flow": null,
            "grid_area": null,
            "grid_auto_columns": null,
            "grid_auto_flow": null,
            "grid_auto_rows": null,
            "grid_column": null,
            "grid_gap": null,
            "grid_row": null,
            "grid_template_areas": null,
            "grid_template_columns": null,
            "grid_template_rows": null,
            "height": null,
            "justify_content": null,
            "justify_items": null,
            "left": null,
            "margin": null,
            "max_height": null,
            "max_width": null,
            "min_height": null,
            "min_width": null,
            "object_fit": null,
            "object_position": null,
            "order": null,
            "overflow": null,
            "overflow_x": null,
            "overflow_y": null,
            "padding": null,
            "right": null,
            "top": null,
            "visibility": null,
            "width": null
          }
        },
        "d8e477fcbe0740d9a14aac0beb1d9582": {
          "model_module": "@jupyter-widgets/controls",
          "model_name": "DescriptionStyleModel",
          "model_module_version": "1.5.0",
          "state": {
            "_model_module": "@jupyter-widgets/controls",
            "_model_module_version": "1.5.0",
            "_model_name": "DescriptionStyleModel",
            "_view_count": null,
            "_view_module": "@jupyter-widgets/base",
            "_view_module_version": "1.2.0",
            "_view_name": "StyleView",
            "description_width": ""
          }
        },
        "74d9d436220144099bf9c439bf7d7893": {
          "model_module": "@jupyter-widgets/base",
          "model_name": "LayoutModel",
          "model_module_version": "1.2.0",
          "state": {
            "_model_module": "@jupyter-widgets/base",
            "_model_module_version": "1.2.0",
            "_model_name": "LayoutModel",
            "_view_count": null,
            "_view_module": "@jupyter-widgets/base",
            "_view_module_version": "1.2.0",
            "_view_name": "LayoutView",
            "align_content": null,
            "align_items": null,
            "align_self": null,
            "border": null,
            "bottom": null,
            "display": null,
            "flex": null,
            "flex_flow": null,
            "grid_area": null,
            "grid_auto_columns": null,
            "grid_auto_flow": null,
            "grid_auto_rows": null,
            "grid_column": null,
            "grid_gap": null,
            "grid_row": null,
            "grid_template_areas": null,
            "grid_template_columns": null,
            "grid_template_rows": null,
            "height": null,
            "justify_content": null,
            "justify_items": null,
            "left": null,
            "margin": null,
            "max_height": null,
            "max_width": null,
            "min_height": null,
            "min_width": null,
            "object_fit": null,
            "object_position": null,
            "order": null,
            "overflow": null,
            "overflow_x": null,
            "overflow_y": null,
            "padding": null,
            "right": null,
            "top": null,
            "visibility": null,
            "width": null
          }
        },
        "6a48ccb74ee243b3a6a12ed3fddb4487": {
          "model_module": "@jupyter-widgets/controls",
          "model_name": "ProgressStyleModel",
          "model_module_version": "1.5.0",
          "state": {
            "_model_module": "@jupyter-widgets/controls",
            "_model_module_version": "1.5.0",
            "_model_name": "ProgressStyleModel",
            "_view_count": null,
            "_view_module": "@jupyter-widgets/base",
            "_view_module_version": "1.2.0",
            "_view_name": "StyleView",
            "bar_color": null,
            "description_width": ""
          }
        },
        "3ca5819173154ec3b0df63a285937c27": {
          "model_module": "@jupyter-widgets/base",
          "model_name": "LayoutModel",
          "model_module_version": "1.2.0",
          "state": {
            "_model_module": "@jupyter-widgets/base",
            "_model_module_version": "1.2.0",
            "_model_name": "LayoutModel",
            "_view_count": null,
            "_view_module": "@jupyter-widgets/base",
            "_view_module_version": "1.2.0",
            "_view_name": "LayoutView",
            "align_content": null,
            "align_items": null,
            "align_self": null,
            "border": null,
            "bottom": null,
            "display": null,
            "flex": null,
            "flex_flow": null,
            "grid_area": null,
            "grid_auto_columns": null,
            "grid_auto_flow": null,
            "grid_auto_rows": null,
            "grid_column": null,
            "grid_gap": null,
            "grid_row": null,
            "grid_template_areas": null,
            "grid_template_columns": null,
            "grid_template_rows": null,
            "height": null,
            "justify_content": null,
            "justify_items": null,
            "left": null,
            "margin": null,
            "max_height": null,
            "max_width": null,
            "min_height": null,
            "min_width": null,
            "object_fit": null,
            "object_position": null,
            "order": null,
            "overflow": null,
            "overflow_x": null,
            "overflow_y": null,
            "padding": null,
            "right": null,
            "top": null,
            "visibility": null,
            "width": null
          }
        },
        "d15a68ee42c74d7c8349188b445c75e3": {
          "model_module": "@jupyter-widgets/controls",
          "model_name": "DescriptionStyleModel",
          "model_module_version": "1.5.0",
          "state": {
            "_model_module": "@jupyter-widgets/controls",
            "_model_module_version": "1.5.0",
            "_model_name": "DescriptionStyleModel",
            "_view_count": null,
            "_view_module": "@jupyter-widgets/base",
            "_view_module_version": "1.2.0",
            "_view_name": "StyleView",
            "description_width": ""
          }
        },
        "c684c810c0354827a765ee1a5c6a2bc0": {
          "model_module": "@jupyter-widgets/controls",
          "model_name": "HBoxModel",
          "model_module_version": "1.5.0",
          "state": {
            "_dom_classes": [],
            "_model_module": "@jupyter-widgets/controls",
            "_model_module_version": "1.5.0",
            "_model_name": "HBoxModel",
            "_view_count": null,
            "_view_module": "@jupyter-widgets/controls",
            "_view_module_version": "1.5.0",
            "_view_name": "HBoxView",
            "box_style": "",
            "children": [
              "IPY_MODEL_051552965a104e5db472f1d822bf0afc",
              "IPY_MODEL_76f74852b6ad4a6399f53e13aa4d978d",
              "IPY_MODEL_3c3942789cd745ecb14477a9c8853933"
            ],
            "layout": "IPY_MODEL_b36ee67895b646789b8bc88186988029"
          }
        },
        "051552965a104e5db472f1d822bf0afc": {
          "model_module": "@jupyter-widgets/controls",
          "model_name": "HTMLModel",
          "model_module_version": "1.5.0",
          "state": {
            "_dom_classes": [],
            "_model_module": "@jupyter-widgets/controls",
            "_model_module_version": "1.5.0",
            "_model_name": "HTMLModel",
            "_view_count": null,
            "_view_module": "@jupyter-widgets/controls",
            "_view_module_version": "1.5.0",
            "_view_name": "HTMLView",
            "description": "",
            "description_tooltip": null,
            "layout": "IPY_MODEL_c4d7aa1d67c1480f82e3fa476199fd84",
            "placeholder": "​",
            "style": "IPY_MODEL_d9ec8ac1ae124b6c988d74a265d72670",
            "value": "pytorch_model.bin: 100%"
          }
        },
        "76f74852b6ad4a6399f53e13aa4d978d": {
          "model_module": "@jupyter-widgets/controls",
          "model_name": "FloatProgressModel",
          "model_module_version": "1.5.0",
          "state": {
            "_dom_classes": [],
            "_model_module": "@jupyter-widgets/controls",
            "_model_module_version": "1.5.0",
            "_model_name": "FloatProgressModel",
            "_view_count": null,
            "_view_module": "@jupyter-widgets/controls",
            "_view_module_version": "1.5.0",
            "_view_name": "ProgressView",
            "bar_style": "success",
            "description": "",
            "description_tooltip": null,
            "layout": "IPY_MODEL_eac80540b8074e14919bdb55cb436155",
            "max": 75656,
            "min": 0,
            "orientation": "horizontal",
            "style": "IPY_MODEL_d499281dc5ac4750a3fd4eecf59be285",
            "value": 75656
          }
        },
        "3c3942789cd745ecb14477a9c8853933": {
          "model_module": "@jupyter-widgets/controls",
          "model_name": "HTMLModel",
          "model_module_version": "1.5.0",
          "state": {
            "_dom_classes": [],
            "_model_module": "@jupyter-widgets/controls",
            "_model_module_version": "1.5.0",
            "_model_name": "HTMLModel",
            "_view_count": null,
            "_view_module": "@jupyter-widgets/controls",
            "_view_module_version": "1.5.0",
            "_view_name": "HTMLView",
            "description": "",
            "description_tooltip": null,
            "layout": "IPY_MODEL_2b727cabbaab43bdaf42f4c10b6faa88",
            "placeholder": "​",
            "style": "IPY_MODEL_b2a32a663b0842888e719293c103bb14",
            "value": " 75.7k/75.7k [00:00&lt;00:00, 74.3kB/s]"
          }
        },
        "b36ee67895b646789b8bc88186988029": {
          "model_module": "@jupyter-widgets/base",
          "model_name": "LayoutModel",
          "model_module_version": "1.2.0",
          "state": {
            "_model_module": "@jupyter-widgets/base",
            "_model_module_version": "1.2.0",
            "_model_name": "LayoutModel",
            "_view_count": null,
            "_view_module": "@jupyter-widgets/base",
            "_view_module_version": "1.2.0",
            "_view_name": "LayoutView",
            "align_content": null,
            "align_items": null,
            "align_self": null,
            "border": null,
            "bottom": null,
            "display": null,
            "flex": null,
            "flex_flow": null,
            "grid_area": null,
            "grid_auto_columns": null,
            "grid_auto_flow": null,
            "grid_auto_rows": null,
            "grid_column": null,
            "grid_gap": null,
            "grid_row": null,
            "grid_template_areas": null,
            "grid_template_columns": null,
            "grid_template_rows": null,
            "height": null,
            "justify_content": null,
            "justify_items": null,
            "left": null,
            "margin": null,
            "max_height": null,
            "max_width": null,
            "min_height": null,
            "min_width": null,
            "object_fit": null,
            "object_position": null,
            "order": null,
            "overflow": null,
            "overflow_x": null,
            "overflow_y": null,
            "padding": null,
            "right": null,
            "top": null,
            "visibility": null,
            "width": null
          }
        },
        "c4d7aa1d67c1480f82e3fa476199fd84": {
          "model_module": "@jupyter-widgets/base",
          "model_name": "LayoutModel",
          "model_module_version": "1.2.0",
          "state": {
            "_model_module": "@jupyter-widgets/base",
            "_model_module_version": "1.2.0",
            "_model_name": "LayoutModel",
            "_view_count": null,
            "_view_module": "@jupyter-widgets/base",
            "_view_module_version": "1.2.0",
            "_view_name": "LayoutView",
            "align_content": null,
            "align_items": null,
            "align_self": null,
            "border": null,
            "bottom": null,
            "display": null,
            "flex": null,
            "flex_flow": null,
            "grid_area": null,
            "grid_auto_columns": null,
            "grid_auto_flow": null,
            "grid_auto_rows": null,
            "grid_column": null,
            "grid_gap": null,
            "grid_row": null,
            "grid_template_areas": null,
            "grid_template_columns": null,
            "grid_template_rows": null,
            "height": null,
            "justify_content": null,
            "justify_items": null,
            "left": null,
            "margin": null,
            "max_height": null,
            "max_width": null,
            "min_height": null,
            "min_width": null,
            "object_fit": null,
            "object_position": null,
            "order": null,
            "overflow": null,
            "overflow_x": null,
            "overflow_y": null,
            "padding": null,
            "right": null,
            "top": null,
            "visibility": null,
            "width": null
          }
        },
        "d9ec8ac1ae124b6c988d74a265d72670": {
          "model_module": "@jupyter-widgets/controls",
          "model_name": "DescriptionStyleModel",
          "model_module_version": "1.5.0",
          "state": {
            "_model_module": "@jupyter-widgets/controls",
            "_model_module_version": "1.5.0",
            "_model_name": "DescriptionStyleModel",
            "_view_count": null,
            "_view_module": "@jupyter-widgets/base",
            "_view_module_version": "1.2.0",
            "_view_name": "StyleView",
            "description_width": ""
          }
        },
        "eac80540b8074e14919bdb55cb436155": {
          "model_module": "@jupyter-widgets/base",
          "model_name": "LayoutModel",
          "model_module_version": "1.2.0",
          "state": {
            "_model_module": "@jupyter-widgets/base",
            "_model_module_version": "1.2.0",
            "_model_name": "LayoutModel",
            "_view_count": null,
            "_view_module": "@jupyter-widgets/base",
            "_view_module_version": "1.2.0",
            "_view_name": "LayoutView",
            "align_content": null,
            "align_items": null,
            "align_self": null,
            "border": null,
            "bottom": null,
            "display": null,
            "flex": null,
            "flex_flow": null,
            "grid_area": null,
            "grid_auto_columns": null,
            "grid_auto_flow": null,
            "grid_auto_rows": null,
            "grid_column": null,
            "grid_gap": null,
            "grid_row": null,
            "grid_template_areas": null,
            "grid_template_columns": null,
            "grid_template_rows": null,
            "height": null,
            "justify_content": null,
            "justify_items": null,
            "left": null,
            "margin": null,
            "max_height": null,
            "max_width": null,
            "min_height": null,
            "min_width": null,
            "object_fit": null,
            "object_position": null,
            "order": null,
            "overflow": null,
            "overflow_x": null,
            "overflow_y": null,
            "padding": null,
            "right": null,
            "top": null,
            "visibility": null,
            "width": null
          }
        },
        "d499281dc5ac4750a3fd4eecf59be285": {
          "model_module": "@jupyter-widgets/controls",
          "model_name": "ProgressStyleModel",
          "model_module_version": "1.5.0",
          "state": {
            "_model_module": "@jupyter-widgets/controls",
            "_model_module_version": "1.5.0",
            "_model_name": "ProgressStyleModel",
            "_view_count": null,
            "_view_module": "@jupyter-widgets/base",
            "_view_module_version": "1.2.0",
            "_view_name": "StyleView",
            "bar_color": null,
            "description_width": ""
          }
        },
        "2b727cabbaab43bdaf42f4c10b6faa88": {
          "model_module": "@jupyter-widgets/base",
          "model_name": "LayoutModel",
          "model_module_version": "1.2.0",
          "state": {
            "_model_module": "@jupyter-widgets/base",
            "_model_module_version": "1.2.0",
            "_model_name": "LayoutModel",
            "_view_count": null,
            "_view_module": "@jupyter-widgets/base",
            "_view_module_version": "1.2.0",
            "_view_name": "LayoutView",
            "align_content": null,
            "align_items": null,
            "align_self": null,
            "border": null,
            "bottom": null,
            "display": null,
            "flex": null,
            "flex_flow": null,
            "grid_area": null,
            "grid_auto_columns": null,
            "grid_auto_flow": null,
            "grid_auto_rows": null,
            "grid_column": null,
            "grid_gap": null,
            "grid_row": null,
            "grid_template_areas": null,
            "grid_template_columns": null,
            "grid_template_rows": null,
            "height": null,
            "justify_content": null,
            "justify_items": null,
            "left": null,
            "margin": null,
            "max_height": null,
            "max_width": null,
            "min_height": null,
            "min_width": null,
            "object_fit": null,
            "object_position": null,
            "order": null,
            "overflow": null,
            "overflow_x": null,
            "overflow_y": null,
            "padding": null,
            "right": null,
            "top": null,
            "visibility": null,
            "width": null
          }
        },
        "b2a32a663b0842888e719293c103bb14": {
          "model_module": "@jupyter-widgets/controls",
          "model_name": "DescriptionStyleModel",
          "model_module_version": "1.5.0",
          "state": {
            "_model_module": "@jupyter-widgets/controls",
            "_model_module_version": "1.5.0",
            "_model_name": "DescriptionStyleModel",
            "_view_count": null,
            "_view_module": "@jupyter-widgets/base",
            "_view_module_version": "1.2.0",
            "_view_name": "StyleView",
            "description_width": ""
          }
        },
        "0a22277cf3f54485a6b8fa07bd1f7b6a": {
          "model_module": "@jupyter-widgets/controls",
          "model_name": "HBoxModel",
          "model_module_version": "1.5.0",
          "state": {
            "_dom_classes": [],
            "_model_module": "@jupyter-widgets/controls",
            "_model_module_version": "1.5.0",
            "_model_name": "HBoxModel",
            "_view_count": null,
            "_view_module": "@jupyter-widgets/controls",
            "_view_module_version": "1.5.0",
            "_view_name": "HBoxView",
            "box_style": "",
            "children": [
              "IPY_MODEL_5b521dfcbdf944f7bd26ec3c4167ce01",
              "IPY_MODEL_91dc54c71af9487b962ffd5aa4e0084e",
              "IPY_MODEL_4cbe39cb0a6c4a418326c15736010350"
            ],
            "layout": "IPY_MODEL_ab328ec76bfb49f7be9529e779630d70"
          }
        },
        "5b521dfcbdf944f7bd26ec3c4167ce01": {
          "model_module": "@jupyter-widgets/controls",
          "model_name": "HTMLModel",
          "model_module_version": "1.5.0",
          "state": {
            "_dom_classes": [],
            "_model_module": "@jupyter-widgets/controls",
            "_model_module_version": "1.5.0",
            "_model_name": "HTMLModel",
            "_view_count": null,
            "_view_module": "@jupyter-widgets/controls",
            "_view_module_version": "1.5.0",
            "_view_name": "HTMLView",
            "description": "",
            "description_tooltip": null,
            "layout": "IPY_MODEL_4123bb2fb2144036bb6c4b49a22530bb",
            "placeholder": "​",
            "style": "IPY_MODEL_d61f345d0e834a338f36c016b9f63361",
            "value": "pytorch_model.bin: 100%"
          }
        },
        "91dc54c71af9487b962ffd5aa4e0084e": {
          "model_module": "@jupyter-widgets/controls",
          "model_name": "FloatProgressModel",
          "model_module_version": "1.5.0",
          "state": {
            "_dom_classes": [],
            "_model_module": "@jupyter-widgets/controls",
            "_model_module_version": "1.5.0",
            "_model_name": "FloatProgressModel",
            "_view_count": null,
            "_view_module": "@jupyter-widgets/controls",
            "_view_module_version": "1.5.0",
            "_view_name": "ProgressView",
            "bar_style": "success",
            "description": "",
            "description_tooltip": null,
            "layout": "IPY_MODEL_05f920b31c8d41ac8839d5d3412debad",
            "max": 75656,
            "min": 0,
            "orientation": "horizontal",
            "style": "IPY_MODEL_79e979e020b0455a962a312fd8c002f9",
            "value": 75656
          }
        },
        "4cbe39cb0a6c4a418326c15736010350": {
          "model_module": "@jupyter-widgets/controls",
          "model_name": "HTMLModel",
          "model_module_version": "1.5.0",
          "state": {
            "_dom_classes": [],
            "_model_module": "@jupyter-widgets/controls",
            "_model_module_version": "1.5.0",
            "_model_name": "HTMLModel",
            "_view_count": null,
            "_view_module": "@jupyter-widgets/controls",
            "_view_module_version": "1.5.0",
            "_view_name": "HTMLView",
            "description": "",
            "description_tooltip": null,
            "layout": "IPY_MODEL_c2d930562dd947248647605bf6a41335",
            "placeholder": "​",
            "style": "IPY_MODEL_089c898ac1e64e26bfa1e5c63f69df32",
            "value": " 75.7k/75.7k [00:01&lt;00:00, 51.6kB/s]"
          }
        },
        "ab328ec76bfb49f7be9529e779630d70": {
          "model_module": "@jupyter-widgets/base",
          "model_name": "LayoutModel",
          "model_module_version": "1.2.0",
          "state": {
            "_model_module": "@jupyter-widgets/base",
            "_model_module_version": "1.2.0",
            "_model_name": "LayoutModel",
            "_view_count": null,
            "_view_module": "@jupyter-widgets/base",
            "_view_module_version": "1.2.0",
            "_view_name": "LayoutView",
            "align_content": null,
            "align_items": null,
            "align_self": null,
            "border": null,
            "bottom": null,
            "display": null,
            "flex": null,
            "flex_flow": null,
            "grid_area": null,
            "grid_auto_columns": null,
            "grid_auto_flow": null,
            "grid_auto_rows": null,
            "grid_column": null,
            "grid_gap": null,
            "grid_row": null,
            "grid_template_areas": null,
            "grid_template_columns": null,
            "grid_template_rows": null,
            "height": null,
            "justify_content": null,
            "justify_items": null,
            "left": null,
            "margin": null,
            "max_height": null,
            "max_width": null,
            "min_height": null,
            "min_width": null,
            "object_fit": null,
            "object_position": null,
            "order": null,
            "overflow": null,
            "overflow_x": null,
            "overflow_y": null,
            "padding": null,
            "right": null,
            "top": null,
            "visibility": null,
            "width": null
          }
        },
        "4123bb2fb2144036bb6c4b49a22530bb": {
          "model_module": "@jupyter-widgets/base",
          "model_name": "LayoutModel",
          "model_module_version": "1.2.0",
          "state": {
            "_model_module": "@jupyter-widgets/base",
            "_model_module_version": "1.2.0",
            "_model_name": "LayoutModel",
            "_view_count": null,
            "_view_module": "@jupyter-widgets/base",
            "_view_module_version": "1.2.0",
            "_view_name": "LayoutView",
            "align_content": null,
            "align_items": null,
            "align_self": null,
            "border": null,
            "bottom": null,
            "display": null,
            "flex": null,
            "flex_flow": null,
            "grid_area": null,
            "grid_auto_columns": null,
            "grid_auto_flow": null,
            "grid_auto_rows": null,
            "grid_column": null,
            "grid_gap": null,
            "grid_row": null,
            "grid_template_areas": null,
            "grid_template_columns": null,
            "grid_template_rows": null,
            "height": null,
            "justify_content": null,
            "justify_items": null,
            "left": null,
            "margin": null,
            "max_height": null,
            "max_width": null,
            "min_height": null,
            "min_width": null,
            "object_fit": null,
            "object_position": null,
            "order": null,
            "overflow": null,
            "overflow_x": null,
            "overflow_y": null,
            "padding": null,
            "right": null,
            "top": null,
            "visibility": null,
            "width": null
          }
        },
        "d61f345d0e834a338f36c016b9f63361": {
          "model_module": "@jupyter-widgets/controls",
          "model_name": "DescriptionStyleModel",
          "model_module_version": "1.5.0",
          "state": {
            "_model_module": "@jupyter-widgets/controls",
            "_model_module_version": "1.5.0",
            "_model_name": "DescriptionStyleModel",
            "_view_count": null,
            "_view_module": "@jupyter-widgets/base",
            "_view_module_version": "1.2.0",
            "_view_name": "StyleView",
            "description_width": ""
          }
        },
        "05f920b31c8d41ac8839d5d3412debad": {
          "model_module": "@jupyter-widgets/base",
          "model_name": "LayoutModel",
          "model_module_version": "1.2.0",
          "state": {
            "_model_module": "@jupyter-widgets/base",
            "_model_module_version": "1.2.0",
            "_model_name": "LayoutModel",
            "_view_count": null,
            "_view_module": "@jupyter-widgets/base",
            "_view_module_version": "1.2.0",
            "_view_name": "LayoutView",
            "align_content": null,
            "align_items": null,
            "align_self": null,
            "border": null,
            "bottom": null,
            "display": null,
            "flex": null,
            "flex_flow": null,
            "grid_area": null,
            "grid_auto_columns": null,
            "grid_auto_flow": null,
            "grid_auto_rows": null,
            "grid_column": null,
            "grid_gap": null,
            "grid_row": null,
            "grid_template_areas": null,
            "grid_template_columns": null,
            "grid_template_rows": null,
            "height": null,
            "justify_content": null,
            "justify_items": null,
            "left": null,
            "margin": null,
            "max_height": null,
            "max_width": null,
            "min_height": null,
            "min_width": null,
            "object_fit": null,
            "object_position": null,
            "order": null,
            "overflow": null,
            "overflow_x": null,
            "overflow_y": null,
            "padding": null,
            "right": null,
            "top": null,
            "visibility": null,
            "width": null
          }
        },
        "79e979e020b0455a962a312fd8c002f9": {
          "model_module": "@jupyter-widgets/controls",
          "model_name": "ProgressStyleModel",
          "model_module_version": "1.5.0",
          "state": {
            "_model_module": "@jupyter-widgets/controls",
            "_model_module_version": "1.5.0",
            "_model_name": "ProgressStyleModel",
            "_view_count": null,
            "_view_module": "@jupyter-widgets/base",
            "_view_module_version": "1.2.0",
            "_view_name": "StyleView",
            "bar_color": null,
            "description_width": ""
          }
        },
        "c2d930562dd947248647605bf6a41335": {
          "model_module": "@jupyter-widgets/base",
          "model_name": "LayoutModel",
          "model_module_version": "1.2.0",
          "state": {
            "_model_module": "@jupyter-widgets/base",
            "_model_module_version": "1.2.0",
            "_model_name": "LayoutModel",
            "_view_count": null,
            "_view_module": "@jupyter-widgets/base",
            "_view_module_version": "1.2.0",
            "_view_name": "LayoutView",
            "align_content": null,
            "align_items": null,
            "align_self": null,
            "border": null,
            "bottom": null,
            "display": null,
            "flex": null,
            "flex_flow": null,
            "grid_area": null,
            "grid_auto_columns": null,
            "grid_auto_flow": null,
            "grid_auto_rows": null,
            "grid_column": null,
            "grid_gap": null,
            "grid_row": null,
            "grid_template_areas": null,
            "grid_template_columns": null,
            "grid_template_rows": null,
            "height": null,
            "justify_content": null,
            "justify_items": null,
            "left": null,
            "margin": null,
            "max_height": null,
            "max_width": null,
            "min_height": null,
            "min_width": null,
            "object_fit": null,
            "object_position": null,
            "order": null,
            "overflow": null,
            "overflow_x": null,
            "overflow_y": null,
            "padding": null,
            "right": null,
            "top": null,
            "visibility": null,
            "width": null
          }
        },
        "089c898ac1e64e26bfa1e5c63f69df32": {
          "model_module": "@jupyter-widgets/controls",
          "model_name": "DescriptionStyleModel",
          "model_module_version": "1.5.0",
          "state": {
            "_model_module": "@jupyter-widgets/controls",
            "_model_module_version": "1.5.0",
            "_model_name": "DescriptionStyleModel",
            "_view_count": null,
            "_view_module": "@jupyter-widgets/base",
            "_view_module_version": "1.2.0",
            "_view_name": "StyleView",
            "description_width": ""
          }
        },
        "c7f4b9adaa8c42bda085f40f56a1a792": {
          "model_module": "@jupyter-widgets/controls",
          "model_name": "HBoxModel",
          "model_module_version": "1.5.0",
          "state": {
            "_dom_classes": [],
            "_model_module": "@jupyter-widgets/controls",
            "_model_module_version": "1.5.0",
            "_model_name": "HBoxModel",
            "_view_count": null,
            "_view_module": "@jupyter-widgets/controls",
            "_view_module_version": "1.5.0",
            "_view_name": "HBoxView",
            "box_style": "",
            "children": [
              "IPY_MODEL_475438a9eba64cc5a58ef78bf6196d8f",
              "IPY_MODEL_d889ebe8de854800ba438779f75ba39d",
              "IPY_MODEL_625f6dd539cc4ff5990674196fb743fa"
            ],
            "layout": "IPY_MODEL_ae838cd130674e8f97405e404d91c185"
          }
        },
        "475438a9eba64cc5a58ef78bf6196d8f": {
          "model_module": "@jupyter-widgets/controls",
          "model_name": "HTMLModel",
          "model_module_version": "1.5.0",
          "state": {
            "_dom_classes": [],
            "_model_module": "@jupyter-widgets/controls",
            "_model_module_version": "1.5.0",
            "_model_name": "HTMLModel",
            "_view_count": null,
            "_view_module": "@jupyter-widgets/controls",
            "_view_module_version": "1.5.0",
            "_view_name": "HTMLView",
            "description": "",
            "description_tooltip": null,
            "layout": "IPY_MODEL_d2b3565b925343019c566da36ff17733",
            "placeholder": "​",
            "style": "IPY_MODEL_143dfca823904fb7804d8cca1b25541b",
            "value": "pytorch_model.bin: 100%"
          }
        },
        "d889ebe8de854800ba438779f75ba39d": {
          "model_module": "@jupyter-widgets/controls",
          "model_name": "FloatProgressModel",
          "model_module_version": "1.5.0",
          "state": {
            "_dom_classes": [],
            "_model_module": "@jupyter-widgets/controls",
            "_model_module_version": "1.5.0",
            "_model_name": "FloatProgressModel",
            "_view_count": null,
            "_view_module": "@jupyter-widgets/controls",
            "_view_module_version": "1.5.0",
            "_view_name": "ProgressView",
            "bar_style": "success",
            "description": "",
            "description_tooltip": null,
            "layout": "IPY_MODEL_8309cff292d64fa395446a7ad4b37495",
            "max": 75656,
            "min": 0,
            "orientation": "horizontal",
            "style": "IPY_MODEL_d659f77093fb4658af5edf4dd8ca59a4",
            "value": 75656
          }
        },
        "625f6dd539cc4ff5990674196fb743fa": {
          "model_module": "@jupyter-widgets/controls",
          "model_name": "HTMLModel",
          "model_module_version": "1.5.0",
          "state": {
            "_dom_classes": [],
            "_model_module": "@jupyter-widgets/controls",
            "_model_module_version": "1.5.0",
            "_model_name": "HTMLModel",
            "_view_count": null,
            "_view_module": "@jupyter-widgets/controls",
            "_view_module_version": "1.5.0",
            "_view_name": "HTMLView",
            "description": "",
            "description_tooltip": null,
            "layout": "IPY_MODEL_7bb3bd2f2eec4430a83a3c23edde5da5",
            "placeholder": "​",
            "style": "IPY_MODEL_4066870886684d70bd876be8c4c2328f",
            "value": " 75.7k/75.7k [00:01&lt;00:00, 52.8kB/s]"
          }
        },
        "ae838cd130674e8f97405e404d91c185": {
          "model_module": "@jupyter-widgets/base",
          "model_name": "LayoutModel",
          "model_module_version": "1.2.0",
          "state": {
            "_model_module": "@jupyter-widgets/base",
            "_model_module_version": "1.2.0",
            "_model_name": "LayoutModel",
            "_view_count": null,
            "_view_module": "@jupyter-widgets/base",
            "_view_module_version": "1.2.0",
            "_view_name": "LayoutView",
            "align_content": null,
            "align_items": null,
            "align_self": null,
            "border": null,
            "bottom": null,
            "display": null,
            "flex": null,
            "flex_flow": null,
            "grid_area": null,
            "grid_auto_columns": null,
            "grid_auto_flow": null,
            "grid_auto_rows": null,
            "grid_column": null,
            "grid_gap": null,
            "grid_row": null,
            "grid_template_areas": null,
            "grid_template_columns": null,
            "grid_template_rows": null,
            "height": null,
            "justify_content": null,
            "justify_items": null,
            "left": null,
            "margin": null,
            "max_height": null,
            "max_width": null,
            "min_height": null,
            "min_width": null,
            "object_fit": null,
            "object_position": null,
            "order": null,
            "overflow": null,
            "overflow_x": null,
            "overflow_y": null,
            "padding": null,
            "right": null,
            "top": null,
            "visibility": null,
            "width": null
          }
        },
        "d2b3565b925343019c566da36ff17733": {
          "model_module": "@jupyter-widgets/base",
          "model_name": "LayoutModel",
          "model_module_version": "1.2.0",
          "state": {
            "_model_module": "@jupyter-widgets/base",
            "_model_module_version": "1.2.0",
            "_model_name": "LayoutModel",
            "_view_count": null,
            "_view_module": "@jupyter-widgets/base",
            "_view_module_version": "1.2.0",
            "_view_name": "LayoutView",
            "align_content": null,
            "align_items": null,
            "align_self": null,
            "border": null,
            "bottom": null,
            "display": null,
            "flex": null,
            "flex_flow": null,
            "grid_area": null,
            "grid_auto_columns": null,
            "grid_auto_flow": null,
            "grid_auto_rows": null,
            "grid_column": null,
            "grid_gap": null,
            "grid_row": null,
            "grid_template_areas": null,
            "grid_template_columns": null,
            "grid_template_rows": null,
            "height": null,
            "justify_content": null,
            "justify_items": null,
            "left": null,
            "margin": null,
            "max_height": null,
            "max_width": null,
            "min_height": null,
            "min_width": null,
            "object_fit": null,
            "object_position": null,
            "order": null,
            "overflow": null,
            "overflow_x": null,
            "overflow_y": null,
            "padding": null,
            "right": null,
            "top": null,
            "visibility": null,
            "width": null
          }
        },
        "143dfca823904fb7804d8cca1b25541b": {
          "model_module": "@jupyter-widgets/controls",
          "model_name": "DescriptionStyleModel",
          "model_module_version": "1.5.0",
          "state": {
            "_model_module": "@jupyter-widgets/controls",
            "_model_module_version": "1.5.0",
            "_model_name": "DescriptionStyleModel",
            "_view_count": null,
            "_view_module": "@jupyter-widgets/base",
            "_view_module_version": "1.2.0",
            "_view_name": "StyleView",
            "description_width": ""
          }
        },
        "8309cff292d64fa395446a7ad4b37495": {
          "model_module": "@jupyter-widgets/base",
          "model_name": "LayoutModel",
          "model_module_version": "1.2.0",
          "state": {
            "_model_module": "@jupyter-widgets/base",
            "_model_module_version": "1.2.0",
            "_model_name": "LayoutModel",
            "_view_count": null,
            "_view_module": "@jupyter-widgets/base",
            "_view_module_version": "1.2.0",
            "_view_name": "LayoutView",
            "align_content": null,
            "align_items": null,
            "align_self": null,
            "border": null,
            "bottom": null,
            "display": null,
            "flex": null,
            "flex_flow": null,
            "grid_area": null,
            "grid_auto_columns": null,
            "grid_auto_flow": null,
            "grid_auto_rows": null,
            "grid_column": null,
            "grid_gap": null,
            "grid_row": null,
            "grid_template_areas": null,
            "grid_template_columns": null,
            "grid_template_rows": null,
            "height": null,
            "justify_content": null,
            "justify_items": null,
            "left": null,
            "margin": null,
            "max_height": null,
            "max_width": null,
            "min_height": null,
            "min_width": null,
            "object_fit": null,
            "object_position": null,
            "order": null,
            "overflow": null,
            "overflow_x": null,
            "overflow_y": null,
            "padding": null,
            "right": null,
            "top": null,
            "visibility": null,
            "width": null
          }
        },
        "d659f77093fb4658af5edf4dd8ca59a4": {
          "model_module": "@jupyter-widgets/controls",
          "model_name": "ProgressStyleModel",
          "model_module_version": "1.5.0",
          "state": {
            "_model_module": "@jupyter-widgets/controls",
            "_model_module_version": "1.5.0",
            "_model_name": "ProgressStyleModel",
            "_view_count": null,
            "_view_module": "@jupyter-widgets/base",
            "_view_module_version": "1.2.0",
            "_view_name": "StyleView",
            "bar_color": null,
            "description_width": ""
          }
        },
        "7bb3bd2f2eec4430a83a3c23edde5da5": {
          "model_module": "@jupyter-widgets/base",
          "model_name": "LayoutModel",
          "model_module_version": "1.2.0",
          "state": {
            "_model_module": "@jupyter-widgets/base",
            "_model_module_version": "1.2.0",
            "_model_name": "LayoutModel",
            "_view_count": null,
            "_view_module": "@jupyter-widgets/base",
            "_view_module_version": "1.2.0",
            "_view_name": "LayoutView",
            "align_content": null,
            "align_items": null,
            "align_self": null,
            "border": null,
            "bottom": null,
            "display": null,
            "flex": null,
            "flex_flow": null,
            "grid_area": null,
            "grid_auto_columns": null,
            "grid_auto_flow": null,
            "grid_auto_rows": null,
            "grid_column": null,
            "grid_gap": null,
            "grid_row": null,
            "grid_template_areas": null,
            "grid_template_columns": null,
            "grid_template_rows": null,
            "height": null,
            "justify_content": null,
            "justify_items": null,
            "left": null,
            "margin": null,
            "max_height": null,
            "max_width": null,
            "min_height": null,
            "min_width": null,
            "object_fit": null,
            "object_position": null,
            "order": null,
            "overflow": null,
            "overflow_x": null,
            "overflow_y": null,
            "padding": null,
            "right": null,
            "top": null,
            "visibility": null,
            "width": null
          }
        },
        "4066870886684d70bd876be8c4c2328f": {
          "model_module": "@jupyter-widgets/controls",
          "model_name": "DescriptionStyleModel",
          "model_module_version": "1.5.0",
          "state": {
            "_model_module": "@jupyter-widgets/controls",
            "_model_module_version": "1.5.0",
            "_model_name": "DescriptionStyleModel",
            "_view_count": null,
            "_view_module": "@jupyter-widgets/base",
            "_view_module_version": "1.2.0",
            "_view_name": "StyleView",
            "description_width": ""
          }
        },
        "45b1d292883944f8b09c50ea5e1ae56d": {
          "model_module": "@jupyter-widgets/controls",
          "model_name": "HBoxModel",
          "model_module_version": "1.5.0",
          "state": {
            "_dom_classes": [],
            "_model_module": "@jupyter-widgets/controls",
            "_model_module_version": "1.5.0",
            "_model_name": "HBoxModel",
            "_view_count": null,
            "_view_module": "@jupyter-widgets/controls",
            "_view_module_version": "1.5.0",
            "_view_name": "HBoxView",
            "box_style": "",
            "children": [
              "IPY_MODEL_dfafe24545cc400db63f329571c92018",
              "IPY_MODEL_190c73ccd2a9438f98fae2081d912a67",
              "IPY_MODEL_1cc47fca5c9d47c8bde43656b7f426b0"
            ],
            "layout": "IPY_MODEL_b0bb181fa28c4a5085e3a6ede4e609ce"
          }
        },
        "dfafe24545cc400db63f329571c92018": {
          "model_module": "@jupyter-widgets/controls",
          "model_name": "HTMLModel",
          "model_module_version": "1.5.0",
          "state": {
            "_dom_classes": [],
            "_model_module": "@jupyter-widgets/controls",
            "_model_module_version": "1.5.0",
            "_model_name": "HTMLModel",
            "_view_count": null,
            "_view_module": "@jupyter-widgets/controls",
            "_view_module_version": "1.5.0",
            "_view_name": "HTMLView",
            "description": "",
            "description_tooltip": null,
            "layout": "IPY_MODEL_48a1998a75b24c13bfa993194dac26cc",
            "placeholder": "​",
            "style": "IPY_MODEL_ee1394bc848f450495fee65fd018aab6",
            "value": "pytorch_model.bin: 100%"
          }
        },
        "190c73ccd2a9438f98fae2081d912a67": {
          "model_module": "@jupyter-widgets/controls",
          "model_name": "FloatProgressModel",
          "model_module_version": "1.5.0",
          "state": {
            "_dom_classes": [],
            "_model_module": "@jupyter-widgets/controls",
            "_model_module_version": "1.5.0",
            "_model_name": "FloatProgressModel",
            "_view_count": null,
            "_view_module": "@jupyter-widgets/controls",
            "_view_module_version": "1.5.0",
            "_view_name": "ProgressView",
            "bar_style": "success",
            "description": "",
            "description_tooltip": null,
            "layout": "IPY_MODEL_87150753213f4087855ce2a6b9dfc717",
            "max": 75656,
            "min": 0,
            "orientation": "horizontal",
            "style": "IPY_MODEL_6b6e374a84f44fc68217294758051d34",
            "value": 75656
          }
        },
        "1cc47fca5c9d47c8bde43656b7f426b0": {
          "model_module": "@jupyter-widgets/controls",
          "model_name": "HTMLModel",
          "model_module_version": "1.5.0",
          "state": {
            "_dom_classes": [],
            "_model_module": "@jupyter-widgets/controls",
            "_model_module_version": "1.5.0",
            "_model_name": "HTMLModel",
            "_view_count": null,
            "_view_module": "@jupyter-widgets/controls",
            "_view_module_version": "1.5.0",
            "_view_name": "HTMLView",
            "description": "",
            "description_tooltip": null,
            "layout": "IPY_MODEL_b87941aeffcc49b3a303f29ccafbcf31",
            "placeholder": "​",
            "style": "IPY_MODEL_b5282dedb4554e179db91810f49b0c36",
            "value": " 75.7k/75.7k [00:00&lt;00:00, 153kB/s]"
          }
        },
        "b0bb181fa28c4a5085e3a6ede4e609ce": {
          "model_module": "@jupyter-widgets/base",
          "model_name": "LayoutModel",
          "model_module_version": "1.2.0",
          "state": {
            "_model_module": "@jupyter-widgets/base",
            "_model_module_version": "1.2.0",
            "_model_name": "LayoutModel",
            "_view_count": null,
            "_view_module": "@jupyter-widgets/base",
            "_view_module_version": "1.2.0",
            "_view_name": "LayoutView",
            "align_content": null,
            "align_items": null,
            "align_self": null,
            "border": null,
            "bottom": null,
            "display": null,
            "flex": null,
            "flex_flow": null,
            "grid_area": null,
            "grid_auto_columns": null,
            "grid_auto_flow": null,
            "grid_auto_rows": null,
            "grid_column": null,
            "grid_gap": null,
            "grid_row": null,
            "grid_template_areas": null,
            "grid_template_columns": null,
            "grid_template_rows": null,
            "height": null,
            "justify_content": null,
            "justify_items": null,
            "left": null,
            "margin": null,
            "max_height": null,
            "max_width": null,
            "min_height": null,
            "min_width": null,
            "object_fit": null,
            "object_position": null,
            "order": null,
            "overflow": null,
            "overflow_x": null,
            "overflow_y": null,
            "padding": null,
            "right": null,
            "top": null,
            "visibility": null,
            "width": null
          }
        },
        "48a1998a75b24c13bfa993194dac26cc": {
          "model_module": "@jupyter-widgets/base",
          "model_name": "LayoutModel",
          "model_module_version": "1.2.0",
          "state": {
            "_model_module": "@jupyter-widgets/base",
            "_model_module_version": "1.2.0",
            "_model_name": "LayoutModel",
            "_view_count": null,
            "_view_module": "@jupyter-widgets/base",
            "_view_module_version": "1.2.0",
            "_view_name": "LayoutView",
            "align_content": null,
            "align_items": null,
            "align_self": null,
            "border": null,
            "bottom": null,
            "display": null,
            "flex": null,
            "flex_flow": null,
            "grid_area": null,
            "grid_auto_columns": null,
            "grid_auto_flow": null,
            "grid_auto_rows": null,
            "grid_column": null,
            "grid_gap": null,
            "grid_row": null,
            "grid_template_areas": null,
            "grid_template_columns": null,
            "grid_template_rows": null,
            "height": null,
            "justify_content": null,
            "justify_items": null,
            "left": null,
            "margin": null,
            "max_height": null,
            "max_width": null,
            "min_height": null,
            "min_width": null,
            "object_fit": null,
            "object_position": null,
            "order": null,
            "overflow": null,
            "overflow_x": null,
            "overflow_y": null,
            "padding": null,
            "right": null,
            "top": null,
            "visibility": null,
            "width": null
          }
        },
        "ee1394bc848f450495fee65fd018aab6": {
          "model_module": "@jupyter-widgets/controls",
          "model_name": "DescriptionStyleModel",
          "model_module_version": "1.5.0",
          "state": {
            "_model_module": "@jupyter-widgets/controls",
            "_model_module_version": "1.5.0",
            "_model_name": "DescriptionStyleModel",
            "_view_count": null,
            "_view_module": "@jupyter-widgets/base",
            "_view_module_version": "1.2.0",
            "_view_name": "StyleView",
            "description_width": ""
          }
        },
        "87150753213f4087855ce2a6b9dfc717": {
          "model_module": "@jupyter-widgets/base",
          "model_name": "LayoutModel",
          "model_module_version": "1.2.0",
          "state": {
            "_model_module": "@jupyter-widgets/base",
            "_model_module_version": "1.2.0",
            "_model_name": "LayoutModel",
            "_view_count": null,
            "_view_module": "@jupyter-widgets/base",
            "_view_module_version": "1.2.0",
            "_view_name": "LayoutView",
            "align_content": null,
            "align_items": null,
            "align_self": null,
            "border": null,
            "bottom": null,
            "display": null,
            "flex": null,
            "flex_flow": null,
            "grid_area": null,
            "grid_auto_columns": null,
            "grid_auto_flow": null,
            "grid_auto_rows": null,
            "grid_column": null,
            "grid_gap": null,
            "grid_row": null,
            "grid_template_areas": null,
            "grid_template_columns": null,
            "grid_template_rows": null,
            "height": null,
            "justify_content": null,
            "justify_items": null,
            "left": null,
            "margin": null,
            "max_height": null,
            "max_width": null,
            "min_height": null,
            "min_width": null,
            "object_fit": null,
            "object_position": null,
            "order": null,
            "overflow": null,
            "overflow_x": null,
            "overflow_y": null,
            "padding": null,
            "right": null,
            "top": null,
            "visibility": null,
            "width": null
          }
        },
        "6b6e374a84f44fc68217294758051d34": {
          "model_module": "@jupyter-widgets/controls",
          "model_name": "ProgressStyleModel",
          "model_module_version": "1.5.0",
          "state": {
            "_model_module": "@jupyter-widgets/controls",
            "_model_module_version": "1.5.0",
            "_model_name": "ProgressStyleModel",
            "_view_count": null,
            "_view_module": "@jupyter-widgets/base",
            "_view_module_version": "1.2.0",
            "_view_name": "StyleView",
            "bar_color": null,
            "description_width": ""
          }
        },
        "b87941aeffcc49b3a303f29ccafbcf31": {
          "model_module": "@jupyter-widgets/base",
          "model_name": "LayoutModel",
          "model_module_version": "1.2.0",
          "state": {
            "_model_module": "@jupyter-widgets/base",
            "_model_module_version": "1.2.0",
            "_model_name": "LayoutModel",
            "_view_count": null,
            "_view_module": "@jupyter-widgets/base",
            "_view_module_version": "1.2.0",
            "_view_name": "LayoutView",
            "align_content": null,
            "align_items": null,
            "align_self": null,
            "border": null,
            "bottom": null,
            "display": null,
            "flex": null,
            "flex_flow": null,
            "grid_area": null,
            "grid_auto_columns": null,
            "grid_auto_flow": null,
            "grid_auto_rows": null,
            "grid_column": null,
            "grid_gap": null,
            "grid_row": null,
            "grid_template_areas": null,
            "grid_template_columns": null,
            "grid_template_rows": null,
            "height": null,
            "justify_content": null,
            "justify_items": null,
            "left": null,
            "margin": null,
            "max_height": null,
            "max_width": null,
            "min_height": null,
            "min_width": null,
            "object_fit": null,
            "object_position": null,
            "order": null,
            "overflow": null,
            "overflow_x": null,
            "overflow_y": null,
            "padding": null,
            "right": null,
            "top": null,
            "visibility": null,
            "width": null
          }
        },
        "b5282dedb4554e179db91810f49b0c36": {
          "model_module": "@jupyter-widgets/controls",
          "model_name": "DescriptionStyleModel",
          "model_module_version": "1.5.0",
          "state": {
            "_model_module": "@jupyter-widgets/controls",
            "_model_module_version": "1.5.0",
            "_model_name": "DescriptionStyleModel",
            "_view_count": null,
            "_view_module": "@jupyter-widgets/base",
            "_view_module_version": "1.2.0",
            "_view_name": "StyleView",
            "description_width": ""
          }
        },
        "ecc8e3cac2004289a9809954000be856": {
          "model_module": "@jupyter-widgets/controls",
          "model_name": "HBoxModel",
          "model_module_version": "1.5.0",
          "state": {
            "_dom_classes": [],
            "_model_module": "@jupyter-widgets/controls",
            "_model_module_version": "1.5.0",
            "_model_name": "HBoxModel",
            "_view_count": null,
            "_view_module": "@jupyter-widgets/controls",
            "_view_module_version": "1.5.0",
            "_view_name": "HBoxView",
            "box_style": "",
            "children": [
              "IPY_MODEL_94e3918dce7842e994f524eca33754a1",
              "IPY_MODEL_589127643fd9416d8586437498eb36e7",
              "IPY_MODEL_3c9e34da46864e4b8e1d0c31312a8335"
            ],
            "layout": "IPY_MODEL_622ee2f17a63454ea8a603a26b92c6db"
          }
        },
        "94e3918dce7842e994f524eca33754a1": {
          "model_module": "@jupyter-widgets/controls",
          "model_name": "HTMLModel",
          "model_module_version": "1.5.0",
          "state": {
            "_dom_classes": [],
            "_model_module": "@jupyter-widgets/controls",
            "_model_module_version": "1.5.0",
            "_model_name": "HTMLModel",
            "_view_count": null,
            "_view_module": "@jupyter-widgets/controls",
            "_view_module_version": "1.5.0",
            "_view_name": "HTMLView",
            "description": "",
            "description_tooltip": null,
            "layout": "IPY_MODEL_036110f8813b41a9a7071dbbb3516e97",
            "placeholder": "​",
            "style": "IPY_MODEL_e7e0755b7c0e4537a20af0eded9404dd",
            "value": "pytorch_model.bin: 100%"
          }
        },
        "589127643fd9416d8586437498eb36e7": {
          "model_module": "@jupyter-widgets/controls",
          "model_name": "FloatProgressModel",
          "model_module_version": "1.5.0",
          "state": {
            "_dom_classes": [],
            "_model_module": "@jupyter-widgets/controls",
            "_model_module_version": "1.5.0",
            "_model_name": "FloatProgressModel",
            "_view_count": null,
            "_view_module": "@jupyter-widgets/controls",
            "_view_module_version": "1.5.0",
            "_view_name": "ProgressView",
            "bar_style": "success",
            "description": "",
            "description_tooltip": null,
            "layout": "IPY_MODEL_2348d159fb29459b9d7e9dc748160ae8",
            "max": 75656,
            "min": 0,
            "orientation": "horizontal",
            "style": "IPY_MODEL_1e501022bee54a428391261842c49184",
            "value": 75656
          }
        },
        "3c9e34da46864e4b8e1d0c31312a8335": {
          "model_module": "@jupyter-widgets/controls",
          "model_name": "HTMLModel",
          "model_module_version": "1.5.0",
          "state": {
            "_dom_classes": [],
            "_model_module": "@jupyter-widgets/controls",
            "_model_module_version": "1.5.0",
            "_model_name": "HTMLModel",
            "_view_count": null,
            "_view_module": "@jupyter-widgets/controls",
            "_view_module_version": "1.5.0",
            "_view_name": "HTMLView",
            "description": "",
            "description_tooltip": null,
            "layout": "IPY_MODEL_ad0d74c7643a46abb8d05ff1b99da44d",
            "placeholder": "​",
            "style": "IPY_MODEL_9f7ba1d26070489683f439084e494ddb",
            "value": " 75.7k/75.7k [00:01&lt;00:00, 52.1kB/s]"
          }
        },
        "622ee2f17a63454ea8a603a26b92c6db": {
          "model_module": "@jupyter-widgets/base",
          "model_name": "LayoutModel",
          "model_module_version": "1.2.0",
          "state": {
            "_model_module": "@jupyter-widgets/base",
            "_model_module_version": "1.2.0",
            "_model_name": "LayoutModel",
            "_view_count": null,
            "_view_module": "@jupyter-widgets/base",
            "_view_module_version": "1.2.0",
            "_view_name": "LayoutView",
            "align_content": null,
            "align_items": null,
            "align_self": null,
            "border": null,
            "bottom": null,
            "display": null,
            "flex": null,
            "flex_flow": null,
            "grid_area": null,
            "grid_auto_columns": null,
            "grid_auto_flow": null,
            "grid_auto_rows": null,
            "grid_column": null,
            "grid_gap": null,
            "grid_row": null,
            "grid_template_areas": null,
            "grid_template_columns": null,
            "grid_template_rows": null,
            "height": null,
            "justify_content": null,
            "justify_items": null,
            "left": null,
            "margin": null,
            "max_height": null,
            "max_width": null,
            "min_height": null,
            "min_width": null,
            "object_fit": null,
            "object_position": null,
            "order": null,
            "overflow": null,
            "overflow_x": null,
            "overflow_y": null,
            "padding": null,
            "right": null,
            "top": null,
            "visibility": null,
            "width": null
          }
        },
        "036110f8813b41a9a7071dbbb3516e97": {
          "model_module": "@jupyter-widgets/base",
          "model_name": "LayoutModel",
          "model_module_version": "1.2.0",
          "state": {
            "_model_module": "@jupyter-widgets/base",
            "_model_module_version": "1.2.0",
            "_model_name": "LayoutModel",
            "_view_count": null,
            "_view_module": "@jupyter-widgets/base",
            "_view_module_version": "1.2.0",
            "_view_name": "LayoutView",
            "align_content": null,
            "align_items": null,
            "align_self": null,
            "border": null,
            "bottom": null,
            "display": null,
            "flex": null,
            "flex_flow": null,
            "grid_area": null,
            "grid_auto_columns": null,
            "grid_auto_flow": null,
            "grid_auto_rows": null,
            "grid_column": null,
            "grid_gap": null,
            "grid_row": null,
            "grid_template_areas": null,
            "grid_template_columns": null,
            "grid_template_rows": null,
            "height": null,
            "justify_content": null,
            "justify_items": null,
            "left": null,
            "margin": null,
            "max_height": null,
            "max_width": null,
            "min_height": null,
            "min_width": null,
            "object_fit": null,
            "object_position": null,
            "order": null,
            "overflow": null,
            "overflow_x": null,
            "overflow_y": null,
            "padding": null,
            "right": null,
            "top": null,
            "visibility": null,
            "width": null
          }
        },
        "e7e0755b7c0e4537a20af0eded9404dd": {
          "model_module": "@jupyter-widgets/controls",
          "model_name": "DescriptionStyleModel",
          "model_module_version": "1.5.0",
          "state": {
            "_model_module": "@jupyter-widgets/controls",
            "_model_module_version": "1.5.0",
            "_model_name": "DescriptionStyleModel",
            "_view_count": null,
            "_view_module": "@jupyter-widgets/base",
            "_view_module_version": "1.2.0",
            "_view_name": "StyleView",
            "description_width": ""
          }
        },
        "2348d159fb29459b9d7e9dc748160ae8": {
          "model_module": "@jupyter-widgets/base",
          "model_name": "LayoutModel",
          "model_module_version": "1.2.0",
          "state": {
            "_model_module": "@jupyter-widgets/base",
            "_model_module_version": "1.2.0",
            "_model_name": "LayoutModel",
            "_view_count": null,
            "_view_module": "@jupyter-widgets/base",
            "_view_module_version": "1.2.0",
            "_view_name": "LayoutView",
            "align_content": null,
            "align_items": null,
            "align_self": null,
            "border": null,
            "bottom": null,
            "display": null,
            "flex": null,
            "flex_flow": null,
            "grid_area": null,
            "grid_auto_columns": null,
            "grid_auto_flow": null,
            "grid_auto_rows": null,
            "grid_column": null,
            "grid_gap": null,
            "grid_row": null,
            "grid_template_areas": null,
            "grid_template_columns": null,
            "grid_template_rows": null,
            "height": null,
            "justify_content": null,
            "justify_items": null,
            "left": null,
            "margin": null,
            "max_height": null,
            "max_width": null,
            "min_height": null,
            "min_width": null,
            "object_fit": null,
            "object_position": null,
            "order": null,
            "overflow": null,
            "overflow_x": null,
            "overflow_y": null,
            "padding": null,
            "right": null,
            "top": null,
            "visibility": null,
            "width": null
          }
        },
        "1e501022bee54a428391261842c49184": {
          "model_module": "@jupyter-widgets/controls",
          "model_name": "ProgressStyleModel",
          "model_module_version": "1.5.0",
          "state": {
            "_model_module": "@jupyter-widgets/controls",
            "_model_module_version": "1.5.0",
            "_model_name": "ProgressStyleModel",
            "_view_count": null,
            "_view_module": "@jupyter-widgets/base",
            "_view_module_version": "1.2.0",
            "_view_name": "StyleView",
            "bar_color": null,
            "description_width": ""
          }
        },
        "ad0d74c7643a46abb8d05ff1b99da44d": {
          "model_module": "@jupyter-widgets/base",
          "model_name": "LayoutModel",
          "model_module_version": "1.2.0",
          "state": {
            "_model_module": "@jupyter-widgets/base",
            "_model_module_version": "1.2.0",
            "_model_name": "LayoutModel",
            "_view_count": null,
            "_view_module": "@jupyter-widgets/base",
            "_view_module_version": "1.2.0",
            "_view_name": "LayoutView",
            "align_content": null,
            "align_items": null,
            "align_self": null,
            "border": null,
            "bottom": null,
            "display": null,
            "flex": null,
            "flex_flow": null,
            "grid_area": null,
            "grid_auto_columns": null,
            "grid_auto_flow": null,
            "grid_auto_rows": null,
            "grid_column": null,
            "grid_gap": null,
            "grid_row": null,
            "grid_template_areas": null,
            "grid_template_columns": null,
            "grid_template_rows": null,
            "height": null,
            "justify_content": null,
            "justify_items": null,
            "left": null,
            "margin": null,
            "max_height": null,
            "max_width": null,
            "min_height": null,
            "min_width": null,
            "object_fit": null,
            "object_position": null,
            "order": null,
            "overflow": null,
            "overflow_x": null,
            "overflow_y": null,
            "padding": null,
            "right": null,
            "top": null,
            "visibility": null,
            "width": null
          }
        },
        "9f7ba1d26070489683f439084e494ddb": {
          "model_module": "@jupyter-widgets/controls",
          "model_name": "DescriptionStyleModel",
          "model_module_version": "1.5.0",
          "state": {
            "_model_module": "@jupyter-widgets/controls",
            "_model_module_version": "1.5.0",
            "_model_name": "DescriptionStyleModel",
            "_view_count": null,
            "_view_module": "@jupyter-widgets/base",
            "_view_module_version": "1.2.0",
            "_view_name": "StyleView",
            "description_width": ""
          }
        },
        "a2a1976d421d4c7bbadea8b39f15c839": {
          "model_module": "@jupyter-widgets/controls",
          "model_name": "HBoxModel",
          "model_module_version": "1.5.0",
          "state": {
            "_dom_classes": [],
            "_model_module": "@jupyter-widgets/controls",
            "_model_module_version": "1.5.0",
            "_model_name": "HBoxModel",
            "_view_count": null,
            "_view_module": "@jupyter-widgets/controls",
            "_view_module_version": "1.5.0",
            "_view_name": "HBoxView",
            "box_style": "",
            "children": [
              "IPY_MODEL_861a9120e8b946b5b284a81c008e8850",
              "IPY_MODEL_5a7582e5b82a425faa615a0ef9e914e0",
              "IPY_MODEL_a5a84fc5775b45d6a21ab1588bc075f4"
            ],
            "layout": "IPY_MODEL_94e3ffd407854e4291628e75e2c27b0f"
          }
        },
        "861a9120e8b946b5b284a81c008e8850": {
          "model_module": "@jupyter-widgets/controls",
          "model_name": "HTMLModel",
          "model_module_version": "1.5.0",
          "state": {
            "_dom_classes": [],
            "_model_module": "@jupyter-widgets/controls",
            "_model_module_version": "1.5.0",
            "_model_name": "HTMLModel",
            "_view_count": null,
            "_view_module": "@jupyter-widgets/controls",
            "_view_module_version": "1.5.0",
            "_view_name": "HTMLView",
            "description": "",
            "description_tooltip": null,
            "layout": "IPY_MODEL_10e76a3c5c3c44b2bcd8cbf00e55d34b",
            "placeholder": "​",
            "style": "IPY_MODEL_cec750daa26e4b0695e7dbf679389148",
            "value": "pytorch_model.bin: 100%"
          }
        },
        "5a7582e5b82a425faa615a0ef9e914e0": {
          "model_module": "@jupyter-widgets/controls",
          "model_name": "FloatProgressModel",
          "model_module_version": "1.5.0",
          "state": {
            "_dom_classes": [],
            "_model_module": "@jupyter-widgets/controls",
            "_model_module_version": "1.5.0",
            "_model_name": "FloatProgressModel",
            "_view_count": null,
            "_view_module": "@jupyter-widgets/controls",
            "_view_module_version": "1.5.0",
            "_view_name": "ProgressView",
            "bar_style": "success",
            "description": "",
            "description_tooltip": null,
            "layout": "IPY_MODEL_45d5160e4f4b4b66894c1856f8d17a73",
            "max": 75656,
            "min": 0,
            "orientation": "horizontal",
            "style": "IPY_MODEL_5a479d6a0a8f44fe9607a024a0063b22",
            "value": 75656
          }
        },
        "a5a84fc5775b45d6a21ab1588bc075f4": {
          "model_module": "@jupyter-widgets/controls",
          "model_name": "HTMLModel",
          "model_module_version": "1.5.0",
          "state": {
            "_dom_classes": [],
            "_model_module": "@jupyter-widgets/controls",
            "_model_module_version": "1.5.0",
            "_model_name": "HTMLModel",
            "_view_count": null,
            "_view_module": "@jupyter-widgets/controls",
            "_view_module_version": "1.5.0",
            "_view_name": "HTMLView",
            "description": "",
            "description_tooltip": null,
            "layout": "IPY_MODEL_ecf6420258fc47e2b26d591ef4958fc5",
            "placeholder": "​",
            "style": "IPY_MODEL_97b43cbd16b540039c0032e6cfae541d",
            "value": " 75.7k/75.7k [00:00&lt;00:00, 159kB/s]"
          }
        },
        "94e3ffd407854e4291628e75e2c27b0f": {
          "model_module": "@jupyter-widgets/base",
          "model_name": "LayoutModel",
          "model_module_version": "1.2.0",
          "state": {
            "_model_module": "@jupyter-widgets/base",
            "_model_module_version": "1.2.0",
            "_model_name": "LayoutModel",
            "_view_count": null,
            "_view_module": "@jupyter-widgets/base",
            "_view_module_version": "1.2.0",
            "_view_name": "LayoutView",
            "align_content": null,
            "align_items": null,
            "align_self": null,
            "border": null,
            "bottom": null,
            "display": null,
            "flex": null,
            "flex_flow": null,
            "grid_area": null,
            "grid_auto_columns": null,
            "grid_auto_flow": null,
            "grid_auto_rows": null,
            "grid_column": null,
            "grid_gap": null,
            "grid_row": null,
            "grid_template_areas": null,
            "grid_template_columns": null,
            "grid_template_rows": null,
            "height": null,
            "justify_content": null,
            "justify_items": null,
            "left": null,
            "margin": null,
            "max_height": null,
            "max_width": null,
            "min_height": null,
            "min_width": null,
            "object_fit": null,
            "object_position": null,
            "order": null,
            "overflow": null,
            "overflow_x": null,
            "overflow_y": null,
            "padding": null,
            "right": null,
            "top": null,
            "visibility": null,
            "width": null
          }
        },
        "10e76a3c5c3c44b2bcd8cbf00e55d34b": {
          "model_module": "@jupyter-widgets/base",
          "model_name": "LayoutModel",
          "model_module_version": "1.2.0",
          "state": {
            "_model_module": "@jupyter-widgets/base",
            "_model_module_version": "1.2.0",
            "_model_name": "LayoutModel",
            "_view_count": null,
            "_view_module": "@jupyter-widgets/base",
            "_view_module_version": "1.2.0",
            "_view_name": "LayoutView",
            "align_content": null,
            "align_items": null,
            "align_self": null,
            "border": null,
            "bottom": null,
            "display": null,
            "flex": null,
            "flex_flow": null,
            "grid_area": null,
            "grid_auto_columns": null,
            "grid_auto_flow": null,
            "grid_auto_rows": null,
            "grid_column": null,
            "grid_gap": null,
            "grid_row": null,
            "grid_template_areas": null,
            "grid_template_columns": null,
            "grid_template_rows": null,
            "height": null,
            "justify_content": null,
            "justify_items": null,
            "left": null,
            "margin": null,
            "max_height": null,
            "max_width": null,
            "min_height": null,
            "min_width": null,
            "object_fit": null,
            "object_position": null,
            "order": null,
            "overflow": null,
            "overflow_x": null,
            "overflow_y": null,
            "padding": null,
            "right": null,
            "top": null,
            "visibility": null,
            "width": null
          }
        },
        "cec750daa26e4b0695e7dbf679389148": {
          "model_module": "@jupyter-widgets/controls",
          "model_name": "DescriptionStyleModel",
          "model_module_version": "1.5.0",
          "state": {
            "_model_module": "@jupyter-widgets/controls",
            "_model_module_version": "1.5.0",
            "_model_name": "DescriptionStyleModel",
            "_view_count": null,
            "_view_module": "@jupyter-widgets/base",
            "_view_module_version": "1.2.0",
            "_view_name": "StyleView",
            "description_width": ""
          }
        },
        "45d5160e4f4b4b66894c1856f8d17a73": {
          "model_module": "@jupyter-widgets/base",
          "model_name": "LayoutModel",
          "model_module_version": "1.2.0",
          "state": {
            "_model_module": "@jupyter-widgets/base",
            "_model_module_version": "1.2.0",
            "_model_name": "LayoutModel",
            "_view_count": null,
            "_view_module": "@jupyter-widgets/base",
            "_view_module_version": "1.2.0",
            "_view_name": "LayoutView",
            "align_content": null,
            "align_items": null,
            "align_self": null,
            "border": null,
            "bottom": null,
            "display": null,
            "flex": null,
            "flex_flow": null,
            "grid_area": null,
            "grid_auto_columns": null,
            "grid_auto_flow": null,
            "grid_auto_rows": null,
            "grid_column": null,
            "grid_gap": null,
            "grid_row": null,
            "grid_template_areas": null,
            "grid_template_columns": null,
            "grid_template_rows": null,
            "height": null,
            "justify_content": null,
            "justify_items": null,
            "left": null,
            "margin": null,
            "max_height": null,
            "max_width": null,
            "min_height": null,
            "min_width": null,
            "object_fit": null,
            "object_position": null,
            "order": null,
            "overflow": null,
            "overflow_x": null,
            "overflow_y": null,
            "padding": null,
            "right": null,
            "top": null,
            "visibility": null,
            "width": null
          }
        },
        "5a479d6a0a8f44fe9607a024a0063b22": {
          "model_module": "@jupyter-widgets/controls",
          "model_name": "ProgressStyleModel",
          "model_module_version": "1.5.0",
          "state": {
            "_model_module": "@jupyter-widgets/controls",
            "_model_module_version": "1.5.0",
            "_model_name": "ProgressStyleModel",
            "_view_count": null,
            "_view_module": "@jupyter-widgets/base",
            "_view_module_version": "1.2.0",
            "_view_name": "StyleView",
            "bar_color": null,
            "description_width": ""
          }
        },
        "ecf6420258fc47e2b26d591ef4958fc5": {
          "model_module": "@jupyter-widgets/base",
          "model_name": "LayoutModel",
          "model_module_version": "1.2.0",
          "state": {
            "_model_module": "@jupyter-widgets/base",
            "_model_module_version": "1.2.0",
            "_model_name": "LayoutModel",
            "_view_count": null,
            "_view_module": "@jupyter-widgets/base",
            "_view_module_version": "1.2.0",
            "_view_name": "LayoutView",
            "align_content": null,
            "align_items": null,
            "align_self": null,
            "border": null,
            "bottom": null,
            "display": null,
            "flex": null,
            "flex_flow": null,
            "grid_area": null,
            "grid_auto_columns": null,
            "grid_auto_flow": null,
            "grid_auto_rows": null,
            "grid_column": null,
            "grid_gap": null,
            "grid_row": null,
            "grid_template_areas": null,
            "grid_template_columns": null,
            "grid_template_rows": null,
            "height": null,
            "justify_content": null,
            "justify_items": null,
            "left": null,
            "margin": null,
            "max_height": null,
            "max_width": null,
            "min_height": null,
            "min_width": null,
            "object_fit": null,
            "object_position": null,
            "order": null,
            "overflow": null,
            "overflow_x": null,
            "overflow_y": null,
            "padding": null,
            "right": null,
            "top": null,
            "visibility": null,
            "width": null
          }
        },
        "97b43cbd16b540039c0032e6cfae541d": {
          "model_module": "@jupyter-widgets/controls",
          "model_name": "DescriptionStyleModel",
          "model_module_version": "1.5.0",
          "state": {
            "_model_module": "@jupyter-widgets/controls",
            "_model_module_version": "1.5.0",
            "_model_name": "DescriptionStyleModel",
            "_view_count": null,
            "_view_module": "@jupyter-widgets/base",
            "_view_module_version": "1.2.0",
            "_view_name": "StyleView",
            "description_width": ""
          }
        },
        "fcda05ea53dd455fb1466a704b8beb12": {
          "model_module": "@jupyter-widgets/controls",
          "model_name": "HBoxModel",
          "model_module_version": "1.5.0",
          "state": {
            "_dom_classes": [],
            "_model_module": "@jupyter-widgets/controls",
            "_model_module_version": "1.5.0",
            "_model_name": "HBoxModel",
            "_view_count": null,
            "_view_module": "@jupyter-widgets/controls",
            "_view_module_version": "1.5.0",
            "_view_name": "HBoxView",
            "box_style": "",
            "children": [
              "IPY_MODEL_bed165ce65ff43dc8f22b6dfa536d96f",
              "IPY_MODEL_7099096ae1e945619aaa2032bb40c519",
              "IPY_MODEL_c50b437129d74626bd96b0cd5a698a25"
            ],
            "layout": "IPY_MODEL_8913d53ae7d54814af4a7f6039e70d24"
          }
        },
        "bed165ce65ff43dc8f22b6dfa536d96f": {
          "model_module": "@jupyter-widgets/controls",
          "model_name": "HTMLModel",
          "model_module_version": "1.5.0",
          "state": {
            "_dom_classes": [],
            "_model_module": "@jupyter-widgets/controls",
            "_model_module_version": "1.5.0",
            "_model_name": "HTMLModel",
            "_view_count": null,
            "_view_module": "@jupyter-widgets/controls",
            "_view_module_version": "1.5.0",
            "_view_name": "HTMLView",
            "description": "",
            "description_tooltip": null,
            "layout": "IPY_MODEL_cb1494692aa34409b84f65a1d1a4f29a",
            "placeholder": "​",
            "style": "IPY_MODEL_3945557a0f2243cfa903eed53551d7d5",
            "value": "pytorch_model.bin: 100%"
          }
        },
        "7099096ae1e945619aaa2032bb40c519": {
          "model_module": "@jupyter-widgets/controls",
          "model_name": "FloatProgressModel",
          "model_module_version": "1.5.0",
          "state": {
            "_dom_classes": [],
            "_model_module": "@jupyter-widgets/controls",
            "_model_module_version": "1.5.0",
            "_model_name": "FloatProgressModel",
            "_view_count": null,
            "_view_module": "@jupyter-widgets/controls",
            "_view_module_version": "1.5.0",
            "_view_name": "ProgressView",
            "bar_style": "success",
            "description": "",
            "description_tooltip": null,
            "layout": "IPY_MODEL_b2693d7c90f44dddb3e0da102ca6b7e9",
            "max": 75656,
            "min": 0,
            "orientation": "horizontal",
            "style": "IPY_MODEL_52b8d73244714eacb4ed68b018aa8988",
            "value": 75656
          }
        },
        "c50b437129d74626bd96b0cd5a698a25": {
          "model_module": "@jupyter-widgets/controls",
          "model_name": "HTMLModel",
          "model_module_version": "1.5.0",
          "state": {
            "_dom_classes": [],
            "_model_module": "@jupyter-widgets/controls",
            "_model_module_version": "1.5.0",
            "_model_name": "HTMLModel",
            "_view_count": null,
            "_view_module": "@jupyter-widgets/controls",
            "_view_module_version": "1.5.0",
            "_view_name": "HTMLView",
            "description": "",
            "description_tooltip": null,
            "layout": "IPY_MODEL_6b0813143a1d487ba4be00ee4e363319",
            "placeholder": "​",
            "style": "IPY_MODEL_32186d1778f34efa8df411825960a6fa",
            "value": " 75.7k/75.7k [00:00&lt;00:00, 120kB/s]"
          }
        },
        "8913d53ae7d54814af4a7f6039e70d24": {
          "model_module": "@jupyter-widgets/base",
          "model_name": "LayoutModel",
          "model_module_version": "1.2.0",
          "state": {
            "_model_module": "@jupyter-widgets/base",
            "_model_module_version": "1.2.0",
            "_model_name": "LayoutModel",
            "_view_count": null,
            "_view_module": "@jupyter-widgets/base",
            "_view_module_version": "1.2.0",
            "_view_name": "LayoutView",
            "align_content": null,
            "align_items": null,
            "align_self": null,
            "border": null,
            "bottom": null,
            "display": null,
            "flex": null,
            "flex_flow": null,
            "grid_area": null,
            "grid_auto_columns": null,
            "grid_auto_flow": null,
            "grid_auto_rows": null,
            "grid_column": null,
            "grid_gap": null,
            "grid_row": null,
            "grid_template_areas": null,
            "grid_template_columns": null,
            "grid_template_rows": null,
            "height": null,
            "justify_content": null,
            "justify_items": null,
            "left": null,
            "margin": null,
            "max_height": null,
            "max_width": null,
            "min_height": null,
            "min_width": null,
            "object_fit": null,
            "object_position": null,
            "order": null,
            "overflow": null,
            "overflow_x": null,
            "overflow_y": null,
            "padding": null,
            "right": null,
            "top": null,
            "visibility": null,
            "width": null
          }
        },
        "cb1494692aa34409b84f65a1d1a4f29a": {
          "model_module": "@jupyter-widgets/base",
          "model_name": "LayoutModel",
          "model_module_version": "1.2.0",
          "state": {
            "_model_module": "@jupyter-widgets/base",
            "_model_module_version": "1.2.0",
            "_model_name": "LayoutModel",
            "_view_count": null,
            "_view_module": "@jupyter-widgets/base",
            "_view_module_version": "1.2.0",
            "_view_name": "LayoutView",
            "align_content": null,
            "align_items": null,
            "align_self": null,
            "border": null,
            "bottom": null,
            "display": null,
            "flex": null,
            "flex_flow": null,
            "grid_area": null,
            "grid_auto_columns": null,
            "grid_auto_flow": null,
            "grid_auto_rows": null,
            "grid_column": null,
            "grid_gap": null,
            "grid_row": null,
            "grid_template_areas": null,
            "grid_template_columns": null,
            "grid_template_rows": null,
            "height": null,
            "justify_content": null,
            "justify_items": null,
            "left": null,
            "margin": null,
            "max_height": null,
            "max_width": null,
            "min_height": null,
            "min_width": null,
            "object_fit": null,
            "object_position": null,
            "order": null,
            "overflow": null,
            "overflow_x": null,
            "overflow_y": null,
            "padding": null,
            "right": null,
            "top": null,
            "visibility": null,
            "width": null
          }
        },
        "3945557a0f2243cfa903eed53551d7d5": {
          "model_module": "@jupyter-widgets/controls",
          "model_name": "DescriptionStyleModel",
          "model_module_version": "1.5.0",
          "state": {
            "_model_module": "@jupyter-widgets/controls",
            "_model_module_version": "1.5.0",
            "_model_name": "DescriptionStyleModel",
            "_view_count": null,
            "_view_module": "@jupyter-widgets/base",
            "_view_module_version": "1.2.0",
            "_view_name": "StyleView",
            "description_width": ""
          }
        },
        "b2693d7c90f44dddb3e0da102ca6b7e9": {
          "model_module": "@jupyter-widgets/base",
          "model_name": "LayoutModel",
          "model_module_version": "1.2.0",
          "state": {
            "_model_module": "@jupyter-widgets/base",
            "_model_module_version": "1.2.0",
            "_model_name": "LayoutModel",
            "_view_count": null,
            "_view_module": "@jupyter-widgets/base",
            "_view_module_version": "1.2.0",
            "_view_name": "LayoutView",
            "align_content": null,
            "align_items": null,
            "align_self": null,
            "border": null,
            "bottom": null,
            "display": null,
            "flex": null,
            "flex_flow": null,
            "grid_area": null,
            "grid_auto_columns": null,
            "grid_auto_flow": null,
            "grid_auto_rows": null,
            "grid_column": null,
            "grid_gap": null,
            "grid_row": null,
            "grid_template_areas": null,
            "grid_template_columns": null,
            "grid_template_rows": null,
            "height": null,
            "justify_content": null,
            "justify_items": null,
            "left": null,
            "margin": null,
            "max_height": null,
            "max_width": null,
            "min_height": null,
            "min_width": null,
            "object_fit": null,
            "object_position": null,
            "order": null,
            "overflow": null,
            "overflow_x": null,
            "overflow_y": null,
            "padding": null,
            "right": null,
            "top": null,
            "visibility": null,
            "width": null
          }
        },
        "52b8d73244714eacb4ed68b018aa8988": {
          "model_module": "@jupyter-widgets/controls",
          "model_name": "ProgressStyleModel",
          "model_module_version": "1.5.0",
          "state": {
            "_model_module": "@jupyter-widgets/controls",
            "_model_module_version": "1.5.0",
            "_model_name": "ProgressStyleModel",
            "_view_count": null,
            "_view_module": "@jupyter-widgets/base",
            "_view_module_version": "1.2.0",
            "_view_name": "StyleView",
            "bar_color": null,
            "description_width": ""
          }
        },
        "6b0813143a1d487ba4be00ee4e363319": {
          "model_module": "@jupyter-widgets/base",
          "model_name": "LayoutModel",
          "model_module_version": "1.2.0",
          "state": {
            "_model_module": "@jupyter-widgets/base",
            "_model_module_version": "1.2.0",
            "_model_name": "LayoutModel",
            "_view_count": null,
            "_view_module": "@jupyter-widgets/base",
            "_view_module_version": "1.2.0",
            "_view_name": "LayoutView",
            "align_content": null,
            "align_items": null,
            "align_self": null,
            "border": null,
            "bottom": null,
            "display": null,
            "flex": null,
            "flex_flow": null,
            "grid_area": null,
            "grid_auto_columns": null,
            "grid_auto_flow": null,
            "grid_auto_rows": null,
            "grid_column": null,
            "grid_gap": null,
            "grid_row": null,
            "grid_template_areas": null,
            "grid_template_columns": null,
            "grid_template_rows": null,
            "height": null,
            "justify_content": null,
            "justify_items": null,
            "left": null,
            "margin": null,
            "max_height": null,
            "max_width": null,
            "min_height": null,
            "min_width": null,
            "object_fit": null,
            "object_position": null,
            "order": null,
            "overflow": null,
            "overflow_x": null,
            "overflow_y": null,
            "padding": null,
            "right": null,
            "top": null,
            "visibility": null,
            "width": null
          }
        },
        "32186d1778f34efa8df411825960a6fa": {
          "model_module": "@jupyter-widgets/controls",
          "model_name": "DescriptionStyleModel",
          "model_module_version": "1.5.0",
          "state": {
            "_model_module": "@jupyter-widgets/controls",
            "_model_module_version": "1.5.0",
            "_model_name": "DescriptionStyleModel",
            "_view_count": null,
            "_view_module": "@jupyter-widgets/base",
            "_view_module_version": "1.2.0",
            "_view_name": "StyleView",
            "description_width": ""
          }
        },
        "c008c0e99f904045a5e7cc983d560695": {
          "model_module": "@jupyter-widgets/controls",
          "model_name": "HBoxModel",
          "model_module_version": "1.5.0",
          "state": {
            "_dom_classes": [],
            "_model_module": "@jupyter-widgets/controls",
            "_model_module_version": "1.5.0",
            "_model_name": "HBoxModel",
            "_view_count": null,
            "_view_module": "@jupyter-widgets/controls",
            "_view_module_version": "1.5.0",
            "_view_name": "HBoxView",
            "box_style": "",
            "children": [
              "IPY_MODEL_ea93ac60e87245f0ae2279d320a78f12",
              "IPY_MODEL_8ca33ebee7c548e5a8a03b22fb4ad1da",
              "IPY_MODEL_15ab428ede6645faa4bab30f60989a9b"
            ],
            "layout": "IPY_MODEL_b3f827408efd4b9993f6a84bff2aba62"
          }
        },
        "ea93ac60e87245f0ae2279d320a78f12": {
          "model_module": "@jupyter-widgets/controls",
          "model_name": "HTMLModel",
          "model_module_version": "1.5.0",
          "state": {
            "_dom_classes": [],
            "_model_module": "@jupyter-widgets/controls",
            "_model_module_version": "1.5.0",
            "_model_name": "HTMLModel",
            "_view_count": null,
            "_view_module": "@jupyter-widgets/controls",
            "_view_module_version": "1.5.0",
            "_view_name": "HTMLView",
            "description": "",
            "description_tooltip": null,
            "layout": "IPY_MODEL_1ba2e9aae0c042fc9a5c1bf43e66af45",
            "placeholder": "​",
            "style": "IPY_MODEL_cdc27ddc333b458094ee8678c9919f9a",
            "value": "pytorch_model.bin: 100%"
          }
        },
        "8ca33ebee7c548e5a8a03b22fb4ad1da": {
          "model_module": "@jupyter-widgets/controls",
          "model_name": "FloatProgressModel",
          "model_module_version": "1.5.0",
          "state": {
            "_dom_classes": [],
            "_model_module": "@jupyter-widgets/controls",
            "_model_module_version": "1.5.0",
            "_model_name": "FloatProgressModel",
            "_view_count": null,
            "_view_module": "@jupyter-widgets/controls",
            "_view_module_version": "1.5.0",
            "_view_name": "ProgressView",
            "bar_style": "success",
            "description": "",
            "description_tooltip": null,
            "layout": "IPY_MODEL_101bda70e0d24073ada26c04688a63cb",
            "max": 75656,
            "min": 0,
            "orientation": "horizontal",
            "style": "IPY_MODEL_e9c32e148861411daff27eff9e3289bd",
            "value": 75656
          }
        },
        "15ab428ede6645faa4bab30f60989a9b": {
          "model_module": "@jupyter-widgets/controls",
          "model_name": "HTMLModel",
          "model_module_version": "1.5.0",
          "state": {
            "_dom_classes": [],
            "_model_module": "@jupyter-widgets/controls",
            "_model_module_version": "1.5.0",
            "_model_name": "HTMLModel",
            "_view_count": null,
            "_view_module": "@jupyter-widgets/controls",
            "_view_module_version": "1.5.0",
            "_view_name": "HTMLView",
            "description": "",
            "description_tooltip": null,
            "layout": "IPY_MODEL_85003dd5b3184949b60bd40120867780",
            "placeholder": "​",
            "style": "IPY_MODEL_0ea37f1ef8c34076bc7a74405c8322d6",
            "value": " 75.7k/75.7k [00:00&lt;00:00, 154kB/s]"
          }
        },
        "b3f827408efd4b9993f6a84bff2aba62": {
          "model_module": "@jupyter-widgets/base",
          "model_name": "LayoutModel",
          "model_module_version": "1.2.0",
          "state": {
            "_model_module": "@jupyter-widgets/base",
            "_model_module_version": "1.2.0",
            "_model_name": "LayoutModel",
            "_view_count": null,
            "_view_module": "@jupyter-widgets/base",
            "_view_module_version": "1.2.0",
            "_view_name": "LayoutView",
            "align_content": null,
            "align_items": null,
            "align_self": null,
            "border": null,
            "bottom": null,
            "display": null,
            "flex": null,
            "flex_flow": null,
            "grid_area": null,
            "grid_auto_columns": null,
            "grid_auto_flow": null,
            "grid_auto_rows": null,
            "grid_column": null,
            "grid_gap": null,
            "grid_row": null,
            "grid_template_areas": null,
            "grid_template_columns": null,
            "grid_template_rows": null,
            "height": null,
            "justify_content": null,
            "justify_items": null,
            "left": null,
            "margin": null,
            "max_height": null,
            "max_width": null,
            "min_height": null,
            "min_width": null,
            "object_fit": null,
            "object_position": null,
            "order": null,
            "overflow": null,
            "overflow_x": null,
            "overflow_y": null,
            "padding": null,
            "right": null,
            "top": null,
            "visibility": null,
            "width": null
          }
        },
        "1ba2e9aae0c042fc9a5c1bf43e66af45": {
          "model_module": "@jupyter-widgets/base",
          "model_name": "LayoutModel",
          "model_module_version": "1.2.0",
          "state": {
            "_model_module": "@jupyter-widgets/base",
            "_model_module_version": "1.2.0",
            "_model_name": "LayoutModel",
            "_view_count": null,
            "_view_module": "@jupyter-widgets/base",
            "_view_module_version": "1.2.0",
            "_view_name": "LayoutView",
            "align_content": null,
            "align_items": null,
            "align_self": null,
            "border": null,
            "bottom": null,
            "display": null,
            "flex": null,
            "flex_flow": null,
            "grid_area": null,
            "grid_auto_columns": null,
            "grid_auto_flow": null,
            "grid_auto_rows": null,
            "grid_column": null,
            "grid_gap": null,
            "grid_row": null,
            "grid_template_areas": null,
            "grid_template_columns": null,
            "grid_template_rows": null,
            "height": null,
            "justify_content": null,
            "justify_items": null,
            "left": null,
            "margin": null,
            "max_height": null,
            "max_width": null,
            "min_height": null,
            "min_width": null,
            "object_fit": null,
            "object_position": null,
            "order": null,
            "overflow": null,
            "overflow_x": null,
            "overflow_y": null,
            "padding": null,
            "right": null,
            "top": null,
            "visibility": null,
            "width": null
          }
        },
        "cdc27ddc333b458094ee8678c9919f9a": {
          "model_module": "@jupyter-widgets/controls",
          "model_name": "DescriptionStyleModel",
          "model_module_version": "1.5.0",
          "state": {
            "_model_module": "@jupyter-widgets/controls",
            "_model_module_version": "1.5.0",
            "_model_name": "DescriptionStyleModel",
            "_view_count": null,
            "_view_module": "@jupyter-widgets/base",
            "_view_module_version": "1.2.0",
            "_view_name": "StyleView",
            "description_width": ""
          }
        },
        "101bda70e0d24073ada26c04688a63cb": {
          "model_module": "@jupyter-widgets/base",
          "model_name": "LayoutModel",
          "model_module_version": "1.2.0",
          "state": {
            "_model_module": "@jupyter-widgets/base",
            "_model_module_version": "1.2.0",
            "_model_name": "LayoutModel",
            "_view_count": null,
            "_view_module": "@jupyter-widgets/base",
            "_view_module_version": "1.2.0",
            "_view_name": "LayoutView",
            "align_content": null,
            "align_items": null,
            "align_self": null,
            "border": null,
            "bottom": null,
            "display": null,
            "flex": null,
            "flex_flow": null,
            "grid_area": null,
            "grid_auto_columns": null,
            "grid_auto_flow": null,
            "grid_auto_rows": null,
            "grid_column": null,
            "grid_gap": null,
            "grid_row": null,
            "grid_template_areas": null,
            "grid_template_columns": null,
            "grid_template_rows": null,
            "height": null,
            "justify_content": null,
            "justify_items": null,
            "left": null,
            "margin": null,
            "max_height": null,
            "max_width": null,
            "min_height": null,
            "min_width": null,
            "object_fit": null,
            "object_position": null,
            "order": null,
            "overflow": null,
            "overflow_x": null,
            "overflow_y": null,
            "padding": null,
            "right": null,
            "top": null,
            "visibility": null,
            "width": null
          }
        },
        "e9c32e148861411daff27eff9e3289bd": {
          "model_module": "@jupyter-widgets/controls",
          "model_name": "ProgressStyleModel",
          "model_module_version": "1.5.0",
          "state": {
            "_model_module": "@jupyter-widgets/controls",
            "_model_module_version": "1.5.0",
            "_model_name": "ProgressStyleModel",
            "_view_count": null,
            "_view_module": "@jupyter-widgets/base",
            "_view_module_version": "1.2.0",
            "_view_name": "StyleView",
            "bar_color": null,
            "description_width": ""
          }
        },
        "85003dd5b3184949b60bd40120867780": {
          "model_module": "@jupyter-widgets/base",
          "model_name": "LayoutModel",
          "model_module_version": "1.2.0",
          "state": {
            "_model_module": "@jupyter-widgets/base",
            "_model_module_version": "1.2.0",
            "_model_name": "LayoutModel",
            "_view_count": null,
            "_view_module": "@jupyter-widgets/base",
            "_view_module_version": "1.2.0",
            "_view_name": "LayoutView",
            "align_content": null,
            "align_items": null,
            "align_self": null,
            "border": null,
            "bottom": null,
            "display": null,
            "flex": null,
            "flex_flow": null,
            "grid_area": null,
            "grid_auto_columns": null,
            "grid_auto_flow": null,
            "grid_auto_rows": null,
            "grid_column": null,
            "grid_gap": null,
            "grid_row": null,
            "grid_template_areas": null,
            "grid_template_columns": null,
            "grid_template_rows": null,
            "height": null,
            "justify_content": null,
            "justify_items": null,
            "left": null,
            "margin": null,
            "max_height": null,
            "max_width": null,
            "min_height": null,
            "min_width": null,
            "object_fit": null,
            "object_position": null,
            "order": null,
            "overflow": null,
            "overflow_x": null,
            "overflow_y": null,
            "padding": null,
            "right": null,
            "top": null,
            "visibility": null,
            "width": null
          }
        },
        "0ea37f1ef8c34076bc7a74405c8322d6": {
          "model_module": "@jupyter-widgets/controls",
          "model_name": "DescriptionStyleModel",
          "model_module_version": "1.5.0",
          "state": {
            "_model_module": "@jupyter-widgets/controls",
            "_model_module_version": "1.5.0",
            "_model_name": "DescriptionStyleModel",
            "_view_count": null,
            "_view_module": "@jupyter-widgets/base",
            "_view_module_version": "1.2.0",
            "_view_name": "StyleView",
            "description_width": ""
          }
        },
        "309812b558a145f18335426a1d6d3337": {
          "model_module": "@jupyter-widgets/controls",
          "model_name": "HBoxModel",
          "model_module_version": "1.5.0",
          "state": {
            "_dom_classes": [],
            "_model_module": "@jupyter-widgets/controls",
            "_model_module_version": "1.5.0",
            "_model_name": "HBoxModel",
            "_view_count": null,
            "_view_module": "@jupyter-widgets/controls",
            "_view_module_version": "1.5.0",
            "_view_name": "HBoxView",
            "box_style": "",
            "children": [
              "IPY_MODEL_dcb510b85e6544b0a818449f0c075df9",
              "IPY_MODEL_cb89206665104711a08c5674956e2c3f",
              "IPY_MODEL_6fbabdf479284d4795eb6a75df953ef9"
            ],
            "layout": "IPY_MODEL_aef3fcfebcec402a9e18cc7e8ba508e1"
          }
        },
        "dcb510b85e6544b0a818449f0c075df9": {
          "model_module": "@jupyter-widgets/controls",
          "model_name": "HTMLModel",
          "model_module_version": "1.5.0",
          "state": {
            "_dom_classes": [],
            "_model_module": "@jupyter-widgets/controls",
            "_model_module_version": "1.5.0",
            "_model_name": "HTMLModel",
            "_view_count": null,
            "_view_module": "@jupyter-widgets/controls",
            "_view_module_version": "1.5.0",
            "_view_name": "HTMLView",
            "description": "",
            "description_tooltip": null,
            "layout": "IPY_MODEL_dbc3d8d42524424d9317e869adfe1791",
            "placeholder": "​",
            "style": "IPY_MODEL_fc9e9463dcf84af4b5dbd52d84532259",
            "value": "pytorch_model.bin: 100%"
          }
        },
        "cb89206665104711a08c5674956e2c3f": {
          "model_module": "@jupyter-widgets/controls",
          "model_name": "FloatProgressModel",
          "model_module_version": "1.5.0",
          "state": {
            "_dom_classes": [],
            "_model_module": "@jupyter-widgets/controls",
            "_model_module_version": "1.5.0",
            "_model_name": "FloatProgressModel",
            "_view_count": null,
            "_view_module": "@jupyter-widgets/controls",
            "_view_module_version": "1.5.0",
            "_view_name": "ProgressView",
            "bar_style": "success",
            "description": "",
            "description_tooltip": null,
            "layout": "IPY_MODEL_b7761d7759684383b103b11e2fc034b1",
            "max": 75656,
            "min": 0,
            "orientation": "horizontal",
            "style": "IPY_MODEL_656b7999fd4340d992991d08e73a11ee",
            "value": 75656
          }
        },
        "6fbabdf479284d4795eb6a75df953ef9": {
          "model_module": "@jupyter-widgets/controls",
          "model_name": "HTMLModel",
          "model_module_version": "1.5.0",
          "state": {
            "_dom_classes": [],
            "_model_module": "@jupyter-widgets/controls",
            "_model_module_version": "1.5.0",
            "_model_name": "HTMLModel",
            "_view_count": null,
            "_view_module": "@jupyter-widgets/controls",
            "_view_module_version": "1.5.0",
            "_view_name": "HTMLView",
            "description": "",
            "description_tooltip": null,
            "layout": "IPY_MODEL_ce6101cd5ee94c85be13161254c08575",
            "placeholder": "​",
            "style": "IPY_MODEL_3e4ad95380e54a8796f67e166f8f37ac",
            "value": " 75.7k/75.7k [00:00&lt;00:00, 140kB/s]"
          }
        },
        "aef3fcfebcec402a9e18cc7e8ba508e1": {
          "model_module": "@jupyter-widgets/base",
          "model_name": "LayoutModel",
          "model_module_version": "1.2.0",
          "state": {
            "_model_module": "@jupyter-widgets/base",
            "_model_module_version": "1.2.0",
            "_model_name": "LayoutModel",
            "_view_count": null,
            "_view_module": "@jupyter-widgets/base",
            "_view_module_version": "1.2.0",
            "_view_name": "LayoutView",
            "align_content": null,
            "align_items": null,
            "align_self": null,
            "border": null,
            "bottom": null,
            "display": null,
            "flex": null,
            "flex_flow": null,
            "grid_area": null,
            "grid_auto_columns": null,
            "grid_auto_flow": null,
            "grid_auto_rows": null,
            "grid_column": null,
            "grid_gap": null,
            "grid_row": null,
            "grid_template_areas": null,
            "grid_template_columns": null,
            "grid_template_rows": null,
            "height": null,
            "justify_content": null,
            "justify_items": null,
            "left": null,
            "margin": null,
            "max_height": null,
            "max_width": null,
            "min_height": null,
            "min_width": null,
            "object_fit": null,
            "object_position": null,
            "order": null,
            "overflow": null,
            "overflow_x": null,
            "overflow_y": null,
            "padding": null,
            "right": null,
            "top": null,
            "visibility": null,
            "width": null
          }
        },
        "dbc3d8d42524424d9317e869adfe1791": {
          "model_module": "@jupyter-widgets/base",
          "model_name": "LayoutModel",
          "model_module_version": "1.2.0",
          "state": {
            "_model_module": "@jupyter-widgets/base",
            "_model_module_version": "1.2.0",
            "_model_name": "LayoutModel",
            "_view_count": null,
            "_view_module": "@jupyter-widgets/base",
            "_view_module_version": "1.2.0",
            "_view_name": "LayoutView",
            "align_content": null,
            "align_items": null,
            "align_self": null,
            "border": null,
            "bottom": null,
            "display": null,
            "flex": null,
            "flex_flow": null,
            "grid_area": null,
            "grid_auto_columns": null,
            "grid_auto_flow": null,
            "grid_auto_rows": null,
            "grid_column": null,
            "grid_gap": null,
            "grid_row": null,
            "grid_template_areas": null,
            "grid_template_columns": null,
            "grid_template_rows": null,
            "height": null,
            "justify_content": null,
            "justify_items": null,
            "left": null,
            "margin": null,
            "max_height": null,
            "max_width": null,
            "min_height": null,
            "min_width": null,
            "object_fit": null,
            "object_position": null,
            "order": null,
            "overflow": null,
            "overflow_x": null,
            "overflow_y": null,
            "padding": null,
            "right": null,
            "top": null,
            "visibility": null,
            "width": null
          }
        },
        "fc9e9463dcf84af4b5dbd52d84532259": {
          "model_module": "@jupyter-widgets/controls",
          "model_name": "DescriptionStyleModel",
          "model_module_version": "1.5.0",
          "state": {
            "_model_module": "@jupyter-widgets/controls",
            "_model_module_version": "1.5.0",
            "_model_name": "DescriptionStyleModel",
            "_view_count": null,
            "_view_module": "@jupyter-widgets/base",
            "_view_module_version": "1.2.0",
            "_view_name": "StyleView",
            "description_width": ""
          }
        },
        "b7761d7759684383b103b11e2fc034b1": {
          "model_module": "@jupyter-widgets/base",
          "model_name": "LayoutModel",
          "model_module_version": "1.2.0",
          "state": {
            "_model_module": "@jupyter-widgets/base",
            "_model_module_version": "1.2.0",
            "_model_name": "LayoutModel",
            "_view_count": null,
            "_view_module": "@jupyter-widgets/base",
            "_view_module_version": "1.2.0",
            "_view_name": "LayoutView",
            "align_content": null,
            "align_items": null,
            "align_self": null,
            "border": null,
            "bottom": null,
            "display": null,
            "flex": null,
            "flex_flow": null,
            "grid_area": null,
            "grid_auto_columns": null,
            "grid_auto_flow": null,
            "grid_auto_rows": null,
            "grid_column": null,
            "grid_gap": null,
            "grid_row": null,
            "grid_template_areas": null,
            "grid_template_columns": null,
            "grid_template_rows": null,
            "height": null,
            "justify_content": null,
            "justify_items": null,
            "left": null,
            "margin": null,
            "max_height": null,
            "max_width": null,
            "min_height": null,
            "min_width": null,
            "object_fit": null,
            "object_position": null,
            "order": null,
            "overflow": null,
            "overflow_x": null,
            "overflow_y": null,
            "padding": null,
            "right": null,
            "top": null,
            "visibility": null,
            "width": null
          }
        },
        "656b7999fd4340d992991d08e73a11ee": {
          "model_module": "@jupyter-widgets/controls",
          "model_name": "ProgressStyleModel",
          "model_module_version": "1.5.0",
          "state": {
            "_model_module": "@jupyter-widgets/controls",
            "_model_module_version": "1.5.0",
            "_model_name": "ProgressStyleModel",
            "_view_count": null,
            "_view_module": "@jupyter-widgets/base",
            "_view_module_version": "1.2.0",
            "_view_name": "StyleView",
            "bar_color": null,
            "description_width": ""
          }
        },
        "ce6101cd5ee94c85be13161254c08575": {
          "model_module": "@jupyter-widgets/base",
          "model_name": "LayoutModel",
          "model_module_version": "1.2.0",
          "state": {
            "_model_module": "@jupyter-widgets/base",
            "_model_module_version": "1.2.0",
            "_model_name": "LayoutModel",
            "_view_count": null,
            "_view_module": "@jupyter-widgets/base",
            "_view_module_version": "1.2.0",
            "_view_name": "LayoutView",
            "align_content": null,
            "align_items": null,
            "align_self": null,
            "border": null,
            "bottom": null,
            "display": null,
            "flex": null,
            "flex_flow": null,
            "grid_area": null,
            "grid_auto_columns": null,
            "grid_auto_flow": null,
            "grid_auto_rows": null,
            "grid_column": null,
            "grid_gap": null,
            "grid_row": null,
            "grid_template_areas": null,
            "grid_template_columns": null,
            "grid_template_rows": null,
            "height": null,
            "justify_content": null,
            "justify_items": null,
            "left": null,
            "margin": null,
            "max_height": null,
            "max_width": null,
            "min_height": null,
            "min_width": null,
            "object_fit": null,
            "object_position": null,
            "order": null,
            "overflow": null,
            "overflow_x": null,
            "overflow_y": null,
            "padding": null,
            "right": null,
            "top": null,
            "visibility": null,
            "width": null
          }
        },
        "3e4ad95380e54a8796f67e166f8f37ac": {
          "model_module": "@jupyter-widgets/controls",
          "model_name": "DescriptionStyleModel",
          "model_module_version": "1.5.0",
          "state": {
            "_model_module": "@jupyter-widgets/controls",
            "_model_module_version": "1.5.0",
            "_model_name": "DescriptionStyleModel",
            "_view_count": null,
            "_view_module": "@jupyter-widgets/base",
            "_view_module_version": "1.2.0",
            "_view_name": "StyleView",
            "description_width": ""
          }
        },
        "604b61c306694e67ba2eed9b9d684a9f": {
          "model_module": "@jupyter-widgets/controls",
          "model_name": "HBoxModel",
          "model_module_version": "1.5.0",
          "state": {
            "_dom_classes": [],
            "_model_module": "@jupyter-widgets/controls",
            "_model_module_version": "1.5.0",
            "_model_name": "HBoxModel",
            "_view_count": null,
            "_view_module": "@jupyter-widgets/controls",
            "_view_module_version": "1.5.0",
            "_view_name": "HBoxView",
            "box_style": "",
            "children": [
              "IPY_MODEL_e9a1c0d5272741ea9afa502936b85379",
              "IPY_MODEL_ba83f54136e440a69dda1c49e432543f",
              "IPY_MODEL_073c2d021a0e4acbbea43a210d463fb8"
            ],
            "layout": "IPY_MODEL_061d4e44850a45338dafeff385780eb2"
          }
        },
        "e9a1c0d5272741ea9afa502936b85379": {
          "model_module": "@jupyter-widgets/controls",
          "model_name": "HTMLModel",
          "model_module_version": "1.5.0",
          "state": {
            "_dom_classes": [],
            "_model_module": "@jupyter-widgets/controls",
            "_model_module_version": "1.5.0",
            "_model_name": "HTMLModel",
            "_view_count": null,
            "_view_module": "@jupyter-widgets/controls",
            "_view_module_version": "1.5.0",
            "_view_name": "HTMLView",
            "description": "",
            "description_tooltip": null,
            "layout": "IPY_MODEL_7d4ea4a1861e403285afd9e4ee2be1b3",
            "placeholder": "​",
            "style": "IPY_MODEL_131809848cd546e983f3100ceb3839d1",
            "value": "pytorch_model.bin: 100%"
          }
        },
        "ba83f54136e440a69dda1c49e432543f": {
          "model_module": "@jupyter-widgets/controls",
          "model_name": "FloatProgressModel",
          "model_module_version": "1.5.0",
          "state": {
            "_dom_classes": [],
            "_model_module": "@jupyter-widgets/controls",
            "_model_module_version": "1.5.0",
            "_model_name": "FloatProgressModel",
            "_view_count": null,
            "_view_module": "@jupyter-widgets/controls",
            "_view_module_version": "1.5.0",
            "_view_name": "ProgressView",
            "bar_style": "success",
            "description": "",
            "description_tooltip": null,
            "layout": "IPY_MODEL_c0642548ca0644a9bb37c26fcf1835d9",
            "max": 75656,
            "min": 0,
            "orientation": "horizontal",
            "style": "IPY_MODEL_2790378674da4ff0aafdf289925f21a0",
            "value": 75656
          }
        },
        "073c2d021a0e4acbbea43a210d463fb8": {
          "model_module": "@jupyter-widgets/controls",
          "model_name": "HTMLModel",
          "model_module_version": "1.5.0",
          "state": {
            "_dom_classes": [],
            "_model_module": "@jupyter-widgets/controls",
            "_model_module_version": "1.5.0",
            "_model_name": "HTMLModel",
            "_view_count": null,
            "_view_module": "@jupyter-widgets/controls",
            "_view_module_version": "1.5.0",
            "_view_name": "HTMLView",
            "description": "",
            "description_tooltip": null,
            "layout": "IPY_MODEL_655c81444e14477d9cb82df34e0b9a5b",
            "placeholder": "​",
            "style": "IPY_MODEL_23cc55d029f44df6a0c4aaeb79c54a5d",
            "value": " 75.7k/75.7k [00:00&lt;00:00, 167kB/s]"
          }
        },
        "061d4e44850a45338dafeff385780eb2": {
          "model_module": "@jupyter-widgets/base",
          "model_name": "LayoutModel",
          "model_module_version": "1.2.0",
          "state": {
            "_model_module": "@jupyter-widgets/base",
            "_model_module_version": "1.2.0",
            "_model_name": "LayoutModel",
            "_view_count": null,
            "_view_module": "@jupyter-widgets/base",
            "_view_module_version": "1.2.0",
            "_view_name": "LayoutView",
            "align_content": null,
            "align_items": null,
            "align_self": null,
            "border": null,
            "bottom": null,
            "display": null,
            "flex": null,
            "flex_flow": null,
            "grid_area": null,
            "grid_auto_columns": null,
            "grid_auto_flow": null,
            "grid_auto_rows": null,
            "grid_column": null,
            "grid_gap": null,
            "grid_row": null,
            "grid_template_areas": null,
            "grid_template_columns": null,
            "grid_template_rows": null,
            "height": null,
            "justify_content": null,
            "justify_items": null,
            "left": null,
            "margin": null,
            "max_height": null,
            "max_width": null,
            "min_height": null,
            "min_width": null,
            "object_fit": null,
            "object_position": null,
            "order": null,
            "overflow": null,
            "overflow_x": null,
            "overflow_y": null,
            "padding": null,
            "right": null,
            "top": null,
            "visibility": null,
            "width": null
          }
        },
        "7d4ea4a1861e403285afd9e4ee2be1b3": {
          "model_module": "@jupyter-widgets/base",
          "model_name": "LayoutModel",
          "model_module_version": "1.2.0",
          "state": {
            "_model_module": "@jupyter-widgets/base",
            "_model_module_version": "1.2.0",
            "_model_name": "LayoutModel",
            "_view_count": null,
            "_view_module": "@jupyter-widgets/base",
            "_view_module_version": "1.2.0",
            "_view_name": "LayoutView",
            "align_content": null,
            "align_items": null,
            "align_self": null,
            "border": null,
            "bottom": null,
            "display": null,
            "flex": null,
            "flex_flow": null,
            "grid_area": null,
            "grid_auto_columns": null,
            "grid_auto_flow": null,
            "grid_auto_rows": null,
            "grid_column": null,
            "grid_gap": null,
            "grid_row": null,
            "grid_template_areas": null,
            "grid_template_columns": null,
            "grid_template_rows": null,
            "height": null,
            "justify_content": null,
            "justify_items": null,
            "left": null,
            "margin": null,
            "max_height": null,
            "max_width": null,
            "min_height": null,
            "min_width": null,
            "object_fit": null,
            "object_position": null,
            "order": null,
            "overflow": null,
            "overflow_x": null,
            "overflow_y": null,
            "padding": null,
            "right": null,
            "top": null,
            "visibility": null,
            "width": null
          }
        },
        "131809848cd546e983f3100ceb3839d1": {
          "model_module": "@jupyter-widgets/controls",
          "model_name": "DescriptionStyleModel",
          "model_module_version": "1.5.0",
          "state": {
            "_model_module": "@jupyter-widgets/controls",
            "_model_module_version": "1.5.0",
            "_model_name": "DescriptionStyleModel",
            "_view_count": null,
            "_view_module": "@jupyter-widgets/base",
            "_view_module_version": "1.2.0",
            "_view_name": "StyleView",
            "description_width": ""
          }
        },
        "c0642548ca0644a9bb37c26fcf1835d9": {
          "model_module": "@jupyter-widgets/base",
          "model_name": "LayoutModel",
          "model_module_version": "1.2.0",
          "state": {
            "_model_module": "@jupyter-widgets/base",
            "_model_module_version": "1.2.0",
            "_model_name": "LayoutModel",
            "_view_count": null,
            "_view_module": "@jupyter-widgets/base",
            "_view_module_version": "1.2.0",
            "_view_name": "LayoutView",
            "align_content": null,
            "align_items": null,
            "align_self": null,
            "border": null,
            "bottom": null,
            "display": null,
            "flex": null,
            "flex_flow": null,
            "grid_area": null,
            "grid_auto_columns": null,
            "grid_auto_flow": null,
            "grid_auto_rows": null,
            "grid_column": null,
            "grid_gap": null,
            "grid_row": null,
            "grid_template_areas": null,
            "grid_template_columns": null,
            "grid_template_rows": null,
            "height": null,
            "justify_content": null,
            "justify_items": null,
            "left": null,
            "margin": null,
            "max_height": null,
            "max_width": null,
            "min_height": null,
            "min_width": null,
            "object_fit": null,
            "object_position": null,
            "order": null,
            "overflow": null,
            "overflow_x": null,
            "overflow_y": null,
            "padding": null,
            "right": null,
            "top": null,
            "visibility": null,
            "width": null
          }
        },
        "2790378674da4ff0aafdf289925f21a0": {
          "model_module": "@jupyter-widgets/controls",
          "model_name": "ProgressStyleModel",
          "model_module_version": "1.5.0",
          "state": {
            "_model_module": "@jupyter-widgets/controls",
            "_model_module_version": "1.5.0",
            "_model_name": "ProgressStyleModel",
            "_view_count": null,
            "_view_module": "@jupyter-widgets/base",
            "_view_module_version": "1.2.0",
            "_view_name": "StyleView",
            "bar_color": null,
            "description_width": ""
          }
        },
        "655c81444e14477d9cb82df34e0b9a5b": {
          "model_module": "@jupyter-widgets/base",
          "model_name": "LayoutModel",
          "model_module_version": "1.2.0",
          "state": {
            "_model_module": "@jupyter-widgets/base",
            "_model_module_version": "1.2.0",
            "_model_name": "LayoutModel",
            "_view_count": null,
            "_view_module": "@jupyter-widgets/base",
            "_view_module_version": "1.2.0",
            "_view_name": "LayoutView",
            "align_content": null,
            "align_items": null,
            "align_self": null,
            "border": null,
            "bottom": null,
            "display": null,
            "flex": null,
            "flex_flow": null,
            "grid_area": null,
            "grid_auto_columns": null,
            "grid_auto_flow": null,
            "grid_auto_rows": null,
            "grid_column": null,
            "grid_gap": null,
            "grid_row": null,
            "grid_template_areas": null,
            "grid_template_columns": null,
            "grid_template_rows": null,
            "height": null,
            "justify_content": null,
            "justify_items": null,
            "left": null,
            "margin": null,
            "max_height": null,
            "max_width": null,
            "min_height": null,
            "min_width": null,
            "object_fit": null,
            "object_position": null,
            "order": null,
            "overflow": null,
            "overflow_x": null,
            "overflow_y": null,
            "padding": null,
            "right": null,
            "top": null,
            "visibility": null,
            "width": null
          }
        },
        "23cc55d029f44df6a0c4aaeb79c54a5d": {
          "model_module": "@jupyter-widgets/controls",
          "model_name": "DescriptionStyleModel",
          "model_module_version": "1.5.0",
          "state": {
            "_model_module": "@jupyter-widgets/controls",
            "_model_module_version": "1.5.0",
            "_model_name": "DescriptionStyleModel",
            "_view_count": null,
            "_view_module": "@jupyter-widgets/base",
            "_view_module_version": "1.2.0",
            "_view_name": "StyleView",
            "description_width": ""
          }
        },
        "df1875f724044d38a9ec986181cb9518": {
          "model_module": "@jupyter-widgets/controls",
          "model_name": "HBoxModel",
          "model_module_version": "1.5.0",
          "state": {
            "_dom_classes": [],
            "_model_module": "@jupyter-widgets/controls",
            "_model_module_version": "1.5.0",
            "_model_name": "HBoxModel",
            "_view_count": null,
            "_view_module": "@jupyter-widgets/controls",
            "_view_module_version": "1.5.0",
            "_view_name": "HBoxView",
            "box_style": "",
            "children": [
              "IPY_MODEL_fa56c545833b42c79505810f5372d71f",
              "IPY_MODEL_6cef516ab0dd4fec9fcad848b30eb8ca",
              "IPY_MODEL_4e4d96ebac994fc8a508d1f208e36fc6"
            ],
            "layout": "IPY_MODEL_aafea20e37184db9a0e402e23c082010"
          }
        },
        "fa56c545833b42c79505810f5372d71f": {
          "model_module": "@jupyter-widgets/controls",
          "model_name": "HTMLModel",
          "model_module_version": "1.5.0",
          "state": {
            "_dom_classes": [],
            "_model_module": "@jupyter-widgets/controls",
            "_model_module_version": "1.5.0",
            "_model_name": "HTMLModel",
            "_view_count": null,
            "_view_module": "@jupyter-widgets/controls",
            "_view_module_version": "1.5.0",
            "_view_name": "HTMLView",
            "description": "",
            "description_tooltip": null,
            "layout": "IPY_MODEL_18f9d6d0e18647f1811a6c285fa30251",
            "placeholder": "​",
            "style": "IPY_MODEL_b13fc891dc934b1bb15c44fca5b1a474",
            "value": "pytorch_model.bin: 100%"
          }
        },
        "6cef516ab0dd4fec9fcad848b30eb8ca": {
          "model_module": "@jupyter-widgets/controls",
          "model_name": "FloatProgressModel",
          "model_module_version": "1.5.0",
          "state": {
            "_dom_classes": [],
            "_model_module": "@jupyter-widgets/controls",
            "_model_module_version": "1.5.0",
            "_model_name": "FloatProgressModel",
            "_view_count": null,
            "_view_module": "@jupyter-widgets/controls",
            "_view_module_version": "1.5.0",
            "_view_name": "ProgressView",
            "bar_style": "success",
            "description": "",
            "description_tooltip": null,
            "layout": "IPY_MODEL_038b38c510e240108c70318e28f31d9f",
            "max": 75656,
            "min": 0,
            "orientation": "horizontal",
            "style": "IPY_MODEL_ab3da139ba6b41a9b2ce569a1b396882",
            "value": 75656
          }
        },
        "4e4d96ebac994fc8a508d1f208e36fc6": {
          "model_module": "@jupyter-widgets/controls",
          "model_name": "HTMLModel",
          "model_module_version": "1.5.0",
          "state": {
            "_dom_classes": [],
            "_model_module": "@jupyter-widgets/controls",
            "_model_module_version": "1.5.0",
            "_model_name": "HTMLModel",
            "_view_count": null,
            "_view_module": "@jupyter-widgets/controls",
            "_view_module_version": "1.5.0",
            "_view_name": "HTMLView",
            "description": "",
            "description_tooltip": null,
            "layout": "IPY_MODEL_c6b88b36ac364369a7ef3c4b68688217",
            "placeholder": "​",
            "style": "IPY_MODEL_4c6a12c7b86443c895489c85be52cfd9",
            "value": " 75.7k/75.7k [00:00&lt;00:00, 154kB/s]"
          }
        },
        "aafea20e37184db9a0e402e23c082010": {
          "model_module": "@jupyter-widgets/base",
          "model_name": "LayoutModel",
          "model_module_version": "1.2.0",
          "state": {
            "_model_module": "@jupyter-widgets/base",
            "_model_module_version": "1.2.0",
            "_model_name": "LayoutModel",
            "_view_count": null,
            "_view_module": "@jupyter-widgets/base",
            "_view_module_version": "1.2.0",
            "_view_name": "LayoutView",
            "align_content": null,
            "align_items": null,
            "align_self": null,
            "border": null,
            "bottom": null,
            "display": null,
            "flex": null,
            "flex_flow": null,
            "grid_area": null,
            "grid_auto_columns": null,
            "grid_auto_flow": null,
            "grid_auto_rows": null,
            "grid_column": null,
            "grid_gap": null,
            "grid_row": null,
            "grid_template_areas": null,
            "grid_template_columns": null,
            "grid_template_rows": null,
            "height": null,
            "justify_content": null,
            "justify_items": null,
            "left": null,
            "margin": null,
            "max_height": null,
            "max_width": null,
            "min_height": null,
            "min_width": null,
            "object_fit": null,
            "object_position": null,
            "order": null,
            "overflow": null,
            "overflow_x": null,
            "overflow_y": null,
            "padding": null,
            "right": null,
            "top": null,
            "visibility": null,
            "width": null
          }
        },
        "18f9d6d0e18647f1811a6c285fa30251": {
          "model_module": "@jupyter-widgets/base",
          "model_name": "LayoutModel",
          "model_module_version": "1.2.0",
          "state": {
            "_model_module": "@jupyter-widgets/base",
            "_model_module_version": "1.2.0",
            "_model_name": "LayoutModel",
            "_view_count": null,
            "_view_module": "@jupyter-widgets/base",
            "_view_module_version": "1.2.0",
            "_view_name": "LayoutView",
            "align_content": null,
            "align_items": null,
            "align_self": null,
            "border": null,
            "bottom": null,
            "display": null,
            "flex": null,
            "flex_flow": null,
            "grid_area": null,
            "grid_auto_columns": null,
            "grid_auto_flow": null,
            "grid_auto_rows": null,
            "grid_column": null,
            "grid_gap": null,
            "grid_row": null,
            "grid_template_areas": null,
            "grid_template_columns": null,
            "grid_template_rows": null,
            "height": null,
            "justify_content": null,
            "justify_items": null,
            "left": null,
            "margin": null,
            "max_height": null,
            "max_width": null,
            "min_height": null,
            "min_width": null,
            "object_fit": null,
            "object_position": null,
            "order": null,
            "overflow": null,
            "overflow_x": null,
            "overflow_y": null,
            "padding": null,
            "right": null,
            "top": null,
            "visibility": null,
            "width": null
          }
        },
        "b13fc891dc934b1bb15c44fca5b1a474": {
          "model_module": "@jupyter-widgets/controls",
          "model_name": "DescriptionStyleModel",
          "model_module_version": "1.5.0",
          "state": {
            "_model_module": "@jupyter-widgets/controls",
            "_model_module_version": "1.5.0",
            "_model_name": "DescriptionStyleModel",
            "_view_count": null,
            "_view_module": "@jupyter-widgets/base",
            "_view_module_version": "1.2.0",
            "_view_name": "StyleView",
            "description_width": ""
          }
        },
        "038b38c510e240108c70318e28f31d9f": {
          "model_module": "@jupyter-widgets/base",
          "model_name": "LayoutModel",
          "model_module_version": "1.2.0",
          "state": {
            "_model_module": "@jupyter-widgets/base",
            "_model_module_version": "1.2.0",
            "_model_name": "LayoutModel",
            "_view_count": null,
            "_view_module": "@jupyter-widgets/base",
            "_view_module_version": "1.2.0",
            "_view_name": "LayoutView",
            "align_content": null,
            "align_items": null,
            "align_self": null,
            "border": null,
            "bottom": null,
            "display": null,
            "flex": null,
            "flex_flow": null,
            "grid_area": null,
            "grid_auto_columns": null,
            "grid_auto_flow": null,
            "grid_auto_rows": null,
            "grid_column": null,
            "grid_gap": null,
            "grid_row": null,
            "grid_template_areas": null,
            "grid_template_columns": null,
            "grid_template_rows": null,
            "height": null,
            "justify_content": null,
            "justify_items": null,
            "left": null,
            "margin": null,
            "max_height": null,
            "max_width": null,
            "min_height": null,
            "min_width": null,
            "object_fit": null,
            "object_position": null,
            "order": null,
            "overflow": null,
            "overflow_x": null,
            "overflow_y": null,
            "padding": null,
            "right": null,
            "top": null,
            "visibility": null,
            "width": null
          }
        },
        "ab3da139ba6b41a9b2ce569a1b396882": {
          "model_module": "@jupyter-widgets/controls",
          "model_name": "ProgressStyleModel",
          "model_module_version": "1.5.0",
          "state": {
            "_model_module": "@jupyter-widgets/controls",
            "_model_module_version": "1.5.0",
            "_model_name": "ProgressStyleModel",
            "_view_count": null,
            "_view_module": "@jupyter-widgets/base",
            "_view_module_version": "1.2.0",
            "_view_name": "StyleView",
            "bar_color": null,
            "description_width": ""
          }
        },
        "c6b88b36ac364369a7ef3c4b68688217": {
          "model_module": "@jupyter-widgets/base",
          "model_name": "LayoutModel",
          "model_module_version": "1.2.0",
          "state": {
            "_model_module": "@jupyter-widgets/base",
            "_model_module_version": "1.2.0",
            "_model_name": "LayoutModel",
            "_view_count": null,
            "_view_module": "@jupyter-widgets/base",
            "_view_module_version": "1.2.0",
            "_view_name": "LayoutView",
            "align_content": null,
            "align_items": null,
            "align_self": null,
            "border": null,
            "bottom": null,
            "display": null,
            "flex": null,
            "flex_flow": null,
            "grid_area": null,
            "grid_auto_columns": null,
            "grid_auto_flow": null,
            "grid_auto_rows": null,
            "grid_column": null,
            "grid_gap": null,
            "grid_row": null,
            "grid_template_areas": null,
            "grid_template_columns": null,
            "grid_template_rows": null,
            "height": null,
            "justify_content": null,
            "justify_items": null,
            "left": null,
            "margin": null,
            "max_height": null,
            "max_width": null,
            "min_height": null,
            "min_width": null,
            "object_fit": null,
            "object_position": null,
            "order": null,
            "overflow": null,
            "overflow_x": null,
            "overflow_y": null,
            "padding": null,
            "right": null,
            "top": null,
            "visibility": null,
            "width": null
          }
        },
        "4c6a12c7b86443c895489c85be52cfd9": {
          "model_module": "@jupyter-widgets/controls",
          "model_name": "DescriptionStyleModel",
          "model_module_version": "1.5.0",
          "state": {
            "_model_module": "@jupyter-widgets/controls",
            "_model_module_version": "1.5.0",
            "_model_name": "DescriptionStyleModel",
            "_view_count": null,
            "_view_module": "@jupyter-widgets/base",
            "_view_module_version": "1.2.0",
            "_view_name": "StyleView",
            "description_width": ""
          }
        },
        "d475b5ca0da94f51b524b951ff66e38f": {
          "model_module": "@jupyter-widgets/controls",
          "model_name": "HBoxModel",
          "model_module_version": "1.5.0",
          "state": {
            "_dom_classes": [],
            "_model_module": "@jupyter-widgets/controls",
            "_model_module_version": "1.5.0",
            "_model_name": "HBoxModel",
            "_view_count": null,
            "_view_module": "@jupyter-widgets/controls",
            "_view_module_version": "1.5.0",
            "_view_name": "HBoxView",
            "box_style": "",
            "children": [
              "IPY_MODEL_a87b0fdfd47c43c39cb2b1ce7a7c9057",
              "IPY_MODEL_9eb89514e68f4d1e81083e7763038308",
              "IPY_MODEL_f9037e608f2c4f7984c64aeeb586d0f7"
            ],
            "layout": "IPY_MODEL_19d25badda4e430ea8e101b58dd98cd8"
          }
        },
        "a87b0fdfd47c43c39cb2b1ce7a7c9057": {
          "model_module": "@jupyter-widgets/controls",
          "model_name": "HTMLModel",
          "model_module_version": "1.5.0",
          "state": {
            "_dom_classes": [],
            "_model_module": "@jupyter-widgets/controls",
            "_model_module_version": "1.5.0",
            "_model_name": "HTMLModel",
            "_view_count": null,
            "_view_module": "@jupyter-widgets/controls",
            "_view_module_version": "1.5.0",
            "_view_name": "HTMLView",
            "description": "",
            "description_tooltip": null,
            "layout": "IPY_MODEL_1e4aff9226a8453b81945484d2be48ca",
            "placeholder": "​",
            "style": "IPY_MODEL_18bb93fe7f614ddca9292aee3e0a4448",
            "value": "pytorch_model.bin: 100%"
          }
        },
        "9eb89514e68f4d1e81083e7763038308": {
          "model_module": "@jupyter-widgets/controls",
          "model_name": "FloatProgressModel",
          "model_module_version": "1.5.0",
          "state": {
            "_dom_classes": [],
            "_model_module": "@jupyter-widgets/controls",
            "_model_module_version": "1.5.0",
            "_model_name": "FloatProgressModel",
            "_view_count": null,
            "_view_module": "@jupyter-widgets/controls",
            "_view_module_version": "1.5.0",
            "_view_name": "ProgressView",
            "bar_style": "success",
            "description": "",
            "description_tooltip": null,
            "layout": "IPY_MODEL_0961a27e66a149039c11a4e8c491fd18",
            "max": 75656,
            "min": 0,
            "orientation": "horizontal",
            "style": "IPY_MODEL_2503c4d8f6eb42bba40e57ad9b557c14",
            "value": 75656
          }
        },
        "f9037e608f2c4f7984c64aeeb586d0f7": {
          "model_module": "@jupyter-widgets/controls",
          "model_name": "HTMLModel",
          "model_module_version": "1.5.0",
          "state": {
            "_dom_classes": [],
            "_model_module": "@jupyter-widgets/controls",
            "_model_module_version": "1.5.0",
            "_model_name": "HTMLModel",
            "_view_count": null,
            "_view_module": "@jupyter-widgets/controls",
            "_view_module_version": "1.5.0",
            "_view_name": "HTMLView",
            "description": "",
            "description_tooltip": null,
            "layout": "IPY_MODEL_3c0281f6d4024d34b1e0fba3edeac242",
            "placeholder": "​",
            "style": "IPY_MODEL_28797916d3c443a8a867c4004a4ad116",
            "value": " 75.7k/75.7k [00:00&lt;00:00, 172kB/s]"
          }
        },
        "19d25badda4e430ea8e101b58dd98cd8": {
          "model_module": "@jupyter-widgets/base",
          "model_name": "LayoutModel",
          "model_module_version": "1.2.0",
          "state": {
            "_model_module": "@jupyter-widgets/base",
            "_model_module_version": "1.2.0",
            "_model_name": "LayoutModel",
            "_view_count": null,
            "_view_module": "@jupyter-widgets/base",
            "_view_module_version": "1.2.0",
            "_view_name": "LayoutView",
            "align_content": null,
            "align_items": null,
            "align_self": null,
            "border": null,
            "bottom": null,
            "display": null,
            "flex": null,
            "flex_flow": null,
            "grid_area": null,
            "grid_auto_columns": null,
            "grid_auto_flow": null,
            "grid_auto_rows": null,
            "grid_column": null,
            "grid_gap": null,
            "grid_row": null,
            "grid_template_areas": null,
            "grid_template_columns": null,
            "grid_template_rows": null,
            "height": null,
            "justify_content": null,
            "justify_items": null,
            "left": null,
            "margin": null,
            "max_height": null,
            "max_width": null,
            "min_height": null,
            "min_width": null,
            "object_fit": null,
            "object_position": null,
            "order": null,
            "overflow": null,
            "overflow_x": null,
            "overflow_y": null,
            "padding": null,
            "right": null,
            "top": null,
            "visibility": null,
            "width": null
          }
        },
        "1e4aff9226a8453b81945484d2be48ca": {
          "model_module": "@jupyter-widgets/base",
          "model_name": "LayoutModel",
          "model_module_version": "1.2.0",
          "state": {
            "_model_module": "@jupyter-widgets/base",
            "_model_module_version": "1.2.0",
            "_model_name": "LayoutModel",
            "_view_count": null,
            "_view_module": "@jupyter-widgets/base",
            "_view_module_version": "1.2.0",
            "_view_name": "LayoutView",
            "align_content": null,
            "align_items": null,
            "align_self": null,
            "border": null,
            "bottom": null,
            "display": null,
            "flex": null,
            "flex_flow": null,
            "grid_area": null,
            "grid_auto_columns": null,
            "grid_auto_flow": null,
            "grid_auto_rows": null,
            "grid_column": null,
            "grid_gap": null,
            "grid_row": null,
            "grid_template_areas": null,
            "grid_template_columns": null,
            "grid_template_rows": null,
            "height": null,
            "justify_content": null,
            "justify_items": null,
            "left": null,
            "margin": null,
            "max_height": null,
            "max_width": null,
            "min_height": null,
            "min_width": null,
            "object_fit": null,
            "object_position": null,
            "order": null,
            "overflow": null,
            "overflow_x": null,
            "overflow_y": null,
            "padding": null,
            "right": null,
            "top": null,
            "visibility": null,
            "width": null
          }
        },
        "18bb93fe7f614ddca9292aee3e0a4448": {
          "model_module": "@jupyter-widgets/controls",
          "model_name": "DescriptionStyleModel",
          "model_module_version": "1.5.0",
          "state": {
            "_model_module": "@jupyter-widgets/controls",
            "_model_module_version": "1.5.0",
            "_model_name": "DescriptionStyleModel",
            "_view_count": null,
            "_view_module": "@jupyter-widgets/base",
            "_view_module_version": "1.2.0",
            "_view_name": "StyleView",
            "description_width": ""
          }
        },
        "0961a27e66a149039c11a4e8c491fd18": {
          "model_module": "@jupyter-widgets/base",
          "model_name": "LayoutModel",
          "model_module_version": "1.2.0",
          "state": {
            "_model_module": "@jupyter-widgets/base",
            "_model_module_version": "1.2.0",
            "_model_name": "LayoutModel",
            "_view_count": null,
            "_view_module": "@jupyter-widgets/base",
            "_view_module_version": "1.2.0",
            "_view_name": "LayoutView",
            "align_content": null,
            "align_items": null,
            "align_self": null,
            "border": null,
            "bottom": null,
            "display": null,
            "flex": null,
            "flex_flow": null,
            "grid_area": null,
            "grid_auto_columns": null,
            "grid_auto_flow": null,
            "grid_auto_rows": null,
            "grid_column": null,
            "grid_gap": null,
            "grid_row": null,
            "grid_template_areas": null,
            "grid_template_columns": null,
            "grid_template_rows": null,
            "height": null,
            "justify_content": null,
            "justify_items": null,
            "left": null,
            "margin": null,
            "max_height": null,
            "max_width": null,
            "min_height": null,
            "min_width": null,
            "object_fit": null,
            "object_position": null,
            "order": null,
            "overflow": null,
            "overflow_x": null,
            "overflow_y": null,
            "padding": null,
            "right": null,
            "top": null,
            "visibility": null,
            "width": null
          }
        },
        "2503c4d8f6eb42bba40e57ad9b557c14": {
          "model_module": "@jupyter-widgets/controls",
          "model_name": "ProgressStyleModel",
          "model_module_version": "1.5.0",
          "state": {
            "_model_module": "@jupyter-widgets/controls",
            "_model_module_version": "1.5.0",
            "_model_name": "ProgressStyleModel",
            "_view_count": null,
            "_view_module": "@jupyter-widgets/base",
            "_view_module_version": "1.2.0",
            "_view_name": "StyleView",
            "bar_color": null,
            "description_width": ""
          }
        },
        "3c0281f6d4024d34b1e0fba3edeac242": {
          "model_module": "@jupyter-widgets/base",
          "model_name": "LayoutModel",
          "model_module_version": "1.2.0",
          "state": {
            "_model_module": "@jupyter-widgets/base",
            "_model_module_version": "1.2.0",
            "_model_name": "LayoutModel",
            "_view_count": null,
            "_view_module": "@jupyter-widgets/base",
            "_view_module_version": "1.2.0",
            "_view_name": "LayoutView",
            "align_content": null,
            "align_items": null,
            "align_self": null,
            "border": null,
            "bottom": null,
            "display": null,
            "flex": null,
            "flex_flow": null,
            "grid_area": null,
            "grid_auto_columns": null,
            "grid_auto_flow": null,
            "grid_auto_rows": null,
            "grid_column": null,
            "grid_gap": null,
            "grid_row": null,
            "grid_template_areas": null,
            "grid_template_columns": null,
            "grid_template_rows": null,
            "height": null,
            "justify_content": null,
            "justify_items": null,
            "left": null,
            "margin": null,
            "max_height": null,
            "max_width": null,
            "min_height": null,
            "min_width": null,
            "object_fit": null,
            "object_position": null,
            "order": null,
            "overflow": null,
            "overflow_x": null,
            "overflow_y": null,
            "padding": null,
            "right": null,
            "top": null,
            "visibility": null,
            "width": null
          }
        },
        "28797916d3c443a8a867c4004a4ad116": {
          "model_module": "@jupyter-widgets/controls",
          "model_name": "DescriptionStyleModel",
          "model_module_version": "1.5.0",
          "state": {
            "_model_module": "@jupyter-widgets/controls",
            "_model_module_version": "1.5.0",
            "_model_name": "DescriptionStyleModel",
            "_view_count": null,
            "_view_module": "@jupyter-widgets/base",
            "_view_module_version": "1.2.0",
            "_view_name": "StyleView",
            "description_width": ""
          }
        },
        "312656ffc49a4a96b074604cdb575c41": {
          "model_module": "@jupyter-widgets/controls",
          "model_name": "HBoxModel",
          "model_module_version": "1.5.0",
          "state": {
            "_dom_classes": [],
            "_model_module": "@jupyter-widgets/controls",
            "_model_module_version": "1.5.0",
            "_model_name": "HBoxModel",
            "_view_count": null,
            "_view_module": "@jupyter-widgets/controls",
            "_view_module_version": "1.5.0",
            "_view_name": "HBoxView",
            "box_style": "",
            "children": [
              "IPY_MODEL_10c098f03f6d49dda1b05ba29a187fec",
              "IPY_MODEL_ce09c180e46f4810b1c93488455035f4",
              "IPY_MODEL_988238a76c034805b9db0679a110c6bb"
            ],
            "layout": "IPY_MODEL_56a5e63491d541aeaafd40e93cd8f867"
          }
        },
        "10c098f03f6d49dda1b05ba29a187fec": {
          "model_module": "@jupyter-widgets/controls",
          "model_name": "HTMLModel",
          "model_module_version": "1.5.0",
          "state": {
            "_dom_classes": [],
            "_model_module": "@jupyter-widgets/controls",
            "_model_module_version": "1.5.0",
            "_model_name": "HTMLModel",
            "_view_count": null,
            "_view_module": "@jupyter-widgets/controls",
            "_view_module_version": "1.5.0",
            "_view_name": "HTMLView",
            "description": "",
            "description_tooltip": null,
            "layout": "IPY_MODEL_bd866eeac6da4630ad2a3db5af00c855",
            "placeholder": "​",
            "style": "IPY_MODEL_6109777af08d4998a4ed7213e4270502",
            "value": "pytorch_model.bin: 100%"
          }
        },
        "ce09c180e46f4810b1c93488455035f4": {
          "model_module": "@jupyter-widgets/controls",
          "model_name": "FloatProgressModel",
          "model_module_version": "1.5.0",
          "state": {
            "_dom_classes": [],
            "_model_module": "@jupyter-widgets/controls",
            "_model_module_version": "1.5.0",
            "_model_name": "FloatProgressModel",
            "_view_count": null,
            "_view_module": "@jupyter-widgets/controls",
            "_view_module_version": "1.5.0",
            "_view_name": "ProgressView",
            "bar_style": "success",
            "description": "",
            "description_tooltip": null,
            "layout": "IPY_MODEL_5e2fd10266184a1ab21e8f3238018231",
            "max": 75656,
            "min": 0,
            "orientation": "horizontal",
            "style": "IPY_MODEL_7519c7e3a5a04e11ad2deba9b57d25f7",
            "value": 75656
          }
        },
        "988238a76c034805b9db0679a110c6bb": {
          "model_module": "@jupyter-widgets/controls",
          "model_name": "HTMLModel",
          "model_module_version": "1.5.0",
          "state": {
            "_dom_classes": [],
            "_model_module": "@jupyter-widgets/controls",
            "_model_module_version": "1.5.0",
            "_model_name": "HTMLModel",
            "_view_count": null,
            "_view_module": "@jupyter-widgets/controls",
            "_view_module_version": "1.5.0",
            "_view_name": "HTMLView",
            "description": "",
            "description_tooltip": null,
            "layout": "IPY_MODEL_2ecfedb4da734dd4b6afec11fd3277e1",
            "placeholder": "​",
            "style": "IPY_MODEL_f4660babbb744d7d83b4e6219cb1b1ef",
            "value": " 75.7k/75.7k [00:00&lt;00:00, 171kB/s]"
          }
        },
        "56a5e63491d541aeaafd40e93cd8f867": {
          "model_module": "@jupyter-widgets/base",
          "model_name": "LayoutModel",
          "model_module_version": "1.2.0",
          "state": {
            "_model_module": "@jupyter-widgets/base",
            "_model_module_version": "1.2.0",
            "_model_name": "LayoutModel",
            "_view_count": null,
            "_view_module": "@jupyter-widgets/base",
            "_view_module_version": "1.2.0",
            "_view_name": "LayoutView",
            "align_content": null,
            "align_items": null,
            "align_self": null,
            "border": null,
            "bottom": null,
            "display": null,
            "flex": null,
            "flex_flow": null,
            "grid_area": null,
            "grid_auto_columns": null,
            "grid_auto_flow": null,
            "grid_auto_rows": null,
            "grid_column": null,
            "grid_gap": null,
            "grid_row": null,
            "grid_template_areas": null,
            "grid_template_columns": null,
            "grid_template_rows": null,
            "height": null,
            "justify_content": null,
            "justify_items": null,
            "left": null,
            "margin": null,
            "max_height": null,
            "max_width": null,
            "min_height": null,
            "min_width": null,
            "object_fit": null,
            "object_position": null,
            "order": null,
            "overflow": null,
            "overflow_x": null,
            "overflow_y": null,
            "padding": null,
            "right": null,
            "top": null,
            "visibility": null,
            "width": null
          }
        },
        "bd866eeac6da4630ad2a3db5af00c855": {
          "model_module": "@jupyter-widgets/base",
          "model_name": "LayoutModel",
          "model_module_version": "1.2.0",
          "state": {
            "_model_module": "@jupyter-widgets/base",
            "_model_module_version": "1.2.0",
            "_model_name": "LayoutModel",
            "_view_count": null,
            "_view_module": "@jupyter-widgets/base",
            "_view_module_version": "1.2.0",
            "_view_name": "LayoutView",
            "align_content": null,
            "align_items": null,
            "align_self": null,
            "border": null,
            "bottom": null,
            "display": null,
            "flex": null,
            "flex_flow": null,
            "grid_area": null,
            "grid_auto_columns": null,
            "grid_auto_flow": null,
            "grid_auto_rows": null,
            "grid_column": null,
            "grid_gap": null,
            "grid_row": null,
            "grid_template_areas": null,
            "grid_template_columns": null,
            "grid_template_rows": null,
            "height": null,
            "justify_content": null,
            "justify_items": null,
            "left": null,
            "margin": null,
            "max_height": null,
            "max_width": null,
            "min_height": null,
            "min_width": null,
            "object_fit": null,
            "object_position": null,
            "order": null,
            "overflow": null,
            "overflow_x": null,
            "overflow_y": null,
            "padding": null,
            "right": null,
            "top": null,
            "visibility": null,
            "width": null
          }
        },
        "6109777af08d4998a4ed7213e4270502": {
          "model_module": "@jupyter-widgets/controls",
          "model_name": "DescriptionStyleModel",
          "model_module_version": "1.5.0",
          "state": {
            "_model_module": "@jupyter-widgets/controls",
            "_model_module_version": "1.5.0",
            "_model_name": "DescriptionStyleModel",
            "_view_count": null,
            "_view_module": "@jupyter-widgets/base",
            "_view_module_version": "1.2.0",
            "_view_name": "StyleView",
            "description_width": ""
          }
        },
        "5e2fd10266184a1ab21e8f3238018231": {
          "model_module": "@jupyter-widgets/base",
          "model_name": "LayoutModel",
          "model_module_version": "1.2.0",
          "state": {
            "_model_module": "@jupyter-widgets/base",
            "_model_module_version": "1.2.0",
            "_model_name": "LayoutModel",
            "_view_count": null,
            "_view_module": "@jupyter-widgets/base",
            "_view_module_version": "1.2.0",
            "_view_name": "LayoutView",
            "align_content": null,
            "align_items": null,
            "align_self": null,
            "border": null,
            "bottom": null,
            "display": null,
            "flex": null,
            "flex_flow": null,
            "grid_area": null,
            "grid_auto_columns": null,
            "grid_auto_flow": null,
            "grid_auto_rows": null,
            "grid_column": null,
            "grid_gap": null,
            "grid_row": null,
            "grid_template_areas": null,
            "grid_template_columns": null,
            "grid_template_rows": null,
            "height": null,
            "justify_content": null,
            "justify_items": null,
            "left": null,
            "margin": null,
            "max_height": null,
            "max_width": null,
            "min_height": null,
            "min_width": null,
            "object_fit": null,
            "object_position": null,
            "order": null,
            "overflow": null,
            "overflow_x": null,
            "overflow_y": null,
            "padding": null,
            "right": null,
            "top": null,
            "visibility": null,
            "width": null
          }
        },
        "7519c7e3a5a04e11ad2deba9b57d25f7": {
          "model_module": "@jupyter-widgets/controls",
          "model_name": "ProgressStyleModel",
          "model_module_version": "1.5.0",
          "state": {
            "_model_module": "@jupyter-widgets/controls",
            "_model_module_version": "1.5.0",
            "_model_name": "ProgressStyleModel",
            "_view_count": null,
            "_view_module": "@jupyter-widgets/base",
            "_view_module_version": "1.2.0",
            "_view_name": "StyleView",
            "bar_color": null,
            "description_width": ""
          }
        },
        "2ecfedb4da734dd4b6afec11fd3277e1": {
          "model_module": "@jupyter-widgets/base",
          "model_name": "LayoutModel",
          "model_module_version": "1.2.0",
          "state": {
            "_model_module": "@jupyter-widgets/base",
            "_model_module_version": "1.2.0",
            "_model_name": "LayoutModel",
            "_view_count": null,
            "_view_module": "@jupyter-widgets/base",
            "_view_module_version": "1.2.0",
            "_view_name": "LayoutView",
            "align_content": null,
            "align_items": null,
            "align_self": null,
            "border": null,
            "bottom": null,
            "display": null,
            "flex": null,
            "flex_flow": null,
            "grid_area": null,
            "grid_auto_columns": null,
            "grid_auto_flow": null,
            "grid_auto_rows": null,
            "grid_column": null,
            "grid_gap": null,
            "grid_row": null,
            "grid_template_areas": null,
            "grid_template_columns": null,
            "grid_template_rows": null,
            "height": null,
            "justify_content": null,
            "justify_items": null,
            "left": null,
            "margin": null,
            "max_height": null,
            "max_width": null,
            "min_height": null,
            "min_width": null,
            "object_fit": null,
            "object_position": null,
            "order": null,
            "overflow": null,
            "overflow_x": null,
            "overflow_y": null,
            "padding": null,
            "right": null,
            "top": null,
            "visibility": null,
            "width": null
          }
        },
        "f4660babbb744d7d83b4e6219cb1b1ef": {
          "model_module": "@jupyter-widgets/controls",
          "model_name": "DescriptionStyleModel",
          "model_module_version": "1.5.0",
          "state": {
            "_model_module": "@jupyter-widgets/controls",
            "_model_module_version": "1.5.0",
            "_model_name": "DescriptionStyleModel",
            "_view_count": null,
            "_view_module": "@jupyter-widgets/base",
            "_view_module_version": "1.2.0",
            "_view_name": "StyleView",
            "description_width": ""
          }
        },
        "b68bcc618e1042188ca234a864129e8d": {
          "model_module": "@jupyter-widgets/controls",
          "model_name": "HBoxModel",
          "model_module_version": "1.5.0",
          "state": {
            "_dom_classes": [],
            "_model_module": "@jupyter-widgets/controls",
            "_model_module_version": "1.5.0",
            "_model_name": "HBoxModel",
            "_view_count": null,
            "_view_module": "@jupyter-widgets/controls",
            "_view_module_version": "1.5.0",
            "_view_name": "HBoxView",
            "box_style": "",
            "children": [
              "IPY_MODEL_6c62b0be1e3a41969edcd43dd4fe414b",
              "IPY_MODEL_a0e9b64b68ee49059c38caca3004acfb",
              "IPY_MODEL_85273016a6cd44aeb1ec21edda6936b6"
            ],
            "layout": "IPY_MODEL_b2e45c9bafdc46e5a99469d1b1476983"
          }
        },
        "6c62b0be1e3a41969edcd43dd4fe414b": {
          "model_module": "@jupyter-widgets/controls",
          "model_name": "HTMLModel",
          "model_module_version": "1.5.0",
          "state": {
            "_dom_classes": [],
            "_model_module": "@jupyter-widgets/controls",
            "_model_module_version": "1.5.0",
            "_model_name": "HTMLModel",
            "_view_count": null,
            "_view_module": "@jupyter-widgets/controls",
            "_view_module_version": "1.5.0",
            "_view_name": "HTMLView",
            "description": "",
            "description_tooltip": null,
            "layout": "IPY_MODEL_55ce7506aea84455a1de73ed40f145d4",
            "placeholder": "​",
            "style": "IPY_MODEL_3ddf0ddd84c54b449154c5171edf5eeb",
            "value": "pytorch_model.bin: 100%"
          }
        },
        "a0e9b64b68ee49059c38caca3004acfb": {
          "model_module": "@jupyter-widgets/controls",
          "model_name": "FloatProgressModel",
          "model_module_version": "1.5.0",
          "state": {
            "_dom_classes": [],
            "_model_module": "@jupyter-widgets/controls",
            "_model_module_version": "1.5.0",
            "_model_name": "FloatProgressModel",
            "_view_count": null,
            "_view_module": "@jupyter-widgets/controls",
            "_view_module_version": "1.5.0",
            "_view_name": "ProgressView",
            "bar_style": "success",
            "description": "",
            "description_tooltip": null,
            "layout": "IPY_MODEL_85f0a45504914df588d8fdf9719e5b13",
            "max": 75656,
            "min": 0,
            "orientation": "horizontal",
            "style": "IPY_MODEL_7940f402abcc4c769e0437bf56cad229",
            "value": 75656
          }
        },
        "85273016a6cd44aeb1ec21edda6936b6": {
          "model_module": "@jupyter-widgets/controls",
          "model_name": "HTMLModel",
          "model_module_version": "1.5.0",
          "state": {
            "_dom_classes": [],
            "_model_module": "@jupyter-widgets/controls",
            "_model_module_version": "1.5.0",
            "_model_name": "HTMLModel",
            "_view_count": null,
            "_view_module": "@jupyter-widgets/controls",
            "_view_module_version": "1.5.0",
            "_view_name": "HTMLView",
            "description": "",
            "description_tooltip": null,
            "layout": "IPY_MODEL_1e2b762159ab411e909d0bdbb5b2ab3f",
            "placeholder": "​",
            "style": "IPY_MODEL_f70d2463ab2c4464b95eadb93717539b",
            "value": " 75.7k/75.7k [00:00&lt;00:00, 154kB/s]"
          }
        },
        "b2e45c9bafdc46e5a99469d1b1476983": {
          "model_module": "@jupyter-widgets/base",
          "model_name": "LayoutModel",
          "model_module_version": "1.2.0",
          "state": {
            "_model_module": "@jupyter-widgets/base",
            "_model_module_version": "1.2.0",
            "_model_name": "LayoutModel",
            "_view_count": null,
            "_view_module": "@jupyter-widgets/base",
            "_view_module_version": "1.2.0",
            "_view_name": "LayoutView",
            "align_content": null,
            "align_items": null,
            "align_self": null,
            "border": null,
            "bottom": null,
            "display": null,
            "flex": null,
            "flex_flow": null,
            "grid_area": null,
            "grid_auto_columns": null,
            "grid_auto_flow": null,
            "grid_auto_rows": null,
            "grid_column": null,
            "grid_gap": null,
            "grid_row": null,
            "grid_template_areas": null,
            "grid_template_columns": null,
            "grid_template_rows": null,
            "height": null,
            "justify_content": null,
            "justify_items": null,
            "left": null,
            "margin": null,
            "max_height": null,
            "max_width": null,
            "min_height": null,
            "min_width": null,
            "object_fit": null,
            "object_position": null,
            "order": null,
            "overflow": null,
            "overflow_x": null,
            "overflow_y": null,
            "padding": null,
            "right": null,
            "top": null,
            "visibility": null,
            "width": null
          }
        },
        "55ce7506aea84455a1de73ed40f145d4": {
          "model_module": "@jupyter-widgets/base",
          "model_name": "LayoutModel",
          "model_module_version": "1.2.0",
          "state": {
            "_model_module": "@jupyter-widgets/base",
            "_model_module_version": "1.2.0",
            "_model_name": "LayoutModel",
            "_view_count": null,
            "_view_module": "@jupyter-widgets/base",
            "_view_module_version": "1.2.0",
            "_view_name": "LayoutView",
            "align_content": null,
            "align_items": null,
            "align_self": null,
            "border": null,
            "bottom": null,
            "display": null,
            "flex": null,
            "flex_flow": null,
            "grid_area": null,
            "grid_auto_columns": null,
            "grid_auto_flow": null,
            "grid_auto_rows": null,
            "grid_column": null,
            "grid_gap": null,
            "grid_row": null,
            "grid_template_areas": null,
            "grid_template_columns": null,
            "grid_template_rows": null,
            "height": null,
            "justify_content": null,
            "justify_items": null,
            "left": null,
            "margin": null,
            "max_height": null,
            "max_width": null,
            "min_height": null,
            "min_width": null,
            "object_fit": null,
            "object_position": null,
            "order": null,
            "overflow": null,
            "overflow_x": null,
            "overflow_y": null,
            "padding": null,
            "right": null,
            "top": null,
            "visibility": null,
            "width": null
          }
        },
        "3ddf0ddd84c54b449154c5171edf5eeb": {
          "model_module": "@jupyter-widgets/controls",
          "model_name": "DescriptionStyleModel",
          "model_module_version": "1.5.0",
          "state": {
            "_model_module": "@jupyter-widgets/controls",
            "_model_module_version": "1.5.0",
            "_model_name": "DescriptionStyleModel",
            "_view_count": null,
            "_view_module": "@jupyter-widgets/base",
            "_view_module_version": "1.2.0",
            "_view_name": "StyleView",
            "description_width": ""
          }
        },
        "85f0a45504914df588d8fdf9719e5b13": {
          "model_module": "@jupyter-widgets/base",
          "model_name": "LayoutModel",
          "model_module_version": "1.2.0",
          "state": {
            "_model_module": "@jupyter-widgets/base",
            "_model_module_version": "1.2.0",
            "_model_name": "LayoutModel",
            "_view_count": null,
            "_view_module": "@jupyter-widgets/base",
            "_view_module_version": "1.2.0",
            "_view_name": "LayoutView",
            "align_content": null,
            "align_items": null,
            "align_self": null,
            "border": null,
            "bottom": null,
            "display": null,
            "flex": null,
            "flex_flow": null,
            "grid_area": null,
            "grid_auto_columns": null,
            "grid_auto_flow": null,
            "grid_auto_rows": null,
            "grid_column": null,
            "grid_gap": null,
            "grid_row": null,
            "grid_template_areas": null,
            "grid_template_columns": null,
            "grid_template_rows": null,
            "height": null,
            "justify_content": null,
            "justify_items": null,
            "left": null,
            "margin": null,
            "max_height": null,
            "max_width": null,
            "min_height": null,
            "min_width": null,
            "object_fit": null,
            "object_position": null,
            "order": null,
            "overflow": null,
            "overflow_x": null,
            "overflow_y": null,
            "padding": null,
            "right": null,
            "top": null,
            "visibility": null,
            "width": null
          }
        },
        "7940f402abcc4c769e0437bf56cad229": {
          "model_module": "@jupyter-widgets/controls",
          "model_name": "ProgressStyleModel",
          "model_module_version": "1.5.0",
          "state": {
            "_model_module": "@jupyter-widgets/controls",
            "_model_module_version": "1.5.0",
            "_model_name": "ProgressStyleModel",
            "_view_count": null,
            "_view_module": "@jupyter-widgets/base",
            "_view_module_version": "1.2.0",
            "_view_name": "StyleView",
            "bar_color": null,
            "description_width": ""
          }
        },
        "1e2b762159ab411e909d0bdbb5b2ab3f": {
          "model_module": "@jupyter-widgets/base",
          "model_name": "LayoutModel",
          "model_module_version": "1.2.0",
          "state": {
            "_model_module": "@jupyter-widgets/base",
            "_model_module_version": "1.2.0",
            "_model_name": "LayoutModel",
            "_view_count": null,
            "_view_module": "@jupyter-widgets/base",
            "_view_module_version": "1.2.0",
            "_view_name": "LayoutView",
            "align_content": null,
            "align_items": null,
            "align_self": null,
            "border": null,
            "bottom": null,
            "display": null,
            "flex": null,
            "flex_flow": null,
            "grid_area": null,
            "grid_auto_columns": null,
            "grid_auto_flow": null,
            "grid_auto_rows": null,
            "grid_column": null,
            "grid_gap": null,
            "grid_row": null,
            "grid_template_areas": null,
            "grid_template_columns": null,
            "grid_template_rows": null,
            "height": null,
            "justify_content": null,
            "justify_items": null,
            "left": null,
            "margin": null,
            "max_height": null,
            "max_width": null,
            "min_height": null,
            "min_width": null,
            "object_fit": null,
            "object_position": null,
            "order": null,
            "overflow": null,
            "overflow_x": null,
            "overflow_y": null,
            "padding": null,
            "right": null,
            "top": null,
            "visibility": null,
            "width": null
          }
        },
        "f70d2463ab2c4464b95eadb93717539b": {
          "model_module": "@jupyter-widgets/controls",
          "model_name": "DescriptionStyleModel",
          "model_module_version": "1.5.0",
          "state": {
            "_model_module": "@jupyter-widgets/controls",
            "_model_module_version": "1.5.0",
            "_model_name": "DescriptionStyleModel",
            "_view_count": null,
            "_view_module": "@jupyter-widgets/base",
            "_view_module_version": "1.2.0",
            "_view_name": "StyleView",
            "description_width": ""
          }
        },
        "4b373f59e96841a2a47794c5bf4dc950": {
          "model_module": "@jupyter-widgets/controls",
          "model_name": "HBoxModel",
          "model_module_version": "1.5.0",
          "state": {
            "_dom_classes": [],
            "_model_module": "@jupyter-widgets/controls",
            "_model_module_version": "1.5.0",
            "_model_name": "HBoxModel",
            "_view_count": null,
            "_view_module": "@jupyter-widgets/controls",
            "_view_module_version": "1.5.0",
            "_view_name": "HBoxView",
            "box_style": "",
            "children": [
              "IPY_MODEL_b50771f1fea142dc84d278a24cd11e43",
              "IPY_MODEL_5bf1e4ae61304084abc7ba42168231e0",
              "IPY_MODEL_4b85e8fedcf0473ea82a1246d4df661d"
            ],
            "layout": "IPY_MODEL_6aec9865f1aa49f49f1a1fd576ea9e5d"
          }
        },
        "b50771f1fea142dc84d278a24cd11e43": {
          "model_module": "@jupyter-widgets/controls",
          "model_name": "HTMLModel",
          "model_module_version": "1.5.0",
          "state": {
            "_dom_classes": [],
            "_model_module": "@jupyter-widgets/controls",
            "_model_module_version": "1.5.0",
            "_model_name": "HTMLModel",
            "_view_count": null,
            "_view_module": "@jupyter-widgets/controls",
            "_view_module_version": "1.5.0",
            "_view_name": "HTMLView",
            "description": "",
            "description_tooltip": null,
            "layout": "IPY_MODEL_7b21bd137aa8465f81a059bb0d0a8b39",
            "placeholder": "​",
            "style": "IPY_MODEL_bd4a7c661f8d40c4b139e12b9afd0d81",
            "value": "pytorch_model.bin: 100%"
          }
        },
        "5bf1e4ae61304084abc7ba42168231e0": {
          "model_module": "@jupyter-widgets/controls",
          "model_name": "FloatProgressModel",
          "model_module_version": "1.5.0",
          "state": {
            "_dom_classes": [],
            "_model_module": "@jupyter-widgets/controls",
            "_model_module_version": "1.5.0",
            "_model_name": "FloatProgressModel",
            "_view_count": null,
            "_view_module": "@jupyter-widgets/controls",
            "_view_module_version": "1.5.0",
            "_view_name": "ProgressView",
            "bar_style": "success",
            "description": "",
            "description_tooltip": null,
            "layout": "IPY_MODEL_9d43d185a67441298359514668620f98",
            "max": 75656,
            "min": 0,
            "orientation": "horizontal",
            "style": "IPY_MODEL_cac4dd46261b40308f92c4a968214985",
            "value": 75656
          }
        },
        "4b85e8fedcf0473ea82a1246d4df661d": {
          "model_module": "@jupyter-widgets/controls",
          "model_name": "HTMLModel",
          "model_module_version": "1.5.0",
          "state": {
            "_dom_classes": [],
            "_model_module": "@jupyter-widgets/controls",
            "_model_module_version": "1.5.0",
            "_model_name": "HTMLModel",
            "_view_count": null,
            "_view_module": "@jupyter-widgets/controls",
            "_view_module_version": "1.5.0",
            "_view_name": "HTMLView",
            "description": "",
            "description_tooltip": null,
            "layout": "IPY_MODEL_83438159aa224ea8b62095bc8725029a",
            "placeholder": "​",
            "style": "IPY_MODEL_df82f8976a6b4b1395cd6c0456896ff0",
            "value": " 75.7k/75.7k [00:00&lt;00:00, 149kB/s]"
          }
        },
        "6aec9865f1aa49f49f1a1fd576ea9e5d": {
          "model_module": "@jupyter-widgets/base",
          "model_name": "LayoutModel",
          "model_module_version": "1.2.0",
          "state": {
            "_model_module": "@jupyter-widgets/base",
            "_model_module_version": "1.2.0",
            "_model_name": "LayoutModel",
            "_view_count": null,
            "_view_module": "@jupyter-widgets/base",
            "_view_module_version": "1.2.0",
            "_view_name": "LayoutView",
            "align_content": null,
            "align_items": null,
            "align_self": null,
            "border": null,
            "bottom": null,
            "display": null,
            "flex": null,
            "flex_flow": null,
            "grid_area": null,
            "grid_auto_columns": null,
            "grid_auto_flow": null,
            "grid_auto_rows": null,
            "grid_column": null,
            "grid_gap": null,
            "grid_row": null,
            "grid_template_areas": null,
            "grid_template_columns": null,
            "grid_template_rows": null,
            "height": null,
            "justify_content": null,
            "justify_items": null,
            "left": null,
            "margin": null,
            "max_height": null,
            "max_width": null,
            "min_height": null,
            "min_width": null,
            "object_fit": null,
            "object_position": null,
            "order": null,
            "overflow": null,
            "overflow_x": null,
            "overflow_y": null,
            "padding": null,
            "right": null,
            "top": null,
            "visibility": null,
            "width": null
          }
        },
        "7b21bd137aa8465f81a059bb0d0a8b39": {
          "model_module": "@jupyter-widgets/base",
          "model_name": "LayoutModel",
          "model_module_version": "1.2.0",
          "state": {
            "_model_module": "@jupyter-widgets/base",
            "_model_module_version": "1.2.0",
            "_model_name": "LayoutModel",
            "_view_count": null,
            "_view_module": "@jupyter-widgets/base",
            "_view_module_version": "1.2.0",
            "_view_name": "LayoutView",
            "align_content": null,
            "align_items": null,
            "align_self": null,
            "border": null,
            "bottom": null,
            "display": null,
            "flex": null,
            "flex_flow": null,
            "grid_area": null,
            "grid_auto_columns": null,
            "grid_auto_flow": null,
            "grid_auto_rows": null,
            "grid_column": null,
            "grid_gap": null,
            "grid_row": null,
            "grid_template_areas": null,
            "grid_template_columns": null,
            "grid_template_rows": null,
            "height": null,
            "justify_content": null,
            "justify_items": null,
            "left": null,
            "margin": null,
            "max_height": null,
            "max_width": null,
            "min_height": null,
            "min_width": null,
            "object_fit": null,
            "object_position": null,
            "order": null,
            "overflow": null,
            "overflow_x": null,
            "overflow_y": null,
            "padding": null,
            "right": null,
            "top": null,
            "visibility": null,
            "width": null
          }
        },
        "bd4a7c661f8d40c4b139e12b9afd0d81": {
          "model_module": "@jupyter-widgets/controls",
          "model_name": "DescriptionStyleModel",
          "model_module_version": "1.5.0",
          "state": {
            "_model_module": "@jupyter-widgets/controls",
            "_model_module_version": "1.5.0",
            "_model_name": "DescriptionStyleModel",
            "_view_count": null,
            "_view_module": "@jupyter-widgets/base",
            "_view_module_version": "1.2.0",
            "_view_name": "StyleView",
            "description_width": ""
          }
        },
        "9d43d185a67441298359514668620f98": {
          "model_module": "@jupyter-widgets/base",
          "model_name": "LayoutModel",
          "model_module_version": "1.2.0",
          "state": {
            "_model_module": "@jupyter-widgets/base",
            "_model_module_version": "1.2.0",
            "_model_name": "LayoutModel",
            "_view_count": null,
            "_view_module": "@jupyter-widgets/base",
            "_view_module_version": "1.2.0",
            "_view_name": "LayoutView",
            "align_content": null,
            "align_items": null,
            "align_self": null,
            "border": null,
            "bottom": null,
            "display": null,
            "flex": null,
            "flex_flow": null,
            "grid_area": null,
            "grid_auto_columns": null,
            "grid_auto_flow": null,
            "grid_auto_rows": null,
            "grid_column": null,
            "grid_gap": null,
            "grid_row": null,
            "grid_template_areas": null,
            "grid_template_columns": null,
            "grid_template_rows": null,
            "height": null,
            "justify_content": null,
            "justify_items": null,
            "left": null,
            "margin": null,
            "max_height": null,
            "max_width": null,
            "min_height": null,
            "min_width": null,
            "object_fit": null,
            "object_position": null,
            "order": null,
            "overflow": null,
            "overflow_x": null,
            "overflow_y": null,
            "padding": null,
            "right": null,
            "top": null,
            "visibility": null,
            "width": null
          }
        },
        "cac4dd46261b40308f92c4a968214985": {
          "model_module": "@jupyter-widgets/controls",
          "model_name": "ProgressStyleModel",
          "model_module_version": "1.5.0",
          "state": {
            "_model_module": "@jupyter-widgets/controls",
            "_model_module_version": "1.5.0",
            "_model_name": "ProgressStyleModel",
            "_view_count": null,
            "_view_module": "@jupyter-widgets/base",
            "_view_module_version": "1.2.0",
            "_view_name": "StyleView",
            "bar_color": null,
            "description_width": ""
          }
        },
        "83438159aa224ea8b62095bc8725029a": {
          "model_module": "@jupyter-widgets/base",
          "model_name": "LayoutModel",
          "model_module_version": "1.2.0",
          "state": {
            "_model_module": "@jupyter-widgets/base",
            "_model_module_version": "1.2.0",
            "_model_name": "LayoutModel",
            "_view_count": null,
            "_view_module": "@jupyter-widgets/base",
            "_view_module_version": "1.2.0",
            "_view_name": "LayoutView",
            "align_content": null,
            "align_items": null,
            "align_self": null,
            "border": null,
            "bottom": null,
            "display": null,
            "flex": null,
            "flex_flow": null,
            "grid_area": null,
            "grid_auto_columns": null,
            "grid_auto_flow": null,
            "grid_auto_rows": null,
            "grid_column": null,
            "grid_gap": null,
            "grid_row": null,
            "grid_template_areas": null,
            "grid_template_columns": null,
            "grid_template_rows": null,
            "height": null,
            "justify_content": null,
            "justify_items": null,
            "left": null,
            "margin": null,
            "max_height": null,
            "max_width": null,
            "min_height": null,
            "min_width": null,
            "object_fit": null,
            "object_position": null,
            "order": null,
            "overflow": null,
            "overflow_x": null,
            "overflow_y": null,
            "padding": null,
            "right": null,
            "top": null,
            "visibility": null,
            "width": null
          }
        },
        "df82f8976a6b4b1395cd6c0456896ff0": {
          "model_module": "@jupyter-widgets/controls",
          "model_name": "DescriptionStyleModel",
          "model_module_version": "1.5.0",
          "state": {
            "_model_module": "@jupyter-widgets/controls",
            "_model_module_version": "1.5.0",
            "_model_name": "DescriptionStyleModel",
            "_view_count": null,
            "_view_module": "@jupyter-widgets/base",
            "_view_module_version": "1.2.0",
            "_view_name": "StyleView",
            "description_width": ""
          }
        },
        "9ad04d1c3cd44edba201a6fb6c47f0db": {
          "model_module": "@jupyter-widgets/controls",
          "model_name": "HBoxModel",
          "model_module_version": "1.5.0",
          "state": {
            "_dom_classes": [],
            "_model_module": "@jupyter-widgets/controls",
            "_model_module_version": "1.5.0",
            "_model_name": "HBoxModel",
            "_view_count": null,
            "_view_module": "@jupyter-widgets/controls",
            "_view_module_version": "1.5.0",
            "_view_name": "HBoxView",
            "box_style": "",
            "children": [
              "IPY_MODEL_b0990f5a0fba4a49a7076fa533f565da",
              "IPY_MODEL_73a2a00392fe4d228b82277b69eab005",
              "IPY_MODEL_67427fa276e74584b18d21c316d27e15"
            ],
            "layout": "IPY_MODEL_be382dabffa9414ca84df340d1665339"
          }
        },
        "b0990f5a0fba4a49a7076fa533f565da": {
          "model_module": "@jupyter-widgets/controls",
          "model_name": "HTMLModel",
          "model_module_version": "1.5.0",
          "state": {
            "_dom_classes": [],
            "_model_module": "@jupyter-widgets/controls",
            "_model_module_version": "1.5.0",
            "_model_name": "HTMLModel",
            "_view_count": null,
            "_view_module": "@jupyter-widgets/controls",
            "_view_module_version": "1.5.0",
            "_view_name": "HTMLView",
            "description": "",
            "description_tooltip": null,
            "layout": "IPY_MODEL_a9ac9ef584f24157b39b10e684467905",
            "placeholder": "​",
            "style": "IPY_MODEL_742b4939e4f8401e9ab2d1e3d8879ea7",
            "value": "pytorch_model.bin: 100%"
          }
        },
        "73a2a00392fe4d228b82277b69eab005": {
          "model_module": "@jupyter-widgets/controls",
          "model_name": "FloatProgressModel",
          "model_module_version": "1.5.0",
          "state": {
            "_dom_classes": [],
            "_model_module": "@jupyter-widgets/controls",
            "_model_module_version": "1.5.0",
            "_model_name": "FloatProgressModel",
            "_view_count": null,
            "_view_module": "@jupyter-widgets/controls",
            "_view_module_version": "1.5.0",
            "_view_name": "ProgressView",
            "bar_style": "success",
            "description": "",
            "description_tooltip": null,
            "layout": "IPY_MODEL_aa12d0c5f5a24e16bf68d83fc90aca73",
            "max": 75656,
            "min": 0,
            "orientation": "horizontal",
            "style": "IPY_MODEL_b1a5cb3747b344a68b2da6ab8ea443d5",
            "value": 75656
          }
        },
        "67427fa276e74584b18d21c316d27e15": {
          "model_module": "@jupyter-widgets/controls",
          "model_name": "HTMLModel",
          "model_module_version": "1.5.0",
          "state": {
            "_dom_classes": [],
            "_model_module": "@jupyter-widgets/controls",
            "_model_module_version": "1.5.0",
            "_model_name": "HTMLModel",
            "_view_count": null,
            "_view_module": "@jupyter-widgets/controls",
            "_view_module_version": "1.5.0",
            "_view_name": "HTMLView",
            "description": "",
            "description_tooltip": null,
            "layout": "IPY_MODEL_89c1395e12fc4ddcaf968c7b265d3ffc",
            "placeholder": "​",
            "style": "IPY_MODEL_52ae8841cf1647fca493cbd944a13b16",
            "value": " 75.7k/75.7k [00:00&lt;00:00, 150kB/s]"
          }
        },
        "be382dabffa9414ca84df340d1665339": {
          "model_module": "@jupyter-widgets/base",
          "model_name": "LayoutModel",
          "model_module_version": "1.2.0",
          "state": {
            "_model_module": "@jupyter-widgets/base",
            "_model_module_version": "1.2.0",
            "_model_name": "LayoutModel",
            "_view_count": null,
            "_view_module": "@jupyter-widgets/base",
            "_view_module_version": "1.2.0",
            "_view_name": "LayoutView",
            "align_content": null,
            "align_items": null,
            "align_self": null,
            "border": null,
            "bottom": null,
            "display": null,
            "flex": null,
            "flex_flow": null,
            "grid_area": null,
            "grid_auto_columns": null,
            "grid_auto_flow": null,
            "grid_auto_rows": null,
            "grid_column": null,
            "grid_gap": null,
            "grid_row": null,
            "grid_template_areas": null,
            "grid_template_columns": null,
            "grid_template_rows": null,
            "height": null,
            "justify_content": null,
            "justify_items": null,
            "left": null,
            "margin": null,
            "max_height": null,
            "max_width": null,
            "min_height": null,
            "min_width": null,
            "object_fit": null,
            "object_position": null,
            "order": null,
            "overflow": null,
            "overflow_x": null,
            "overflow_y": null,
            "padding": null,
            "right": null,
            "top": null,
            "visibility": null,
            "width": null
          }
        },
        "a9ac9ef584f24157b39b10e684467905": {
          "model_module": "@jupyter-widgets/base",
          "model_name": "LayoutModel",
          "model_module_version": "1.2.0",
          "state": {
            "_model_module": "@jupyter-widgets/base",
            "_model_module_version": "1.2.0",
            "_model_name": "LayoutModel",
            "_view_count": null,
            "_view_module": "@jupyter-widgets/base",
            "_view_module_version": "1.2.0",
            "_view_name": "LayoutView",
            "align_content": null,
            "align_items": null,
            "align_self": null,
            "border": null,
            "bottom": null,
            "display": null,
            "flex": null,
            "flex_flow": null,
            "grid_area": null,
            "grid_auto_columns": null,
            "grid_auto_flow": null,
            "grid_auto_rows": null,
            "grid_column": null,
            "grid_gap": null,
            "grid_row": null,
            "grid_template_areas": null,
            "grid_template_columns": null,
            "grid_template_rows": null,
            "height": null,
            "justify_content": null,
            "justify_items": null,
            "left": null,
            "margin": null,
            "max_height": null,
            "max_width": null,
            "min_height": null,
            "min_width": null,
            "object_fit": null,
            "object_position": null,
            "order": null,
            "overflow": null,
            "overflow_x": null,
            "overflow_y": null,
            "padding": null,
            "right": null,
            "top": null,
            "visibility": null,
            "width": null
          }
        },
        "742b4939e4f8401e9ab2d1e3d8879ea7": {
          "model_module": "@jupyter-widgets/controls",
          "model_name": "DescriptionStyleModel",
          "model_module_version": "1.5.0",
          "state": {
            "_model_module": "@jupyter-widgets/controls",
            "_model_module_version": "1.5.0",
            "_model_name": "DescriptionStyleModel",
            "_view_count": null,
            "_view_module": "@jupyter-widgets/base",
            "_view_module_version": "1.2.0",
            "_view_name": "StyleView",
            "description_width": ""
          }
        },
        "aa12d0c5f5a24e16bf68d83fc90aca73": {
          "model_module": "@jupyter-widgets/base",
          "model_name": "LayoutModel",
          "model_module_version": "1.2.0",
          "state": {
            "_model_module": "@jupyter-widgets/base",
            "_model_module_version": "1.2.0",
            "_model_name": "LayoutModel",
            "_view_count": null,
            "_view_module": "@jupyter-widgets/base",
            "_view_module_version": "1.2.0",
            "_view_name": "LayoutView",
            "align_content": null,
            "align_items": null,
            "align_self": null,
            "border": null,
            "bottom": null,
            "display": null,
            "flex": null,
            "flex_flow": null,
            "grid_area": null,
            "grid_auto_columns": null,
            "grid_auto_flow": null,
            "grid_auto_rows": null,
            "grid_column": null,
            "grid_gap": null,
            "grid_row": null,
            "grid_template_areas": null,
            "grid_template_columns": null,
            "grid_template_rows": null,
            "height": null,
            "justify_content": null,
            "justify_items": null,
            "left": null,
            "margin": null,
            "max_height": null,
            "max_width": null,
            "min_height": null,
            "min_width": null,
            "object_fit": null,
            "object_position": null,
            "order": null,
            "overflow": null,
            "overflow_x": null,
            "overflow_y": null,
            "padding": null,
            "right": null,
            "top": null,
            "visibility": null,
            "width": null
          }
        },
        "b1a5cb3747b344a68b2da6ab8ea443d5": {
          "model_module": "@jupyter-widgets/controls",
          "model_name": "ProgressStyleModel",
          "model_module_version": "1.5.0",
          "state": {
            "_model_module": "@jupyter-widgets/controls",
            "_model_module_version": "1.5.0",
            "_model_name": "ProgressStyleModel",
            "_view_count": null,
            "_view_module": "@jupyter-widgets/base",
            "_view_module_version": "1.2.0",
            "_view_name": "StyleView",
            "bar_color": null,
            "description_width": ""
          }
        },
        "89c1395e12fc4ddcaf968c7b265d3ffc": {
          "model_module": "@jupyter-widgets/base",
          "model_name": "LayoutModel",
          "model_module_version": "1.2.0",
          "state": {
            "_model_module": "@jupyter-widgets/base",
            "_model_module_version": "1.2.0",
            "_model_name": "LayoutModel",
            "_view_count": null,
            "_view_module": "@jupyter-widgets/base",
            "_view_module_version": "1.2.0",
            "_view_name": "LayoutView",
            "align_content": null,
            "align_items": null,
            "align_self": null,
            "border": null,
            "bottom": null,
            "display": null,
            "flex": null,
            "flex_flow": null,
            "grid_area": null,
            "grid_auto_columns": null,
            "grid_auto_flow": null,
            "grid_auto_rows": null,
            "grid_column": null,
            "grid_gap": null,
            "grid_row": null,
            "grid_template_areas": null,
            "grid_template_columns": null,
            "grid_template_rows": null,
            "height": null,
            "justify_content": null,
            "justify_items": null,
            "left": null,
            "margin": null,
            "max_height": null,
            "max_width": null,
            "min_height": null,
            "min_width": null,
            "object_fit": null,
            "object_position": null,
            "order": null,
            "overflow": null,
            "overflow_x": null,
            "overflow_y": null,
            "padding": null,
            "right": null,
            "top": null,
            "visibility": null,
            "width": null
          }
        },
        "52ae8841cf1647fca493cbd944a13b16": {
          "model_module": "@jupyter-widgets/controls",
          "model_name": "DescriptionStyleModel",
          "model_module_version": "1.5.0",
          "state": {
            "_model_module": "@jupyter-widgets/controls",
            "_model_module_version": "1.5.0",
            "_model_name": "DescriptionStyleModel",
            "_view_count": null,
            "_view_module": "@jupyter-widgets/base",
            "_view_module_version": "1.2.0",
            "_view_name": "StyleView",
            "description_width": ""
          }
        },
        "3498311dfc6748c89eeb1298873b77e5": {
          "model_module": "@jupyter-widgets/controls",
          "model_name": "HBoxModel",
          "model_module_version": "1.5.0",
          "state": {
            "_dom_classes": [],
            "_model_module": "@jupyter-widgets/controls",
            "_model_module_version": "1.5.0",
            "_model_name": "HBoxModel",
            "_view_count": null,
            "_view_module": "@jupyter-widgets/controls",
            "_view_module_version": "1.5.0",
            "_view_name": "HBoxView",
            "box_style": "",
            "children": [
              "IPY_MODEL_045740cd83054d0687e094b355ccefa9",
              "IPY_MODEL_25bb6f94d4bc421a969644d267a1ad9b",
              "IPY_MODEL_d3c4f2fd821c42e0ba1eac4b056b3bd7"
            ],
            "layout": "IPY_MODEL_dc72b21207aa44baac5fa4a24f70e149"
          }
        },
        "045740cd83054d0687e094b355ccefa9": {
          "model_module": "@jupyter-widgets/controls",
          "model_name": "HTMLModel",
          "model_module_version": "1.5.0",
          "state": {
            "_dom_classes": [],
            "_model_module": "@jupyter-widgets/controls",
            "_model_module_version": "1.5.0",
            "_model_name": "HTMLModel",
            "_view_count": null,
            "_view_module": "@jupyter-widgets/controls",
            "_view_module_version": "1.5.0",
            "_view_name": "HTMLView",
            "description": "",
            "description_tooltip": null,
            "layout": "IPY_MODEL_cea570348ef44ca9bd881024607b876c",
            "placeholder": "​",
            "style": "IPY_MODEL_e65a7abcd2cb4d36838f0ebe708b7dd1",
            "value": "pytorch_model.bin: 100%"
          }
        },
        "25bb6f94d4bc421a969644d267a1ad9b": {
          "model_module": "@jupyter-widgets/controls",
          "model_name": "FloatProgressModel",
          "model_module_version": "1.5.0",
          "state": {
            "_dom_classes": [],
            "_model_module": "@jupyter-widgets/controls",
            "_model_module_version": "1.5.0",
            "_model_name": "FloatProgressModel",
            "_view_count": null,
            "_view_module": "@jupyter-widgets/controls",
            "_view_module_version": "1.5.0",
            "_view_name": "ProgressView",
            "bar_style": "success",
            "description": "",
            "description_tooltip": null,
            "layout": "IPY_MODEL_10dbac8162c04d99beba75e4e21af644",
            "max": 75656,
            "min": 0,
            "orientation": "horizontal",
            "style": "IPY_MODEL_776aaa71a3c7447cb0897211916efaf7",
            "value": 75656
          }
        },
        "d3c4f2fd821c42e0ba1eac4b056b3bd7": {
          "model_module": "@jupyter-widgets/controls",
          "model_name": "HTMLModel",
          "model_module_version": "1.5.0",
          "state": {
            "_dom_classes": [],
            "_model_module": "@jupyter-widgets/controls",
            "_model_module_version": "1.5.0",
            "_model_name": "HTMLModel",
            "_view_count": null,
            "_view_module": "@jupyter-widgets/controls",
            "_view_module_version": "1.5.0",
            "_view_name": "HTMLView",
            "description": "",
            "description_tooltip": null,
            "layout": "IPY_MODEL_751e988642a64e3c92bb6b878ee36fa8",
            "placeholder": "​",
            "style": "IPY_MODEL_118ea2f1ff7244f9ad5134d794a785f1",
            "value": " 75.7k/75.7k [00:00&lt;00:00, 169kB/s]"
          }
        },
        "dc72b21207aa44baac5fa4a24f70e149": {
          "model_module": "@jupyter-widgets/base",
          "model_name": "LayoutModel",
          "model_module_version": "1.2.0",
          "state": {
            "_model_module": "@jupyter-widgets/base",
            "_model_module_version": "1.2.0",
            "_model_name": "LayoutModel",
            "_view_count": null,
            "_view_module": "@jupyter-widgets/base",
            "_view_module_version": "1.2.0",
            "_view_name": "LayoutView",
            "align_content": null,
            "align_items": null,
            "align_self": null,
            "border": null,
            "bottom": null,
            "display": null,
            "flex": null,
            "flex_flow": null,
            "grid_area": null,
            "grid_auto_columns": null,
            "grid_auto_flow": null,
            "grid_auto_rows": null,
            "grid_column": null,
            "grid_gap": null,
            "grid_row": null,
            "grid_template_areas": null,
            "grid_template_columns": null,
            "grid_template_rows": null,
            "height": null,
            "justify_content": null,
            "justify_items": null,
            "left": null,
            "margin": null,
            "max_height": null,
            "max_width": null,
            "min_height": null,
            "min_width": null,
            "object_fit": null,
            "object_position": null,
            "order": null,
            "overflow": null,
            "overflow_x": null,
            "overflow_y": null,
            "padding": null,
            "right": null,
            "top": null,
            "visibility": null,
            "width": null
          }
        },
        "cea570348ef44ca9bd881024607b876c": {
          "model_module": "@jupyter-widgets/base",
          "model_name": "LayoutModel",
          "model_module_version": "1.2.0",
          "state": {
            "_model_module": "@jupyter-widgets/base",
            "_model_module_version": "1.2.0",
            "_model_name": "LayoutModel",
            "_view_count": null,
            "_view_module": "@jupyter-widgets/base",
            "_view_module_version": "1.2.0",
            "_view_name": "LayoutView",
            "align_content": null,
            "align_items": null,
            "align_self": null,
            "border": null,
            "bottom": null,
            "display": null,
            "flex": null,
            "flex_flow": null,
            "grid_area": null,
            "grid_auto_columns": null,
            "grid_auto_flow": null,
            "grid_auto_rows": null,
            "grid_column": null,
            "grid_gap": null,
            "grid_row": null,
            "grid_template_areas": null,
            "grid_template_columns": null,
            "grid_template_rows": null,
            "height": null,
            "justify_content": null,
            "justify_items": null,
            "left": null,
            "margin": null,
            "max_height": null,
            "max_width": null,
            "min_height": null,
            "min_width": null,
            "object_fit": null,
            "object_position": null,
            "order": null,
            "overflow": null,
            "overflow_x": null,
            "overflow_y": null,
            "padding": null,
            "right": null,
            "top": null,
            "visibility": null,
            "width": null
          }
        },
        "e65a7abcd2cb4d36838f0ebe708b7dd1": {
          "model_module": "@jupyter-widgets/controls",
          "model_name": "DescriptionStyleModel",
          "model_module_version": "1.5.0",
          "state": {
            "_model_module": "@jupyter-widgets/controls",
            "_model_module_version": "1.5.0",
            "_model_name": "DescriptionStyleModel",
            "_view_count": null,
            "_view_module": "@jupyter-widgets/base",
            "_view_module_version": "1.2.0",
            "_view_name": "StyleView",
            "description_width": ""
          }
        },
        "10dbac8162c04d99beba75e4e21af644": {
          "model_module": "@jupyter-widgets/base",
          "model_name": "LayoutModel",
          "model_module_version": "1.2.0",
          "state": {
            "_model_module": "@jupyter-widgets/base",
            "_model_module_version": "1.2.0",
            "_model_name": "LayoutModel",
            "_view_count": null,
            "_view_module": "@jupyter-widgets/base",
            "_view_module_version": "1.2.0",
            "_view_name": "LayoutView",
            "align_content": null,
            "align_items": null,
            "align_self": null,
            "border": null,
            "bottom": null,
            "display": null,
            "flex": null,
            "flex_flow": null,
            "grid_area": null,
            "grid_auto_columns": null,
            "grid_auto_flow": null,
            "grid_auto_rows": null,
            "grid_column": null,
            "grid_gap": null,
            "grid_row": null,
            "grid_template_areas": null,
            "grid_template_columns": null,
            "grid_template_rows": null,
            "height": null,
            "justify_content": null,
            "justify_items": null,
            "left": null,
            "margin": null,
            "max_height": null,
            "max_width": null,
            "min_height": null,
            "min_width": null,
            "object_fit": null,
            "object_position": null,
            "order": null,
            "overflow": null,
            "overflow_x": null,
            "overflow_y": null,
            "padding": null,
            "right": null,
            "top": null,
            "visibility": null,
            "width": null
          }
        },
        "776aaa71a3c7447cb0897211916efaf7": {
          "model_module": "@jupyter-widgets/controls",
          "model_name": "ProgressStyleModel",
          "model_module_version": "1.5.0",
          "state": {
            "_model_module": "@jupyter-widgets/controls",
            "_model_module_version": "1.5.0",
            "_model_name": "ProgressStyleModel",
            "_view_count": null,
            "_view_module": "@jupyter-widgets/base",
            "_view_module_version": "1.2.0",
            "_view_name": "StyleView",
            "bar_color": null,
            "description_width": ""
          }
        },
        "751e988642a64e3c92bb6b878ee36fa8": {
          "model_module": "@jupyter-widgets/base",
          "model_name": "LayoutModel",
          "model_module_version": "1.2.0",
          "state": {
            "_model_module": "@jupyter-widgets/base",
            "_model_module_version": "1.2.0",
            "_model_name": "LayoutModel",
            "_view_count": null,
            "_view_module": "@jupyter-widgets/base",
            "_view_module_version": "1.2.0",
            "_view_name": "LayoutView",
            "align_content": null,
            "align_items": null,
            "align_self": null,
            "border": null,
            "bottom": null,
            "display": null,
            "flex": null,
            "flex_flow": null,
            "grid_area": null,
            "grid_auto_columns": null,
            "grid_auto_flow": null,
            "grid_auto_rows": null,
            "grid_column": null,
            "grid_gap": null,
            "grid_row": null,
            "grid_template_areas": null,
            "grid_template_columns": null,
            "grid_template_rows": null,
            "height": null,
            "justify_content": null,
            "justify_items": null,
            "left": null,
            "margin": null,
            "max_height": null,
            "max_width": null,
            "min_height": null,
            "min_width": null,
            "object_fit": null,
            "object_position": null,
            "order": null,
            "overflow": null,
            "overflow_x": null,
            "overflow_y": null,
            "padding": null,
            "right": null,
            "top": null,
            "visibility": null,
            "width": null
          }
        },
        "118ea2f1ff7244f9ad5134d794a785f1": {
          "model_module": "@jupyter-widgets/controls",
          "model_name": "DescriptionStyleModel",
          "model_module_version": "1.5.0",
          "state": {
            "_model_module": "@jupyter-widgets/controls",
            "_model_module_version": "1.5.0",
            "_model_name": "DescriptionStyleModel",
            "_view_count": null,
            "_view_module": "@jupyter-widgets/base",
            "_view_module_version": "1.2.0",
            "_view_name": "StyleView",
            "description_width": ""
          }
        },
        "8ebbfe94105b42518d3fdb8abde9338c": {
          "model_module": "@jupyter-widgets/controls",
          "model_name": "HBoxModel",
          "model_module_version": "1.5.0",
          "state": {
            "_dom_classes": [],
            "_model_module": "@jupyter-widgets/controls",
            "_model_module_version": "1.5.0",
            "_model_name": "HBoxModel",
            "_view_count": null,
            "_view_module": "@jupyter-widgets/controls",
            "_view_module_version": "1.5.0",
            "_view_name": "HBoxView",
            "box_style": "",
            "children": [
              "IPY_MODEL_9c3c33a27a1c4ca884ea855de8d2da23",
              "IPY_MODEL_4f1b4045ba464b4dbdb390905cdb6a5e",
              "IPY_MODEL_29a1c59598dd4070a284b13f6062f4e9"
            ],
            "layout": "IPY_MODEL_9ea02cd382e24783a7d89e917ebcdb81"
          }
        },
        "9c3c33a27a1c4ca884ea855de8d2da23": {
          "model_module": "@jupyter-widgets/controls",
          "model_name": "HTMLModel",
          "model_module_version": "1.5.0",
          "state": {
            "_dom_classes": [],
            "_model_module": "@jupyter-widgets/controls",
            "_model_module_version": "1.5.0",
            "_model_name": "HTMLModel",
            "_view_count": null,
            "_view_module": "@jupyter-widgets/controls",
            "_view_module_version": "1.5.0",
            "_view_name": "HTMLView",
            "description": "",
            "description_tooltip": null,
            "layout": "IPY_MODEL_631ea1dcc0a44a08980e4a5c8cb0349e",
            "placeholder": "​",
            "style": "IPY_MODEL_d8461c284028464a8d3643ccd0918fea",
            "value": "pytorch_model.bin: 100%"
          }
        },
        "4f1b4045ba464b4dbdb390905cdb6a5e": {
          "model_module": "@jupyter-widgets/controls",
          "model_name": "FloatProgressModel",
          "model_module_version": "1.5.0",
          "state": {
            "_dom_classes": [],
            "_model_module": "@jupyter-widgets/controls",
            "_model_module_version": "1.5.0",
            "_model_name": "FloatProgressModel",
            "_view_count": null,
            "_view_module": "@jupyter-widgets/controls",
            "_view_module_version": "1.5.0",
            "_view_name": "ProgressView",
            "bar_style": "success",
            "description": "",
            "description_tooltip": null,
            "layout": "IPY_MODEL_4896d4f3b41c4e0c8bd7657bba6637ed",
            "max": 75656,
            "min": 0,
            "orientation": "horizontal",
            "style": "IPY_MODEL_b1a7ce2ef5f44da7b087e79dfaa0b63d",
            "value": 75656
          }
        },
        "29a1c59598dd4070a284b13f6062f4e9": {
          "model_module": "@jupyter-widgets/controls",
          "model_name": "HTMLModel",
          "model_module_version": "1.5.0",
          "state": {
            "_dom_classes": [],
            "_model_module": "@jupyter-widgets/controls",
            "_model_module_version": "1.5.0",
            "_model_name": "HTMLModel",
            "_view_count": null,
            "_view_module": "@jupyter-widgets/controls",
            "_view_module_version": "1.5.0",
            "_view_name": "HTMLView",
            "description": "",
            "description_tooltip": null,
            "layout": "IPY_MODEL_bd680d6e02504cd4aaeb0e9d6f59a3e2",
            "placeholder": "​",
            "style": "IPY_MODEL_a050eb1f38724adbb58bfd2ccb0a9fa4",
            "value": " 75.7k/75.7k [00:00&lt;00:00, 162kB/s]"
          }
        },
        "9ea02cd382e24783a7d89e917ebcdb81": {
          "model_module": "@jupyter-widgets/base",
          "model_name": "LayoutModel",
          "model_module_version": "1.2.0",
          "state": {
            "_model_module": "@jupyter-widgets/base",
            "_model_module_version": "1.2.0",
            "_model_name": "LayoutModel",
            "_view_count": null,
            "_view_module": "@jupyter-widgets/base",
            "_view_module_version": "1.2.0",
            "_view_name": "LayoutView",
            "align_content": null,
            "align_items": null,
            "align_self": null,
            "border": null,
            "bottom": null,
            "display": null,
            "flex": null,
            "flex_flow": null,
            "grid_area": null,
            "grid_auto_columns": null,
            "grid_auto_flow": null,
            "grid_auto_rows": null,
            "grid_column": null,
            "grid_gap": null,
            "grid_row": null,
            "grid_template_areas": null,
            "grid_template_columns": null,
            "grid_template_rows": null,
            "height": null,
            "justify_content": null,
            "justify_items": null,
            "left": null,
            "margin": null,
            "max_height": null,
            "max_width": null,
            "min_height": null,
            "min_width": null,
            "object_fit": null,
            "object_position": null,
            "order": null,
            "overflow": null,
            "overflow_x": null,
            "overflow_y": null,
            "padding": null,
            "right": null,
            "top": null,
            "visibility": null,
            "width": null
          }
        },
        "631ea1dcc0a44a08980e4a5c8cb0349e": {
          "model_module": "@jupyter-widgets/base",
          "model_name": "LayoutModel",
          "model_module_version": "1.2.0",
          "state": {
            "_model_module": "@jupyter-widgets/base",
            "_model_module_version": "1.2.0",
            "_model_name": "LayoutModel",
            "_view_count": null,
            "_view_module": "@jupyter-widgets/base",
            "_view_module_version": "1.2.0",
            "_view_name": "LayoutView",
            "align_content": null,
            "align_items": null,
            "align_self": null,
            "border": null,
            "bottom": null,
            "display": null,
            "flex": null,
            "flex_flow": null,
            "grid_area": null,
            "grid_auto_columns": null,
            "grid_auto_flow": null,
            "grid_auto_rows": null,
            "grid_column": null,
            "grid_gap": null,
            "grid_row": null,
            "grid_template_areas": null,
            "grid_template_columns": null,
            "grid_template_rows": null,
            "height": null,
            "justify_content": null,
            "justify_items": null,
            "left": null,
            "margin": null,
            "max_height": null,
            "max_width": null,
            "min_height": null,
            "min_width": null,
            "object_fit": null,
            "object_position": null,
            "order": null,
            "overflow": null,
            "overflow_x": null,
            "overflow_y": null,
            "padding": null,
            "right": null,
            "top": null,
            "visibility": null,
            "width": null
          }
        },
        "d8461c284028464a8d3643ccd0918fea": {
          "model_module": "@jupyter-widgets/controls",
          "model_name": "DescriptionStyleModel",
          "model_module_version": "1.5.0",
          "state": {
            "_model_module": "@jupyter-widgets/controls",
            "_model_module_version": "1.5.0",
            "_model_name": "DescriptionStyleModel",
            "_view_count": null,
            "_view_module": "@jupyter-widgets/base",
            "_view_module_version": "1.2.0",
            "_view_name": "StyleView",
            "description_width": ""
          }
        },
        "4896d4f3b41c4e0c8bd7657bba6637ed": {
          "model_module": "@jupyter-widgets/base",
          "model_name": "LayoutModel",
          "model_module_version": "1.2.0",
          "state": {
            "_model_module": "@jupyter-widgets/base",
            "_model_module_version": "1.2.0",
            "_model_name": "LayoutModel",
            "_view_count": null,
            "_view_module": "@jupyter-widgets/base",
            "_view_module_version": "1.2.0",
            "_view_name": "LayoutView",
            "align_content": null,
            "align_items": null,
            "align_self": null,
            "border": null,
            "bottom": null,
            "display": null,
            "flex": null,
            "flex_flow": null,
            "grid_area": null,
            "grid_auto_columns": null,
            "grid_auto_flow": null,
            "grid_auto_rows": null,
            "grid_column": null,
            "grid_gap": null,
            "grid_row": null,
            "grid_template_areas": null,
            "grid_template_columns": null,
            "grid_template_rows": null,
            "height": null,
            "justify_content": null,
            "justify_items": null,
            "left": null,
            "margin": null,
            "max_height": null,
            "max_width": null,
            "min_height": null,
            "min_width": null,
            "object_fit": null,
            "object_position": null,
            "order": null,
            "overflow": null,
            "overflow_x": null,
            "overflow_y": null,
            "padding": null,
            "right": null,
            "top": null,
            "visibility": null,
            "width": null
          }
        },
        "b1a7ce2ef5f44da7b087e79dfaa0b63d": {
          "model_module": "@jupyter-widgets/controls",
          "model_name": "ProgressStyleModel",
          "model_module_version": "1.5.0",
          "state": {
            "_model_module": "@jupyter-widgets/controls",
            "_model_module_version": "1.5.0",
            "_model_name": "ProgressStyleModel",
            "_view_count": null,
            "_view_module": "@jupyter-widgets/base",
            "_view_module_version": "1.2.0",
            "_view_name": "StyleView",
            "bar_color": null,
            "description_width": ""
          }
        },
        "bd680d6e02504cd4aaeb0e9d6f59a3e2": {
          "model_module": "@jupyter-widgets/base",
          "model_name": "LayoutModel",
          "model_module_version": "1.2.0",
          "state": {
            "_model_module": "@jupyter-widgets/base",
            "_model_module_version": "1.2.0",
            "_model_name": "LayoutModel",
            "_view_count": null,
            "_view_module": "@jupyter-widgets/base",
            "_view_module_version": "1.2.0",
            "_view_name": "LayoutView",
            "align_content": null,
            "align_items": null,
            "align_self": null,
            "border": null,
            "bottom": null,
            "display": null,
            "flex": null,
            "flex_flow": null,
            "grid_area": null,
            "grid_auto_columns": null,
            "grid_auto_flow": null,
            "grid_auto_rows": null,
            "grid_column": null,
            "grid_gap": null,
            "grid_row": null,
            "grid_template_areas": null,
            "grid_template_columns": null,
            "grid_template_rows": null,
            "height": null,
            "justify_content": null,
            "justify_items": null,
            "left": null,
            "margin": null,
            "max_height": null,
            "max_width": null,
            "min_height": null,
            "min_width": null,
            "object_fit": null,
            "object_position": null,
            "order": null,
            "overflow": null,
            "overflow_x": null,
            "overflow_y": null,
            "padding": null,
            "right": null,
            "top": null,
            "visibility": null,
            "width": null
          }
        },
        "a050eb1f38724adbb58bfd2ccb0a9fa4": {
          "model_module": "@jupyter-widgets/controls",
          "model_name": "DescriptionStyleModel",
          "model_module_version": "1.5.0",
          "state": {
            "_model_module": "@jupyter-widgets/controls",
            "_model_module_version": "1.5.0",
            "_model_name": "DescriptionStyleModel",
            "_view_count": null,
            "_view_module": "@jupyter-widgets/base",
            "_view_module_version": "1.2.0",
            "_view_name": "StyleView",
            "description_width": ""
          }
        },
        "22807febfac549aca979b43eb210f945": {
          "model_module": "@jupyter-widgets/controls",
          "model_name": "HBoxModel",
          "model_module_version": "1.5.0",
          "state": {
            "_dom_classes": [],
            "_model_module": "@jupyter-widgets/controls",
            "_model_module_version": "1.5.0",
            "_model_name": "HBoxModel",
            "_view_count": null,
            "_view_module": "@jupyter-widgets/controls",
            "_view_module_version": "1.5.0",
            "_view_name": "HBoxView",
            "box_style": "",
            "children": [
              "IPY_MODEL_90a88c39e8ee4759b915d2f2496d15e6",
              "IPY_MODEL_33ee0206b89f440ba4cce7880b37790f",
              "IPY_MODEL_20e8d176cccb4b2799f8c44009ab1ff0"
            ],
            "layout": "IPY_MODEL_f33680ecaf944909847f44660d57c1c3"
          }
        },
        "90a88c39e8ee4759b915d2f2496d15e6": {
          "model_module": "@jupyter-widgets/controls",
          "model_name": "HTMLModel",
          "model_module_version": "1.5.0",
          "state": {
            "_dom_classes": [],
            "_model_module": "@jupyter-widgets/controls",
            "_model_module_version": "1.5.0",
            "_model_name": "HTMLModel",
            "_view_count": null,
            "_view_module": "@jupyter-widgets/controls",
            "_view_module_version": "1.5.0",
            "_view_name": "HTMLView",
            "description": "",
            "description_tooltip": null,
            "layout": "IPY_MODEL_4b92444acbbd483c883506e2034ba255",
            "placeholder": "​",
            "style": "IPY_MODEL_f471b722f65f408f8e805327268ed12e",
            "value": "pytorch_model.bin: 100%"
          }
        },
        "33ee0206b89f440ba4cce7880b37790f": {
          "model_module": "@jupyter-widgets/controls",
          "model_name": "FloatProgressModel",
          "model_module_version": "1.5.0",
          "state": {
            "_dom_classes": [],
            "_model_module": "@jupyter-widgets/controls",
            "_model_module_version": "1.5.0",
            "_model_name": "FloatProgressModel",
            "_view_count": null,
            "_view_module": "@jupyter-widgets/controls",
            "_view_module_version": "1.5.0",
            "_view_name": "ProgressView",
            "bar_style": "success",
            "description": "",
            "description_tooltip": null,
            "layout": "IPY_MODEL_9cee4799ae2642f793994e306aaa5b1d",
            "max": 75656,
            "min": 0,
            "orientation": "horizontal",
            "style": "IPY_MODEL_0ad6290034f84da1806249e7c8e00b5a",
            "value": 75656
          }
        },
        "20e8d176cccb4b2799f8c44009ab1ff0": {
          "model_module": "@jupyter-widgets/controls",
          "model_name": "HTMLModel",
          "model_module_version": "1.5.0",
          "state": {
            "_dom_classes": [],
            "_model_module": "@jupyter-widgets/controls",
            "_model_module_version": "1.5.0",
            "_model_name": "HTMLModel",
            "_view_count": null,
            "_view_module": "@jupyter-widgets/controls",
            "_view_module_version": "1.5.0",
            "_view_name": "HTMLView",
            "description": "",
            "description_tooltip": null,
            "layout": "IPY_MODEL_aecdd616a62c4158a97199e99a495925",
            "placeholder": "​",
            "style": "IPY_MODEL_100726f0139443fea36ce9cb9435e96a",
            "value": " 75.7k/75.7k [00:00&lt;00:00, 142kB/s]"
          }
        },
        "f33680ecaf944909847f44660d57c1c3": {
          "model_module": "@jupyter-widgets/base",
          "model_name": "LayoutModel",
          "model_module_version": "1.2.0",
          "state": {
            "_model_module": "@jupyter-widgets/base",
            "_model_module_version": "1.2.0",
            "_model_name": "LayoutModel",
            "_view_count": null,
            "_view_module": "@jupyter-widgets/base",
            "_view_module_version": "1.2.0",
            "_view_name": "LayoutView",
            "align_content": null,
            "align_items": null,
            "align_self": null,
            "border": null,
            "bottom": null,
            "display": null,
            "flex": null,
            "flex_flow": null,
            "grid_area": null,
            "grid_auto_columns": null,
            "grid_auto_flow": null,
            "grid_auto_rows": null,
            "grid_column": null,
            "grid_gap": null,
            "grid_row": null,
            "grid_template_areas": null,
            "grid_template_columns": null,
            "grid_template_rows": null,
            "height": null,
            "justify_content": null,
            "justify_items": null,
            "left": null,
            "margin": null,
            "max_height": null,
            "max_width": null,
            "min_height": null,
            "min_width": null,
            "object_fit": null,
            "object_position": null,
            "order": null,
            "overflow": null,
            "overflow_x": null,
            "overflow_y": null,
            "padding": null,
            "right": null,
            "top": null,
            "visibility": null,
            "width": null
          }
        },
        "4b92444acbbd483c883506e2034ba255": {
          "model_module": "@jupyter-widgets/base",
          "model_name": "LayoutModel",
          "model_module_version": "1.2.0",
          "state": {
            "_model_module": "@jupyter-widgets/base",
            "_model_module_version": "1.2.0",
            "_model_name": "LayoutModel",
            "_view_count": null,
            "_view_module": "@jupyter-widgets/base",
            "_view_module_version": "1.2.0",
            "_view_name": "LayoutView",
            "align_content": null,
            "align_items": null,
            "align_self": null,
            "border": null,
            "bottom": null,
            "display": null,
            "flex": null,
            "flex_flow": null,
            "grid_area": null,
            "grid_auto_columns": null,
            "grid_auto_flow": null,
            "grid_auto_rows": null,
            "grid_column": null,
            "grid_gap": null,
            "grid_row": null,
            "grid_template_areas": null,
            "grid_template_columns": null,
            "grid_template_rows": null,
            "height": null,
            "justify_content": null,
            "justify_items": null,
            "left": null,
            "margin": null,
            "max_height": null,
            "max_width": null,
            "min_height": null,
            "min_width": null,
            "object_fit": null,
            "object_position": null,
            "order": null,
            "overflow": null,
            "overflow_x": null,
            "overflow_y": null,
            "padding": null,
            "right": null,
            "top": null,
            "visibility": null,
            "width": null
          }
        },
        "f471b722f65f408f8e805327268ed12e": {
          "model_module": "@jupyter-widgets/controls",
          "model_name": "DescriptionStyleModel",
          "model_module_version": "1.5.0",
          "state": {
            "_model_module": "@jupyter-widgets/controls",
            "_model_module_version": "1.5.0",
            "_model_name": "DescriptionStyleModel",
            "_view_count": null,
            "_view_module": "@jupyter-widgets/base",
            "_view_module_version": "1.2.0",
            "_view_name": "StyleView",
            "description_width": ""
          }
        },
        "9cee4799ae2642f793994e306aaa5b1d": {
          "model_module": "@jupyter-widgets/base",
          "model_name": "LayoutModel",
          "model_module_version": "1.2.0",
          "state": {
            "_model_module": "@jupyter-widgets/base",
            "_model_module_version": "1.2.0",
            "_model_name": "LayoutModel",
            "_view_count": null,
            "_view_module": "@jupyter-widgets/base",
            "_view_module_version": "1.2.0",
            "_view_name": "LayoutView",
            "align_content": null,
            "align_items": null,
            "align_self": null,
            "border": null,
            "bottom": null,
            "display": null,
            "flex": null,
            "flex_flow": null,
            "grid_area": null,
            "grid_auto_columns": null,
            "grid_auto_flow": null,
            "grid_auto_rows": null,
            "grid_column": null,
            "grid_gap": null,
            "grid_row": null,
            "grid_template_areas": null,
            "grid_template_columns": null,
            "grid_template_rows": null,
            "height": null,
            "justify_content": null,
            "justify_items": null,
            "left": null,
            "margin": null,
            "max_height": null,
            "max_width": null,
            "min_height": null,
            "min_width": null,
            "object_fit": null,
            "object_position": null,
            "order": null,
            "overflow": null,
            "overflow_x": null,
            "overflow_y": null,
            "padding": null,
            "right": null,
            "top": null,
            "visibility": null,
            "width": null
          }
        },
        "0ad6290034f84da1806249e7c8e00b5a": {
          "model_module": "@jupyter-widgets/controls",
          "model_name": "ProgressStyleModel",
          "model_module_version": "1.5.0",
          "state": {
            "_model_module": "@jupyter-widgets/controls",
            "_model_module_version": "1.5.0",
            "_model_name": "ProgressStyleModel",
            "_view_count": null,
            "_view_module": "@jupyter-widgets/base",
            "_view_module_version": "1.2.0",
            "_view_name": "StyleView",
            "bar_color": null,
            "description_width": ""
          }
        },
        "aecdd616a62c4158a97199e99a495925": {
          "model_module": "@jupyter-widgets/base",
          "model_name": "LayoutModel",
          "model_module_version": "1.2.0",
          "state": {
            "_model_module": "@jupyter-widgets/base",
            "_model_module_version": "1.2.0",
            "_model_name": "LayoutModel",
            "_view_count": null,
            "_view_module": "@jupyter-widgets/base",
            "_view_module_version": "1.2.0",
            "_view_name": "LayoutView",
            "align_content": null,
            "align_items": null,
            "align_self": null,
            "border": null,
            "bottom": null,
            "display": null,
            "flex": null,
            "flex_flow": null,
            "grid_area": null,
            "grid_auto_columns": null,
            "grid_auto_flow": null,
            "grid_auto_rows": null,
            "grid_column": null,
            "grid_gap": null,
            "grid_row": null,
            "grid_template_areas": null,
            "grid_template_columns": null,
            "grid_template_rows": null,
            "height": null,
            "justify_content": null,
            "justify_items": null,
            "left": null,
            "margin": null,
            "max_height": null,
            "max_width": null,
            "min_height": null,
            "min_width": null,
            "object_fit": null,
            "object_position": null,
            "order": null,
            "overflow": null,
            "overflow_x": null,
            "overflow_y": null,
            "padding": null,
            "right": null,
            "top": null,
            "visibility": null,
            "width": null
          }
        },
        "100726f0139443fea36ce9cb9435e96a": {
          "model_module": "@jupyter-widgets/controls",
          "model_name": "DescriptionStyleModel",
          "model_module_version": "1.5.0",
          "state": {
            "_model_module": "@jupyter-widgets/controls",
            "_model_module_version": "1.5.0",
            "_model_name": "DescriptionStyleModel",
            "_view_count": null,
            "_view_module": "@jupyter-widgets/base",
            "_view_module_version": "1.2.0",
            "_view_name": "StyleView",
            "description_width": ""
          }
        },
        "b0517841566a402eb0f18d6369556ffe": {
          "model_module": "@jupyter-widgets/controls",
          "model_name": "HBoxModel",
          "model_module_version": "1.5.0",
          "state": {
            "_dom_classes": [],
            "_model_module": "@jupyter-widgets/controls",
            "_model_module_version": "1.5.0",
            "_model_name": "HBoxModel",
            "_view_count": null,
            "_view_module": "@jupyter-widgets/controls",
            "_view_module_version": "1.5.0",
            "_view_name": "HBoxView",
            "box_style": "",
            "children": [
              "IPY_MODEL_f784903ec07e4b01b5aef65ceefbd3cc",
              "IPY_MODEL_157d1d47d68a4687a4614e1f36c1004d",
              "IPY_MODEL_a16368198cb94bd79fce10ef623ec26a"
            ],
            "layout": "IPY_MODEL_47e079054e774f8aaf9472aa63b8d63a"
          }
        },
        "f784903ec07e4b01b5aef65ceefbd3cc": {
          "model_module": "@jupyter-widgets/controls",
          "model_name": "HTMLModel",
          "model_module_version": "1.5.0",
          "state": {
            "_dom_classes": [],
            "_model_module": "@jupyter-widgets/controls",
            "_model_module_version": "1.5.0",
            "_model_name": "HTMLModel",
            "_view_count": null,
            "_view_module": "@jupyter-widgets/controls",
            "_view_module_version": "1.5.0",
            "_view_name": "HTMLView",
            "description": "",
            "description_tooltip": null,
            "layout": "IPY_MODEL_bbed1a1e1e6e4cd7bf626e95cbde913c",
            "placeholder": "​",
            "style": "IPY_MODEL_9842a7641cfb4180a66b638256a57246",
            "value": "pytorch_model.bin: 100%"
          }
        },
        "157d1d47d68a4687a4614e1f36c1004d": {
          "model_module": "@jupyter-widgets/controls",
          "model_name": "FloatProgressModel",
          "model_module_version": "1.5.0",
          "state": {
            "_dom_classes": [],
            "_model_module": "@jupyter-widgets/controls",
            "_model_module_version": "1.5.0",
            "_model_name": "FloatProgressModel",
            "_view_count": null,
            "_view_module": "@jupyter-widgets/controls",
            "_view_module_version": "1.5.0",
            "_view_name": "ProgressView",
            "bar_style": "success",
            "description": "",
            "description_tooltip": null,
            "layout": "IPY_MODEL_c679ef6f64e24fabafa6de41646a3464",
            "max": 75656,
            "min": 0,
            "orientation": "horizontal",
            "style": "IPY_MODEL_7ea17149f6e04888bb666eafa333dda5",
            "value": 75656
          }
        },
        "a16368198cb94bd79fce10ef623ec26a": {
          "model_module": "@jupyter-widgets/controls",
          "model_name": "HTMLModel",
          "model_module_version": "1.5.0",
          "state": {
            "_dom_classes": [],
            "_model_module": "@jupyter-widgets/controls",
            "_model_module_version": "1.5.0",
            "_model_name": "HTMLModel",
            "_view_count": null,
            "_view_module": "@jupyter-widgets/controls",
            "_view_module_version": "1.5.0",
            "_view_name": "HTMLView",
            "description": "",
            "description_tooltip": null,
            "layout": "IPY_MODEL_5f4b3b14f2f741a39540be6cfbabb595",
            "placeholder": "​",
            "style": "IPY_MODEL_bea58f9dbff3433db31a39d418dc54aa",
            "value": " 75.7k/75.7k [00:00&lt;00:00, 165kB/s]"
          }
        },
        "47e079054e774f8aaf9472aa63b8d63a": {
          "model_module": "@jupyter-widgets/base",
          "model_name": "LayoutModel",
          "model_module_version": "1.2.0",
          "state": {
            "_model_module": "@jupyter-widgets/base",
            "_model_module_version": "1.2.0",
            "_model_name": "LayoutModel",
            "_view_count": null,
            "_view_module": "@jupyter-widgets/base",
            "_view_module_version": "1.2.0",
            "_view_name": "LayoutView",
            "align_content": null,
            "align_items": null,
            "align_self": null,
            "border": null,
            "bottom": null,
            "display": null,
            "flex": null,
            "flex_flow": null,
            "grid_area": null,
            "grid_auto_columns": null,
            "grid_auto_flow": null,
            "grid_auto_rows": null,
            "grid_column": null,
            "grid_gap": null,
            "grid_row": null,
            "grid_template_areas": null,
            "grid_template_columns": null,
            "grid_template_rows": null,
            "height": null,
            "justify_content": null,
            "justify_items": null,
            "left": null,
            "margin": null,
            "max_height": null,
            "max_width": null,
            "min_height": null,
            "min_width": null,
            "object_fit": null,
            "object_position": null,
            "order": null,
            "overflow": null,
            "overflow_x": null,
            "overflow_y": null,
            "padding": null,
            "right": null,
            "top": null,
            "visibility": null,
            "width": null
          }
        },
        "bbed1a1e1e6e4cd7bf626e95cbde913c": {
          "model_module": "@jupyter-widgets/base",
          "model_name": "LayoutModel",
          "model_module_version": "1.2.0",
          "state": {
            "_model_module": "@jupyter-widgets/base",
            "_model_module_version": "1.2.0",
            "_model_name": "LayoutModel",
            "_view_count": null,
            "_view_module": "@jupyter-widgets/base",
            "_view_module_version": "1.2.0",
            "_view_name": "LayoutView",
            "align_content": null,
            "align_items": null,
            "align_self": null,
            "border": null,
            "bottom": null,
            "display": null,
            "flex": null,
            "flex_flow": null,
            "grid_area": null,
            "grid_auto_columns": null,
            "grid_auto_flow": null,
            "grid_auto_rows": null,
            "grid_column": null,
            "grid_gap": null,
            "grid_row": null,
            "grid_template_areas": null,
            "grid_template_columns": null,
            "grid_template_rows": null,
            "height": null,
            "justify_content": null,
            "justify_items": null,
            "left": null,
            "margin": null,
            "max_height": null,
            "max_width": null,
            "min_height": null,
            "min_width": null,
            "object_fit": null,
            "object_position": null,
            "order": null,
            "overflow": null,
            "overflow_x": null,
            "overflow_y": null,
            "padding": null,
            "right": null,
            "top": null,
            "visibility": null,
            "width": null
          }
        },
        "9842a7641cfb4180a66b638256a57246": {
          "model_module": "@jupyter-widgets/controls",
          "model_name": "DescriptionStyleModel",
          "model_module_version": "1.5.0",
          "state": {
            "_model_module": "@jupyter-widgets/controls",
            "_model_module_version": "1.5.0",
            "_model_name": "DescriptionStyleModel",
            "_view_count": null,
            "_view_module": "@jupyter-widgets/base",
            "_view_module_version": "1.2.0",
            "_view_name": "StyleView",
            "description_width": ""
          }
        },
        "c679ef6f64e24fabafa6de41646a3464": {
          "model_module": "@jupyter-widgets/base",
          "model_name": "LayoutModel",
          "model_module_version": "1.2.0",
          "state": {
            "_model_module": "@jupyter-widgets/base",
            "_model_module_version": "1.2.0",
            "_model_name": "LayoutModel",
            "_view_count": null,
            "_view_module": "@jupyter-widgets/base",
            "_view_module_version": "1.2.0",
            "_view_name": "LayoutView",
            "align_content": null,
            "align_items": null,
            "align_self": null,
            "border": null,
            "bottom": null,
            "display": null,
            "flex": null,
            "flex_flow": null,
            "grid_area": null,
            "grid_auto_columns": null,
            "grid_auto_flow": null,
            "grid_auto_rows": null,
            "grid_column": null,
            "grid_gap": null,
            "grid_row": null,
            "grid_template_areas": null,
            "grid_template_columns": null,
            "grid_template_rows": null,
            "height": null,
            "justify_content": null,
            "justify_items": null,
            "left": null,
            "margin": null,
            "max_height": null,
            "max_width": null,
            "min_height": null,
            "min_width": null,
            "object_fit": null,
            "object_position": null,
            "order": null,
            "overflow": null,
            "overflow_x": null,
            "overflow_y": null,
            "padding": null,
            "right": null,
            "top": null,
            "visibility": null,
            "width": null
          }
        },
        "7ea17149f6e04888bb666eafa333dda5": {
          "model_module": "@jupyter-widgets/controls",
          "model_name": "ProgressStyleModel",
          "model_module_version": "1.5.0",
          "state": {
            "_model_module": "@jupyter-widgets/controls",
            "_model_module_version": "1.5.0",
            "_model_name": "ProgressStyleModel",
            "_view_count": null,
            "_view_module": "@jupyter-widgets/base",
            "_view_module_version": "1.2.0",
            "_view_name": "StyleView",
            "bar_color": null,
            "description_width": ""
          }
        },
        "5f4b3b14f2f741a39540be6cfbabb595": {
          "model_module": "@jupyter-widgets/base",
          "model_name": "LayoutModel",
          "model_module_version": "1.2.0",
          "state": {
            "_model_module": "@jupyter-widgets/base",
            "_model_module_version": "1.2.0",
            "_model_name": "LayoutModel",
            "_view_count": null,
            "_view_module": "@jupyter-widgets/base",
            "_view_module_version": "1.2.0",
            "_view_name": "LayoutView",
            "align_content": null,
            "align_items": null,
            "align_self": null,
            "border": null,
            "bottom": null,
            "display": null,
            "flex": null,
            "flex_flow": null,
            "grid_area": null,
            "grid_auto_columns": null,
            "grid_auto_flow": null,
            "grid_auto_rows": null,
            "grid_column": null,
            "grid_gap": null,
            "grid_row": null,
            "grid_template_areas": null,
            "grid_template_columns": null,
            "grid_template_rows": null,
            "height": null,
            "justify_content": null,
            "justify_items": null,
            "left": null,
            "margin": null,
            "max_height": null,
            "max_width": null,
            "min_height": null,
            "min_width": null,
            "object_fit": null,
            "object_position": null,
            "order": null,
            "overflow": null,
            "overflow_x": null,
            "overflow_y": null,
            "padding": null,
            "right": null,
            "top": null,
            "visibility": null,
            "width": null
          }
        },
        "bea58f9dbff3433db31a39d418dc54aa": {
          "model_module": "@jupyter-widgets/controls",
          "model_name": "DescriptionStyleModel",
          "model_module_version": "1.5.0",
          "state": {
            "_model_module": "@jupyter-widgets/controls",
            "_model_module_version": "1.5.0",
            "_model_name": "DescriptionStyleModel",
            "_view_count": null,
            "_view_module": "@jupyter-widgets/base",
            "_view_module_version": "1.2.0",
            "_view_name": "StyleView",
            "description_width": ""
          }
        },
        "958885e62c394226aaf98da57046f1a5": {
          "model_module": "@jupyter-widgets/controls",
          "model_name": "VBoxModel",
          "model_module_version": "1.5.0",
          "state": {
            "_dom_classes": [],
            "_model_module": "@jupyter-widgets/controls",
            "_model_module_version": "1.5.0",
            "_model_name": "VBoxModel",
            "_view_count": null,
            "_view_module": "@jupyter-widgets/controls",
            "_view_module_version": "1.5.0",
            "_view_name": "VBoxView",
            "box_style": "",
            "children": [
              "IPY_MODEL_b3e77cda58954888adad2115bc20bab1",
              "IPY_MODEL_bd53c3b75bf14cfb8502c9565b4cfedd"
            ],
            "layout": "IPY_MODEL_7b42291566ba45ba8914fe3355fb890b"
          }
        },
        "b3e77cda58954888adad2115bc20bab1": {
          "model_module": "@jupyter-widgets/controls",
          "model_name": "LabelModel",
          "model_module_version": "1.5.0",
          "state": {
            "_dom_classes": [],
            "_model_module": "@jupyter-widgets/controls",
            "_model_module_version": "1.5.0",
            "_model_name": "LabelModel",
            "_view_count": null,
            "_view_module": "@jupyter-widgets/controls",
            "_view_module_version": "1.5.0",
            "_view_name": "LabelView",
            "description": "",
            "description_tooltip": null,
            "layout": "IPY_MODEL_5f9ca1b8a0bf4c9dbd276a6766bcad6c",
            "placeholder": "​",
            "style": "IPY_MODEL_843e9ac395464e979bd5a8ae9dc47cf8",
            "value": "0.018 MB of 0.018 MB uploaded\r"
          }
        },
        "bd53c3b75bf14cfb8502c9565b4cfedd": {
          "model_module": "@jupyter-widgets/controls",
          "model_name": "FloatProgressModel",
          "model_module_version": "1.5.0",
          "state": {
            "_dom_classes": [],
            "_model_module": "@jupyter-widgets/controls",
            "_model_module_version": "1.5.0",
            "_model_name": "FloatProgressModel",
            "_view_count": null,
            "_view_module": "@jupyter-widgets/controls",
            "_view_module_version": "1.5.0",
            "_view_name": "ProgressView",
            "bar_style": "",
            "description": "",
            "description_tooltip": null,
            "layout": "IPY_MODEL_894d1980aa36443787a571d64b7710d1",
            "max": 1,
            "min": 0,
            "orientation": "horizontal",
            "style": "IPY_MODEL_9a1f9e61f9c045f4b7cf327194d07d1b",
            "value": 1
          }
        },
        "7b42291566ba45ba8914fe3355fb890b": {
          "model_module": "@jupyter-widgets/base",
          "model_name": "LayoutModel",
          "model_module_version": "1.2.0",
          "state": {
            "_model_module": "@jupyter-widgets/base",
            "_model_module_version": "1.2.0",
            "_model_name": "LayoutModel",
            "_view_count": null,
            "_view_module": "@jupyter-widgets/base",
            "_view_module_version": "1.2.0",
            "_view_name": "LayoutView",
            "align_content": null,
            "align_items": null,
            "align_self": null,
            "border": null,
            "bottom": null,
            "display": null,
            "flex": null,
            "flex_flow": null,
            "grid_area": null,
            "grid_auto_columns": null,
            "grid_auto_flow": null,
            "grid_auto_rows": null,
            "grid_column": null,
            "grid_gap": null,
            "grid_row": null,
            "grid_template_areas": null,
            "grid_template_columns": null,
            "grid_template_rows": null,
            "height": null,
            "justify_content": null,
            "justify_items": null,
            "left": null,
            "margin": null,
            "max_height": null,
            "max_width": null,
            "min_height": null,
            "min_width": null,
            "object_fit": null,
            "object_position": null,
            "order": null,
            "overflow": null,
            "overflow_x": null,
            "overflow_y": null,
            "padding": null,
            "right": null,
            "top": null,
            "visibility": null,
            "width": null
          }
        },
        "5f9ca1b8a0bf4c9dbd276a6766bcad6c": {
          "model_module": "@jupyter-widgets/base",
          "model_name": "LayoutModel",
          "model_module_version": "1.2.0",
          "state": {
            "_model_module": "@jupyter-widgets/base",
            "_model_module_version": "1.2.0",
            "_model_name": "LayoutModel",
            "_view_count": null,
            "_view_module": "@jupyter-widgets/base",
            "_view_module_version": "1.2.0",
            "_view_name": "LayoutView",
            "align_content": null,
            "align_items": null,
            "align_self": null,
            "border": null,
            "bottom": null,
            "display": null,
            "flex": null,
            "flex_flow": null,
            "grid_area": null,
            "grid_auto_columns": null,
            "grid_auto_flow": null,
            "grid_auto_rows": null,
            "grid_column": null,
            "grid_gap": null,
            "grid_row": null,
            "grid_template_areas": null,
            "grid_template_columns": null,
            "grid_template_rows": null,
            "height": null,
            "justify_content": null,
            "justify_items": null,
            "left": null,
            "margin": null,
            "max_height": null,
            "max_width": null,
            "min_height": null,
            "min_width": null,
            "object_fit": null,
            "object_position": null,
            "order": null,
            "overflow": null,
            "overflow_x": null,
            "overflow_y": null,
            "padding": null,
            "right": null,
            "top": null,
            "visibility": null,
            "width": null
          }
        },
        "843e9ac395464e979bd5a8ae9dc47cf8": {
          "model_module": "@jupyter-widgets/controls",
          "model_name": "DescriptionStyleModel",
          "model_module_version": "1.5.0",
          "state": {
            "_model_module": "@jupyter-widgets/controls",
            "_model_module_version": "1.5.0",
            "_model_name": "DescriptionStyleModel",
            "_view_count": null,
            "_view_module": "@jupyter-widgets/base",
            "_view_module_version": "1.2.0",
            "_view_name": "StyleView",
            "description_width": ""
          }
        },
        "894d1980aa36443787a571d64b7710d1": {
          "model_module": "@jupyter-widgets/base",
          "model_name": "LayoutModel",
          "model_module_version": "1.2.0",
          "state": {
            "_model_module": "@jupyter-widgets/base",
            "_model_module_version": "1.2.0",
            "_model_name": "LayoutModel",
            "_view_count": null,
            "_view_module": "@jupyter-widgets/base",
            "_view_module_version": "1.2.0",
            "_view_name": "LayoutView",
            "align_content": null,
            "align_items": null,
            "align_self": null,
            "border": null,
            "bottom": null,
            "display": null,
            "flex": null,
            "flex_flow": null,
            "grid_area": null,
            "grid_auto_columns": null,
            "grid_auto_flow": null,
            "grid_auto_rows": null,
            "grid_column": null,
            "grid_gap": null,
            "grid_row": null,
            "grid_template_areas": null,
            "grid_template_columns": null,
            "grid_template_rows": null,
            "height": null,
            "justify_content": null,
            "justify_items": null,
            "left": null,
            "margin": null,
            "max_height": null,
            "max_width": null,
            "min_height": null,
            "min_width": null,
            "object_fit": null,
            "object_position": null,
            "order": null,
            "overflow": null,
            "overflow_x": null,
            "overflow_y": null,
            "padding": null,
            "right": null,
            "top": null,
            "visibility": null,
            "width": null
          }
        },
        "9a1f9e61f9c045f4b7cf327194d07d1b": {
          "model_module": "@jupyter-widgets/controls",
          "model_name": "ProgressStyleModel",
          "model_module_version": "1.5.0",
          "state": {
            "_model_module": "@jupyter-widgets/controls",
            "_model_module_version": "1.5.0",
            "_model_name": "ProgressStyleModel",
            "_view_count": null,
            "_view_module": "@jupyter-widgets/base",
            "_view_module_version": "1.2.0",
            "_view_name": "StyleView",
            "bar_color": null,
            "description_width": ""
          }
        },
        "48a94eb7cedb402684c380755f8a1d19": {
          "model_module": "@jupyter-widgets/controls",
          "model_name": "VBoxModel",
          "model_module_version": "1.5.0",
          "state": {
            "_dom_classes": [],
            "_model_module": "@jupyter-widgets/controls",
            "_model_module_version": "1.5.0",
            "_model_name": "VBoxModel",
            "_view_count": null,
            "_view_module": "@jupyter-widgets/controls",
            "_view_module_version": "1.5.0",
            "_view_name": "VBoxView",
            "box_style": "",
            "children": [
              "IPY_MODEL_4ab203c6fe77422abe944c08364a0bdb",
              "IPY_MODEL_39b30dbab7af49118b1d7f737c1c7bd7"
            ],
            "layout": "IPY_MODEL_45ac19f234344e4b894bfddff6473785"
          }
        },
        "4ab203c6fe77422abe944c08364a0bdb": {
          "model_module": "@jupyter-widgets/controls",
          "model_name": "LabelModel",
          "model_module_version": "1.5.0",
          "state": {
            "_dom_classes": [],
            "_model_module": "@jupyter-widgets/controls",
            "_model_module_version": "1.5.0",
            "_model_name": "LabelModel",
            "_view_count": null,
            "_view_module": "@jupyter-widgets/controls",
            "_view_module_version": "1.5.0",
            "_view_name": "LabelView",
            "description": "",
            "description_tooltip": null,
            "layout": "IPY_MODEL_d6b03702eedd4c6b9b421d211f584e12",
            "placeholder": "​",
            "style": "IPY_MODEL_ffb6d1dff9fc4dcd82b4728b8400e100",
            "value": "0.018 MB of 0.018 MB uploaded\r"
          }
        },
        "39b30dbab7af49118b1d7f737c1c7bd7": {
          "model_module": "@jupyter-widgets/controls",
          "model_name": "FloatProgressModel",
          "model_module_version": "1.5.0",
          "state": {
            "_dom_classes": [],
            "_model_module": "@jupyter-widgets/controls",
            "_model_module_version": "1.5.0",
            "_model_name": "FloatProgressModel",
            "_view_count": null,
            "_view_module": "@jupyter-widgets/controls",
            "_view_module_version": "1.5.0",
            "_view_name": "ProgressView",
            "bar_style": "",
            "description": "",
            "description_tooltip": null,
            "layout": "IPY_MODEL_156cd7362be440d9a380439c2932ac21",
            "max": 1,
            "min": 0,
            "orientation": "horizontal",
            "style": "IPY_MODEL_441c8ae9283640988b61ecf93ca79d50",
            "value": 1
          }
        },
        "45ac19f234344e4b894bfddff6473785": {
          "model_module": "@jupyter-widgets/base",
          "model_name": "LayoutModel",
          "model_module_version": "1.2.0",
          "state": {
            "_model_module": "@jupyter-widgets/base",
            "_model_module_version": "1.2.0",
            "_model_name": "LayoutModel",
            "_view_count": null,
            "_view_module": "@jupyter-widgets/base",
            "_view_module_version": "1.2.0",
            "_view_name": "LayoutView",
            "align_content": null,
            "align_items": null,
            "align_self": null,
            "border": null,
            "bottom": null,
            "display": null,
            "flex": null,
            "flex_flow": null,
            "grid_area": null,
            "grid_auto_columns": null,
            "grid_auto_flow": null,
            "grid_auto_rows": null,
            "grid_column": null,
            "grid_gap": null,
            "grid_row": null,
            "grid_template_areas": null,
            "grid_template_columns": null,
            "grid_template_rows": null,
            "height": null,
            "justify_content": null,
            "justify_items": null,
            "left": null,
            "margin": null,
            "max_height": null,
            "max_width": null,
            "min_height": null,
            "min_width": null,
            "object_fit": null,
            "object_position": null,
            "order": null,
            "overflow": null,
            "overflow_x": null,
            "overflow_y": null,
            "padding": null,
            "right": null,
            "top": null,
            "visibility": null,
            "width": null
          }
        },
        "d6b03702eedd4c6b9b421d211f584e12": {
          "model_module": "@jupyter-widgets/base",
          "model_name": "LayoutModel",
          "model_module_version": "1.2.0",
          "state": {
            "_model_module": "@jupyter-widgets/base",
            "_model_module_version": "1.2.0",
            "_model_name": "LayoutModel",
            "_view_count": null,
            "_view_module": "@jupyter-widgets/base",
            "_view_module_version": "1.2.0",
            "_view_name": "LayoutView",
            "align_content": null,
            "align_items": null,
            "align_self": null,
            "border": null,
            "bottom": null,
            "display": null,
            "flex": null,
            "flex_flow": null,
            "grid_area": null,
            "grid_auto_columns": null,
            "grid_auto_flow": null,
            "grid_auto_rows": null,
            "grid_column": null,
            "grid_gap": null,
            "grid_row": null,
            "grid_template_areas": null,
            "grid_template_columns": null,
            "grid_template_rows": null,
            "height": null,
            "justify_content": null,
            "justify_items": null,
            "left": null,
            "margin": null,
            "max_height": null,
            "max_width": null,
            "min_height": null,
            "min_width": null,
            "object_fit": null,
            "object_position": null,
            "order": null,
            "overflow": null,
            "overflow_x": null,
            "overflow_y": null,
            "padding": null,
            "right": null,
            "top": null,
            "visibility": null,
            "width": null
          }
        },
        "ffb6d1dff9fc4dcd82b4728b8400e100": {
          "model_module": "@jupyter-widgets/controls",
          "model_name": "DescriptionStyleModel",
          "model_module_version": "1.5.0",
          "state": {
            "_model_module": "@jupyter-widgets/controls",
            "_model_module_version": "1.5.0",
            "_model_name": "DescriptionStyleModel",
            "_view_count": null,
            "_view_module": "@jupyter-widgets/base",
            "_view_module_version": "1.2.0",
            "_view_name": "StyleView",
            "description_width": ""
          }
        },
        "156cd7362be440d9a380439c2932ac21": {
          "model_module": "@jupyter-widgets/base",
          "model_name": "LayoutModel",
          "model_module_version": "1.2.0",
          "state": {
            "_model_module": "@jupyter-widgets/base",
            "_model_module_version": "1.2.0",
            "_model_name": "LayoutModel",
            "_view_count": null,
            "_view_module": "@jupyter-widgets/base",
            "_view_module_version": "1.2.0",
            "_view_name": "LayoutView",
            "align_content": null,
            "align_items": null,
            "align_self": null,
            "border": null,
            "bottom": null,
            "display": null,
            "flex": null,
            "flex_flow": null,
            "grid_area": null,
            "grid_auto_columns": null,
            "grid_auto_flow": null,
            "grid_auto_rows": null,
            "grid_column": null,
            "grid_gap": null,
            "grid_row": null,
            "grid_template_areas": null,
            "grid_template_columns": null,
            "grid_template_rows": null,
            "height": null,
            "justify_content": null,
            "justify_items": null,
            "left": null,
            "margin": null,
            "max_height": null,
            "max_width": null,
            "min_height": null,
            "min_width": null,
            "object_fit": null,
            "object_position": null,
            "order": null,
            "overflow": null,
            "overflow_x": null,
            "overflow_y": null,
            "padding": null,
            "right": null,
            "top": null,
            "visibility": null,
            "width": null
          }
        },
        "441c8ae9283640988b61ecf93ca79d50": {
          "model_module": "@jupyter-widgets/controls",
          "model_name": "ProgressStyleModel",
          "model_module_version": "1.5.0",
          "state": {
            "_model_module": "@jupyter-widgets/controls",
            "_model_module_version": "1.5.0",
            "_model_name": "ProgressStyleModel",
            "_view_count": null,
            "_view_module": "@jupyter-widgets/base",
            "_view_module_version": "1.2.0",
            "_view_name": "StyleView",
            "bar_color": null,
            "description_width": ""
          }
        },
        "64d7d82dc8844794a8fc411427c9cf16": {
          "model_module": "@jupyter-widgets/controls",
          "model_name": "VBoxModel",
          "model_module_version": "1.5.0",
          "state": {
            "_dom_classes": [],
            "_model_module": "@jupyter-widgets/controls",
            "_model_module_version": "1.5.0",
            "_model_name": "VBoxModel",
            "_view_count": null,
            "_view_module": "@jupyter-widgets/controls",
            "_view_module_version": "1.5.0",
            "_view_name": "VBoxView",
            "box_style": "",
            "children": [
              "IPY_MODEL_e5682a018b9f4edebd9696c3a7c0c9d2",
              "IPY_MODEL_2779e2d7129d4ca59882f665ecab1cc3"
            ],
            "layout": "IPY_MODEL_b73fb00c508546eaa87995232fbe1222"
          }
        },
        "e5682a018b9f4edebd9696c3a7c0c9d2": {
          "model_module": "@jupyter-widgets/controls",
          "model_name": "LabelModel",
          "model_module_version": "1.5.0",
          "state": {
            "_dom_classes": [],
            "_model_module": "@jupyter-widgets/controls",
            "_model_module_version": "1.5.0",
            "_model_name": "LabelModel",
            "_view_count": null,
            "_view_module": "@jupyter-widgets/controls",
            "_view_module_version": "1.5.0",
            "_view_name": "LabelView",
            "description": "",
            "description_tooltip": null,
            "layout": "IPY_MODEL_f58551b2e4dc447a9b728eff02abb15e",
            "placeholder": "​",
            "style": "IPY_MODEL_67c8b9600acf4a4589c35008c9a189a8",
            "value": "0.018 MB of 0.018 MB uploaded\r"
          }
        },
        "2779e2d7129d4ca59882f665ecab1cc3": {
          "model_module": "@jupyter-widgets/controls",
          "model_name": "FloatProgressModel",
          "model_module_version": "1.5.0",
          "state": {
            "_dom_classes": [],
            "_model_module": "@jupyter-widgets/controls",
            "_model_module_version": "1.5.0",
            "_model_name": "FloatProgressModel",
            "_view_count": null,
            "_view_module": "@jupyter-widgets/controls",
            "_view_module_version": "1.5.0",
            "_view_name": "ProgressView",
            "bar_style": "",
            "description": "",
            "description_tooltip": null,
            "layout": "IPY_MODEL_6222b76cb56445b9962b60af4207af43",
            "max": 1,
            "min": 0,
            "orientation": "horizontal",
            "style": "IPY_MODEL_b047fa0a898f4bba9a0533b2e8bd6231",
            "value": 1
          }
        },
        "b73fb00c508546eaa87995232fbe1222": {
          "model_module": "@jupyter-widgets/base",
          "model_name": "LayoutModel",
          "model_module_version": "1.2.0",
          "state": {
            "_model_module": "@jupyter-widgets/base",
            "_model_module_version": "1.2.0",
            "_model_name": "LayoutModel",
            "_view_count": null,
            "_view_module": "@jupyter-widgets/base",
            "_view_module_version": "1.2.0",
            "_view_name": "LayoutView",
            "align_content": null,
            "align_items": null,
            "align_self": null,
            "border": null,
            "bottom": null,
            "display": null,
            "flex": null,
            "flex_flow": null,
            "grid_area": null,
            "grid_auto_columns": null,
            "grid_auto_flow": null,
            "grid_auto_rows": null,
            "grid_column": null,
            "grid_gap": null,
            "grid_row": null,
            "grid_template_areas": null,
            "grid_template_columns": null,
            "grid_template_rows": null,
            "height": null,
            "justify_content": null,
            "justify_items": null,
            "left": null,
            "margin": null,
            "max_height": null,
            "max_width": null,
            "min_height": null,
            "min_width": null,
            "object_fit": null,
            "object_position": null,
            "order": null,
            "overflow": null,
            "overflow_x": null,
            "overflow_y": null,
            "padding": null,
            "right": null,
            "top": null,
            "visibility": null,
            "width": null
          }
        },
        "f58551b2e4dc447a9b728eff02abb15e": {
          "model_module": "@jupyter-widgets/base",
          "model_name": "LayoutModel",
          "model_module_version": "1.2.0",
          "state": {
            "_model_module": "@jupyter-widgets/base",
            "_model_module_version": "1.2.0",
            "_model_name": "LayoutModel",
            "_view_count": null,
            "_view_module": "@jupyter-widgets/base",
            "_view_module_version": "1.2.0",
            "_view_name": "LayoutView",
            "align_content": null,
            "align_items": null,
            "align_self": null,
            "border": null,
            "bottom": null,
            "display": null,
            "flex": null,
            "flex_flow": null,
            "grid_area": null,
            "grid_auto_columns": null,
            "grid_auto_flow": null,
            "grid_auto_rows": null,
            "grid_column": null,
            "grid_gap": null,
            "grid_row": null,
            "grid_template_areas": null,
            "grid_template_columns": null,
            "grid_template_rows": null,
            "height": null,
            "justify_content": null,
            "justify_items": null,
            "left": null,
            "margin": null,
            "max_height": null,
            "max_width": null,
            "min_height": null,
            "min_width": null,
            "object_fit": null,
            "object_position": null,
            "order": null,
            "overflow": null,
            "overflow_x": null,
            "overflow_y": null,
            "padding": null,
            "right": null,
            "top": null,
            "visibility": null,
            "width": null
          }
        },
        "67c8b9600acf4a4589c35008c9a189a8": {
          "model_module": "@jupyter-widgets/controls",
          "model_name": "DescriptionStyleModel",
          "model_module_version": "1.5.0",
          "state": {
            "_model_module": "@jupyter-widgets/controls",
            "_model_module_version": "1.5.0",
            "_model_name": "DescriptionStyleModel",
            "_view_count": null,
            "_view_module": "@jupyter-widgets/base",
            "_view_module_version": "1.2.0",
            "_view_name": "StyleView",
            "description_width": ""
          }
        },
        "6222b76cb56445b9962b60af4207af43": {
          "model_module": "@jupyter-widgets/base",
          "model_name": "LayoutModel",
          "model_module_version": "1.2.0",
          "state": {
            "_model_module": "@jupyter-widgets/base",
            "_model_module_version": "1.2.0",
            "_model_name": "LayoutModel",
            "_view_count": null,
            "_view_module": "@jupyter-widgets/base",
            "_view_module_version": "1.2.0",
            "_view_name": "LayoutView",
            "align_content": null,
            "align_items": null,
            "align_self": null,
            "border": null,
            "bottom": null,
            "display": null,
            "flex": null,
            "flex_flow": null,
            "grid_area": null,
            "grid_auto_columns": null,
            "grid_auto_flow": null,
            "grid_auto_rows": null,
            "grid_column": null,
            "grid_gap": null,
            "grid_row": null,
            "grid_template_areas": null,
            "grid_template_columns": null,
            "grid_template_rows": null,
            "height": null,
            "justify_content": null,
            "justify_items": null,
            "left": null,
            "margin": null,
            "max_height": null,
            "max_width": null,
            "min_height": null,
            "min_width": null,
            "object_fit": null,
            "object_position": null,
            "order": null,
            "overflow": null,
            "overflow_x": null,
            "overflow_y": null,
            "padding": null,
            "right": null,
            "top": null,
            "visibility": null,
            "width": null
          }
        },
        "b047fa0a898f4bba9a0533b2e8bd6231": {
          "model_module": "@jupyter-widgets/controls",
          "model_name": "ProgressStyleModel",
          "model_module_version": "1.5.0",
          "state": {
            "_model_module": "@jupyter-widgets/controls",
            "_model_module_version": "1.5.0",
            "_model_name": "ProgressStyleModel",
            "_view_count": null,
            "_view_module": "@jupyter-widgets/base",
            "_view_module_version": "1.2.0",
            "_view_name": "StyleView",
            "bar_color": null,
            "description_width": ""
          }
        }
      }
    }
  },
  "nbformat": 4,
  "nbformat_minor": 5
}