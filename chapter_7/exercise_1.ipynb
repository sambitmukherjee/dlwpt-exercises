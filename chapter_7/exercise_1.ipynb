{
  "cells": [
    {
      "cell_type": "markdown",
      "metadata": {
        "id": "2xNo0GDVoPKL"
      },
      "source": [
        "**Exercise 1.** Use torchvision to implement random cropping of the data.\n",
        "\n",
        "a. How are the resulting images different from the uncropped originals?\n",
        "\n",
        "b. What happens when you request the same image a second time?\n",
        "\n",
        "c. What is the result of training using randomly cropped images?"
      ]
    },
    {
      "cell_type": "code",
      "execution_count": null,
      "metadata": {
        "id": "xuXOUtZ85Luz"
      },
      "outputs": [],
      "source": [
        "!pip install -q datasets"
      ]
    },
    {
      "cell_type": "code",
      "execution_count": null,
      "metadata": {
        "id": "K7LB8IrXz5ll"
      },
      "outputs": [],
      "source": [
        "!pip install -q wandb"
      ]
    },
    {
      "cell_type": "markdown",
      "metadata": {
        "id": "aAMrSGYT-0Ar"
      },
      "source": [
        "If running this notebook in Colab, please ensure that your Hugging Face `HF_TOKEN` and your Weights & Biases `WANDB_API_KEY` are added to your Colab secrets.\n",
        "\n",
        "Alternatively, please login to Hugging Face and Weights & Biases by running the following two cells."
      ]
    },
    {
      "cell_type": "code",
      "execution_count": null,
      "metadata": {
        "id": "O2fsazfAAnaz"
      },
      "outputs": [],
      "source": [
        "# !huggingface-cli login"
      ]
    },
    {
      "cell_type": "code",
      "execution_count": null,
      "metadata": {
        "id": "8o7AQmIdA8dw"
      },
      "outputs": [],
      "source": [
        "# !wandb login"
      ]
    },
    {
      "cell_type": "code",
      "execution_count": null,
      "metadata": {
        "id": "uL3Ad_jOz9VZ"
      },
      "outputs": [],
      "source": [
        "import os\n",
        "import random\n",
        "import numpy as np\n",
        "import torch\n",
        "\n",
        "def seed_everything(seed):\n",
        "    os.environ['PYTHONHASHSEED'] = str(seed)\n",
        "    random.seed(seed)\n",
        "    np.random.seed(seed)\n",
        "    torch.manual_seed(seed)\n",
        "    torch.cuda.manual_seed(seed)\n",
        "    torch.cuda.manual_seed_all(seed)\n",
        "    torch.backends.cudnn.deterministic = True\n",
        "    torch.backends.cudnn.benchmark = False\n",
        "\n",
        "seed_everything(42)"
      ]
    },
    {
      "cell_type": "code",
      "execution_count": null,
      "metadata": {
        "colab": {
          "base_uri": "https://localhost:8080/"
        },
        "id": "AHENUTm45ncZ",
        "outputId": "9eee1259-1fa1-4a2e-a00e-67dc86368f08"
      },
      "outputs": [
        {
          "data": {
            "text/plain": [
              "DatasetDict({\n",
              "    train: Dataset({\n",
              "        features: ['img', 'label'],\n",
              "        num_rows: 50000\n",
              "    })\n",
              "    test: Dataset({\n",
              "        features: ['img', 'label'],\n",
              "        num_rows: 10000\n",
              "    })\n",
              "})"
            ]
          },
          "execution_count": 6,
          "metadata": {},
          "output_type": "execute_result"
        }
      ],
      "source": [
        "from datasets import load_dataset\n",
        "\n",
        "cifar10 = load_dataset(\"cifar10\")\n",
        "cifar10"
      ]
    },
    {
      "cell_type": "code",
      "execution_count": null,
      "metadata": {
        "colab": {
          "base_uri": "https://localhost:8080/"
        },
        "id": "x3UgDkpc5zLI",
        "outputId": "0cba263d-ee80-4537-94c2-2e46b6118213"
      },
      "outputs": [
        {
          "data": {
            "text/plain": [
              "{'img': Image(decode=True, id=None),\n",
              " 'label': ClassLabel(names=['airplane', 'automobile', 'bird', 'cat', 'deer', 'dog', 'frog', 'horse', 'ship', 'truck'], id=None)}"
            ]
          },
          "execution_count": 7,
          "metadata": {},
          "output_type": "execute_result"
        }
      ],
      "source": [
        "features = cifar10['train'].features\n",
        "features"
      ]
    },
    {
      "cell_type": "code",
      "execution_count": null,
      "metadata": {
        "colab": {
          "base_uri": "https://localhost:8080/"
        },
        "id": "AKes-1fQ53sd",
        "outputId": "2a503bd4-44a5-4bc6-cac3-73c2e24a18b3"
      },
      "outputs": [
        {
          "data": {
            "text/plain": [
              "{0: 'airplane',\n",
              " 1: 'automobile',\n",
              " 2: 'bird',\n",
              " 3: 'cat',\n",
              " 4: 'deer',\n",
              " 5: 'dog',\n",
              " 6: 'frog',\n",
              " 7: 'horse',\n",
              " 8: 'ship',\n",
              " 9: 'truck'}"
            ]
          },
          "execution_count": 8,
          "metadata": {},
          "output_type": "execute_result"
        }
      ],
      "source": [
        "id2label = {id: label for id, label in enumerate(features['label'].names)}\n",
        "id2label"
      ]
    },
    {
      "cell_type": "markdown",
      "metadata": {
        "id": "PJ6jGdGVJLbX"
      },
      "source": [
        "Foe the sake of comparison and learning, we shall try out three different transforms."
      ]
    },
    {
      "cell_type": "code",
      "execution_count": null,
      "metadata": {
        "id": "MdFJ07NS6CFn"
      },
      "outputs": [],
      "source": [
        "from torchvision.transforms import v2\n",
        "\n",
        "random_crop24 = v2.RandomCrop(24)\n",
        "random_crop32 = v2.RandomCrop(32)\n",
        "random_resized_crop32 = v2.RandomResizedCrop(32, scale=(0.5, 0.75))"
      ]
    },
    {
      "cell_type": "markdown",
      "metadata": {
        "id": "8e7w4Oo6Feed"
      },
      "source": [
        "**Documentations:**\n",
        "\n",
        "- <a href=\"https://pytorch.org/vision/main/generated/torchvision.transforms.v2.RandomCrop.html\" target=\"_blank\">RandomCrop</a>: Crop the input at a random location.\n",
        "\n",
        "\n",
        "- <a href=\"https://pytorch.org/vision/main/generated/torchvision.transforms.v2.RandomResizedCrop.html\" target=\"_blank\">RandomResizedCrop</a>: Crop a random portion of the input and resize it to a given size. (So, it's a two step procedure.)\n",
        "\n",
        "    > **scale** *(tuple of python:float, optional)* - Specifies the lower and upper bounds for the random area of the crop, before resizing. The scale is defined with respect to the area of the original image."
      ]
    },
    {
      "cell_type": "code",
      "execution_count": null,
      "metadata": {
        "colab": {
          "base_uri": "https://localhost:8080/"
        },
        "id": "64sFI9bG7C16",
        "outputId": "c75245e2-9527-4a4f-ded1-3d60cf29b535"
      },
      "outputs": [
        {
          "data": {
            "text/plain": [
              "{'img': <PIL.PngImagePlugin.PngImageFile image mode=RGB size=32x32>,\n",
              " 'label': 0}"
            ]
          },
          "execution_count": 10,
          "metadata": {},
          "output_type": "execute_result"
        }
      ],
      "source": [
        "example0 = cifar10['train'][0]\n",
        "example0"
      ]
    },
    {
      "cell_type": "code",
      "execution_count": null,
      "metadata": {
        "colab": {
          "base_uri": "https://localhost:8080/",
          "height": 49
        },
        "id": "GuFDN-UL7Ht9",
        "outputId": "77ca68a9-72d3-4ab0-f339-e310c992b864"
      },
      "outputs": [
        {
          "data": {
            "image/png": "[encoded data removed]",
            "text/plain": [
              "<PIL.PngImagePlugin.PngImageFile image mode=RGB size=32x32>"
            ]
          },
          "execution_count": 11,
          "metadata": {},
          "output_type": "execute_result"
        }
      ],
      "source": [
        "example0['img']"
      ]
    },
    {
      "cell_type": "code",
      "execution_count": null,
      "metadata": {
        "colab": {
          "base_uri": "https://localhost:8080/",
          "height": 430
        },
        "id": "dC8qY9mB7KWn",
        "outputId": "a58d4254-4524-40dd-9661-4b1045c95b3e"
      },
      "outputs": [
        {
          "data": {
            "image/png": "[encoded data removed]",
            "text/plain": [
              "<Figure size 640x480 with 1 Axes>"
            ]
          },
          "metadata": {},
          "output_type": "display_data"
        }
      ],
      "source": [
        "import matplotlib.pyplot as plt\n",
        "\n",
        "plt.imshow(example0['img']);"
      ]
    },
    {
      "cell_type": "code",
      "execution_count": null,
      "metadata": {
        "colab": {
          "base_uri": "https://localhost:8080/",
          "height": 35
        },
        "id": "uGf6Myct7Qg8",
        "outputId": "1a7783e4-2978-4a49-e286-665a341fb46d"
      },
      "outputs": [
        {
          "data": {
            "application/vnd.google.colaboratory.intrinsic+json": {
              "type": "string"
            },
            "text/plain": [
              "'airplane'"
            ]
          },
          "execution_count": 13,
          "metadata": {},
          "output_type": "execute_result"
        }
      ],
      "source": [
        "id2label[example0['label']]"
      ]
    },
    {
      "cell_type": "code",
      "execution_count": null,
      "metadata": {
        "colab": {
          "base_uri": "https://localhost:8080/",
          "height": 41
        },
        "id": "IgV0kW357Tjn",
        "outputId": "191eba72-63fb-4dee-f769-b8bbc9ec570e"
      },
      "outputs": [
        {
          "data": {
            "image/png": "[encoded data removed]",
            "text/plain": [
              "<PIL.Image.Image image mode=RGB size=24x24>"
            ]
          },
          "execution_count": 14,
          "metadata": {},
          "output_type": "execute_result"
        }
      ],
      "source": [
        "random_crop24(example0['img'])"
      ]
    },
    {
      "cell_type": "code",
      "execution_count": null,
      "metadata": {
        "colab": {
          "base_uri": "https://localhost:8080/"
        },
        "id": "5CWGfDKs7XPV",
        "outputId": "b96c6fab-ae8c-4ef1-9596-69f66876a971"
      },
      "outputs": [
        {
          "data": {
            "text/plain": [
              "PIL.Image.Image"
            ]
          },
          "execution_count": 15,
          "metadata": {},
          "output_type": "execute_result"
        }
      ],
      "source": [
        "type(random_crop24(example0['img']))"
      ]
    },
    {
      "cell_type": "code",
      "execution_count": null,
      "metadata": {
        "colab": {
          "base_uri": "https://localhost:8080/",
          "height": 430
        },
        "id": "YwPrBQ_X7ciu",
        "outputId": "d7f8dd08-50a3-4298-f58f-7db1b86b8eca"
      },
      "outputs": [
        {
          "data": {
            "image/png": "[encoded data removed]",
            "text/plain": [
              "<Figure size 640x480 with 1 Axes>"
            ]
          },
          "metadata": {},
          "output_type": "display_data"
        }
      ],
      "source": [
        "plt.imshow(random_crop24(example0['img']));"
      ]
    },
    {
      "cell_type": "markdown",
      "metadata": {
        "id": "li9tjl6gG6-u"
      },
      "source": [
        "Answer to (a): A 24px by 24px image patch is cropped at random.\n",
        "\n",
        "Performing the same transform a second time:"
      ]
    },
    {
      "cell_type": "code",
      "execution_count": null,
      "metadata": {
        "colab": {
          "base_uri": "https://localhost:8080/",
          "height": 430
        },
        "id": "6Cy8svgC7mZc",
        "outputId": "a111c62e-9fac-4e93-98e3-b12252216a74"
      },
      "outputs": [
        {
          "data": {
            "image/png": "[encoded data removed]",
            "text/plain": [
              "<Figure size 640x480 with 1 Axes>"
            ]
          },
          "metadata": {},
          "output_type": "display_data"
        }
      ],
      "source": [
        "plt.imshow(random_crop24(example0['img']));"
      ]
    },
    {
      "cell_type": "markdown",
      "metadata": {
        "id": "R9_bu5ziKZJg"
      },
      "source": [
        "Answer to (b): A different random patch is chosen the second time.\n",
        "\n",
        "Comparison with `RandomCrop(32)`:"
      ]
    },
    {
      "cell_type": "code",
      "execution_count": null,
      "metadata": {
        "colab": {
          "base_uri": "https://localhost:8080/",
          "height": 430
        },
        "id": "rvwMAmXU7uKE",
        "outputId": "0e5f0aec-0714-4c95-9254-9bb9721154eb"
      },
      "outputs": [
        {
          "data": {
            "image/png": "[encoded data removed]",
            "text/plain": [
              "<Figure size 640x480 with 1 Axes>"
            ]
          },
          "metadata": {},
          "output_type": "display_data"
        }
      ],
      "source": [
        "plt.imshow(random_crop32(example0['img']));"
      ]
    },
    {
      "cell_type": "markdown",
      "metadata": {
        "id": "qRR0hSqdG3DU"
      },
      "source": [
        "The image is unchanged from the original.\n",
        "\n",
        "Comparison with `RandomResizedCrop(32, scale=(0.5, 0.75))`:"
      ]
    },
    {
      "cell_type": "code",
      "execution_count": null,
      "metadata": {
        "colab": {
          "base_uri": "https://localhost:8080/",
          "height": 430
        },
        "id": "ii4Fohwq709n",
        "outputId": "83a2b83d-d69c-4e1c-f921-e6b8e29976c9"
      },
      "outputs": [
        {
          "data": {
            "image/png": "[encoded data removed]",
            "text/plain": [
              "<Figure size 640x480 with 1 Axes>"
            ]
          },
          "metadata": {},
          "output_type": "display_data"
        }
      ],
      "source": [
        "plt.imshow(random_resized_crop32(example0['img']));"
      ]
    },
    {
      "cell_type": "markdown",
      "metadata": {
        "id": "_5-SIUmsJmk7"
      },
      "source": [
        "A random patch is cropped. Then, the patch is resized to a 32px by 32px image.\n",
        "\n",
        "Let's do a couple of more images to get a feel for these transforms."
      ]
    },
    {
      "cell_type": "code",
      "execution_count": null,
      "metadata": {
        "colab": {
          "base_uri": "https://localhost:8080/"
        },
        "id": "oeWQLPWU8AZ6",
        "outputId": "e3c36b23-91db-48b1-ea84-1060fcffa71c"
      },
      "outputs": [
        {
          "data": {
            "text/plain": [
              "{'img': <PIL.PngImagePlugin.PngImageFile image mode=RGB size=32x32>,\n",
              " 'label': 6}"
            ]
          },
          "execution_count": 20,
          "metadata": {},
          "output_type": "execute_result"
        }
      ],
      "source": [
        "example1 = cifar10['train'][1]\n",
        "example1"
      ]
    },
    {
      "cell_type": "code",
      "execution_count": null,
      "metadata": {
        "colab": {
          "base_uri": "https://localhost:8080/",
          "height": 430
        },
        "id": "PsKVsQWY8EeT",
        "outputId": "7f6905b2-5882-4d75-9fd4-a7e348e0c41d"
      },
      "outputs": [
        {
          "data": {
            "image/png": "[encoded data removed]",
            "text/plain": [
              "<Figure size 640x480 with 1 Axes>"
            ]
          },
          "metadata": {},
          "output_type": "display_data"
        }
      ],
      "source": [
        "plt.imshow(example1['img']);"
      ]
    },
    {
      "cell_type": "code",
      "execution_count": null,
      "metadata": {
        "colab": {
          "base_uri": "https://localhost:8080/",
          "height": 35
        },
        "id": "Bob5sEWZ8HkQ",
        "outputId": "b9f99b5c-9853-41be-e909-8fd6f4e58d0b"
      },
      "outputs": [
        {
          "data": {
            "application/vnd.google.colaboratory.intrinsic+json": {
              "type": "string"
            },
            "text/plain": [
              "'frog'"
            ]
          },
          "execution_count": 22,
          "metadata": {},
          "output_type": "execute_result"
        }
      ],
      "source": [
        "id2label[example1['label']]"
      ]
    },
    {
      "cell_type": "code",
      "execution_count": null,
      "metadata": {
        "colab": {
          "base_uri": "https://localhost:8080/",
          "height": 430
        },
        "id": "GW_t7KeE8Kn5",
        "outputId": "2b447c9e-fe59-4166-ead6-edb3c586d3bb"
      },
      "outputs": [
        {
          "data": {
            "image/png": "[encoded data removed]",
            "text/plain": [
              "<Figure size 640x480 with 1 Axes>"
            ]
          },
          "metadata": {},
          "output_type": "display_data"
        }
      ],
      "source": [
        "plt.imshow(random_crop24(example1['img']));"
      ]
    },
    {
      "cell_type": "code",
      "execution_count": null,
      "metadata": {
        "colab": {
          "base_uri": "https://localhost:8080/",
          "height": 430
        },
        "id": "p4E2pMts8Px0",
        "outputId": "7fc2258f-dff7-48ad-9a56-465c6348149f"
      },
      "outputs": [
        {
          "data": {
            "image/png": "[encoded data removed]",
            "text/plain": [
              "<Figure size 640x480 with 1 Axes>"
            ]
          },
          "metadata": {},
          "output_type": "display_data"
        }
      ],
      "source": [
        "plt.imshow(random_crop32(example1['img']));"
      ]
    },
    {
      "cell_type": "code",
      "execution_count": null,
      "metadata": {
        "colab": {
          "base_uri": "https://localhost:8080/",
          "height": 430
        },
        "id": "_WH_pI0z8VNY",
        "outputId": "780d49a1-b0f8-455f-bd52-b36668555d77"
      },
      "outputs": [
        {
          "data": {
            "image/png": "[encoded data removed]",
            "text/plain": [
              "<Figure size 640x480 with 1 Axes>"
            ]
          },
          "metadata": {},
          "output_type": "display_data"
        }
      ],
      "source": [
        "plt.imshow(random_resized_crop32(example1['img']));"
      ]
    },
    {
      "cell_type": "code",
      "execution_count": null,
      "metadata": {
        "colab": {
          "base_uri": "https://localhost:8080/"
        },
        "id": "5Ly05LPP8Z-y",
        "outputId": "e981ece6-5d83-4bed-cd59-df7bfa90d6d2"
      },
      "outputs": [
        {
          "data": {
            "text/plain": [
              "{'img': <PIL.PngImagePlugin.PngImageFile image mode=RGB size=32x32>,\n",
              " 'label': 0}"
            ]
          },
          "execution_count": 26,
          "metadata": {},
          "output_type": "execute_result"
        }
      ],
      "source": [
        "example2 = cifar10['train'][2]\n",
        "example2"
      ]
    },
    {
      "cell_type": "code",
      "execution_count": null,
      "metadata": {
        "colab": {
          "base_uri": "https://localhost:8080/",
          "height": 430
        },
        "id": "W7LjS2L38eHz",
        "outputId": "9f3b686e-05e6-4708-966c-d20ea011fb60"
      },
      "outputs": [
        {
          "data": {
            "image/png": "[encoded data removed]",
            "text/plain": [
              "<Figure size 640x480 with 1 Axes>"
            ]
          },
          "metadata": {},
          "output_type": "display_data"
        }
      ],
      "source": [
        "plt.imshow(example2['img']);"
      ]
    },
    {
      "cell_type": "code",
      "execution_count": null,
      "metadata": {
        "colab": {
          "base_uri": "https://localhost:8080/",
          "height": 35
        },
        "id": "LqUmj8UI8h13",
        "outputId": "9e13560c-ec45-4a04-c323-0aa23cc80c74"
      },
      "outputs": [
        {
          "data": {
            "application/vnd.google.colaboratory.intrinsic+json": {
              "type": "string"
            },
            "text/plain": [
              "'airplane'"
            ]
          },
          "execution_count": 28,
          "metadata": {},
          "output_type": "execute_result"
        }
      ],
      "source": [
        "id2label[example2['label']]"
      ]
    },
    {
      "cell_type": "code",
      "execution_count": null,
      "metadata": {
        "colab": {
          "base_uri": "https://localhost:8080/",
          "height": 430
        },
        "id": "zoyrn_Gs8kzD",
        "outputId": "6a7ac1c8-f011-4570-f3dc-f22b41ce2cdd"
      },
      "outputs": [
        {
          "data": {
            "image/png": "[encoded data removed]",
            "text/plain": [
              "<Figure size 640x480 with 1 Axes>"
            ]
          },
          "metadata": {},
          "output_type": "display_data"
        }
      ],
      "source": [
        "plt.imshow(random_crop24(example2['img']));"
      ]
    },
    {
      "cell_type": "code",
      "execution_count": null,
      "metadata": {
        "colab": {
          "base_uri": "https://localhost:8080/",
          "height": 430
        },
        "id": "pZXNGP9R8pio",
        "outputId": "4b55670b-479f-43ef-b349-d6d9039d26be"
      },
      "outputs": [
        {
          "data": {
            "image/png": "[encoded data removed]",
            "text/plain": [
              "<Figure size 640x480 with 1 Axes>"
            ]
          },
          "metadata": {},
          "output_type": "display_data"
        }
      ],
      "source": [
        "plt.imshow(random_crop32(example2['img']));"
      ]
    },
    {
      "cell_type": "code",
      "execution_count": null,
      "metadata": {
        "colab": {
          "base_uri": "https://localhost:8080/",
          "height": 430
        },
        "id": "2-lhDpCM8uFV",
        "outputId": "8e6900af-2be9-44c8-ef8f-d82dd854cb46"
      },
      "outputs": [
        {
          "data": {
            "image/png": "[encoded data removed]",
            "text/plain": [
              "<Figure size 640x480 with 1 Axes>"
            ]
          },
          "metadata": {},
          "output_type": "display_data"
        }
      ],
      "source": [
        "plt.imshow(random_resized_crop32(example2['img']));"
      ]
    },
    {
      "cell_type": "markdown",
      "metadata": {
        "id": "C08RNAF3c205"
      },
      "source": [
        "Now, let's create a PyTorch `Dataset` for model training."
      ]
    },
    {
      "cell_type": "code",
      "execution_count": null,
      "metadata": {
        "id": "_LldQb7P0y-C"
      },
      "outputs": [],
      "source": [
        "from torch.utils.data import Dataset\n",
        "\n",
        "class CIFAR10Dataset(Dataset):\n",
        "    def __init__(self, dataset, tfms):\n",
        "        self.dataset = dataset\n",
        "        self.tfms = tfms\n",
        "\n",
        "    def __len__(self):\n",
        "        return len(self.dataset)\n",
        "\n",
        "    def __getitem__(self, idx):\n",
        "        item = self.dataset[idx]\n",
        "        img, label = item['img'], item['label']\n",
        "        img = self.tfms(img)\n",
        "        return img, label"
      ]
    },
    {
      "cell_type": "markdown",
      "metadata": {
        "id": "KNpKN3moj3tT"
      },
      "source": [
        "**Note:** There is no need to convert `label` to a tensor as the data collator will collate the integers into a tensor anyway."
      ]
    },
    {
      "cell_type": "code",
      "execution_count": null,
      "metadata": {
        "colab": {
          "base_uri": "https://localhost:8080/"
        },
        "id": "7J8wl3F61sei",
        "outputId": "d4aefd1d-ebf3-4fd3-8e2b-8af211981cd2"
      },
      "outputs": [
        {
          "data": {
            "text/plain": [
              "50000"
            ]
          },
          "execution_count": 33,
          "metadata": {},
          "output_type": "execute_result"
        }
      ],
      "source": [
        "train_tfms = v2.Compose([\n",
        "    v2.RandomCrop(24),\n",
        "    v2.ToImage(),\n",
        "    v2.ToDtype(torch.float32, scale=True),\n",
        "    v2.Normalize(mean=[0.4915, 0.4823, 0.4468], std=[0.2470, 0.2435, 0.2616])\n",
        "])\n",
        "cifar10_train = CIFAR10Dataset(cifar10['train'], train_tfms)\n",
        "len(cifar10_train)"
      ]
    },
    {
      "cell_type": "markdown",
      "metadata": {
        "id": "YOCpMIeHhnPU"
      },
      "source": [
        "**Note:** `ToImage()` along with `ToDtype(torch.float32, scale=True)` is a replacement for `ToTensor()` in `torchvision.transforms.v2`."
      ]
    },
    {
      "cell_type": "code",
      "execution_count": null,
      "metadata": {
        "colab": {
          "base_uri": "https://localhost:8080/"
        },
        "id": "vW2CUCdm2fot",
        "outputId": "3e781382-6cfe-42c3-e81e-d2c639f48916"
      },
      "outputs": [
        {
          "data": {
            "text/plain": [
              "(torch.Size([3, 24, 24]), 0)"
            ]
          },
          "execution_count": 34,
          "metadata": {},
          "output_type": "execute_result"
        }
      ],
      "source": [
        "# Sanity check:\n",
        "img, label = cifar10_train[0]\n",
        "img.shape, label"
      ]
    },
    {
      "cell_type": "code",
      "execution_count": null,
      "metadata": {
        "colab": {
          "base_uri": "https://localhost:8080/"
        },
        "id": "M8z3SU2Y2mAt",
        "outputId": "21888dac-a2d3-4f3f-bf9e-f1d1ef5f1a2e"
      },
      "outputs": [
        {
          "data": {
            "text/plain": [
              "10000"
            ]
          },
          "execution_count": 35,
          "metadata": {},
          "output_type": "execute_result"
        }
      ],
      "source": [
        "val_tfms = v2.Compose([\n",
        "    v2.Resize(24),\n",
        "    v2.ToImage(),\n",
        "    v2.ToDtype(torch.float32, scale=True),\n",
        "    v2.Normalize(mean=[0.4915, 0.4823, 0.4468], std=[0.2470, 0.2435, 0.2616])\n",
        "])\n",
        "cifar10_val = CIFAR10Dataset(cifar10['test'], val_tfms)\n",
        "len(cifar10_val)"
      ]
    },
    {
      "cell_type": "markdown",
      "metadata": {
        "id": "HP3mIQkkioEt"
      },
      "source": [
        "**Note:** In the validation set, we replaced `RandomCrop(24)` with `Resize(24)`."
      ]
    },
    {
      "cell_type": "code",
      "execution_count": null,
      "metadata": {
        "colab": {
          "base_uri": "https://localhost:8080/"
        },
        "id": "Ulf0l40b3Ugh",
        "outputId": "dac794af-78b5-484b-b3d7-2bf31346eeec"
      },
      "outputs": [
        {
          "data": {
            "text/plain": [
              "(torch.Size([3, 24, 24]), 3)"
            ]
          },
          "execution_count": 36,
          "metadata": {},
          "output_type": "execute_result"
        }
      ],
      "source": [
        "# Sanity check:\n",
        "img, label = cifar10_val[0]\n",
        "img.shape, label"
      ]
    },
    {
      "cell_type": "code",
      "execution_count": null,
      "metadata": {
        "id": "fexm81ZO3b0W"
      },
      "outputs": [],
      "source": [
        "label_map = {0: 0, 2: 1}\n",
        "class_names = ['airplane', 'bird']"
      ]
    },
    {
      "cell_type": "code",
      "execution_count": null,
      "metadata": {
        "colab": {
          "base_uri": "https://localhost:8080/"
        },
        "id": "crd-OIjV3m9_",
        "outputId": "674fa3e3-1792-41d4-8eab-ce123dd1623c"
      },
      "outputs": [
        {
          "data": {
            "text/plain": [
              "10000"
            ]
          },
          "execution_count": 38,
          "metadata": {},
          "output_type": "execute_result"
        }
      ],
      "source": [
        "cifar2_train = [(img, label_map[label]) for img, label in cifar10_train if label in [0, 2]]\n",
        "len(cifar2_train)"
      ]
    },
    {
      "cell_type": "code",
      "execution_count": null,
      "metadata": {
        "colab": {
          "base_uri": "https://localhost:8080/"
        },
        "id": "Zc6AsuNt4EDp",
        "outputId": "41e0fbfc-e15c-4605-f456-4aaaaa1381a1"
      },
      "outputs": [
        {
          "data": {
            "text/plain": [
              "(torch.Size([3, 24, 24]), 0)"
            ]
          },
          "execution_count": 39,
          "metadata": {},
          "output_type": "execute_result"
        }
      ],
      "source": [
        "# Sanity check:\n",
        "img, label = cifar2_train[0]\n",
        "img.shape, label"
      ]
    },
    {
      "cell_type": "code",
      "execution_count": null,
      "metadata": {
        "colab": {
          "base_uri": "https://localhost:8080/"
        },
        "id": "V5sEJlkH4JjV",
        "outputId": "eedacbff-8a0a-4554-bd7b-080ce1beb01c"
      },
      "outputs": [
        {
          "data": {
            "text/plain": [
              "2000"
            ]
          },
          "execution_count": 40,
          "metadata": {},
          "output_type": "execute_result"
        }
      ],
      "source": [
        "cifar2_val = [(img, label_map[label]) for img, label in cifar10_val if label in [0, 2]]\n",
        "len(cifar2_val)"
      ]
    },
    {
      "cell_type": "code",
      "execution_count": null,
      "metadata": {
        "colab": {
          "base_uri": "https://localhost:8080/"
        },
        "id": "ZaHupnwc4b--",
        "outputId": "99e63657-c8b9-43a7-c980-542e956746f5"
      },
      "outputs": [
        {
          "data": {
            "text/plain": [
              "(torch.Size([3, 24, 24]), 0)"
            ]
          },
          "execution_count": 41,
          "metadata": {},
          "output_type": "execute_result"
        }
      ],
      "source": [
        "# Sanity check:\n",
        "img, label = cifar2_val[0]\n",
        "img.shape, label"
      ]
    },
    {
      "cell_type": "code",
      "execution_count": null,
      "metadata": {
        "id": "T3qmqU0I4iiQ"
      },
      "outputs": [],
      "source": [
        "batch_size = 64"
      ]
    },
    {
      "cell_type": "code",
      "execution_count": null,
      "metadata": {
        "colab": {
          "base_uri": "https://localhost:8080/"
        },
        "id": "VsNVmkxQ4k6U",
        "outputId": "7a6c6c04-21f3-4bbb-8882-2b93f115e77b"
      },
      "outputs": [
        {
          "data": {
            "text/plain": [
              "157"
            ]
          },
          "execution_count": 43,
          "metadata": {},
          "output_type": "execute_result"
        }
      ],
      "source": [
        "from torch.utils.data import DataLoader\n",
        "\n",
        "train_dl = DataLoader(cifar2_train, batch_size=batch_size, shuffle=True, num_workers=2)\n",
        "len(train_dl)"
      ]
    },
    {
      "cell_type": "code",
      "execution_count": null,
      "metadata": {
        "colab": {
          "base_uri": "https://localhost:8080/"
        },
        "id": "KmM7UQ6U4xfu",
        "outputId": "5b798005-c66f-415f-94f1-e64b735c5567"
      },
      "outputs": [
        {
          "data": {
            "text/plain": [
              "(torch.Size([64, 3, 24, 24]), torch.Size([64]))"
            ]
          },
          "execution_count": 44,
          "metadata": {},
          "output_type": "execute_result"
        }
      ],
      "source": [
        "# Sanity check:\n",
        "imgs, labels = next(iter(train_dl))\n",
        "imgs.shape, labels.shape"
      ]
    },
    {
      "cell_type": "code",
      "execution_count": null,
      "metadata": {
        "colab": {
          "base_uri": "https://localhost:8080/"
        },
        "id": "7iRKh-5844lR",
        "outputId": "4c07a84a-0be1-4b39-8411-3b9949668a5d"
      },
      "outputs": [
        {
          "data": {
            "text/plain": [
              "32"
            ]
          },
          "execution_count": 45,
          "metadata": {},
          "output_type": "execute_result"
        }
      ],
      "source": [
        "val_dl = DataLoader(cifar2_val, batch_size=batch_size, shuffle=False, num_workers=2)\n",
        "len(val_dl)"
      ]
    },
    {
      "cell_type": "code",
      "execution_count": null,
      "metadata": {
        "colab": {
          "base_uri": "https://localhost:8080/"
        },
        "id": "22-bus1S5Bjd",
        "outputId": "7d5d4545-d35c-4b1b-8d14-fbd06b239127"
      },
      "outputs": [
        {
          "data": {
            "text/plain": [
              "(torch.Size([64, 3, 24, 24]), torch.Size([64]))"
            ]
          },
          "execution_count": 46,
          "metadata": {},
          "output_type": "execute_result"
        }
      ],
      "source": [
        "# Sanity check:\n",
        "imgs, labels = next(iter(val_dl))\n",
        "imgs.shape, labels.shape"
      ]
    },
    {
      "cell_type": "markdown",
      "metadata": {
        "id": "xTI9d810m5kq"
      },
      "source": [
        "Now, let's define our multi-layer perceptron."
      ]
    },
    {
      "cell_type": "code",
      "execution_count": null,
      "metadata": {
        "colab": {
          "base_uri": "https://localhost:8080/"
        },
        "id": "EIUnx1t96sXl",
        "outputId": "a22c2635-06b7-4557-8f1d-6c9264a9b91d"
      },
      "outputs": [
        {
          "data": {
            "text/plain": [
              "1728"
            ]
          },
          "execution_count": 47,
          "metadata": {},
          "output_type": "execute_result"
        }
      ],
      "source": [
        "# Number of inputs:\n",
        "3 * 24 * 24"
      ]
    },
    {
      "cell_type": "code",
      "execution_count": null,
      "metadata": {
        "colab": {
          "base_uri": "https://localhost:8080/"
        },
        "id": "vT7f66u964Vq",
        "outputId": "8f7668b4-4b33-44e9-b988-c5442d72b3ef"
      },
      "outputs": [
        {
          "data": {
            "text/plain": [
              "MLPForCIFAR2(\n",
              "  (mlp): Sequential(\n",
              "    (0): Linear(in_features=1728, out_features=1024, bias=True)\n",
              "    (1): Tanh()\n",
              "    (2): Linear(in_features=1024, out_features=512, bias=True)\n",
              "    (3): Tanh()\n",
              "    (4): Linear(in_features=512, out_features=128, bias=True)\n",
              "    (5): Tanh()\n",
              "    (6): Linear(in_features=128, out_features=2, bias=True)\n",
              "  )\n",
              ")"
            ]
          },
          "execution_count": 48,
          "metadata": {},
          "output_type": "execute_result"
        }
      ],
      "source": [
        "import torch.nn as nn\n",
        "from huggingface_hub import PyTorchModelHubMixin\n",
        "\n",
        "class MLPForCIFAR2(nn.Module, PyTorchModelHubMixin):\n",
        "    \"\"\"Multi-layer perceptron (MLP) for classifying 'airplane' vs. 'bird' in the CIFAR-2 dataset (a subset of CIFAR-10).\"\"\"\n",
        "\n",
        "    def __init__(self):\n",
        "        super().__init__()\n",
        "        self.mlp = nn.Sequential(\n",
        "            nn.Linear(1728, 1024), # Hidden layer.\n",
        "            nn.Tanh(),\n",
        "            nn.Linear(1024, 512), # Hidden layer.\n",
        "            nn.Tanh(),\n",
        "            nn.Linear(512, 128), # Hidden layer.\n",
        "            nn.Tanh(),\n",
        "            nn.Linear(128, 2) # Output layer.\n",
        "        )\n",
        "\n",
        "    def forward(self, x):\n",
        "        return self.mlp(x)\n",
        "\n",
        "model = MLPForCIFAR2()\n",
        "model"
      ]
    },
    {
      "cell_type": "code",
      "execution_count": null,
      "metadata": {
        "colab": {
          "base_uri": "https://localhost:8080/"
        },
        "id": "TvwkOeoW8uJV",
        "outputId": "5846d7b0-2582-4fa8-a20c-65e1da6d3504"
      },
      "outputs": [
        {
          "data": {
            "text/plain": [
              "torch.Size([64, 2])"
            ]
          },
          "execution_count": 49,
          "metadata": {},
          "output_type": "execute_result"
        }
      ],
      "source": [
        "# Sanity check:\n",
        "with torch.no_grad():\n",
        "    batch_dim = imgs.shape[0]\n",
        "    logits = model(imgs.view(batch_dim, -1)) # Flatten.\n",
        "logits.shape"
      ]
    },
    {
      "cell_type": "code",
      "execution_count": null,
      "metadata": {
        "id": "qER78LiW89tB"
      },
      "outputs": [],
      "source": [
        "from torch.optim import SGD\n",
        "\n",
        "loss_fn = nn.CrossEntropyLoss()\n",
        "learning_rate = 1e-2\n",
        "optimizer = SGD(model.parameters(), lr=learning_rate)\n",
        "n_epochs = 100"
      ]
    },
    {
      "cell_type": "code",
      "execution_count": null,
      "metadata": {
        "colab": {
          "base_uri": "https://localhost:8080/",
          "height": 144
        },
        "id": "m3jRInx4CxP-",
        "outputId": "6325f373-2b73-4e35-e398-1ad07c7338bf"
      },
      "outputs": [
        {
          "name": "stderr",
          "output_type": "stream",
          "text": [
            "\u001b[34m\u001b[1mwandb\u001b[0m: Currently logged in as: \u001b[33msadhaklal\u001b[0m. Use \u001b[1m`wandb login --relogin`\u001b[0m to force relogin\n"
          ]
        },
        {
          "data": {
            "text/html": [
              "Tracking run with wandb version 0.16.2"
            ],
            "text/plain": [
              "<IPython.core.display.HTML object>"
            ]
          },
          "metadata": {},
          "output_type": "display_data"
        },
        {
          "data": {
            "text/html": [
              "Run data is saved locally in <code>/content/wandb/run-20240129_170336-kd5i56pi</code>"
            ],
            "text/plain": [
              "<IPython.core.display.HTML object>"
            ]
          },
          "metadata": {},
          "output_type": "display_data"
        },
        {
          "data": {
            "text/html": [
              "Syncing run <strong><a href='https://wandb.ai/sadhaklal/mlp-cifar2/runs/kd5i56pi' target=\"_blank\">lively-grass-1</a></strong> to <a href='https://wandb.ai/sadhaklal/mlp-cifar2' target=\"_blank\">Weights & Biases</a> (<a href='https://wandb.me/run' target=\"_blank\">docs</a>)<br/>"
            ],
            "text/plain": [
              "<IPython.core.display.HTML object>"
            ]
          },
          "metadata": {},
          "output_type": "display_data"
        },
        {
          "data": {
            "text/html": [
              " View project at <a href='https://wandb.ai/sadhaklal/mlp-cifar2' target=\"_blank\">https://wandb.ai/sadhaklal/mlp-cifar2</a>"
            ],
            "text/plain": [
              "<IPython.core.display.HTML object>"
            ]
          },
          "metadata": {},
          "output_type": "display_data"
        },
        {
          "data": {
            "text/html": [
              " View run at <a href='https://wandb.ai/sadhaklal/mlp-cifar2/runs/kd5i56pi' target=\"_blank\">https://wandb.ai/sadhaklal/mlp-cifar2/runs/kd5i56pi</a>"
            ],
            "text/plain": [
              "<IPython.core.display.HTML object>"
            ]
          },
          "metadata": {},
          "output_type": "display_data"
        },
        {
          "data": {
            "text/html": [
              "<button onClick=\"this.nextSibling.style.display='block';this.style.display='none';\">Display W&B run</button><iframe src='https://wandb.ai/sadhaklal/mlp-cifar2/runs/kd5i56pi?jupyter=true' style='border:none;width:100%;height:420px;display:none;'></iframe>"
            ],
            "text/plain": [
              "<wandb.sdk.wandb_run.Run at 0x781bf64cf250>"
            ]
          },
          "execution_count": 51,
          "metadata": {},
          "output_type": "execute_result"
        }
      ],
      "source": [
        "import wandb\n",
        "\n",
        "wandb.init(\n",
        "    project=\"mlp-cifar2\",\n",
        "    config={\n",
        "        'architecture': \"MLP with 3 hidden layers\",\n",
        "        'dataset': \"CIFAR-2\",\n",
        "        'learning_rate': learning_rate,\n",
        "        'n_epochs': n_epochs,\n",
        "        'batch_size': batch_size\n",
        "    }\n",
        ")"
      ]
    },
    {
      "cell_type": "code",
      "execution_count": null,
      "metadata": {
        "colab": {
          "base_uri": "https://localhost:8080/",
          "height": 1000,
          "referenced_widgets": [
            "94b23dc688d14db5b8f7ef4e8020f7dd",
            "de7d3563876649c2be994ba7de611e3f",
            "e35cbf80749d40e4b0eaa0cb3b14abb6",
            "d9666119ad2a45f68f18e9ae89e3e8d8",
            "ab925aff0dcb48a493ae86c97f3f46a4",
            "baec4d876c444ec887e948406f7436e7",
            "b56d5951cb6f4c59bef639b982a6d138",
            "c5bf7156120545b6884aa9a6fba0ce7a",
            "94638c908b1348c09acef7664e22f6d3",
            "d7cee7afe1864ea495e1163a31a2b785",
            "e7238a4dde1942fc9b9a2e75f6083529",
            "264ac407d2a143d3ba6f7e04ce24abf6",
            "8845f80ff97e48068eecf5565640b8c1",
            "b2f3765b6d27452ba585b781e4f885b6",
            "1fef221983814339b1977bc05d52a00d",
            "5d88b9c851d04301901560341dd78e6b",
            "c31f41db34974748a196e087a3af495a",
            "b9aca91400344364b0dabd17700c26f1",
            "cebbd79f5c41400e9f36c9114c74f116",
            "67351b710ddf4db19937a37cd559fc0a",
            "0ed38234689544da995db9c29a7b38ae",
            "82931a6768ee4afe8acf5c2d6a452534",
            "2a3348108037488ca9b3326b88a49a82",
            "ed2067f5eb124406a7966e6a7f3a6f53",
            "59cc151997dd4e3e960970e4069de3a0",
            "641cd5acd032401f8c0f2fb29a6055fd",
            "1964e556cd8142318c30dafb457b1ac8",
            "21f45e67f75449d782005710d246a540",
            "fd06fc02e8494fe6aa16ee2c22a2fd12",
            "80e2a827d4de4b35b6d06864f9cf92b4",
            "02dd9fdb169246efb31d74bcbae57e32",
            "80c9d0aaa8e84510bf363d7a4b83b0c8",
            "db48361cb6c5485b81a93a00a81aed9f",
            "45ebcc19d1014cf5be1ce0dcf8fc1b91",
            "526bd1a577324e20ae0227aa88ba3497",
            "7984a32d1b1948b1937e247d34a81267",
            "3a5450a44d904ee78fff111628e7aee7",
            "0f75faf6380848918b436140deeabf94",
            "48d4552269b64b49a94e113da5d1e42c",
            "a0769164bc7446059c98cd570c8c8e93",
            "09d002e868514a84bcba17a23fa0e750",
            "668a0101feee470987a5bd03bd705aab",
            "fd3e8596ceea44328cb014e659033a62",
            "c6a61782f0654dd38ea6733f8373936c",
            "9273f11cceb84dbd93b4b4747fcda5a8",
            "98cd4aa2e6f94d3cafc6b9164a0fe8b3",
            "75acc48ef30a49ceb78cfc663c834479",
            "c60009926fa44a0683aae682c2261814",
            "85bacff9a63b46f69ee92a2b15f078e6",
            "f4499b2c77ce44d88ef3168b04fcf769",
            "477a47044dd540e4a52a16e7ecb3d865",
            "116ac2c9799d4c0d9e341ab34807397b",
            "f54bc48045be45b5b2b7d85a95e67733",
            "dbf0f903449240c59e3392f0364ec720",
            "83ad9dd932d04d60b975c38c7f38e70d",
            "dc9e73c1766047ae90debc789df530fc",
            "d20912fc228b4440b0668dfb80660a39",
            "be4a4345499d4ebbb38d9d1e533c659b",
            "bd72a3427c784b9cb3172894444b7c5a",
            "04d220aa863e47668eb8871d4d3616ce",
            "e5751a7e88054e86975798dcbcfe4e88",
            "4db4cee6fd4b4f5a81b572bfc614a2dc",
            "21601d453cdf4a649fd00c1c7b8d0a3f",
            "54dd72ccb0044ff48924fcc1d723f7b8",
            "f435bc8a784a4f3690213e8b3af34396",
            "3d1fe701c453469e8cd9d521377399d0",
            "244e1170d18a4790a938d3f7d3accef7",
            "385d54edee054a92839447237a891521",
            "30116cb739744ff5ba18c4ae0e9aeeb5",
            "18cfead3a3e74388ad64177956209f58",
            "d80bf9addd3a44c992b8eae64db72713",
            "6361e34267d442fda702e1cd26c578f3",
            "9b655212934942399260324aa3dcdbaf",
            "7f88ebfadd404733a9042f579a6de9cd"
          ]
        },
        "id": "s9VslZFVDQ5c",
        "outputId": "4530abbc-93ec-48c7-a044-43e1540ea43d"
      },
      "outputs": [
        {
          "name": "stdout",
          "output_type": "stream",
          "text": [
            "Epoch: 0, Training Loss: 0.0087\n",
            "Validation Loss: 0.0081, Accuracy: 0.764\n"
          ]
        },
        {
          "data": {
            "application/vnd.jupyter.widget-view+json": {
              "model_id": "94b23dc688d14db5b8f7ef4e8020f7dd",
              "version_major": 2,
              "version_minor": 0
            },
            "text/plain": [
              "pytorch_model.bin:   0%|          | 0.00/9.45M [00:00<?, ?B/s]"
            ]
          },
          "metadata": {},
          "output_type": "display_data"
        },
        {
          "name": "stdout",
          "output_type": "stream",
          "text": [
            "---\n",
            "Epoch: 1, Training Loss: 0.0081\n",
            "Validation Loss: 0.0078, Accuracy: 0.7725\n"
          ]
        },
        {
          "data": {
            "application/vnd.jupyter.widget-view+json": {
              "model_id": "264ac407d2a143d3ba6f7e04ce24abf6",
              "version_major": 2,
              "version_minor": 0
            },
            "text/plain": [
              "pytorch_model.bin:   0%|          | 0.00/9.45M [00:00<?, ?B/s]"
            ]
          },
          "metadata": {},
          "output_type": "display_data"
        },
        {
          "name": "stdout",
          "output_type": "stream",
          "text": [
            "---\n",
            "Epoch: 2, Training Loss: 0.0079\n",
            "Validation Loss: 0.0077, Accuracy: 0.7895\n"
          ]
        },
        {
          "data": {
            "application/vnd.jupyter.widget-view+json": {
              "model_id": "2a3348108037488ca9b3326b88a49a82",
              "version_major": 2,
              "version_minor": 0
            },
            "text/plain": [
              "pytorch_model.bin:   0%|          | 0.00/9.45M [00:00<?, ?B/s]"
            ]
          },
          "metadata": {},
          "output_type": "display_data"
        },
        {
          "name": "stdout",
          "output_type": "stream",
          "text": [
            "---\n",
            "Epoch: 3, Training Loss: 0.0078\n",
            "Validation Loss: 0.0076, Accuracy: 0.7835\n",
            "---\n",
            "Epoch: 4, Training Loss: 0.0077\n",
            "Validation Loss: 0.0075, Accuracy: 0.7845\n",
            "---\n",
            "Epoch: 5, Training Loss: 0.0077\n",
            "Validation Loss: 0.0076, Accuracy: 0.7995\n"
          ]
        },
        {
          "data": {
            "application/vnd.jupyter.widget-view+json": {
              "model_id": "45ebcc19d1014cf5be1ce0dcf8fc1b91",
              "version_major": 2,
              "version_minor": 0
            },
            "text/plain": [
              "pytorch_model.bin:   0%|          | 0.00/9.45M [00:00<?, ?B/s]"
            ]
          },
          "metadata": {},
          "output_type": "display_data"
        },
        {
          "name": "stdout",
          "output_type": "stream",
          "text": [
            "---\n",
            "Epoch: 6, Training Loss: 0.0076\n",
            "Validation Loss: 0.0074, Accuracy: 0.7905\n",
            "---\n",
            "Epoch: 7, Training Loss: 0.0075\n",
            "Validation Loss: 0.0073, Accuracy: 0.802\n"
          ]
        },
        {
          "data": {
            "application/vnd.jupyter.widget-view+json": {
              "model_id": "9273f11cceb84dbd93b4b4747fcda5a8",
              "version_major": 2,
              "version_minor": 0
            },
            "text/plain": [
              "pytorch_model.bin:   0%|          | 0.00/9.45M [00:00<?, ?B/s]"
            ]
          },
          "metadata": {},
          "output_type": "display_data"
        },
        {
          "name": "stdout",
          "output_type": "stream",
          "text": [
            "---\n",
            "Epoch: 8, Training Loss: 0.0074\n",
            "Validation Loss: 0.0072, Accuracy: 0.8\n",
            "---\n",
            "Epoch: 9, Training Loss: 0.0073\n",
            "Validation Loss: 0.0073, Accuracy: 0.7915\n",
            "---\n",
            "Epoch: 10, Training Loss: 0.0073\n",
            "Validation Loss: 0.0076, Accuracy: 0.798\n",
            "---\n",
            "Epoch: 11, Training Loss: 0.0071\n",
            "Validation Loss: 0.0073, Accuracy: 0.7865\n",
            "---\n",
            "Epoch: 12, Training Loss: 0.0071\n",
            "Validation Loss: 0.0072, Accuracy: 0.8\n",
            "---\n",
            "Epoch: 13, Training Loss: 0.007\n",
            "Validation Loss: 0.0074, Accuracy: 0.792\n",
            "---\n",
            "Epoch: 14, Training Loss: 0.0069\n",
            "Validation Loss: 0.0073, Accuracy: 0.793\n",
            "---\n",
            "Epoch: 15, Training Loss: 0.0068\n",
            "Validation Loss: 0.0077, Accuracy: 0.7835\n",
            "---\n",
            "Epoch: 16, Training Loss: 0.0067\n",
            "Validation Loss: 0.007, Accuracy: 0.809\n"
          ]
        },
        {
          "data": {
            "application/vnd.jupyter.widget-view+json": {
              "model_id": "dc9e73c1766047ae90debc789df530fc",
              "version_major": 2,
              "version_minor": 0
            },
            "text/plain": [
              "pytorch_model.bin:   0%|          | 0.00/9.45M [00:00<?, ?B/s]"
            ]
          },
          "metadata": {},
          "output_type": "display_data"
        },
        {
          "name": "stdout",
          "output_type": "stream",
          "text": [
            "---\n",
            "Epoch: 17, Training Loss: 0.0067\n",
            "Validation Loss: 0.0078, Accuracy: 0.78\n",
            "---\n",
            "Epoch: 18, Training Loss: 0.0066\n",
            "Validation Loss: 0.0071, Accuracy: 0.8015\n",
            "---\n",
            "Epoch: 19, Training Loss: 0.0065\n",
            "Validation Loss: 0.0071, Accuracy: 0.8015\n",
            "---\n",
            "Epoch: 20, Training Loss: 0.0064\n",
            "Validation Loss: 0.0074, Accuracy: 0.7955\n",
            "---\n",
            "Epoch: 21, Training Loss: 0.0063\n",
            "Validation Loss: 0.0115, Accuracy: 0.613\n",
            "---\n",
            "Epoch: 22, Training Loss: 0.0062\n",
            "Validation Loss: 0.0073, Accuracy: 0.7925\n",
            "---\n",
            "Epoch: 23, Training Loss: 0.0062\n",
            "Validation Loss: 0.008, Accuracy: 0.771\n",
            "---\n",
            "Epoch: 24, Training Loss: 0.0059\n",
            "Validation Loss: 0.0088, Accuracy: 0.774\n",
            "---\n",
            "Epoch: 25, Training Loss: 0.0059\n",
            "Validation Loss: 0.0116, Accuracy: 0.7555\n",
            "---\n",
            "Epoch: 26, Training Loss: 0.0059\n",
            "Validation Loss: 0.0137, Accuracy: 0.603\n",
            "---\n",
            "Epoch: 27, Training Loss: 0.0056\n",
            "Validation Loss: 0.0091, Accuracy: 0.763\n",
            "---\n",
            "Epoch: 28, Training Loss: 0.0056\n",
            "Validation Loss: 0.0081, Accuracy: 0.774\n",
            "---\n",
            "Epoch: 29, Training Loss: 0.0055\n",
            "Validation Loss: 0.0088, Accuracy: 0.7855\n",
            "---\n",
            "Epoch: 30, Training Loss: 0.0054\n",
            "Validation Loss: 0.0083, Accuracy: 0.7685\n",
            "---\n",
            "Epoch: 31, Training Loss: 0.0052\n",
            "Validation Loss: 0.0119, Accuracy: 0.6505\n",
            "---\n",
            "Epoch: 32, Training Loss: 0.0051\n",
            "Validation Loss: 0.0078, Accuracy: 0.7945\n",
            "---\n",
            "Epoch: 33, Training Loss: 0.0049\n",
            "Validation Loss: 0.0297, Accuracy: 0.526\n",
            "---\n",
            "Epoch: 34, Training Loss: 0.0049\n",
            "Validation Loss: 0.0095, Accuracy: 0.7825\n",
            "---\n",
            "Epoch: 35, Training Loss: 0.0045\n",
            "Validation Loss: 0.009, Accuracy: 0.787\n",
            "---\n",
            "Epoch: 36, Training Loss: 0.0047\n",
            "Validation Loss: 0.0091, Accuracy: 0.751\n",
            "---\n",
            "Epoch: 37, Training Loss: 0.0045\n",
            "Validation Loss: 0.0079, Accuracy: 0.8015\n",
            "---\n",
            "Epoch: 38, Training Loss: 0.0044\n",
            "Validation Loss: 0.0084, Accuracy: 0.794\n",
            "---\n",
            "Epoch: 39, Training Loss: 0.0042\n",
            "Validation Loss: 0.0113, Accuracy: 0.696\n",
            "---\n",
            "Epoch: 40, Training Loss: 0.0038\n",
            "Validation Loss: 0.01, Accuracy: 0.7315\n",
            "---\n",
            "Epoch: 41, Training Loss: 0.0037\n",
            "Validation Loss: 0.01, Accuracy: 0.7875\n",
            "---\n",
            "Epoch: 42, Training Loss: 0.0038\n",
            "Validation Loss: 0.0088, Accuracy: 0.7975\n",
            "---\n",
            "Epoch: 43, Training Loss: 0.0035\n",
            "Validation Loss: 0.0195, Accuracy: 0.582\n",
            "---\n",
            "Epoch: 44, Training Loss: 0.0035\n",
            "Validation Loss: 0.0087, Accuracy: 0.786\n",
            "---\n",
            "Epoch: 45, Training Loss: 0.003\n",
            "Validation Loss: 0.0106, Accuracy: 0.7875\n",
            "---\n",
            "Epoch: 46, Training Loss: 0.003\n",
            "Validation Loss: 0.0153, Accuracy: 0.6345\n",
            "---\n",
            "Epoch: 47, Training Loss: 0.0029\n",
            "Validation Loss: 0.0111, Accuracy: 0.7405\n",
            "---\n",
            "Epoch: 48, Training Loss: 0.0027\n",
            "Validation Loss: 0.0104, Accuracy: 0.7955\n",
            "---\n",
            "Epoch: 49, Training Loss: 0.0027\n",
            "Validation Loss: 0.0108, Accuracy: 0.7995\n",
            "---\n",
            "Epoch: 50, Training Loss: 0.0025\n",
            "Validation Loss: 0.0105, Accuracy: 0.766\n",
            "---\n",
            "Epoch: 51, Training Loss: 0.0024\n",
            "Validation Loss: 0.0133, Accuracy: 0.682\n",
            "---\n",
            "Epoch: 52, Training Loss: 0.0023\n",
            "Validation Loss: 0.0094, Accuracy: 0.8085\n",
            "---\n",
            "Epoch: 53, Training Loss: 0.0021\n",
            "Validation Loss: 0.0106, Accuracy: 0.762\n",
            "---\n",
            "Epoch: 54, Training Loss: 0.0025\n",
            "Validation Loss: 0.0102, Accuracy: 0.7885\n",
            "---\n",
            "Epoch: 55, Training Loss: 0.0018\n",
            "Validation Loss: 0.0103, Accuracy: 0.7885\n",
            "---\n",
            "Epoch: 56, Training Loss: 0.0019\n",
            "Validation Loss: 0.0232, Accuracy: 0.575\n",
            "---\n",
            "Epoch: 57, Training Loss: 0.0017\n",
            "Validation Loss: 0.0107, Accuracy: 0.8035\n",
            "---\n",
            "Epoch: 58, Training Loss: 0.0018\n",
            "Validation Loss: 0.0149, Accuracy: 0.781\n",
            "---\n",
            "Epoch: 59, Training Loss: 0.0016\n",
            "Validation Loss: 0.0107, Accuracy: 0.802\n",
            "---\n",
            "Epoch: 60, Training Loss: 0.0015\n",
            "Validation Loss: 0.0112, Accuracy: 0.8045\n",
            "---\n",
            "Epoch: 61, Training Loss: 0.0011\n",
            "Validation Loss: 0.0124, Accuracy: 0.7935\n",
            "---\n",
            "Epoch: 62, Training Loss: 0.0013\n",
            "Validation Loss: 0.0127, Accuracy: 0.791\n",
            "---\n",
            "Epoch: 63, Training Loss: 0.0009\n",
            "Validation Loss: 0.0137, Accuracy: 0.766\n",
            "---\n",
            "Epoch: 64, Training Loss: 0.0011\n",
            "Validation Loss: 0.0123, Accuracy: 0.7845\n",
            "---\n",
            "Epoch: 65, Training Loss: 0.0009\n",
            "Validation Loss: 0.0131, Accuracy: 0.7995\n",
            "---\n",
            "Epoch: 66, Training Loss: 0.0011\n",
            "Validation Loss: 0.0136, Accuracy: 0.789\n",
            "---\n",
            "Epoch: 67, Training Loss: 0.0011\n",
            "Validation Loss: 0.0137, Accuracy: 0.8025\n",
            "---\n",
            "Epoch: 68, Training Loss: 0.0011\n",
            "Validation Loss: 0.0132, Accuracy: 0.784\n",
            "---\n",
            "Epoch: 69, Training Loss: 0.0006\n",
            "Validation Loss: 0.0138, Accuracy: 0.7975\n",
            "---\n",
            "Epoch: 70, Training Loss: 0.0012\n",
            "Validation Loss: 0.0134, Accuracy: 0.784\n",
            "---\n",
            "Epoch: 71, Training Loss: 0.0004\n",
            "Validation Loss: 0.0135, Accuracy: 0.7905\n",
            "---\n",
            "Epoch: 72, Training Loss: 0.0003\n",
            "Validation Loss: 0.0142, Accuracy: 0.7885\n",
            "---\n",
            "Epoch: 73, Training Loss: 0.0008\n",
            "Validation Loss: 0.0155, Accuracy: 0.799\n",
            "---\n",
            "Epoch: 74, Training Loss: 0.0003\n",
            "Validation Loss: 0.0152, Accuracy: 0.7735\n",
            "---\n",
            "Epoch: 75, Training Loss: 0.0002\n",
            "Validation Loss: 0.015, Accuracy: 0.7855\n",
            "---\n",
            "Epoch: 76, Training Loss: 0.001\n",
            "Validation Loss: 0.0276, Accuracy: 0.765\n",
            "---\n",
            "Epoch: 77, Training Loss: 0.0014\n",
            "Validation Loss: 0.0146, Accuracy: 0.788\n",
            "---\n",
            "Epoch: 78, Training Loss: 0.0003\n",
            "Validation Loss: 0.0143, Accuracy: 0.794\n",
            "---\n",
            "Epoch: 79, Training Loss: 0.0003\n",
            "Validation Loss: 0.0251, Accuracy: 0.665\n",
            "---\n",
            "Epoch: 80, Training Loss: 0.0005\n",
            "Validation Loss: 0.0149, Accuracy: 0.8025\n",
            "---\n",
            "Epoch: 81, Training Loss: 0.0002\n",
            "Validation Loss: 0.0152, Accuracy: 0.794\n",
            "---\n",
            "Epoch: 82, Training Loss: 0.0006\n",
            "Validation Loss: 0.0917, Accuracy: 0.4625\n",
            "---\n",
            "Epoch: 83, Training Loss: 0.0019\n",
            "Validation Loss: 0.0206, Accuracy: 0.783\n",
            "---\n",
            "Epoch: 84, Training Loss: 0.001\n",
            "Validation Loss: 0.0139, Accuracy: 0.794\n",
            "---\n",
            "Epoch: 85, Training Loss: 0.0002\n",
            "Validation Loss: 0.015, Accuracy: 0.804\n",
            "---\n",
            "Epoch: 86, Training Loss: 0.0001\n",
            "Validation Loss: 0.0149, Accuracy: 0.803\n",
            "---\n",
            "Epoch: 87, Training Loss: 0.0001\n",
            "Validation Loss: 0.0153, Accuracy: 0.795\n",
            "---\n",
            "Epoch: 88, Training Loss: 0.0001\n",
            "Validation Loss: 0.0156, Accuracy: 0.8005\n",
            "---\n",
            "Epoch: 89, Training Loss: 0.0001\n",
            "Validation Loss: 0.016, Accuracy: 0.7985\n",
            "---\n",
            "Epoch: 90, Training Loss: 0.0001\n",
            "Validation Loss: 0.016, Accuracy: 0.7995\n",
            "---\n",
            "Epoch: 91, Training Loss: 0.0001\n",
            "Validation Loss: 0.0168, Accuracy: 0.8\n",
            "---\n",
            "Epoch: 92, Training Loss: 0.0001\n",
            "Validation Loss: 0.0173, Accuracy: 0.797\n",
            "---\n",
            "Epoch: 93, Training Loss: 0.0001\n",
            "Validation Loss: 0.0169, Accuracy: 0.7955\n",
            "---\n",
            "Epoch: 94, Training Loss: 0.0001\n",
            "Validation Loss: 0.0167, Accuracy: 0.796\n",
            "---\n",
            "Epoch: 95, Training Loss: 0.0001\n",
            "Validation Loss: 0.017, Accuracy: 0.7945\n",
            "---\n",
            "Epoch: 96, Training Loss: 0.0001\n",
            "Validation Loss: 0.0171, Accuracy: 0.794\n",
            "---\n",
            "Epoch: 97, Training Loss: 0.0\n",
            "Validation Loss: 0.0172, Accuracy: 0.7935\n",
            "---\n",
            "Epoch: 98, Training Loss: 0.0\n",
            "Validation Loss: 0.0177, Accuracy: 0.7945\n",
            "---\n",
            "Epoch: 99, Training Loss: 0.0005\n",
            "Validation Loss: 0.0177, Accuracy: 0.792\n",
            "---\n"
          ]
        },
        {
          "data": {
            "application/vnd.jupyter.widget-view+json": {
              "model_id": "244e1170d18a4790a938d3f7d3accef7",
              "version_major": 2,
              "version_minor": 0
            },
            "text/plain": [
              "VBox(children=(Label(value='0.001 MB of 0.001 MB uploaded\\r'), FloatProgress(value=1.0, max=1.0)))"
            ]
          },
          "metadata": {},
          "output_type": "display_data"
        },
        {
          "data": {
            "text/html": [
              "<style>\n",
              "    table.wandb td:nth-child(1) { padding: 0 10px; text-align: left ; width: auto;} td:nth-child(2) {text-align: left ; width: 100%}\n",
              "    .wandb-row { display: flex; flex-direction: row; flex-wrap: wrap; justify-content: flex-start; width: 100% }\n",
              "    .wandb-col { display: flex; flex-direction: column; flex-basis: 100%; flex: 1; padding: 10px; }\n",
              "    </style>\n",
              "<div class=\"wandb-row\"><div class=\"wandb-col\"><h3>Run history:</h3><br/><table class=\"wandb\"><tr><td>accuracy</td><td>▇█████▇▇██▇▇▇▁██▆▂██▇▇█▇█▇█▇██▇██▇██████</td></tr><tr><td>train_loss</td><td>█▇▇▇▇▇▆▆▆▆▆▅▅▅▅▄▄▄▃▃▃▃▂▂▂▂▂▂▁▂▂▁▁▂▁▁▁▁▁▁</td></tr><tr><td>val_loss</td><td>▁▁▁▁▁▁▁▁▁▁▂▂▁█▂▁▂▅▂▂▂▂▂▃▂▃▃▃▃▄▇▃▃▅▃▄▄▄▄▄</td></tr></table><br/></div><div class=\"wandb-col\"><h3>Run summary:</h3><br/><table class=\"wandb\"><tr><td>accuracy</td><td>0.792</td></tr><tr><td>train_loss</td><td>0.0005</td></tr><tr><td>val_loss</td><td>0.0177</td></tr></table><br/></div></div>"
            ],
            "text/plain": [
              "<IPython.core.display.HTML object>"
            ]
          },
          "metadata": {},
          "output_type": "display_data"
        },
        {
          "data": {
            "text/html": [
              " View run <strong style=\"color:#cdcd00\">lively-grass-1</strong> at: <a href='https://wandb.ai/sadhaklal/mlp-cifar2/runs/kd5i56pi' target=\"_blank\">https://wandb.ai/sadhaklal/mlp-cifar2/runs/kd5i56pi</a><br/>Synced 5 W&B file(s), 0 media file(s), 0 artifact file(s) and 0 other file(s)"
            ],
            "text/plain": [
              "<IPython.core.display.HTML object>"
            ]
          },
          "metadata": {},
          "output_type": "display_data"
        },
        {
          "data": {
            "text/html": [
              "Find logs at: <code>./wandb/run-20240129_170336-kd5i56pi/logs</code>"
            ],
            "text/plain": [
              "<IPython.core.display.HTML object>"
            ]
          },
          "metadata": {},
          "output_type": "display_data"
        },
        {
          "name": "stdout",
          "output_type": "stream",
          "text": [
            "---\n",
            "Best Epoch: 16, Best Accuracy: 0.809\n"
          ]
        }
      ],
      "source": [
        "best_epoch = 0\n",
        "best_acc = 0\n",
        "for epoch in range(n_epochs):\n",
        "    model.train()\n",
        "    train_loss = 0\n",
        "    for imgs, labels in train_dl:\n",
        "        batch_dim = imgs.shape[0]\n",
        "        outputs = model(imgs.view(batch_dim, -1))\n",
        "        loss = loss_fn(outputs, labels)\n",
        "        train_loss += loss.item()\n",
        "\n",
        "        optimizer.zero_grad()\n",
        "        loss.backward()\n",
        "        optimizer.step()\n",
        "    train_loss /= len(cifar2_train)\n",
        "    train_loss = round(train_loss, 4)\n",
        "    print(f\"Epoch: {epoch}, Training Loss: {train_loss}\")\n",
        "\n",
        "    model.eval()\n",
        "    val_loss = 0\n",
        "    correct = 0\n",
        "    with torch.no_grad():\n",
        "        for imgs, labels in val_dl:\n",
        "            batch_dim = imgs.shape[0]\n",
        "            outputs = model(imgs.view(batch_dim, -1))\n",
        "            loss = loss_fn(outputs, labels)\n",
        "            val_loss += loss.item()\n",
        "            preds = outputs.argmax(dim=1)\n",
        "            correct += (preds == labels).sum().item()\n",
        "        val_loss /= len(cifar2_val)\n",
        "        val_loss = round(val_loss, 4)\n",
        "        acc = round(correct / len(cifar2_val), 4)\n",
        "        print(f\"Validation Loss: {val_loss}, Accuracy: {acc}\")\n",
        "\n",
        "    wandb.log({\n",
        "        'train_loss': train_loss,\n",
        "        'val_loss': val_loss,\n",
        "        'accuracy': acc\n",
        "    })\n",
        "\n",
        "    if acc > best_acc:\n",
        "        best_epoch = epoch\n",
        "        best_acc = acc\n",
        "        model.push_to_hub(\"mlp-cifar2\", commit_message=f\"epoch: {epoch}, accuracy: {acc}\")\n",
        "\n",
        "    print(\"---\")\n",
        "wandb.finish()\n",
        "print(\"---\")\n",
        "print(f\"Best Epoch: {best_epoch}, Best Accuracy: {best_acc}\")"
      ]
    },
    {
      "cell_type": "markdown",
      "metadata": {
        "id": "piiwhnDqtefd"
      },
      "source": [
        "Let's reload the weights of the best epoch, and then calculate the metrics on the training set and validation set."
      ]
    },
    {
      "cell_type": "code",
      "execution_count": null,
      "metadata": {
        "colab": {
          "base_uri": "https://localhost:8080/"
        },
        "id": "-Wm-Qe5CJHiL",
        "outputId": "c318d02a-7411-4347-c6ff-a066598ddcb7"
      },
      "outputs": [
        {
          "data": {
            "text/plain": [
              "MLPForCIFAR2(\n",
              "  (mlp): Sequential(\n",
              "    (0): Linear(in_features=1728, out_features=1024, bias=True)\n",
              "    (1): Tanh()\n",
              "    (2): Linear(in_features=1024, out_features=512, bias=True)\n",
              "    (3): Tanh()\n",
              "    (4): Linear(in_features=512, out_features=128, bias=True)\n",
              "    (5): Tanh()\n",
              "    (6): Linear(in_features=128, out_features=2, bias=True)\n",
              "  )\n",
              ")"
            ]
          },
          "execution_count": 53,
          "metadata": {},
          "output_type": "execute_result"
        }
      ],
      "source": [
        "model = MLPForCIFAR2.from_pretrained(\"sadhaklal/mlp-cifar2\")\n",
        "model.eval()"
      ]
    },
    {
      "cell_type": "code",
      "execution_count": null,
      "metadata": {
        "colab": {
          "base_uri": "https://localhost:8080/"
        },
        "id": "bd1OG9KXJQWw",
        "outputId": "ea58cd39-b668-4e20-8b83-42bdbadb72ae"
      },
      "outputs": [
        {
          "name": "stdout",
          "output_type": "stream",
          "text": [
            "Accuracy: 0.8217\n"
          ]
        }
      ],
      "source": [
        "# Training set accuracy:\n",
        "correct = 0\n",
        "with torch.no_grad():\n",
        "    for imgs, labels in train_dl:\n",
        "        batch_dim = imgs.shape[0]\n",
        "        outputs = model(imgs.view(batch_dim, -1))\n",
        "        preds = outputs.argmax(dim=1)\n",
        "        correct += (preds == labels).sum().item()\n",
        "print(f\"Accuracy: {correct / len(cifar2_train):.4f}\")"
      ]
    },
    {
      "cell_type": "code",
      "execution_count": null,
      "metadata": {
        "colab": {
          "base_uri": "https://localhost:8080/"
        },
        "id": "1FcIhjhYKCJt",
        "outputId": "2a3b37cd-0462-4d9c-8ae5-ee949f783f31"
      },
      "outputs": [
        {
          "name": "stdout",
          "output_type": "stream",
          "text": [
            "Accuracy: 0.8090\n"
          ]
        }
      ],
      "source": [
        "# Validation set accuracy:\n",
        "correct = 0\n",
        "with torch.no_grad():\n",
        "    for imgs, labels in val_dl:\n",
        "        batch_dim = imgs.shape[0]\n",
        "        outputs = model(imgs.view(batch_dim, -1))\n",
        "        preds = outputs.argmax(dim=1)\n",
        "        correct += (preds == labels).sum().item()\n",
        "print(f\"Accuracy: {correct / len(cifar2_val):.4f}\")"
      ]
    },
    {
      "cell_type": "markdown",
      "metadata": {
        "id": "Jmi3rERevdic"
      },
      "source": [
        "The accuracy achieved without the `RandomCrop(24)` augmentation was 0.801. (**Reference notebook:** https://github.com/deep-learning-with-pytorch/dlwpt-code/blob/master/p1ch7/2_birds_airplanes.ipynb)\n",
        "\n",
        "Answer to (c): Adding the `RandomCrop(24)` augmentation doesn't have much of an impact on accuracy."
      ]
    },
    {
      "cell_type": "code",
      "execution_count": null,
      "metadata": {
        "id": "_ta4oG4wvLzS"
      },
      "outputs": [],
      "source": []
    }
  ],
  "metadata": {
    "colab": {
      "provenance": []
    },
    "kernelspec": {
      "display_name": "Python 3 (ipykernel)",
      "language": "python",
      "name": "python3"
    },
    "language_info": {
      "codemirror_mode": {
        "name": "ipython",
        "version": 3
      },
      "file_extension": ".py",
      "mimetype": "text/x-python",
      "name": "python",
      "nbconvert_exporter": "python",
      "pygments_lexer": "ipython3",
      "version": "3.11.5"
    },
    "widgets": {
      "application/vnd.jupyter.widget-state+json": {
        "02dd9fdb169246efb31d74bcbae57e32": {
          "model_module": "@jupyter-widgets/controls",
          "model_module_version": "1.5.0",
          "model_name": "ProgressStyleModel",
          "state": {
            "_model_module": "@jupyter-widgets/controls",
            "_model_module_version": "1.5.0",
            "_model_name": "ProgressStyleModel",
            "_view_count": null,
            "_view_module": "@jupyter-widgets/base",
            "_view_module_version": "1.2.0",
            "_view_name": "StyleView",
            "bar_color": null,
            "description_width": ""
          }
        },
        "04d220aa863e47668eb8871d4d3616ce": {
          "model_module": "@jupyter-widgets/base",
          "model_module_version": "1.2.0",
          "model_name": "LayoutModel",
          "state": {
            "_model_module": "@jupyter-widgets/base",
            "_model_module_version": "1.2.0",
            "_model_name": "LayoutModel",
            "_view_count": null,
            "_view_module": "@jupyter-widgets/base",
            "_view_module_version": "1.2.0",
            "_view_name": "LayoutView",
            "align_content": null,
            "align_items": null,
            "align_self": null,
            "border": null,
            "bottom": null,
            "display": null,
            "flex": null,
            "flex_flow": null,
            "grid_area": null,
            "grid_auto_columns": null,
            "grid_auto_flow": null,
            "grid_auto_rows": null,
            "grid_column": null,
            "grid_gap": null,
            "grid_row": null,
            "grid_template_areas": null,
            "grid_template_columns": null,
            "grid_template_rows": null,
            "height": null,
            "justify_content": null,
            "justify_items": null,
            "left": null,
            "margin": null,
            "max_height": null,
            "max_width": null,
            "min_height": null,
            "min_width": null,
            "object_fit": null,
            "object_position": null,
            "order": null,
            "overflow": null,
            "overflow_x": null,
            "overflow_y": null,
            "padding": null,
            "right": null,
            "top": null,
            "visibility": null,
            "width": null
          }
        },
        "09d002e868514a84bcba17a23fa0e750": {
          "model_module": "@jupyter-widgets/base",
          "model_module_version": "1.2.0",
          "model_name": "LayoutModel",
          "state": {
            "_model_module": "@jupyter-widgets/base",
            "_model_module_version": "1.2.0",
            "_model_name": "LayoutModel",
            "_view_count": null,
            "_view_module": "@jupyter-widgets/base",
            "_view_module_version": "1.2.0",
            "_view_name": "LayoutView",
            "align_content": null,
            "align_items": null,
            "align_self": null,
            "border": null,
            "bottom": null,
            "display": null,
            "flex": null,
            "flex_flow": null,
            "grid_area": null,
            "grid_auto_columns": null,
            "grid_auto_flow": null,
            "grid_auto_rows": null,
            "grid_column": null,
            "grid_gap": null,
            "grid_row": null,
            "grid_template_areas": null,
            "grid_template_columns": null,
            "grid_template_rows": null,
            "height": null,
            "justify_content": null,
            "justify_items": null,
            "left": null,
            "margin": null,
            "max_height": null,
            "max_width": null,
            "min_height": null,
            "min_width": null,
            "object_fit": null,
            "object_position": null,
            "order": null,
            "overflow": null,
            "overflow_x": null,
            "overflow_y": null,
            "padding": null,
            "right": null,
            "top": null,
            "visibility": null,
            "width": null
          }
        },
        "0ed38234689544da995db9c29a7b38ae": {
          "model_module": "@jupyter-widgets/base",
          "model_module_version": "1.2.0",
          "model_name": "LayoutModel",
          "state": {
            "_model_module": "@jupyter-widgets/base",
            "_model_module_version": "1.2.0",
            "_model_name": "LayoutModel",
            "_view_count": null,
            "_view_module": "@jupyter-widgets/base",
            "_view_module_version": "1.2.0",
            "_view_name": "LayoutView",
            "align_content": null,
            "align_items": null,
            "align_self": null,
            "border": null,
            "bottom": null,
            "display": null,
            "flex": null,
            "flex_flow": null,
            "grid_area": null,
            "grid_auto_columns": null,
            "grid_auto_flow": null,
            "grid_auto_rows": null,
            "grid_column": null,
            "grid_gap": null,
            "grid_row": null,
            "grid_template_areas": null,
            "grid_template_columns": null,
            "grid_template_rows": null,
            "height": null,
            "justify_content": null,
            "justify_items": null,
            "left": null,
            "margin": null,
            "max_height": null,
            "max_width": null,
            "min_height": null,
            "min_width": null,
            "object_fit": null,
            "object_position": null,
            "order": null,
            "overflow": null,
            "overflow_x": null,
            "overflow_y": null,
            "padding": null,
            "right": null,
            "top": null,
            "visibility": null,
            "width": null
          }
        },
        "0f75faf6380848918b436140deeabf94": {
          "model_module": "@jupyter-widgets/base",
          "model_module_version": "1.2.0",
          "model_name": "LayoutModel",
          "state": {
            "_model_module": "@jupyter-widgets/base",
            "_model_module_version": "1.2.0",
            "_model_name": "LayoutModel",
            "_view_count": null,
            "_view_module": "@jupyter-widgets/base",
            "_view_module_version": "1.2.0",
            "_view_name": "LayoutView",
            "align_content": null,
            "align_items": null,
            "align_self": null,
            "border": null,
            "bottom": null,
            "display": null,
            "flex": null,
            "flex_flow": null,
            "grid_area": null,
            "grid_auto_columns": null,
            "grid_auto_flow": null,
            "grid_auto_rows": null,
            "grid_column": null,
            "grid_gap": null,
            "grid_row": null,
            "grid_template_areas": null,
            "grid_template_columns": null,
            "grid_template_rows": null,
            "height": null,
            "justify_content": null,
            "justify_items": null,
            "left": null,
            "margin": null,
            "max_height": null,
            "max_width": null,
            "min_height": null,
            "min_width": null,
            "object_fit": null,
            "object_position": null,
            "order": null,
            "overflow": null,
            "overflow_x": null,
            "overflow_y": null,
            "padding": null,
            "right": null,
            "top": null,
            "visibility": null,
            "width": null
          }
        },
        "116ac2c9799d4c0d9e341ab34807397b": {
          "model_module": "@jupyter-widgets/base",
          "model_module_version": "1.2.0",
          "model_name": "LayoutModel",
          "state": {
            "_model_module": "@jupyter-widgets/base",
            "_model_module_version": "1.2.0",
            "_model_name": "LayoutModel",
            "_view_count": null,
            "_view_module": "@jupyter-widgets/base",
            "_view_module_version": "1.2.0",
            "_view_name": "LayoutView",
            "align_content": null,
            "align_items": null,
            "align_self": null,
            "border": null,
            "bottom": null,
            "display": null,
            "flex": null,
            "flex_flow": null,
            "grid_area": null,
            "grid_auto_columns": null,
            "grid_auto_flow": null,
            "grid_auto_rows": null,
            "grid_column": null,
            "grid_gap": null,
            "grid_row": null,
            "grid_template_areas": null,
            "grid_template_columns": null,
            "grid_template_rows": null,
            "height": null,
            "justify_content": null,
            "justify_items": null,
            "left": null,
            "margin": null,
            "max_height": null,
            "max_width": null,
            "min_height": null,
            "min_width": null,
            "object_fit": null,
            "object_position": null,
            "order": null,
            "overflow": null,
            "overflow_x": null,
            "overflow_y": null,
            "padding": null,
            "right": null,
            "top": null,
            "visibility": null,
            "width": null
          }
        },
        "18cfead3a3e74388ad64177956209f58": {
          "model_module": "@jupyter-widgets/base",
          "model_module_version": "1.2.0",
          "model_name": "LayoutModel",
          "state": {
            "_model_module": "@jupyter-widgets/base",
            "_model_module_version": "1.2.0",
            "_model_name": "LayoutModel",
            "_view_count": null,
            "_view_module": "@jupyter-widgets/base",
            "_view_module_version": "1.2.0",
            "_view_name": "LayoutView",
            "align_content": null,
            "align_items": null,
            "align_self": null,
            "border": null,
            "bottom": null,
            "display": null,
            "flex": null,
            "flex_flow": null,
            "grid_area": null,
            "grid_auto_columns": null,
            "grid_auto_flow": null,
            "grid_auto_rows": null,
            "grid_column": null,
            "grid_gap": null,
            "grid_row": null,
            "grid_template_areas": null,
            "grid_template_columns": null,
            "grid_template_rows": null,
            "height": null,
            "justify_content": null,
            "justify_items": null,
            "left": null,
            "margin": null,
            "max_height": null,
            "max_width": null,
            "min_height": null,
            "min_width": null,
            "object_fit": null,
            "object_position": null,
            "order": null,
            "overflow": null,
            "overflow_x": null,
            "overflow_y": null,
            "padding": null,
            "right": null,
            "top": null,
            "visibility": null,
            "width": null
          }
        },
        "1964e556cd8142318c30dafb457b1ac8": {
          "model_module": "@jupyter-widgets/base",
          "model_module_version": "1.2.0",
          "model_name": "LayoutModel",
          "state": {
            "_model_module": "@jupyter-widgets/base",
            "_model_module_version": "1.2.0",
            "_model_name": "LayoutModel",
            "_view_count": null,
            "_view_module": "@jupyter-widgets/base",
            "_view_module_version": "1.2.0",
            "_view_name": "LayoutView",
            "align_content": null,
            "align_items": null,
            "align_self": null,
            "border": null,
            "bottom": null,
            "display": null,
            "flex": null,
            "flex_flow": null,
            "grid_area": null,
            "grid_auto_columns": null,
            "grid_auto_flow": null,
            "grid_auto_rows": null,
            "grid_column": null,
            "grid_gap": null,
            "grid_row": null,
            "grid_template_areas": null,
            "grid_template_columns": null,
            "grid_template_rows": null,
            "height": null,
            "justify_content": null,
            "justify_items": null,
            "left": null,
            "margin": null,
            "max_height": null,
            "max_width": null,
            "min_height": null,
            "min_width": null,
            "object_fit": null,
            "object_position": null,
            "order": null,
            "overflow": null,
            "overflow_x": null,
            "overflow_y": null,
            "padding": null,
            "right": null,
            "top": null,
            "visibility": null,
            "width": null
          }
        },
        "1fef221983814339b1977bc05d52a00d": {
          "model_module": "@jupyter-widgets/controls",
          "model_module_version": "1.5.0",
          "model_name": "HTMLModel",
          "state": {
            "_dom_classes": [],
            "_model_module": "@jupyter-widgets/controls",
            "_model_module_version": "1.5.0",
            "_model_name": "HTMLModel",
            "_view_count": null,
            "_view_module": "@jupyter-widgets/controls",
            "_view_module_version": "1.5.0",
            "_view_name": "HTMLView",
            "description": "",
            "description_tooltip": null,
            "layout": "IPY_MODEL_0ed38234689544da995db9c29a7b38ae",
            "placeholder": "​",
            "style": "IPY_MODEL_82931a6768ee4afe8acf5c2d6a452534",
            "value": " 9.45M/9.45M [00:00&lt;00:00, 87.2MB/s]"
          }
        },
        "21601d453cdf4a649fd00c1c7b8d0a3f": {
          "model_module": "@jupyter-widgets/base",
          "model_module_version": "1.2.0",
          "model_name": "LayoutModel",
          "state": {
            "_model_module": "@jupyter-widgets/base",
            "_model_module_version": "1.2.0",
            "_model_name": "LayoutModel",
            "_view_count": null,
            "_view_module": "@jupyter-widgets/base",
            "_view_module_version": "1.2.0",
            "_view_name": "LayoutView",
            "align_content": null,
            "align_items": null,
            "align_self": null,
            "border": null,
            "bottom": null,
            "display": null,
            "flex": null,
            "flex_flow": null,
            "grid_area": null,
            "grid_auto_columns": null,
            "grid_auto_flow": null,
            "grid_auto_rows": null,
            "grid_column": null,
            "grid_gap": null,
            "grid_row": null,
            "grid_template_areas": null,
            "grid_template_columns": null,
            "grid_template_rows": null,
            "height": null,
            "justify_content": null,
            "justify_items": null,
            "left": null,
            "margin": null,
            "max_height": null,
            "max_width": null,
            "min_height": null,
            "min_width": null,
            "object_fit": null,
            "object_position": null,
            "order": null,
            "overflow": null,
            "overflow_x": null,
            "overflow_y": null,
            "padding": null,
            "right": null,
            "top": null,
            "visibility": null,
            "width": null
          }
        },
        "21f45e67f75449d782005710d246a540": {
          "model_module": "@jupyter-widgets/base",
          "model_module_version": "1.2.0",
          "model_name": "LayoutModel",
          "state": {
            "_model_module": "@jupyter-widgets/base",
            "_model_module_version": "1.2.0",
            "_model_name": "LayoutModel",
            "_view_count": null,
            "_view_module": "@jupyter-widgets/base",
            "_view_module_version": "1.2.0",
            "_view_name": "LayoutView",
            "align_content": null,
            "align_items": null,
            "align_self": null,
            "border": null,
            "bottom": null,
            "display": null,
            "flex": null,
            "flex_flow": null,
            "grid_area": null,
            "grid_auto_columns": null,
            "grid_auto_flow": null,
            "grid_auto_rows": null,
            "grid_column": null,
            "grid_gap": null,
            "grid_row": null,
            "grid_template_areas": null,
            "grid_template_columns": null,
            "grid_template_rows": null,
            "height": null,
            "justify_content": null,
            "justify_items": null,
            "left": null,
            "margin": null,
            "max_height": null,
            "max_width": null,
            "min_height": null,
            "min_width": null,
            "object_fit": null,
            "object_position": null,
            "order": null,
            "overflow": null,
            "overflow_x": null,
            "overflow_y": null,
            "padding": null,
            "right": null,
            "top": null,
            "visibility": null,
            "width": null
          }
        },
        "244e1170d18a4790a938d3f7d3accef7": {
          "model_module": "@jupyter-widgets/controls",
          "model_module_version": "1.5.0",
          "model_name": "VBoxModel",
          "state": {
            "_dom_classes": [],
            "_model_module": "@jupyter-widgets/controls",
            "_model_module_version": "1.5.0",
            "_model_name": "VBoxModel",
            "_view_count": null,
            "_view_module": "@jupyter-widgets/controls",
            "_view_module_version": "1.5.0",
            "_view_name": "VBoxView",
            "box_style": "",
            "children": [
              "IPY_MODEL_385d54edee054a92839447237a891521",
              "IPY_MODEL_30116cb739744ff5ba18c4ae0e9aeeb5"
            ],
            "layout": "IPY_MODEL_18cfead3a3e74388ad64177956209f58"
          }
        },
        "264ac407d2a143d3ba6f7e04ce24abf6": {
          "model_module": "@jupyter-widgets/controls",
          "model_module_version": "1.5.0",
          "model_name": "HBoxModel",
          "state": {
            "_dom_classes": [],
            "_model_module": "@jupyter-widgets/controls",
            "_model_module_version": "1.5.0",
            "_model_name": "HBoxModel",
            "_view_count": null,
            "_view_module": "@jupyter-widgets/controls",
            "_view_module_version": "1.5.0",
            "_view_name": "HBoxView",
            "box_style": "",
            "children": [
              "IPY_MODEL_8845f80ff97e48068eecf5565640b8c1",
              "IPY_MODEL_b2f3765b6d27452ba585b781e4f885b6",
              "IPY_MODEL_1fef221983814339b1977bc05d52a00d"
            ],
            "layout": "IPY_MODEL_5d88b9c851d04301901560341dd78e6b"
          }
        },
        "2a3348108037488ca9b3326b88a49a82": {
          "model_module": "@jupyter-widgets/controls",
          "model_module_version": "1.5.0",
          "model_name": "HBoxModel",
          "state": {
            "_dom_classes": [],
            "_model_module": "@jupyter-widgets/controls",
            "_model_module_version": "1.5.0",
            "_model_name": "HBoxModel",
            "_view_count": null,
            "_view_module": "@jupyter-widgets/controls",
            "_view_module_version": "1.5.0",
            "_view_name": "HBoxView",
            "box_style": "",
            "children": [
              "IPY_MODEL_ed2067f5eb124406a7966e6a7f3a6f53",
              "IPY_MODEL_59cc151997dd4e3e960970e4069de3a0",
              "IPY_MODEL_641cd5acd032401f8c0f2fb29a6055fd"
            ],
            "layout": "IPY_MODEL_1964e556cd8142318c30dafb457b1ac8"
          }
        },
        "30116cb739744ff5ba18c4ae0e9aeeb5": {
          "model_module": "@jupyter-widgets/controls",
          "model_module_version": "1.5.0",
          "model_name": "FloatProgressModel",
          "state": {
            "_dom_classes": [],
            "_model_module": "@jupyter-widgets/controls",
            "_model_module_version": "1.5.0",
            "_model_name": "FloatProgressModel",
            "_view_count": null,
            "_view_module": "@jupyter-widgets/controls",
            "_view_module_version": "1.5.0",
            "_view_name": "ProgressView",
            "bar_style": "",
            "description": "",
            "description_tooltip": null,
            "layout": "IPY_MODEL_9b655212934942399260324aa3dcdbaf",
            "max": 1,
            "min": 0,
            "orientation": "horizontal",
            "style": "IPY_MODEL_7f88ebfadd404733a9042f579a6de9cd",
            "value": 1
          }
        },
        "385d54edee054a92839447237a891521": {
          "model_module": "@jupyter-widgets/controls",
          "model_module_version": "1.5.0",
          "model_name": "LabelModel",
          "state": {
            "_dom_classes": [],
            "_model_module": "@jupyter-widgets/controls",
            "_model_module_version": "1.5.0",
            "_model_name": "LabelModel",
            "_view_count": null,
            "_view_module": "@jupyter-widgets/controls",
            "_view_module_version": "1.5.0",
            "_view_name": "LabelView",
            "description": "",
            "description_tooltip": null,
            "layout": "IPY_MODEL_d80bf9addd3a44c992b8eae64db72713",
            "placeholder": "​",
            "style": "IPY_MODEL_6361e34267d442fda702e1cd26c578f3",
            "value": "0.018 MB of 0.018 MB uploaded\r"
          }
        },
        "3a5450a44d904ee78fff111628e7aee7": {
          "model_module": "@jupyter-widgets/controls",
          "model_module_version": "1.5.0",
          "model_name": "HTMLModel",
          "state": {
            "_dom_classes": [],
            "_model_module": "@jupyter-widgets/controls",
            "_model_module_version": "1.5.0",
            "_model_name": "HTMLModel",
            "_view_count": null,
            "_view_module": "@jupyter-widgets/controls",
            "_view_module_version": "1.5.0",
            "_view_name": "HTMLView",
            "description": "",
            "description_tooltip": null,
            "layout": "IPY_MODEL_fd3e8596ceea44328cb014e659033a62",
            "placeholder": "​",
            "style": "IPY_MODEL_c6a61782f0654dd38ea6733f8373936c",
            "value": " 9.45M/9.45M [00:00&lt;00:00, 24.9MB/s]"
          }
        },
        "3d1fe701c453469e8cd9d521377399d0": {
          "model_module": "@jupyter-widgets/controls",
          "model_module_version": "1.5.0",
          "model_name": "DescriptionStyleModel",
          "state": {
            "_model_module": "@jupyter-widgets/controls",
            "_model_module_version": "1.5.0",
            "_model_name": "DescriptionStyleModel",
            "_view_count": null,
            "_view_module": "@jupyter-widgets/base",
            "_view_module_version": "1.2.0",
            "_view_name": "StyleView",
            "description_width": ""
          }
        },
        "45ebcc19d1014cf5be1ce0dcf8fc1b91": {
          "model_module": "@jupyter-widgets/controls",
          "model_module_version": "1.5.0",
          "model_name": "HBoxModel",
          "state": {
            "_dom_classes": [],
            "_model_module": "@jupyter-widgets/controls",
            "_model_module_version": "1.5.0",
            "_model_name": "HBoxModel",
            "_view_count": null,
            "_view_module": "@jupyter-widgets/controls",
            "_view_module_version": "1.5.0",
            "_view_name": "HBoxView",
            "box_style": "",
            "children": [
              "IPY_MODEL_526bd1a577324e20ae0227aa88ba3497",
              "IPY_MODEL_7984a32d1b1948b1937e247d34a81267",
              "IPY_MODEL_3a5450a44d904ee78fff111628e7aee7"
            ],
            "layout": "IPY_MODEL_0f75faf6380848918b436140deeabf94"
          }
        },
        "477a47044dd540e4a52a16e7ecb3d865": {
          "model_module": "@jupyter-widgets/controls",
          "model_module_version": "1.5.0",
          "model_name": "DescriptionStyleModel",
          "state": {
            "_model_module": "@jupyter-widgets/controls",
            "_model_module_version": "1.5.0",
            "_model_name": "DescriptionStyleModel",
            "_view_count": null,
            "_view_module": "@jupyter-widgets/base",
            "_view_module_version": "1.2.0",
            "_view_name": "StyleView",
            "description_width": ""
          }
        },
        "48d4552269b64b49a94e113da5d1e42c": {
          "model_module": "@jupyter-widgets/base",
          "model_module_version": "1.2.0",
          "model_name": "LayoutModel",
          "state": {
            "_model_module": "@jupyter-widgets/base",
            "_model_module_version": "1.2.0",
            "_model_name": "LayoutModel",
            "_view_count": null,
            "_view_module": "@jupyter-widgets/base",
            "_view_module_version": "1.2.0",
            "_view_name": "LayoutView",
            "align_content": null,
            "align_items": null,
            "align_self": null,
            "border": null,
            "bottom": null,
            "display": null,
            "flex": null,
            "flex_flow": null,
            "grid_area": null,
            "grid_auto_columns": null,
            "grid_auto_flow": null,
            "grid_auto_rows": null,
            "grid_column": null,
            "grid_gap": null,
            "grid_row": null,
            "grid_template_areas": null,
            "grid_template_columns": null,
            "grid_template_rows": null,
            "height": null,
            "justify_content": null,
            "justify_items": null,
            "left": null,
            "margin": null,
            "max_height": null,
            "max_width": null,
            "min_height": null,
            "min_width": null,
            "object_fit": null,
            "object_position": null,
            "order": null,
            "overflow": null,
            "overflow_x": null,
            "overflow_y": null,
            "padding": null,
            "right": null,
            "top": null,
            "visibility": null,
            "width": null
          }
        },
        "4db4cee6fd4b4f5a81b572bfc614a2dc": {
          "model_module": "@jupyter-widgets/controls",
          "model_module_version": "1.5.0",
          "model_name": "DescriptionStyleModel",
          "state": {
            "_model_module": "@jupyter-widgets/controls",
            "_model_module_version": "1.5.0",
            "_model_name": "DescriptionStyleModel",
            "_view_count": null,
            "_view_module": "@jupyter-widgets/base",
            "_view_module_version": "1.2.0",
            "_view_name": "StyleView",
            "description_width": ""
          }
        },
        "526bd1a577324e20ae0227aa88ba3497": {
          "model_module": "@jupyter-widgets/controls",
          "model_module_version": "1.5.0",
          "model_name": "HTMLModel",
          "state": {
            "_dom_classes": [],
            "_model_module": "@jupyter-widgets/controls",
            "_model_module_version": "1.5.0",
            "_model_name": "HTMLModel",
            "_view_count": null,
            "_view_module": "@jupyter-widgets/controls",
            "_view_module_version": "1.5.0",
            "_view_name": "HTMLView",
            "description": "",
            "description_tooltip": null,
            "layout": "IPY_MODEL_48d4552269b64b49a94e113da5d1e42c",
            "placeholder": "​",
            "style": "IPY_MODEL_a0769164bc7446059c98cd570c8c8e93",
            "value": "pytorch_model.bin: 100%"
          }
        },
        "54dd72ccb0044ff48924fcc1d723f7b8": {
          "model_module": "@jupyter-widgets/controls",
          "model_module_version": "1.5.0",
          "model_name": "ProgressStyleModel",
          "state": {
            "_model_module": "@jupyter-widgets/controls",
            "_model_module_version": "1.5.0",
            "_model_name": "ProgressStyleModel",
            "_view_count": null,
            "_view_module": "@jupyter-widgets/base",
            "_view_module_version": "1.2.0",
            "_view_name": "StyleView",
            "bar_color": null,
            "description_width": ""
          }
        },
        "59cc151997dd4e3e960970e4069de3a0": {
          "model_module": "@jupyter-widgets/controls",
          "model_module_version": "1.5.0",
          "model_name": "FloatProgressModel",
          "state": {
            "_dom_classes": [],
            "_model_module": "@jupyter-widgets/controls",
            "_model_module_version": "1.5.0",
            "_model_name": "FloatProgressModel",
            "_view_count": null,
            "_view_module": "@jupyter-widgets/controls",
            "_view_module_version": "1.5.0",
            "_view_name": "ProgressView",
            "bar_style": "success",
            "description": "",
            "description_tooltip": null,
            "layout": "IPY_MODEL_80e2a827d4de4b35b6d06864f9cf92b4",
            "max": 9448200,
            "min": 0,
            "orientation": "horizontal",
            "style": "IPY_MODEL_02dd9fdb169246efb31d74bcbae57e32",
            "value": 9448200
          }
        },
        "5d88b9c851d04301901560341dd78e6b": {
          "model_module": "@jupyter-widgets/base",
          "model_module_version": "1.2.0",
          "model_name": "LayoutModel",
          "state": {
            "_model_module": "@jupyter-widgets/base",
            "_model_module_version": "1.2.0",
            "_model_name": "LayoutModel",
            "_view_count": null,
            "_view_module": "@jupyter-widgets/base",
            "_view_module_version": "1.2.0",
            "_view_name": "LayoutView",
            "align_content": null,
            "align_items": null,
            "align_self": null,
            "border": null,
            "bottom": null,
            "display": null,
            "flex": null,
            "flex_flow": null,
            "grid_area": null,
            "grid_auto_columns": null,
            "grid_auto_flow": null,
            "grid_auto_rows": null,
            "grid_column": null,
            "grid_gap": null,
            "grid_row": null,
            "grid_template_areas": null,
            "grid_template_columns": null,
            "grid_template_rows": null,
            "height": null,
            "justify_content": null,
            "justify_items": null,
            "left": null,
            "margin": null,
            "max_height": null,
            "max_width": null,
            "min_height": null,
            "min_width": null,
            "object_fit": null,
            "object_position": null,
            "order": null,
            "overflow": null,
            "overflow_x": null,
            "overflow_y": null,
            "padding": null,
            "right": null,
            "top": null,
            "visibility": null,
            "width": null
          }
        },
        "6361e34267d442fda702e1cd26c578f3": {
          "model_module": "@jupyter-widgets/controls",
          "model_module_version": "1.5.0",
          "model_name": "DescriptionStyleModel",
          "state": {
            "_model_module": "@jupyter-widgets/controls",
            "_model_module_version": "1.5.0",
            "_model_name": "DescriptionStyleModel",
            "_view_count": null,
            "_view_module": "@jupyter-widgets/base",
            "_view_module_version": "1.2.0",
            "_view_name": "StyleView",
            "description_width": ""
          }
        },
        "641cd5acd032401f8c0f2fb29a6055fd": {
          "model_module": "@jupyter-widgets/controls",
          "model_module_version": "1.5.0",
          "model_name": "HTMLModel",
          "state": {
            "_dom_classes": [],
            "_model_module": "@jupyter-widgets/controls",
            "_model_module_version": "1.5.0",
            "_model_name": "HTMLModel",
            "_view_count": null,
            "_view_module": "@jupyter-widgets/controls",
            "_view_module_version": "1.5.0",
            "_view_name": "HTMLView",
            "description": "",
            "description_tooltip": null,
            "layout": "IPY_MODEL_80c9d0aaa8e84510bf363d7a4b83b0c8",
            "placeholder": "​",
            "style": "IPY_MODEL_db48361cb6c5485b81a93a00a81aed9f",
            "value": " 9.45M/9.45M [00:00&lt;00:00, 15.6MB/s]"
          }
        },
        "668a0101feee470987a5bd03bd705aab": {
          "model_module": "@jupyter-widgets/controls",
          "model_module_version": "1.5.0",
          "model_name": "ProgressStyleModel",
          "state": {
            "_model_module": "@jupyter-widgets/controls",
            "_model_module_version": "1.5.0",
            "_model_name": "ProgressStyleModel",
            "_view_count": null,
            "_view_module": "@jupyter-widgets/base",
            "_view_module_version": "1.2.0",
            "_view_name": "StyleView",
            "bar_color": null,
            "description_width": ""
          }
        },
        "67351b710ddf4db19937a37cd559fc0a": {
          "model_module": "@jupyter-widgets/controls",
          "model_module_version": "1.5.0",
          "model_name": "ProgressStyleModel",
          "state": {
            "_model_module": "@jupyter-widgets/controls",
            "_model_module_version": "1.5.0",
            "_model_name": "ProgressStyleModel",
            "_view_count": null,
            "_view_module": "@jupyter-widgets/base",
            "_view_module_version": "1.2.0",
            "_view_name": "StyleView",
            "bar_color": null,
            "description_width": ""
          }
        },
        "75acc48ef30a49ceb78cfc663c834479": {
          "model_module": "@jupyter-widgets/controls",
          "model_module_version": "1.5.0",
          "model_name": "FloatProgressModel",
          "state": {
            "_dom_classes": [],
            "_model_module": "@jupyter-widgets/controls",
            "_model_module_version": "1.5.0",
            "_model_name": "FloatProgressModel",
            "_view_count": null,
            "_view_module": "@jupyter-widgets/controls",
            "_view_module_version": "1.5.0",
            "_view_name": "ProgressView",
            "bar_style": "success",
            "description": "",
            "description_tooltip": null,
            "layout": "IPY_MODEL_116ac2c9799d4c0d9e341ab34807397b",
            "max": 9448200,
            "min": 0,
            "orientation": "horizontal",
            "style": "IPY_MODEL_f54bc48045be45b5b2b7d85a95e67733",
            "value": 9448200
          }
        },
        "7984a32d1b1948b1937e247d34a81267": {
          "model_module": "@jupyter-widgets/controls",
          "model_module_version": "1.5.0",
          "model_name": "FloatProgressModel",
          "state": {
            "_dom_classes": [],
            "_model_module": "@jupyter-widgets/controls",
            "_model_module_version": "1.5.0",
            "_model_name": "FloatProgressModel",
            "_view_count": null,
            "_view_module": "@jupyter-widgets/controls",
            "_view_module_version": "1.5.0",
            "_view_name": "ProgressView",
            "bar_style": "success",
            "description": "",
            "description_tooltip": null,
            "layout": "IPY_MODEL_09d002e868514a84bcba17a23fa0e750",
            "max": 9448200,
            "min": 0,
            "orientation": "horizontal",
            "style": "IPY_MODEL_668a0101feee470987a5bd03bd705aab",
            "value": 9448200
          }
        },
        "7f88ebfadd404733a9042f579a6de9cd": {
          "model_module": "@jupyter-widgets/controls",
          "model_module_version": "1.5.0",
          "model_name": "ProgressStyleModel",
          "state": {
            "_model_module": "@jupyter-widgets/controls",
            "_model_module_version": "1.5.0",
            "_model_name": "ProgressStyleModel",
            "_view_count": null,
            "_view_module": "@jupyter-widgets/base",
            "_view_module_version": "1.2.0",
            "_view_name": "StyleView",
            "bar_color": null,
            "description_width": ""
          }
        },
        "80c9d0aaa8e84510bf363d7a4b83b0c8": {
          "model_module": "@jupyter-widgets/base",
          "model_module_version": "1.2.0",
          "model_name": "LayoutModel",
          "state": {
            "_model_module": "@jupyter-widgets/base",
            "_model_module_version": "1.2.0",
            "_model_name": "LayoutModel",
            "_view_count": null,
            "_view_module": "@jupyter-widgets/base",
            "_view_module_version": "1.2.0",
            "_view_name": "LayoutView",
            "align_content": null,
            "align_items": null,
            "align_self": null,
            "border": null,
            "bottom": null,
            "display": null,
            "flex": null,
            "flex_flow": null,
            "grid_area": null,
            "grid_auto_columns": null,
            "grid_auto_flow": null,
            "grid_auto_rows": null,
            "grid_column": null,
            "grid_gap": null,
            "grid_row": null,
            "grid_template_areas": null,
            "grid_template_columns": null,
            "grid_template_rows": null,
            "height": null,
            "justify_content": null,
            "justify_items": null,
            "left": null,
            "margin": null,
            "max_height": null,
            "max_width": null,
            "min_height": null,
            "min_width": null,
            "object_fit": null,
            "object_position": null,
            "order": null,
            "overflow": null,
            "overflow_x": null,
            "overflow_y": null,
            "padding": null,
            "right": null,
            "top": null,
            "visibility": null,
            "width": null
          }
        },
        "80e2a827d4de4b35b6d06864f9cf92b4": {
          "model_module": "@jupyter-widgets/base",
          "model_module_version": "1.2.0",
          "model_name": "LayoutModel",
          "state": {
            "_model_module": "@jupyter-widgets/base",
            "_model_module_version": "1.2.0",
            "_model_name": "LayoutModel",
            "_view_count": null,
            "_view_module": "@jupyter-widgets/base",
            "_view_module_version": "1.2.0",
            "_view_name": "LayoutView",
            "align_content": null,
            "align_items": null,
            "align_self": null,
            "border": null,
            "bottom": null,
            "display": null,
            "flex": null,
            "flex_flow": null,
            "grid_area": null,
            "grid_auto_columns": null,
            "grid_auto_flow": null,
            "grid_auto_rows": null,
            "grid_column": null,
            "grid_gap": null,
            "grid_row": null,
            "grid_template_areas": null,
            "grid_template_columns": null,
            "grid_template_rows": null,
            "height": null,
            "justify_content": null,
            "justify_items": null,
            "left": null,
            "margin": null,
            "max_height": null,
            "max_width": null,
            "min_height": null,
            "min_width": null,
            "object_fit": null,
            "object_position": null,
            "order": null,
            "overflow": null,
            "overflow_x": null,
            "overflow_y": null,
            "padding": null,
            "right": null,
            "top": null,
            "visibility": null,
            "width": null
          }
        },
        "82931a6768ee4afe8acf5c2d6a452534": {
          "model_module": "@jupyter-widgets/controls",
          "model_module_version": "1.5.0",
          "model_name": "DescriptionStyleModel",
          "state": {
            "_model_module": "@jupyter-widgets/controls",
            "_model_module_version": "1.5.0",
            "_model_name": "DescriptionStyleModel",
            "_view_count": null,
            "_view_module": "@jupyter-widgets/base",
            "_view_module_version": "1.2.0",
            "_view_name": "StyleView",
            "description_width": ""
          }
        },
        "83ad9dd932d04d60b975c38c7f38e70d": {
          "model_module": "@jupyter-widgets/controls",
          "model_module_version": "1.5.0",
          "model_name": "DescriptionStyleModel",
          "state": {
            "_model_module": "@jupyter-widgets/controls",
            "_model_module_version": "1.5.0",
            "_model_name": "DescriptionStyleModel",
            "_view_count": null,
            "_view_module": "@jupyter-widgets/base",
            "_view_module_version": "1.2.0",
            "_view_name": "StyleView",
            "description_width": ""
          }
        },
        "85bacff9a63b46f69ee92a2b15f078e6": {
          "model_module": "@jupyter-widgets/base",
          "model_module_version": "1.2.0",
          "model_name": "LayoutModel",
          "state": {
            "_model_module": "@jupyter-widgets/base",
            "_model_module_version": "1.2.0",
            "_model_name": "LayoutModel",
            "_view_count": null,
            "_view_module": "@jupyter-widgets/base",
            "_view_module_version": "1.2.0",
            "_view_name": "LayoutView",
            "align_content": null,
            "align_items": null,
            "align_self": null,
            "border": null,
            "bottom": null,
            "display": null,
            "flex": null,
            "flex_flow": null,
            "grid_area": null,
            "grid_auto_columns": null,
            "grid_auto_flow": null,
            "grid_auto_rows": null,
            "grid_column": null,
            "grid_gap": null,
            "grid_row": null,
            "grid_template_areas": null,
            "grid_template_columns": null,
            "grid_template_rows": null,
            "height": null,
            "justify_content": null,
            "justify_items": null,
            "left": null,
            "margin": null,
            "max_height": null,
            "max_width": null,
            "min_height": null,
            "min_width": null,
            "object_fit": null,
            "object_position": null,
            "order": null,
            "overflow": null,
            "overflow_x": null,
            "overflow_y": null,
            "padding": null,
            "right": null,
            "top": null,
            "visibility": null,
            "width": null
          }
        },
        "8845f80ff97e48068eecf5565640b8c1": {
          "model_module": "@jupyter-widgets/controls",
          "model_module_version": "1.5.0",
          "model_name": "HTMLModel",
          "state": {
            "_dom_classes": [],
            "_model_module": "@jupyter-widgets/controls",
            "_model_module_version": "1.5.0",
            "_model_name": "HTMLModel",
            "_view_count": null,
            "_view_module": "@jupyter-widgets/controls",
            "_view_module_version": "1.5.0",
            "_view_name": "HTMLView",
            "description": "",
            "description_tooltip": null,
            "layout": "IPY_MODEL_c31f41db34974748a196e087a3af495a",
            "placeholder": "​",
            "style": "IPY_MODEL_b9aca91400344364b0dabd17700c26f1",
            "value": "pytorch_model.bin: 100%"
          }
        },
        "9273f11cceb84dbd93b4b4747fcda5a8": {
          "model_module": "@jupyter-widgets/controls",
          "model_module_version": "1.5.0",
          "model_name": "HBoxModel",
          "state": {
            "_dom_classes": [],
            "_model_module": "@jupyter-widgets/controls",
            "_model_module_version": "1.5.0",
            "_model_name": "HBoxModel",
            "_view_count": null,
            "_view_module": "@jupyter-widgets/controls",
            "_view_module_version": "1.5.0",
            "_view_name": "HBoxView",
            "box_style": "",
            "children": [
              "IPY_MODEL_98cd4aa2e6f94d3cafc6b9164a0fe8b3",
              "IPY_MODEL_75acc48ef30a49ceb78cfc663c834479",
              "IPY_MODEL_c60009926fa44a0683aae682c2261814"
            ],
            "layout": "IPY_MODEL_85bacff9a63b46f69ee92a2b15f078e6"
          }
        },
        "94638c908b1348c09acef7664e22f6d3": {
          "model_module": "@jupyter-widgets/controls",
          "model_module_version": "1.5.0",
          "model_name": "ProgressStyleModel",
          "state": {
            "_model_module": "@jupyter-widgets/controls",
            "_model_module_version": "1.5.0",
            "_model_name": "ProgressStyleModel",
            "_view_count": null,
            "_view_module": "@jupyter-widgets/base",
            "_view_module_version": "1.2.0",
            "_view_name": "StyleView",
            "bar_color": null,
            "description_width": ""
          }
        },
        "94b23dc688d14db5b8f7ef4e8020f7dd": {
          "model_module": "@jupyter-widgets/controls",
          "model_module_version": "1.5.0",
          "model_name": "HBoxModel",
          "state": {
            "_dom_classes": [],
            "_model_module": "@jupyter-widgets/controls",
            "_model_module_version": "1.5.0",
            "_model_name": "HBoxModel",
            "_view_count": null,
            "_view_module": "@jupyter-widgets/controls",
            "_view_module_version": "1.5.0",
            "_view_name": "HBoxView",
            "box_style": "",
            "children": [
              "IPY_MODEL_de7d3563876649c2be994ba7de611e3f",
              "IPY_MODEL_e35cbf80749d40e4b0eaa0cb3b14abb6",
              "IPY_MODEL_d9666119ad2a45f68f18e9ae89e3e8d8"
            ],
            "layout": "IPY_MODEL_ab925aff0dcb48a493ae86c97f3f46a4"
          }
        },
        "98cd4aa2e6f94d3cafc6b9164a0fe8b3": {
          "model_module": "@jupyter-widgets/controls",
          "model_module_version": "1.5.0",
          "model_name": "HTMLModel",
          "state": {
            "_dom_classes": [],
            "_model_module": "@jupyter-widgets/controls",
            "_model_module_version": "1.5.0",
            "_model_name": "HTMLModel",
            "_view_count": null,
            "_view_module": "@jupyter-widgets/controls",
            "_view_module_version": "1.5.0",
            "_view_name": "HTMLView",
            "description": "",
            "description_tooltip": null,
            "layout": "IPY_MODEL_f4499b2c77ce44d88ef3168b04fcf769",
            "placeholder": "​",
            "style": "IPY_MODEL_477a47044dd540e4a52a16e7ecb3d865",
            "value": "pytorch_model.bin: 100%"
          }
        },
        "9b655212934942399260324aa3dcdbaf": {
          "model_module": "@jupyter-widgets/base",
          "model_module_version": "1.2.0",
          "model_name": "LayoutModel",
          "state": {
            "_model_module": "@jupyter-widgets/base",
            "_model_module_version": "1.2.0",
            "_model_name": "LayoutModel",
            "_view_count": null,
            "_view_module": "@jupyter-widgets/base",
            "_view_module_version": "1.2.0",
            "_view_name": "LayoutView",
            "align_content": null,
            "align_items": null,
            "align_self": null,
            "border": null,
            "bottom": null,
            "display": null,
            "flex": null,
            "flex_flow": null,
            "grid_area": null,
            "grid_auto_columns": null,
            "grid_auto_flow": null,
            "grid_auto_rows": null,
            "grid_column": null,
            "grid_gap": null,
            "grid_row": null,
            "grid_template_areas": null,
            "grid_template_columns": null,
            "grid_template_rows": null,
            "height": null,
            "justify_content": null,
            "justify_items": null,
            "left": null,
            "margin": null,
            "max_height": null,
            "max_width": null,
            "min_height": null,
            "min_width": null,
            "object_fit": null,
            "object_position": null,
            "order": null,
            "overflow": null,
            "overflow_x": null,
            "overflow_y": null,
            "padding": null,
            "right": null,
            "top": null,
            "visibility": null,
            "width": null
          }
        },
        "a0769164bc7446059c98cd570c8c8e93": {
          "model_module": "@jupyter-widgets/controls",
          "model_module_version": "1.5.0",
          "model_name": "DescriptionStyleModel",
          "state": {
            "_model_module": "@jupyter-widgets/controls",
            "_model_module_version": "1.5.0",
            "_model_name": "DescriptionStyleModel",
            "_view_count": null,
            "_view_module": "@jupyter-widgets/base",
            "_view_module_version": "1.2.0",
            "_view_name": "StyleView",
            "description_width": ""
          }
        },
        "ab925aff0dcb48a493ae86c97f3f46a4": {
          "model_module": "@jupyter-widgets/base",
          "model_module_version": "1.2.0",
          "model_name": "LayoutModel",
          "state": {
            "_model_module": "@jupyter-widgets/base",
            "_model_module_version": "1.2.0",
            "_model_name": "LayoutModel",
            "_view_count": null,
            "_view_module": "@jupyter-widgets/base",
            "_view_module_version": "1.2.0",
            "_view_name": "LayoutView",
            "align_content": null,
            "align_items": null,
            "align_self": null,
            "border": null,
            "bottom": null,
            "display": null,
            "flex": null,
            "flex_flow": null,
            "grid_area": null,
            "grid_auto_columns": null,
            "grid_auto_flow": null,
            "grid_auto_rows": null,
            "grid_column": null,
            "grid_gap": null,
            "grid_row": null,
            "grid_template_areas": null,
            "grid_template_columns": null,
            "grid_template_rows": null,
            "height": null,
            "justify_content": null,
            "justify_items": null,
            "left": null,
            "margin": null,
            "max_height": null,
            "max_width": null,
            "min_height": null,
            "min_width": null,
            "object_fit": null,
            "object_position": null,
            "order": null,
            "overflow": null,
            "overflow_x": null,
            "overflow_y": null,
            "padding": null,
            "right": null,
            "top": null,
            "visibility": null,
            "width": null
          }
        },
        "b2f3765b6d27452ba585b781e4f885b6": {
          "model_module": "@jupyter-widgets/controls",
          "model_module_version": "1.5.0",
          "model_name": "FloatProgressModel",
          "state": {
            "_dom_classes": [],
            "_model_module": "@jupyter-widgets/controls",
            "_model_module_version": "1.5.0",
            "_model_name": "FloatProgressModel",
            "_view_count": null,
            "_view_module": "@jupyter-widgets/controls",
            "_view_module_version": "1.5.0",
            "_view_name": "ProgressView",
            "bar_style": "success",
            "description": "",
            "description_tooltip": null,
            "layout": "IPY_MODEL_cebbd79f5c41400e9f36c9114c74f116",
            "max": 9448200,
            "min": 0,
            "orientation": "horizontal",
            "style": "IPY_MODEL_67351b710ddf4db19937a37cd559fc0a",
            "value": 9448200
          }
        },
        "b56d5951cb6f4c59bef639b982a6d138": {
          "model_module": "@jupyter-widgets/controls",
          "model_module_version": "1.5.0",
          "model_name": "DescriptionStyleModel",
          "state": {
            "_model_module": "@jupyter-widgets/controls",
            "_model_module_version": "1.5.0",
            "_model_name": "DescriptionStyleModel",
            "_view_count": null,
            "_view_module": "@jupyter-widgets/base",
            "_view_module_version": "1.2.0",
            "_view_name": "StyleView",
            "description_width": ""
          }
        },
        "b9aca91400344364b0dabd17700c26f1": {
          "model_module": "@jupyter-widgets/controls",
          "model_module_version": "1.5.0",
          "model_name": "DescriptionStyleModel",
          "state": {
            "_model_module": "@jupyter-widgets/controls",
            "_model_module_version": "1.5.0",
            "_model_name": "DescriptionStyleModel",
            "_view_count": null,
            "_view_module": "@jupyter-widgets/base",
            "_view_module_version": "1.2.0",
            "_view_name": "StyleView",
            "description_width": ""
          }
        },
        "baec4d876c444ec887e948406f7436e7": {
          "model_module": "@jupyter-widgets/base",
          "model_module_version": "1.2.0",
          "model_name": "LayoutModel",
          "state": {
            "_model_module": "@jupyter-widgets/base",
            "_model_module_version": "1.2.0",
            "_model_name": "LayoutModel",
            "_view_count": null,
            "_view_module": "@jupyter-widgets/base",
            "_view_module_version": "1.2.0",
            "_view_name": "LayoutView",
            "align_content": null,
            "align_items": null,
            "align_self": null,
            "border": null,
            "bottom": null,
            "display": null,
            "flex": null,
            "flex_flow": null,
            "grid_area": null,
            "grid_auto_columns": null,
            "grid_auto_flow": null,
            "grid_auto_rows": null,
            "grid_column": null,
            "grid_gap": null,
            "grid_row": null,
            "grid_template_areas": null,
            "grid_template_columns": null,
            "grid_template_rows": null,
            "height": null,
            "justify_content": null,
            "justify_items": null,
            "left": null,
            "margin": null,
            "max_height": null,
            "max_width": null,
            "min_height": null,
            "min_width": null,
            "object_fit": null,
            "object_position": null,
            "order": null,
            "overflow": null,
            "overflow_x": null,
            "overflow_y": null,
            "padding": null,
            "right": null,
            "top": null,
            "visibility": null,
            "width": null
          }
        },
        "bd72a3427c784b9cb3172894444b7c5a": {
          "model_module": "@jupyter-widgets/controls",
          "model_module_version": "1.5.0",
          "model_name": "HTMLModel",
          "state": {
            "_dom_classes": [],
            "_model_module": "@jupyter-widgets/controls",
            "_model_module_version": "1.5.0",
            "_model_name": "HTMLModel",
            "_view_count": null,
            "_view_module": "@jupyter-widgets/controls",
            "_view_module_version": "1.5.0",
            "_view_name": "HTMLView",
            "description": "",
            "description_tooltip": null,
            "layout": "IPY_MODEL_f435bc8a784a4f3690213e8b3af34396",
            "placeholder": "​",
            "style": "IPY_MODEL_3d1fe701c453469e8cd9d521377399d0",
            "value": " 9.45M/9.45M [00:00&lt;00:00, 21.8MB/s]"
          }
        },
        "be4a4345499d4ebbb38d9d1e533c659b": {
          "model_module": "@jupyter-widgets/controls",
          "model_module_version": "1.5.0",
          "model_name": "FloatProgressModel",
          "state": {
            "_dom_classes": [],
            "_model_module": "@jupyter-widgets/controls",
            "_model_module_version": "1.5.0",
            "_model_name": "FloatProgressModel",
            "_view_count": null,
            "_view_module": "@jupyter-widgets/controls",
            "_view_module_version": "1.5.0",
            "_view_name": "ProgressView",
            "bar_style": "success",
            "description": "",
            "description_tooltip": null,
            "layout": "IPY_MODEL_21601d453cdf4a649fd00c1c7b8d0a3f",
            "max": 9448200,
            "min": 0,
            "orientation": "horizontal",
            "style": "IPY_MODEL_54dd72ccb0044ff48924fcc1d723f7b8",
            "value": 9448200
          }
        },
        "c31f41db34974748a196e087a3af495a": {
          "model_module": "@jupyter-widgets/base",
          "model_module_version": "1.2.0",
          "model_name": "LayoutModel",
          "state": {
            "_model_module": "@jupyter-widgets/base",
            "_model_module_version": "1.2.0",
            "_model_name": "LayoutModel",
            "_view_count": null,
            "_view_module": "@jupyter-widgets/base",
            "_view_module_version": "1.2.0",
            "_view_name": "LayoutView",
            "align_content": null,
            "align_items": null,
            "align_self": null,
            "border": null,
            "bottom": null,
            "display": null,
            "flex": null,
            "flex_flow": null,
            "grid_area": null,
            "grid_auto_columns": null,
            "grid_auto_flow": null,
            "grid_auto_rows": null,
            "grid_column": null,
            "grid_gap": null,
            "grid_row": null,
            "grid_template_areas": null,
            "grid_template_columns": null,
            "grid_template_rows": null,
            "height": null,
            "justify_content": null,
            "justify_items": null,
            "left": null,
            "margin": null,
            "max_height": null,
            "max_width": null,
            "min_height": null,
            "min_width": null,
            "object_fit": null,
            "object_position": null,
            "order": null,
            "overflow": null,
            "overflow_x": null,
            "overflow_y": null,
            "padding": null,
            "right": null,
            "top": null,
            "visibility": null,
            "width": null
          }
        },
        "c5bf7156120545b6884aa9a6fba0ce7a": {
          "model_module": "@jupyter-widgets/base",
          "model_module_version": "1.2.0",
          "model_name": "LayoutModel",
          "state": {
            "_model_module": "@jupyter-widgets/base",
            "_model_module_version": "1.2.0",
            "_model_name": "LayoutModel",
            "_view_count": null,
            "_view_module": "@jupyter-widgets/base",
            "_view_module_version": "1.2.0",
            "_view_name": "LayoutView",
            "align_content": null,
            "align_items": null,
            "align_self": null,
            "border": null,
            "bottom": null,
            "display": null,
            "flex": null,
            "flex_flow": null,
            "grid_area": null,
            "grid_auto_columns": null,
            "grid_auto_flow": null,
            "grid_auto_rows": null,
            "grid_column": null,
            "grid_gap": null,
            "grid_row": null,
            "grid_template_areas": null,
            "grid_template_columns": null,
            "grid_template_rows": null,
            "height": null,
            "justify_content": null,
            "justify_items": null,
            "left": null,
            "margin": null,
            "max_height": null,
            "max_width": null,
            "min_height": null,
            "min_width": null,
            "object_fit": null,
            "object_position": null,
            "order": null,
            "overflow": null,
            "overflow_x": null,
            "overflow_y": null,
            "padding": null,
            "right": null,
            "top": null,
            "visibility": null,
            "width": null
          }
        },
        "c60009926fa44a0683aae682c2261814": {
          "model_module": "@jupyter-widgets/controls",
          "model_module_version": "1.5.0",
          "model_name": "HTMLModel",
          "state": {
            "_dom_classes": [],
            "_model_module": "@jupyter-widgets/controls",
            "_model_module_version": "1.5.0",
            "_model_name": "HTMLModel",
            "_view_count": null,
            "_view_module": "@jupyter-widgets/controls",
            "_view_module_version": "1.5.0",
            "_view_name": "HTMLView",
            "description": "",
            "description_tooltip": null,
            "layout": "IPY_MODEL_dbf0f903449240c59e3392f0364ec720",
            "placeholder": "​",
            "style": "IPY_MODEL_83ad9dd932d04d60b975c38c7f38e70d",
            "value": " 9.45M/9.45M [00:00&lt;00:00, 91.6MB/s]"
          }
        },
        "c6a61782f0654dd38ea6733f8373936c": {
          "model_module": "@jupyter-widgets/controls",
          "model_module_version": "1.5.0",
          "model_name": "DescriptionStyleModel",
          "state": {
            "_model_module": "@jupyter-widgets/controls",
            "_model_module_version": "1.5.0",
            "_model_name": "DescriptionStyleModel",
            "_view_count": null,
            "_view_module": "@jupyter-widgets/base",
            "_view_module_version": "1.2.0",
            "_view_name": "StyleView",
            "description_width": ""
          }
        },
        "cebbd79f5c41400e9f36c9114c74f116": {
          "model_module": "@jupyter-widgets/base",
          "model_module_version": "1.2.0",
          "model_name": "LayoutModel",
          "state": {
            "_model_module": "@jupyter-widgets/base",
            "_model_module_version": "1.2.0",
            "_model_name": "LayoutModel",
            "_view_count": null,
            "_view_module": "@jupyter-widgets/base",
            "_view_module_version": "1.2.0",
            "_view_name": "LayoutView",
            "align_content": null,
            "align_items": null,
            "align_self": null,
            "border": null,
            "bottom": null,
            "display": null,
            "flex": null,
            "flex_flow": null,
            "grid_area": null,
            "grid_auto_columns": null,
            "grid_auto_flow": null,
            "grid_auto_rows": null,
            "grid_column": null,
            "grid_gap": null,
            "grid_row": null,
            "grid_template_areas": null,
            "grid_template_columns": null,
            "grid_template_rows": null,
            "height": null,
            "justify_content": null,
            "justify_items": null,
            "left": null,
            "margin": null,
            "max_height": null,
            "max_width": null,
            "min_height": null,
            "min_width": null,
            "object_fit": null,
            "object_position": null,
            "order": null,
            "overflow": null,
            "overflow_x": null,
            "overflow_y": null,
            "padding": null,
            "right": null,
            "top": null,
            "visibility": null,
            "width": null
          }
        },
        "d20912fc228b4440b0668dfb80660a39": {
          "model_module": "@jupyter-widgets/controls",
          "model_module_version": "1.5.0",
          "model_name": "HTMLModel",
          "state": {
            "_dom_classes": [],
            "_model_module": "@jupyter-widgets/controls",
            "_model_module_version": "1.5.0",
            "_model_name": "HTMLModel",
            "_view_count": null,
            "_view_module": "@jupyter-widgets/controls",
            "_view_module_version": "1.5.0",
            "_view_name": "HTMLView",
            "description": "",
            "description_tooltip": null,
            "layout": "IPY_MODEL_e5751a7e88054e86975798dcbcfe4e88",
            "placeholder": "​",
            "style": "IPY_MODEL_4db4cee6fd4b4f5a81b572bfc614a2dc",
            "value": "pytorch_model.bin: 100%"
          }
        },
        "d7cee7afe1864ea495e1163a31a2b785": {
          "model_module": "@jupyter-widgets/base",
          "model_module_version": "1.2.0",
          "model_name": "LayoutModel",
          "state": {
            "_model_module": "@jupyter-widgets/base",
            "_model_module_version": "1.2.0",
            "_model_name": "LayoutModel",
            "_view_count": null,
            "_view_module": "@jupyter-widgets/base",
            "_view_module_version": "1.2.0",
            "_view_name": "LayoutView",
            "align_content": null,
            "align_items": null,
            "align_self": null,
            "border": null,
            "bottom": null,
            "display": null,
            "flex": null,
            "flex_flow": null,
            "grid_area": null,
            "grid_auto_columns": null,
            "grid_auto_flow": null,
            "grid_auto_rows": null,
            "grid_column": null,
            "grid_gap": null,
            "grid_row": null,
            "grid_template_areas": null,
            "grid_template_columns": null,
            "grid_template_rows": null,
            "height": null,
            "justify_content": null,
            "justify_items": null,
            "left": null,
            "margin": null,
            "max_height": null,
            "max_width": null,
            "min_height": null,
            "min_width": null,
            "object_fit": null,
            "object_position": null,
            "order": null,
            "overflow": null,
            "overflow_x": null,
            "overflow_y": null,
            "padding": null,
            "right": null,
            "top": null,
            "visibility": null,
            "width": null
          }
        },
        "d80bf9addd3a44c992b8eae64db72713": {
          "model_module": "@jupyter-widgets/base",
          "model_module_version": "1.2.0",
          "model_name": "LayoutModel",
          "state": {
            "_model_module": "@jupyter-widgets/base",
            "_model_module_version": "1.2.0",
            "_model_name": "LayoutModel",
            "_view_count": null,
            "_view_module": "@jupyter-widgets/base",
            "_view_module_version": "1.2.0",
            "_view_name": "LayoutView",
            "align_content": null,
            "align_items": null,
            "align_self": null,
            "border": null,
            "bottom": null,
            "display": null,
            "flex": null,
            "flex_flow": null,
            "grid_area": null,
            "grid_auto_columns": null,
            "grid_auto_flow": null,
            "grid_auto_rows": null,
            "grid_column": null,
            "grid_gap": null,
            "grid_row": null,
            "grid_template_areas": null,
            "grid_template_columns": null,
            "grid_template_rows": null,
            "height": null,
            "justify_content": null,
            "justify_items": null,
            "left": null,
            "margin": null,
            "max_height": null,
            "max_width": null,
            "min_height": null,
            "min_width": null,
            "object_fit": null,
            "object_position": null,
            "order": null,
            "overflow": null,
            "overflow_x": null,
            "overflow_y": null,
            "padding": null,
            "right": null,
            "top": null,
            "visibility": null,
            "width": null
          }
        },
        "d9666119ad2a45f68f18e9ae89e3e8d8": {
          "model_module": "@jupyter-widgets/controls",
          "model_module_version": "1.5.0",
          "model_name": "HTMLModel",
          "state": {
            "_dom_classes": [],
            "_model_module": "@jupyter-widgets/controls",
            "_model_module_version": "1.5.0",
            "_model_name": "HTMLModel",
            "_view_count": null,
            "_view_module": "@jupyter-widgets/controls",
            "_view_module_version": "1.5.0",
            "_view_name": "HTMLView",
            "description": "",
            "description_tooltip": null,
            "layout": "IPY_MODEL_d7cee7afe1864ea495e1163a31a2b785",
            "placeholder": "​",
            "style": "IPY_MODEL_e7238a4dde1942fc9b9a2e75f6083529",
            "value": " 9.45M/9.45M [00:00&lt;00:00, 27.0MB/s]"
          }
        },
        "db48361cb6c5485b81a93a00a81aed9f": {
          "model_module": "@jupyter-widgets/controls",
          "model_module_version": "1.5.0",
          "model_name": "DescriptionStyleModel",
          "state": {
            "_model_module": "@jupyter-widgets/controls",
            "_model_module_version": "1.5.0",
            "_model_name": "DescriptionStyleModel",
            "_view_count": null,
            "_view_module": "@jupyter-widgets/base",
            "_view_module_version": "1.2.0",
            "_view_name": "StyleView",
            "description_width": ""
          }
        },
        "dbf0f903449240c59e3392f0364ec720": {
          "model_module": "@jupyter-widgets/base",
          "model_module_version": "1.2.0",
          "model_name": "LayoutModel",
          "state": {
            "_model_module": "@jupyter-widgets/base",
            "_model_module_version": "1.2.0",
            "_model_name": "LayoutModel",
            "_view_count": null,
            "_view_module": "@jupyter-widgets/base",
            "_view_module_version": "1.2.0",
            "_view_name": "LayoutView",
            "align_content": null,
            "align_items": null,
            "align_self": null,
            "border": null,
            "bottom": null,
            "display": null,
            "flex": null,
            "flex_flow": null,
            "grid_area": null,
            "grid_auto_columns": null,
            "grid_auto_flow": null,
            "grid_auto_rows": null,
            "grid_column": null,
            "grid_gap": null,
            "grid_row": null,
            "grid_template_areas": null,
            "grid_template_columns": null,
            "grid_template_rows": null,
            "height": null,
            "justify_content": null,
            "justify_items": null,
            "left": null,
            "margin": null,
            "max_height": null,
            "max_width": null,
            "min_height": null,
            "min_width": null,
            "object_fit": null,
            "object_position": null,
            "order": null,
            "overflow": null,
            "overflow_x": null,
            "overflow_y": null,
            "padding": null,
            "right": null,
            "top": null,
            "visibility": null,
            "width": null
          }
        },
        "dc9e73c1766047ae90debc789df530fc": {
          "model_module": "@jupyter-widgets/controls",
          "model_module_version": "1.5.0",
          "model_name": "HBoxModel",
          "state": {
            "_dom_classes": [],
            "_model_module": "@jupyter-widgets/controls",
            "_model_module_version": "1.5.0",
            "_model_name": "HBoxModel",
            "_view_count": null,
            "_view_module": "@jupyter-widgets/controls",
            "_view_module_version": "1.5.0",
            "_view_name": "HBoxView",
            "box_style": "",
            "children": [
              "IPY_MODEL_d20912fc228b4440b0668dfb80660a39",
              "IPY_MODEL_be4a4345499d4ebbb38d9d1e533c659b",
              "IPY_MODEL_bd72a3427c784b9cb3172894444b7c5a"
            ],
            "layout": "IPY_MODEL_04d220aa863e47668eb8871d4d3616ce"
          }
        },
        "de7d3563876649c2be994ba7de611e3f": {
          "model_module": "@jupyter-widgets/controls",
          "model_module_version": "1.5.0",
          "model_name": "HTMLModel",
          "state": {
            "_dom_classes": [],
            "_model_module": "@jupyter-widgets/controls",
            "_model_module_version": "1.5.0",
            "_model_name": "HTMLModel",
            "_view_count": null,
            "_view_module": "@jupyter-widgets/controls",
            "_view_module_version": "1.5.0",
            "_view_name": "HTMLView",
            "description": "",
            "description_tooltip": null,
            "layout": "IPY_MODEL_baec4d876c444ec887e948406f7436e7",
            "placeholder": "​",
            "style": "IPY_MODEL_b56d5951cb6f4c59bef639b982a6d138",
            "value": "pytorch_model.bin: 100%"
          }
        },
        "e35cbf80749d40e4b0eaa0cb3b14abb6": {
          "model_module": "@jupyter-widgets/controls",
          "model_module_version": "1.5.0",
          "model_name": "FloatProgressModel",
          "state": {
            "_dom_classes": [],
            "_model_module": "@jupyter-widgets/controls",
            "_model_module_version": "1.5.0",
            "_model_name": "FloatProgressModel",
            "_view_count": null,
            "_view_module": "@jupyter-widgets/controls",
            "_view_module_version": "1.5.0",
            "_view_name": "ProgressView",
            "bar_style": "success",
            "description": "",
            "description_tooltip": null,
            "layout": "IPY_MODEL_c5bf7156120545b6884aa9a6fba0ce7a",
            "max": 9448200,
            "min": 0,
            "orientation": "horizontal",
            "style": "IPY_MODEL_94638c908b1348c09acef7664e22f6d3",
            "value": 9448200
          }
        },
        "e5751a7e88054e86975798dcbcfe4e88": {
          "model_module": "@jupyter-widgets/base",
          "model_module_version": "1.2.0",
          "model_name": "LayoutModel",
          "state": {
            "_model_module": "@jupyter-widgets/base",
            "_model_module_version": "1.2.0",
            "_model_name": "LayoutModel",
            "_view_count": null,
            "_view_module": "@jupyter-widgets/base",
            "_view_module_version": "1.2.0",
            "_view_name": "LayoutView",
            "align_content": null,
            "align_items": null,
            "align_self": null,
            "border": null,
            "bottom": null,
            "display": null,
            "flex": null,
            "flex_flow": null,
            "grid_area": null,
            "grid_auto_columns": null,
            "grid_auto_flow": null,
            "grid_auto_rows": null,
            "grid_column": null,
            "grid_gap": null,
            "grid_row": null,
            "grid_template_areas": null,
            "grid_template_columns": null,
            "grid_template_rows": null,
            "height": null,
            "justify_content": null,
            "justify_items": null,
            "left": null,
            "margin": null,
            "max_height": null,
            "max_width": null,
            "min_height": null,
            "min_width": null,
            "object_fit": null,
            "object_position": null,
            "order": null,
            "overflow": null,
            "overflow_x": null,
            "overflow_y": null,
            "padding": null,
            "right": null,
            "top": null,
            "visibility": null,
            "width": null
          }
        },
        "e7238a4dde1942fc9b9a2e75f6083529": {
          "model_module": "@jupyter-widgets/controls",
          "model_module_version": "1.5.0",
          "model_name": "DescriptionStyleModel",
          "state": {
            "_model_module": "@jupyter-widgets/controls",
            "_model_module_version": "1.5.0",
            "_model_name": "DescriptionStyleModel",
            "_view_count": null,
            "_view_module": "@jupyter-widgets/base",
            "_view_module_version": "1.2.0",
            "_view_name": "StyleView",
            "description_width": ""
          }
        },
        "ed2067f5eb124406a7966e6a7f3a6f53": {
          "model_module": "@jupyter-widgets/controls",
          "model_module_version": "1.5.0",
          "model_name": "HTMLModel",
          "state": {
            "_dom_classes": [],
            "_model_module": "@jupyter-widgets/controls",
            "_model_module_version": "1.5.0",
            "_model_name": "HTMLModel",
            "_view_count": null,
            "_view_module": "@jupyter-widgets/controls",
            "_view_module_version": "1.5.0",
            "_view_name": "HTMLView",
            "description": "",
            "description_tooltip": null,
            "layout": "IPY_MODEL_21f45e67f75449d782005710d246a540",
            "placeholder": "​",
            "style": "IPY_MODEL_fd06fc02e8494fe6aa16ee2c22a2fd12",
            "value": "pytorch_model.bin: 100%"
          }
        },
        "f435bc8a784a4f3690213e8b3af34396": {
          "model_module": "@jupyter-widgets/base",
          "model_module_version": "1.2.0",
          "model_name": "LayoutModel",
          "state": {
            "_model_module": "@jupyter-widgets/base",
            "_model_module_version": "1.2.0",
            "_model_name": "LayoutModel",
            "_view_count": null,
            "_view_module": "@jupyter-widgets/base",
            "_view_module_version": "1.2.0",
            "_view_name": "LayoutView",
            "align_content": null,
            "align_items": null,
            "align_self": null,
            "border": null,
            "bottom": null,
            "display": null,
            "flex": null,
            "flex_flow": null,
            "grid_area": null,
            "grid_auto_columns": null,
            "grid_auto_flow": null,
            "grid_auto_rows": null,
            "grid_column": null,
            "grid_gap": null,
            "grid_row": null,
            "grid_template_areas": null,
            "grid_template_columns": null,
            "grid_template_rows": null,
            "height": null,
            "justify_content": null,
            "justify_items": null,
            "left": null,
            "margin": null,
            "max_height": null,
            "max_width": null,
            "min_height": null,
            "min_width": null,
            "object_fit": null,
            "object_position": null,
            "order": null,
            "overflow": null,
            "overflow_x": null,
            "overflow_y": null,
            "padding": null,
            "right": null,
            "top": null,
            "visibility": null,
            "width": null
          }
        },
        "f4499b2c77ce44d88ef3168b04fcf769": {
          "model_module": "@jupyter-widgets/base",
          "model_module_version": "1.2.0",
          "model_name": "LayoutModel",
          "state": {
            "_model_module": "@jupyter-widgets/base",
            "_model_module_version": "1.2.0",
            "_model_name": "LayoutModel",
            "_view_count": null,
            "_view_module": "@jupyter-widgets/base",
            "_view_module_version": "1.2.0",
            "_view_name": "LayoutView",
            "align_content": null,
            "align_items": null,
            "align_self": null,
            "border": null,
            "bottom": null,
            "display": null,
            "flex": null,
            "flex_flow": null,
            "grid_area": null,
            "grid_auto_columns": null,
            "grid_auto_flow": null,
            "grid_auto_rows": null,
            "grid_column": null,
            "grid_gap": null,
            "grid_row": null,
            "grid_template_areas": null,
            "grid_template_columns": null,
            "grid_template_rows": null,
            "height": null,
            "justify_content": null,
            "justify_items": null,
            "left": null,
            "margin": null,
            "max_height": null,
            "max_width": null,
            "min_height": null,
            "min_width": null,
            "object_fit": null,
            "object_position": null,
            "order": null,
            "overflow": null,
            "overflow_x": null,
            "overflow_y": null,
            "padding": null,
            "right": null,
            "top": null,
            "visibility": null,
            "width": null
          }
        },
        "f54bc48045be45b5b2b7d85a95e67733": {
          "model_module": "@jupyter-widgets/controls",
          "model_module_version": "1.5.0",
          "model_name": "ProgressStyleModel",
          "state": {
            "_model_module": "@jupyter-widgets/controls",
            "_model_module_version": "1.5.0",
            "_model_name": "ProgressStyleModel",
            "_view_count": null,
            "_view_module": "@jupyter-widgets/base",
            "_view_module_version": "1.2.0",
            "_view_name": "StyleView",
            "bar_color": null,
            "description_width": ""
          }
        },
        "fd06fc02e8494fe6aa16ee2c22a2fd12": {
          "model_module": "@jupyter-widgets/controls",
          "model_module_version": "1.5.0",
          "model_name": "DescriptionStyleModel",
          "state": {
            "_model_module": "@jupyter-widgets/controls",
            "_model_module_version": "1.5.0",
            "_model_name": "DescriptionStyleModel",
            "_view_count": null,
            "_view_module": "@jupyter-widgets/base",
            "_view_module_version": "1.2.0",
            "_view_name": "StyleView",
            "description_width": ""
          }
        },
        "fd3e8596ceea44328cb014e659033a62": {
          "model_module": "@jupyter-widgets/base",
          "model_module_version": "1.2.0",
          "model_name": "LayoutModel",
          "state": {
            "_model_module": "@jupyter-widgets/base",
            "_model_module_version": "1.2.0",
            "_model_name": "LayoutModel",
            "_view_count": null,
            "_view_module": "@jupyter-widgets/base",
            "_view_module_version": "1.2.0",
            "_view_name": "LayoutView",
            "align_content": null,
            "align_items": null,
            "align_self": null,
            "border": null,
            "bottom": null,
            "display": null,
            "flex": null,
            "flex_flow": null,
            "grid_area": null,
            "grid_auto_columns": null,
            "grid_auto_flow": null,
            "grid_auto_rows": null,
            "grid_column": null,
            "grid_gap": null,
            "grid_row": null,
            "grid_template_areas": null,
            "grid_template_columns": null,
            "grid_template_rows": null,
            "height": null,
            "justify_content": null,
            "justify_items": null,
            "left": null,
            "margin": null,
            "max_height": null,
            "max_width": null,
            "min_height": null,
            "min_width": null,
            "object_fit": null,
            "object_position": null,
            "order": null,
            "overflow": null,
            "overflow_x": null,
            "overflow_y": null,
            "padding": null,
            "right": null,
            "top": null,
            "visibility": null,
            "width": null
          }
        }
      }
    }
  },
  "nbformat": 4,
  "nbformat_minor": 0
}